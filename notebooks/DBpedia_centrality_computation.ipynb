{
 "cells": [
  {
   "cell_type": "markdown",
   "metadata": {},
   "source": [
    "# Compute Graph Centrality Measures\n",
    "\n",
    "Takes DBpedia data and compute Graph Centrality Measures. In order to recreate the data, the \"Instance-types\" and \"Mappingbased-objects\" listed below need to be downloaded first.\n",
    "- Both are accessable via the following link: https://downloads.dbpedia.org/repo/dbpedia/mappings/\n",
    "- Before executing, the files need to be merged into one, for instance by concatenating them in the shell like:\n",
    "    - cat mappingbased-objects_lang=en.ttl instance-types_lang=en_specific.ttl > mappingbased-objects_instance-types.ttl"
   ]
  },
  {
   "cell_type": "code",
   "execution_count": 3,
   "metadata": {},
   "outputs": [
    {
     "name": "stdout",
     "output_type": "stream",
     "text": [
      "------------\n",
      "Python 3.7.6\n",
      "Pandas 1.3.4\n",
      "Numpy 1.18.1\n",
      "Networkx 2.4\n",
      "iGraph 0.9.11\n",
      "------------\n",
      "All packages loaded and ready to roll :-)\n"
     ]
    }
   ],
   "source": [
    "# Instance types\n",
    "# Version: 2021.12.01/ 24-Jan-2022 00:21\n",
    "# Specific: 24-Jan-2022 00:20            44905249\n",
    "# Transitive: 24-Jan-2022 00:20           145896226\n",
    "\n",
    "# Mapping based objects\n",
    "# Version: 2021.12.01/ 21-Apr-2022 23:33\n",
    "# 24-Jan-2022 00:34           184053203\n",
    "\n",
    "# Category data\n",
    "# https://databus.dbpedia.org/dbpedia/collections/dbpedia-snapshot-2021-12\n",
    "# Version: 2021.12.01\n",
    "\n",
    "# Importing packages\n",
    "import pandas as pd\n",
    "import numpy as np\n",
    "import matplotlib.pyplot as plt\n",
    "import networkx as nx\n",
    "from networkx import Graph as NXGraph\n",
    "import igraph as ig\n",
    "from igraph import Graph as iGraph\n",
    "from rdflib import Graph as RDFGraph\n",
    "from rdflib.extras.external_graph_libs import rdflib_to_networkx_graph\n",
    "import csv\n",
    "import statistics\n",
    "import collections\n",
    "\n",
    "#import danker # https://github.com/athalhammer/danker\n",
    "from scipy import stats\n",
    "from urllib import parse\n",
    "\n",
    "import mlnotify # https://github.com/aporia-ai/mlnotify\n",
    "# Use %%notify at beginning of cell\n",
    "\n",
    "import os.path, time\n",
    "# Use %%time at beginning of cell\n",
    "\n",
    "print('------------')\n",
    "!python --version\n",
    "print(\"Pandas \" + pd.__version__)\n",
    "print(\"Numpy \" + np.__version__)\n",
    "print(\"Networkx \" + nx.__version__)\n",
    "print(\"iGraph \" + ig.__version__)\n",
    "print('------------')\n",
    "print(\"All packages loaded and ready to roll :-)\")"
   ]
  },
  {
   "cell_type": "code",
   "execution_count": 4,
   "metadata": {},
   "outputs": [],
   "source": [
    "# Function for displaying the first X rows of triples in a rdf graph\n",
    "\n",
    "def showXGraph(graph, rows):\n",
    "    for index, (sub, pred, obj) in enumerate (graph):\n",
    "        print(sub, pred, obj)\n",
    "        print(\"------------------\")\n",
    "        if index == rows:\n",
    "            break\n",
    "            \n",
    "            \n",
    "# Function for calculating the mean\n",
    "\n",
    "def mean(numbers):  \n",
    "    return float(sum(numbers)) / max(len(numbers), 1)\n",
    "\n",
    "\n",
    "# Function for calculating the number of pendandts of the NetworkX graph\n",
    "  # pendant = terminal nodes that end the graph (equals the number of nodes with degree 1)\n",
    "    \n",
    "def number_of_pendants(g):\n",
    "    pendants = 0\n",
    "    for u in g:\n",
    "        if g.degree[u] == 1:\n",
    "            pendants += 1  \n",
    "    return pendants"
   ]
  },
  {
   "cell_type": "code",
   "execution_count": 5,
   "metadata": {},
   "outputs": [
    {
     "name": "stdout",
     "output_type": "stream",
     "text": [
      "\n",
      "TIME\n",
      "============\n",
      "CPU times: user 442 µs, sys: 445 µs, total: 887 µs\n",
      "Wall time: 805 µs\n"
     ]
    }
   ],
   "source": [
    "%%time\n",
    "#%%notify\n",
    "\n",
    "# RDF graph loading for \"mapping based objects x instance types\"\n",
    "# takes around 40-60 min to load on the DWS Server (tested on dws-01/dws-02)\n",
    "\n",
    "path_ttl = \"../data/DBpedia_databus/mappingbased-objects_instance-types.ttl\" #insert path to the concated DBpedia turtle file\n",
    "g1 = RDFGraph()\n",
    "g1.parse(path_ttl, format='turtle')\n",
    "print(\"RDFLib Graph loaded successfully with {} triples\".format(len(g1)))\n",
    "\n",
    "# Output: RDFLib Graph loaded successfully with 29489019 triples\n",
    "\n",
    "\n",
    "print()\n",
    "print(\"TIME\")\n",
    "print(\"============\")"
   ]
  },
  {
   "cell_type": "code",
   "execution_count": 4,
   "metadata": {},
   "outputs": [
    {
     "name": "stdout",
     "output_type": "stream",
     "text": [
      "http://dbpedia.org/resource/2021–22_A.S._Roma_season__Matías_Viña__1 http://dbpedia.org/ontology/position http://dbpedia.org/resource/Defender_(association_football)\n",
      "------------------\n",
      "http://dbpedia.org/resource/Mick_Lawlor_(footballer) http://dbpedia.org/ontology/team http://dbpedia.org/resource/League_of_Ireland_XI\n",
      "------------------\n",
      "http://dbpedia.org/resource/Maurice_Banide http://dbpedia.org/ontology/careerStation http://dbpedia.org/resource/Maurice_Banide__CareerStation__1\n",
      "------------------\n",
      "http://dbpedia.org/resource/Gulab_Mohanlal_Hiranandani http://www.w3.org/1999/02/22-rdf-syntax-ns#type http://dbpedia.org/ontology/MilitaryPerson\n",
      "------------------\n",
      "http://dbpedia.org/resource/2021–22_AaB_season http://dbpedia.org/ontology/manager http://dbpedia.org/resource/Martí_Cifuentes\n",
      "------------------\n",
      "http://dbpedia.org/resource/Matthew_Otten__CareerStation__5 http://dbpedia.org/ontology/team http://dbpedia.org/resource/Mersey_Tigers\n",
      "------------------\n",
      "http://dbpedia.org/resource/Peter_Larsson_(footballer,_born_1961) http://dbpedia.org/ontology/careerStation http://dbpedia.org/resource/Peter_Larsson_(footballer,_born_1961)__CareerStation__1\n",
      "------------------\n",
      "http://dbpedia.org/resource/Umut_Oran__Tenure__1 http://dbpedia.org/ontology/predecessor http://dbpedia.org/resource/Kemal_Kılıçdaroğlu\n",
      "------------------\n",
      "http://dbpedia.org/resource/Leandro_Santos__CareerStation__16 http://www.w3.org/1999/02/22-rdf-syntax-ns#type http://dbpedia.org/ontology/CareerStation\n",
      "------------------\n",
      "http://dbpedia.org/resource/Michael_Scherer__PersonFunction__1 http://www.w3.org/1999/02/22-rdf-syntax-ns#type http://dbpedia.org/ontology/PersonFunction\n",
      "------------------\n",
      "http://dbpedia.org/resource/Tommy_Mitchell__CareerStation__1 http://www.w3.org/1999/02/22-rdf-syntax-ns#type http://dbpedia.org/ontology/CareerStation\n",
      "------------------\n"
     ]
    }
   ],
   "source": [
    "showXGraph(g1, 10)"
   ]
  },
  {
   "cell_type": "markdown",
   "metadata": {},
   "source": [
    "### Network Analysis in NetworkX"
   ]
  },
  {
   "cell_type": "code",
   "execution_count": 5,
   "metadata": {},
   "outputs": [
    {
     "name": "stdout",
     "output_type": "stream",
     "text": [
      "NetworkX Graph loaded successfully with length 8243333\n",
      "\n",
      "TIME\n",
      "============\n",
      "CPU times: user 7min 12s, sys: 1min 2s, total: 8min 14s\n",
      "Wall time: 8min 15s\n"
     ]
    }
   ],
   "source": [
    "%%time\n",
    "#%%notify\n",
    "\n",
    "# Transform rdflib graph into a networkx graph\n",
    "# takes around 10-20 min to transform\n",
    "\n",
    "G = rdflib_to_networkx_graph(g1)\n",
    "print(\"NetworkX Graph loaded successfully with length {}\".format(len(G)))\n",
    "\n",
    "# Output: NetworkX Graph loaded successfully with length 8243333\n",
    "\n",
    "print()\n",
    "print(\"TIME\")\n",
    "print(\"============\")"
   ]
  },
  {
   "cell_type": "code",
   "execution_count": 6,
   "metadata": {},
   "outputs": [
    {
     "name": "stdout",
     "output_type": "stream",
     "text": [
      "NETWORK SIZE\n",
      "============\n",
      "The network has 8243333 nodes and 28263172 edges\n",
      "\n",
      "PENDANTS\n",
      "============\n",
      "The network has 1693880 pendants\n",
      "\n",
      "DENSITY\n",
      "============\n",
      "The network density is 8.318504610951633e-07\n",
      "\n",
      "DIRECTED\n",
      "============\n",
      "The network direction is False\n",
      "\n",
      "CONNECTIVITY\n",
      "============\n",
      "The network connectivity is 0\n",
      "\n",
      "CPU times: user 2min 1s, sys: 17.5 s, total: 2min 18s\n",
      "Wall time: 2min 18s\n"
     ]
    }
   ],
   "source": [
    "%%time\n",
    "\n",
    "# Analysis\n",
    "\n",
    "# Network size\n",
    "print(\"NETWORK SIZE\")\n",
    "print(\"============\")\n",
    "print(\"The network has {} nodes and {} edges\".format(G.number_of_nodes(), G.number_of_edges()))\n",
    "print()\n",
    "\n",
    "# Pendants\n",
    "print(\"PENDANTS\")\n",
    "print(\"============\")\n",
    "print(\"The network has {} pendants\".format(number_of_pendants(G)))\n",
    "print()\n",
    "\n",
    "# Density\n",
    "print(\"DENSITY\")\n",
    "print(\"============\")\n",
    "print(\"The network density is {}\".format(nx.density(G)))\n",
    "print()\n",
    "\n",
    "# Network direction\n",
    "print(\"DIRECTED\")\n",
    "print(\"============\")\n",
    "print(\"The network direction is {}\".format(nx.is_directed(G)))\n",
    "print() # --> The network direction is False\n",
    "\n",
    "# Connectivity\n",
    "print(\"CONNECTIVITY\")\n",
    "print(\"============\")\n",
    "print(\"The network connectivity is {}\".format(nx.node_connectivity(G)))\n",
    "print() # --> The network connectivity is False\n",
    "\n",
    "\n",
    "# Output\n",
    "\n",
    "#NETWORK SIZE\n",
    "#============\n",
    "#The network has 8243333 nodes and 28263172 edges\n",
    "\n",
    "#PENDANTS\n",
    "#============\n",
    "#The network has 1693880 pendants\n",
    "\n",
    "#DENSITY\n",
    "#============\n",
    "#The network density is 8.318504610951633e-07\n",
    "\n",
    "#CONNECTIVITY\n",
    "#============\n",
    "#The network connectivity is 0"
   ]
  },
  {
   "cell_type": "code",
   "execution_count": 7,
   "metadata": {},
   "outputs": [
    {
     "name": "stdout",
     "output_type": "stream",
     "text": [
      "DEGREE CENTRALITY\n",
      "=================\n",
      "The mean degree centrality is 8.318504610137952e-07, with stdev 8.382745147113584e-05\n",
      "The maximum node is http://dbpedia.org/ontology/CareerStation, with value 0.19711446779045175\n",
      "The minimum node is http://dbpedia.org/resource/Presbyterian_Church_in_the_United_States, with value 1.213101692373909e-07\n",
      "\n",
      "CPU times: user 42.6 s, sys: 3.98 s, total: 46.6 s\n",
      "Wall time: 46.6 s\n"
     ]
    }
   ],
   "source": [
    "%%time\n",
    "\n",
    "# Compute NetworkX degree centrality\n",
    "  # takes less than 1 min\n",
    "\n",
    "\n",
    "#mean and stdev\n",
    "dc = nx.degree_centrality(G)\n",
    "degreesDC = []\n",
    "for k,v in dc.items():\n",
    "    degreesDC.append(v)\n",
    "    \n",
    "print(\"DEGREE CENTRALITY\")\n",
    "print(\"=================\")\n",
    "print(\"The mean degree centrality is {}, with stdev {}\".format(mean(degreesDC), statistics.stdev(degreesDC)))\n",
    "print(\"The maximum node is {}, with value {}\".format(max(dc, key=dc.get), max(dc.values())))\n",
    "print(\"The minimum node is {}, with value {}\".format(min(dc, key=dc.get), min(dc.values())))\n",
    "print()\n",
    "\n",
    "\n",
    "# Output\n",
    "\n",
    "#DEGREE CENTRALITY\n",
    "#=================\n",
    "#The mean degree centrality is 8.318504610137836e-07, with stdev 8.382745147113584e-05\n",
    "#The maximum node is http://dbpedia.org/ontology/CareerStation, with value 0.19711446779045175\n",
    "#The minimum node is http://dbpedia.org/resource/Royal_College_of_Dentists_of_Canada, with value 1.213101692373909e-07"
   ]
  },
  {
   "cell_type": "code",
   "execution_count": null,
   "metadata": {},
   "outputs": [],
   "source": [
    "# Compute NetworkX connected components\n",
    "\n",
    "cc = list(nx.connected_components(G))\n",
    "print(\"CONNECTED COMPONENTS\")\n",
    "print(\"====================\")\n",
    "print(\"The graph has {} connected components\".format(len(cc)))\n",
    "for i,c in enumerate(cc):\n",
    "    print(\"Connected component {} has {} nodes\".format(i,len(c)))\n",
    "print()\n",
    "\n",
    "\n",
    "# Output\n",
    "\n",
    "#CONNECTED COMPONENTS\n",
    "#====================\n",
    "#The graph has 2 connected components\n",
    "#Connected component 0 has 8242958 nodes\n",
    "#Connected component 1 has 375 nodes"
   ]
  },
  {
   "cell_type": "code",
   "execution_count": 8,
   "metadata": {},
   "outputs": [
    {
     "name": "stdout",
     "output_type": "stream",
     "text": [
      "PageRank CENTRALITY\n",
      "======================\n",
      "The mean PageRank is 1.213101545217515e-07, with stdev 2.8733452386546505e-05\n",
      "The maximum node is http://dbpedia.org/ontology/CareerStation, with value 0.05681936003548549\n",
      "The minimum node is http://dbpedia.org/resource/Sept_haïkaï, with value 1.8196678183366034e-08\n",
      "\n",
      "CPU times: user 6min 15s, sys: 53.1 s, total: 7min 8s\n",
      "Wall time: 7min 8s\n"
     ]
    }
   ],
   "source": [
    "%%time\n",
    "\n",
    "# Compute NetworkX PageRank\n",
    "  # takes around 5-7 min\n",
    "\n",
    "pr = nx.pagerank(G, alpha=0.85) #default value for alpha = 0.85\n",
    "degreesPR = []\n",
    "for k,v in pr.items():\n",
    "    degreesPR.append(v)\n",
    "print(\"PageRank CENTRALITY\")\n",
    "print(\"======================\")\n",
    "print(\"The mean PageRank is {}, with stdev {}\".format(mean(degreesPR), statistics.stdev(degreesPR)))\n",
    "print(\"The maximum node is {}, with value {}\".format(max(pr, key=pr.get), max(pr.values())))\n",
    "print(\"The minimum node is {}, with value {}\".format(min(pr, key=pr.get), min(pr.values())))\n",
    "#histogram(pagerank)\n",
    "print()\n",
    "\n",
    "\n",
    "# Output\n",
    "\n",
    "#PageRank CENTRALITY\n",
    "#======================\n",
    "#The mean PageRank is 1.2131015452175617e-07, with stdev 2.8733452386547328e-05\n",
    "#The maximum node is http://dbpedia.org/ontology/CareerStation, with value 0.056819360035487425\n",
    "#The minimum node is http://dbpedia.org/resource/Old_Tom_(killer_whale), with value 1.8196678183366034e-08"
   ]
  },
  {
   "cell_type": "code",
   "execution_count": 13,
   "metadata": {},
   "outputs": [
    {
     "data": {
      "text/html": [
       "<div>\n",
       "<style scoped>\n",
       "    .dataframe tbody tr th:only-of-type {\n",
       "        vertical-align: middle;\n",
       "    }\n",
       "\n",
       "    .dataframe tbody tr th {\n",
       "        vertical-align: top;\n",
       "    }\n",
       "\n",
       "    .dataframe thead th {\n",
       "        text-align: right;\n",
       "    }\n",
       "</style>\n",
       "<table border=\"1\" class=\"dataframe\">\n",
       "  <thead>\n",
       "    <tr style=\"text-align: right;\">\n",
       "      <th></th>\n",
       "      <th>degree</th>\n",
       "      <th>pagerank</th>\n",
       "    </tr>\n",
       "    <tr>\n",
       "      <th>resource</th>\n",
       "      <th></th>\n",
       "      <th></th>\n",
       "    </tr>\n",
       "  </thead>\n",
       "  <tbody>\n",
       "    <tr>\n",
       "      <th>http://dbpedia.org/resource/2021–22_A.S._Roma_season__Matías_Viña__1</th>\n",
       "      <td>3.639305e-07</td>\n",
       "      <td>2.392686e-08</td>\n",
       "    </tr>\n",
       "    <tr>\n",
       "      <th>http://dbpedia.org/resource/Defender_(association_football)</th>\n",
       "      <td>7.996645e-03</td>\n",
       "      <td>7.201337e-04</td>\n",
       "    </tr>\n",
       "    <tr>\n",
       "      <th>http://dbpedia.org/resource/Mick_Lawlor_(footballer)</th>\n",
       "      <td>3.154064e-06</td>\n",
       "      <td>4.681092e-07</td>\n",
       "    </tr>\n",
       "    <tr>\n",
       "      <th>http://dbpedia.org/resource/League_of_Ireland_XI</th>\n",
       "      <td>4.585524e-05</td>\n",
       "      <td>7.535209e-06</td>\n",
       "    </tr>\n",
       "    <tr>\n",
       "      <th>http://dbpedia.org/resource/Maurice_Banide</th>\n",
       "      <td>1.940963e-06</td>\n",
       "      <td>2.318505e-07</td>\n",
       "    </tr>\n",
       "  </tbody>\n",
       "</table>\n",
       "</div>"
      ],
      "text/plain": [
       "                                                          degree      pagerank\n",
       "resource                                                                      \n",
       "http://dbpedia.org/resource/2021–22_A.S._Roma_s...  3.639305e-07  2.392686e-08\n",
       "http://dbpedia.org/resource/Defender_(associati...  7.996645e-03  7.201337e-04\n",
       "http://dbpedia.org/resource/Mick_Lawlor_(footba...  3.154064e-06  4.681092e-07\n",
       "http://dbpedia.org/resource/League_of_Ireland_XI    4.585524e-05  7.535209e-06\n",
       "http://dbpedia.org/resource/Maurice_Banide          1.940963e-06  2.318505e-07"
      ]
     },
     "execution_count": 13,
     "metadata": {},
     "output_type": "execute_result"
    }
   ],
   "source": [
    "# Write the computed NetworkX GCMs to a .csv-file\n",
    "\n",
    "df_nx_gcm = pd.DataFrame(dict(\n",
    "    degree = dc,\n",
    "    #eigenvector = eigenvector_centrality,\n",
    "    pagerank = pr\n",
    "))\n",
    "\n",
    "df_nx_gcm.index.name='resource'\n",
    "df_nx_gcm.to_csv('../data/gcm_computed/nx-gcm.csv') # optionally change path to your folder structure\n",
    "df_nx_gcm.head()"
   ]
  },
  {
   "cell_type": "code",
   "execution_count": 14,
   "metadata": {},
   "outputs": [
    {
     "name": "stdout",
     "output_type": "stream",
     "text": [
      "Data types:\n",
      "degree      float64\n",
      "pagerank    float64\n",
      "dtype: object\n",
      "----------------------\n",
      "Memory usage:\n",
      "Index       1201448499\n",
      "degree        65946664\n",
      "pagerank      65946664\n",
      "dtype: int64\n",
      "----------------------\n",
      "16486666\n"
     ]
    }
   ],
   "source": [
    "print(\"Data types:\")\n",
    "print(df_nx_gcm.dtypes)\n",
    "print('----------------------')\n",
    "print(\"Memory usage:\")\n",
    "print(df_nx_gcm.memory_usage(deep=True))\n",
    "print('----------------------')\n",
    "print(df_nx_gcm.size)"
   ]
  },
  {
   "cell_type": "code",
   "execution_count": 15,
   "metadata": {},
   "outputs": [
    {
     "name": "stdout",
     "output_type": "stream",
     "text": [
      "Dataframe shape is (8243333, 2)\n",
      "======================\n",
      "Degree Centrality Kurtosis: 3845700.69263639\n",
      "Degree Centrality Skewness: 1758.647695035311\n",
      "======================\n",
      "PageRank Kurtosis: 2944428.0604075748\n",
      "PageRank Skewness: 1628.0911779681292\n"
     ]
    }
   ],
   "source": [
    "print(\"Dataframe shape is {}\".format(df_nx_gcm.shape))\n",
    "print(\"======================\")\n",
    "\n",
    "print(\"Degree Centrality Kurtosis: %s\" % stats.kurtosis(df_nx_gcm['degree']))\n",
    "print(\"Degree Centrality Skewness: %s\" % stats.skew(df_nx_gcm['degree']))\n",
    "print(\"======================\")\n",
    "\n",
    "print(\"PageRank Kurtosis: %s\" % stats.kurtosis(df_nx_gcm['pagerank']))\n",
    "print(\"PageRank Skewness: %s\" % stats.skew(df_nx_gcm['pagerank']))"
   ]
  },
  {
   "cell_type": "markdown",
   "metadata": {},
   "source": [
    "### Network Analysis iGraph"
   ]
  },
  {
   "cell_type": "code",
   "execution_count": 16,
   "metadata": {},
   "outputs": [
    {
     "name": "stdout",
     "output_type": "stream",
     "text": [
      "iGraph loaded successfully with 8243333 nodes and 28263172 edges\n"
     ]
    }
   ],
   "source": [
    "# Load NetworkX graph into a iGraph for faster computing of GCM\n",
    "# takes around 5-10 min to transform\n",
    "\n",
    "#https://igraph.org/python/tutorial/latest/generation.html#from-external-libraries\n",
    "iGr = iGraph.from_networkx(G)\n",
    "#iGr = iGraph._construct_graph_from_networkx(G, vertex_attr_hashable='_nx_name')\n",
    "\n",
    "\n",
    "print(\"iGraph loaded successfully with {} nodes \".format(iGraph.vcount(iGr)) \n",
    "      + \"and {} edges\".format(iGraph.ecount(iGr)))\n",
    "\n",
    "# Output: iGraph loaded successfully with 8243333 nodes and 28263172 edges"
   ]
  },
  {
   "cell_type": "code",
   "execution_count": 17,
   "metadata": {},
   "outputs": [
    {
     "data": {
      "text/plain": [
       "'IGRAPH U-W- 8243333 28263172 -- \\n+ attr: _nx_name (v), triples (e), weight (e)'"
      ]
     },
     "execution_count": 17,
     "metadata": {},
     "output_type": "execute_result"
    }
   ],
   "source": [
    "# Summary of the graph\n",
    "iGraph.summary(iGr)\n",
    "\n",
    "# Output: 'IGRAPH U-W- 8243333 28263172 -- \\n+ attr: _nx_name (v), triples (e), weight (e)'"
   ]
  },
  {
   "cell_type": "code",
   "execution_count": 18,
   "metadata": {},
   "outputs": [
    {
     "name": "stdout",
     "output_type": "stream",
     "text": [
      "Graph is connected:  False\n",
      "Graph is directed:  False\n"
     ]
    }
   ],
   "source": [
    "print(\"Graph is connected: \", iGraph.is_connected(iGr))\n",
    "print(\"Graph is directed: \", iGraph.is_directed(iGr))"
   ]
  },
  {
   "cell_type": "code",
   "execution_count": 26,
   "metadata": {},
   "outputs": [
    {
     "name": "stdout",
     "output_type": "stream",
     "text": [
      "CPU times: user 128 ms, sys: 16 ms, total: 144 ms\n",
      "Wall time: 144 ms\n"
     ]
    }
   ],
   "source": [
    "%%time\n",
    "\n",
    "# Compute iGraph Degree Centrality\n",
    "  # takes less than 1 min\n",
    "\n",
    "degree_centrality = iGraph.degree(iGr)"
   ]
  },
  {
   "cell_type": "code",
   "execution_count": 24,
   "metadata": {},
   "outputs": [],
   "source": [
    "%%time\n",
    "\n",
    "# Compute iGraph Eigenvector Centrality\n",
    "  # takes around 1 min\n",
    "\n",
    "eigenvector_centrality = iGraph.eigenvector_centrality(iGr)"
   ]
  },
  {
   "cell_type": "code",
   "execution_count": 25,
   "metadata": {},
   "outputs": [],
   "source": [
    "%%time\n",
    "\n",
    "# Compute iGraph PageRank\n",
    "  # takes less than 2 min\n",
    "\n",
    "pagerank = iGraph.pagerank(iGr)"
   ]
  },
  {
   "cell_type": "code",
   "execution_count": null,
   "metadata": {},
   "outputs": [],
   "source": [
    "# Write the computed iGraph GCMs to a .csv-file\n",
    "  # takes around 1 min\n",
    "\n",
    "with open('../data/gcm_computed/ig-gcm.csv', mode='w') as gcm_export: # optionally change path your folder structure\n",
    "    writer = csv.writer(gcm_export, delimiter=',', quotechar='\"', quoting=csv.QUOTE_MINIMAL)\n",
    "    writer.writerow(['resource', 'degree','eigenvector', 'pagerank'])\n",
    "    for v in iGr.vs:\n",
    "        writer.writerow([v['_nx_name'], degree_centrality[v.index], eigenvector_centrality[v.index], pagerank[v.index]])"
   ]
  },
  {
   "cell_type": "code",
   "execution_count": 28,
   "metadata": {},
   "outputs": [
    {
     "data": {
      "text/html": [
       "<div>\n",
       "<style scoped>\n",
       "    .dataframe tbody tr th:only-of-type {\n",
       "        vertical-align: middle;\n",
       "    }\n",
       "\n",
       "    .dataframe tbody tr th {\n",
       "        vertical-align: top;\n",
       "    }\n",
       "\n",
       "    .dataframe thead th {\n",
       "        text-align: right;\n",
       "    }\n",
       "</style>\n",
       "<table border=\"1\" class=\"dataframe\">\n",
       "  <thead>\n",
       "    <tr style=\"text-align: right;\">\n",
       "      <th></th>\n",
       "      <th>resource</th>\n",
       "      <th>degree</th>\n",
       "      <th>eigenvector</th>\n",
       "      <th>pagerank</th>\n",
       "    </tr>\n",
       "  </thead>\n",
       "  <tbody>\n",
       "    <tr>\n",
       "      <th>0</th>\n",
       "      <td>http://dbpedia.org/resource/Billy_Coggins__Car...</td>\n",
       "      <td>3</td>\n",
       "      <td>7.845722e-04</td>\n",
       "      <td>5.936257e-08</td>\n",
       "    </tr>\n",
       "    <tr>\n",
       "      <th>1</th>\n",
       "      <td>http://dbpedia.org/ontology/CareerStation</td>\n",
       "      <td>1624880</td>\n",
       "      <td>1.000000e+00</td>\n",
       "      <td>2.791082e-02</td>\n",
       "    </tr>\n",
       "    <tr>\n",
       "      <th>2</th>\n",
       "      <td>http://dbpedia.org/resource/News_Patrol__A2Z_N...</td>\n",
       "      <td>9</td>\n",
       "      <td>7.198654e-11</td>\n",
       "      <td>1.150764e-07</td>\n",
       "    </tr>\n",
       "    <tr>\n",
       "      <th>3</th>\n",
       "      <td>http://dbpedia.org/resource/ZOE_Broadcasting_N...</td>\n",
       "      <td>20</td>\n",
       "      <td>9.183437e-10</td>\n",
       "      <td>2.792414e-07</td>\n",
       "    </tr>\n",
       "    <tr>\n",
       "      <th>4</th>\n",
       "      <td>http://dbpedia.org/resource/Yu_Yongfu</td>\n",
       "      <td>6</td>\n",
       "      <td>2.790954e-09</td>\n",
       "      <td>1.047756e-07</td>\n",
       "    </tr>\n",
       "  </tbody>\n",
       "</table>\n",
       "</div>"
      ],
      "text/plain": [
       "                                            resource   degree   eigenvector  \\\n",
       "0  http://dbpedia.org/resource/Billy_Coggins__Car...        3  7.845722e-04   \n",
       "1          http://dbpedia.org/ontology/CareerStation  1624880  1.000000e+00   \n",
       "2  http://dbpedia.org/resource/News_Patrol__A2Z_N...        9  7.198654e-11   \n",
       "3  http://dbpedia.org/resource/ZOE_Broadcasting_N...       20  9.183437e-10   \n",
       "4              http://dbpedia.org/resource/Yu_Yongfu        6  2.790954e-09   \n",
       "\n",
       "       pagerank  \n",
       "0  5.936257e-08  \n",
       "1  2.791082e-02  \n",
       "2  1.150764e-07  \n",
       "3  2.792414e-07  \n",
       "4  1.047756e-07  "
      ]
     },
     "execution_count": 28,
     "metadata": {},
     "output_type": "execute_result"
    }
   ],
   "source": [
    "df_ig_gcm = pd.read_csv(\"../data/gcm_computed/ig-gcm.csv\") # optionally change path to correct file\n",
    "df_ig_gcm.head()"
   ]
  },
  {
   "cell_type": "code",
   "execution_count": 29,
   "metadata": {},
   "outputs": [
    {
     "name": "stdout",
     "output_type": "stream",
     "text": [
      "Data types:\n",
      "resource        object\n",
      "degree           int64\n",
      "eigenvector    float64\n",
      "pagerank       float64\n",
      "dtype: object\n",
      "----------------------\n",
      "Memory usage:\n",
      "Index                128\n",
      "resource       964958363\n",
      "degree          65946664\n",
      "eigenvector     65946664\n",
      "pagerank        65946664\n",
      "dtype: int64\n",
      "----------------------\n",
      "32973332\n",
      "Dataframe shape is (8243333, 4)\n",
      "======================\n",
      "Degree Centrality Kurtosis: 3845700.692636409\n",
      "Degree Centrality Skewness: 1758.6476950353158\n",
      "======================\n",
      "Eigenvector Centrality Kurtosis: 2535495.292056733\n",
      "Eigenvector Centrality Skewness: 1186.2822293812544\n",
      "======================\n",
      "PageRank Kurtosis: 2865512.8079392132\n",
      "PageRank Skewness: 1578.3902507400448\n"
     ]
    }
   ],
   "source": [
    "print(\"Data types:\")\n",
    "print(df_ig_gcm.dtypes)\n",
    "print('----------------------')\n",
    "print(\"Memory usage:\")\n",
    "print(df_ig_gcm.memory_usage(deep=True))\n",
    "print('----------------------')\n",
    "print(df_ig_gcm.size)\n",
    "\n",
    "print(\"Dataframe shape is {}\".format(df_ig_gcm.shape))\n",
    "print(\"======================\")\n",
    "\n",
    "print(\"Degree Centrality Kurtosis: %s\" % stats.kurtosis(df_ig_gcm['degree']))\n",
    "print(\"Degree Centrality Skewness: %s\" % stats.skew(df_ig_gcm['degree']))\n",
    "print(\"======================\")\n",
    "\n",
    "print(\"Eigenvector Centrality Kurtosis: %s\" % stats.kurtosis(df_ig_gcm['eigenvector']))\n",
    "print(\"Eigenvector Centrality Skewness: %s\" % stats.skew(df_ig_gcm['eigenvector']))\n",
    "print(\"======================\")\n",
    "\n",
    "print(\"PageRank Kurtosis: %s\" % stats.kurtosis(df_ig_gcm['pagerank']))\n",
    "print(\"PageRank Skewness: %s\" % stats.skew(df_ig_gcm['pagerank']))\n",
    "\n",
    "\n",
    "# Output\n",
    "\n",
    "#Data types:\n",
    "#resource        object\n",
    "#degree           int64\n",
    "#eigenvector    float64\n",
    "#pagerank       float64\n",
    "#dtype: object\n",
    "#----------------------\n",
    "#Memory usage:\n",
    "#Index                128\n",
    "#resource       964958363\n",
    "#degree          65946664\n",
    "#eigenvector     65946664\n",
    "#pagerank        65946664\n",
    "#dtype: int64\n",
    "#----------------------\n",
    "#32973332\n",
    "#Dataframe shape is (8243333, 4)\n",
    "#======================\n",
    "#Degree Centrality Kurtosis: 3845700.692636409\n",
    "#Degree Centrality Skewness: 1758.6476950353158\n",
    "#======================\n",
    "#Eigenvector Centrality Kurtosis: 2535495.292056733\n",
    "#Eigenvector Centrality Skewness: 1186.2822293812544\n",
    "#======================\n",
    "#PageRank Kurtosis: 2865512.8079392132\n",
    "#PageRank Skewness: 1578.3902507400448"
   ]
  }
 ],
 "metadata": {
  "kernelspec": {
   "display_name": "Python 3",
   "language": "python",
   "name": "python3"
  },
  "language_info": {
   "codemirror_mode": {
    "name": "ipython",
    "version": 3
   },
   "file_extension": ".py",
   "mimetype": "text/x-python",
   "name": "python",
   "nbconvert_exporter": "python",
   "pygments_lexer": "ipython3",
   "version": "3.7.6"
  }
 },
 "nbformat": 4,
 "nbformat_minor": 5
}
