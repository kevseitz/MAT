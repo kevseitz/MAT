{
 "cells": [
  {
   "cell_type": "markdown",
   "metadata": {},
   "source": [
    "# Ordinal Regression"
   ]
  },
  {
   "cell_type": "code",
   "execution_count": 1,
   "metadata": {},
   "outputs": [
    {
     "name": "stdout",
     "output_type": "stream",
     "text": [
      "------------\n",
      "Python 3.7.6\n",
      "Pandas 1.3.4\n",
      "Numpy 1.18.1\n",
      "------------\n",
      "All packages loaded and ready to roll :-)\n"
     ]
    }
   ],
   "source": [
    "# Importing packages\n",
    "import pandas as pd\n",
    "#from SPARQLWrapper import SPARQLWrapper, JSON, N3\n",
    "#import lxml\n",
    "import numpy as np\n",
    "import matplotlib.pyplot as plt\n",
    "#import seaborn as sns\n",
    "#import networkx as nx\n",
    "#from networkx import Graph as NXGraph\n",
    "#from rdflib import Graph as RDFGraph\n",
    "#from rdflib.extras.external_graph_libs import rdflib_to_networkx_graph\n",
    "#import statistics\n",
    "#import collections\n",
    "from scipy import stats\n",
    "from scipy.stats import kstest\n",
    "# https://www.statology.org/normality-test-python/\n",
    "\n",
    "#from urllib import parse\n",
    "from sklearn import linear_model\n",
    "#from sklearn.preprocessing import StandardScaler\n",
    "from sklearn import preprocessing\n",
    "import statsmodels.api as sm\n",
    "from statsmodels.miscmodels.ordinal_model import OrderedModel\n",
    "\n",
    "import mlnotify \n",
    "# https://github.com/aporia-ai/mlnotify\n",
    "# Use %%notify at beginning of cell\n",
    "\n",
    "import os.path, time\n",
    "# Use %%time at beginning of cell\n",
    "\n",
    "print('------------')\n",
    "!python --version\n",
    "print(\"Pandas \" + pd.__version__)\n",
    "print(\"Numpy \" + np.__version__)\n",
    "#print(\"Seaborn \" + sns.__version__)\n",
    "#print(\"Networkx \" + nx.__version__)\n",
    "print('------------')\n",
    "print(\"All packages loaded and ready to roll :-)\")"
   ]
  },
  {
   "cell_type": "code",
   "execution_count": 2,
   "metadata": {},
   "outputs": [
    {
     "data": {
      "text/html": [
       "<div>\n",
       "<style scoped>\n",
       "    .dataframe tbody tr th:only-of-type {\n",
       "        vertical-align: middle;\n",
       "    }\n",
       "\n",
       "    .dataframe tbody tr th {\n",
       "        vertical-align: top;\n",
       "    }\n",
       "\n",
       "    .dataframe thead th {\n",
       "        text-align: right;\n",
       "    }\n",
       "</style>\n",
       "<table border=\"1\" class=\"dataframe\">\n",
       "  <thead>\n",
       "    <tr style=\"text-align: right;\">\n",
       "      <th></th>\n",
       "      <th>resource</th>\n",
       "      <th>degree</th>\n",
       "      <th>eigenvector</th>\n",
       "      <th>pagerank</th>\n",
       "    </tr>\n",
       "  </thead>\n",
       "  <tbody>\n",
       "    <tr>\n",
       "      <th>0</th>\n",
       "      <td>http://dbpedia.org/resource/Billy_Coggins__Car...</td>\n",
       "      <td>3</td>\n",
       "      <td>7.845722e-04</td>\n",
       "      <td>5.936257e-08</td>\n",
       "    </tr>\n",
       "    <tr>\n",
       "      <th>1</th>\n",
       "      <td>http://dbpedia.org/ontology/CareerStation</td>\n",
       "      <td>1624880</td>\n",
       "      <td>1.000000e+00</td>\n",
       "      <td>2.791082e-02</td>\n",
       "    </tr>\n",
       "    <tr>\n",
       "      <th>2</th>\n",
       "      <td>http://dbpedia.org/resource/News_Patrol__A2Z_N...</td>\n",
       "      <td>9</td>\n",
       "      <td>7.198654e-11</td>\n",
       "      <td>1.150764e-07</td>\n",
       "    </tr>\n",
       "    <tr>\n",
       "      <th>3</th>\n",
       "      <td>http://dbpedia.org/resource/ZOE_Broadcasting_N...</td>\n",
       "      <td>20</td>\n",
       "      <td>9.183437e-10</td>\n",
       "      <td>2.792414e-07</td>\n",
       "    </tr>\n",
       "    <tr>\n",
       "      <th>4</th>\n",
       "      <td>http://dbpedia.org/resource/Yu_Yongfu</td>\n",
       "      <td>6</td>\n",
       "      <td>2.790954e-09</td>\n",
       "      <td>1.047756e-07</td>\n",
       "    </tr>\n",
       "  </tbody>\n",
       "</table>\n",
       "</div>"
      ],
      "text/plain": [
       "                                            resource   degree   eigenvector  \\\n",
       "0  http://dbpedia.org/resource/Billy_Coggins__Car...        3  7.845722e-04   \n",
       "1          http://dbpedia.org/ontology/CareerStation  1624880  1.000000e+00   \n",
       "2  http://dbpedia.org/resource/News_Patrol__A2Z_N...        9  7.198654e-11   \n",
       "3  http://dbpedia.org/resource/ZOE_Broadcasting_N...       20  9.183437e-10   \n",
       "4              http://dbpedia.org/resource/Yu_Yongfu        6  2.790954e-09   \n",
       "\n",
       "       pagerank  \n",
       "0  5.936257e-08  \n",
       "1  2.791082e-02  \n",
       "2  1.150764e-07  \n",
       "3  2.792414e-07  \n",
       "4  1.047756e-07  "
      ]
     },
     "execution_count": 2,
     "metadata": {},
     "output_type": "execute_result"
    }
   ],
   "source": [
    "# Load GCM data\n",
    "\n",
    "# NetworkX\n",
    "#df_gcm = pd.read_csv('../data/gcm_computed.nosync/nx-gcm.csv')\n",
    "\n",
    "# iGraph\n",
    "df_ig_gcm = pd.read_csv('../data/gcm_computed.nosync/ig-gcm.csv')\n",
    "\n",
    "df_ig_gcm.head()"
   ]
  },
  {
   "cell_type": "code",
   "execution_count": 3,
   "metadata": {},
   "outputs": [
    {
     "name": "stdout",
     "output_type": "stream",
     "text": [
      "Data types:\n",
      "resource        object\n",
      "degree           int64\n",
      "eigenvector    float64\n",
      "pagerank       float64\n",
      "dtype: object\n",
      "----------------------\n",
      "Memory usage:\n",
      "Index                128\n",
      "resource       964958363\n",
      "degree          65946664\n",
      "eigenvector     65946664\n",
      "pagerank        65946664\n",
      "dtype: int64\n",
      "------------------------\n",
      "Dataframe shape is (8243333, 4)\n"
     ]
    }
   ],
   "source": [
    "print(\"Data types:\")\n",
    "print(df_ig_gcm.dtypes)\n",
    "print('----------------------')\n",
    "print(\"Memory usage:\")\n",
    "print(df_ig_gcm.memory_usage(deep=True))\n",
    "print('------------------------')\n",
    "print(\"Dataframe shape is {}\".format(df_ig_gcm.shape))"
   ]
  },
  {
   "cell_type": "code",
   "execution_count": 4,
   "metadata": {},
   "outputs": [],
   "source": [
    "# Load pre-queried (via queried web-interface) DBpedia categories\n",
    "# https://dbpedia.org/sparql/\n",
    "\n",
    "# 90s films from the aggregated Categories: 1990_films, 1991_films, 1992_films, ...\n",
    "df_film90 = pd.read_csv(\"../data/sparql_cat_queries/sparql_90film.csv\")\n",
    "df_film90.rename(columns={\"film90\": \"resource\"}, inplace=True) #rename column to match PageRank dataframe\n",
    "\n",
    "# actors from the \"Occupation\": \"Actor\"@en\n",
    "df_actor = pd.read_csv(\"../data/sparql_cat_queries/sparql_actor.csv\")\n",
    "df_actor.rename(columns={\"actor\": \"resource\"}, inplace=True)\n",
    "\n",
    "# Music Genre from the \"Type\": \"dbo:MusicGenre\"\n",
    "df_musicGenre = pd.read_csv(\"../data/sparql_cat_queries/sparql_musicGenre.csv\")\n",
    "df_musicGenre.rename(columns={\"mGenre\": \"resource\"}, inplace=True)\n",
    "\n",
    "# Books from the \"Type\":\"dbo:book\"\n",
    "df_book = pd.read_csv(\"../data/sparql_cat_queries/sparql_book.csv\")\n",
    "df_book.rename(columns={\"book\": \"resource\"}, inplace=True)\n",
    "\n",
    "# Book authors from the \"Type\": author UNION book dbo:author\n",
    "df_bookAut = pd.read_csv(\"../data/sparql_cat_queries/sparql_bookAuthor.csv\")\n",
    "df_bookAut.rename(columns={\"author\": \"resource\"}, inplace=True)\n",
    "\n",
    "# Politicians from the \"Type\": Person/Politician\n",
    "df_pol = pd.read_csv(\"../data/sparql_cat_queries/sparql_politician.csv\")\n",
    "df_pol.rename(columns={\"pol\": \"resource\"}, inplace=True)\n",
    "\n",
    "# POTUS from the \"Category\": Presidents_of_the_United_States\n",
    "df_potus = pd.read_csv(\"../data/sparql_cat_queries/sparql_potus.csv\")\n",
    "df_potus.rename(columns={\"potus\": \"resource\"}, inplace=True)\n",
    "\n",
    "# Cities from the \"Category\": \"dbo:City\"\n",
    "df_city = pd.read_csv(\"../data/sparql_cat_queries/sparql_city.csv\")\n",
    "df_city.rename(columns={\"city\": \"resource\"}, inplace=True)\n",
    "\n",
    "# Lakes from the \"Category\": \"dbo:Lake\"\n",
    "df_lake = pd.read_csv(\"../data/sparql_cat_queries/sparql_lake.csv\")\n",
    "df_lake.rename(columns={\"lake\": \"resource\"}, inplace=True)\n",
    "\n",
    "# Mountains from the \"Category\": \"dbo:Mountain\"\n",
    "df_mountain = pd.read_csv(\"../data/sparql_cat_queries/sparql_mountain.csv\")\n",
    "df_mountain.rename(columns={\"mount\": \"resource\"}, inplace=True)\n",
    "\n",
    "# EU capitals from the \"Category\": Capitals_in_Europe\n",
    "df_euCap = pd.read_csv(\"../data/sparql_cat_queries/sparql_euCap.csv\")\n",
    "df_euCap.rename(columns={\"euCap\": \"resource\"}, inplace=True)\n",
    "\n",
    "# EU countries from the \"Category\": Countries_in_Europe\n",
    "df_euCou = pd.read_csv(\"../data/sparql_cat_queries/sparql_euCountry.csv\")\n",
    "df_euCou.rename(columns={\"euCountry\": \"resource\"}, inplace=True)\n",
    "\n",
    "# Asian countries from the \"Category\": \"dbc:Countries_in_Asia\", \"dbc:East_Asian_countries\" and \"dbc:Central_Asian_countries\"\n",
    "df_asCou = pd.read_csv(\"../data/sparql_cat_queries/sparql_asCountry.csv\")\n",
    "df_asCou.rename(columns={\"asCountry\": \"resource\"}, inplace=True)\n",
    "\n",
    "# Continents from the \"Category\": \"dbo:Continents\"\n",
    "df_continent = pd.read_csv(\"../data/sparql_cat_queries/sparql_continent.csv\")\n",
    "df_continent.rename(columns={\"conti\": \"resource\"}, inplace=True)\n",
    "\n",
    "# Birds from the \"Class\": \"dbr:Bird\"\n",
    "df_bird = pd.read_csv(\"../data/sparql_cat_queries/sparql_bird.csv\")\n",
    "df_bird.rename(columns={\"bird\": \"resource\"}, inplace=True)\n",
    "\n",
    "# African animals from the \"Category\": \"dbc:Vertebrates_of_Africa\"\n",
    "df_africanAnimal = pd.read_csv(\"../data/sparql_cat_queries/sparql_africanAnimal.csv\")\n",
    "df_africanAnimal.rename(columns={\"afrAnimal\": \"resource\"}, inplace=True)\n",
    "\n",
    "# Furniture from the \"Category\": \"dbc:Furniture\"\n",
    "df_furniture = pd.read_csv(\"../data/sparql_cat_queries/sparql_furniture.csv\")\n",
    "df_furniture.rename(columns={\"fur\": \"resource\"}, inplace=True)\n",
    "\n",
    "# Furniture from the \"Category\": \"dbc:Vegetables\"\n",
    "df_vegetable = pd.read_csv(\"../data/sparql_cat_queries/sparql_vegetable.csv\")\n",
    "df_vegetable.rename(columns={\"veg\": \"resource\"}, inplace=True)\n",
    "\n",
    "# Types of fast food from the \"Category\": \"dbc:Fast_food\"\n",
    "df_fastFood = pd.read_csv(\"../data/sparql_cat_queries/sparql_fastfood.csv\")\n",
    "df_fastFood.rename(columns={\"fastFood\": \"resource\"}, inplace=True)\n",
    "\n",
    "# European Landmark/Sight from multiple \"Category\": \"dbc:Landmarks_in_x\" with x being a country from europe\n",
    "df_euSight = pd.read_csv(\"../data/sparql_cat_queries/sparql_euLandmark.csv\")\n",
    "df_euSight.rename(columns={\"euroSight\": \"resource\"}, inplace=True)\n",
    "\n",
    "# DAX company from the \"Type\": \"dbo:Company\" and \"dbp:tradedAs\" -> \"dbr:DAX\"\n",
    "df_daxCo = pd.read_csv(\"../data/sparql_cat_queries/sparql_daxCompany.csv\")\n",
    "df_daxCo.rename(columns={\"DAXco\": \"resource\"}, inplace=True)\n",
    "\n",
    "# US company from ?\n",
    "df_usCo = pd.read_csv(\"../data/sparql_cat_queries/sparql_usCompany.csv\")\n",
    "df_usCo.rename(columns={\"usCo\": \"resource\"}, inplace=True)\n",
    "\n",
    "# US tech company from the \"Category\": \"dbc:Technology_companies_of_the_United_States\"\n",
    "df_usTechCo = pd.read_csv(\"../data/sparql_cat_queries/sparql_usTechCompany.csv\")\n",
    "df_usTechCo.rename(columns={\"usTech\": \"resource\"}, inplace=True)"
   ]
  },
  {
   "cell_type": "code",
   "execution_count": 5,
   "metadata": {},
   "outputs": [],
   "source": [
    "# Function for standardized scaling and normalisation of GCM values\n",
    "# https://scikit-learn.org/stable/modules/generated/sklearn.preprocessing.StandardScaler.html\n",
    "\n",
    "def scaler(data_frame):\n",
    "    helper_df = data_frame.copy()\n",
    "    to_scale = StandardScaler()\n",
    "\n",
    "    helper_df[['degree', 'eigenvector', 'pagerank']] = to_scale.fit_transform(helper_df[['degree', 'eigenvector', 'pagerank']])\n",
    "    return helper_df\n",
    "\n",
    "#df_ig_gcm = scaler(df_ig_gcm)"
   ]
  },
  {
   "cell_type": "code",
   "execution_count": 12,
   "metadata": {},
   "outputs": [],
   "source": [
    "# Function for merging the sparql category with GCM data\n",
    "\n",
    "# Merge the queried category df to the GCM metrics based on <resource> with a left outer join\n",
    "  # (Keep every row in the category dataframe -> missing values get NaN)\n",
    "  # Then, normalize GCM metrics\n",
    "\n",
    "def catMerger(sparql_data, gcm_data):\n",
    "    df_sparql = sparql_data.copy()\n",
    "    df_gcm = gcm_data.copy()\n",
    "    helper_df = pd.merge(df_sparql,\n",
    "                #df_gcm[['resource','degree','pagerank']],\n",
    "                df_gcm[['resource','degree', 'eigenvector', 'pagerank']],\n",
    "                on='resource', \n",
    "                how='left')\n",
    "    \n",
    "    # scale and normalize the gcm metrics (same as scaler function)\n",
    "    to_scale = preprocessing.StandardScaler()\n",
    "    helper_df[['degree', 'eigenvector', 'pagerank']] = to_scale.fit_transform(helper_df[['degree', 'eigenvector', 'pagerank']])\n",
    "    \n",
    "    print(\"Dataframe merged with shape: {}\".format(helper_df.shape))\n",
    "    print('============================')\n",
    "\n",
    "    #print(helper_df.shape[0] - helper_df.dropna().shape[0]) #return amount of rows containing NaN values\n",
    "    \n",
    "    return helper_df"
   ]
  },
  {
   "cell_type": "code",
   "execution_count": 13,
   "metadata": {},
   "outputs": [],
   "source": [
    "# Function for merging the survey category data with the gcm category data\n",
    "\n",
    "# Merge the survey category df to the GCM metrics per category based on <resource> with a left outer join\n",
    "  # (Keep every row in the category dataframe -> missing values get NaN)\n",
    "\n",
    "def ALTgcmSurfer(survey_data, cat_gcm_data):\n",
    "    df_survey = survey_data.copy()\n",
    "    df_cat_gcm = cat_gcm_data.copy()\n",
    "    df_survey.rename(columns={\"uri\": \"resource\"}, inplace=True) #rename column to match GCM dataframe\n",
    "    \n",
    "    # Count how often an answer was given in the survey and save into new dataframe\n",
    "    survey_count = df_survey['resource'].value_counts(normalize=True) #normalize values\n",
    "    df_survey_counted = pd.DataFrame({'resource':survey_count.index, 'amount':survey_count.values})\n",
    "\n",
    "    df_survey_gcm = pd.merge(df_survey_counted,\n",
    "                    df_cat_gcm[['resource','name', 'degree','eigenvector','pagerank']],\n",
    "                    #df_cat_gcm[['resource', 'degree','eigenvector','pagerank']],\n",
    "                    on='resource', \n",
    "                    how='left')\n",
    "    \n",
    "    nan_rows = df_survey_gcm.shape[0] - df_survey_gcm.dropna().shape[0]\n",
    "    \n",
    "    print(\"Rows with NaN values dropped: {}\".format(nan_rows) + \" from {}\".format(df_survey_gcm.shape[0]) + \" => {}% \".format(round((nan_rows/df_survey_gcm.shape[0])*100, 2))) #return amount of rows containing NaN values\n",
    "    df_survey_gcm = df_survey_gcm.dropna()\n",
    "    print(\"Dataframe merged with shape: {}\".format(df_survey_gcm.shape))\n",
    "    \n",
    "    return df_survey_gcm"
   ]
  },
  {
   "cell_type": "code",
   "execution_count": 14,
   "metadata": {},
   "outputs": [],
   "source": [
    "# Function for merging the survey category data with the gcm category data\n",
    "\n",
    "# Merge the survey category df to the GCM metrics per category based on <resource> with a left outer join\n",
    "  # (Keep every row in the category dataframe -> missing values get NaN)\n",
    "  # Drop NaN rows, then -> normalize survey results\n",
    "\n",
    "def gcmSurfer(survey_data, cat_gcm_data):\n",
    "    df_survey = survey_data.copy()\n",
    "    df_cat_gcm = cat_gcm_data.copy()\n",
    "    df_survey.rename(columns={\"uri\": \"resource\"}, inplace=True) #rename column to match GCM dataframe\n",
    "        \n",
    "    # Count how often an answer was given in the survey and save into new dataframe\n",
    "    survey_count = df_survey['resource'].value_counts() #normalize values\n",
    "    df_survey_counted = pd.DataFrame({'resource':survey_count.index, 'amount':survey_count.values})\n",
    "\n",
    "    df_survey_gcm = pd.merge(df_survey_counted,\n",
    "                    df_cat_gcm[['resource','name', 'degree','eigenvector','pagerank']],\n",
    "                    #df_cat_gcm[['resource', 'degree','eigenvector','pagerank']],\n",
    "                    on='resource', \n",
    "                    how='left')\n",
    "    \n",
    "    # Drop rows that were not matched with the category\n",
    "    nan_rows = df_survey_gcm.shape[0] - df_survey_gcm.dropna().shape[0]    \n",
    "    print(\"Rows with NaN values dropped: {}\".format(nan_rows) + \" from {}\".format(df_survey_gcm.shape[0]) + \" => {}% \".format(round((nan_rows/df_survey_gcm.shape[0])*100, 2))) #return amount of rows containing NaN values\n",
    "    df_survey_gcm = df_survey_gcm.dropna()\n",
    "    \n",
    "    # Count how often an answer was given in the survey and save into new dataframe\n",
    "    #df_survey_gcm['survey_mentions'] = df_survey_gcm['resource'].value_counts(normalize=True) #normalize values\n",
    "    #df_survey_counted = pd.DataFrame({'resource':survey_count.index, 'amount':survey_count.values})\n",
    "    \n",
    "    # scale and normalize the survey data\n",
    "    min_max_scaler = preprocessing.MinMaxScaler()\n",
    "    df_survey_gcm[['amount']] = min_max_scaler.fit_transform(df_survey_gcm[['amount']])\n",
    "    \n",
    "    print(\"Dataframe merged with shape: {}\".format(df_survey_gcm.shape))\n",
    "    \n",
    "    return df_survey_gcm"
   ]
  },
  {
   "cell_type": "code",
   "execution_count": 15,
   "metadata": {},
   "outputs": [],
   "source": [
    "# Function for creating \"Camps\" inside a category that is later used for ordinal regression\n",
    "\n",
    "# Takes two parameter: dataframe, num_splits\n",
    "  # dataframe = input dataframe containing URI, amount (survey mentions), GCMs (degree, eigenvector, pagerank)\n",
    "  # num_splits = number for the camp size, e.g. 3 => three camps with 1 = top 33%; 2 = mid 33%; 3 = low 33%\n",
    "\n",
    "def camper(data_frame, num_splits):\n",
    "    helper_df = data_frame.copy()\n",
    "    split_v = [int(len(helper_df.index)/num_splits * i) for i in np.arange(num_splits)]\n",
    "    \n",
    "    for i in helper_df.index:\n",
    "        split_smaller = [split <= i for split in split_v]\n",
    "        camp = np.sum(split_smaller)\n",
    "        \n",
    "        #return dataframe\n",
    "        helper_df.at[i,'camp'] = camp\n",
    "        \n",
    "    return helper_df"
   ]
  },
  {
   "cell_type": "code",
   "execution_count": 16,
   "metadata": {},
   "outputs": [],
   "source": [
    "def ordinalReg(df_survey_gcm, list_gcm, num_splits): # list_gcm -> ['degree', 'eigenvector', 'pagerank']  \n",
    "    helper_df = df_survey_gcm.copy()\n",
    "    camped_df = camper(helper_df, num_splits) #calls camper function to create column with camps\n",
    "\n",
    "    mod_prob = OrderedModel(camped_df['camp'],\n",
    "                            camped_df[list_gcm],\n",
    "                            distr='probit')\n",
    "    \n",
    "    print(\"Ordinal Regression:  {}\".format(list_gcm))\n",
    "    print('-------------------------------------')\n",
    "    res_prob = mod_prob.fit(method='bfgs')\n",
    "\n",
    "    return res_prob.summary()"
   ]
  },
  {
   "cell_type": "markdown",
   "metadata": {},
   "source": [
    "## 90s film"
   ]
  },
  {
   "cell_type": "code",
   "execution_count": 17,
   "metadata": {},
   "outputs": [
    {
     "name": "stdout",
     "output_type": "stream",
     "text": [
      "Dataframe merged with shape: (10000, 5)\n",
      "============================\n",
      "Rows with NaN values dropped: 98 from 121 => 80.99% \n",
      "Dataframe merged with shape: (23, 6)\n"
     ]
    }
   ],
   "source": [
    "# 90s films from the aggregated Categories: 1990_films, 1991_films, 1992_films, ...\n",
    "\n",
    "film90_result = catMerger(df_film90, df_ig_gcm)\n",
    "df_survey_film90 = pd.read_csv(\"../data/survey_single_cat_files/sv_prep_uri/sv_film90_prep.csv\", sep=';')\n",
    "\n",
    "df_survey_film90_gcm = gcmSurfer(df_survey_film90, film90_result)"
   ]
  },
  {
   "cell_type": "code",
   "execution_count": 18,
   "metadata": {},
   "outputs": [
    {
     "name": "stdout",
     "output_type": "stream",
     "text": [
      "Rows with NaN values dropped: 56 from 112 => 50.0% \n",
      "Dataframe merged with shape: (56, 6)\n"
     ]
    }
   ],
   "source": [
    "# Use the manually improved URIs instead\n",
    "df_survey_film90impr = pd.read_csv(\"../data/survey_single_cat_files/sv_prep_uri/improved_uri/sv_film90_impr.csv\", sep=';')\n",
    "\n",
    "df_survey_film90_gcm_impr = gcmSurfer(df_survey_film90impr, film90_result)"
   ]
  },
  {
   "cell_type": "code",
   "execution_count": null,
   "metadata": {},
   "outputs": [],
   "source": [
    "df_survey_film90_gcm"
   ]
  },
  {
   "cell_type": "code",
   "execution_count": null,
   "metadata": {},
   "outputs": [],
   "source": [
    "ALTdf_survey_film90_gcm = ALTgcmSurfer(df_survey_film90, film90_result)"
   ]
  },
  {
   "cell_type": "code",
   "execution_count": null,
   "metadata": {},
   "outputs": [],
   "source": [
    "ALTdf_survey_film90_gcm"
   ]
  },
  {
   "cell_type": "code",
   "execution_count": null,
   "metadata": {},
   "outputs": [],
   "source": [
    "ordinalReg(df_survey_film90_gcm, ['degree'], 3)"
   ]
  },
  {
   "cell_type": "code",
   "execution_count": null,
   "metadata": {},
   "outputs": [],
   "source": [
    "ordinalReg(df_survey_film90_gcm, ['eigenvector'], 3)"
   ]
  },
  {
   "cell_type": "code",
   "execution_count": null,
   "metadata": {},
   "outputs": [],
   "source": [
    "ordinalReg(df_survey_film90_gcm, ['pagerank'], 3)"
   ]
  },
  {
   "cell_type": "markdown",
   "metadata": {},
   "source": [
    "## Actors"
   ]
  },
  {
   "cell_type": "code",
   "execution_count": 19,
   "metadata": {},
   "outputs": [
    {
     "name": "stdout",
     "output_type": "stream",
     "text": [
      "Dataframe merged with shape: (10000, 5)\n",
      "============================\n",
      "Rows with NaN values dropped: 80 from 143 => 55.94% \n",
      "Dataframe merged with shape: (63, 6)\n"
     ]
    }
   ],
   "source": [
    "# actors from the \"Occupation\": \"Actor\"@en\n",
    "\n",
    "actor_result = catMerger(df_actor, df_ig_gcm)\n",
    "df_survey_actor = pd.read_csv(\"../data/survey_single_cat_files/sv_prep_uri/sv_actors_prep.csv\", sep=';')\n",
    "\n",
    "df_survey_actor_gcm = gcmSurfer(df_survey_actor, actor_result)"
   ]
  },
  {
   "cell_type": "code",
   "execution_count": 20,
   "metadata": {},
   "outputs": [
    {
     "name": "stdout",
     "output_type": "stream",
     "text": [
      "Rows with NaN values dropped: 69 from 138 => 50.0% \n",
      "Dataframe merged with shape: (69, 6)\n"
     ]
    }
   ],
   "source": [
    "df_survey_actor_impr = pd.read_csv(\"../data/survey_single_cat_files/sv_prep_uri/improved_uri/sv_actors_impr.csv\", sep=';')\n",
    "\n",
    "df_survey_actor_gcm_impr = gcmSurfer(df_survey_actor_impr, actor_result)"
   ]
  },
  {
   "cell_type": "code",
   "execution_count": null,
   "metadata": {},
   "outputs": [],
   "source": [
    "df_survey_actor_gcm"
   ]
  },
  {
   "cell_type": "code",
   "execution_count": null,
   "metadata": {},
   "outputs": [],
   "source": [
    "ordinalReg(df_survey_actor_gcm, ['degree'], 3)"
   ]
  },
  {
   "cell_type": "code",
   "execution_count": null,
   "metadata": {},
   "outputs": [],
   "source": [
    "ordinalReg(df_survey_actor_gcm, ['eigenvector'], 3)"
   ]
  },
  {
   "cell_type": "code",
   "execution_count": null,
   "metadata": {},
   "outputs": [],
   "source": [
    "ordinalReg(df_survey_actor_gcm, ['pagerank'], 3)"
   ]
  },
  {
   "cell_type": "markdown",
   "metadata": {},
   "source": [
    "## Music genres"
   ]
  },
  {
   "cell_type": "code",
   "execution_count": 21,
   "metadata": {},
   "outputs": [
    {
     "name": "stdout",
     "output_type": "stream",
     "text": [
      "Dataframe merged with shape: (10000, 5)\n",
      "============================\n",
      "Rows with NaN values dropped: 9 from 42 => 21.43% \n",
      "Dataframe merged with shape: (33, 6)\n"
     ]
    }
   ],
   "source": [
    "# Music Genre from the \"Type\": \"dbo:MusicGenre\"\n",
    "\n",
    "mGenre_result = catMerger(df_musicGenre, df_ig_gcm)\n",
    "df_survey_mGenre = pd.read_csv(\"../data/survey_single_cat_files/sv_prep_uri/sv_music_genres_prep.csv\", sep=';')\n",
    "\n",
    "df_survey_mGenre_gcm = gcmSurfer(df_survey_mGenre, mGenre_result)"
   ]
  },
  {
   "cell_type": "code",
   "execution_count": 22,
   "metadata": {},
   "outputs": [
    {
     "name": "stdout",
     "output_type": "stream",
     "text": [
      "Rows with NaN values dropped: 5 from 38 => 13.16% \n",
      "Dataframe merged with shape: (33, 6)\n"
     ]
    }
   ],
   "source": [
    "df_survey_mGenre_impr = pd.read_csv(\"../data/survey_single_cat_files/sv_prep_uri/improved_uri/sv_music_genres_impr.csv\", sep=';')\n",
    "\n",
    "df_survey_mGenre_gcm_impr = gcmSurfer(df_survey_mGenre_impr, mGenre_result)"
   ]
  },
  {
   "cell_type": "code",
   "execution_count": null,
   "metadata": {},
   "outputs": [],
   "source": [
    "ordinalReg(df_survey_mGenre_gcm, ['degree'], 3)"
   ]
  },
  {
   "cell_type": "code",
   "execution_count": null,
   "metadata": {},
   "outputs": [],
   "source": [
    "ordinalReg(df_survey_mGenre_gcm, ['eigenvector'], 3)"
   ]
  },
  {
   "cell_type": "code",
   "execution_count": null,
   "metadata": {},
   "outputs": [],
   "source": [
    "ordinalReg(df_survey_mGenre_gcm, ['pagerank'], 3)"
   ]
  },
  {
   "cell_type": "markdown",
   "metadata": {},
   "source": [
    "## Books"
   ]
  },
  {
   "cell_type": "code",
   "execution_count": 23,
   "metadata": {},
   "outputs": [
    {
     "name": "stdout",
     "output_type": "stream",
     "text": [
      "Dataframe merged with shape: (10000, 5)\n",
      "============================\n",
      "Rows with NaN values dropped: 172 from 182 => 94.51% \n",
      "Dataframe merged with shape: (10, 6)\n"
     ]
    }
   ],
   "source": [
    "# Books from the \"Type\":\"dbo:book\"\n",
    "\n",
    "book_result = catMerger(df_book, df_ig_gcm)\n",
    "df_survey_book = pd.read_csv(\"../data/survey_single_cat_files/sv_prep_uri/sv_books_prep.csv\", sep=';')\n",
    "\n",
    "df_survey_book_gcm = gcmSurfer(df_survey_book, book_result)"
   ]
  },
  {
   "cell_type": "code",
   "execution_count": 24,
   "metadata": {},
   "outputs": [
    {
     "name": "stdout",
     "output_type": "stream",
     "text": [
      "Rows with NaN values dropped: 139 from 156 => 89.1% \n",
      "Dataframe merged with shape: (17, 6)\n"
     ]
    }
   ],
   "source": [
    "df_survey_book_impr = pd.read_csv(\"../data/survey_single_cat_files/sv_prep_uri/improved_uri/sv_books_impr.csv\", sep=';')\n",
    "\n",
    "df_survey_book_gcm_impr = gcmSurfer(df_survey_book_impr, book_result)"
   ]
  },
  {
   "cell_type": "code",
   "execution_count": null,
   "metadata": {},
   "outputs": [],
   "source": [
    "ordinalReg(df_survey_book_gcm_impr, ['degree'], 3)"
   ]
  },
  {
   "cell_type": "code",
   "execution_count": null,
   "metadata": {},
   "outputs": [],
   "source": [
    "ordinalReg(df_survey_book_gcm_impr, ['eigenvector'], 3)"
   ]
  },
  {
   "cell_type": "code",
   "execution_count": null,
   "metadata": {},
   "outputs": [],
   "source": [
    "ordinalReg(df_survey_book_gcm_impr, ['pagerank'], 3)"
   ]
  },
  {
   "cell_type": "markdown",
   "metadata": {},
   "source": [
    "## Book authors"
   ]
  },
  {
   "cell_type": "code",
   "execution_count": 25,
   "metadata": {},
   "outputs": [
    {
     "name": "stdout",
     "output_type": "stream",
     "text": [
      "Dataframe merged with shape: (4498, 5)\n",
      "============================\n",
      "Rows with NaN values dropped: 125 from 143 => 87.41% \n",
      "Dataframe merged with shape: (18, 6)\n"
     ]
    }
   ],
   "source": [
    "# Book authors from the \"Type\": author UNION book dbo:author\n",
    "\n",
    "bookAut_result = catMerger(df_bookAut, df_ig_gcm)\n",
    "df_survey_bookAut = pd.read_csv(\"../data/survey_single_cat_files/sv_prep_uri/sv_authors_prep.csv\", sep=';')\n",
    "\n",
    "df_survey_bookAut_gcm = gcmSurfer(df_survey_bookAut, bookAut_result)"
   ]
  },
  {
   "cell_type": "code",
   "execution_count": 26,
   "metadata": {},
   "outputs": [
    {
     "name": "stdout",
     "output_type": "stream",
     "text": [
      "Rows with NaN values dropped: 119 from 138 => 86.23% \n",
      "Dataframe merged with shape: (19, 6)\n"
     ]
    }
   ],
   "source": [
    "df_survey_bookAut_impr = pd.read_csv(\"../data/survey_single_cat_files/sv_prep_uri/improved_uri/sv_authors_impr.csv\", sep=';')\n",
    "\n",
    "df_survey_bookAut_gcm_impr = gcmSurfer(df_survey_bookAut_impr, bookAut_result)"
   ]
  },
  {
   "cell_type": "code",
   "execution_count": null,
   "metadata": {},
   "outputs": [],
   "source": [
    "ordinalReg(df_survey_bookAut_gcm, ['degree'], 3)"
   ]
  },
  {
   "cell_type": "code",
   "execution_count": null,
   "metadata": {},
   "outputs": [],
   "source": [
    "ordinalReg(df_survey_bookAut_gcm, ['eigenvector'], 3)"
   ]
  },
  {
   "cell_type": "code",
   "execution_count": null,
   "metadata": {},
   "outputs": [],
   "source": [
    "ordinalReg(df_survey_bookAut_gcm, ['pagerank'], 3)"
   ]
  },
  {
   "cell_type": "markdown",
   "metadata": {},
   "source": [
    "## Politician"
   ]
  },
  {
   "cell_type": "code",
   "execution_count": 27,
   "metadata": {},
   "outputs": [
    {
     "name": "stdout",
     "output_type": "stream",
     "text": [
      "Dataframe merged with shape: (10000, 5)\n",
      "============================\n",
      "Rows with NaN values dropped: 72 from 75 => 96.0% \n",
      "Dataframe merged with shape: (3, 6)\n"
     ]
    }
   ],
   "source": [
    "# Politicians from the \"Type\": Person/Politician\n",
    "\n",
    "pol_result = catMerger(df_pol, df_ig_gcm)\n",
    "df_survey_pol = pd.read_csv(\"../data/survey_single_cat_files/sv_prep_uri/sv_politicians_prep.csv\", sep=';')\n",
    "\n",
    "df_survey_pol_gcm = gcmSurfer(df_survey_pol, pol_result)"
   ]
  },
  {
   "cell_type": "code",
   "execution_count": 28,
   "metadata": {},
   "outputs": [
    {
     "name": "stdout",
     "output_type": "stream",
     "text": [
      "Rows with NaN values dropped: 73 from 76 => 96.05% \n",
      "Dataframe merged with shape: (3, 6)\n"
     ]
    }
   ],
   "source": [
    "df_survey_pol_impr = pd.read_csv(\"../data/survey_single_cat_files/sv_prep_uri/improved_uri/sv_politicians_impr.csv\", sep=';')\n",
    "\n",
    "df_survey_pol_gcm_impr = gcmSurfer(df_survey_pol_impr, pol_result)"
   ]
  },
  {
   "cell_type": "code",
   "execution_count": null,
   "metadata": {},
   "outputs": [],
   "source": [
    "ordinalReg(df_survey_pol_gcm, ['degree'], 3)"
   ]
  },
  {
   "cell_type": "code",
   "execution_count": null,
   "metadata": {},
   "outputs": [],
   "source": [
    "ordinalReg(df_survey_pol_gcm, ['eigenvector'], 3)"
   ]
  },
  {
   "cell_type": "code",
   "execution_count": null,
   "metadata": {},
   "outputs": [],
   "source": [
    "ordinalReg(df_survey_pol_gcm, ['pagerank'], 3)"
   ]
  },
  {
   "cell_type": "markdown",
   "metadata": {},
   "source": [
    "### POTUS"
   ]
  },
  {
   "cell_type": "code",
   "execution_count": 29,
   "metadata": {},
   "outputs": [
    {
     "name": "stdout",
     "output_type": "stream",
     "text": [
      "Dataframe merged with shape: (48, 5)\n",
      "============================\n",
      "Rows with NaN values dropped: 12 from 27 => 44.44% \n",
      "Dataframe merged with shape: (15, 6)\n"
     ]
    }
   ],
   "source": [
    "# POTUS from the \"Category\": Presidents_of_the_United_States\n",
    "\n",
    "potus_result = catMerger(df_potus, df_ig_gcm)\n",
    "df_survey_potus = pd.read_csv(\"../data/survey_single_cat_files/sv_prep_uri/sv_potus_prep.csv\", sep=';')\n",
    "\n",
    "df_survey_potus_gcm = gcmSurfer(df_survey_potus, potus_result)"
   ]
  },
  {
   "cell_type": "code",
   "execution_count": 30,
   "metadata": {},
   "outputs": [
    {
     "name": "stdout",
     "output_type": "stream",
     "text": [
      "Dataframe merged with shape: (48, 5)\n",
      "============================\n",
      "Rows with NaN values dropped: 0 from 19 => 0.0% \n",
      "Dataframe merged with shape: (19, 6)\n"
     ]
    }
   ],
   "source": [
    "# POTUS from the \"Category\": Presidents_of_the_United_States\n",
    "\n",
    "potus_result = catMerger(df_potus, df_ig_gcm)\n",
    "df_survey_potus_impr = pd.read_csv(\"../data/survey_single_cat_files/sv_prep_uri/improved_uri/sv_potus_impr.csv\", sep=';')\n",
    "\n",
    "df_survey_potus_gcm_impr = gcmSurfer(df_survey_potus_impr, potus_result)"
   ]
  },
  {
   "cell_type": "code",
   "execution_count": null,
   "metadata": {},
   "outputs": [],
   "source": [
    "ordinalReg(df_survey_potus_gcm, ['degree'], 3)"
   ]
  },
  {
   "cell_type": "code",
   "execution_count": null,
   "metadata": {},
   "outputs": [],
   "source": [
    "ordinalReg(df_survey_potus_gcm, ['eigenvector'], 3)"
   ]
  },
  {
   "cell_type": "code",
   "execution_count": null,
   "metadata": {},
   "outputs": [],
   "source": [
    "ordinalReg(df_survey_potus_gcm, ['pagerank'], 3)"
   ]
  },
  {
   "cell_type": "markdown",
   "metadata": {},
   "source": [
    "## Cities"
   ]
  },
  {
   "cell_type": "code",
   "execution_count": 31,
   "metadata": {},
   "outputs": [
    {
     "name": "stdout",
     "output_type": "stream",
     "text": [
      "Dataframe merged with shape: (10000, 5)\n",
      "============================\n",
      "Rows with NaN values dropped: 85 from 89 => 95.51% \n",
      "Dataframe merged with shape: (4, 6)\n"
     ]
    }
   ],
   "source": [
    "# Cities from the \"Category\": \"dbo:City\"\n",
    "\n",
    "city_result = catMerger(df_city, df_ig_gcm)\n",
    "df_survey_city = pd.read_csv(\"../data/survey_single_cat_files/sv_prep_uri/sv_cities_prep.csv\", sep=';')\n",
    "\n",
    "df_city_survey_gcm = gcmSurfer(df_survey_city, city_result)"
   ]
  },
  {
   "cell_type": "code",
   "execution_count": 32,
   "metadata": {},
   "outputs": [
    {
     "name": "stdout",
     "output_type": "stream",
     "text": [
      "Rows with NaN values dropped: 82 from 90 => 91.11% \n",
      "Dataframe merged with shape: (8, 6)\n"
     ]
    }
   ],
   "source": [
    "df_survey_city_impr = pd.read_csv(\"../data/survey_single_cat_files/sv_prep_uri/improved_uri/sv_cities_impr.csv\", sep=';')\n",
    "\n",
    "df_city_survey_gcm_impr = gcmSurfer(df_survey_city_impr, city_result)"
   ]
  },
  {
   "cell_type": "code",
   "execution_count": null,
   "metadata": {},
   "outputs": [],
   "source": [
    "ordinalReg(df_city_survey_gcm, ['degree'], 3)"
   ]
  },
  {
   "cell_type": "code",
   "execution_count": null,
   "metadata": {},
   "outputs": [],
   "source": [
    "ordinalReg(df_city_survey_gcm, ['eigenvector'], 3)"
   ]
  },
  {
   "cell_type": "code",
   "execution_count": null,
   "metadata": {},
   "outputs": [],
   "source": [
    "ordinalReg(df_city_survey_gcm, ['pagerank'], 3)"
   ]
  },
  {
   "cell_type": "markdown",
   "metadata": {},
   "source": [
    "## Lakes"
   ]
  },
  {
   "cell_type": "code",
   "execution_count": 33,
   "metadata": {},
   "outputs": [
    {
     "name": "stdout",
     "output_type": "stream",
     "text": [
      "Dataframe merged with shape: (10000, 5)\n",
      "============================\n",
      "Rows with NaN values dropped: 42 from 80 => 52.5% \n",
      "Dataframe merged with shape: (38, 6)\n"
     ]
    }
   ],
   "source": [
    "# Lakes from the \"Category\": \"dbo:Lake\"\n",
    "\n",
    "lake_result = catMerger(df_lake, df_ig_gcm)\n",
    "df_survey_lake = pd.read_csv(\"../data/survey_single_cat_files/sv_prep_uri/sv_lakes_prep.csv\", sep=';')\n",
    "\n",
    "df_lake_survey_gcm = gcmSurfer(df_survey_lake, lake_result)"
   ]
  },
  {
   "cell_type": "code",
   "execution_count": 34,
   "metadata": {},
   "outputs": [
    {
     "name": "stdout",
     "output_type": "stream",
     "text": [
      "Rows with NaN values dropped: 20 from 70 => 28.57% \n",
      "Dataframe merged with shape: (50, 6)\n"
     ]
    }
   ],
   "source": [
    "df_survey_lake_impr = pd.read_csv(\"../data/survey_single_cat_files/sv_prep_uri/improved_uri/sv_lakes_impr.csv\", sep=';')\n",
    "\n",
    "df_lake_survey_gcm_impr = gcmSurfer(df_survey_lake_impr, lake_result)"
   ]
  },
  {
   "cell_type": "code",
   "execution_count": null,
   "metadata": {},
   "outputs": [],
   "source": [
    "ordinalReg(df_lake_survey_gcm, ['degree'], 3)"
   ]
  },
  {
   "cell_type": "code",
   "execution_count": null,
   "metadata": {},
   "outputs": [],
   "source": [
    "ordinalReg(df_lake_survey_gcm, ['eigenvector'], 3)"
   ]
  },
  {
   "cell_type": "code",
   "execution_count": null,
   "metadata": {},
   "outputs": [],
   "source": [
    "ordinalReg(df_lake_survey_gcm, ['pagerank'], 3)"
   ]
  },
  {
   "cell_type": "markdown",
   "metadata": {},
   "source": [
    "### Mountains"
   ]
  },
  {
   "cell_type": "code",
   "execution_count": 35,
   "metadata": {},
   "outputs": [
    {
     "name": "stdout",
     "output_type": "stream",
     "text": [
      "Dataframe merged with shape: (10000, 5)\n",
      "============================\n",
      "Rows with NaN values dropped: 28 from 56 => 50.0% \n",
      "Dataframe merged with shape: (28, 6)\n"
     ]
    }
   ],
   "source": [
    "# Mountains from the \"Category\": \"dbo:Mountain\"\n",
    "\n",
    "mountain_result = catMerger(df_mountain, df_ig_gcm)\n",
    "df_survey_mountain = pd.read_csv(\"../data/survey_single_cat_files/sv_prep_uri/sv_mountains_prep.csv\", sep=';')\n",
    "\n",
    "df_mountain_survey_gcm = gcmSurfer(df_survey_mountain, mountain_result)"
   ]
  },
  {
   "cell_type": "code",
   "execution_count": 36,
   "metadata": {},
   "outputs": [
    {
     "name": "stdout",
     "output_type": "stream",
     "text": [
      "Rows with NaN values dropped: 17 from 52 => 32.69% \n",
      "Dataframe merged with shape: (35, 6)\n"
     ]
    }
   ],
   "source": [
    "df_survey_mountain_impr = pd.read_csv(\"../data/survey_single_cat_files/sv_prep_uri/improved_uri/sv_mountains_impr.csv\", sep=';')\n",
    "\n",
    "df_mountain_survey_gcm_impr = gcmSurfer(df_survey_mountain_impr, mountain_result)"
   ]
  },
  {
   "cell_type": "code",
   "execution_count": null,
   "metadata": {},
   "outputs": [],
   "source": [
    "ordinalReg(df_mountain_survey_gcm, ['degree'], 3)"
   ]
  },
  {
   "cell_type": "code",
   "execution_count": null,
   "metadata": {},
   "outputs": [],
   "source": [
    "ordinalReg(df_mountain_survey_gcm, ['eigenvector'], 3)"
   ]
  },
  {
   "cell_type": "code",
   "execution_count": null,
   "metadata": {},
   "outputs": [],
   "source": [
    "ordinalReg(df_mountain_survey_gcm, ['pagerank'], 3)"
   ]
  },
  {
   "cell_type": "markdown",
   "metadata": {},
   "source": [
    "### EU capital cities"
   ]
  },
  {
   "cell_type": "code",
   "execution_count": 37,
   "metadata": {},
   "outputs": [
    {
     "name": "stdout",
     "output_type": "stream",
     "text": [
      "Dataframe merged with shape: (52, 5)\n",
      "============================\n",
      "Rows with NaN values dropped: 7 from 29 => 24.14% \n",
      "Dataframe merged with shape: (22, 6)\n"
     ]
    }
   ],
   "source": [
    "euCap_result = catMerger(df_euCap, df_ig_gcm)\n",
    "df_survey_euCap = pd.read_csv(\"../data/survey_single_cat_files/sv_prep_uri/sv_european_capital_cities_prep.csv\", sep=';')\n",
    "\n",
    "df_euCap_survey_gcm = gcmSurfer(df_survey_euCap, euCap_result)"
   ]
  },
  {
   "cell_type": "code",
   "execution_count": 38,
   "metadata": {},
   "outputs": [
    {
     "name": "stdout",
     "output_type": "stream",
     "text": [
      "Rows with NaN values dropped: 4 from 28 => 14.29% \n",
      "Dataframe merged with shape: (24, 6)\n"
     ]
    }
   ],
   "source": [
    "df_survey_euCap_impr = pd.read_csv(\"../data/survey_single_cat_files/sv_prep_uri/improved_uri/sv_european_capital_cities_impr.csv\", sep=';')\n",
    "\n",
    "df_euCap_survey_gcm_impr = gcmSurfer(df_survey_euCap_impr, euCap_result)"
   ]
  },
  {
   "cell_type": "code",
   "execution_count": null,
   "metadata": {},
   "outputs": [],
   "source": [
    "ordinalReg(df_euCap_survey_gcm, ['degree'], 3)"
   ]
  },
  {
   "cell_type": "code",
   "execution_count": null,
   "metadata": {},
   "outputs": [],
   "source": [
    "ordinalReg(df_euCap_survey_gcm, ['pagerank'], 3)"
   ]
  },
  {
   "cell_type": "code",
   "execution_count": null,
   "metadata": {},
   "outputs": [],
   "source": [
    "ordinalReg(df_euCap_survey_gcm, ['eigenvector'], 3)"
   ]
  },
  {
   "cell_type": "markdown",
   "metadata": {},
   "source": [
    "### European countries"
   ]
  },
  {
   "cell_type": "code",
   "execution_count": 39,
   "metadata": {},
   "outputs": [
    {
     "name": "stdout",
     "output_type": "stream",
     "text": [
      "Dataframe merged with shape: (51, 5)\n",
      "============================\n",
      "Rows with NaN values dropped: 1 from 29 => 3.45% \n",
      "Dataframe merged with shape: (28, 6)\n"
     ]
    }
   ],
   "source": [
    "euCou_result = catMerger(df_euCou, df_ig_gcm)\n",
    "df_survey_euCou = pd.read_csv(\"../data/survey_single_cat_files/sv_prep_uri/sv_european_countries_prep.csv\", sep=';')\n",
    "\n",
    "df_euCou_survey_gcm = gcmSurfer(df_survey_euCou, euCou_result)"
   ]
  },
  {
   "cell_type": "code",
   "execution_count": 40,
   "metadata": {},
   "outputs": [
    {
     "name": "stdout",
     "output_type": "stream",
     "text": [
      "Rows with NaN values dropped: 0 from 29 => 0.0% \n",
      "Dataframe merged with shape: (29, 6)\n"
     ]
    }
   ],
   "source": [
    "df_survey_euCou_impr = pd.read_csv(\"../data/survey_single_cat_files/sv_prep_uri/improved_uri/sv_european_countries_impr.csv\", sep=';')\n",
    "\n",
    "df_euCou_survey_gcm_impr = gcmSurfer(df_survey_euCou_impr, euCou_result)"
   ]
  },
  {
   "cell_type": "code",
   "execution_count": null,
   "metadata": {},
   "outputs": [],
   "source": [
    "ordinalReg(df_euCou_survey_gcm, ['degree'], 3)"
   ]
  },
  {
   "cell_type": "code",
   "execution_count": null,
   "metadata": {},
   "outputs": [],
   "source": [
    "ordinalReg(df_euCou_survey_gcm, ['eigenvector'], 3)"
   ]
  },
  {
   "cell_type": "code",
   "execution_count": null,
   "metadata": {},
   "outputs": [],
   "source": [
    "ordinalReg(df_euCou_survey_gcm, ['pagerank'], 3)"
   ]
  },
  {
   "cell_type": "markdown",
   "metadata": {},
   "source": [
    "## Asian countries"
   ]
  },
  {
   "cell_type": "code",
   "execution_count": 41,
   "metadata": {},
   "outputs": [
    {
     "name": "stdout",
     "output_type": "stream",
     "text": [
      "Dataframe merged with shape: (60, 5)\n",
      "============================\n",
      "Rows with NaN values dropped: 7 from 33 => 21.21% \n",
      "Dataframe merged with shape: (26, 6)\n"
     ]
    }
   ],
   "source": [
    "# Asian countries from the \"Category\": \"dbc:Countries_in_Asia\", \"dbc:East_Asian_countries\" and \"dbc:Central_Asian_countries\"\n",
    "\n",
    "asCou_result = catMerger(df_asCou, df_ig_gcm)\n",
    "df_survey_asCou = pd.read_csv(\"../data/survey_single_cat_files/sv_prep_uri/sv_asian_countries_prep.csv\", sep=';') # .csv needed no manual uri correction\n",
    "\n",
    "df_asCou_survey_gcm = gcmSurfer(df_survey_asCou, asCou_result)"
   ]
  },
  {
   "cell_type": "code",
   "execution_count": 42,
   "metadata": {},
   "outputs": [
    {
     "name": "stdout",
     "output_type": "stream",
     "text": [
      "Rows with NaN values dropped: 7 from 33 => 21.21% \n",
      "Dataframe merged with shape: (26, 6)\n"
     ]
    }
   ],
   "source": [
    "df_survey_asCou_impr = pd.read_csv(\"../data/survey_single_cat_files/sv_prep_uri/improved_uri/sv_asian_countries_impr.csv\", sep=';') # .csv needed no manual uri correction\n",
    "\n",
    "df_asCou_survey_gcm_impr = gcmSurfer(df_survey_asCou_impr, asCou_result)"
   ]
  },
  {
   "cell_type": "code",
   "execution_count": null,
   "metadata": {},
   "outputs": [],
   "source": [
    "ordinalReg(df_asCou_survey_gcm, ['degree'], 3)"
   ]
  },
  {
   "cell_type": "code",
   "execution_count": null,
   "metadata": {},
   "outputs": [],
   "source": [
    "ordinalReg(df_asCou_survey_gcm, ['eigenvector'], 3)"
   ]
  },
  {
   "cell_type": "code",
   "execution_count": null,
   "metadata": {},
   "outputs": [],
   "source": [
    "ordinalReg(df_asCou_survey_gcm, ['pagerank'], 3)"
   ]
  },
  {
   "cell_type": "markdown",
   "metadata": {},
   "source": [
    "## Continents"
   ]
  },
  {
   "cell_type": "code",
   "execution_count": 43,
   "metadata": {},
   "outputs": [
    {
     "name": "stdout",
     "output_type": "stream",
     "text": [
      "Dataframe merged with shape: (20, 5)\n",
      "============================\n",
      "Rows with NaN values dropped: 7 from 10 => 70.0% \n",
      "Dataframe merged with shape: (3, 6)\n"
     ]
    }
   ],
   "source": [
    "# Continents from the \"Category\": \"dbo:Continents\"\n",
    "\n",
    "continent_result = catMerger(df_continent, df_ig_gcm)\n",
    "df_survey_continent = pd.read_csv(\"../data/survey_single_cat_files/sv_prep_uri/sv_continents_prep.csv\", sep=';')\n",
    "\n",
    "df_continent_survey_gcm = gcmSurfer(df_survey_continent, continent_result)"
   ]
  },
  {
   "cell_type": "code",
   "execution_count": 44,
   "metadata": {},
   "outputs": [
    {
     "name": "stdout",
     "output_type": "stream",
     "text": [
      "Rows with NaN values dropped: 1 from 8 => 12.5% \n",
      "Dataframe merged with shape: (7, 6)\n"
     ]
    }
   ],
   "source": [
    "df_survey_continent_impr = pd.read_csv(\"../data/survey_single_cat_files/sv_prep_uri/improved_uri/sv_continents_impr.csv\", sep=';') # .csv needed no manual uri correction\n",
    "\n",
    "df_continent_survey_gcm_impr = gcmSurfer(df_survey_continent_impr, continent_result)"
   ]
  },
  {
   "cell_type": "code",
   "execution_count": null,
   "metadata": {},
   "outputs": [],
   "source": [
    "ordinalReg(df_continent_survey_gcm, ['degree'], 3)"
   ]
  },
  {
   "cell_type": "code",
   "execution_count": null,
   "metadata": {},
   "outputs": [],
   "source": [
    "ordinalReg(df_continent_survey_gcm, ['eigenvector'], 3)"
   ]
  },
  {
   "cell_type": "code",
   "execution_count": null,
   "metadata": {},
   "outputs": [],
   "source": [
    "ordinalReg(df_continent_survey_gcm, ['pagerank'], 3)"
   ]
  },
  {
   "cell_type": "markdown",
   "metadata": {},
   "source": [
    "## Birds"
   ]
  },
  {
   "cell_type": "code",
   "execution_count": 45,
   "metadata": {},
   "outputs": [
    {
     "name": "stdout",
     "output_type": "stream",
     "text": [
      "Dataframe merged with shape: (10000, 5)\n",
      "============================\n",
      "Rows with NaN values dropped: 52 from 61 => 85.25% \n",
      "Dataframe merged with shape: (9, 6)\n"
     ]
    }
   ],
   "source": [
    "# Birds from the \"Class\": \"dbr:Bird\"\n",
    "\n",
    "bird_result = catMerger(df_bird, df_ig_gcm)\n",
    "df_survey_bird = pd.read_csv(\"../data/survey_single_cat_files/sv_prep_uri/sv_birds_prep.csv\", sep=';')\n",
    "\n",
    "df_birds_survey_gcm = gcmSurfer(df_survey_bird, bird_result)"
   ]
  },
  {
   "cell_type": "code",
   "execution_count": 46,
   "metadata": {},
   "outputs": [
    {
     "name": "stdout",
     "output_type": "stream",
     "text": [
      "Rows with NaN values dropped: 27 from 50 => 54.0% \n",
      "Dataframe merged with shape: (23, 6)\n"
     ]
    }
   ],
   "source": [
    "df_survey_bird_impr = pd.read_csv(\"../data/survey_single_cat_files/sv_prep_uri/improved_uri/sv_birds_impr.csv\", sep=';')\n",
    "\n",
    "df_birds_survey_gcm_impr = gcmSurfer(df_survey_bird_impr, bird_result)"
   ]
  },
  {
   "cell_type": "code",
   "execution_count": null,
   "metadata": {},
   "outputs": [],
   "source": [
    "ordinalReg(df_birds_survey_gcm, ['degree'], 3)"
   ]
  },
  {
   "cell_type": "code",
   "execution_count": null,
   "metadata": {},
   "outputs": [],
   "source": [
    "ordinalReg(df_birds_survey_gcm, ['eigenvector'], 3)"
   ]
  },
  {
   "cell_type": "code",
   "execution_count": null,
   "metadata": {},
   "outputs": [],
   "source": [
    "ordinalReg(df_birds_survey_gcm, ['pagerank'], 3)"
   ]
  },
  {
   "cell_type": "markdown",
   "metadata": {},
   "source": [
    "## African animals"
   ]
  },
  {
   "cell_type": "code",
   "execution_count": 47,
   "metadata": {},
   "outputs": [
    {
     "name": "stdout",
     "output_type": "stream",
     "text": [
      "Dataframe merged with shape: (10000, 5)\n",
      "============================\n",
      "Rows with NaN values dropped: 22 from 29 => 75.86% \n",
      "Dataframe merged with shape: (7, 6)\n"
     ]
    }
   ],
   "source": [
    "# African animals from the \"Category\": \"dbc:Vertebrates_of_Africa\"\n",
    "\n",
    "afrAnimal_result = catMerger(df_africanAnimal, df_ig_gcm)\n",
    "df_survey_afrAnimal = pd.read_csv(\"../data/survey_single_cat_files/sv_prep_uri/sv_african_animals_prep.csv\", sep=';')\n",
    "\n",
    "df_afrAnimal_survey_gcm = gcmSurfer(df_survey_afrAnimal, afrAnimal_result)"
   ]
  },
  {
   "cell_type": "code",
   "execution_count": 48,
   "metadata": {},
   "outputs": [
    {
     "name": "stdout",
     "output_type": "stream",
     "text": [
      "Rows with NaN values dropped: 11 from 25 => 44.0% \n",
      "Dataframe merged with shape: (14, 6)\n"
     ]
    }
   ],
   "source": [
    "df_survey_afrAnimal_impr = pd.read_csv(\"../data/survey_single_cat_files/sv_prep_uri/improved_uri/sv_african_animals_impr.csv\", sep=';')\n",
    "\n",
    "df_afrAnimal_survey_gcm_impr = gcmSurfer(df_survey_afrAnimal_impr, afrAnimal_result)"
   ]
  },
  {
   "cell_type": "code",
   "execution_count": null,
   "metadata": {},
   "outputs": [],
   "source": [
    "ordinalReg(df_afrAnimal_survey_gcm, ['degree'], 3)"
   ]
  },
  {
   "cell_type": "code",
   "execution_count": null,
   "metadata": {},
   "outputs": [],
   "source": [
    "ordinalReg(df_afrAnimal_survey_gcm, ['eigenvector'], 3)"
   ]
  },
  {
   "cell_type": "code",
   "execution_count": null,
   "metadata": {},
   "outputs": [],
   "source": [
    "ordinalReg(df_afrAnimal_survey_gcm, ['pagerank'], 3)"
   ]
  },
  {
   "cell_type": "markdown",
   "metadata": {},
   "source": [
    "## Furniture"
   ]
  },
  {
   "cell_type": "code",
   "execution_count": 49,
   "metadata": {},
   "outputs": [
    {
     "name": "stdout",
     "output_type": "stream",
     "text": [
      "Dataframe merged with shape: (193, 5)\n",
      "============================\n",
      "Rows with NaN values dropped: 27 from 30 => 90.0% \n",
      "Dataframe merged with shape: (3, 6)\n"
     ]
    }
   ],
   "source": [
    "# Furniture from the \"Category\": \"dbc:Furniture\"\n",
    "\n",
    "furniture_result = catMerger(df_furniture, df_ig_gcm)\n",
    "df_survey_furniture = pd.read_csv(\"../data/survey_single_cat_files/sv_prep_uri/sv_furniture_prep.csv\", sep=';') # .csv needed no manual uri correction\n",
    "\n",
    "df_furniture_survey_gcm = gcmSurfer(df_survey_furniture, furniture_result)"
   ]
  },
  {
   "cell_type": "code",
   "execution_count": 50,
   "metadata": {},
   "outputs": [
    {
     "name": "stdout",
     "output_type": "stream",
     "text": [
      "Rows with NaN values dropped: 16 from 27 => 59.26% \n",
      "Dataframe merged with shape: (11, 6)\n"
     ]
    }
   ],
   "source": [
    "df_survey_furniture_impr = pd.read_csv(\"../data/survey_single_cat_files/sv_prep_uri/improved_uri/sv_furniture_impr.csv\", sep=';')\n",
    "\n",
    "df_furniture_survey_gcm_impr = gcmSurfer(df_survey_furniture_impr, furniture_result)"
   ]
  },
  {
   "cell_type": "code",
   "execution_count": null,
   "metadata": {},
   "outputs": [],
   "source": [
    "ordinalReg(df_furniture_survey_gcm, ['degree'], 3)"
   ]
  },
  {
   "cell_type": "code",
   "execution_count": null,
   "metadata": {},
   "outputs": [],
   "source": [
    "ordinalReg(df_furniture_survey_gcm, ['eigenvector'], 3)"
   ]
  },
  {
   "cell_type": "code",
   "execution_count": null,
   "metadata": {},
   "outputs": [],
   "source": [
    "ordinalReg(df_furniture_survey_gcm, ['pagerank'], 3)"
   ]
  },
  {
   "cell_type": "markdown",
   "metadata": {},
   "source": [
    "## Vegetables"
   ]
  },
  {
   "cell_type": "code",
   "execution_count": 51,
   "metadata": {},
   "outputs": [
    {
     "name": "stdout",
     "output_type": "stream",
     "text": [
      "Dataframe merged with shape: (3742, 5)\n",
      "============================\n",
      "Rows with NaN values dropped: 17 from 42 => 40.48% \n",
      "Dataframe merged with shape: (25, 6)\n"
     ]
    }
   ],
   "source": [
    "# Vegetables from the \"Category\": \"dbc:Vegetables\"\n",
    "\n",
    "vegetable_result = catMerger(df_vegetable, df_ig_gcm)\n",
    "df_survey_vegetable = pd.read_csv(\"../data/survey_single_cat_files/sv_prep_uri/sv_vegetables_prep.csv\", sep=';') # .csv needed no manual uri correction\n",
    "\n",
    "df_vegetable_survey_gcm = gcmSurfer(df_survey_vegetable, vegetable_result)"
   ]
  },
  {
   "cell_type": "code",
   "execution_count": 52,
   "metadata": {},
   "outputs": [
    {
     "name": "stdout",
     "output_type": "stream",
     "text": [
      "Rows with NaN values dropped: 8 from 37 => 21.62% \n",
      "Dataframe merged with shape: (29, 6)\n"
     ]
    }
   ],
   "source": [
    "df_survey_vegetable_impr = pd.read_csv(\"../data/survey_single_cat_files/sv_prep_uri/improved_uri/sv_vegetables_impr.csv\", sep=';') # .csv needed no manual uri correction\n",
    "\n",
    "df_vegetable_survey_gcm_impr = gcmSurfer(df_survey_vegetable_impr, vegetable_result)"
   ]
  },
  {
   "cell_type": "code",
   "execution_count": null,
   "metadata": {},
   "outputs": [],
   "source": [
    "ordinalReg(df_vegetable_survey_gcm, ['degree'], 3)"
   ]
  },
  {
   "cell_type": "code",
   "execution_count": null,
   "metadata": {},
   "outputs": [],
   "source": [
    "ordinalReg(df_vegetable_survey_gcm, ['eigenvector'], 3)"
   ]
  },
  {
   "cell_type": "code",
   "execution_count": null,
   "metadata": {},
   "outputs": [],
   "source": [
    "ordinalReg(df_vegetable_survey_gcm, ['pagerank'], 3)"
   ]
  },
  {
   "cell_type": "markdown",
   "metadata": {},
   "source": [
    "## Fast Food"
   ]
  },
  {
   "cell_type": "code",
   "execution_count": 53,
   "metadata": {},
   "outputs": [
    {
     "name": "stdout",
     "output_type": "stream",
     "text": [
      "Dataframe merged with shape: (4693, 5)\n",
      "============================\n",
      "Rows with NaN values dropped: 17 from 31 => 54.84% \n",
      "Dataframe merged with shape: (14, 6)\n"
     ]
    }
   ],
   "source": [
    "# Types of fast food from the \"Category\": \"dbc:Fast_food\" \n",
    "\n",
    "fastfood_result = catMerger(df_fastFood, df_ig_gcm)\n",
    "df_survey_fastfood = pd.read_csv(\"../data/survey_single_cat_files/sv_prep_uri/sv_fast_food_prep.csv\", sep=';')\n",
    "\n",
    "df_fastfood_survey_gcm = gcmSurfer(df_survey_fastfood, fastfood_result)"
   ]
  },
  {
   "cell_type": "code",
   "execution_count": 54,
   "metadata": {},
   "outputs": [
    {
     "name": "stdout",
     "output_type": "stream",
     "text": [
      "Rows with NaN values dropped: 9 from 27 => 33.33% \n",
      "Dataframe merged with shape: (18, 6)\n"
     ]
    }
   ],
   "source": [
    "df_survey_fastfood_impr = pd.read_csv(\"../data/survey_single_cat_files/sv_prep_uri/improved_uri/sv_fast_food_impr.csv\", sep=';')\n",
    "\n",
    "df_fastfood_survey_gcm_impr = gcmSurfer(df_survey_fastfood_impr, fastfood_result)"
   ]
  },
  {
   "cell_type": "code",
   "execution_count": null,
   "metadata": {},
   "outputs": [],
   "source": [
    "ordinalReg(df_fastfood_survey_gcm, ['degree'], 3)"
   ]
  },
  {
   "cell_type": "code",
   "execution_count": null,
   "metadata": {},
   "outputs": [],
   "source": [
    "ordinalReg(df_fastfood_survey_gcm, ['eigenvector'], 3)"
   ]
  },
  {
   "cell_type": "code",
   "execution_count": null,
   "metadata": {},
   "outputs": [],
   "source": [
    "ordinalReg(df_fastfood_survey_gcm, ['pagerank'], 3)"
   ]
  },
  {
   "cell_type": "markdown",
   "metadata": {},
   "source": [
    "## European landmarks/sights"
   ]
  },
  {
   "cell_type": "code",
   "execution_count": 55,
   "metadata": {},
   "outputs": [
    {
     "name": "stdout",
     "output_type": "stream",
     "text": [
      "Dataframe merged with shape: (1403, 5)\n",
      "============================\n",
      "Rows with NaN values dropped: 59 from 65 => 90.77% \n",
      "Dataframe merged with shape: (6, 6)\n"
     ]
    }
   ],
   "source": [
    "# European Landmark/Sight from multiple \"Category\": \"dbc:Landmarks_in_x\" with x being a country from europe\n",
    "\n",
    "euSight_result = catMerger(df_euSight, df_ig_gcm)\n",
    "df_survey_euSight = pd.read_csv(\"../data/survey_single_cat_files/sv_prep_uri/sv_european_landmarks_prep.csv\", sep=';')\n",
    "\n",
    "df_euSight_survey_gcm = gcmSurfer(df_survey_euSight, euSight_result)"
   ]
  },
  {
   "cell_type": "code",
   "execution_count": 57,
   "metadata": {},
   "outputs": [
    {
     "name": "stdout",
     "output_type": "stream",
     "text": [
      "Rows with NaN values dropped: 55 from 64 => 85.94% \n",
      "Dataframe merged with shape: (9, 6)\n"
     ]
    }
   ],
   "source": [
    "df_survey_euSight_impr = pd.read_csv(\"../data/survey_single_cat_files/sv_prep_uri/improved_uri/sv_european_landmarks_impr.csv\", sep=';')\n",
    "\n",
    "df_euSight_survey_gcm_impr = gcmSurfer(df_survey_euSight_impr, euSight_result)"
   ]
  },
  {
   "cell_type": "code",
   "execution_count": null,
   "metadata": {},
   "outputs": [],
   "source": [
    "ordinalReg(df_euSight_survey_gcm, ['degree'], 3)"
   ]
  },
  {
   "cell_type": "code",
   "execution_count": null,
   "metadata": {},
   "outputs": [],
   "source": [
    "ordinalReg(df_euSight_survey_gcm, ['eigenvector'], 3)"
   ]
  },
  {
   "cell_type": "code",
   "execution_count": null,
   "metadata": {},
   "outputs": [],
   "source": [
    "ordinalReg(df_euSight_survey_gcm, ['pagerank'], 3)"
   ]
  },
  {
   "cell_type": "markdown",
   "metadata": {},
   "source": [
    "## DAX companies"
   ]
  },
  {
   "cell_type": "code",
   "execution_count": 58,
   "metadata": {},
   "outputs": [
    {
     "name": "stdout",
     "output_type": "stream",
     "text": [
      "Dataframe merged with shape: (28, 5)\n",
      "============================\n",
      "Rows with NaN values dropped: 47 from 60 => 78.33% \n",
      "Dataframe merged with shape: (13, 6)\n"
     ]
    }
   ],
   "source": [
    "# DAX company from the \"Type\": \"dbo:Company\" and \"dbp:tradedAs\" -> \"dbr:DAX\"\n",
    "\n",
    "daxCo_result = catMerger(df_daxCo, df_ig_gcm)\n",
    "df_daxCo = pd.read_csv(\"../data/survey_single_cat_files/sv_prep_uri/sv_dax_companies_prep.csv\", sep=';')\n",
    "\n",
    "df_daxCo_survey_gcm = gcmSurfer(df_daxCo, daxCo_result)"
   ]
  },
  {
   "cell_type": "code",
   "execution_count": 59,
   "metadata": {},
   "outputs": [
    {
     "name": "stdout",
     "output_type": "stream",
     "text": [
      "Rows with NaN values dropped: 37 from 53 => 69.81% \n",
      "Dataframe merged with shape: (16, 6)\n"
     ]
    }
   ],
   "source": [
    "df_daxCo_impr = pd.read_csv(\"../data/survey_single_cat_files/sv_prep_uri/improved_uri/sv_dax_companies_impr.csv\", sep=';')\n",
    "\n",
    "df_daxCo_survey_gcm_impr = gcmSurfer(df_daxCo_impr, daxCo_result)"
   ]
  },
  {
   "cell_type": "code",
   "execution_count": null,
   "metadata": {},
   "outputs": [],
   "source": [
    "df_daxCo_survey_gcm"
   ]
  },
  {
   "cell_type": "code",
   "execution_count": null,
   "metadata": {},
   "outputs": [],
   "source": [
    "ordinalReg(df_daxCo_survey_gcm, ['degree'], 3)"
   ]
  },
  {
   "cell_type": "code",
   "execution_count": null,
   "metadata": {},
   "outputs": [],
   "source": [
    "ordinalReg(df_daxCo_survey_gcm, ['eigenvector'], 3)"
   ]
  },
  {
   "cell_type": "code",
   "execution_count": null,
   "metadata": {},
   "outputs": [],
   "source": [
    "ordinalReg(df_daxCo_survey_gcm, ['pagerank'], 3)"
   ]
  },
  {
   "cell_type": "markdown",
   "metadata": {},
   "source": [
    "## US companies"
   ]
  },
  {
   "cell_type": "code",
   "execution_count": 60,
   "metadata": {},
   "outputs": [
    {
     "name": "stdout",
     "output_type": "stream",
     "text": [
      "Dataframe merged with shape: (1079, 5)\n",
      "============================\n",
      "Rows with NaN values dropped: 83 from 83 => 100.0% \n"
     ]
    },
    {
     "ename": "ValueError",
     "evalue": "Found array with 0 sample(s) (shape=(0, 1)) while a minimum of 1 is required by MinMaxScaler.",
     "output_type": "error",
     "traceback": [
      "\u001b[0;31m---------------------------------------------------------------------------\u001b[0m",
      "\u001b[0;31mValueError\u001b[0m                                Traceback (most recent call last)",
      "\u001b[0;32m<ipython-input-60-cfa86edde3ab>\u001b[0m in \u001b[0;36m<module>\u001b[0;34m\u001b[0m\n\u001b[1;32m      4\u001b[0m \u001b[0mdf_survey_usCo\u001b[0m \u001b[0;34m=\u001b[0m \u001b[0mpd\u001b[0m\u001b[0;34m.\u001b[0m\u001b[0mread_csv\u001b[0m\u001b[0;34m(\u001b[0m\u001b[0;34m\"../data/survey_single_cat_files/sv_prep_uri/sv_us_companies_prep.csv\"\u001b[0m\u001b[0;34m,\u001b[0m \u001b[0msep\u001b[0m\u001b[0;34m=\u001b[0m\u001b[0;34m';'\u001b[0m\u001b[0;34m,\u001b[0m \u001b[0mencoding\u001b[0m\u001b[0;34m=\u001b[0m\u001b[0;34m\"ISO-8859-1\"\u001b[0m\u001b[0;34m)\u001b[0m \u001b[0;31m# .csv needed no manual uri correction\u001b[0m\u001b[0;34m\u001b[0m\u001b[0;34m\u001b[0m\u001b[0m\n\u001b[1;32m      5\u001b[0m \u001b[0;34m\u001b[0m\u001b[0m\n\u001b[0;32m----> 6\u001b[0;31m \u001b[0mdf_usCo_survey_gcm\u001b[0m \u001b[0;34m=\u001b[0m \u001b[0mgcmSurfer\u001b[0m\u001b[0;34m(\u001b[0m\u001b[0mdf_survey_usCo\u001b[0m\u001b[0;34m,\u001b[0m \u001b[0musCo_result\u001b[0m\u001b[0;34m)\u001b[0m\u001b[0;34m\u001b[0m\u001b[0;34m\u001b[0m\u001b[0m\n\u001b[0m",
      "\u001b[0;32m<ipython-input-14-b0fb084d8205>\u001b[0m in \u001b[0;36mgcmSurfer\u001b[0;34m(survey_data, cat_gcm_data)\u001b[0m\n\u001b[1;32m     31\u001b[0m     \u001b[0;31m# scale and normalize the survey data\u001b[0m\u001b[0;34m\u001b[0m\u001b[0;34m\u001b[0m\u001b[0;34m\u001b[0m\u001b[0m\n\u001b[1;32m     32\u001b[0m     \u001b[0mmin_max_scaler\u001b[0m \u001b[0;34m=\u001b[0m \u001b[0mpreprocessing\u001b[0m\u001b[0;34m.\u001b[0m\u001b[0mMinMaxScaler\u001b[0m\u001b[0;34m(\u001b[0m\u001b[0;34m)\u001b[0m\u001b[0;34m\u001b[0m\u001b[0;34m\u001b[0m\u001b[0m\n\u001b[0;32m---> 33\u001b[0;31m     \u001b[0mdf_survey_gcm\u001b[0m\u001b[0;34m[\u001b[0m\u001b[0;34m[\u001b[0m\u001b[0;34m'amount'\u001b[0m\u001b[0;34m]\u001b[0m\u001b[0;34m]\u001b[0m \u001b[0;34m=\u001b[0m \u001b[0mmin_max_scaler\u001b[0m\u001b[0;34m.\u001b[0m\u001b[0mfit_transform\u001b[0m\u001b[0;34m(\u001b[0m\u001b[0mdf_survey_gcm\u001b[0m\u001b[0;34m[\u001b[0m\u001b[0;34m[\u001b[0m\u001b[0;34m'amount'\u001b[0m\u001b[0;34m]\u001b[0m\u001b[0;34m]\u001b[0m\u001b[0;34m)\u001b[0m\u001b[0;34m\u001b[0m\u001b[0;34m\u001b[0m\u001b[0m\n\u001b[0m\u001b[1;32m     34\u001b[0m \u001b[0;34m\u001b[0m\u001b[0m\n\u001b[1;32m     35\u001b[0m     \u001b[0mprint\u001b[0m\u001b[0;34m(\u001b[0m\u001b[0;34m\"Dataframe merged with shape: {}\"\u001b[0m\u001b[0;34m.\u001b[0m\u001b[0mformat\u001b[0m\u001b[0;34m(\u001b[0m\u001b[0mdf_survey_gcm\u001b[0m\u001b[0;34m.\u001b[0m\u001b[0mshape\u001b[0m\u001b[0;34m)\u001b[0m\u001b[0;34m)\u001b[0m\u001b[0;34m\u001b[0m\u001b[0;34m\u001b[0m\u001b[0m\n",
      "\u001b[0;32m~/opt/anaconda3/lib/python3.7/site-packages/sklearn/base.py\u001b[0m in \u001b[0;36mfit_transform\u001b[0;34m(self, X, y, **fit_params)\u001b[0m\n\u001b[1;32m    569\u001b[0m         \u001b[0;32mif\u001b[0m \u001b[0my\u001b[0m \u001b[0;32mis\u001b[0m \u001b[0;32mNone\u001b[0m\u001b[0;34m:\u001b[0m\u001b[0;34m\u001b[0m\u001b[0;34m\u001b[0m\u001b[0m\n\u001b[1;32m    570\u001b[0m             \u001b[0;31m# fit method of arity 1 (unsupervised transformation)\u001b[0m\u001b[0;34m\u001b[0m\u001b[0;34m\u001b[0m\u001b[0;34m\u001b[0m\u001b[0m\n\u001b[0;32m--> 571\u001b[0;31m             \u001b[0;32mreturn\u001b[0m \u001b[0mself\u001b[0m\u001b[0;34m.\u001b[0m\u001b[0mfit\u001b[0m\u001b[0;34m(\u001b[0m\u001b[0mX\u001b[0m\u001b[0;34m,\u001b[0m \u001b[0;34m**\u001b[0m\u001b[0mfit_params\u001b[0m\u001b[0;34m)\u001b[0m\u001b[0;34m.\u001b[0m\u001b[0mtransform\u001b[0m\u001b[0;34m(\u001b[0m\u001b[0mX\u001b[0m\u001b[0;34m)\u001b[0m\u001b[0;34m\u001b[0m\u001b[0;34m\u001b[0m\u001b[0m\n\u001b[0m\u001b[1;32m    572\u001b[0m         \u001b[0;32melse\u001b[0m\u001b[0;34m:\u001b[0m\u001b[0;34m\u001b[0m\u001b[0;34m\u001b[0m\u001b[0m\n\u001b[1;32m    573\u001b[0m             \u001b[0;31m# fit method of arity 2 (supervised transformation)\u001b[0m\u001b[0;34m\u001b[0m\u001b[0;34m\u001b[0m\u001b[0;34m\u001b[0m\u001b[0m\n",
      "\u001b[0;32m~/opt/anaconda3/lib/python3.7/site-packages/sklearn/preprocessing/_data.py\u001b[0m in \u001b[0;36mfit\u001b[0;34m(self, X, y)\u001b[0m\n\u001b[1;32m    337\u001b[0m         \u001b[0;31m# Reset internal state before fitting\u001b[0m\u001b[0;34m\u001b[0m\u001b[0;34m\u001b[0m\u001b[0;34m\u001b[0m\u001b[0m\n\u001b[1;32m    338\u001b[0m         \u001b[0mself\u001b[0m\u001b[0;34m.\u001b[0m\u001b[0m_reset\u001b[0m\u001b[0;34m(\u001b[0m\u001b[0;34m)\u001b[0m\u001b[0;34m\u001b[0m\u001b[0;34m\u001b[0m\u001b[0m\n\u001b[0;32m--> 339\u001b[0;31m         \u001b[0;32mreturn\u001b[0m \u001b[0mself\u001b[0m\u001b[0;34m.\u001b[0m\u001b[0mpartial_fit\u001b[0m\u001b[0;34m(\u001b[0m\u001b[0mX\u001b[0m\u001b[0;34m,\u001b[0m \u001b[0my\u001b[0m\u001b[0;34m)\u001b[0m\u001b[0;34m\u001b[0m\u001b[0;34m\u001b[0m\u001b[0m\n\u001b[0m\u001b[1;32m    340\u001b[0m \u001b[0;34m\u001b[0m\u001b[0m\n\u001b[1;32m    341\u001b[0m     \u001b[0;32mdef\u001b[0m \u001b[0mpartial_fit\u001b[0m\u001b[0;34m(\u001b[0m\u001b[0mself\u001b[0m\u001b[0;34m,\u001b[0m \u001b[0mX\u001b[0m\u001b[0;34m,\u001b[0m \u001b[0my\u001b[0m\u001b[0;34m=\u001b[0m\u001b[0;32mNone\u001b[0m\u001b[0;34m)\u001b[0m\u001b[0;34m:\u001b[0m\u001b[0;34m\u001b[0m\u001b[0;34m\u001b[0m\u001b[0m\n",
      "\u001b[0;32m~/opt/anaconda3/lib/python3.7/site-packages/sklearn/preprocessing/_data.py\u001b[0m in \u001b[0;36mpartial_fit\u001b[0;34m(self, X, y)\u001b[0m\n\u001b[1;32m    371\u001b[0m         X = check_array(X,\n\u001b[1;32m    372\u001b[0m                         \u001b[0mestimator\u001b[0m\u001b[0;34m=\u001b[0m\u001b[0mself\u001b[0m\u001b[0;34m,\u001b[0m \u001b[0mdtype\u001b[0m\u001b[0;34m=\u001b[0m\u001b[0mFLOAT_DTYPES\u001b[0m\u001b[0;34m,\u001b[0m\u001b[0;34m\u001b[0m\u001b[0;34m\u001b[0m\u001b[0m\n\u001b[0;32m--> 373\u001b[0;31m                         force_all_finite=\"allow-nan\")\n\u001b[0m\u001b[1;32m    374\u001b[0m \u001b[0;34m\u001b[0m\u001b[0m\n\u001b[1;32m    375\u001b[0m         \u001b[0mdata_min\u001b[0m \u001b[0;34m=\u001b[0m \u001b[0mnp\u001b[0m\u001b[0;34m.\u001b[0m\u001b[0mnanmin\u001b[0m\u001b[0;34m(\u001b[0m\u001b[0mX\u001b[0m\u001b[0;34m,\u001b[0m \u001b[0maxis\u001b[0m\u001b[0;34m=\u001b[0m\u001b[0;36m0\u001b[0m\u001b[0;34m)\u001b[0m\u001b[0;34m\u001b[0m\u001b[0;34m\u001b[0m\u001b[0m\n",
      "\u001b[0;32m~/opt/anaconda3/lib/python3.7/site-packages/sklearn/utils/validation.py\u001b[0m in \u001b[0;36mcheck_array\u001b[0;34m(array, accept_sparse, accept_large_sparse, dtype, order, copy, force_all_finite, ensure_2d, allow_nd, ensure_min_samples, ensure_min_features, warn_on_dtype, estimator)\u001b[0m\n\u001b[1;32m    584\u001b[0m                              \u001b[0;34m\" minimum of %d is required%s.\"\u001b[0m\u001b[0;34m\u001b[0m\u001b[0;34m\u001b[0m\u001b[0m\n\u001b[1;32m    585\u001b[0m                              % (n_samples, array.shape, ensure_min_samples,\n\u001b[0;32m--> 586\u001b[0;31m                                 context))\n\u001b[0m\u001b[1;32m    587\u001b[0m \u001b[0;34m\u001b[0m\u001b[0m\n\u001b[1;32m    588\u001b[0m     \u001b[0;32mif\u001b[0m \u001b[0mensure_min_features\u001b[0m \u001b[0;34m>\u001b[0m \u001b[0;36m0\u001b[0m \u001b[0;32mand\u001b[0m \u001b[0marray\u001b[0m\u001b[0;34m.\u001b[0m\u001b[0mndim\u001b[0m \u001b[0;34m==\u001b[0m \u001b[0;36m2\u001b[0m\u001b[0;34m:\u001b[0m\u001b[0;34m\u001b[0m\u001b[0;34m\u001b[0m\u001b[0m\n",
      "\u001b[0;31mValueError\u001b[0m: Found array with 0 sample(s) (shape=(0, 1)) while a minimum of 1 is required by MinMaxScaler."
     ]
    }
   ],
   "source": [
    "# US company from \"Category\": Lists_of_companies_of_the_United_States\n",
    "\n",
    "usCo_result = catMerger(df_usCo, df_ig_gcm)\n",
    "df_survey_usCo = pd.read_csv(\"../data/survey_single_cat_files/sv_prep_uri/sv_us_companies_prep.csv\", sep=';', encoding=\"ISO-8859-1\")\n",
    "\n",
    "df_usCo_survey_gcm = gcmSurfer(df_survey_usCo, usCo_result)"
   ]
  },
  {
   "cell_type": "code",
   "execution_count": 66,
   "metadata": {},
   "outputs": [
    {
     "name": "stdout",
     "output_type": "stream",
     "text": [
      "Dataframe merged with shape: (1079, 5)\n",
      "============================\n",
      "Rows with NaN values dropped: 76 from 76 => 100.0% \n"
     ]
    },
    {
     "ename": "ValueError",
     "evalue": "Found array with 0 sample(s) (shape=(0, 1)) while a minimum of 1 is required by MinMaxScaler.",
     "output_type": "error",
     "traceback": [
      "\u001b[0;31m---------------------------------------------------------------------------\u001b[0m",
      "\u001b[0;31mValueError\u001b[0m                                Traceback (most recent call last)",
      "\u001b[0;32m<ipython-input-66-9922058c97f1>\u001b[0m in \u001b[0;36m<module>\u001b[0;34m\u001b[0m\n\u001b[1;32m      2\u001b[0m \u001b[0mdf_survey_usCo_impr\u001b[0m \u001b[0;34m=\u001b[0m \u001b[0mpd\u001b[0m\u001b[0;34m.\u001b[0m\u001b[0mread_csv\u001b[0m\u001b[0;34m(\u001b[0m\u001b[0;34m\"../data/survey_single_cat_files/sv_prep_uri/improved_uri/sv_us_companies_impr.csv\"\u001b[0m\u001b[0;34m,\u001b[0m \u001b[0msep\u001b[0m\u001b[0;34m=\u001b[0m\u001b[0;34m';'\u001b[0m\u001b[0;34m,\u001b[0m \u001b[0mencoding\u001b[0m\u001b[0;34m=\u001b[0m\u001b[0;34m\"ISO-8859-1\"\u001b[0m\u001b[0;34m)\u001b[0m \u001b[0;31m# .csv needed no manual uri correction\u001b[0m\u001b[0;34m\u001b[0m\u001b[0;34m\u001b[0m\u001b[0m\n\u001b[1;32m      3\u001b[0m \u001b[0;34m\u001b[0m\u001b[0m\n\u001b[0;32m----> 4\u001b[0;31m \u001b[0mdf_usCo_survey_gcm_impr\u001b[0m \u001b[0;34m=\u001b[0m \u001b[0mgcmSurfer\u001b[0m\u001b[0;34m(\u001b[0m\u001b[0mdf_survey_usCo_impr\u001b[0m\u001b[0;34m,\u001b[0m \u001b[0musCo_result\u001b[0m\u001b[0;34m)\u001b[0m\u001b[0;34m\u001b[0m\u001b[0;34m\u001b[0m\u001b[0m\n\u001b[0m",
      "\u001b[0;32m<ipython-input-14-b0fb084d8205>\u001b[0m in \u001b[0;36mgcmSurfer\u001b[0;34m(survey_data, cat_gcm_data)\u001b[0m\n\u001b[1;32m     31\u001b[0m     \u001b[0;31m# scale and normalize the survey data\u001b[0m\u001b[0;34m\u001b[0m\u001b[0;34m\u001b[0m\u001b[0;34m\u001b[0m\u001b[0m\n\u001b[1;32m     32\u001b[0m     \u001b[0mmin_max_scaler\u001b[0m \u001b[0;34m=\u001b[0m \u001b[0mpreprocessing\u001b[0m\u001b[0;34m.\u001b[0m\u001b[0mMinMaxScaler\u001b[0m\u001b[0;34m(\u001b[0m\u001b[0;34m)\u001b[0m\u001b[0;34m\u001b[0m\u001b[0;34m\u001b[0m\u001b[0m\n\u001b[0;32m---> 33\u001b[0;31m     \u001b[0mdf_survey_gcm\u001b[0m\u001b[0;34m[\u001b[0m\u001b[0;34m[\u001b[0m\u001b[0;34m'amount'\u001b[0m\u001b[0;34m]\u001b[0m\u001b[0;34m]\u001b[0m \u001b[0;34m=\u001b[0m \u001b[0mmin_max_scaler\u001b[0m\u001b[0;34m.\u001b[0m\u001b[0mfit_transform\u001b[0m\u001b[0;34m(\u001b[0m\u001b[0mdf_survey_gcm\u001b[0m\u001b[0;34m[\u001b[0m\u001b[0;34m[\u001b[0m\u001b[0;34m'amount'\u001b[0m\u001b[0;34m]\u001b[0m\u001b[0;34m]\u001b[0m\u001b[0;34m)\u001b[0m\u001b[0;34m\u001b[0m\u001b[0;34m\u001b[0m\u001b[0m\n\u001b[0m\u001b[1;32m     34\u001b[0m \u001b[0;34m\u001b[0m\u001b[0m\n\u001b[1;32m     35\u001b[0m     \u001b[0mprint\u001b[0m\u001b[0;34m(\u001b[0m\u001b[0;34m\"Dataframe merged with shape: {}\"\u001b[0m\u001b[0;34m.\u001b[0m\u001b[0mformat\u001b[0m\u001b[0;34m(\u001b[0m\u001b[0mdf_survey_gcm\u001b[0m\u001b[0;34m.\u001b[0m\u001b[0mshape\u001b[0m\u001b[0;34m)\u001b[0m\u001b[0;34m)\u001b[0m\u001b[0;34m\u001b[0m\u001b[0;34m\u001b[0m\u001b[0m\n",
      "\u001b[0;32m~/opt/anaconda3/lib/python3.7/site-packages/sklearn/base.py\u001b[0m in \u001b[0;36mfit_transform\u001b[0;34m(self, X, y, **fit_params)\u001b[0m\n\u001b[1;32m    569\u001b[0m         \u001b[0;32mif\u001b[0m \u001b[0my\u001b[0m \u001b[0;32mis\u001b[0m \u001b[0;32mNone\u001b[0m\u001b[0;34m:\u001b[0m\u001b[0;34m\u001b[0m\u001b[0;34m\u001b[0m\u001b[0m\n\u001b[1;32m    570\u001b[0m             \u001b[0;31m# fit method of arity 1 (unsupervised transformation)\u001b[0m\u001b[0;34m\u001b[0m\u001b[0;34m\u001b[0m\u001b[0;34m\u001b[0m\u001b[0m\n\u001b[0;32m--> 571\u001b[0;31m             \u001b[0;32mreturn\u001b[0m \u001b[0mself\u001b[0m\u001b[0;34m.\u001b[0m\u001b[0mfit\u001b[0m\u001b[0;34m(\u001b[0m\u001b[0mX\u001b[0m\u001b[0;34m,\u001b[0m \u001b[0;34m**\u001b[0m\u001b[0mfit_params\u001b[0m\u001b[0;34m)\u001b[0m\u001b[0;34m.\u001b[0m\u001b[0mtransform\u001b[0m\u001b[0;34m(\u001b[0m\u001b[0mX\u001b[0m\u001b[0;34m)\u001b[0m\u001b[0;34m\u001b[0m\u001b[0;34m\u001b[0m\u001b[0m\n\u001b[0m\u001b[1;32m    572\u001b[0m         \u001b[0;32melse\u001b[0m\u001b[0;34m:\u001b[0m\u001b[0;34m\u001b[0m\u001b[0;34m\u001b[0m\u001b[0m\n\u001b[1;32m    573\u001b[0m             \u001b[0;31m# fit method of arity 2 (supervised transformation)\u001b[0m\u001b[0;34m\u001b[0m\u001b[0;34m\u001b[0m\u001b[0;34m\u001b[0m\u001b[0m\n",
      "\u001b[0;32m~/opt/anaconda3/lib/python3.7/site-packages/sklearn/preprocessing/_data.py\u001b[0m in \u001b[0;36mfit\u001b[0;34m(self, X, y)\u001b[0m\n\u001b[1;32m    337\u001b[0m         \u001b[0;31m# Reset internal state before fitting\u001b[0m\u001b[0;34m\u001b[0m\u001b[0;34m\u001b[0m\u001b[0;34m\u001b[0m\u001b[0m\n\u001b[1;32m    338\u001b[0m         \u001b[0mself\u001b[0m\u001b[0;34m.\u001b[0m\u001b[0m_reset\u001b[0m\u001b[0;34m(\u001b[0m\u001b[0;34m)\u001b[0m\u001b[0;34m\u001b[0m\u001b[0;34m\u001b[0m\u001b[0m\n\u001b[0;32m--> 339\u001b[0;31m         \u001b[0;32mreturn\u001b[0m \u001b[0mself\u001b[0m\u001b[0;34m.\u001b[0m\u001b[0mpartial_fit\u001b[0m\u001b[0;34m(\u001b[0m\u001b[0mX\u001b[0m\u001b[0;34m,\u001b[0m \u001b[0my\u001b[0m\u001b[0;34m)\u001b[0m\u001b[0;34m\u001b[0m\u001b[0;34m\u001b[0m\u001b[0m\n\u001b[0m\u001b[1;32m    340\u001b[0m \u001b[0;34m\u001b[0m\u001b[0m\n\u001b[1;32m    341\u001b[0m     \u001b[0;32mdef\u001b[0m \u001b[0mpartial_fit\u001b[0m\u001b[0;34m(\u001b[0m\u001b[0mself\u001b[0m\u001b[0;34m,\u001b[0m \u001b[0mX\u001b[0m\u001b[0;34m,\u001b[0m \u001b[0my\u001b[0m\u001b[0;34m=\u001b[0m\u001b[0;32mNone\u001b[0m\u001b[0;34m)\u001b[0m\u001b[0;34m:\u001b[0m\u001b[0;34m\u001b[0m\u001b[0;34m\u001b[0m\u001b[0m\n",
      "\u001b[0;32m~/opt/anaconda3/lib/python3.7/site-packages/sklearn/preprocessing/_data.py\u001b[0m in \u001b[0;36mpartial_fit\u001b[0;34m(self, X, y)\u001b[0m\n\u001b[1;32m    371\u001b[0m         X = check_array(X,\n\u001b[1;32m    372\u001b[0m                         \u001b[0mestimator\u001b[0m\u001b[0;34m=\u001b[0m\u001b[0mself\u001b[0m\u001b[0;34m,\u001b[0m \u001b[0mdtype\u001b[0m\u001b[0;34m=\u001b[0m\u001b[0mFLOAT_DTYPES\u001b[0m\u001b[0;34m,\u001b[0m\u001b[0;34m\u001b[0m\u001b[0;34m\u001b[0m\u001b[0m\n\u001b[0;32m--> 373\u001b[0;31m                         force_all_finite=\"allow-nan\")\n\u001b[0m\u001b[1;32m    374\u001b[0m \u001b[0;34m\u001b[0m\u001b[0m\n\u001b[1;32m    375\u001b[0m         \u001b[0mdata_min\u001b[0m \u001b[0;34m=\u001b[0m \u001b[0mnp\u001b[0m\u001b[0;34m.\u001b[0m\u001b[0mnanmin\u001b[0m\u001b[0;34m(\u001b[0m\u001b[0mX\u001b[0m\u001b[0;34m,\u001b[0m \u001b[0maxis\u001b[0m\u001b[0;34m=\u001b[0m\u001b[0;36m0\u001b[0m\u001b[0;34m)\u001b[0m\u001b[0;34m\u001b[0m\u001b[0;34m\u001b[0m\u001b[0m\n",
      "\u001b[0;32m~/opt/anaconda3/lib/python3.7/site-packages/sklearn/utils/validation.py\u001b[0m in \u001b[0;36mcheck_array\u001b[0;34m(array, accept_sparse, accept_large_sparse, dtype, order, copy, force_all_finite, ensure_2d, allow_nd, ensure_min_samples, ensure_min_features, warn_on_dtype, estimator)\u001b[0m\n\u001b[1;32m    584\u001b[0m                              \u001b[0;34m\" minimum of %d is required%s.\"\u001b[0m\u001b[0;34m\u001b[0m\u001b[0;34m\u001b[0m\u001b[0m\n\u001b[1;32m    585\u001b[0m                              % (n_samples, array.shape, ensure_min_samples,\n\u001b[0;32m--> 586\u001b[0;31m                                 context))\n\u001b[0m\u001b[1;32m    587\u001b[0m \u001b[0;34m\u001b[0m\u001b[0m\n\u001b[1;32m    588\u001b[0m     \u001b[0;32mif\u001b[0m \u001b[0mensure_min_features\u001b[0m \u001b[0;34m>\u001b[0m \u001b[0;36m0\u001b[0m \u001b[0;32mand\u001b[0m \u001b[0marray\u001b[0m\u001b[0;34m.\u001b[0m\u001b[0mndim\u001b[0m \u001b[0;34m==\u001b[0m \u001b[0;36m2\u001b[0m\u001b[0;34m:\u001b[0m\u001b[0;34m\u001b[0m\u001b[0;34m\u001b[0m\u001b[0m\n",
      "\u001b[0;31mValueError\u001b[0m: Found array with 0 sample(s) (shape=(0, 1)) while a minimum of 1 is required by MinMaxScaler."
     ]
    }
   ],
   "source": [
    "usCo_result = catMerger(df_usCo, df_ig_gcm)\n",
    "df_survey_usCo_impr = pd.read_csv(\"../data/survey_single_cat_files/sv_prep_uri/improved_uri/sv_us_companies_impr.csv\", sep=';', encoding=\"ISO-8859-1\") # .csv needed no manual uri correction\n",
    "\n",
    "df_usCo_survey_gcm_impr = gcmSurfer(df_survey_usCo_impr, usCo_result)"
   ]
  },
  {
   "cell_type": "code",
   "execution_count": null,
   "metadata": {},
   "outputs": [],
   "source": [
    "ordinalReg(df_usCo_survey_gcm, ['degree'], 3)"
   ]
  },
  {
   "cell_type": "code",
   "execution_count": null,
   "metadata": {},
   "outputs": [],
   "source": [
    "ordinalReg(df_usCo_survey_gcm, ['eigenvector'], 3)"
   ]
  },
  {
   "cell_type": "code",
   "execution_count": null,
   "metadata": {},
   "outputs": [],
   "source": [
    "ordinalReg(df_usCo_survey_gcm, ['pagerank'], 3)"
   ]
  },
  {
   "cell_type": "markdown",
   "metadata": {},
   "source": [
    "## US technology companies"
   ]
  },
  {
   "cell_type": "code",
   "execution_count": 61,
   "metadata": {},
   "outputs": [
    {
     "name": "stdout",
     "output_type": "stream",
     "text": [
      "Dataframe merged with shape: (10000, 5)\n",
      "============================\n",
      "Rows with NaN values dropped: 35 from 36 => 97.22% \n",
      "Dataframe merged with shape: (1, 6)\n"
     ]
    }
   ],
   "source": [
    "# US tech company from the \"Category\": \"dbc:Technology_companies_of_the_United_States\"\n",
    "\n",
    "usTech_result = catMerger(df_usTechCo, df_ig_gcm)\n",
    "df_survey_usTech = pd.read_csv(\"../data/survey_single_cat_files/sv_prep_uri/sv_us_tech_companies_prep.csv\", sep=';') # .csv needed no manual uri correction\n",
    "\n",
    "df_usTech_survey_gcm = gcmSurfer(df_survey_usTech, usTech_result)"
   ]
  },
  {
   "cell_type": "code",
   "execution_count": 62,
   "metadata": {},
   "outputs": [
    {
     "name": "stdout",
     "output_type": "stream",
     "text": [
      "Rows with NaN values dropped: 31 from 34 => 91.18% \n",
      "Dataframe merged with shape: (3, 6)\n"
     ]
    }
   ],
   "source": [
    "df_survey_usTech_impr = pd.read_csv(\"../data/survey_single_cat_files/sv_prep_uri/improved_uri/sv_us_tech_companies_impr.csv\", sep=';') # .csv needed no manual uri correction\n",
    "\n",
    "df_usTech_survey_gcm_impr = gcmSurfer(df_survey_usTech_impr, usTech_result)"
   ]
  },
  {
   "cell_type": "code",
   "execution_count": null,
   "metadata": {},
   "outputs": [],
   "source": [
    "ordinalReg(df_usTech_survey_gcm, ['degree'], 3)"
   ]
  },
  {
   "cell_type": "code",
   "execution_count": null,
   "metadata": {},
   "outputs": [],
   "source": [
    "ordinalReg(df_usTech_survey_gcm, ['eigenvector'], 3)"
   ]
  },
  {
   "cell_type": "code",
   "execution_count": null,
   "metadata": {},
   "outputs": [],
   "source": [
    "ordinalReg(df_usTech_survey_gcm, ['pagerank'], 3)"
   ]
  }
 ],
 "metadata": {
  "kernelspec": {
   "display_name": "Python 3",
   "language": "python",
   "name": "python3"
  },
  "language_info": {
   "codemirror_mode": {
    "name": "ipython",
    "version": 3
   },
   "file_extension": ".py",
   "mimetype": "text/x-python",
   "name": "python",
   "nbconvert_exporter": "python",
   "pygments_lexer": "ipython3",
   "version": "3.7.6"
  }
 },
 "nbformat": 4,
 "nbformat_minor": 4
}
