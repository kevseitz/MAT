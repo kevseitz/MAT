{
 "cells": [
  {
   "cell_type": "markdown",
   "metadata": {},
   "source": [
    "# Preprocessing"
   ]
  },
  {
   "cell_type": "markdown",
   "metadata": {},
   "source": [
    "Preprocessing of the raw survey data. Steps include:\n",
    "\n",
    "- Splitting and cleaning the original survey answers (given as 3 comma-separated answers per question and participant\n",
    "- Translating answers where necessary for some categories via the DeepL API\n",
    "- Matching the DBpedia URI via Lookup API\n",
    "\n",
    "Link to survey: https://forms.gle/TiY3p9WSkGV8mNKk6"
   ]
  },
  {
   "cell_type": "code",
   "execution_count": 1,
   "metadata": {},
   "outputs": [
    {
     "name": "stdout",
     "output_type": "stream",
     "text": [
      "Python 3.7.6\n",
      "------------\n",
      "Pandas 1.3.4\n",
      "Numpy 1.18.1\n",
      "Seaborn 0.11.2\n"
     ]
    }
   ],
   "source": [
    "# Importing packages\n",
    "import pandas as pd\n",
    "from lxml import etree\n",
    "import numpy as np\n",
    "import matplotlib.pyplot as plt\n",
    "import seaborn as sns\n",
    "import requests\n",
    "import json\n",
    "\n",
    "import mlnotify \n",
    "# https://github.com/aporia-ai/mlnotify\n",
    "# Use %%notify at beginning of cell\n",
    "\n",
    "import os.path, time\n",
    "# Use %%time at beginning of cell\n",
    "\n",
    "!python --version\n",
    "print('------------')\n",
    "print(\"Pandas \" + pd.__version__)\n",
    "print(\"Numpy \" + np.__version__)\n",
    "print(\"Seaborn \" + sns.__version__)"
   ]
  },
  {
   "cell_type": "code",
   "execution_count": 2,
   "metadata": {},
   "outputs": [
    {
     "name": "stdout",
     "output_type": "stream",
     "text": [
      "Source file last modified on: Tue Apr 19 12:40:13 2022\n"
     ]
    }
   ],
   "source": [
    "# Load survey .csv-file\n",
    "df = pd.read_csv('../data/Survey_data_processed.csv', sep=';')\n",
    "\n",
    "# Print last modification date of the survey file\n",
    "print(\"Source file last modified on: %s\" % time.ctime(os.path.getmtime('../data/Survey_data_processed.csv')))"
   ]
  },
  {
   "cell_type": "code",
   "execution_count": 3,
   "metadata": {},
   "outputs": [
    {
     "data": {
      "text/html": [
       "<div>\n",
       "<style scoped>\n",
       "    .dataframe tbody tr th:only-of-type {\n",
       "        vertical-align: middle;\n",
       "    }\n",
       "\n",
       "    .dataframe tbody tr th {\n",
       "        vertical-align: top;\n",
       "    }\n",
       "\n",
       "    .dataframe thead th {\n",
       "        text-align: right;\n",
       "    }\n",
       "</style>\n",
       "<table border=\"1\" class=\"dataframe\">\n",
       "  <thead>\n",
       "    <tr style=\"text-align: right;\">\n",
       "      <th></th>\n",
       "      <th>timestamp</th>\n",
       "      <th>nineties_movies</th>\n",
       "      <th>actors</th>\n",
       "      <th>music_genres</th>\n",
       "      <th>books</th>\n",
       "      <th>authors</th>\n",
       "      <th>politicians</th>\n",
       "      <th>us_presidents</th>\n",
       "      <th>cities</th>\n",
       "      <th>lakes</th>\n",
       "      <th>...</th>\n",
       "      <th>vegetables</th>\n",
       "      <th>fast_food</th>\n",
       "      <th>european_landmarks</th>\n",
       "      <th>dax_companies</th>\n",
       "      <th>us_companies</th>\n",
       "      <th>us_tech_companies</th>\n",
       "      <th>p_age</th>\n",
       "      <th>p_gender</th>\n",
       "      <th>p_education</th>\n",
       "      <th>p_country</th>\n",
       "    </tr>\n",
       "  </thead>\n",
       "  <tbody>\n",
       "    <tr>\n",
       "      <th>0</th>\n",
       "      <td>2022/02/28 5:09:27 PM OEZ</td>\n",
       "      <td>The Matrix, Groundhog Day, Goodfellas</td>\n",
       "      <td>Tom Cruise, Amy Adams, Arnold Schwarzenegger</td>\n",
       "      <td>Pop, Techno, Rap</td>\n",
       "      <td>Dune, How Democracies Die, Harry Potter</td>\n",
       "      <td>Frank Herbert, George R. R. Martin, J. K. Rowl...</td>\n",
       "      <td>Barack Obama, Olaf Scholz, Robert Habeck</td>\n",
       "      <td>Barack Obama, Joe Biden, George Washington</td>\n",
       "      <td>Berlin, New York, Moskau</td>\n",
       "      <td>Bodensee, Lake Victoria, Lake Tahoe</td>\n",
       "      <td>...</td>\n",
       "      <td>Peas, Carrot, Tomato</td>\n",
       "      <td>Fries, Burger, Pizza</td>\n",
       "      <td>Eiffel tower, Brandenburger Gate, Colosseum</td>\n",
       "      <td>SAP, Allianz, Lufthansa</td>\n",
       "      <td>Microsoft, T-Mobile, Ralph Lauren</td>\n",
       "      <td>Apple, Google, Tesla</td>\n",
       "      <td>26.0</td>\n",
       "      <td>Male</td>\n",
       "      <td>Bachelor's degree</td>\n",
       "      <td>Germany</td>\n",
       "    </tr>\n",
       "    <tr>\n",
       "      <th>1</th>\n",
       "      <td>2022/03/01 5:03:02 PM OEZ</td>\n",
       "      <td>Batman, Matrix, Eyes Wide Shut</td>\n",
       "      <td>Jack Nicholson, Nicole Kidman, George Clooney</td>\n",
       "      <td>Metal, Rock, Pop</td>\n",
       "      <td>Hamlet, Faust, Werther</td>\n",
       "      <td>Shakespeare, Goethe, Stephen King</td>\n",
       "      <td>Angela Merkel, Joe Biden, George W. Bush</td>\n",
       "      <td>Joe Biden, Goerge W. Bush, Barack Obama</td>\n",
       "      <td>New York, Amsterdam, Berlin</td>\n",
       "      <td>Lake Geneva, Lake Tahoe, Lake Eerie</td>\n",
       "      <td>...</td>\n",
       "      <td>Cucumber, Tomato, Zucchini</td>\n",
       "      <td>Burger, Pizza, Fries</td>\n",
       "      <td>Eiffel Tower, Tower Bridge, Tower of Pisa</td>\n",
       "      <td>SAP, BMW, Siemens</td>\n",
       "      <td>Ford, General Electric, Meta</td>\n",
       "      <td>Meta, Alphabet, Zoom</td>\n",
       "      <td>44.0</td>\n",
       "      <td>Male</td>\n",
       "      <td>Doctorate (e.g. PhD)</td>\n",
       "      <td>Germany</td>\n",
       "    </tr>\n",
       "    <tr>\n",
       "      <th>2</th>\n",
       "      <td>2022/03/01 5:34:10 PM OEZ</td>\n",
       "      <td>Total Recall, Lethal Weapon, Predator</td>\n",
       "      <td>Gérard Depardieu, Christina Ricci, Brad Pitt</td>\n",
       "      <td>Funk, Rock, Electro</td>\n",
       "      <td>Hyperion, Harry Potter, Game of Thrones</td>\n",
       "      <td>Asimov, Frank Herbert, Simmons</td>\n",
       "      <td>Jean-Luc Mélenchon, Raphaël Correa, Gabriel Boric</td>\n",
       "      <td>George Washington, Abraham Lincoln, Richard Nixon</td>\n",
       "      <td>Paris, New York, Istanbul</td>\n",
       "      <td>Erie, Léman</td>\n",
       "      <td>...</td>\n",
       "      <td>Leek, Cabbage, Potato</td>\n",
       "      <td>Burger, Poutine, Hotdog</td>\n",
       "      <td>Eiffel Tower, Tower of Pisa, Stonehenge</td>\n",
       "      <td>Bayer, BMW, Volkswagen</td>\n",
       "      <td>General Motors, General Electric, McDonalds</td>\n",
       "      <td>Google, Amazon, Microsoft</td>\n",
       "      <td>46.0</td>\n",
       "      <td>Male</td>\n",
       "      <td>Bachelor's degree</td>\n",
       "      <td>France</td>\n",
       "    </tr>\n",
       "    <tr>\n",
       "      <th>3</th>\n",
       "      <td>2022/03/01 6:25:03 PM OEZ</td>\n",
       "      <td>Léon: The Professional, The Matrix, Departed</td>\n",
       "      <td>Brad Pitt, Denzel Washington, George Clooney</td>\n",
       "      <td>Techno, House, Jazz</td>\n",
       "      <td>Illuminati, Das Kapital, The Prisoner</td>\n",
       "      <td>J. K. Rowling, John Grisham, Dan Brown</td>\n",
       "      <td>Robert Habeck, Olaf Scholz, Martin Schulz</td>\n",
       "      <td>Donald Trump, John F. Kennedy, Gerald Ford</td>\n",
       "      <td>Berlin, New York, Kyiv</td>\n",
       "      <td>Gardasee, Lake Michigan, Bodensee</td>\n",
       "      <td>...</td>\n",
       "      <td>Zucchini, Aubergine, Pepper</td>\n",
       "      <td>Burger, Fries, Pizza</td>\n",
       "      <td>Eiffeltower, Brandenburg Gate, London Eye</td>\n",
       "      <td>Lufthansa, Volkswagen, Fresenius</td>\n",
       "      <td>Apple, Alphabet, Tesla Motors</td>\n",
       "      <td>Alphabet, Apple, Oracle</td>\n",
       "      <td>28.0</td>\n",
       "      <td>Male</td>\n",
       "      <td>Master's degree</td>\n",
       "      <td>Germany</td>\n",
       "    </tr>\n",
       "    <tr>\n",
       "      <th>4</th>\n",
       "      <td>2022/03/01 6:31:24 PM OEZ</td>\n",
       "      <td>Home Alone, matrix, titanic</td>\n",
       "      <td>Nicole Kidman, Meryl Streep, Penelope Cruz</td>\n",
       "      <td>Jazz, pop, hip-hop</td>\n",
       "      <td>Idiot, Noisy Bear, Being and Time</td>\n",
       "      <td>Dostoevsky, Nabokov, Bradbury</td>\n",
       "      <td>Merkel, Obama, Biden</td>\n",
       "      <td>Obama, Biden, Lincoln</td>\n",
       "      <td>Leuven, Chisinau, Moscow</td>\n",
       "      <td>Geneva lake Baikal lake, Lugano Lake</td>\n",
       "      <td>...</td>\n",
       "      <td>Bell pepper, aubergine, tomato</td>\n",
       "      <td>Fries, burger, nuggets</td>\n",
       "      <td>Eiffel Tower, Big Ben, Maneken Piss</td>\n",
       "      <td>Zalando, Volkswagen, Daimler</td>\n",
       "      <td>Walmart, Amazon, Apple</td>\n",
       "      <td>Tesla, Google, Microsoft</td>\n",
       "      <td>34.0</td>\n",
       "      <td>Female</td>\n",
       "      <td>Master's degree</td>\n",
       "      <td>Switzerland</td>\n",
       "    </tr>\n",
       "  </tbody>\n",
       "</table>\n",
       "<p>5 rows × 28 columns</p>\n",
       "</div>"
      ],
      "text/plain": [
       "                   timestamp                                nineties_movies  \\\n",
       "0  2022/02/28 5:09:27 PM OEZ          The Matrix, Groundhog Day, Goodfellas   \n",
       "1  2022/03/01 5:03:02 PM OEZ                 Batman, Matrix, Eyes Wide Shut   \n",
       "2  2022/03/01 5:34:10 PM OEZ          Total Recall, Lethal Weapon, Predator   \n",
       "3  2022/03/01 6:25:03 PM OEZ  Léon: The Professional, The Matrix, Departed    \n",
       "4  2022/03/01 6:31:24 PM OEZ                   Home Alone, matrix, titanic    \n",
       "\n",
       "                                          actors         music_genres  \\\n",
       "0   Tom Cruise, Amy Adams, Arnold Schwarzenegger     Pop, Techno, Rap   \n",
       "1  Jack Nicholson, Nicole Kidman, George Clooney     Metal, Rock, Pop   \n",
       "2   Gérard Depardieu, Christina Ricci, Brad Pitt  Funk, Rock, Electro   \n",
       "3   Brad Pitt, Denzel Washington, George Clooney  Techno, House, Jazz   \n",
       "4     Nicole Kidman, Meryl Streep, Penelope Cruz   Jazz, pop, hip-hop   \n",
       "\n",
       "                                     books  \\\n",
       "0  Dune, How Democracies Die, Harry Potter   \n",
       "1                   Hamlet, Faust, Werther   \n",
       "2  Hyperion, Harry Potter, Game of Thrones   \n",
       "3    Illuminati, Das Kapital, The Prisoner   \n",
       "4        Idiot, Noisy Bear, Being and Time   \n",
       "\n",
       "                                             authors  \\\n",
       "0  Frank Herbert, George R. R. Martin, J. K. Rowl...   \n",
       "1                  Shakespeare, Goethe, Stephen King   \n",
       "2                     Asimov, Frank Herbert, Simmons   \n",
       "3             J. K. Rowling, John Grisham, Dan Brown   \n",
       "4                      Dostoevsky, Nabokov, Bradbury   \n",
       "\n",
       "                                         politicians  \\\n",
       "0           Barack Obama, Olaf Scholz, Robert Habeck   \n",
       "1           Angela Merkel, Joe Biden, George W. Bush   \n",
       "2  Jean-Luc Mélenchon, Raphaël Correa, Gabriel Boric   \n",
       "3          Robert Habeck, Olaf Scholz, Martin Schulz   \n",
       "4                               Merkel, Obama, Biden   \n",
       "\n",
       "                                       us_presidents  \\\n",
       "0         Barack Obama, Joe Biden, George Washington   \n",
       "1            Joe Biden, Goerge W. Bush, Barack Obama   \n",
       "2  George Washington, Abraham Lincoln, Richard Nixon   \n",
       "3         Donald Trump, John F. Kennedy, Gerald Ford   \n",
       "4                             Obama, Biden, Lincoln    \n",
       "\n",
       "                        cities                                 lakes  ...  \\\n",
       "0     Berlin, New York, Moskau   Bodensee, Lake Victoria, Lake Tahoe  ...   \n",
       "1  New York, Amsterdam, Berlin   Lake Geneva, Lake Tahoe, Lake Eerie  ...   \n",
       "2    Paris, New York, Istanbul                           Erie, Léman  ...   \n",
       "3       Berlin, New York, Kyiv     Gardasee, Lake Michigan, Bodensee  ...   \n",
       "4     Leuven, Chisinau, Moscow  Geneva lake Baikal lake, Lugano Lake  ...   \n",
       "\n",
       "                       vegetables                fast_food  \\\n",
       "0            Peas, Carrot, Tomato     Fries, Burger, Pizza   \n",
       "1      Cucumber, Tomato, Zucchini     Burger, Pizza, Fries   \n",
       "2           Leek, Cabbage, Potato  Burger, Poutine, Hotdog   \n",
       "3     Zucchini, Aubergine, Pepper     Burger, Fries, Pizza   \n",
       "4  Bell pepper, aubergine, tomato  Fries, burger, nuggets    \n",
       "\n",
       "                            european_landmarks  \\\n",
       "0  Eiffel tower, Brandenburger Gate, Colosseum   \n",
       "1    Eiffel Tower, Tower Bridge, Tower of Pisa   \n",
       "2      Eiffel Tower, Tower of Pisa, Stonehenge   \n",
       "3    Eiffeltower, Brandenburg Gate, London Eye   \n",
       "4          Eiffel Tower, Big Ben, Maneken Piss   \n",
       "\n",
       "                      dax_companies  \\\n",
       "0           SAP, Allianz, Lufthansa   \n",
       "1                 SAP, BMW, Siemens   \n",
       "2            Bayer, BMW, Volkswagen   \n",
       "3  Lufthansa, Volkswagen, Fresenius   \n",
       "4      Zalando, Volkswagen, Daimler   \n",
       "\n",
       "                                  us_companies          us_tech_companies  \\\n",
       "0            Microsoft, T-Mobile, Ralph Lauren       Apple, Google, Tesla   \n",
       "1                 Ford, General Electric, Meta       Meta, Alphabet, Zoom   \n",
       "2  General Motors, General Electric, McDonalds  Google, Amazon, Microsoft   \n",
       "3                Apple, Alphabet, Tesla Motors    Alphabet, Apple, Oracle   \n",
       "4                       Walmart, Amazon, Apple  Tesla, Google, Microsoft    \n",
       "\n",
       "  p_age p_gender           p_education     p_country  \n",
       "0  26.0     Male     Bachelor's degree       Germany  \n",
       "1  44.0     Male  Doctorate (e.g. PhD)       Germany  \n",
       "2  46.0     Male     Bachelor's degree        France  \n",
       "3  28.0     Male       Master's degree       Germany  \n",
       "4  34.0   Female       Master's degree  Switzerland   \n",
       "\n",
       "[5 rows x 28 columns]"
      ]
     },
     "execution_count": 3,
     "metadata": {},
     "output_type": "execute_result"
    }
   ],
   "source": [
    "# Dictionary for renaming column names\n",
    "    # key = old name : value = new name\n",
    "\n",
    "dict_col_names = {'Zeitstempel':'timestamp',\n",
    "        'Name up to three movies from the 90s': 'nineties_movies',\n",
    "        'Name up to three actors': 'actors',\n",
    "        'Name up to three music genres': 'music_genres',\n",
    "        'Name up to three books':'books',\n",
    "        'Name up to three (book) authors':'authors',\n",
    "        'Name up to three politicians':'politicians',\n",
    "        'Name up to three US presidents':'us_presidents',\n",
    "        'Name up to three cities':'cities',\n",
    "        'Name up to three lakes':'lakes',\n",
    "        'Name up to three mountains':'mountains',\n",
    "        'Name up to three european capital cities':'european_capital_cities',\n",
    "        'Name up to three european countries':'european_countries',\n",
    "        'Name up to three asian countries':'asian_countries',\n",
    "        'Name up to three continents':'continents',\n",
    "        'Name up to three birds':'birds',\n",
    "        'Name up to three african animals':'african_animals',\n",
    "        'Name up to three pieces of furniture':'furniture',\n",
    "        'Name up to three vegetables':'vegetables',\n",
    "        'Name up to three types of fast food':'fast_food',\n",
    "        'Name up to three landmarks/sights in Europe':'european_landmarks',\n",
    "        'Name up to three companies listed in the DAX (German stock index)':'dax_companies',\n",
    "        'Name up to three US companies':'us_companies',\n",
    "        'Name up to three US tech companies':'us_tech_companies',\n",
    "        'What is your age?':'p_age', # p for participant\n",
    "        'What gender do you identify with?':'p_gender',\n",
    "        'What is the highest degree you have completed?':'p_education',\n",
    "        'Which country are you from?':'p_country'\n",
    "}\n",
    "\n",
    "df.rename(columns=dict_col_names, inplace=True)\n",
    "df.head()"
   ]
  },
  {
   "cell_type": "code",
   "execution_count": 4,
   "metadata": {
    "scrolled": false
   },
   "outputs": [
    {
     "data": {
      "text/plain": [
       "timestamp                  109\n",
       "nineties_movies             96\n",
       "actors                     107\n",
       "music_genres               109\n",
       "books                      104\n",
       "authors                    103\n",
       "politicians                109\n",
       "us_presidents              108\n",
       "cities                     109\n",
       "lakes                      107\n",
       "mountains                  109\n",
       "european_capital_cities    109\n",
       "european_countries         109\n",
       "asian_countries            108\n",
       "continents                 109\n",
       "birds                      104\n",
       "african_animals            109\n",
       "furniture                  109\n",
       "vegetables                 108\n",
       "fast_food                  109\n",
       "european_landmarks         106\n",
       "dax_companies               99\n",
       "us_companies               109\n",
       "us_tech_companies          108\n",
       "p_age                      108\n",
       "p_gender                   109\n",
       "p_education                107\n",
       "p_country                  107\n",
       "dtype: int64"
      ]
     },
     "execution_count": 4,
     "metadata": {},
     "output_type": "execute_result"
    }
   ],
   "source": [
    "# Print answers given per category (pre splitting)\n",
    "\n",
    "df_answers = df.count()\n",
    "df_answers"
   ]
  },
  {
   "cell_type": "code",
   "execution_count": 5,
   "metadata": {},
   "outputs": [
    {
     "data": {
      "text/html": [
       "<div>\n",
       "<style scoped>\n",
       "    .dataframe tbody tr th:only-of-type {\n",
       "        vertical-align: middle;\n",
       "    }\n",
       "\n",
       "    .dataframe tbody tr th {\n",
       "        vertical-align: top;\n",
       "    }\n",
       "\n",
       "    .dataframe thead th {\n",
       "        text-align: right;\n",
       "    }\n",
       "</style>\n",
       "<table border=\"1\" class=\"dataframe\">\n",
       "  <thead>\n",
       "    <tr style=\"text-align: right;\">\n",
       "      <th></th>\n",
       "      <th>timestamp</th>\n",
       "      <th>nineties_movies</th>\n",
       "      <th>actors</th>\n",
       "      <th>music_genres</th>\n",
       "      <th>books</th>\n",
       "      <th>authors</th>\n",
       "      <th>politicians</th>\n",
       "      <th>us_presidents</th>\n",
       "      <th>cities</th>\n",
       "      <th>lakes</th>\n",
       "      <th>...</th>\n",
       "      <th>fast_food</th>\n",
       "      <th>european_landmarks</th>\n",
       "      <th>dax_companies</th>\n",
       "      <th>us_companies</th>\n",
       "      <th>us_tech_companies</th>\n",
       "      <th>p_age</th>\n",
       "      <th>p_gender</th>\n",
       "      <th>p_education</th>\n",
       "      <th>p_country</th>\n",
       "      <th>p_id</th>\n",
       "    </tr>\n",
       "  </thead>\n",
       "  <tbody>\n",
       "    <tr>\n",
       "      <th>0</th>\n",
       "      <td>2022/02/28 5:09:27 PM OEZ</td>\n",
       "      <td>The Matrix, Groundhog Day, Goodfellas</td>\n",
       "      <td>Tom Cruise, Amy Adams, Arnold Schwarzenegger</td>\n",
       "      <td>Pop, Techno, Rap</td>\n",
       "      <td>Dune, How Democracies Die, Harry Potter</td>\n",
       "      <td>Frank Herbert, George R. R. Martin, J. K. Rowl...</td>\n",
       "      <td>Barack Obama, Olaf Scholz, Robert Habeck</td>\n",
       "      <td>Barack Obama, Joe Biden, George Washington</td>\n",
       "      <td>Berlin, New York, Moskau</td>\n",
       "      <td>Bodensee, Lake Victoria, Lake Tahoe</td>\n",
       "      <td>...</td>\n",
       "      <td>Fries, Burger, Pizza</td>\n",
       "      <td>Eiffel tower, Brandenburger Gate, Colosseum</td>\n",
       "      <td>SAP, Allianz, Lufthansa</td>\n",
       "      <td>Microsoft, T-Mobile, Ralph Lauren</td>\n",
       "      <td>Apple, Google, Tesla</td>\n",
       "      <td>26</td>\n",
       "      <td>Male</td>\n",
       "      <td>Bachelor's degree</td>\n",
       "      <td>Germany</td>\n",
       "      <td>0</td>\n",
       "    </tr>\n",
       "    <tr>\n",
       "      <th>1</th>\n",
       "      <td>2022/03/01 5:03:02 PM OEZ</td>\n",
       "      <td>Batman, Matrix, Eyes Wide Shut</td>\n",
       "      <td>Jack Nicholson, Nicole Kidman, George Clooney</td>\n",
       "      <td>Metal, Rock, Pop</td>\n",
       "      <td>Hamlet, Faust, Werther</td>\n",
       "      <td>Shakespeare, Goethe, Stephen King</td>\n",
       "      <td>Angela Merkel, Joe Biden, George W. Bush</td>\n",
       "      <td>Joe Biden, Goerge W. Bush, Barack Obama</td>\n",
       "      <td>New York, Amsterdam, Berlin</td>\n",
       "      <td>Lake Geneva, Lake Tahoe, Lake Eerie</td>\n",
       "      <td>...</td>\n",
       "      <td>Burger, Pizza, Fries</td>\n",
       "      <td>Eiffel Tower, Tower Bridge, Tower of Pisa</td>\n",
       "      <td>SAP, BMW, Siemens</td>\n",
       "      <td>Ford, General Electric, Meta</td>\n",
       "      <td>Meta, Alphabet, Zoom</td>\n",
       "      <td>44</td>\n",
       "      <td>Male</td>\n",
       "      <td>Doctorate (e.g. PhD)</td>\n",
       "      <td>Germany</td>\n",
       "      <td>1</td>\n",
       "    </tr>\n",
       "    <tr>\n",
       "      <th>2</th>\n",
       "      <td>2022/03/01 5:34:10 PM OEZ</td>\n",
       "      <td>Total Recall, Lethal Weapon, Predator</td>\n",
       "      <td>Gérard Depardieu, Christina Ricci, Brad Pitt</td>\n",
       "      <td>Funk, Rock, Electro</td>\n",
       "      <td>Hyperion, Harry Potter, Game of Thrones</td>\n",
       "      <td>Asimov, Frank Herbert, Simmons</td>\n",
       "      <td>Jean-Luc Mélenchon, Raphaël Correa, Gabriel Boric</td>\n",
       "      <td>George Washington, Abraham Lincoln, Richard Nixon</td>\n",
       "      <td>Paris, New York, Istanbul</td>\n",
       "      <td>Erie, Léman</td>\n",
       "      <td>...</td>\n",
       "      <td>Burger, Poutine, Hotdog</td>\n",
       "      <td>Eiffel Tower, Tower of Pisa, Stonehenge</td>\n",
       "      <td>Bayer, BMW, Volkswagen</td>\n",
       "      <td>General Motors, General Electric, McDonalds</td>\n",
       "      <td>Google, Amazon, Microsoft</td>\n",
       "      <td>46</td>\n",
       "      <td>Male</td>\n",
       "      <td>Bachelor's degree</td>\n",
       "      <td>France</td>\n",
       "      <td>2</td>\n",
       "    </tr>\n",
       "    <tr>\n",
       "      <th>3</th>\n",
       "      <td>2022/03/01 6:25:03 PM OEZ</td>\n",
       "      <td>Léon: The Professional, The Matrix, Departed</td>\n",
       "      <td>Brad Pitt, Denzel Washington, George Clooney</td>\n",
       "      <td>Techno, House, Jazz</td>\n",
       "      <td>Illuminati, Das Kapital, The Prisoner</td>\n",
       "      <td>J. K. Rowling, John Grisham, Dan Brown</td>\n",
       "      <td>Robert Habeck, Olaf Scholz, Martin Schulz</td>\n",
       "      <td>Donald Trump, John F. Kennedy, Gerald Ford</td>\n",
       "      <td>Berlin, New York, Kyiv</td>\n",
       "      <td>Gardasee, Lake Michigan, Bodensee</td>\n",
       "      <td>...</td>\n",
       "      <td>Burger, Fries, Pizza</td>\n",
       "      <td>Eiffeltower, Brandenburg Gate, London Eye</td>\n",
       "      <td>Lufthansa, Volkswagen, Fresenius</td>\n",
       "      <td>Apple, Alphabet, Tesla Motors</td>\n",
       "      <td>Alphabet, Apple, Oracle</td>\n",
       "      <td>28</td>\n",
       "      <td>Male</td>\n",
       "      <td>Master's degree</td>\n",
       "      <td>Germany</td>\n",
       "      <td>3</td>\n",
       "    </tr>\n",
       "    <tr>\n",
       "      <th>4</th>\n",
       "      <td>2022/03/01 6:31:24 PM OEZ</td>\n",
       "      <td>Home Alone, matrix, titanic</td>\n",
       "      <td>Nicole Kidman, Meryl Streep, Penelope Cruz</td>\n",
       "      <td>Jazz, pop, hip-hop</td>\n",
       "      <td>Idiot, Noisy Bear, Being and Time</td>\n",
       "      <td>Dostoevsky, Nabokov, Bradbury</td>\n",
       "      <td>Merkel, Obama, Biden</td>\n",
       "      <td>Obama, Biden, Lincoln</td>\n",
       "      <td>Leuven, Chisinau, Moscow</td>\n",
       "      <td>Geneva lake Baikal lake, Lugano Lake</td>\n",
       "      <td>...</td>\n",
       "      <td>Fries, burger, nuggets</td>\n",
       "      <td>Eiffel Tower, Big Ben, Maneken Piss</td>\n",
       "      <td>Zalando, Volkswagen, Daimler</td>\n",
       "      <td>Walmart, Amazon, Apple</td>\n",
       "      <td>Tesla, Google, Microsoft</td>\n",
       "      <td>34</td>\n",
       "      <td>Female</td>\n",
       "      <td>Master's degree</td>\n",
       "      <td>Switzerland</td>\n",
       "      <td>4</td>\n",
       "    </tr>\n",
       "  </tbody>\n",
       "</table>\n",
       "<p>5 rows × 29 columns</p>\n",
       "</div>"
      ],
      "text/plain": [
       "                   timestamp                                nineties_movies  \\\n",
       "0  2022/02/28 5:09:27 PM OEZ          The Matrix, Groundhog Day, Goodfellas   \n",
       "1  2022/03/01 5:03:02 PM OEZ                 Batman, Matrix, Eyes Wide Shut   \n",
       "2  2022/03/01 5:34:10 PM OEZ          Total Recall, Lethal Weapon, Predator   \n",
       "3  2022/03/01 6:25:03 PM OEZ  Léon: The Professional, The Matrix, Departed    \n",
       "4  2022/03/01 6:31:24 PM OEZ                   Home Alone, matrix, titanic    \n",
       "\n",
       "                                          actors         music_genres  \\\n",
       "0   Tom Cruise, Amy Adams, Arnold Schwarzenegger     Pop, Techno, Rap   \n",
       "1  Jack Nicholson, Nicole Kidman, George Clooney     Metal, Rock, Pop   \n",
       "2   Gérard Depardieu, Christina Ricci, Brad Pitt  Funk, Rock, Electro   \n",
       "3   Brad Pitt, Denzel Washington, George Clooney  Techno, House, Jazz   \n",
       "4     Nicole Kidman, Meryl Streep, Penelope Cruz   Jazz, pop, hip-hop   \n",
       "\n",
       "                                     books  \\\n",
       "0  Dune, How Democracies Die, Harry Potter   \n",
       "1                   Hamlet, Faust, Werther   \n",
       "2  Hyperion, Harry Potter, Game of Thrones   \n",
       "3    Illuminati, Das Kapital, The Prisoner   \n",
       "4        Idiot, Noisy Bear, Being and Time   \n",
       "\n",
       "                                             authors  \\\n",
       "0  Frank Herbert, George R. R. Martin, J. K. Rowl...   \n",
       "1                  Shakespeare, Goethe, Stephen King   \n",
       "2                     Asimov, Frank Herbert, Simmons   \n",
       "3             J. K. Rowling, John Grisham, Dan Brown   \n",
       "4                      Dostoevsky, Nabokov, Bradbury   \n",
       "\n",
       "                                         politicians  \\\n",
       "0           Barack Obama, Olaf Scholz, Robert Habeck   \n",
       "1           Angela Merkel, Joe Biden, George W. Bush   \n",
       "2  Jean-Luc Mélenchon, Raphaël Correa, Gabriel Boric   \n",
       "3          Robert Habeck, Olaf Scholz, Martin Schulz   \n",
       "4                               Merkel, Obama, Biden   \n",
       "\n",
       "                                       us_presidents  \\\n",
       "0         Barack Obama, Joe Biden, George Washington   \n",
       "1            Joe Biden, Goerge W. Bush, Barack Obama   \n",
       "2  George Washington, Abraham Lincoln, Richard Nixon   \n",
       "3         Donald Trump, John F. Kennedy, Gerald Ford   \n",
       "4                             Obama, Biden, Lincoln    \n",
       "\n",
       "                        cities                                 lakes  ...  \\\n",
       "0     Berlin, New York, Moskau   Bodensee, Lake Victoria, Lake Tahoe  ...   \n",
       "1  New York, Amsterdam, Berlin   Lake Geneva, Lake Tahoe, Lake Eerie  ...   \n",
       "2    Paris, New York, Istanbul                           Erie, Léman  ...   \n",
       "3       Berlin, New York, Kyiv     Gardasee, Lake Michigan, Bodensee  ...   \n",
       "4     Leuven, Chisinau, Moscow  Geneva lake Baikal lake, Lugano Lake  ...   \n",
       "\n",
       "                 fast_food                           european_landmarks  \\\n",
       "0     Fries, Burger, Pizza  Eiffel tower, Brandenburger Gate, Colosseum   \n",
       "1     Burger, Pizza, Fries    Eiffel Tower, Tower Bridge, Tower of Pisa   \n",
       "2  Burger, Poutine, Hotdog      Eiffel Tower, Tower of Pisa, Stonehenge   \n",
       "3     Burger, Fries, Pizza    Eiffeltower, Brandenburg Gate, London Eye   \n",
       "4  Fries, burger, nuggets           Eiffel Tower, Big Ben, Maneken Piss   \n",
       "\n",
       "                      dax_companies  \\\n",
       "0           SAP, Allianz, Lufthansa   \n",
       "1                 SAP, BMW, Siemens   \n",
       "2            Bayer, BMW, Volkswagen   \n",
       "3  Lufthansa, Volkswagen, Fresenius   \n",
       "4      Zalando, Volkswagen, Daimler   \n",
       "\n",
       "                                  us_companies          us_tech_companies  \\\n",
       "0            Microsoft, T-Mobile, Ralph Lauren       Apple, Google, Tesla   \n",
       "1                 Ford, General Electric, Meta       Meta, Alphabet, Zoom   \n",
       "2  General Motors, General Electric, McDonalds  Google, Amazon, Microsoft   \n",
       "3                Apple, Alphabet, Tesla Motors    Alphabet, Apple, Oracle   \n",
       "4                       Walmart, Amazon, Apple  Tesla, Google, Microsoft    \n",
       "\n",
       "  p_age p_gender           p_education    p_country p_id  \n",
       "0    26     Male     Bachelor's degree      Germany    0  \n",
       "1    44     Male  Doctorate (e.g. PhD)      Germany    1  \n",
       "2    46     Male     Bachelor's degree       France    2  \n",
       "3    28     Male       Master's degree      Germany    3  \n",
       "4    34   Female       Master's degree  Switzerland    4  \n",
       "\n",
       "[5 rows x 29 columns]"
      ]
     },
     "execution_count": 5,
     "metadata": {},
     "output_type": "execute_result"
    }
   ],
   "source": [
    "# Add ID column based on index\n",
    "p_id = df.index\n",
    "df['p_id'] = p_id\n",
    "\n",
    "# Replace missing/NaN values for participants age with 0 and convert from float64 to int64\n",
    "df.p_age = pd.to_numeric(df.p_age, errors='coerce').fillna(0, downcast='infer') #downcast=infer handles the change from float to int\n",
    "\n",
    "# Replace NaN float values with String for the remaining columns\n",
    "df = df.fillna('NaN')\n",
    "\n",
    "# Clean and unify participants country of origin and education data\n",
    "#df.p_country = df.p_country.astype(str)\n",
    "df.p_country = df.p_country.str.lower()\n",
    "df['p_country'] = df['p_country'].replace('united states of america','usa', regex=True).replace('deutschland','germany', regex=True).replace(' ','', regex=True).replace('\\.','', regex=True)\n",
    "df.p_country = df.p_country.str.capitalize()\n",
    "df['p_country'] = df['p_country'].replace('Nan','NaN', regex=True).replace('Usa','USA', regex=True)\n",
    "df['p_education'] = df['p_education'].replace('Diplom', 'Master\\'s degree', regex=True).replace('Dipl.-Ing.', 'Master\\'s degree', regex=True)\n",
    "df.head()"
   ]
  },
  {
   "cell_type": "markdown",
   "metadata": {},
   "source": [
    "## Plot demographic data"
   ]
  },
  {
   "cell_type": "code",
   "execution_count": 6,
   "metadata": {},
   "outputs": [],
   "source": [
    "# Copy df for plotting and alter p_education labels for cleaner plots\n",
    "df_plots = df.copy()\n",
    "df_plots['p_education'] = df_plots['p_education'].replace('Bachelor\\'s degree', 'Bachelor\\'s\\n degree', regex=True).replace('Master\\'s degree', 'Master\\'s\\n degree', regex=True).replace('High school degree or equivalent', 'High school\\n or equivalent', regex=True).replace('Less than a high school degree', 'Less than high\\n school', regex=True).replace('Doctorate \\(e.g. PhD\\)', 'Doctorate', regex=True)"
   ]
  },
  {
   "cell_type": "code",
   "execution_count": 7,
   "metadata": {},
   "outputs": [
    {
     "data": {
      "image/png": "[encoded data removed]",
      "text/plain": [
       "<Figure size 720x360 with 1 Axes>"
      ]
     },
     "metadata": {
      "needs_background": "light"
     },
     "output_type": "display_data"
    }
   ],
   "source": [
    "# Plot age distribution of participants\n",
    "s_p_age = pd.Series(df_plots['p_age'])\n",
    "s_p_age = s_p_age.sort_values(ascending=True)\n",
    "\n",
    "s_p_age.value_counts(sort=False, normalize=True).plot(kind=\"bar\", figsize=(10,5), color=\"cornflowerblue\")\n",
    "#s_p_age.value_counts(sort=False, normalize=True).plot(linewidth=3.0, figsize=(10,5), color=\"cornflowerblue\")\n",
    "\n",
    "plt.ylabel('Distribution of participants', fontsize=14,fontweight='bold', labelpad=15)\n",
    "plt.xlabel('Participant age', fontsize=14,fontweight='bold', labelpad=15)\n",
    "#plt.xticks(rotation=0)\n",
    "plt.tick_params(labelsize=14)\n",
    "\n",
    "plt.savefig('../plots/participant_age.png', bbox_inches=\"tight\")   # save the figure to file"
   ]
  },
  {
   "cell_type": "code",
   "execution_count": 8,
   "metadata": {},
   "outputs": [
    {
     "data": {
      "image/png": "[encoded data removed]",
      "text/plain": [
       "<Figure size 720x360 with 1 Axes>"
      ]
     },
     "metadata": {
      "needs_background": "light"
     },
     "output_type": "display_data"
    }
   ],
   "source": [
    "# Plot country of origin distribution of participants\n",
    "\n",
    "df_plots['p_country'].value_counts(normalize=True).plot(kind=\"bar\", figsize=(10,5), color=\"cornflowerblue\")\n",
    "plt.ylabel('Distribution of participants', fontsize=14,fontweight='bold', labelpad=15)\n",
    "plt.xlabel('Participant country of origin', fontsize=14,fontweight='bold', labelpad=15)\n",
    "#plt.xticks(rotation=0)\n",
    "plt.tick_params(labelsize=14)\n",
    "#plt.grid(visible=None)\n",
    "\n",
    "plt.savefig('../plots/participant_origin_country.png', bbox_inches=\"tight\")   # save the figure to file"
   ]
  },
  {
   "cell_type": "code",
   "execution_count": 9,
   "metadata": {},
   "outputs": [
    {
     "data": {
      "image/png": "[encoded data removed]",
      "text/plain": [
       "<Figure size 720x360 with 1 Axes>"
      ]
     },
     "metadata": {
      "needs_background": "light"
     },
     "output_type": "display_data"
    }
   ],
   "source": [
    "# Plot gender distribution of participants\n",
    "\n",
    "df_plots['p_gender'].value_counts(normalize=True).plot(kind=\"bar\", figsize=(10,5), color=\"cornflowerblue\")\n",
    "plt.ylabel('Distribution of participants', fontsize=14,fontweight='bold', labelpad=15)\n",
    "plt.xlabel('Participant gender', fontsize=14,fontweight='bold', labelpad=15)\n",
    "plt.xticks(rotation=0)\n",
    "plt.tick_params(labelsize=14)\n",
    "#plt.grid(visible=None)\n",
    "\n",
    "plt.savefig('../plots/participant_gender.png', bbox_inches=\"tight\")   # save the figure to file"
   ]
  },
  {
   "cell_type": "code",
   "execution_count": 10,
   "metadata": {},
   "outputs": [
    {
     "data": {
      "image/png": "[encoded data removed]",
      "text/plain": [
       "<Figure size 720x360 with 1 Axes>"
      ]
     },
     "metadata": {
      "needs_background": "light"
     },
     "output_type": "display_data"
    }
   ],
   "source": [
    "# Plot education (highest level of completion) distribution of participants\n",
    "\n",
    "df_plots['p_education'].value_counts(normalize=True).plot(kind=\"bar\", figsize=(10,5), color=\"cornflowerblue\")\n",
    "plt.ylabel('Distribution of participants', fontsize=14,fontweight='bold', labelpad=15)\n",
    "plt.xlabel('Participant education', fontsize=14,fontweight='bold', labelpad=15)\n",
    "plt.xticks(rotation=0);\n",
    "plt.tick_params(labelsize=14)\n",
    "#plt.grid(visible=None)\n",
    "\n",
    "plt.savefig('../plots/participant_education.png', bbox_inches=\"tight\")   # save the figure to file"
   ]
  },
  {
   "cell_type": "markdown",
   "metadata": {},
   "source": [
    "## Category cleanup"
   ]
  },
  {
   "cell_type": "markdown",
   "metadata": {},
   "source": [
    "### Split into single DataFrames per category"
   ]
  },
  {
   "cell_type": "code",
   "execution_count": 11,
   "metadata": {},
   "outputs": [],
   "source": [
    "# Function for splitting(exploding) the comma-separated answers while keeping the demographic data of the survey participants (sex, age, education, country and p_id)\n",
    "\n",
    "def exploder(data_frame, category_name_string):\n",
    "    lst_col = category_name_string\n",
    "    # build helper df consisting of the category + p (participant) columns\n",
    "    helper_df = data_frame[[lst_col,'p_age','p_gender','p_education','p_country', 'p_id']].copy()\n",
    "    \n",
    "    # clean data by lowercasing, removing fault characters and whitespaces\n",
    "    helper_df[lst_col] = helper_df[lst_col].str.lower()\n",
    "    helper_df[lst_col] = helper_df[lst_col].replace('\\/',',', regex=True).replace('\\;',',', regex=True).replace('\\?',',', regex=True).replace('\\-',' ', regex=True).replace(\"'\",\"\", regex=True)#.replace('\\ ','_', regex=True)\n",
    "    \n",
    "    # split category column after each comma and explode (= make a new row and duplicate the other column values for each element)    \n",
    "    helper_df = helper_df.assign(**{lst_col:helper_df[lst_col].str.split(',')})\n",
    "    helper_df = helper_df.explode(lst_col)\n",
    "    helper_df[lst_col] = helper_df[lst_col].str.strip('\\ ') # strip leading and trailing whitespace: https://docs.python.org/3/library/stdtypes.html\n",
    "\n",
    "    return helper_df"
   ]
  },
  {
   "cell_type": "code",
   "execution_count": 12,
   "metadata": {},
   "outputs": [
    {
     "name": "stdout",
     "output_type": "stream",
     "text": [
      "Average responses per category: 314.7826086956522\n"
     ]
    }
   ],
   "source": [
    "# Get individual dataframes for each category consisting of the category values and all p-data\n",
    "    # + Reset index\n",
    "\n",
    "df_nineties_movies = exploder(df, 'nineties_movies')\n",
    "df_nineties_movies.reset_index(drop=True, inplace=True)\n",
    "\n",
    "df_actors = exploder(df, 'actors')\n",
    "df_actors.reset_index(drop=True, inplace=True)\n",
    "\n",
    "df_music_genres = exploder(df, 'music_genres')\n",
    "df_music_genres.reset_index(drop=True, inplace=True)\n",
    "\n",
    "df_books = exploder(df, 'books')\n",
    "df_books.reset_index(drop=True, inplace=True)\n",
    "\n",
    "df_authors = exploder(df, 'authors')\n",
    "df_authors.reset_index(drop=True, inplace=True)\n",
    "\n",
    "df_politicians = exploder(df, 'politicians')\n",
    "df_politicians.reset_index(drop=True, inplace=True)\n",
    "\n",
    "df_us_presidents = exploder(df, 'us_presidents')\n",
    "df_us_presidents.reset_index(drop=True, inplace=True)\n",
    "\n",
    "df_cities = exploder(df, 'cities')\n",
    "df_cities.reset_index(drop=True, inplace=True)\n",
    "\n",
    "df_lakes = exploder(df, 'lakes')\n",
    "df_lakes.reset_index(drop=True, inplace=True)\n",
    "\n",
    "df_mountains = exploder(df, 'mountains')\n",
    "df_mountains.reset_index(drop=True, inplace=True)\n",
    "\n",
    "df_european_capital_cities = exploder(df, 'european_capital_cities')\n",
    "df_european_capital_cities.reset_index(drop=True, inplace=True)\n",
    "\n",
    "df_european_countries = exploder(df, 'european_countries')\n",
    "df_european_countries.reset_index(drop=True, inplace=True)\n",
    "\n",
    "df_asian_countries = exploder(df, 'asian_countries')\n",
    "df_asian_countries.reset_index(drop=True, inplace=True)\n",
    "\n",
    "df_continents = exploder(df, 'continents')\n",
    "df_continents.reset_index(drop=True, inplace=True)\n",
    "\n",
    "df_birds = exploder(df, 'birds')\n",
    "df_birds.reset_index(drop=True, inplace=True)\n",
    "\n",
    "df_african_animals = exploder(df, 'african_animals')\n",
    "df_african_animals.reset_index(drop=True, inplace=True)\n",
    "\n",
    "df_furniture = exploder(df, 'furniture')\n",
    "df_furniture.reset_index(drop=True, inplace=True)\n",
    "\n",
    "df_vegetables = exploder(df, 'vegetables')\n",
    "df_vegetables.reset_index(drop=True, inplace=True)\n",
    "\n",
    "df_fast_food = exploder(df, 'fast_food')\n",
    "df_fast_food.reset_index(drop=True, inplace=True)\n",
    "\n",
    "df_european_landmarks = exploder(df, 'european_landmarks')\n",
    "df_european_landmarks.reset_index(drop=True, inplace=True)\n",
    "\n",
    "df_dax_companies = exploder(df, 'dax_companies')\n",
    "df_dax_companies.reset_index(drop=True, inplace=True)\n",
    "\n",
    "df_us_companies = exploder(df, 'us_companies')\n",
    "df_us_companies.reset_index(drop=True, inplace=True)\n",
    "\n",
    "df_us_tech_companies = exploder(df, 'us_tech_companies')\n",
    "df_us_tech_companies.reset_index(drop=True, inplace=True)\n",
    "\n",
    "# Calculate the average amount of responses per category\n",
    "amount_answers = (len(df_nineties_movies.index)+ len(df_actors.index)+ len(df_music_genres.index)+ len(df_books.index)+ len(df_authors.index)+ len(df_politicians.index)+ len(df_us_presidents.index)+ len(df_cities.index)+ len(df_lakes.index)+ len(df_mountains.index)+ len(df_european_capital_cities.index)+ len(df_european_countries.index)+ len(df_asian_countries.index)+ len(df_continents.index)+ len(df_birds.index)+ len(df_african_animals.index)+ len(df_furniture.index)+ len(df_vegetables.index)+ len(df_fast_food.index)+ len(df_european_landmarks.index)+ len(df_dax_companies.index)+ len(df_us_companies.index)+ len(df_us_tech_companies.index))/23\n",
    "print('Average responses per category: '+ str(amount_answers))"
   ]
  },
  {
   "cell_type": "markdown",
   "metadata": {},
   "source": [
    "### OPTIONAL: Translating answers into English\n",
    "\n",
    "**! Translated data is loaded from the repo after this section of code block !**\n",
    "\n",
    "Only used for certain categories that gain from a translation like *Cities, Countries, Furniture, Vegetables or Birds* as they are listed in common dictionaries. Not used for *90s films*, because e.g. the original English name, can vary heavily from the e.g. German translation"
   ]
  },
  {
   "cell_type": "code",
   "execution_count": null,
   "metadata": {},
   "outputs": [],
   "source": [
    "# Function for translating the individual dataframes into English using the DeepL API (www.deepl.com)\n",
    "# https://github.com/nidhaloff/deep-translator\n",
    "\n",
    "from deep_translator import DeeplTranslator\n",
    "# Deepl API Key = 86ed8cd0-6f1c-8ade-b1bb-9e934b24f98a:fx\n",
    "# Check https://www.deepl.com/pro-account/usage for character usage left (max. of 500,000 characters per month)\n",
    "\n",
    "def catTranslator(data_frame, category_name_string):\n",
    "    helper_df = data_frame\n",
    "    helper_series = data_frame[category_name_string].tolist()\n",
    "    trans_list = DeeplTranslator(\"86ed8cd0-6f1c-8ade-b1bb-9e934b24f98a:fx\").translate_batch(helper_series)\n",
    "    helper_df[category_name_string] = trans_list\n",
    "    \n",
    "    return helper_df"
   ]
  },
  {
   "cell_type": "code",
   "execution_count": null,
   "metadata": {},
   "outputs": [],
   "source": [
    "# Translate European capital cities\n",
    "\n",
    "df_european_capital_cities_trans = catTranslator(df_european_capital_cities, 'european_capital_cities')\n",
    "\n",
    "# save translated df as .csv-file because of the time and DeepL API constraints\n",
    "df_european_capital_cities_trans.to_csv('../data/survey_single_cat_files/translated_df/df_european_capital_cities_trans.csv', sep=';', encoding='utf-8', index=False)\n",
    "df_european_capital_cities_trans"
   ]
  },
  {
   "cell_type": "code",
   "execution_count": null,
   "metadata": {},
   "outputs": [],
   "source": [
    "# Translate cities\n",
    "\n",
    "df_cities_trans = catTranslator(df_cities, 'cities')\n",
    "\n",
    "# save translated df as .csv-file because of the time and DeepL API constraints\n",
    "df_cities_trans.to_csv('../data/survey_single_cat_files/translated_df/df_cities_trans.csv', sep=';', encoding='utf-8', index=False)\n",
    "df_cities_trans"
   ]
  },
  {
   "cell_type": "code",
   "execution_count": null,
   "metadata": {},
   "outputs": [],
   "source": [
    "# Translate lakes\n",
    "\n",
    "df_lakes_trans = catTranslator(df_lakes, 'lakes')\n",
    "\n",
    "# save translated df as .csv-file because of the time and DeepL API constraints\n",
    "df_lakes_trans.to_csv('../data/survey_single_cat_files/translated_df/df_lakes_trans.csv', sep=';', encoding='utf-8', index=False)\n",
    "df_lakes_trans"
   ]
  },
  {
   "cell_type": "code",
   "execution_count": null,
   "metadata": {},
   "outputs": [],
   "source": [
    "# Translate mountains\n",
    "\n",
    "df_mountains_trans = catTranslator(df_mountains, 'mountains')\n",
    "\n",
    "# save translated df as .csv-file because of the time and DeepL API constraints\n",
    "df_mountains_trans.to_csv('../data/survey_single_cat_files/translated_df/df_mountains_trans.csv', sep=';', encoding='utf-8', index=False)\n",
    "df_mountains_trans"
   ]
  },
  {
   "cell_type": "code",
   "execution_count": null,
   "metadata": {},
   "outputs": [],
   "source": [
    "# Translate European countries\n",
    "\n",
    "df_european_countries_trans = catTranslator(df_european_countries, 'european_countries')\n",
    "\n",
    "# save translated df as .csv-file because of the time and DeepL API constraints\n",
    "df_european_countries_trans.to_csv('../data/survey_single_cat_files/translated_df/df_european_countries_trans.csv', sep=';', encoding='utf-8', index=False)\n",
    "df_european_countries_trans"
   ]
  },
  {
   "cell_type": "code",
   "execution_count": null,
   "metadata": {},
   "outputs": [],
   "source": [
    "# Translate Asian countries\n",
    "\n",
    "df_asian_countries_trans = catTranslator(df_asian_countries, 'asian_countries')\n",
    "\n",
    "# save translated df as .csv-file because of the time and DeepL API constraints\n",
    "df_asian_countries_trans.to_csv('../data/survey_single_cat_files/translated_df/df_asian_countries_trans.csv', sep=';', encoding='utf-8', index=False)\n",
    "df_asian_countries_trans"
   ]
  },
  {
   "cell_type": "code",
   "execution_count": null,
   "metadata": {},
   "outputs": [],
   "source": [
    "# Translate continents\n",
    "\n",
    "df_continents_trans = catTranslator(df_continents, 'continents')\n",
    "\n",
    "# save translated df as .csv-file because of the time and DeepL API constraints\n",
    "df_continents_trans.to_csv('../data/survey_single_cat_files/translated_df/df_continents_trans.csv', sep=';', encoding='utf-8', index=False)\n",
    "df_continents_trans"
   ]
  },
  {
   "cell_type": "code",
   "execution_count": null,
   "metadata": {},
   "outputs": [],
   "source": [
    "# Translate birds\n",
    "\n",
    "df_birds_trans = catTranslator(df_birds, 'birds')\n",
    "\n",
    "# save translated df as .csv-file because of the time and DeepL API constraints\n",
    "df_birds_trans.to_csv('../data/survey_single_cat_files/translated_df/df_birds_trans.csv', sep=';', encoding='utf-8', index=False)\n",
    "df_birds_trans"
   ]
  },
  {
   "cell_type": "code",
   "execution_count": null,
   "metadata": {},
   "outputs": [],
   "source": [
    "# Translate African animals\n",
    "\n",
    "df_african_animals_trans = catTranslator(df_african_animals, 'african_animals')\n",
    "\n",
    "# save translated df as .csv-file because of the time and DeepL API constraints\n",
    "df_african_animals_trans.to_csv('../data/survey_single_cat_files/translated_df/df_african_animals_trans.csv', sep=';', encoding='utf-8', index=False)\n",
    "df_african_animals_trans"
   ]
  },
  {
   "cell_type": "code",
   "execution_count": null,
   "metadata": {},
   "outputs": [],
   "source": [
    "# Translate furniture\n",
    "\n",
    "df_furniture_trans = catTranslator(df_furniture, 'furniture')\n",
    "\n",
    "# save translated df as .csv-file because of the time and DeepL API constraints\n",
    "df_furniture_trans.to_csv('../data/survey_single_cat_files/translated_df/df_furniture_trans.csv', sep=';', encoding='utf-8', index=False)\n",
    "df_furniture_trans"
   ]
  },
  {
   "cell_type": "code",
   "execution_count": null,
   "metadata": {},
   "outputs": [],
   "source": [
    "# Translate vegetables\n",
    "\n",
    "df_vegetables_trans = catTranslator(df_vegetables, 'vegetables')\n",
    "\n",
    "# save translated df as .csv-file because of the time and DeepL API constraints\n",
    "df_vegetables_trans.to_csv('../data/survey_single_cat_files/translated_df/df_vegetables_trans.csv', sep=';', encoding='utf-8', index=False)\n",
    "df_vegetables_trans"
   ]
  },
  {
   "cell_type": "code",
   "execution_count": null,
   "metadata": {},
   "outputs": [],
   "source": [
    "# Translate fast food\n",
    "\n",
    "df_fast_food_trans = catTranslator(df_fast_food, 'fast_food')\n",
    "\n",
    "# save translated df as .csv-file because of the time and DeepL API constraints\n",
    "df_fast_food_trans.to_csv('../data/survey_single_cat_files/translated_df/df_fast_food_trans.csv', sep=';', encoding='utf-8', index=False)\n",
    "df_fast_food_trans"
   ]
  },
  {
   "cell_type": "code",
   "execution_count": null,
   "metadata": {},
   "outputs": [],
   "source": [
    "# Translate European landmarks/sights\n",
    "\n",
    "df_european_landmarks_trans = catTranslator(df_european_landmarks, 'european_landmarks')\n",
    "\n",
    "# save translated df as .csv-file because of the time and DeepL API constraints\n",
    "df_european_landmarks_trans.to_csv('../data/survey_single_cat_files/translated_df/df_european_landmarks_trans.csv', sep=';', encoding='utf-8', index=False)\n",
    "df_european_landmarks_trans"
   ]
  },
  {
   "cell_type": "markdown",
   "metadata": {},
   "source": [
    "## Export"
   ]
  },
  {
   "cell_type": "code",
   "execution_count": 15,
   "metadata": {},
   "outputs": [],
   "source": [
    "# Load translated categories\n",
    "    #(pre-saved above, loadable here because of computing time and DeepL API constraints)\n",
    "\n",
    "df_european_capital_cities = pd.read_csv('../data/survey_single_cat_files/translated_df/df_european_capital_cities_trans.csv', sep=';')\n",
    "\n",
    "df_cities = pd.read_csv('../data/survey_single_cat_files/translated_df/df_cities_trans.csv', sep=';')\n",
    "\n",
    "df_lakes = pd.read_csv('../data/survey_single_cat_files/translated_df/df_lakes_trans.csv', sep=';')\n",
    "\n",
    "df_mountains = pd.read_csv('../data/survey_single_cat_files/translated_df/df_mountains_trans.csv', sep=';')\n",
    "\n",
    "df_european_countries = pd.read_csv('../data/survey_single_cat_files/translated_df/df_european_countries_trans.csv', sep=';')\n",
    "\n",
    "df_asian_countries = pd.read_csv('../data/survey_single_cat_files/translated_df/df_asian_countries_trans.csv', sep=';')\n",
    "\n",
    "df_continents = pd.read_csv('../data/survey_single_cat_files/translated_df/df_continents_trans.csv', sep=';')\n",
    "\n",
    "df_birds = pd.read_csv('../data/survey_single_cat_files/translated_df/df_birds_trans.csv', sep=';')\n",
    "\n",
    "df_african_animals = pd.read_csv('../data/survey_single_cat_files/translated_df/df_african_animals_trans.csv', sep=';')\n",
    "\n",
    "df_furniture = pd.read_csv('../data/survey_single_cat_files/translated_df/df_furniture_trans.csv', sep=';')\n",
    "\n",
    "df_vegetables = pd.read_csv('../data/survey_single_cat_files/translated_df/df_vegetables_trans.csv', sep=';')\n",
    "\n",
    "df_fast_food = pd.read_csv('../data/survey_single_cat_files/translated_df/df_fast_food_trans.csv', sep=';')\n",
    "\n",
    "df_european_landmarks = pd.read_csv('../data/survey_single_cat_files/translated_df/df_european_landmarks_trans.csv', sep=';')"
   ]
  },
  {
   "cell_type": "markdown",
   "metadata": {},
   "source": [
    "### Prepare URI Lookup"
   ]
  },
  {
   "cell_type": "code",
   "execution_count": 13,
   "metadata": {},
   "outputs": [],
   "source": [
    "from urllib.request import urlopen\n",
    "from urllib import parse\n",
    "from Levenshtein import distance as levenshtein_distance\n",
    "\n",
    "# Function for looking up the DBpedia URI and taking the one with the smallest Levenshtein distance to the search term\n",
    "    # API DBpedia lookup: https://github.com/dbpedia/dbpedia-lookup\n",
    "    # Levenshtein distance python package: https://pypi.org/project/python-Levenshtein/\n",
    "\n",
    "def uriLookup(search):\n",
    "    searchterm = parse.quote(str(search)) #parse to avoid ASCII/UTF-8 encoding conflicts within URL\n",
    "    searchterm = searchterm.replace(' ', '%20')\n",
    "    #raw_url = 'https://lookup.dbpedia.org/api/search?query=' + searchterm\n",
    "    #encoded_url =  parse.quote(raw_url)\n",
    "    lookup_url = urlopen('https://lookup.dbpedia.org/api/search?query=' + searchterm).read()\n",
    "    tree = etree.fromstring(lookup_url)\n",
    "    querylist  = []\n",
    "\n",
    "    # Loop through the result set (bytestream containing XML) and append every link to a list\n",
    "    for item in tree.iter():\n",
    "        if item.tag == \"URI\":\n",
    "            querylist.append(item.text.strip())\n",
    "\n",
    "    # Create DataFrame from list\n",
    "    df_uris = pd.DataFrame(querylist, columns =['uri'])\n",
    "    df_uris['searchterm']=searchterm #add searchterm column that contains the searchterm in each row\n",
    "    \n",
    "    # Compute Levenshtein Distance between result URIs and search term and return URI with the smallest\n",
    "    #df_uris['lsd'] = df_uris.apply(lambda row: levenshtein_distance(row['uri'], row['searchterm']), axis=1)\n",
    "    #df_uris = df_uris.sort_values('lsd')#.reset_index()\n",
    "    \n",
    "    try:\n",
    "        df_uris.iloc[0]\n",
    "    except IndexError:\n",
    "        return 'NaN'\n",
    "    \n",
    "    uri_return = df_uris['uri'].iloc[0]\n",
    "    uri_return\n",
    "    \n",
    "    return uri_return\n",
    "\n",
    "\n",
    "# Function for incorporating the uriLookup result into the DataFrame\n",
    "    # -> takes goal DataFrame and string of the category column name as input\n",
    "\n",
    "def uriMerge(df_input, search_col):\n",
    "    lookup_df = df_input\n",
    "    lookup_df['uri'] = pd.Series([uriLookup(term) for term in lookup_df[search_col]])\n",
    "    lookup_df\n",
    "    \n",
    "    return lookup_df"
   ]
  },
  {
   "cell_type": "markdown",
   "metadata": {},
   "source": [
    "## URI Lookup, merge and export the survey categories\n",
    "\n",
    "Distinct cells per category because the overall computation time is around 2h"
   ]
  },
  {
   "cell_type": "code",
   "execution_count": null,
   "metadata": {},
   "outputs": [],
   "source": [
    "df_nineties_movies_prep = uriMerge(df_nineties_movies, 'nineties_movies')\n",
    "df_nineties_movies_prep.to_csv('../data/survey_single_cat_files/sv_prep_uri/sv_film90_prep.csv', sep=';', encoding='utf-8', index=False)"
   ]
  },
  {
   "cell_type": "code",
   "execution_count": null,
   "metadata": {},
   "outputs": [],
   "source": [
    "df_actors_prep = uriMerge(df_actors, 'actors')\n",
    "df_actors_prep.to_csv('../data/survey_single_cat_files/sv_prep_uri/sv_actors_prep.csv', sep=';', encoding='utf-8', index=False)"
   ]
  },
  {
   "cell_type": "code",
   "execution_count": null,
   "metadata": {},
   "outputs": [],
   "source": [
    "df_music_genres_prep = uriMerge(df_music_genres, 'music_genres')\n",
    "df_music_genres_prep.to_csv('../data/survey_single_cat_files/sv_prep_uri/sv_music_genres_prep.csv', sep=';', encoding='utf-8', index=False)"
   ]
  },
  {
   "cell_type": "code",
   "execution_count": null,
   "metadata": {},
   "outputs": [],
   "source": [
    "df_books_prep = uriMerge(df_books, 'books')\n",
    "df_books_prep.to_csv('../data/survey_single_cat_files/sv_prep_uri/sv_books_prep.csv', sep=';', encoding='utf-8', index=False)"
   ]
  },
  {
   "cell_type": "code",
   "execution_count": null,
   "metadata": {},
   "outputs": [],
   "source": [
    "df_authors_prep = uriMerge(df_authors, 'authors')\n",
    "df_authors_prep.to_csv('../data/survey_single_cat_files/sv_prep_uri/sv_authors_prep.csv', sep=';', encoding='utf-8', index=False)"
   ]
  },
  {
   "cell_type": "code",
   "execution_count": null,
   "metadata": {},
   "outputs": [],
   "source": [
    "df_politicians_prep = uriMerge(df_politicians, 'politicians')\n",
    "df_politicians_prep.to_csv('../data/survey_single_cat_files/sv_prep_uri/sv_politicians_prep.csv', sep=';', encoding='utf-8', index=False)"
   ]
  },
  {
   "cell_type": "code",
   "execution_count": null,
   "metadata": {},
   "outputs": [],
   "source": [
    "df_us_presidents_prep = uriMerge(df_us_presidents, 'us_presidents')\n",
    "df_us_presidents_prep.to_csv('../data/survey_single_cat_files/sv_prep_uri/sv_potus_prep.csv', sep=';', encoding='utf-8', index=False)"
   ]
  },
  {
   "cell_type": "code",
   "execution_count": null,
   "metadata": {},
   "outputs": [],
   "source": [
    "df_cities_prep = uriMerge(df_cities, 'cities')\n",
    "df_cities_prep.to_csv('../data/survey_single_cat_files/sv_prep_uri/sv_cities_prep.csv', sep=';', encoding='utf-8', index=False)"
   ]
  },
  {
   "cell_type": "code",
   "execution_count": null,
   "metadata": {},
   "outputs": [],
   "source": [
    "df_lakes_prep = uriMerge(df_lakes, 'lakes')\n",
    "df_lakes_prep.to_csv('../data/survey_single_cat_files/sv_prep_uri/sv_lakes_prep.csv', sep=';', encoding='utf-8', index=False)"
   ]
  },
  {
   "cell_type": "code",
   "execution_count": null,
   "metadata": {},
   "outputs": [],
   "source": [
    "df_mountains_prep = uriMerge(df_mountains, 'mountains')\n",
    "df_mountains_prep.to_csv('../data/survey_single_cat_files/sv_prep_uri/sv_mountains_prep.csv', sep=';', encoding='utf-8', index=False)"
   ]
  },
  {
   "cell_type": "code",
   "execution_count": null,
   "metadata": {
    "scrolled": true
   },
   "outputs": [],
   "source": [
    "df_european_capital_cities_prep = uriMerge(df_european_capital_cities, 'european_capital_cities')\n",
    "df_european_capital_cities_prep.to_csv('../data/survey_single_cat_files/sv_prep_uri/sv_european_capital_cities_prep.csv', sep=';', encoding='utf-8', index=False)"
   ]
  },
  {
   "cell_type": "code",
   "execution_count": null,
   "metadata": {
    "scrolled": true
   },
   "outputs": [],
   "source": [
    "df_european_countries_prep = uriMerge(df_european_countries, 'european_countries')\n",
    "df_european_countries_prep.to_csv('../data/survey_single_cat_files/sv_prep_uri/sv_european_countries_prep.csv', sep=';', encoding='utf-8', index=False)"
   ]
  },
  {
   "cell_type": "code",
   "execution_count": null,
   "metadata": {},
   "outputs": [],
   "source": [
    "df_asian_countries_prep = uriMerge(df_asian_countries, 'asian_countries')\n",
    "df_asian_countries_prep.to_csv('../data/survey_single_cat_files/sv_prep_uri/sv_asian_countries_prep.csv', sep=';', encoding='utf-8', index=False)"
   ]
  },
  {
   "cell_type": "code",
   "execution_count": null,
   "metadata": {},
   "outputs": [],
   "source": [
    "df_continents_prep = uriMerge(df_continents, 'continents')\n",
    "df_continents_prep.to_csv('../data/survey_single_cat_files/sv_prep_uri/sv_continents_prep.csv', sep=';', encoding='utf-8', index=False)"
   ]
  },
  {
   "cell_type": "code",
   "execution_count": null,
   "metadata": {},
   "outputs": [],
   "source": [
    "df_birds_prep = uriMerge(df_birds, 'birds')\n",
    "df_birds_prep.to_csv('../data/survey_single_cat_files/sv_prep_uri/sv_birds_prep.csv', sep=';', encoding='utf-8', index=False)"
   ]
  },
  {
   "cell_type": "code",
   "execution_count": null,
   "metadata": {},
   "outputs": [],
   "source": [
    "df_african_animals_prep = uriMerge(df_african_animals, 'african_animals')\n",
    "df_african_animals_prep.to_csv('../data/survey_single_cat_files/sv_prep_uri/sv_african_animals_prep.csv', sep=';', encoding='utf-8', index=False)"
   ]
  },
  {
   "cell_type": "code",
   "execution_count": null,
   "metadata": {},
   "outputs": [],
   "source": [
    "df_furniture_prep = uriMerge(df_furniture, 'furniture')\n",
    "df_furniture_prep.to_csv('../data/survey_single_cat_files/sv_prep_uri/sv_furniture_prep.csv', sep=';', encoding='utf-8', index=False)"
   ]
  },
  {
   "cell_type": "code",
   "execution_count": null,
   "metadata": {},
   "outputs": [],
   "source": [
    "df_vegetables_prep = uriMerge(df_vegetables, 'vegetables')\n",
    "df_vegetables_prep.to_csv('../data/survey_single_cat_files/sv_prep_uri/sv_vegetables_prep.csv', sep=';', encoding='utf-8', index=False)"
   ]
  },
  {
   "cell_type": "code",
   "execution_count": null,
   "metadata": {},
   "outputs": [],
   "source": [
    "df_fast_food_prep = uriMerge(df_fast_food, 'fast_food')\n",
    "df_fast_food_prep.to_csv('../data/survey_single_cat_files/sv_prep_uri/sv_fast_food_prep.csv', sep=';', encoding='utf-8', index=False)"
   ]
  },
  {
   "cell_type": "code",
   "execution_count": null,
   "metadata": {},
   "outputs": [],
   "source": [
    "df_european_landmarks_prep = uriMerge(df_european_landmarks, 'european_landmarks')\n",
    "df_european_landmarks_prep.to_csv('../data/survey_single_cat_files/sv_prep_uri/sv_european_landmarks_prep.csv', sep=';', encoding='utf-8', index=False)"
   ]
  },
  {
   "cell_type": "code",
   "execution_count": null,
   "metadata": {},
   "outputs": [],
   "source": [
    "df_dax_companies_prep = uriMerge(df_dax_companies, 'dax_companies')\n",
    "df_dax_companies_prep.to_csv('../data/survey_single_cat_files/sv_prep_uri/sv_dax_companies_prep.csv', sep=';', encoding='utf-8', index=False)"
   ]
  },
  {
   "cell_type": "code",
   "execution_count": null,
   "metadata": {},
   "outputs": [],
   "source": [
    "df_us_companies_prep = uriMerge(df_us_companies, 'us_companies')\n",
    "df_us_companies_prep.to_csv('../data/survey_single_cat_files/sv_prep_uri/sv_us_companies_prep.csv', sep=';', encoding='utf-8', index=False)"
   ]
  },
  {
   "cell_type": "code",
   "execution_count": null,
   "metadata": {},
   "outputs": [],
   "source": [
    "df_us_tech_companies_prep = uriMerge(df_us_tech_companies, 'us_tech_companies')\n",
    "df_us_tech_companies_prep.to_csv('../data/survey_single_cat_files/sv_prep_uri/sv_us_tech_companies_prep.csv', sep=';', encoding='utf-8', index=False)"
   ]
  },
  {
   "cell_type": "markdown",
   "metadata": {},
   "source": [
    "## REST API call KG2vec"
   ]
  },
  {
   "cell_type": "code",
   "execution_count": 17,
   "metadata": {},
   "outputs": [
    {
     "name": "stdout",
     "output_type": "stream",
     "text": [
      "<Response [200]>\n"
     ]
    }
   ],
   "source": [
    "response = requests.get(\"http://kgvec2go.org/rest/get-vector/dbpedia/Berlin\")\n",
    "print(response)"
   ]
  },
  {
   "cell_type": "code",
   "execution_count": 18,
   "metadata": {},
   "outputs": [
    {
     "data": {
      "text/plain": [
       "b'{ \"uri\": \"http://dbpedia.org/resource/Berlin\",\\n\"vector\": [-0.1412769,0.7239823,0.14231844,-0.10866416,-1.129359,-1.1254097,0.8620809,0.067370795,-0.56195587,0.51466596,0.9389942,-0.22358158,1.2312446,-0.54355925,-0.38171855,-0.4672504,0.31205732,-0.40472075,0.128529,1.585884,-0.32910427,-0.19110309,-0.4259699,1.4076687,-0.13797206,-0.18693012,-0.38134786,1.2368865,0.045675058,0.2670868,-0.57959884,0.24869184,0.41878465,0.37219828,-0.20605786,0.5755513,-0.18706632,0.3773514,0.56848013,-0.66782486,-1.0674747,0.27229774,0.009305603,-0.04903347,-1.1512706,-0.9706573,0.45911077,-0.88458174,0.41098833,-0.18836813,0.9545438,-0.067685865,0.6666742,-0.24369392,0.012550359,-0.04986439,0.20528802,0.5915947,-0.7402612,0.0082289865,0.009288699,-0.41921684,0.025185918,-0.21008308,0.85233706,-0.026782608,0.31105694,0.3443088,-0.07463556,-0.43719476,1.0115871,-0.21461011,0.2489509,0.82104504,0.17387275,0.82442206,0.10589156,-0.13948363,0.33075324,0.18755323,0.26731336,-0.5019661,-0.059044987,-0.36576602,0.38789442,-0.1937353,0.21214978,-0.02584084,-0.5221387,-0.15509479,-0.6668187,0.36033192,-0.03987701,-0.4219544,-0.20997232,0.7101118,-0.10581423,-0.015820488,-0.66061586,-0.37649482,-0.48986587,-0.76115984,-0.016930105,0.4101971,0.17438368,0.5952742,-0.17487685,-0.81223965,0.30249083,-0.17423218,0.23199059,0.98218864,0.034202494,0.73651767,0.25211722,-0.6330228,-0.12987727,-0.37408772,0.16920364,-0.47708148,0.6438624,0.516816,-0.30090952,-0.27159062,0.5248913,-0.37817046,-1.0588219,-0.08346742,0.024142828,-0.5659204,0.60886097,-0.44785994,0.08830167,0.83655936,0.7078621,0.18239444,-0.13367207,0.2950568,0.021978796,-0.15536442,-0.5806095,0.15259631,-0.13781165,-0.0956154,-1.1897879,-0.6812112,0.038987823,-0.24404171,1.2764242,0.18972388,0.8894618,-0.28464803,0.28893155,0.9622732,-0.3683203,-0.62163067,0.51655924,-0.34545764,0.12326285,0.1989804,0.7582162,1.1531662,-0.3430015,0.1397342,0.26534104,-0.62906855,-0.8928287,0.17496213,-0.99345267,0.18200868,-0.057073895,0.030322375,-0.122676246,0.37837127,0.70237917,0.21033241,0.39846194,-0.13862257,0.58927244,-0.93393856,-0.67982143,-0.54464,1.2236042,-0.89343584,-0.20565832,-0.3749813,0.2222853,0.09363665,-0.61059666,0.6016389,-0.29233807,-0.28748974,-0.38243324,0.6532937,0.32210284,-0.13567042,1.1222969,-0.6603041,-0.87066805,-0.32613972]}'"
      ]
     },
     "execution_count": 18,
     "metadata": {},
     "output_type": "execute_result"
    }
   ],
   "source": [
    "response.content # Return the raw bytes of the data payload\n",
    "#response.text # Return a string representation of the data payload\n",
    "#response.json # This method is convenient when the API returns JSON"
   ]
  },
  {
   "cell_type": "code",
   "execution_count": 19,
   "metadata": {},
   "outputs": [
    {
     "data": {
      "text/plain": [
       "{'uri': 'http://dbpedia.org/resource/Berlin',\n",
       " 'vector': [-0.1412769,\n",
       "  0.7239823,\n",
       "  0.14231844,\n",
       "  -0.10866416,\n",
       "  -1.129359,\n",
       "  -1.1254097,\n",
       "  0.8620809,\n",
       "  0.067370795,\n",
       "  -0.56195587,\n",
       "  0.51466596,\n",
       "  0.9389942,\n",
       "  -0.22358158,\n",
       "  1.2312446,\n",
       "  -0.54355925,\n",
       "  -0.38171855,\n",
       "  -0.4672504,\n",
       "  0.31205732,\n",
       "  -0.40472075,\n",
       "  0.128529,\n",
       "  1.585884,\n",
       "  -0.32910427,\n",
       "  -0.19110309,\n",
       "  -0.4259699,\n",
       "  1.4076687,\n",
       "  -0.13797206,\n",
       "  -0.18693012,\n",
       "  -0.38134786,\n",
       "  1.2368865,\n",
       "  0.045675058,\n",
       "  0.2670868,\n",
       "  -0.57959884,\n",
       "  0.24869184,\n",
       "  0.41878465,\n",
       "  0.37219828,\n",
       "  -0.20605786,\n",
       "  0.5755513,\n",
       "  -0.18706632,\n",
       "  0.3773514,\n",
       "  0.56848013,\n",
       "  -0.66782486,\n",
       "  -1.0674747,\n",
       "  0.27229774,\n",
       "  0.009305603,\n",
       "  -0.04903347,\n",
       "  -1.1512706,\n",
       "  -0.9706573,\n",
       "  0.45911077,\n",
       "  -0.88458174,\n",
       "  0.41098833,\n",
       "  -0.18836813,\n",
       "  0.9545438,\n",
       "  -0.067685865,\n",
       "  0.6666742,\n",
       "  -0.24369392,\n",
       "  0.012550359,\n",
       "  -0.04986439,\n",
       "  0.20528802,\n",
       "  0.5915947,\n",
       "  -0.7402612,\n",
       "  0.0082289865,\n",
       "  0.009288699,\n",
       "  -0.41921684,\n",
       "  0.025185918,\n",
       "  -0.21008308,\n",
       "  0.85233706,\n",
       "  -0.026782608,\n",
       "  0.31105694,\n",
       "  0.3443088,\n",
       "  -0.07463556,\n",
       "  -0.43719476,\n",
       "  1.0115871,\n",
       "  -0.21461011,\n",
       "  0.2489509,\n",
       "  0.82104504,\n",
       "  0.17387275,\n",
       "  0.82442206,\n",
       "  0.10589156,\n",
       "  -0.13948363,\n",
       "  0.33075324,\n",
       "  0.18755323,\n",
       "  0.26731336,\n",
       "  -0.5019661,\n",
       "  -0.059044987,\n",
       "  -0.36576602,\n",
       "  0.38789442,\n",
       "  -0.1937353,\n",
       "  0.21214978,\n",
       "  -0.02584084,\n",
       "  -0.5221387,\n",
       "  -0.15509479,\n",
       "  -0.6668187,\n",
       "  0.36033192,\n",
       "  -0.03987701,\n",
       "  -0.4219544,\n",
       "  -0.20997232,\n",
       "  0.7101118,\n",
       "  -0.10581423,\n",
       "  -0.015820488,\n",
       "  -0.66061586,\n",
       "  -0.37649482,\n",
       "  -0.48986587,\n",
       "  -0.76115984,\n",
       "  -0.016930105,\n",
       "  0.4101971,\n",
       "  0.17438368,\n",
       "  0.5952742,\n",
       "  -0.17487685,\n",
       "  -0.81223965,\n",
       "  0.30249083,\n",
       "  -0.17423218,\n",
       "  0.23199059,\n",
       "  0.98218864,\n",
       "  0.034202494,\n",
       "  0.73651767,\n",
       "  0.25211722,\n",
       "  -0.6330228,\n",
       "  -0.12987727,\n",
       "  -0.37408772,\n",
       "  0.16920364,\n",
       "  -0.47708148,\n",
       "  0.6438624,\n",
       "  0.516816,\n",
       "  -0.30090952,\n",
       "  -0.27159062,\n",
       "  0.5248913,\n",
       "  -0.37817046,\n",
       "  -1.0588219,\n",
       "  -0.08346742,\n",
       "  0.024142828,\n",
       "  -0.5659204,\n",
       "  0.60886097,\n",
       "  -0.44785994,\n",
       "  0.08830167,\n",
       "  0.83655936,\n",
       "  0.7078621,\n",
       "  0.18239444,\n",
       "  -0.13367207,\n",
       "  0.2950568,\n",
       "  0.021978796,\n",
       "  -0.15536442,\n",
       "  -0.5806095,\n",
       "  0.15259631,\n",
       "  -0.13781165,\n",
       "  -0.0956154,\n",
       "  -1.1897879,\n",
       "  -0.6812112,\n",
       "  0.038987823,\n",
       "  -0.24404171,\n",
       "  1.2764242,\n",
       "  0.18972388,\n",
       "  0.8894618,\n",
       "  -0.28464803,\n",
       "  0.28893155,\n",
       "  0.9622732,\n",
       "  -0.3683203,\n",
       "  -0.62163067,\n",
       "  0.51655924,\n",
       "  -0.34545764,\n",
       "  0.12326285,\n",
       "  0.1989804,\n",
       "  0.7582162,\n",
       "  1.1531662,\n",
       "  -0.3430015,\n",
       "  0.1397342,\n",
       "  0.26534104,\n",
       "  -0.62906855,\n",
       "  -0.8928287,\n",
       "  0.17496213,\n",
       "  -0.99345267,\n",
       "  0.18200868,\n",
       "  -0.057073895,\n",
       "  0.030322375,\n",
       "  -0.122676246,\n",
       "  0.37837127,\n",
       "  0.70237917,\n",
       "  0.21033241,\n",
       "  0.39846194,\n",
       "  -0.13862257,\n",
       "  0.58927244,\n",
       "  -0.93393856,\n",
       "  -0.67982143,\n",
       "  -0.54464,\n",
       "  1.2236042,\n",
       "  -0.89343584,\n",
       "  -0.20565832,\n",
       "  -0.3749813,\n",
       "  0.2222853,\n",
       "  0.09363665,\n",
       "  -0.61059666,\n",
       "  0.6016389,\n",
       "  -0.29233807,\n",
       "  -0.28748974,\n",
       "  -0.38243324,\n",
       "  0.6532937,\n",
       "  0.32210284,\n",
       "  -0.13567042,\n",
       "  1.1222969,\n",
       "  -0.6603041,\n",
       "  -0.87066805,\n",
       "  -0.32613972]}"
      ]
     },
     "execution_count": 19,
     "metadata": {},
     "output_type": "execute_result"
    }
   ],
   "source": [
    "response.json()"
   ]
  }
 ],
 "metadata": {
  "kernelspec": {
   "display_name": "Python 3",
   "language": "python",
   "name": "python3"
  },
  "language_info": {
   "codemirror_mode": {
    "name": "ipython",
    "version": 3
   },
   "file_extension": ".py",
   "mimetype": "text/x-python",
   "name": "python",
   "nbconvert_exporter": "python",
   "pygments_lexer": "ipython3",
   "version": "3.7.6"
  }
 },
 "nbformat": 4,
 "nbformat_minor": 4
}
