{
 "cells": [
  {
   "cell_type": "code",
   "execution_count": 1,
   "metadata": {},
   "outputs": [
    {
     "name": "stdout",
     "output_type": "stream",
     "text": [
      "Python 3.7.6\n",
      "------------\n",
      "Pandas 1.3.4\n",
      "Numpy 1.18.1\n",
      "Seaborn 0.11.2\n"
     ]
    }
   ],
   "source": [
    "# Data evaluation of the questionnaire\n",
    "# https://forms.gle/TiY3p9WSkGV8mNKk6\n",
    "\n",
    "# importing packages\n",
    "import pandas as pd\n",
    "#from lxml import etree\n",
    "import os.path, time\n",
    "\n",
    "import numpy as np\n",
    "import matplotlib.pyplot as plt\n",
    "import seaborn as sns\n",
    "#import requests\n",
    "#import json\n",
    "\n",
    "import mlnotify \n",
    "# https://github.com/aporia-ai/mlnotify\n",
    "# Use %%notify at beginning of cell\n",
    "\n",
    "\n",
    "#inNotebook = True # change this to True if you use a notebook\n",
    "#def nextplot():\n",
    "#    if inNotebook:\n",
    "#        plt.figure()  # this creates a new plot\n",
    "#    else:\n",
    "#        plt.clf()     # and this clears the current one\n",
    "\n",
    "!python --version\n",
    "print('------------')\n",
    "print(\"Pandas \" + pd.__version__)\n",
    "print(\"Numpy \" + np.__version__)\n",
    "print(\"Seaborn \" + sns.__version__)"
   ]
  },
  {
   "cell_type": "code",
   "execution_count": null,
   "metadata": {},
   "outputs": [],
   "source": [
    "# load translated categories because of the computing time and DeepL API constraints\n",
    "\n",
    "df_european_capital_cities = pd.read_csv('../data/survey_single_cat_files/translated_df/df_european_capital_cities_trans.csv', sep=';')\n",
    "#df_european_capital_cities = df_european_capital_cities['european_capital_cities'].replace('\\ ','_', regex=True)\n",
    "\n",
    "df_cities = pd.read_csv('../data/survey_single_cat_files/translated_df/df_cities_trans.csv', sep=';')\n",
    "#df_cities = df_cities['cities'].replace('\\ ','_', regex=True)\n",
    "\n",
    "df_lakes = pd.read_csv('../data/survey_single_cat_files/translated_df/df_lakes_trans.csv', sep=';')\n",
    "#df_lakes = df_lakes['lakes'].replace('\\ ','_', regex=True)\n",
    "\n",
    "df_mountains = pd.read_csv('../data/survey_single_cat_files/translated_df/df_mountains_trans.csv', sep=';')\n",
    "#df_mountains = df_mountains['mountains'].replace('\\ ','_', regex=True)\n",
    "\n",
    "df_european_countries = pd.read_csv('../data/survey_single_cat_files/translated_df/df_european_countries_trans.csv', sep=';')\n",
    "#df_european_countries = df_european_countries['european_countries'].replace('\\ ','_', regex=True)\n",
    "\n",
    "df_asian_countries = pd.read_csv('../data/survey_single_cat_files/translated_df/df_asian_countries_trans.csv', sep=';')\n",
    "#df_asian_countries = df_asian_countries['asian_countries'].replace('\\ ','_', regex=True)\n",
    "\n",
    "df_continents = pd.read_csv('../data/survey_single_cat_files/translated_df/df_continents_trans.csv', sep=';')\n",
    "#df_continents = df_continents['continents'].replace('\\ ','_', regex=True)\n",
    "\n",
    "df_birds = pd.read_csv('../data/survey_single_cat_files/translated_df/df_birds_trans.csv', sep=';')\n",
    "#df_birds = df_birds['birds'].replace('\\ ','_', regex=True)\n",
    "\n",
    "df_african_animals = pd.read_csv('../data/survey_single_cat_files/translated_df/df_african_animals_trans.csv', sep=';')\n",
    "#df_african_animals = df_african_animals['african_animals'].replace('\\ ','_', regex=True)\n",
    "\n",
    "df_furniture = pd.read_csv('../data/survey_single_cat_files/translated_df/df_furniture_trans.csv', sep=';')\n",
    "#df_furniture = df_furniture['furniture'].replace('\\ ','_', regex=True)\n",
    "\n",
    "df_vegetables = pd.read_csv('../data/survey_single_cat_files/translated_df/df_vegetables_trans.csv', sep=';')\n",
    "#df_vegetables = df_vegetables['vegetables'].replace('\\ ','_', regex=True)\n",
    "\n",
    "df_fast_food = pd.read_csv('../data/survey_single_cat_files/translated_df/df_fast_food_trans.csv', sep=';')\n",
    "#df_fast_food = df_fast_food['fast_food'].replace('\\ ','_', regex=True)\n",
    "\n",
    "df_european_landmarks = pd.read_csv('../data/survey_single_cat_files/translated_df/df_european_landmarks_trans.csv', sep=';')\n",
    "#df_european_landmarks = df_european_landmarks['european_landmarks'].replace('\\ ','_', regex=True)"
   ]
  }
 ],
 "metadata": {
  "kernelspec": {
   "display_name": "Python 3",
   "language": "python",
   "name": "python3"
  },
  "language_info": {
   "codemirror_mode": {
    "name": "ipython",
    "version": 3
   },
   "file_extension": ".py",
   "mimetype": "text/x-python",
   "name": "python",
   "nbconvert_exporter": "python",
   "pygments_lexer": "ipython3",
   "version": "3.7.6"
  }
 },
 "nbformat": 4,
 "nbformat_minor": 4
}
