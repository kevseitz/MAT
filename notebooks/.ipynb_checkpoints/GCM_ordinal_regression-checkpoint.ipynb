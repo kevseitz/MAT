{
 "cells": [
  {
   "cell_type": "markdown",
   "metadata": {},
   "source": [
    "# Ordinal Regression"
   ]
  },
  {
   "cell_type": "code",
   "execution_count": 126,
   "metadata": {},
   "outputs": [
    {
     "name": "stdout",
     "output_type": "stream",
     "text": [
      "------------\n",
      "Python 3.7.6\n",
      "Pandas 1.3.4\n",
      "Numpy 1.18.1\n",
      "------------\n",
      "All packages loaded and ready to roll :-)\n"
     ]
    }
   ],
   "source": [
    "# Importing packages\n",
    "import pandas as pd\n",
    "#from SPARQLWrapper import SPARQLWrapper, JSON, N3\n",
    "#import lxml\n",
    "import numpy as np\n",
    "import matplotlib.pyplot as plt\n",
    "#import seaborn as sns\n",
    "#import networkx as nx\n",
    "#from networkx import Graph as NXGraph\n",
    "#from rdflib import Graph as RDFGraph\n",
    "#from rdflib.extras.external_graph_libs import rdflib_to_networkx_graph\n",
    "#import statistics\n",
    "#import collections\n",
    "from scipy import stats\n",
    "from scipy.stats import kstest\n",
    "# https://www.statology.org/normality-test-python/\n",
    "\n",
    "#from urllib import parse\n",
    "from sklearn import linear_model\n",
    "#from sklearn.preprocessing import StandardScaler\n",
    "from sklearn import preprocessing\n",
    "import statsmodels.api as sm\n",
    "from statsmodels.miscmodels.ordinal_model import OrderedModel\n",
    "\n",
    "import mlnotify \n",
    "# https://github.com/aporia-ai/mlnotify\n",
    "# Use %%notify at beginning of cell\n",
    "\n",
    "import os.path, time\n",
    "# Use %%time at beginning of cell\n",
    "\n",
    "print('------------')\n",
    "!python --version\n",
    "print(\"Pandas \" + pd.__version__)\n",
    "print(\"Numpy \" + np.__version__)\n",
    "#print(\"Seaborn \" + sns.__version__)\n",
    "#print(\"Networkx \" + nx.__version__)\n",
    "print('------------')\n",
    "print(\"All packages loaded and ready to roll :-)\")"
   ]
  },
  {
   "cell_type": "code",
   "execution_count": 2,
   "metadata": {},
   "outputs": [
    {
     "data": {
      "text/html": [
       "<div>\n",
       "<style scoped>\n",
       "    .dataframe tbody tr th:only-of-type {\n",
       "        vertical-align: middle;\n",
       "    }\n",
       "\n",
       "    .dataframe tbody tr th {\n",
       "        vertical-align: top;\n",
       "    }\n",
       "\n",
       "    .dataframe thead th {\n",
       "        text-align: right;\n",
       "    }\n",
       "</style>\n",
       "<table border=\"1\" class=\"dataframe\">\n",
       "  <thead>\n",
       "    <tr style=\"text-align: right;\">\n",
       "      <th></th>\n",
       "      <th>resource</th>\n",
       "      <th>degree</th>\n",
       "      <th>eigenvector</th>\n",
       "      <th>pagerank</th>\n",
       "    </tr>\n",
       "  </thead>\n",
       "  <tbody>\n",
       "    <tr>\n",
       "      <th>0</th>\n",
       "      <td>http://dbpedia.org/resource/Billy_Coggins__Car...</td>\n",
       "      <td>3</td>\n",
       "      <td>7.845722e-04</td>\n",
       "      <td>5.936257e-08</td>\n",
       "    </tr>\n",
       "    <tr>\n",
       "      <th>1</th>\n",
       "      <td>http://dbpedia.org/ontology/CareerStation</td>\n",
       "      <td>1624880</td>\n",
       "      <td>1.000000e+00</td>\n",
       "      <td>2.791082e-02</td>\n",
       "    </tr>\n",
       "    <tr>\n",
       "      <th>2</th>\n",
       "      <td>http://dbpedia.org/resource/News_Patrol__A2Z_N...</td>\n",
       "      <td>9</td>\n",
       "      <td>7.198654e-11</td>\n",
       "      <td>1.150764e-07</td>\n",
       "    </tr>\n",
       "    <tr>\n",
       "      <th>3</th>\n",
       "      <td>http://dbpedia.org/resource/ZOE_Broadcasting_N...</td>\n",
       "      <td>20</td>\n",
       "      <td>9.183437e-10</td>\n",
       "      <td>2.792414e-07</td>\n",
       "    </tr>\n",
       "    <tr>\n",
       "      <th>4</th>\n",
       "      <td>http://dbpedia.org/resource/Yu_Yongfu</td>\n",
       "      <td>6</td>\n",
       "      <td>2.790954e-09</td>\n",
       "      <td>1.047756e-07</td>\n",
       "    </tr>\n",
       "  </tbody>\n",
       "</table>\n",
       "</div>"
      ],
      "text/plain": [
       "                                            resource   degree   eigenvector  \\\n",
       "0  http://dbpedia.org/resource/Billy_Coggins__Car...        3  7.845722e-04   \n",
       "1          http://dbpedia.org/ontology/CareerStation  1624880  1.000000e+00   \n",
       "2  http://dbpedia.org/resource/News_Patrol__A2Z_N...        9  7.198654e-11   \n",
       "3  http://dbpedia.org/resource/ZOE_Broadcasting_N...       20  9.183437e-10   \n",
       "4              http://dbpedia.org/resource/Yu_Yongfu        6  2.790954e-09   \n",
       "\n",
       "       pagerank  \n",
       "0  5.936257e-08  \n",
       "1  2.791082e-02  \n",
       "2  1.150764e-07  \n",
       "3  2.792414e-07  \n",
       "4  1.047756e-07  "
      ]
     },
     "execution_count": 2,
     "metadata": {},
     "output_type": "execute_result"
    }
   ],
   "source": [
    "# Load GCM data\n",
    "\n",
    "# NetworkX\n",
    "#df_gcm = pd.read_csv('../data/gcm_computed.nosync/nx-gcm.csv')\n",
    "\n",
    "# iGraph\n",
    "df_ig_gcm = pd.read_csv('../data/gcm_computed.nosync/ig-gcm.csv')\n",
    "\n",
    "df_ig_gcm.head()"
   ]
  },
  {
   "cell_type": "code",
   "execution_count": 3,
   "metadata": {},
   "outputs": [
    {
     "name": "stdout",
     "output_type": "stream",
     "text": [
      "Data types:\n",
      "resource        object\n",
      "degree           int64\n",
      "eigenvector    float64\n",
      "pagerank       float64\n",
      "dtype: object\n",
      "----------------------\n",
      "Memory usage:\n",
      "Index                128\n",
      "resource       964958363\n",
      "degree          65946664\n",
      "eigenvector     65946664\n",
      "pagerank        65946664\n",
      "dtype: int64\n",
      "------------------------\n",
      "Dataframe shape is (8243333, 4)\n"
     ]
    }
   ],
   "source": [
    "print(\"Data types:\")\n",
    "print(df_ig_gcm.dtypes)\n",
    "print('----------------------')\n",
    "print(\"Memory usage:\")\n",
    "print(df_ig_gcm.memory_usage(deep=True))\n",
    "print('------------------------')\n",
    "print(\"Dataframe shape is {}\".format(df_ig_gcm.shape))"
   ]
  },
  {
   "cell_type": "code",
   "execution_count": 92,
   "metadata": {},
   "outputs": [],
   "source": [
    "# Load pre-queried (via queried web-interface) DBpedia categories\n",
    "# https://dbpedia.org/sparql/\n",
    "\n",
    "# 90s films from the aggregated Categories: 1990_films, 1991_films, 1992_films, ...\n",
    "df_film90 = pd.read_csv(\"../data/sparql_cat_queries/sparql_90film.csv\")\n",
    "df_film90.rename(columns={\"film90\": \"resource\"}, inplace=True) #rename column to match PageRank dataframe\n",
    "\n",
    "# actors from the \"Occupation\": \"Actor\"@en\n",
    "df_actor = pd.read_csv(\"../data/sparql_cat_queries/sparql_actor.csv\")\n",
    "df_actor.rename(columns={\"actor\": \"resource\"}, inplace=True)\n",
    "\n",
    "# Music Genre from the \"Type\": \"dbo:MusicGenre\"\n",
    "df_musicGenre = pd.read_csv(\"../data/sparql_cat_queries/sparql_musicGenre.csv\")\n",
    "df_musicGenre.rename(columns={\"mGenre\": \"resource\"}, inplace=True)\n",
    "\n",
    "# Books from the \"Type\":\"dbo:book\"\n",
    "df_book = pd.read_csv(\"../data/sparql_cat_queries/sparql_book.csv\")\n",
    "df_book.rename(columns={\"book\": \"resource\"}, inplace=True)\n",
    "\n",
    "# Book authors from the \"Type\": author UNION book dbo:author\n",
    "df_bookAut = pd.read_csv(\"../data/sparql_cat_queries/sparql_bookAuthor.csv\")\n",
    "df_bookAut.rename(columns={\"author\": \"resource\"}, inplace=True)\n",
    "\n",
    "# Politicians from the \"Type\": Person/Politician\n",
    "df_pol = pd.read_csv(\"../data/sparql_cat_queries/sparql_politician.csv\")\n",
    "df_pol.rename(columns={\"pol\": \"resource\"}, inplace=True)\n",
    "\n",
    "# POTUS from the \"Category\": Presidents_of_the_United_States\n",
    "df_potus = pd.read_csv(\"../data/sparql_cat_queries/sparql_potus.csv\")\n",
    "df_potus.rename(columns={\"potus\": \"resource\"}, inplace=True)\n",
    "\n",
    "# Cities from the \"Category\": \"dbo:City\"\n",
    "df_city = pd.read_csv(\"../data/sparql_cat_queries/sparql_city.csv\")\n",
    "df_city.rename(columns={\"city\": \"resource\"}, inplace=True)\n",
    "\n",
    "# Lakes from the \"Category\": \"dbo:Lake\"\n",
    "df_lake = pd.read_csv(\"../data/sparql_cat_queries/sparql_lake.csv\")\n",
    "df_lake.rename(columns={\"lake\": \"resource\"}, inplace=True)\n",
    "\n",
    "# Mountains from the \"Category\": \"dbo:Mountain\"\n",
    "df_mountain = pd.read_csv(\"../data/sparql_cat_queries/sparql_mountain.csv\")\n",
    "df_mountain.rename(columns={\"mount\": \"resource\"}, inplace=True)\n",
    "\n",
    "# EU capitals from the \"Category\": Capitals_in_Europe\n",
    "df_euCap = pd.read_csv(\"../data/sparql_cat_queries/sparql_euCap.csv\")\n",
    "df_euCap.rename(columns={\"euCap\": \"resource\"}, inplace=True)\n",
    "\n",
    "# EU countries from the \"Category\": Countries_in_Europe\n",
    "df_euCou = pd.read_csv(\"../data/sparql_cat_queries/sparql_euCountry.csv\")\n",
    "df_euCou.rename(columns={\"euCountry\": \"resource\"}, inplace=True)\n",
    "\n",
    "# Asian countries from the \"Category\": \"dbc:Countries_in_Asia\", \"dbc:East_Asian_countries\" and \"dbc:Central_Asian_countries\"\n",
    "df_asCou = pd.read_csv(\"../data/sparql_cat_queries/sparql_asCountry.csv\")\n",
    "df_asCou.rename(columns={\"asCountry\": \"resource\"}, inplace=True)\n",
    "\n",
    "# Continents from the \"Category\": \"dbo:Continents\"\n",
    "df_continent = pd.read_csv(\"../data/sparql_cat_queries/sparql_continent.csv\")\n",
    "df_continent.rename(columns={\"conti\": \"resource\"}, inplace=True)\n",
    "\n",
    "# Birds from the \"Class\": \"dbr:Bird\"\n",
    "df_bird = pd.read_csv(\"../data/sparql_cat_queries/sparql_bird.csv\")\n",
    "df_bird.rename(columns={\"bird\": \"resource\"}, inplace=True)\n",
    "\n",
    "# African animals from the \"Category\": \"dbc:Vertebrates_of_Africa\"\n",
    "df_africanAnimal = pd.read_csv(\"../data/sparql_cat_queries/sparql_africanAnimal.csv\")\n",
    "df_africanAnimal.rename(columns={\"afrAnimal\": \"resource\"}, inplace=True)\n",
    "\n",
    "# Furniture from the \"Category\": \"dbc:Furniture\"\n",
    "df_furniture = pd.read_csv(\"../data/sparql_cat_queries/sparql_furniture.csv\")\n",
    "df_furniture.rename(columns={\"fur\": \"resource\"}, inplace=True)\n",
    "\n",
    "# Furniture from the \"Category\": \"dbc:Vegetables\"\n",
    "df_vegetable = pd.read_csv(\"../data/sparql_cat_queries/sparql_vegetable.csv\")\n",
    "df_vegetable.rename(columns={\"veg\": \"resource\"}, inplace=True)\n",
    "\n",
    "# Types of fast food from the \"Category\": \"dbc:Fast_food\"\n",
    "df_fastFood = pd.read_csv(\"../data/sparql_cat_queries/sparql_fastfood.csv\")\n",
    "df_fastFood.rename(columns={\"fastFood\": \"resource\"}, inplace=True)\n",
    "\n",
    "# European Landmark/Sight from multiple \"Category\": \"dbc:Landmarks_in_x\" with x being a country from europe\n",
    "df_euSight = pd.read_csv(\"../data/sparql_cat_queries/sparql_euLandmark.csv\")\n",
    "df_euSight.rename(columns={\"euroSight\": \"resource\"}, inplace=True)\n",
    "\n",
    "# DAX company from the \"Type\": \"dbo:Company\" and \"dbp:tradedAs\" -> \"dbr:DAX\"\n",
    "df_daxCo = pd.read_csv(\"../data/sparql_cat_queries/sparql_daxCompany.csv\")\n",
    "df_daxCo.rename(columns={\"DAXco\": \"resource\"}, inplace=True)\n",
    "\n",
    "# US company from ?\n",
    "df_usCo = pd.read_csv(\"../data/sparql_cat_queries/sparql_usCompany.csv\")\n",
    "df_usCo.rename(columns={\"usCo\": \"resource\"}, inplace=True)\n",
    "\n",
    "# US tech company from the \"Category\": \"dbc:Technology_companies_of_the_United_States\"\n",
    "df_usTechCo = pd.read_csv(\"../data/sparql_cat_queries/sparql_usTechCompany.csv\")\n",
    "df_usTechCo.rename(columns={\"usTech\": \"resource\"}, inplace=True)"
   ]
  },
  {
   "cell_type": "code",
   "execution_count": 5,
   "metadata": {},
   "outputs": [],
   "source": [
    "# Function for standardized scaling and normalisation of GCM values\n",
    "# https://scikit-learn.org/stable/modules/generated/sklearn.preprocessing.StandardScaler.html\n",
    "\n",
    "def scaler(data_frame):\n",
    "    helper_df = data_frame.copy()\n",
    "    to_scale = StandardScaler()\n",
    "\n",
    "    helper_df[['degree', 'eigenvector', 'pagerank']] = to_scale.fit_transform(helper_df[['degree', 'eigenvector', 'pagerank']])\n",
    "    return helper_df\n",
    "\n",
    "#df_ig_gcm = scaler(df_ig_gcm)"
   ]
  },
  {
   "cell_type": "code",
   "execution_count": 127,
   "metadata": {},
   "outputs": [],
   "source": [
    "# Function for merging the sparql category with GCM data\n",
    "\n",
    "# Merge the queried category df to the GCM metrics based on <resource> with a left outer join\n",
    "  # (Keep every row in the category dataframe -> missing values get NaN)\n",
    "  # Then, normalize GCM metrics\n",
    "\n",
    "def catMerger(sparql_data, gcm_data):\n",
    "    df_sparql = sparql_data.copy()\n",
    "    df_gcm = gcm_data.copy()\n",
    "    helper_df = pd.merge(df_sparql,\n",
    "                #df_gcm[['resource','degree','pagerank']],\n",
    "                df_gcm[['resource','degree', 'eigenvector', 'pagerank']],\n",
    "                on='resource', \n",
    "                how='left')\n",
    "    \n",
    "    # scale and normalize the gcm metrics (same as scaler function)\n",
    "    to_scale = StandardScaler()\n",
    "    helper_df[['degree', 'eigenvector', 'pagerank']] = to_scale.fit_transform(helper_df[['degree', 'eigenvector', 'pagerank']])\n",
    "    \n",
    "    print(\"Dataframe merged with shape: {}\".format(helper_df.shape))\n",
    "    print('============================')\n",
    "\n",
    "    #print(helper_df.shape[0] - helper_df.dropna().shape[0]) #return amount of rows containing NaN values\n",
    "    \n",
    "    return helper_df"
   ]
  },
  {
   "cell_type": "code",
   "execution_count": 117,
   "metadata": {},
   "outputs": [],
   "source": [
    "# Function for merging the survey category data with the gcm category data\n",
    "\n",
    "# Merge the survey category df to the GCM metrics per category based on <resource> with a left outer join\n",
    "  # (Keep every row in the category dataframe -> missing values get NaN)\n",
    "\n",
    "def ALTgcmSurfer(survey_data, cat_gcm_data):\n",
    "    df_survey = survey_data.copy()\n",
    "    df_cat_gcm = cat_gcm_data.copy()\n",
    "    df_survey.rename(columns={\"uri\": \"resource\"}, inplace=True) #rename column to match GCM dataframe\n",
    "    \n",
    "    # Count how often an answer was given in the survey and save into new dataframe\n",
    "    survey_count = df_survey['resource'].value_counts(normalize=True) #normalize values\n",
    "    df_survey_counted = pd.DataFrame({'resource':survey_count.index, 'amount':survey_count.values})\n",
    "\n",
    "    df_survey_gcm = pd.merge(df_survey_counted,\n",
    "                    df_cat_gcm[['resource','name', 'degree','eigenvector','pagerank']],\n",
    "                    #df_cat_gcm[['resource', 'degree','eigenvector','pagerank']],\n",
    "                    on='resource', \n",
    "                    how='left')\n",
    "    \n",
    "    nan_rows = df_survey_gcm.shape[0] - df_survey_gcm.dropna().shape[0]\n",
    "    \n",
    "    print(\"Rows with NaN values dropped: {}\".format(nan_rows) + \" from {}\".format(df_survey_gcm.shape[0]) + \" => {}% \".format(round((nan_rows/df_survey_gcm.shape[0])*100, 2))) #return amount of rows containing NaN values\n",
    "    df_survey_gcm = df_survey_gcm.dropna()\n",
    "    print(\"Dataframe merged with shape: {}\".format(df_survey_gcm.shape))\n",
    "    \n",
    "    return df_survey_gcm"
   ]
  },
  {
   "cell_type": "code",
   "execution_count": 148,
   "metadata": {},
   "outputs": [],
   "source": [
    "# Function for merging the survey category data with the gcm category data\n",
    "\n",
    "# Merge the survey category df to the GCM metrics per category based on <resource> with a left outer join\n",
    "  # (Keep every row in the category dataframe -> missing values get NaN)\n",
    "  # Drop NaN rows, then -> normalize survey results\n",
    "\n",
    "def gcmSurfer(survey_data, cat_gcm_data):\n",
    "    df_survey = survey_data.copy()\n",
    "    df_cat_gcm = cat_gcm_data.copy()\n",
    "    df_survey.rename(columns={\"uri\": \"resource\"}, inplace=True) #rename column to match GCM dataframe\n",
    "        \n",
    "    # Count how often an answer was given in the survey and save into new dataframe\n",
    "    survey_count = df_survey['resource'].value_counts() #normalize values\n",
    "    df_survey_counted = pd.DataFrame({'resource':survey_count.index, 'amount':survey_count.values})\n",
    "\n",
    "    df_survey_gcm = pd.merge(df_survey_counted,\n",
    "                    df_cat_gcm[['resource','name', 'degree','eigenvector','pagerank']],\n",
    "                    #df_cat_gcm[['resource', 'degree','eigenvector','pagerank']],\n",
    "                    on='resource', \n",
    "                    how='left')\n",
    "    \n",
    "    # Drop rows that were not matched with the category\n",
    "    nan_rows = df_survey_gcm.shape[0] - df_survey_gcm.dropna().shape[0]    \n",
    "    print(\"Rows with NaN values dropped: {}\".format(nan_rows) + \" from {}\".format(df_survey_gcm.shape[0]) + \" => {}% \".format(round((nan_rows/df_survey_gcm.shape[0])*100, 2))) #return amount of rows containing NaN values\n",
    "    df_survey_gcm = df_survey_gcm.dropna()\n",
    "    \n",
    "    # Count how often an answer was given in the survey and save into new dataframe\n",
    "    #df_survey_gcm['survey_mentions'] = df_survey_gcm['resource'].value_counts(normalize=True) #normalize values\n",
    "    #df_survey_counted = pd.DataFrame({'resource':survey_count.index, 'amount':survey_count.values})\n",
    "    \n",
    "    # scale and normalize the survey data\n",
    "    min_max_scaler = preprocessing.MinMaxScaler()\n",
    "    df_survey_gcm[['amount']] = min_max_scaler.fit_transform(df_survey_gcm[['amount']])\n",
    "    \n",
    "    print(\"Dataframe merged with shape: {}\".format(df_survey_gcm.shape))\n",
    "    \n",
    "    return df_survey_gcm"
   ]
  },
  {
   "cell_type": "code",
   "execution_count": 9,
   "metadata": {},
   "outputs": [],
   "source": [
    "# Function for creating \"Camps\" inside a category that is later used for ordinal regression\n",
    "\n",
    "# Takes two parameter: dataframe, num_splits\n",
    "  # dataframe = input dataframe containing URI, amount (survey mentions), GCMs (degree, eigenvector, pagerank)\n",
    "  # num_splits = number for the camp size, e.g. 3 => three camps with 1 = top 33%; 2 = mid 33%; 3 = low 33%\n",
    "\n",
    "def camper(data_frame, num_splits):\n",
    "    helper_df = data_frame.copy()\n",
    "    split_v = [int(len(helper_df.index)/num_splits * i) for i in np.arange(num_splits)]\n",
    "    \n",
    "    for i in helper_df.index:\n",
    "        split_smaller = [split <= i for split in split_v]\n",
    "        camp = np.sum(split_smaller)\n",
    "        \n",
    "        #return dataframe\n",
    "        helper_df.at[i,'camp'] = camp\n",
    "        \n",
    "    return helper_df"
   ]
  },
  {
   "cell_type": "code",
   "execution_count": 10,
   "metadata": {},
   "outputs": [],
   "source": [
    "def ordinalReg(df_survey_gcm, list_gcm, num_splits): # list_gcm -> ['degree', 'eigenvector', 'pagerank']  \n",
    "    helper_df = df_survey_gcm.copy()\n",
    "    camped_df = camper(helper_df, num_splits) #calls camper function to create column with camps\n",
    "\n",
    "    mod_prob = OrderedModel(camped_df['camp'],\n",
    "                            camped_df[list_gcm],\n",
    "                            distr='probit')\n",
    "    \n",
    "    print(\"Ordinal Regression:  {}\".format(list_gcm))\n",
    "    print('-------------------------------------')\n",
    "    res_prob = mod_prob.fit(method='bfgs')\n",
    "\n",
    "    return res_prob.summary()"
   ]
  },
  {
   "cell_type": "markdown",
   "metadata": {},
   "source": [
    "## 90s film"
   ]
  },
  {
   "cell_type": "code",
   "execution_count": 149,
   "metadata": {},
   "outputs": [
    {
     "name": "stdout",
     "output_type": "stream",
     "text": [
      "Dataframe merged with shape: (10000, 5)\n",
      "============================\n",
      "Rows with NaN values dropped: 98 from 121 => 80.99% \n",
      "Dataframe merged with shape: (23, 6)\n"
     ]
    }
   ],
   "source": [
    "# 90s films from the aggregated Categories: 1990_films, 1991_films, 1992_films, ...\n",
    "\n",
    "film90_result = catMerger(df_film90, df_ig_gcm)\n",
    "df_survey_film90 = pd.read_csv(\"../data/survey_single_cat_files/sv_prep_uri/sv_film90_prep.csv\", sep=';')\n",
    "\n",
    "df_survey_film90_gcm = gcmSurfer(df_survey_film90, film90_result)"
   ]
  },
  {
   "cell_type": "code",
   "execution_count": 150,
   "metadata": {},
   "outputs": [
    {
     "data": {
      "text/html": [
       "<div>\n",
       "<style scoped>\n",
       "    .dataframe tbody tr th:only-of-type {\n",
       "        vertical-align: middle;\n",
       "    }\n",
       "\n",
       "    .dataframe tbody tr th {\n",
       "        vertical-align: top;\n",
       "    }\n",
       "\n",
       "    .dataframe thead th {\n",
       "        text-align: right;\n",
       "    }\n",
       "</style>\n",
       "<table border=\"1\" class=\"dataframe\">\n",
       "  <thead>\n",
       "    <tr style=\"text-align: right;\">\n",
       "      <th></th>\n",
       "      <th>resource</th>\n",
       "      <th>amount</th>\n",
       "      <th>name</th>\n",
       "      <th>degree</th>\n",
       "      <th>eigenvector</th>\n",
       "      <th>pagerank</th>\n",
       "    </tr>\n",
       "  </thead>\n",
       "  <tbody>\n",
       "    <tr>\n",
       "      <th>7</th>\n",
       "      <td>http://dbpedia.org/resource/Forrest_Gump</td>\n",
       "      <td>1.0</td>\n",
       "      <td>Forrest Gump</td>\n",
       "      <td>1.513986</td>\n",
       "      <td>-0.337326</td>\n",
       "      <td>0.724824</td>\n",
       "    </tr>\n",
       "    <tr>\n",
       "      <th>9</th>\n",
       "      <td>http://dbpedia.org/resource/Schindler's_List</td>\n",
       "      <td>0.8</td>\n",
       "      <td>Schindler's List</td>\n",
       "      <td>2.141802</td>\n",
       "      <td>-0.211432</td>\n",
       "      <td>1.298609</td>\n",
       "    </tr>\n",
       "    <tr>\n",
       "      <th>17</th>\n",
       "      <td>http://dbpedia.org/resource/Die_Hard_with_a_Ve...</td>\n",
       "      <td>0.4</td>\n",
       "      <td>Die Hard with a Vengeance</td>\n",
       "      <td>1.723258</td>\n",
       "      <td>-0.362780</td>\n",
       "      <td>1.018245</td>\n",
       "    </tr>\n",
       "    <tr>\n",
       "      <th>18</th>\n",
       "      <td>http://dbpedia.org/resource/Good_Will_Hunting</td>\n",
       "      <td>0.4</td>\n",
       "      <td>Good Will Hunting</td>\n",
       "      <td>0.886170</td>\n",
       "      <td>-0.369758</td>\n",
       "      <td>0.290185</td>\n",
       "    </tr>\n",
       "    <tr>\n",
       "      <th>20</th>\n",
       "      <td>http://dbpedia.org/resource/Fight_Club</td>\n",
       "      <td>0.4</td>\n",
       "      <td>Fight Club</td>\n",
       "      <td>1.723258</td>\n",
       "      <td>-0.360731</td>\n",
       "      <td>1.109585</td>\n",
       "    </tr>\n",
       "    <tr>\n",
       "      <th>33</th>\n",
       "      <td>http://dbpedia.org/resource/Tomorrow_Never_Dies</td>\n",
       "      <td>0.2</td>\n",
       "      <td>Tomorrow Never Dies</td>\n",
       "      <td>1.932530</td>\n",
       "      <td>-0.219727</td>\n",
       "      <td>1.073447</td>\n",
       "    </tr>\n",
       "    <tr>\n",
       "      <th>37</th>\n",
       "      <td>http://dbpedia.org/resource/The_Big_Lebowski</td>\n",
       "      <td>0.0</td>\n",
       "      <td>The Big Lebowski</td>\n",
       "      <td>1.723258</td>\n",
       "      <td>-0.369402</td>\n",
       "      <td>1.113595</td>\n",
       "    </tr>\n",
       "    <tr>\n",
       "      <th>59</th>\n",
       "      <td>http://dbpedia.org/resource/Four_Weddings_and_...</td>\n",
       "      <td>0.0</td>\n",
       "      <td>Four Weddings and a Funeral</td>\n",
       "      <td>2.769618</td>\n",
       "      <td>-0.358761</td>\n",
       "      <td>1.960367</td>\n",
       "    </tr>\n",
       "    <tr>\n",
       "      <th>61</th>\n",
       "      <td>http://dbpedia.org/resource/Mrs._Doubtfire</td>\n",
       "      <td>0.0</td>\n",
       "      <td>Mrs. Doubtfire</td>\n",
       "      <td>0.886170</td>\n",
       "      <td>1.079728</td>\n",
       "      <td>0.311017</td>\n",
       "    </tr>\n",
       "    <tr>\n",
       "      <th>62</th>\n",
       "      <td>http://dbpedia.org/resource/Ghost_Dog:_The_Way...</td>\n",
       "      <td>0.0</td>\n",
       "      <td>Ghost Dog: The Way of the Samurai</td>\n",
       "      <td>1.723258</td>\n",
       "      <td>-0.334911</td>\n",
       "      <td>1.213024</td>\n",
       "    </tr>\n",
       "    <tr>\n",
       "      <th>65</th>\n",
       "      <td>http://dbpedia.org/resource/10_Things_I_Hate_A...</td>\n",
       "      <td>0.0</td>\n",
       "      <td>10 Things I Hate About You</td>\n",
       "      <td>2.141802</td>\n",
       "      <td>-0.367169</td>\n",
       "      <td>1.408444</td>\n",
       "    </tr>\n",
       "    <tr>\n",
       "      <th>66</th>\n",
       "      <td>http://dbpedia.org/resource/Free_Willy</td>\n",
       "      <td>0.0</td>\n",
       "      <td>Free Willy</td>\n",
       "      <td>0.676898</td>\n",
       "      <td>-0.364369</td>\n",
       "      <td>0.473708</td>\n",
       "    </tr>\n",
       "    <tr>\n",
       "      <th>68</th>\n",
       "      <td>http://dbpedia.org/resource/The_Wedding_Singer</td>\n",
       "      <td>0.0</td>\n",
       "      <td>The Wedding Singer</td>\n",
       "      <td>0.886170</td>\n",
       "      <td>-0.367392</td>\n",
       "      <td>0.339646</td>\n",
       "    </tr>\n",
       "    <tr>\n",
       "      <th>71</th>\n",
       "      <td>http://dbpedia.org/resource/The_Usual_Suspects</td>\n",
       "      <td>0.0</td>\n",
       "      <td>The Usual Suspects</td>\n",
       "      <td>-1.415823</td>\n",
       "      <td>2.860756</td>\n",
       "      <td>-1.091091</td>\n",
       "    </tr>\n",
       "    <tr>\n",
       "      <th>79</th>\n",
       "      <td>http://dbpedia.org/resource/Being_John_Malkovich</td>\n",
       "      <td>0.0</td>\n",
       "      <td>Being John Malkovich</td>\n",
       "      <td>1.723258</td>\n",
       "      <td>-0.217661</td>\n",
       "      <td>0.996287</td>\n",
       "    </tr>\n",
       "    <tr>\n",
       "      <th>80</th>\n",
       "      <td>http://dbpedia.org/resource/Dumb_and_Dumber</td>\n",
       "      <td>0.0</td>\n",
       "      <td>Dumb and Dumber</td>\n",
       "      <td>2.560346</td>\n",
       "      <td>1.085541</td>\n",
       "      <td>1.880347</td>\n",
       "    </tr>\n",
       "    <tr>\n",
       "      <th>88</th>\n",
       "      <td>http://dbpedia.org/resource/The_Fifth_Element</td>\n",
       "      <td>0.0</td>\n",
       "      <td>The Fifth Element</td>\n",
       "      <td>0.886170</td>\n",
       "      <td>-0.360177</td>\n",
       "      <td>0.529459</td>\n",
       "    </tr>\n",
       "    <tr>\n",
       "      <th>90</th>\n",
       "      <td>http://dbpedia.org/resource/Léon:_The_Professi...</td>\n",
       "      <td>0.0</td>\n",
       "      <td>Léon: The Professional</td>\n",
       "      <td>-0.788007</td>\n",
       "      <td>2.863527</td>\n",
       "      <td>-0.165244</td>\n",
       "    </tr>\n",
       "    <tr>\n",
       "      <th>97</th>\n",
       "      <td>http://dbpedia.org/resource/The_Nightmare_Befo...</td>\n",
       "      <td>0.0</td>\n",
       "      <td>The Nightmare Before Christmas</td>\n",
       "      <td>2.351074</td>\n",
       "      <td>-0.369019</td>\n",
       "      <td>1.654694</td>\n",
       "    </tr>\n",
       "    <tr>\n",
       "      <th>98</th>\n",
       "      <td>http://dbpedia.org/resource/You've_Got_Mail</td>\n",
       "      <td>0.0</td>\n",
       "      <td>You've Got Mail</td>\n",
       "      <td>1.304714</td>\n",
       "      <td>-0.369559</td>\n",
       "      <td>0.565656</td>\n",
       "    </tr>\n",
       "    <tr>\n",
       "      <th>108</th>\n",
       "      <td>http://dbpedia.org/resource/Basic_Instinct</td>\n",
       "      <td>0.0</td>\n",
       "      <td>Basic Instinct</td>\n",
       "      <td>1.932530</td>\n",
       "      <td>-0.357657</td>\n",
       "      <td>1.096152</td>\n",
       "    </tr>\n",
       "    <tr>\n",
       "      <th>116</th>\n",
       "      <td>http://dbpedia.org/resource/Braveheart</td>\n",
       "      <td>0.0</td>\n",
       "      <td>Braveheart</td>\n",
       "      <td>1.723258</td>\n",
       "      <td>1.692600</td>\n",
       "      <td>0.934213</td>\n",
       "    </tr>\n",
       "    <tr>\n",
       "      <th>119</th>\n",
       "      <td>http://dbpedia.org/resource/12_Monkeys</td>\n",
       "      <td>0.0</td>\n",
       "      <td>12 Monkeys</td>\n",
       "      <td>1.513986</td>\n",
       "      <td>-0.216044</td>\n",
       "      <td>0.797201</td>\n",
       "    </tr>\n",
       "  </tbody>\n",
       "</table>\n",
       "</div>"
      ],
      "text/plain": [
       "                                              resource  amount  \\\n",
       "7             http://dbpedia.org/resource/Forrest_Gump     1.0   \n",
       "9         http://dbpedia.org/resource/Schindler's_List     0.8   \n",
       "17   http://dbpedia.org/resource/Die_Hard_with_a_Ve...     0.4   \n",
       "18       http://dbpedia.org/resource/Good_Will_Hunting     0.4   \n",
       "20              http://dbpedia.org/resource/Fight_Club     0.4   \n",
       "33     http://dbpedia.org/resource/Tomorrow_Never_Dies     0.2   \n",
       "37        http://dbpedia.org/resource/The_Big_Lebowski     0.0   \n",
       "59   http://dbpedia.org/resource/Four_Weddings_and_...     0.0   \n",
       "61          http://dbpedia.org/resource/Mrs._Doubtfire     0.0   \n",
       "62   http://dbpedia.org/resource/Ghost_Dog:_The_Way...     0.0   \n",
       "65   http://dbpedia.org/resource/10_Things_I_Hate_A...     0.0   \n",
       "66              http://dbpedia.org/resource/Free_Willy     0.0   \n",
       "68      http://dbpedia.org/resource/The_Wedding_Singer     0.0   \n",
       "71      http://dbpedia.org/resource/The_Usual_Suspects     0.0   \n",
       "79    http://dbpedia.org/resource/Being_John_Malkovich     0.0   \n",
       "80         http://dbpedia.org/resource/Dumb_and_Dumber     0.0   \n",
       "88       http://dbpedia.org/resource/The_Fifth_Element     0.0   \n",
       "90   http://dbpedia.org/resource/Léon:_The_Professi...     0.0   \n",
       "97   http://dbpedia.org/resource/The_Nightmare_Befo...     0.0   \n",
       "98         http://dbpedia.org/resource/You've_Got_Mail     0.0   \n",
       "108         http://dbpedia.org/resource/Basic_Instinct     0.0   \n",
       "116             http://dbpedia.org/resource/Braveheart     0.0   \n",
       "119             http://dbpedia.org/resource/12_Monkeys     0.0   \n",
       "\n",
       "                                  name    degree  eigenvector  pagerank  \n",
       "7                         Forrest Gump  1.513986    -0.337326  0.724824  \n",
       "9                     Schindler's List  2.141802    -0.211432  1.298609  \n",
       "17           Die Hard with a Vengeance  1.723258    -0.362780  1.018245  \n",
       "18                   Good Will Hunting  0.886170    -0.369758  0.290185  \n",
       "20                          Fight Club  1.723258    -0.360731  1.109585  \n",
       "33                 Tomorrow Never Dies  1.932530    -0.219727  1.073447  \n",
       "37                    The Big Lebowski  1.723258    -0.369402  1.113595  \n",
       "59         Four Weddings and a Funeral  2.769618    -0.358761  1.960367  \n",
       "61                      Mrs. Doubtfire  0.886170     1.079728  0.311017  \n",
       "62   Ghost Dog: The Way of the Samurai  1.723258    -0.334911  1.213024  \n",
       "65          10 Things I Hate About You  2.141802    -0.367169  1.408444  \n",
       "66                          Free Willy  0.676898    -0.364369  0.473708  \n",
       "68                  The Wedding Singer  0.886170    -0.367392  0.339646  \n",
       "71                  The Usual Suspects -1.415823     2.860756 -1.091091  \n",
       "79                Being John Malkovich  1.723258    -0.217661  0.996287  \n",
       "80                     Dumb and Dumber  2.560346     1.085541  1.880347  \n",
       "88                   The Fifth Element  0.886170    -0.360177  0.529459  \n",
       "90              Léon: The Professional -0.788007     2.863527 -0.165244  \n",
       "97      The Nightmare Before Christmas  2.351074    -0.369019  1.654694  \n",
       "98                     You've Got Mail  1.304714    -0.369559  0.565656  \n",
       "108                     Basic Instinct  1.932530    -0.357657  1.096152  \n",
       "116                         Braveheart  1.723258     1.692600  0.934213  \n",
       "119                         12 Monkeys  1.513986    -0.216044  0.797201  "
      ]
     },
     "execution_count": 150,
     "metadata": {},
     "output_type": "execute_result"
    }
   ],
   "source": [
    "df_survey_film90_gcm"
   ]
  },
  {
   "cell_type": "code",
   "execution_count": 138,
   "metadata": {},
   "outputs": [
    {
     "name": "stdout",
     "output_type": "stream",
     "text": [
      "                                              resource    amount\n",
      "0    http://dbpedia.org/resource/The_Matrix_(franch...  0.077491\n",
      "1            http://dbpedia.org/resource/Pulp_magazine  0.062731\n",
      "2              http://dbpedia.org/resource/RMS_Titanic  0.055351\n",
      "3                    http://dbpedia.org/resource/Hunan  0.047970\n",
      "4             http://dbpedia.org/resource/Pretty_Woman  0.047970\n",
      "..                                                 ...       ...\n",
      "116             http://dbpedia.org/resource/Braveheart  0.003690\n",
      "117  http://dbpedia.org/resource/Scary_Movie_(film_...  0.003690\n",
      "118  http://dbpedia.org/resource/Fear_and_Loathing_...  0.003690\n",
      "119             http://dbpedia.org/resource/12_Monkeys  0.003690\n",
      "120           http://dbpedia.org/resource/Finding_Nemo  0.003690\n",
      "\n",
      "[121 rows x 2 columns]\n"
     ]
    }
   ],
   "source": [
    "ALTdf_survey_film90_gcm = ALTgcmSurfer(df_survey_film90, film90_result)"
   ]
  },
  {
   "cell_type": "code",
   "execution_count": 139,
   "metadata": {},
   "outputs": [
    {
     "data": {
      "text/html": [
       "<div>\n",
       "<style scoped>\n",
       "    .dataframe tbody tr th:only-of-type {\n",
       "        vertical-align: middle;\n",
       "    }\n",
       "\n",
       "    .dataframe tbody tr th {\n",
       "        vertical-align: top;\n",
       "    }\n",
       "\n",
       "    .dataframe thead th {\n",
       "        text-align: right;\n",
       "    }\n",
       "</style>\n",
       "<table border=\"1\" class=\"dataframe\">\n",
       "  <thead>\n",
       "    <tr style=\"text-align: right;\">\n",
       "      <th></th>\n",
       "      <th>resource</th>\n",
       "      <th>amount</th>\n",
       "      <th>name</th>\n",
       "      <th>degree</th>\n",
       "      <th>eigenvector</th>\n",
       "      <th>pagerank</th>\n",
       "    </tr>\n",
       "  </thead>\n",
       "  <tbody>\n",
       "    <tr>\n",
       "      <th>7</th>\n",
       "      <td>http://dbpedia.org/resource/Forrest_Gump</td>\n",
       "      <td>0.02214</td>\n",
       "      <td>Forrest Gump</td>\n",
       "      <td>1.513986</td>\n",
       "      <td>-0.337326</td>\n",
       "      <td>0.724824</td>\n",
       "    </tr>\n",
       "    <tr>\n",
       "      <th>9</th>\n",
       "      <td>http://dbpedia.org/resource/Schindler's_List</td>\n",
       "      <td>0.01845</td>\n",
       "      <td>Schindler's List</td>\n",
       "      <td>2.141802</td>\n",
       "      <td>-0.211432</td>\n",
       "      <td>1.298609</td>\n",
       "    </tr>\n",
       "    <tr>\n",
       "      <th>17</th>\n",
       "      <td>http://dbpedia.org/resource/Die_Hard_with_a_Ve...</td>\n",
       "      <td>0.01107</td>\n",
       "      <td>Die Hard with a Vengeance</td>\n",
       "      <td>1.723258</td>\n",
       "      <td>-0.362780</td>\n",
       "      <td>1.018245</td>\n",
       "    </tr>\n",
       "    <tr>\n",
       "      <th>18</th>\n",
       "      <td>http://dbpedia.org/resource/Good_Will_Hunting</td>\n",
       "      <td>0.01107</td>\n",
       "      <td>Good Will Hunting</td>\n",
       "      <td>0.886170</td>\n",
       "      <td>-0.369758</td>\n",
       "      <td>0.290185</td>\n",
       "    </tr>\n",
       "    <tr>\n",
       "      <th>20</th>\n",
       "      <td>http://dbpedia.org/resource/Fight_Club</td>\n",
       "      <td>0.01107</td>\n",
       "      <td>Fight Club</td>\n",
       "      <td>1.723258</td>\n",
       "      <td>-0.360731</td>\n",
       "      <td>1.109585</td>\n",
       "    </tr>\n",
       "    <tr>\n",
       "      <th>33</th>\n",
       "      <td>http://dbpedia.org/resource/Tomorrow_Never_Dies</td>\n",
       "      <td>0.00738</td>\n",
       "      <td>Tomorrow Never Dies</td>\n",
       "      <td>1.932530</td>\n",
       "      <td>-0.219727</td>\n",
       "      <td>1.073447</td>\n",
       "    </tr>\n",
       "    <tr>\n",
       "      <th>37</th>\n",
       "      <td>http://dbpedia.org/resource/The_Big_Lebowski</td>\n",
       "      <td>0.00369</td>\n",
       "      <td>The Big Lebowski</td>\n",
       "      <td>1.723258</td>\n",
       "      <td>-0.369402</td>\n",
       "      <td>1.113595</td>\n",
       "    </tr>\n",
       "    <tr>\n",
       "      <th>59</th>\n",
       "      <td>http://dbpedia.org/resource/Four_Weddings_and_...</td>\n",
       "      <td>0.00369</td>\n",
       "      <td>Four Weddings and a Funeral</td>\n",
       "      <td>2.769618</td>\n",
       "      <td>-0.358761</td>\n",
       "      <td>1.960367</td>\n",
       "    </tr>\n",
       "    <tr>\n",
       "      <th>61</th>\n",
       "      <td>http://dbpedia.org/resource/Mrs._Doubtfire</td>\n",
       "      <td>0.00369</td>\n",
       "      <td>Mrs. Doubtfire</td>\n",
       "      <td>0.886170</td>\n",
       "      <td>1.079728</td>\n",
       "      <td>0.311017</td>\n",
       "    </tr>\n",
       "    <tr>\n",
       "      <th>62</th>\n",
       "      <td>http://dbpedia.org/resource/Ghost_Dog:_The_Way...</td>\n",
       "      <td>0.00369</td>\n",
       "      <td>Ghost Dog: The Way of the Samurai</td>\n",
       "      <td>1.723258</td>\n",
       "      <td>-0.334911</td>\n",
       "      <td>1.213024</td>\n",
       "    </tr>\n",
       "    <tr>\n",
       "      <th>65</th>\n",
       "      <td>http://dbpedia.org/resource/10_Things_I_Hate_A...</td>\n",
       "      <td>0.00369</td>\n",
       "      <td>10 Things I Hate About You</td>\n",
       "      <td>2.141802</td>\n",
       "      <td>-0.367169</td>\n",
       "      <td>1.408444</td>\n",
       "    </tr>\n",
       "    <tr>\n",
       "      <th>66</th>\n",
       "      <td>http://dbpedia.org/resource/Free_Willy</td>\n",
       "      <td>0.00369</td>\n",
       "      <td>Free Willy</td>\n",
       "      <td>0.676898</td>\n",
       "      <td>-0.364369</td>\n",
       "      <td>0.473708</td>\n",
       "    </tr>\n",
       "    <tr>\n",
       "      <th>68</th>\n",
       "      <td>http://dbpedia.org/resource/The_Wedding_Singer</td>\n",
       "      <td>0.00369</td>\n",
       "      <td>The Wedding Singer</td>\n",
       "      <td>0.886170</td>\n",
       "      <td>-0.367392</td>\n",
       "      <td>0.339646</td>\n",
       "    </tr>\n",
       "    <tr>\n",
       "      <th>71</th>\n",
       "      <td>http://dbpedia.org/resource/The_Usual_Suspects</td>\n",
       "      <td>0.00369</td>\n",
       "      <td>The Usual Suspects</td>\n",
       "      <td>-1.415823</td>\n",
       "      <td>2.860756</td>\n",
       "      <td>-1.091091</td>\n",
       "    </tr>\n",
       "    <tr>\n",
       "      <th>79</th>\n",
       "      <td>http://dbpedia.org/resource/Being_John_Malkovich</td>\n",
       "      <td>0.00369</td>\n",
       "      <td>Being John Malkovich</td>\n",
       "      <td>1.723258</td>\n",
       "      <td>-0.217661</td>\n",
       "      <td>0.996287</td>\n",
       "    </tr>\n",
       "    <tr>\n",
       "      <th>80</th>\n",
       "      <td>http://dbpedia.org/resource/Dumb_and_Dumber</td>\n",
       "      <td>0.00369</td>\n",
       "      <td>Dumb and Dumber</td>\n",
       "      <td>2.560346</td>\n",
       "      <td>1.085541</td>\n",
       "      <td>1.880347</td>\n",
       "    </tr>\n",
       "    <tr>\n",
       "      <th>88</th>\n",
       "      <td>http://dbpedia.org/resource/The_Fifth_Element</td>\n",
       "      <td>0.00369</td>\n",
       "      <td>The Fifth Element</td>\n",
       "      <td>0.886170</td>\n",
       "      <td>-0.360177</td>\n",
       "      <td>0.529459</td>\n",
       "    </tr>\n",
       "    <tr>\n",
       "      <th>90</th>\n",
       "      <td>http://dbpedia.org/resource/Léon:_The_Professi...</td>\n",
       "      <td>0.00369</td>\n",
       "      <td>Léon: The Professional</td>\n",
       "      <td>-0.788007</td>\n",
       "      <td>2.863527</td>\n",
       "      <td>-0.165244</td>\n",
       "    </tr>\n",
       "    <tr>\n",
       "      <th>97</th>\n",
       "      <td>http://dbpedia.org/resource/The_Nightmare_Befo...</td>\n",
       "      <td>0.00369</td>\n",
       "      <td>The Nightmare Before Christmas</td>\n",
       "      <td>2.351074</td>\n",
       "      <td>-0.369019</td>\n",
       "      <td>1.654694</td>\n",
       "    </tr>\n",
       "    <tr>\n",
       "      <th>98</th>\n",
       "      <td>http://dbpedia.org/resource/You've_Got_Mail</td>\n",
       "      <td>0.00369</td>\n",
       "      <td>You've Got Mail</td>\n",
       "      <td>1.304714</td>\n",
       "      <td>-0.369559</td>\n",
       "      <td>0.565656</td>\n",
       "    </tr>\n",
       "    <tr>\n",
       "      <th>108</th>\n",
       "      <td>http://dbpedia.org/resource/Basic_Instinct</td>\n",
       "      <td>0.00369</td>\n",
       "      <td>Basic Instinct</td>\n",
       "      <td>1.932530</td>\n",
       "      <td>-0.357657</td>\n",
       "      <td>1.096152</td>\n",
       "    </tr>\n",
       "    <tr>\n",
       "      <th>116</th>\n",
       "      <td>http://dbpedia.org/resource/Braveheart</td>\n",
       "      <td>0.00369</td>\n",
       "      <td>Braveheart</td>\n",
       "      <td>1.723258</td>\n",
       "      <td>1.692600</td>\n",
       "      <td>0.934213</td>\n",
       "    </tr>\n",
       "    <tr>\n",
       "      <th>119</th>\n",
       "      <td>http://dbpedia.org/resource/12_Monkeys</td>\n",
       "      <td>0.00369</td>\n",
       "      <td>12 Monkeys</td>\n",
       "      <td>1.513986</td>\n",
       "      <td>-0.216044</td>\n",
       "      <td>0.797201</td>\n",
       "    </tr>\n",
       "  </tbody>\n",
       "</table>\n",
       "</div>"
      ],
      "text/plain": [
       "                                              resource   amount  \\\n",
       "7             http://dbpedia.org/resource/Forrest_Gump  0.02214   \n",
       "9         http://dbpedia.org/resource/Schindler's_List  0.01845   \n",
       "17   http://dbpedia.org/resource/Die_Hard_with_a_Ve...  0.01107   \n",
       "18       http://dbpedia.org/resource/Good_Will_Hunting  0.01107   \n",
       "20              http://dbpedia.org/resource/Fight_Club  0.01107   \n",
       "33     http://dbpedia.org/resource/Tomorrow_Never_Dies  0.00738   \n",
       "37        http://dbpedia.org/resource/The_Big_Lebowski  0.00369   \n",
       "59   http://dbpedia.org/resource/Four_Weddings_and_...  0.00369   \n",
       "61          http://dbpedia.org/resource/Mrs._Doubtfire  0.00369   \n",
       "62   http://dbpedia.org/resource/Ghost_Dog:_The_Way...  0.00369   \n",
       "65   http://dbpedia.org/resource/10_Things_I_Hate_A...  0.00369   \n",
       "66              http://dbpedia.org/resource/Free_Willy  0.00369   \n",
       "68      http://dbpedia.org/resource/The_Wedding_Singer  0.00369   \n",
       "71      http://dbpedia.org/resource/The_Usual_Suspects  0.00369   \n",
       "79    http://dbpedia.org/resource/Being_John_Malkovich  0.00369   \n",
       "80         http://dbpedia.org/resource/Dumb_and_Dumber  0.00369   \n",
       "88       http://dbpedia.org/resource/The_Fifth_Element  0.00369   \n",
       "90   http://dbpedia.org/resource/Léon:_The_Professi...  0.00369   \n",
       "97   http://dbpedia.org/resource/The_Nightmare_Befo...  0.00369   \n",
       "98         http://dbpedia.org/resource/You've_Got_Mail  0.00369   \n",
       "108         http://dbpedia.org/resource/Basic_Instinct  0.00369   \n",
       "116             http://dbpedia.org/resource/Braveheart  0.00369   \n",
       "119             http://dbpedia.org/resource/12_Monkeys  0.00369   \n",
       "\n",
       "                                  name    degree  eigenvector  pagerank  \n",
       "7                         Forrest Gump  1.513986    -0.337326  0.724824  \n",
       "9                     Schindler's List  2.141802    -0.211432  1.298609  \n",
       "17           Die Hard with a Vengeance  1.723258    -0.362780  1.018245  \n",
       "18                   Good Will Hunting  0.886170    -0.369758  0.290185  \n",
       "20                          Fight Club  1.723258    -0.360731  1.109585  \n",
       "33                 Tomorrow Never Dies  1.932530    -0.219727  1.073447  \n",
       "37                    The Big Lebowski  1.723258    -0.369402  1.113595  \n",
       "59         Four Weddings and a Funeral  2.769618    -0.358761  1.960367  \n",
       "61                      Mrs. Doubtfire  0.886170     1.079728  0.311017  \n",
       "62   Ghost Dog: The Way of the Samurai  1.723258    -0.334911  1.213024  \n",
       "65          10 Things I Hate About You  2.141802    -0.367169  1.408444  \n",
       "66                          Free Willy  0.676898    -0.364369  0.473708  \n",
       "68                  The Wedding Singer  0.886170    -0.367392  0.339646  \n",
       "71                  The Usual Suspects -1.415823     2.860756 -1.091091  \n",
       "79                Being John Malkovich  1.723258    -0.217661  0.996287  \n",
       "80                     Dumb and Dumber  2.560346     1.085541  1.880347  \n",
       "88                   The Fifth Element  0.886170    -0.360177  0.529459  \n",
       "90              Léon: The Professional -0.788007     2.863527 -0.165244  \n",
       "97      The Nightmare Before Christmas  2.351074    -0.369019  1.654694  \n",
       "98                     You've Got Mail  1.304714    -0.369559  0.565656  \n",
       "108                     Basic Instinct  1.932530    -0.357657  1.096152  \n",
       "116                         Braveheart  1.723258     1.692600  0.934213  \n",
       "119                         12 Monkeys  1.513986    -0.216044  0.797201  "
      ]
     },
     "execution_count": 139,
     "metadata": {},
     "output_type": "execute_result"
    }
   ],
   "source": [
    "ALTdf_survey_film90_gcm"
   ]
  },
  {
   "cell_type": "code",
   "execution_count": 12,
   "metadata": {},
   "outputs": [
    {
     "name": "stdout",
     "output_type": "stream",
     "text": [
      "Ordinal Regression:  ['degree']\n",
      "-------------------------------------\n",
      "Optimization terminated successfully.\n",
      "         Current function value: 0.282733\n",
      "         Iterations: 6\n",
      "         Function evaluations: 8\n",
      "         Gradient evaluations: 8\n"
     ]
    },
    {
     "data": {
      "text/html": [
       "<table class=\"simpletable\">\n",
       "<caption>OrderedModel Results</caption>\n",
       "<tr>\n",
       "  <th>Dep. Variable:</th>           <td>camp</td>        <th>  Log-Likelihood:    </th> <td> -6.5029</td>\n",
       "</tr>\n",
       "<tr>\n",
       "  <th>Model:</th>               <td>OrderedModel</td>    <th>  AIC:               </th> <td>   17.01</td>\n",
       "</tr>\n",
       "<tr>\n",
       "  <th>Method:</th>           <td>Maximum Likelihood</td> <th>  BIC:               </th> <td>   19.28</td>\n",
       "</tr>\n",
       "<tr>\n",
       "  <th>Date:</th>              <td>Tue, 19 Jul 2022</td>  <th>                     </th>     <td> </td>   \n",
       "</tr>\n",
       "<tr>\n",
       "  <th>Time:</th>                  <td>00:23:55</td>      <th>                     </th>     <td> </td>   \n",
       "</tr>\n",
       "<tr>\n",
       "  <th>No. Observations:</th>       <td>    23</td>       <th>                     </th>     <td> </td>   \n",
       "</tr>\n",
       "<tr>\n",
       "  <th>Df Residuals:</th>           <td>    21</td>       <th>                     </th>     <td> </td>   \n",
       "</tr>\n",
       "<tr>\n",
       "  <th>Df Model:</th>               <td>     2</td>       <th>                     </th>     <td> </td>   \n",
       "</tr>\n",
       "</table>\n",
       "<table class=\"simpletable\">\n",
       "<tr>\n",
       "     <td></td>        <th>coef</th>     <th>std err</th>      <th>z</th>      <th>P>|z|</th>  <th>[0.025</th>    <th>0.975]</th>  \n",
       "</tr>\n",
       "<tr>\n",
       "  <th>degree</th>  <td>   -0.4094</td> <td>    0.622</td> <td>   -0.659</td> <td> 0.510</td> <td>   -1.628</td> <td>    0.809</td>\n",
       "</tr>\n",
       "<tr>\n",
       "  <th>2.0/3.0</th> <td>   -2.0251</td> <td>    1.152</td> <td>   -1.758</td> <td> 0.079</td> <td>   -4.283</td> <td>    0.233</td>\n",
       "</tr>\n",
       "</table>"
      ],
      "text/plain": [
       "<class 'statsmodels.iolib.summary.Summary'>\n",
       "\"\"\"\n",
       "                             OrderedModel Results                             \n",
       "==============================================================================\n",
       "Dep. Variable:                   camp   Log-Likelihood:                -6.5029\n",
       "Model:                   OrderedModel   AIC:                             17.01\n",
       "Method:            Maximum Likelihood   BIC:                             19.28\n",
       "Date:                Tue, 19 Jul 2022                                         \n",
       "Time:                        00:23:55                                         \n",
       "No. Observations:                  23                                         \n",
       "Df Residuals:                      21                                         \n",
       "Df Model:                           2                                         \n",
       "==============================================================================\n",
       "                 coef    std err          z      P>|z|      [0.025      0.975]\n",
       "------------------------------------------------------------------------------\n",
       "degree        -0.4094      0.622     -0.659      0.510      -1.628       0.809\n",
       "2.0/3.0       -2.0251      1.152     -1.758      0.079      -4.283       0.233\n",
       "==============================================================================\n",
       "\"\"\""
      ]
     },
     "execution_count": 12,
     "metadata": {},
     "output_type": "execute_result"
    }
   ],
   "source": [
    "ordinalReg(df_survey_film90_gcm, ['degree'], 3)"
   ]
  },
  {
   "cell_type": "code",
   "execution_count": 13,
   "metadata": {},
   "outputs": [
    {
     "name": "stdout",
     "output_type": "stream",
     "text": [
      "Ordinal Regression:  ['eigenvector']\n",
      "-------------------------------------\n",
      "Optimization terminated successfully.\n",
      "         Current function value: 0.280675\n",
      "         Iterations: 11\n",
      "         Function evaluations: 12\n",
      "         Gradient evaluations: 12\n"
     ]
    },
    {
     "data": {
      "text/html": [
       "<table class=\"simpletable\">\n",
       "<caption>OrderedModel Results</caption>\n",
       "<tr>\n",
       "  <th>Dep. Variable:</th>           <td>camp</td>        <th>  Log-Likelihood:    </th> <td> -6.4555</td>\n",
       "</tr>\n",
       "<tr>\n",
       "  <th>Model:</th>               <td>OrderedModel</td>    <th>  AIC:               </th> <td>   16.91</td>\n",
       "</tr>\n",
       "<tr>\n",
       "  <th>Method:</th>           <td>Maximum Likelihood</td> <th>  BIC:               </th> <td>   19.18</td>\n",
       "</tr>\n",
       "<tr>\n",
       "  <th>Date:</th>              <td>Tue, 19 Jul 2022</td>  <th>                     </th>     <td> </td>   \n",
       "</tr>\n",
       "<tr>\n",
       "  <th>Time:</th>                  <td>00:23:55</td>      <th>                     </th>     <td> </td>   \n",
       "</tr>\n",
       "<tr>\n",
       "  <th>No. Observations:</th>       <td>    23</td>       <th>                     </th>     <td> </td>   \n",
       "</tr>\n",
       "<tr>\n",
       "  <th>Df Residuals:</th>           <td>    21</td>       <th>                     </th>     <td> </td>   \n",
       "</tr>\n",
       "<tr>\n",
       "  <th>Df Model:</th>               <td>     2</td>       <th>                     </th>     <td> </td>   \n",
       "</tr>\n",
       "</table>\n",
       "<table class=\"simpletable\">\n",
       "<tr>\n",
       "       <td></td>          <th>coef</th>     <th>std err</th>      <th>z</th>      <th>P>|z|</th>  <th>[0.025</th>    <th>0.975]</th>  \n",
       "</tr>\n",
       "<tr>\n",
       "  <th>eigenvector</th> <td>    0.5589</td> <td>    1.048</td> <td>    0.533</td> <td> 0.594</td> <td>   -1.495</td> <td>    2.613</td>\n",
       "</tr>\n",
       "<tr>\n",
       "  <th>2.0/3.0</th>     <td>   -1.4209</td> <td>    0.463</td> <td>   -3.070</td> <td> 0.002</td> <td>   -2.328</td> <td>   -0.514</td>\n",
       "</tr>\n",
       "</table>"
      ],
      "text/plain": [
       "<class 'statsmodels.iolib.summary.Summary'>\n",
       "\"\"\"\n",
       "                             OrderedModel Results                             \n",
       "==============================================================================\n",
       "Dep. Variable:                   camp   Log-Likelihood:                -6.4555\n",
       "Model:                   OrderedModel   AIC:                             16.91\n",
       "Method:            Maximum Likelihood   BIC:                             19.18\n",
       "Date:                Tue, 19 Jul 2022                                         \n",
       "Time:                        00:23:55                                         \n",
       "No. Observations:                  23                                         \n",
       "Df Residuals:                      21                                         \n",
       "Df Model:                           2                                         \n",
       "===============================================================================\n",
       "                  coef    std err          z      P>|z|      [0.025      0.975]\n",
       "-------------------------------------------------------------------------------\n",
       "eigenvector     0.5589      1.048      0.533      0.594      -1.495       2.613\n",
       "2.0/3.0        -1.4209      0.463     -3.070      0.002      -2.328      -0.514\n",
       "===============================================================================\n",
       "\"\"\""
      ]
     },
     "execution_count": 13,
     "metadata": {},
     "output_type": "execute_result"
    }
   ],
   "source": [
    "ordinalReg(df_survey_film90_gcm, ['eigenvector'], 3)"
   ]
  },
  {
   "cell_type": "code",
   "execution_count": 14,
   "metadata": {},
   "outputs": [
    {
     "name": "stdout",
     "output_type": "stream",
     "text": [
      "Ordinal Regression:  ['pagerank']\n",
      "-------------------------------------\n",
      "Optimization terminated successfully.\n",
      "         Current function value: 0.291921\n",
      "         Iterations: 9\n",
      "         Function evaluations: 10\n",
      "         Gradient evaluations: 10\n"
     ]
    },
    {
     "data": {
      "text/html": [
       "<table class=\"simpletable\">\n",
       "<caption>OrderedModel Results</caption>\n",
       "<tr>\n",
       "  <th>Dep. Variable:</th>           <td>camp</td>        <th>  Log-Likelihood:    </th> <td> -6.7142</td>\n",
       "</tr>\n",
       "<tr>\n",
       "  <th>Model:</th>               <td>OrderedModel</td>    <th>  AIC:               </th> <td>   17.43</td>\n",
       "</tr>\n",
       "<tr>\n",
       "  <th>Method:</th>           <td>Maximum Likelihood</td> <th>  BIC:               </th> <td>   19.70</td>\n",
       "</tr>\n",
       "<tr>\n",
       "  <th>Date:</th>              <td>Tue, 19 Jul 2022</td>  <th>                     </th>     <td> </td>   \n",
       "</tr>\n",
       "<tr>\n",
       "  <th>Time:</th>                  <td>00:23:55</td>      <th>                     </th>     <td> </td>   \n",
       "</tr>\n",
       "<tr>\n",
       "  <th>No. Observations:</th>       <td>    23</td>       <th>                     </th>     <td> </td>   \n",
       "</tr>\n",
       "<tr>\n",
       "  <th>Df Residuals:</th>           <td>    21</td>       <th>                     </th>     <td> </td>   \n",
       "</tr>\n",
       "<tr>\n",
       "  <th>Df Model:</th>               <td>     2</td>       <th>                     </th>     <td> </td>   \n",
       "</tr>\n",
       "</table>\n",
       "<table class=\"simpletable\">\n",
       "<tr>\n",
       "      <td></td>        <th>coef</th>     <th>std err</th>      <th>z</th>      <th>P>|z|</th>  <th>[0.025</th>    <th>0.975]</th>  \n",
       "</tr>\n",
       "<tr>\n",
       "  <th>pagerank</th> <td>   -0.2581</td> <td>    0.664</td> <td>   -0.389</td> <td> 0.697</td> <td>   -1.559</td> <td>    1.043</td>\n",
       "</tr>\n",
       "<tr>\n",
       "  <th>2.0/3.0</th>  <td>   -1.5977</td> <td>    0.743</td> <td>   -2.149</td> <td> 0.032</td> <td>   -3.055</td> <td>   -0.141</td>\n",
       "</tr>\n",
       "</table>"
      ],
      "text/plain": [
       "<class 'statsmodels.iolib.summary.Summary'>\n",
       "\"\"\"\n",
       "                             OrderedModel Results                             \n",
       "==============================================================================\n",
       "Dep. Variable:                   camp   Log-Likelihood:                -6.7142\n",
       "Model:                   OrderedModel   AIC:                             17.43\n",
       "Method:            Maximum Likelihood   BIC:                             19.70\n",
       "Date:                Tue, 19 Jul 2022                                         \n",
       "Time:                        00:23:55                                         \n",
       "No. Observations:                  23                                         \n",
       "Df Residuals:                      21                                         \n",
       "Df Model:                           2                                         \n",
       "==============================================================================\n",
       "                 coef    std err          z      P>|z|      [0.025      0.975]\n",
       "------------------------------------------------------------------------------\n",
       "pagerank      -0.2581      0.664     -0.389      0.697      -1.559       1.043\n",
       "2.0/3.0       -1.5977      0.743     -2.149      0.032      -3.055      -0.141\n",
       "==============================================================================\n",
       "\"\"\""
      ]
     },
     "execution_count": 14,
     "metadata": {},
     "output_type": "execute_result"
    }
   ],
   "source": [
    "ordinalReg(df_survey_film90_gcm, ['pagerank'], 3)"
   ]
  },
  {
   "cell_type": "markdown",
   "metadata": {},
   "source": [
    "## Actors"
   ]
  },
  {
   "cell_type": "code",
   "execution_count": 140,
   "metadata": {},
   "outputs": [
    {
     "name": "stdout",
     "output_type": "stream",
     "text": [
      "Dataframe merged with shape: (10000, 5)\n",
      "============================\n",
      "Rows with NaN values dropped: 80 from 143 => 55.94% \n",
      "Dataframe merged with shape: (63, 6)\n"
     ]
    }
   ],
   "source": [
    "# actors from the \"Occupation\": \"Actor\"@en\n",
    "\n",
    "actor_result = catMerger(df_actor, df_ig_gcm)\n",
    "df_survey_actor = pd.read_csv(\"../data/survey_single_cat_files/sv_prep_uri/sv_actors_prep.csv\", sep=';')\n",
    "\n",
    "df_survey_actor_gcm = gcmSurfer(df_survey_actor, actor_result)"
   ]
  },
  {
   "cell_type": "code",
   "execution_count": 141,
   "metadata": {},
   "outputs": [
    {
     "data": {
      "text/html": [
       "<div>\n",
       "<style scoped>\n",
       "    .dataframe tbody tr th:only-of-type {\n",
       "        vertical-align: middle;\n",
       "    }\n",
       "\n",
       "    .dataframe tbody tr th {\n",
       "        vertical-align: top;\n",
       "    }\n",
       "\n",
       "    .dataframe thead th {\n",
       "        text-align: right;\n",
       "    }\n",
       "</style>\n",
       "<table border=\"1\" class=\"dataframe\">\n",
       "  <thead>\n",
       "    <tr style=\"text-align: right;\">\n",
       "      <th></th>\n",
       "      <th>resource</th>\n",
       "      <th>amount</th>\n",
       "      <th>name</th>\n",
       "      <th>degree</th>\n",
       "      <th>eigenvector</th>\n",
       "      <th>pagerank</th>\n",
       "    </tr>\n",
       "  </thead>\n",
       "  <tbody>\n",
       "    <tr>\n",
       "      <th>0</th>\n",
       "      <td>http://dbpedia.org/resource/Brad_Pitt</td>\n",
       "      <td>1.00</td>\n",
       "      <td>Brad Pitt</td>\n",
       "      <td>3.049460</td>\n",
       "      <td>-0.312165</td>\n",
       "      <td>2.992869</td>\n",
       "    </tr>\n",
       "    <tr>\n",
       "      <th>1</th>\n",
       "      <td>http://dbpedia.org/resource/Leonardo_DiCaprio</td>\n",
       "      <td>0.90</td>\n",
       "      <td>Leonardo DiCaprio</td>\n",
       "      <td>2.083359</td>\n",
       "      <td>-0.229494</td>\n",
       "      <td>2.085812</td>\n",
       "    </tr>\n",
       "    <tr>\n",
       "      <th>2</th>\n",
       "      <td>http://dbpedia.org/resource/George_Clooney</td>\n",
       "      <td>0.55</td>\n",
       "      <td>George Clooney</td>\n",
       "      <td>2.961633</td>\n",
       "      <td>-0.350257</td>\n",
       "      <td>3.062516</td>\n",
       "    </tr>\n",
       "    <tr>\n",
       "      <th>5</th>\n",
       "      <td>http://dbpedia.org/resource/Tom_Hanks</td>\n",
       "      <td>0.30</td>\n",
       "      <td>Tom Hanks</td>\n",
       "      <td>4.322958</td>\n",
       "      <td>0.116835</td>\n",
       "      <td>4.316073</td>\n",
       "    </tr>\n",
       "    <tr>\n",
       "      <th>7</th>\n",
       "      <td>http://dbpedia.org/resource/Johnny_Depp</td>\n",
       "      <td>0.30</td>\n",
       "      <td>Johnny Depp</td>\n",
       "      <td>3.181201</td>\n",
       "      <td>-0.363976</td>\n",
       "      <td>3.107715</td>\n",
       "    </tr>\n",
       "    <tr>\n",
       "      <th>...</th>\n",
       "      <td>...</td>\n",
       "      <td>...</td>\n",
       "      <td>...</td>\n",
       "      <td>...</td>\n",
       "      <td>...</td>\n",
       "      <td>...</td>\n",
       "    </tr>\n",
       "    <tr>\n",
       "      <th>133</th>\n",
       "      <td>http://dbpedia.org/resource/Robert_Redford</td>\n",
       "      <td>0.00</td>\n",
       "      <td>Robert Redford</td>\n",
       "      <td>2.434668</td>\n",
       "      <td>-0.356211</td>\n",
       "      <td>2.421835</td>\n",
       "    </tr>\n",
       "    <tr>\n",
       "      <th>134</th>\n",
       "      <td>http://dbpedia.org/resource/Freddie_Highmore</td>\n",
       "      <td>0.00</td>\n",
       "      <td>Freddie Highmore</td>\n",
       "      <td>0.678120</td>\n",
       "      <td>0.143235</td>\n",
       "      <td>0.647448</td>\n",
       "    </tr>\n",
       "    <tr>\n",
       "      <th>135</th>\n",
       "      <td>http://dbpedia.org/resource/Andrew_Garfield</td>\n",
       "      <td>0.00</td>\n",
       "      <td>Andrew Garfield</td>\n",
       "      <td>0.238983</td>\n",
       "      <td>-0.230055</td>\n",
       "      <td>0.212861</td>\n",
       "    </tr>\n",
       "    <tr>\n",
       "      <th>137</th>\n",
       "      <td>http://dbpedia.org/resource/Timothée_Chalamet</td>\n",
       "      <td>0.00</td>\n",
       "      <td>Timothée Chalamet</td>\n",
       "      <td>0.458551</td>\n",
       "      <td>-0.159577</td>\n",
       "      <td>0.476376</td>\n",
       "    </tr>\n",
       "    <tr>\n",
       "      <th>139</th>\n",
       "      <td>http://dbpedia.org/resource/Charlie_Hunnam</td>\n",
       "      <td>0.00</td>\n",
       "      <td>Charlie Hunnam</td>\n",
       "      <td>0.326810</td>\n",
       "      <td>0.503348</td>\n",
       "      <td>0.257367</td>\n",
       "    </tr>\n",
       "  </tbody>\n",
       "</table>\n",
       "<p>63 rows × 6 columns</p>\n",
       "</div>"
      ],
      "text/plain": [
       "                                          resource  amount               name  \\\n",
       "0            http://dbpedia.org/resource/Brad_Pitt    1.00          Brad Pitt   \n",
       "1    http://dbpedia.org/resource/Leonardo_DiCaprio    0.90  Leonardo DiCaprio   \n",
       "2       http://dbpedia.org/resource/George_Clooney    0.55     George Clooney   \n",
       "5            http://dbpedia.org/resource/Tom_Hanks    0.30          Tom Hanks   \n",
       "7          http://dbpedia.org/resource/Johnny_Depp    0.30        Johnny Depp   \n",
       "..                                             ...     ...                ...   \n",
       "133     http://dbpedia.org/resource/Robert_Redford    0.00     Robert Redford   \n",
       "134   http://dbpedia.org/resource/Freddie_Highmore    0.00   Freddie Highmore   \n",
       "135    http://dbpedia.org/resource/Andrew_Garfield    0.00    Andrew Garfield   \n",
       "137  http://dbpedia.org/resource/Timothée_Chalamet    0.00  Timothée Chalamet   \n",
       "139     http://dbpedia.org/resource/Charlie_Hunnam    0.00     Charlie Hunnam   \n",
       "\n",
       "       degree  eigenvector  pagerank  \n",
       "0    3.049460    -0.312165  2.992869  \n",
       "1    2.083359    -0.229494  2.085812  \n",
       "2    2.961633    -0.350257  3.062516  \n",
       "5    4.322958     0.116835  4.316073  \n",
       "7    3.181201    -0.363976  3.107715  \n",
       "..        ...          ...       ...  \n",
       "133  2.434668    -0.356211  2.421835  \n",
       "134  0.678120     0.143235  0.647448  \n",
       "135  0.238983    -0.230055  0.212861  \n",
       "137  0.458551    -0.159577  0.476376  \n",
       "139  0.326810     0.503348  0.257367  \n",
       "\n",
       "[63 rows x 6 columns]"
      ]
     },
     "execution_count": 141,
     "metadata": {},
     "output_type": "execute_result"
    }
   ],
   "source": [
    "df_survey_actor_gcm"
   ]
  },
  {
   "cell_type": "code",
   "execution_count": 16,
   "metadata": {},
   "outputs": [
    {
     "name": "stdout",
     "output_type": "stream",
     "text": [
      "Ordinal Regression:  ['degree']\n",
      "-------------------------------------\n",
      "Optimization terminated successfully.\n",
      "         Current function value: 0.837963\n",
      "         Iterations: 10\n",
      "         Function evaluations: 12\n",
      "         Gradient evaluations: 12\n"
     ]
    },
    {
     "data": {
      "text/html": [
       "<table class=\"simpletable\">\n",
       "<caption>OrderedModel Results</caption>\n",
       "<tr>\n",
       "  <th>Dep. Variable:</th>           <td>camp</td>        <th>  Log-Likelihood:    </th> <td> -52.792</td>\n",
       "</tr>\n",
       "<tr>\n",
       "  <th>Model:</th>               <td>OrderedModel</td>    <th>  AIC:               </th> <td>   111.6</td>\n",
       "</tr>\n",
       "<tr>\n",
       "  <th>Method:</th>           <td>Maximum Likelihood</td> <th>  BIC:               </th> <td>   118.0</td>\n",
       "</tr>\n",
       "<tr>\n",
       "  <th>Date:</th>              <td>Tue, 19 Jul 2022</td>  <th>                     </th>     <td> </td>   \n",
       "</tr>\n",
       "<tr>\n",
       "  <th>Time:</th>                  <td>00:24:05</td>      <th>                     </th>     <td> </td>   \n",
       "</tr>\n",
       "<tr>\n",
       "  <th>No. Observations:</th>       <td>    63</td>       <th>                     </th>     <td> </td>   \n",
       "</tr>\n",
       "<tr>\n",
       "  <th>Df Residuals:</th>           <td>    60</td>       <th>                     </th>     <td> </td>   \n",
       "</tr>\n",
       "<tr>\n",
       "  <th>Df Model:</th>               <td>     3</td>       <th>                     </th>     <td> </td>   \n",
       "</tr>\n",
       "</table>\n",
       "<table class=\"simpletable\">\n",
       "<tr>\n",
       "     <td></td>        <th>coef</th>     <th>std err</th>      <th>z</th>      <th>P>|z|</th>  <th>[0.025</th>    <th>0.975]</th>  \n",
       "</tr>\n",
       "<tr>\n",
       "  <th>degree</th>  <td>   -0.3147</td> <td>    0.125</td> <td>   -2.523</td> <td> 0.012</td> <td>   -0.559</td> <td>   -0.070</td>\n",
       "</tr>\n",
       "<tr>\n",
       "  <th>1.0/2.0</th> <td>   -1.6900</td> <td>    0.361</td> <td>   -4.684</td> <td> 0.000</td> <td>   -2.397</td> <td>   -0.983</td>\n",
       "</tr>\n",
       "<tr>\n",
       "  <th>2.0/3.0</th> <td>   -0.5228</td> <td>    0.275</td> <td>   -1.899</td> <td> 0.058</td> <td>   -1.062</td> <td>    0.017</td>\n",
       "</tr>\n",
       "</table>"
      ],
      "text/plain": [
       "<class 'statsmodels.iolib.summary.Summary'>\n",
       "\"\"\"\n",
       "                             OrderedModel Results                             \n",
       "==============================================================================\n",
       "Dep. Variable:                   camp   Log-Likelihood:                -52.792\n",
       "Model:                   OrderedModel   AIC:                             111.6\n",
       "Method:            Maximum Likelihood   BIC:                             118.0\n",
       "Date:                Tue, 19 Jul 2022                                         \n",
       "Time:                        00:24:05                                         \n",
       "No. Observations:                  63                                         \n",
       "Df Residuals:                      60                                         \n",
       "Df Model:                           3                                         \n",
       "==============================================================================\n",
       "                 coef    std err          z      P>|z|      [0.025      0.975]\n",
       "------------------------------------------------------------------------------\n",
       "degree        -0.3147      0.125     -2.523      0.012      -0.559      -0.070\n",
       "1.0/2.0       -1.6900      0.361     -4.684      0.000      -2.397      -0.983\n",
       "2.0/3.0       -0.5228      0.275     -1.899      0.058      -1.062       0.017\n",
       "==============================================================================\n",
       "\"\"\""
      ]
     },
     "execution_count": 16,
     "metadata": {},
     "output_type": "execute_result"
    }
   ],
   "source": [
    "ordinalReg(df_survey_actor_gcm, ['degree'], 3)"
   ]
  },
  {
   "cell_type": "code",
   "execution_count": 17,
   "metadata": {},
   "outputs": [
    {
     "name": "stdout",
     "output_type": "stream",
     "text": [
      "Ordinal Regression:  ['eigenvector']\n",
      "-------------------------------------\n",
      "Optimization terminated successfully.\n",
      "         Current function value: 0.863794\n",
      "         Iterations: 11\n",
      "         Function evaluations: 16\n",
      "         Gradient evaluations: 16\n"
     ]
    },
    {
     "data": {
      "text/html": [
       "<table class=\"simpletable\">\n",
       "<caption>OrderedModel Results</caption>\n",
       "<tr>\n",
       "  <th>Dep. Variable:</th>           <td>camp</td>        <th>  Log-Likelihood:    </th> <td> -54.419</td>\n",
       "</tr>\n",
       "<tr>\n",
       "  <th>Model:</th>               <td>OrderedModel</td>    <th>  AIC:               </th> <td>   114.8</td>\n",
       "</tr>\n",
       "<tr>\n",
       "  <th>Method:</th>           <td>Maximum Likelihood</td> <th>  BIC:               </th> <td>   121.3</td>\n",
       "</tr>\n",
       "<tr>\n",
       "  <th>Date:</th>              <td>Tue, 19 Jul 2022</td>  <th>                     </th>     <td> </td>   \n",
       "</tr>\n",
       "<tr>\n",
       "  <th>Time:</th>                  <td>00:24:05</td>      <th>                     </th>     <td> </td>   \n",
       "</tr>\n",
       "<tr>\n",
       "  <th>No. Observations:</th>       <td>    63</td>       <th>                     </th>     <td> </td>   \n",
       "</tr>\n",
       "<tr>\n",
       "  <th>Df Residuals:</th>           <td>    60</td>       <th>                     </th>     <td> </td>   \n",
       "</tr>\n",
       "<tr>\n",
       "  <th>Df Model:</th>               <td>     3</td>       <th>                     </th>     <td> </td>   \n",
       "</tr>\n",
       "</table>\n",
       "<table class=\"simpletable\">\n",
       "<tr>\n",
       "       <td></td>          <th>coef</th>     <th>std err</th>      <th>z</th>      <th>P>|z|</th>  <th>[0.025</th>    <th>0.975]</th>  \n",
       "</tr>\n",
       "<tr>\n",
       "  <th>eigenvector</th> <td>   -0.0523</td> <td>    0.051</td> <td>   -1.027</td> <td> 0.304</td> <td>   -0.152</td> <td>    0.048</td>\n",
       "</tr>\n",
       "<tr>\n",
       "  <th>1.0/2.0</th>     <td>   -0.9799</td> <td>    0.190</td> <td>   -5.148</td> <td> 0.000</td> <td>   -1.353</td> <td>   -0.607</td>\n",
       "</tr>\n",
       "<tr>\n",
       "  <th>2.0/3.0</th>     <td>   -0.5610</td> <td>    0.276</td> <td>   -2.033</td> <td> 0.042</td> <td>   -1.102</td> <td>   -0.020</td>\n",
       "</tr>\n",
       "</table>"
      ],
      "text/plain": [
       "<class 'statsmodels.iolib.summary.Summary'>\n",
       "\"\"\"\n",
       "                             OrderedModel Results                             \n",
       "==============================================================================\n",
       "Dep. Variable:                   camp   Log-Likelihood:                -54.419\n",
       "Model:                   OrderedModel   AIC:                             114.8\n",
       "Method:            Maximum Likelihood   BIC:                             121.3\n",
       "Date:                Tue, 19 Jul 2022                                         \n",
       "Time:                        00:24:05                                         \n",
       "No. Observations:                  63                                         \n",
       "Df Residuals:                      60                                         \n",
       "Df Model:                           3                                         \n",
       "===============================================================================\n",
       "                  coef    std err          z      P>|z|      [0.025      0.975]\n",
       "-------------------------------------------------------------------------------\n",
       "eigenvector    -0.0523      0.051     -1.027      0.304      -0.152       0.048\n",
       "1.0/2.0        -0.9799      0.190     -5.148      0.000      -1.353      -0.607\n",
       "2.0/3.0        -0.5610      0.276     -2.033      0.042      -1.102      -0.020\n",
       "===============================================================================\n",
       "\"\"\""
      ]
     },
     "execution_count": 17,
     "metadata": {},
     "output_type": "execute_result"
    }
   ],
   "source": [
    "ordinalReg(df_survey_actor_gcm, ['eigenvector'], 3)"
   ]
  },
  {
   "cell_type": "code",
   "execution_count": 18,
   "metadata": {},
   "outputs": [
    {
     "name": "stdout",
     "output_type": "stream",
     "text": [
      "Ordinal Regression:  ['pagerank']\n",
      "-------------------------------------\n",
      "Optimization terminated successfully.\n",
      "         Current function value: 0.840384\n",
      "         Iterations: 10\n",
      "         Function evaluations: 12\n",
      "         Gradient evaluations: 12\n"
     ]
    },
    {
     "data": {
      "text/html": [
       "<table class=\"simpletable\">\n",
       "<caption>OrderedModel Results</caption>\n",
       "<tr>\n",
       "  <th>Dep. Variable:</th>           <td>camp</td>        <th>  Log-Likelihood:    </th> <td> -52.944</td>\n",
       "</tr>\n",
       "<tr>\n",
       "  <th>Model:</th>               <td>OrderedModel</td>    <th>  AIC:               </th> <td>   111.9</td>\n",
       "</tr>\n",
       "<tr>\n",
       "  <th>Method:</th>           <td>Maximum Likelihood</td> <th>  BIC:               </th> <td>   118.3</td>\n",
       "</tr>\n",
       "<tr>\n",
       "  <th>Date:</th>              <td>Tue, 19 Jul 2022</td>  <th>                     </th>     <td> </td>   \n",
       "</tr>\n",
       "<tr>\n",
       "  <th>Time:</th>                  <td>00:24:05</td>      <th>                     </th>     <td> </td>   \n",
       "</tr>\n",
       "<tr>\n",
       "  <th>No. Observations:</th>       <td>    63</td>       <th>                     </th>     <td> </td>   \n",
       "</tr>\n",
       "<tr>\n",
       "  <th>Df Residuals:</th>           <td>    60</td>       <th>                     </th>     <td> </td>   \n",
       "</tr>\n",
       "<tr>\n",
       "  <th>Df Model:</th>               <td>     3</td>       <th>                     </th>     <td> </td>   \n",
       "</tr>\n",
       "</table>\n",
       "<table class=\"simpletable\">\n",
       "<tr>\n",
       "      <td></td>        <th>coef</th>     <th>std err</th>      <th>z</th>      <th>P>|z|</th>  <th>[0.025</th>    <th>0.975]</th>  \n",
       "</tr>\n",
       "<tr>\n",
       "  <th>pagerank</th> <td>   -0.2841</td> <td>    0.115</td> <td>   -2.472</td> <td> 0.013</td> <td>   -0.509</td> <td>   -0.059</td>\n",
       "</tr>\n",
       "<tr>\n",
       "  <th>1.0/2.0</th>  <td>   -1.6255</td> <td>    0.343</td> <td>   -4.739</td> <td> 0.000</td> <td>   -2.298</td> <td>   -0.953</td>\n",
       "</tr>\n",
       "<tr>\n",
       "  <th>2.0/3.0</th>  <td>   -0.5266</td> <td>    0.275</td> <td>   -1.913</td> <td> 0.056</td> <td>   -1.066</td> <td>    0.013</td>\n",
       "</tr>\n",
       "</table>"
      ],
      "text/plain": [
       "<class 'statsmodels.iolib.summary.Summary'>\n",
       "\"\"\"\n",
       "                             OrderedModel Results                             \n",
       "==============================================================================\n",
       "Dep. Variable:                   camp   Log-Likelihood:                -52.944\n",
       "Model:                   OrderedModel   AIC:                             111.9\n",
       "Method:            Maximum Likelihood   BIC:                             118.3\n",
       "Date:                Tue, 19 Jul 2022                                         \n",
       "Time:                        00:24:05                                         \n",
       "No. Observations:                  63                                         \n",
       "Df Residuals:                      60                                         \n",
       "Df Model:                           3                                         \n",
       "==============================================================================\n",
       "                 coef    std err          z      P>|z|      [0.025      0.975]\n",
       "------------------------------------------------------------------------------\n",
       "pagerank      -0.2841      0.115     -2.472      0.013      -0.509      -0.059\n",
       "1.0/2.0       -1.6255      0.343     -4.739      0.000      -2.298      -0.953\n",
       "2.0/3.0       -0.5266      0.275     -1.913      0.056      -1.066       0.013\n",
       "==============================================================================\n",
       "\"\"\""
      ]
     },
     "execution_count": 18,
     "metadata": {},
     "output_type": "execute_result"
    }
   ],
   "source": [
    "ordinalReg(df_survey_actor_gcm, ['pagerank'], 3)"
   ]
  },
  {
   "cell_type": "markdown",
   "metadata": {},
   "source": [
    "## Music genres"
   ]
  },
  {
   "cell_type": "code",
   "execution_count": 19,
   "metadata": {},
   "outputs": [
    {
     "name": "stdout",
     "output_type": "stream",
     "text": [
      "Dataframe merged with shape: (10000, 5)\n",
      "============================\n",
      "Rows with NaN values dropped: 5 from 38 => 13.16% \n",
      "Dataframe merged with shape: (33, 6)\n"
     ]
    }
   ],
   "source": [
    "# Music Genre from the \"Type\": \"dbo:MusicGenre\"\n",
    "\n",
    "mGenre_result = catMerger(df_musicGenre, df_ig_gcm)\n",
    "df_survey_mGenre = pd.read_csv(\"../data/survey_single_cat_files/sv_prep_uri/improved_uri/sv_music_genres_impr.csv\", sep=';')\n",
    "\n",
    "df_survey_mGenre_gcm = gcmSurfer(df_survey_mGenre, mGenre_result)"
   ]
  },
  {
   "cell_type": "code",
   "execution_count": 20,
   "metadata": {},
   "outputs": [
    {
     "name": "stdout",
     "output_type": "stream",
     "text": [
      "Ordinal Regression:  ['degree']\n",
      "-------------------------------------\n",
      "Optimization terminated successfully.\n",
      "         Current function value: 0.935415\n",
      "         Iterations: 10\n",
      "         Function evaluations: 12\n",
      "         Gradient evaluations: 12\n"
     ]
    },
    {
     "data": {
      "text/html": [
       "<table class=\"simpletable\">\n",
       "<caption>OrderedModel Results</caption>\n",
       "<tr>\n",
       "  <th>Dep. Variable:</th>           <td>camp</td>        <th>  Log-Likelihood:    </th> <td> -30.869</td>\n",
       "</tr>\n",
       "<tr>\n",
       "  <th>Model:</th>               <td>OrderedModel</td>    <th>  AIC:               </th> <td>   67.74</td>\n",
       "</tr>\n",
       "<tr>\n",
       "  <th>Method:</th>           <td>Maximum Likelihood</td> <th>  BIC:               </th> <td>   72.23</td>\n",
       "</tr>\n",
       "<tr>\n",
       "  <th>Date:</th>              <td>Tue, 19 Jul 2022</td>  <th>                     </th>     <td> </td>   \n",
       "</tr>\n",
       "<tr>\n",
       "  <th>Time:</th>                  <td>00:24:15</td>      <th>                     </th>     <td> </td>   \n",
       "</tr>\n",
       "<tr>\n",
       "  <th>No. Observations:</th>       <td>    33</td>       <th>                     </th>     <td> </td>   \n",
       "</tr>\n",
       "<tr>\n",
       "  <th>Df Residuals:</th>           <td>    30</td>       <th>                     </th>     <td> </td>   \n",
       "</tr>\n",
       "<tr>\n",
       "  <th>Df Model:</th>               <td>     3</td>       <th>                     </th>     <td> </td>   \n",
       "</tr>\n",
       "</table>\n",
       "<table class=\"simpletable\">\n",
       "<tr>\n",
       "     <td></td>        <th>coef</th>     <th>std err</th>      <th>z</th>      <th>P>|z|</th>  <th>[0.025</th>    <th>0.975]</th>  \n",
       "</tr>\n",
       "<tr>\n",
       "  <th>degree</th>  <td>   -0.1023</td> <td>    0.035</td> <td>   -2.922</td> <td> 0.003</td> <td>   -0.171</td> <td>   -0.034</td>\n",
       "</tr>\n",
       "<tr>\n",
       "  <th>1.0/2.0</th> <td>   -1.1505</td> <td>    0.340</td> <td>   -3.381</td> <td> 0.001</td> <td>   -1.817</td> <td>   -0.484</td>\n",
       "</tr>\n",
       "<tr>\n",
       "  <th>2.0/3.0</th> <td>   -0.0240</td> <td>    0.278</td> <td>   -0.086</td> <td> 0.931</td> <td>   -0.570</td> <td>    0.522</td>\n",
       "</tr>\n",
       "</table>"
      ],
      "text/plain": [
       "<class 'statsmodels.iolib.summary.Summary'>\n",
       "\"\"\"\n",
       "                             OrderedModel Results                             \n",
       "==============================================================================\n",
       "Dep. Variable:                   camp   Log-Likelihood:                -30.869\n",
       "Model:                   OrderedModel   AIC:                             67.74\n",
       "Method:            Maximum Likelihood   BIC:                             72.23\n",
       "Date:                Tue, 19 Jul 2022                                         \n",
       "Time:                        00:24:15                                         \n",
       "No. Observations:                  33                                         \n",
       "Df Residuals:                      30                                         \n",
       "Df Model:                           3                                         \n",
       "==============================================================================\n",
       "                 coef    std err          z      P>|z|      [0.025      0.975]\n",
       "------------------------------------------------------------------------------\n",
       "degree        -0.1023      0.035     -2.922      0.003      -0.171      -0.034\n",
       "1.0/2.0       -1.1505      0.340     -3.381      0.001      -1.817      -0.484\n",
       "2.0/3.0       -0.0240      0.278     -0.086      0.931      -0.570       0.522\n",
       "==============================================================================\n",
       "\"\"\""
      ]
     },
     "execution_count": 20,
     "metadata": {},
     "output_type": "execute_result"
    }
   ],
   "source": [
    "ordinalReg(df_survey_mGenre_gcm, ['degree'], 3)"
   ]
  },
  {
   "cell_type": "code",
   "execution_count": 21,
   "metadata": {},
   "outputs": [
    {
     "name": "stdout",
     "output_type": "stream",
     "text": [
      "Ordinal Regression:  ['eigenvector']\n",
      "-------------------------------------\n",
      "Optimization terminated successfully.\n",
      "         Current function value: 0.996862\n",
      "         Iterations: 11\n",
      "         Function evaluations: 16\n",
      "         Gradient evaluations: 16\n"
     ]
    },
    {
     "data": {
      "text/html": [
       "<table class=\"simpletable\">\n",
       "<caption>OrderedModel Results</caption>\n",
       "<tr>\n",
       "  <th>Dep. Variable:</th>           <td>camp</td>        <th>  Log-Likelihood:    </th> <td> -32.896</td>\n",
       "</tr>\n",
       "<tr>\n",
       "  <th>Model:</th>               <td>OrderedModel</td>    <th>  AIC:               </th> <td>   71.79</td>\n",
       "</tr>\n",
       "<tr>\n",
       "  <th>Method:</th>           <td>Maximum Likelihood</td> <th>  BIC:               </th> <td>   76.28</td>\n",
       "</tr>\n",
       "<tr>\n",
       "  <th>Date:</th>              <td>Tue, 19 Jul 2022</td>  <th>                     </th>     <td> </td>   \n",
       "</tr>\n",
       "<tr>\n",
       "  <th>Time:</th>                  <td>00:24:15</td>      <th>                     </th>     <td> </td>   \n",
       "</tr>\n",
       "<tr>\n",
       "  <th>No. Observations:</th>       <td>    33</td>       <th>                     </th>     <td> </td>   \n",
       "</tr>\n",
       "<tr>\n",
       "  <th>Df Residuals:</th>           <td>    30</td>       <th>                     </th>     <td> </td>   \n",
       "</tr>\n",
       "<tr>\n",
       "  <th>Df Model:</th>               <td>     3</td>       <th>                     </th>     <td> </td>   \n",
       "</tr>\n",
       "</table>\n",
       "<table class=\"simpletable\">\n",
       "<tr>\n",
       "       <td></td>          <th>coef</th>     <th>std err</th>      <th>z</th>      <th>P>|z|</th>  <th>[0.025</th>    <th>0.975]</th>  \n",
       "</tr>\n",
       "<tr>\n",
       "  <th>eigenvector</th> <td>  -31.1411</td> <td>   12.903</td> <td>   -2.414</td> <td> 0.016</td> <td>  -56.430</td> <td>   -5.852</td>\n",
       "</tr>\n",
       "<tr>\n",
       "  <th>1.0/2.0</th>     <td>    0.1424</td> <td>    0.346</td> <td>    0.411</td> <td> 0.681</td> <td>   -0.536</td> <td>    0.821</td>\n",
       "</tr>\n",
       "<tr>\n",
       "  <th>2.0/3.0</th>     <td>   -0.1239</td> <td>    0.277</td> <td>   -0.448</td> <td> 0.654</td> <td>   -0.666</td> <td>    0.418</td>\n",
       "</tr>\n",
       "</table>"
      ],
      "text/plain": [
       "<class 'statsmodels.iolib.summary.Summary'>\n",
       "\"\"\"\n",
       "                             OrderedModel Results                             \n",
       "==============================================================================\n",
       "Dep. Variable:                   camp   Log-Likelihood:                -32.896\n",
       "Model:                   OrderedModel   AIC:                             71.79\n",
       "Method:            Maximum Likelihood   BIC:                             76.28\n",
       "Date:                Tue, 19 Jul 2022                                         \n",
       "Time:                        00:24:15                                         \n",
       "No. Observations:                  33                                         \n",
       "Df Residuals:                      30                                         \n",
       "Df Model:                           3                                         \n",
       "===============================================================================\n",
       "                  coef    std err          z      P>|z|      [0.025      0.975]\n",
       "-------------------------------------------------------------------------------\n",
       "eigenvector   -31.1411     12.903     -2.414      0.016     -56.430      -5.852\n",
       "1.0/2.0         0.1424      0.346      0.411      0.681      -0.536       0.821\n",
       "2.0/3.0        -0.1239      0.277     -0.448      0.654      -0.666       0.418\n",
       "===============================================================================\n",
       "\"\"\""
      ]
     },
     "execution_count": 21,
     "metadata": {},
     "output_type": "execute_result"
    }
   ],
   "source": [
    "ordinalReg(df_survey_mGenre_gcm, ['eigenvector'], 3)"
   ]
  },
  {
   "cell_type": "code",
   "execution_count": 22,
   "metadata": {},
   "outputs": [
    {
     "name": "stdout",
     "output_type": "stream",
     "text": [
      "Ordinal Regression:  ['pagerank']\n",
      "-------------------------------------\n",
      "Optimization terminated successfully.\n",
      "         Current function value: 0.935621\n",
      "         Iterations: 10\n",
      "         Function evaluations: 12\n",
      "         Gradient evaluations: 12\n"
     ]
    },
    {
     "data": {
      "text/html": [
       "<table class=\"simpletable\">\n",
       "<caption>OrderedModel Results</caption>\n",
       "<tr>\n",
       "  <th>Dep. Variable:</th>           <td>camp</td>        <th>  Log-Likelihood:    </th> <td> -30.875</td>\n",
       "</tr>\n",
       "<tr>\n",
       "  <th>Model:</th>               <td>OrderedModel</td>    <th>  AIC:               </th> <td>   67.75</td>\n",
       "</tr>\n",
       "<tr>\n",
       "  <th>Method:</th>           <td>Maximum Likelihood</td> <th>  BIC:               </th> <td>   72.24</td>\n",
       "</tr>\n",
       "<tr>\n",
       "  <th>Date:</th>              <td>Tue, 19 Jul 2022</td>  <th>                     </th>     <td> </td>   \n",
       "</tr>\n",
       "<tr>\n",
       "  <th>Time:</th>                  <td>00:24:15</td>      <th>                     </th>     <td> </td>   \n",
       "</tr>\n",
       "<tr>\n",
       "  <th>No. Observations:</th>       <td>    33</td>       <th>                     </th>     <td> </td>   \n",
       "</tr>\n",
       "<tr>\n",
       "  <th>Df Residuals:</th>           <td>    30</td>       <th>                     </th>     <td> </td>   \n",
       "</tr>\n",
       "<tr>\n",
       "  <th>Df Model:</th>               <td>     3</td>       <th>                     </th>     <td> </td>   \n",
       "</tr>\n",
       "</table>\n",
       "<table class=\"simpletable\">\n",
       "<tr>\n",
       "      <td></td>        <th>coef</th>     <th>std err</th>      <th>z</th>      <th>P>|z|</th>  <th>[0.025</th>    <th>0.975]</th>  \n",
       "</tr>\n",
       "<tr>\n",
       "  <th>pagerank</th> <td>   -0.1043</td> <td>    0.036</td> <td>   -2.921</td> <td> 0.003</td> <td>   -0.174</td> <td>   -0.034</td>\n",
       "</tr>\n",
       "<tr>\n",
       "  <th>1.0/2.0</th>  <td>   -1.1416</td> <td>    0.339</td> <td>   -3.372</td> <td> 0.001</td> <td>   -1.805</td> <td>   -0.478</td>\n",
       "</tr>\n",
       "<tr>\n",
       "  <th>2.0/3.0</th>  <td>   -0.0228</td> <td>    0.279</td> <td>   -0.082</td> <td> 0.935</td> <td>   -0.569</td> <td>    0.523</td>\n",
       "</tr>\n",
       "</table>"
      ],
      "text/plain": [
       "<class 'statsmodels.iolib.summary.Summary'>\n",
       "\"\"\"\n",
       "                             OrderedModel Results                             \n",
       "==============================================================================\n",
       "Dep. Variable:                   camp   Log-Likelihood:                -30.875\n",
       "Model:                   OrderedModel   AIC:                             67.75\n",
       "Method:            Maximum Likelihood   BIC:                             72.24\n",
       "Date:                Tue, 19 Jul 2022                                         \n",
       "Time:                        00:24:15                                         \n",
       "No. Observations:                  33                                         \n",
       "Df Residuals:                      30                                         \n",
       "Df Model:                           3                                         \n",
       "==============================================================================\n",
       "                 coef    std err          z      P>|z|      [0.025      0.975]\n",
       "------------------------------------------------------------------------------\n",
       "pagerank      -0.1043      0.036     -2.921      0.003      -0.174      -0.034\n",
       "1.0/2.0       -1.1416      0.339     -3.372      0.001      -1.805      -0.478\n",
       "2.0/3.0       -0.0228      0.279     -0.082      0.935      -0.569       0.523\n",
       "==============================================================================\n",
       "\"\"\""
      ]
     },
     "execution_count": 22,
     "metadata": {},
     "output_type": "execute_result"
    }
   ],
   "source": [
    "ordinalReg(df_survey_mGenre_gcm, ['pagerank'], 3)"
   ]
  },
  {
   "cell_type": "markdown",
   "metadata": {},
   "source": [
    "## Books"
   ]
  },
  {
   "cell_type": "code",
   "execution_count": 23,
   "metadata": {},
   "outputs": [
    {
     "name": "stdout",
     "output_type": "stream",
     "text": [
      "Dataframe merged with shape: (10000, 5)\n",
      "============================\n",
      "Rows with NaN values dropped: 172 from 182 => 94.51% \n",
      "Dataframe merged with shape: (10, 6)\n"
     ]
    }
   ],
   "source": [
    "# Books from the \"Type\":\"dbo:book\"\n",
    "\n",
    "book_result = catMerger(df_book, df_ig_gcm)\n",
    "df_survey_book = pd.read_csv(\"../data/survey_single_cat_files/sv_prep_uri/sv_books_prep.csv\", sep=';')\n",
    "\n",
    "df_survey_book_gcm = gcmSurfer(df_survey_book, book_result)"
   ]
  },
  {
   "cell_type": "code",
   "execution_count": 24,
   "metadata": {},
   "outputs": [
    {
     "name": "stdout",
     "output_type": "stream",
     "text": [
      "Ordinal Regression:  ['degree']\n",
      "-------------------------------------\n"
     ]
    },
    {
     "ename": "ValueError",
     "evalue": "shapes (10,1) and (0,) not aligned: 1 (dim 1) != 0 (dim 0)",
     "output_type": "error",
     "traceback": [
      "\u001b[0;31m---------------------------------------------------------------------------\u001b[0m",
      "\u001b[0;31mValueError\u001b[0m                                Traceback (most recent call last)",
      "\u001b[0;32m<ipython-input-24-5e91b5e5a4c3>\u001b[0m in \u001b[0;36m<module>\u001b[0;34m\u001b[0m\n\u001b[0;32m----> 1\u001b[0;31m \u001b[0mordinalReg\u001b[0m\u001b[0;34m(\u001b[0m\u001b[0mdf_survey_book_gcm\u001b[0m\u001b[0;34m,\u001b[0m \u001b[0;34m[\u001b[0m\u001b[0;34m'degree'\u001b[0m\u001b[0;34m]\u001b[0m\u001b[0;34m,\u001b[0m \u001b[0;36m3\u001b[0m\u001b[0;34m)\u001b[0m\u001b[0;34m\u001b[0m\u001b[0;34m\u001b[0m\u001b[0m\n\u001b[0m",
      "\u001b[0;32m<ipython-input-10-0b59c3c1a966>\u001b[0m in \u001b[0;36mordinalReg\u001b[0;34m(df_survey_gcm, list_gcm, num_splits)\u001b[0m\n\u001b[1;32m     13\u001b[0m     \u001b[0mprint\u001b[0m\u001b[0;34m(\u001b[0m\u001b[0;34m\"Ordinal Regression:  {}\"\u001b[0m\u001b[0;34m.\u001b[0m\u001b[0mformat\u001b[0m\u001b[0;34m(\u001b[0m\u001b[0mlist_gcm\u001b[0m\u001b[0;34m)\u001b[0m\u001b[0;34m)\u001b[0m\u001b[0;34m\u001b[0m\u001b[0;34m\u001b[0m\u001b[0m\n\u001b[1;32m     14\u001b[0m     \u001b[0mprint\u001b[0m\u001b[0;34m(\u001b[0m\u001b[0;34m'-------------------------------------'\u001b[0m\u001b[0;34m)\u001b[0m\u001b[0;34m\u001b[0m\u001b[0;34m\u001b[0m\u001b[0m\n\u001b[0;32m---> 15\u001b[0;31m     \u001b[0mres_prob\u001b[0m \u001b[0;34m=\u001b[0m \u001b[0mmod_prob\u001b[0m\u001b[0;34m.\u001b[0m\u001b[0mfit\u001b[0m\u001b[0;34m(\u001b[0m\u001b[0mmethod\u001b[0m\u001b[0;34m=\u001b[0m\u001b[0;34m'bfgs'\u001b[0m\u001b[0;34m)\u001b[0m\u001b[0;34m\u001b[0m\u001b[0;34m\u001b[0m\u001b[0m\n\u001b[0m\u001b[1;32m     16\u001b[0m \u001b[0;34m\u001b[0m\u001b[0m\n\u001b[1;32m     17\u001b[0m     \u001b[0;32mreturn\u001b[0m \u001b[0mres_prob\u001b[0m\u001b[0;34m.\u001b[0m\u001b[0msummary\u001b[0m\u001b[0;34m(\u001b[0m\u001b[0;34m)\u001b[0m\u001b[0;34m\u001b[0m\u001b[0;34m\u001b[0m\u001b[0m\n",
      "\u001b[0;32m~/opt/anaconda3/lib/python3.7/site-packages/statsmodels/miscmodels/ordinal_model.py\u001b[0m in \u001b[0;36mfit\u001b[0;34m(self, start_params, method, maxiter, full_output, disp, callback, retall, **kwargs)\u001b[0m\n\u001b[1;32m    589\u001b[0m                             \u001b[0mmethod\u001b[0m\u001b[0;34m=\u001b[0m\u001b[0mmethod\u001b[0m\u001b[0;34m,\u001b[0m \u001b[0mmaxiter\u001b[0m\u001b[0;34m=\u001b[0m\u001b[0mmaxiter\u001b[0m\u001b[0;34m,\u001b[0m\u001b[0;34m\u001b[0m\u001b[0;34m\u001b[0m\u001b[0m\n\u001b[1;32m    590\u001b[0m                             \u001b[0mfull_output\u001b[0m\u001b[0;34m=\u001b[0m\u001b[0mfull_output\u001b[0m\u001b[0;34m,\u001b[0m\u001b[0;34m\u001b[0m\u001b[0;34m\u001b[0m\u001b[0m\n\u001b[0;32m--> 591\u001b[0;31m                             disp=disp, callback=callback, **kwargs)\n\u001b[0m\u001b[1;32m    592\u001b[0m         \u001b[0;31m# use the proper result class\u001b[0m\u001b[0;34m\u001b[0m\u001b[0;34m\u001b[0m\u001b[0;34m\u001b[0m\u001b[0m\n\u001b[1;32m    593\u001b[0m         \u001b[0mordmlefit\u001b[0m \u001b[0;34m=\u001b[0m \u001b[0mOrderedResults\u001b[0m\u001b[0;34m(\u001b[0m\u001b[0mself\u001b[0m\u001b[0;34m,\u001b[0m \u001b[0mmlefit\u001b[0m\u001b[0;34m)\u001b[0m\u001b[0;34m\u001b[0m\u001b[0;34m\u001b[0m\u001b[0m\n",
      "\u001b[0;32m~/opt/anaconda3/lib/python3.7/site-packages/statsmodels/base/model.py\u001b[0m in \u001b[0;36mfit\u001b[0;34m(self, start_params, method, maxiter, full_output, disp, callback, retall, **kwargs)\u001b[0m\n\u001b[1;32m   1007\u001b[0m                             \u001b[0mmethod\u001b[0m\u001b[0;34m=\u001b[0m\u001b[0mmethod\u001b[0m\u001b[0;34m,\u001b[0m \u001b[0mmaxiter\u001b[0m\u001b[0;34m=\u001b[0m\u001b[0mmaxiter\u001b[0m\u001b[0;34m,\u001b[0m\u001b[0;34m\u001b[0m\u001b[0;34m\u001b[0m\u001b[0m\n\u001b[1;32m   1008\u001b[0m                             \u001b[0mfull_output\u001b[0m\u001b[0;34m=\u001b[0m\u001b[0mfull_output\u001b[0m\u001b[0;34m,\u001b[0m\u001b[0;34m\u001b[0m\u001b[0;34m\u001b[0m\u001b[0m\n\u001b[0;32m-> 1009\u001b[0;31m                             disp=disp, callback=callback, **kwargs)\n\u001b[0m\u001b[1;32m   1010\u001b[0m \u001b[0;34m\u001b[0m\u001b[0m\n\u001b[1;32m   1011\u001b[0m         results_class = getattr(self, 'results_class',\n",
      "\u001b[0;32m~/opt/anaconda3/lib/python3.7/site-packages/statsmodels/base/model.py\u001b[0m in \u001b[0;36mfit\u001b[0;34m(self, start_params, method, maxiter, full_output, disp, fargs, callback, retall, skip_hessian, **kwargs)\u001b[0m\n\u001b[1;32m    569\u001b[0m                                                        \u001b[0mcallback\u001b[0m\u001b[0;34m=\u001b[0m\u001b[0mcallback\u001b[0m\u001b[0;34m,\u001b[0m\u001b[0;34m\u001b[0m\u001b[0;34m\u001b[0m\u001b[0m\n\u001b[1;32m    570\u001b[0m                                                        \u001b[0mretall\u001b[0m\u001b[0;34m=\u001b[0m\u001b[0mretall\u001b[0m\u001b[0;34m,\u001b[0m\u001b[0;34m\u001b[0m\u001b[0;34m\u001b[0m\u001b[0m\n\u001b[0;32m--> 571\u001b[0;31m                                                        full_output=full_output)\n\u001b[0m\u001b[1;32m    572\u001b[0m         \u001b[0;31m# Restore cov_type, cov_kwds and use_t\u001b[0m\u001b[0;34m\u001b[0m\u001b[0;34m\u001b[0m\u001b[0;34m\u001b[0m\u001b[0m\n\u001b[1;32m    573\u001b[0m         \u001b[0moptim_settings\u001b[0m\u001b[0;34m.\u001b[0m\u001b[0mupdate\u001b[0m\u001b[0;34m(\u001b[0m\u001b[0mkwds\u001b[0m\u001b[0;34m)\u001b[0m\u001b[0;34m\u001b[0m\u001b[0;34m\u001b[0m\u001b[0m\n",
      "\u001b[0;32m~/opt/anaconda3/lib/python3.7/site-packages/statsmodels/base/optimizer.py\u001b[0m in \u001b[0;36m_fit\u001b[0;34m(self, objective, gradient, start_params, fargs, kwargs, hessian, method, maxiter, full_output, disp, callback, retall)\u001b[0m\n\u001b[1;32m    242\u001b[0m                              \u001b[0mdisp\u001b[0m\u001b[0;34m=\u001b[0m\u001b[0mdisp\u001b[0m\u001b[0;34m,\u001b[0m \u001b[0mmaxiter\u001b[0m\u001b[0;34m=\u001b[0m\u001b[0mmaxiter\u001b[0m\u001b[0;34m,\u001b[0m \u001b[0mcallback\u001b[0m\u001b[0;34m=\u001b[0m\u001b[0mcallback\u001b[0m\u001b[0;34m,\u001b[0m\u001b[0;34m\u001b[0m\u001b[0;34m\u001b[0m\u001b[0m\n\u001b[1;32m    243\u001b[0m                              \u001b[0mretall\u001b[0m\u001b[0;34m=\u001b[0m\u001b[0mretall\u001b[0m\u001b[0;34m,\u001b[0m \u001b[0mfull_output\u001b[0m\u001b[0;34m=\u001b[0m\u001b[0mfull_output\u001b[0m\u001b[0;34m,\u001b[0m\u001b[0;34m\u001b[0m\u001b[0;34m\u001b[0m\u001b[0m\n\u001b[0;32m--> 244\u001b[0;31m                              hess=hessian)\n\u001b[0m\u001b[1;32m    245\u001b[0m \u001b[0;34m\u001b[0m\u001b[0m\n\u001b[1;32m    246\u001b[0m         optim_settings = {'optimizer': method, 'start_params': start_params,\n",
      "\u001b[0;32m~/opt/anaconda3/lib/python3.7/site-packages/statsmodels/base/optimizer.py\u001b[0m in \u001b[0;36m_fit_bfgs\u001b[0;34m(f, score, start_params, fargs, kwargs, disp, maxiter, callback, retall, full_output, hess)\u001b[0m\n\u001b[1;32m    530\u001b[0m                                  \u001b[0mgtol\u001b[0m\u001b[0;34m=\u001b[0m\u001b[0mgtol\u001b[0m\u001b[0;34m,\u001b[0m \u001b[0mnorm\u001b[0m\u001b[0;34m=\u001b[0m\u001b[0mnorm\u001b[0m\u001b[0;34m,\u001b[0m \u001b[0mepsilon\u001b[0m\u001b[0;34m=\u001b[0m\u001b[0mepsilon\u001b[0m\u001b[0;34m,\u001b[0m\u001b[0;34m\u001b[0m\u001b[0;34m\u001b[0m\u001b[0m\n\u001b[1;32m    531\u001b[0m                                  \u001b[0mmaxiter\u001b[0m\u001b[0;34m=\u001b[0m\u001b[0mmaxiter\u001b[0m\u001b[0;34m,\u001b[0m \u001b[0mfull_output\u001b[0m\u001b[0;34m=\u001b[0m\u001b[0mfull_output\u001b[0m\u001b[0;34m,\u001b[0m\u001b[0;34m\u001b[0m\u001b[0;34m\u001b[0m\u001b[0m\n\u001b[0;32m--> 532\u001b[0;31m                                  disp=disp, retall=retall, callback=callback)\n\u001b[0m\u001b[1;32m    533\u001b[0m     \u001b[0;32mif\u001b[0m \u001b[0mfull_output\u001b[0m\u001b[0;34m:\u001b[0m\u001b[0;34m\u001b[0m\u001b[0;34m\u001b[0m\u001b[0m\n\u001b[1;32m    534\u001b[0m         \u001b[0;32mif\u001b[0m \u001b[0;32mnot\u001b[0m \u001b[0mretall\u001b[0m\u001b[0;34m:\u001b[0m\u001b[0;34m\u001b[0m\u001b[0;34m\u001b[0m\u001b[0m\n",
      "\u001b[0;32m~/opt/anaconda3/lib/python3.7/site-packages/scipy/optimize/optimize.py\u001b[0m in \u001b[0;36mfmin_bfgs\u001b[0;34m(f, x0, fprime, args, gtol, norm, epsilon, maxiter, full_output, disp, retall, callback)\u001b[0m\n\u001b[1;32m    950\u001b[0m             'return_all': retall}\n\u001b[1;32m    951\u001b[0m \u001b[0;34m\u001b[0m\u001b[0m\n\u001b[0;32m--> 952\u001b[0;31m     \u001b[0mres\u001b[0m \u001b[0;34m=\u001b[0m \u001b[0m_minimize_bfgs\u001b[0m\u001b[0;34m(\u001b[0m\u001b[0mf\u001b[0m\u001b[0;34m,\u001b[0m \u001b[0mx0\u001b[0m\u001b[0;34m,\u001b[0m \u001b[0margs\u001b[0m\u001b[0;34m,\u001b[0m \u001b[0mfprime\u001b[0m\u001b[0;34m,\u001b[0m \u001b[0mcallback\u001b[0m\u001b[0;34m=\u001b[0m\u001b[0mcallback\u001b[0m\u001b[0;34m,\u001b[0m \u001b[0;34m**\u001b[0m\u001b[0mopts\u001b[0m\u001b[0;34m)\u001b[0m\u001b[0;34m\u001b[0m\u001b[0;34m\u001b[0m\u001b[0m\n\u001b[0m\u001b[1;32m    953\u001b[0m \u001b[0;34m\u001b[0m\u001b[0m\n\u001b[1;32m    954\u001b[0m     \u001b[0;32mif\u001b[0m \u001b[0mfull_output\u001b[0m\u001b[0;34m:\u001b[0m\u001b[0;34m\u001b[0m\u001b[0;34m\u001b[0m\u001b[0m\n",
      "\u001b[0;32m~/opt/anaconda3/lib/python3.7/site-packages/scipy/optimize/optimize.py\u001b[0m in \u001b[0;36m_minimize_bfgs\u001b[0;34m(fun, x0, args, jac, callback, gtol, norm, eps, maxiter, disp, return_all, **unknown_options)\u001b[0m\n\u001b[1;32m   1001\u001b[0m     \u001b[0mfunc_calls\u001b[0m\u001b[0;34m,\u001b[0m \u001b[0mf\u001b[0m \u001b[0;34m=\u001b[0m \u001b[0mwrap_function\u001b[0m\u001b[0;34m(\u001b[0m\u001b[0mf\u001b[0m\u001b[0;34m,\u001b[0m \u001b[0margs\u001b[0m\u001b[0;34m)\u001b[0m\u001b[0;34m\u001b[0m\u001b[0;34m\u001b[0m\u001b[0m\n\u001b[1;32m   1002\u001b[0m \u001b[0;34m\u001b[0m\u001b[0m\n\u001b[0;32m-> 1003\u001b[0;31m     \u001b[0mold_fval\u001b[0m \u001b[0;34m=\u001b[0m \u001b[0mf\u001b[0m\u001b[0;34m(\u001b[0m\u001b[0mx0\u001b[0m\u001b[0;34m)\u001b[0m\u001b[0;34m\u001b[0m\u001b[0;34m\u001b[0m\u001b[0m\n\u001b[0m\u001b[1;32m   1004\u001b[0m \u001b[0;34m\u001b[0m\u001b[0m\n\u001b[1;32m   1005\u001b[0m     \u001b[0;32mif\u001b[0m \u001b[0mfprime\u001b[0m \u001b[0;32mis\u001b[0m \u001b[0;32mNone\u001b[0m\u001b[0;34m:\u001b[0m\u001b[0;34m\u001b[0m\u001b[0;34m\u001b[0m\u001b[0m\n",
      "\u001b[0;32m~/opt/anaconda3/lib/python3.7/site-packages/scipy/optimize/optimize.py\u001b[0m in \u001b[0;36mfunction_wrapper\u001b[0;34m(*wrapper_args)\u001b[0m\n\u001b[1;32m    325\u001b[0m     \u001b[0;32mdef\u001b[0m \u001b[0mfunction_wrapper\u001b[0m\u001b[0;34m(\u001b[0m\u001b[0;34m*\u001b[0m\u001b[0mwrapper_args\u001b[0m\u001b[0;34m)\u001b[0m\u001b[0;34m:\u001b[0m\u001b[0;34m\u001b[0m\u001b[0;34m\u001b[0m\u001b[0m\n\u001b[1;32m    326\u001b[0m         \u001b[0mncalls\u001b[0m\u001b[0;34m[\u001b[0m\u001b[0;36m0\u001b[0m\u001b[0;34m]\u001b[0m \u001b[0;34m+=\u001b[0m \u001b[0;36m1\u001b[0m\u001b[0;34m\u001b[0m\u001b[0;34m\u001b[0m\u001b[0m\n\u001b[0;32m--> 327\u001b[0;31m         \u001b[0;32mreturn\u001b[0m \u001b[0mfunction\u001b[0m\u001b[0;34m(\u001b[0m\u001b[0;34m*\u001b[0m\u001b[0;34m(\u001b[0m\u001b[0mwrapper_args\u001b[0m \u001b[0;34m+\u001b[0m \u001b[0margs\u001b[0m\u001b[0;34m)\u001b[0m\u001b[0;34m)\u001b[0m\u001b[0;34m\u001b[0m\u001b[0;34m\u001b[0m\u001b[0m\n\u001b[0m\u001b[1;32m    328\u001b[0m \u001b[0;34m\u001b[0m\u001b[0m\n\u001b[1;32m    329\u001b[0m     \u001b[0;32mreturn\u001b[0m \u001b[0mncalls\u001b[0m\u001b[0;34m,\u001b[0m \u001b[0mfunction_wrapper\u001b[0m\u001b[0;34m\u001b[0m\u001b[0;34m\u001b[0m\u001b[0m\n",
      "\u001b[0;32m~/opt/anaconda3/lib/python3.7/site-packages/statsmodels/base/model.py\u001b[0m in \u001b[0;36mf\u001b[0;34m(params, *args)\u001b[0m\n\u001b[1;32m    529\u001b[0m \u001b[0;34m\u001b[0m\u001b[0m\n\u001b[1;32m    530\u001b[0m         \u001b[0;32mdef\u001b[0m \u001b[0mf\u001b[0m\u001b[0;34m(\u001b[0m\u001b[0mparams\u001b[0m\u001b[0;34m,\u001b[0m \u001b[0;34m*\u001b[0m\u001b[0margs\u001b[0m\u001b[0;34m)\u001b[0m\u001b[0;34m:\u001b[0m\u001b[0;34m\u001b[0m\u001b[0;34m\u001b[0m\u001b[0m\n\u001b[0;32m--> 531\u001b[0;31m             \u001b[0;32mreturn\u001b[0m \u001b[0;34m-\u001b[0m\u001b[0mself\u001b[0m\u001b[0;34m.\u001b[0m\u001b[0mloglike\u001b[0m\u001b[0;34m(\u001b[0m\u001b[0mparams\u001b[0m\u001b[0;34m,\u001b[0m \u001b[0;34m*\u001b[0m\u001b[0margs\u001b[0m\u001b[0;34m)\u001b[0m \u001b[0;34m/\u001b[0m \u001b[0mnobs\u001b[0m\u001b[0;34m\u001b[0m\u001b[0;34m\u001b[0m\u001b[0m\n\u001b[0m\u001b[1;32m    532\u001b[0m \u001b[0;34m\u001b[0m\u001b[0m\n\u001b[1;32m    533\u001b[0m         \u001b[0;32mif\u001b[0m \u001b[0mmethod\u001b[0m \u001b[0;34m==\u001b[0m \u001b[0;34m'newton'\u001b[0m\u001b[0;34m:\u001b[0m\u001b[0;34m\u001b[0m\u001b[0;34m\u001b[0m\u001b[0m\n",
      "\u001b[0;32m~/opt/anaconda3/lib/python3.7/site-packages/statsmodels/miscmodels/ordinal_model.py\u001b[0m in \u001b[0;36mloglike\u001b[0;34m(self, params)\u001b[0m\n\u001b[1;32m    513\u001b[0m     \u001b[0;32mdef\u001b[0m \u001b[0mloglike\u001b[0m\u001b[0;34m(\u001b[0m\u001b[0mself\u001b[0m\u001b[0;34m,\u001b[0m \u001b[0mparams\u001b[0m\u001b[0;34m)\u001b[0m\u001b[0;34m:\u001b[0m\u001b[0;34m\u001b[0m\u001b[0;34m\u001b[0m\u001b[0m\n\u001b[1;32m    514\u001b[0m \u001b[0;34m\u001b[0m\u001b[0m\n\u001b[0;32m--> 515\u001b[0;31m         \u001b[0;32mreturn\u001b[0m \u001b[0mself\u001b[0m\u001b[0;34m.\u001b[0m\u001b[0mloglikeobs\u001b[0m\u001b[0;34m(\u001b[0m\u001b[0mparams\u001b[0m\u001b[0;34m)\u001b[0m\u001b[0;34m.\u001b[0m\u001b[0msum\u001b[0m\u001b[0;34m(\u001b[0m\u001b[0;34m)\u001b[0m\u001b[0;34m\u001b[0m\u001b[0;34m\u001b[0m\u001b[0m\n\u001b[0m\u001b[1;32m    516\u001b[0m \u001b[0;34m\u001b[0m\u001b[0m\n\u001b[1;32m    517\u001b[0m     \u001b[0;32mdef\u001b[0m \u001b[0mloglikeobs\u001b[0m\u001b[0;34m(\u001b[0m\u001b[0mself\u001b[0m\u001b[0;34m,\u001b[0m \u001b[0mparams\u001b[0m\u001b[0;34m)\u001b[0m\u001b[0;34m:\u001b[0m\u001b[0;34m\u001b[0m\u001b[0;34m\u001b[0m\u001b[0m\n",
      "\u001b[0;32m~/opt/anaconda3/lib/python3.7/site-packages/statsmodels/miscmodels/ordinal_model.py\u001b[0m in \u001b[0;36mloglikeobs\u001b[0;34m(self, params)\u001b[0m\n\u001b[1;32m    530\u001b[0m             \u001b[0mat\u001b[0m\u001b[0;31m \u001b[0m\u001b[0;31m`\u001b[0m\u001b[0;31m`\u001b[0m\u001b[0mparams\u001b[0m\u001b[0;31m`\u001b[0m\u001b[0;31m`\u001b[0m\u001b[0;34m.\u001b[0m\u001b[0;34m\u001b[0m\u001b[0;34m\u001b[0m\u001b[0m\n\u001b[1;32m    531\u001b[0m         \"\"\"\n\u001b[0;32m--> 532\u001b[0;31m         \u001b[0mlow\u001b[0m\u001b[0;34m,\u001b[0m \u001b[0mupp\u001b[0m \u001b[0;34m=\u001b[0m \u001b[0mself\u001b[0m\u001b[0;34m.\u001b[0m\u001b[0m_bounds\u001b[0m\u001b[0;34m(\u001b[0m\u001b[0mparams\u001b[0m\u001b[0;34m)\u001b[0m\u001b[0;34m\u001b[0m\u001b[0;34m\u001b[0m\u001b[0m\n\u001b[0m\u001b[1;32m    533\u001b[0m         \u001b[0mprob\u001b[0m \u001b[0;34m=\u001b[0m \u001b[0mself\u001b[0m\u001b[0;34m.\u001b[0m\u001b[0mprob\u001b[0m\u001b[0;34m(\u001b[0m\u001b[0mlow\u001b[0m\u001b[0;34m,\u001b[0m \u001b[0mupp\u001b[0m\u001b[0;34m)\u001b[0m\u001b[0;34m\u001b[0m\u001b[0;34m\u001b[0m\u001b[0m\n\u001b[1;32m    534\u001b[0m         \u001b[0;32mreturn\u001b[0m \u001b[0mnp\u001b[0m\u001b[0;34m.\u001b[0m\u001b[0mlog\u001b[0m\u001b[0;34m(\u001b[0m\u001b[0mprob\u001b[0m \u001b[0;34m+\u001b[0m \u001b[0;36m1e-20\u001b[0m\u001b[0;34m)\u001b[0m\u001b[0;34m\u001b[0m\u001b[0;34m\u001b[0m\u001b[0m\n",
      "\u001b[0;32m~/opt/anaconda3/lib/python3.7/site-packages/statsmodels/miscmodels/ordinal_model.py\u001b[0m in \u001b[0;36m_bounds\u001b[0;34m(self, params)\u001b[0m\n\u001b[1;32m    505\u001b[0m         \u001b[0mthresh_i_low\u001b[0m \u001b[0;34m=\u001b[0m \u001b[0mthresh\u001b[0m\u001b[0;34m[\u001b[0m\u001b[0mself\u001b[0m\u001b[0;34m.\u001b[0m\u001b[0mendog\u001b[0m\u001b[0;34m]\u001b[0m\u001b[0;34m\u001b[0m\u001b[0;34m\u001b[0m\u001b[0m\n\u001b[1;32m    506\u001b[0m         \u001b[0mthresh_i_upp\u001b[0m \u001b[0;34m=\u001b[0m \u001b[0mthresh\u001b[0m\u001b[0;34m[\u001b[0m\u001b[0mself\u001b[0m\u001b[0;34m.\u001b[0m\u001b[0mendog\u001b[0m \u001b[0;34m+\u001b[0m \u001b[0;36m1\u001b[0m\u001b[0;34m]\u001b[0m\u001b[0;34m\u001b[0m\u001b[0;34m\u001b[0m\u001b[0m\n\u001b[0;32m--> 507\u001b[0;31m         \u001b[0mxb\u001b[0m \u001b[0;34m=\u001b[0m \u001b[0mself\u001b[0m\u001b[0;34m.\u001b[0m\u001b[0m_linpred\u001b[0m\u001b[0;34m(\u001b[0m\u001b[0mparams\u001b[0m\u001b[0;34m)\u001b[0m\u001b[0;34m\u001b[0m\u001b[0;34m\u001b[0m\u001b[0m\n\u001b[0m\u001b[1;32m    508\u001b[0m         \u001b[0mlow\u001b[0m \u001b[0;34m=\u001b[0m \u001b[0mthresh_i_low\u001b[0m \u001b[0;34m-\u001b[0m \u001b[0mxb\u001b[0m\u001b[0;34m\u001b[0m\u001b[0;34m\u001b[0m\u001b[0m\n\u001b[1;32m    509\u001b[0m         \u001b[0mupp\u001b[0m \u001b[0;34m=\u001b[0m \u001b[0mthresh_i_upp\u001b[0m \u001b[0;34m-\u001b[0m \u001b[0mxb\u001b[0m\u001b[0;34m\u001b[0m\u001b[0;34m\u001b[0m\u001b[0m\n",
      "\u001b[0;32m~/opt/anaconda3/lib/python3.7/site-packages/statsmodels/miscmodels/ordinal_model.py\u001b[0m in \u001b[0;36m_linpred\u001b[0;34m(self, params, exog, offset)\u001b[0m\n\u001b[1;32m    464\u001b[0m \u001b[0;34m\u001b[0m\u001b[0m\n\u001b[1;32m    465\u001b[0m         \u001b[0;32mif\u001b[0m \u001b[0mexog\u001b[0m \u001b[0;32mis\u001b[0m \u001b[0;32mnot\u001b[0m \u001b[0;32mNone\u001b[0m\u001b[0;34m:\u001b[0m\u001b[0;34m\u001b[0m\u001b[0;34m\u001b[0m\u001b[0m\n\u001b[0;32m--> 466\u001b[0;31m             \u001b[0mlinpred\u001b[0m \u001b[0;34m=\u001b[0m \u001b[0mexog\u001b[0m\u001b[0;34m.\u001b[0m\u001b[0mdot\u001b[0m\u001b[0;34m(\u001b[0m\u001b[0mparams\u001b[0m\u001b[0;34m[\u001b[0m\u001b[0;34m:\u001b[0m\u001b[0;34m-\u001b[0m\u001b[0;34m(\u001b[0m\u001b[0mself\u001b[0m\u001b[0;34m.\u001b[0m\u001b[0mk_levels\u001b[0m \u001b[0;34m-\u001b[0m \u001b[0;36m1\u001b[0m\u001b[0;34m)\u001b[0m\u001b[0;34m]\u001b[0m\u001b[0;34m)\u001b[0m\u001b[0;34m\u001b[0m\u001b[0;34m\u001b[0m\u001b[0m\n\u001b[0m\u001b[1;32m    467\u001b[0m         \u001b[0;32melse\u001b[0m\u001b[0;34m:\u001b[0m  \u001b[0;31m# means self.exog is also None\u001b[0m\u001b[0;34m\u001b[0m\u001b[0;34m\u001b[0m\u001b[0m\n\u001b[1;32m    468\u001b[0m             \u001b[0mlinpred\u001b[0m \u001b[0;34m=\u001b[0m \u001b[0mnp\u001b[0m\u001b[0;34m.\u001b[0m\u001b[0mzeros\u001b[0m\u001b[0;34m(\u001b[0m\u001b[0mself\u001b[0m\u001b[0;34m.\u001b[0m\u001b[0mnobs\u001b[0m\u001b[0;34m)\u001b[0m\u001b[0;34m\u001b[0m\u001b[0;34m\u001b[0m\u001b[0m\n",
      "\u001b[0;31mValueError\u001b[0m: shapes (10,1) and (0,) not aligned: 1 (dim 1) != 0 (dim 0)"
     ]
    }
   ],
   "source": [
    "ordinalReg(df_survey_book_gcm, ['degree'], 3)"
   ]
  },
  {
   "cell_type": "code",
   "execution_count": null,
   "metadata": {},
   "outputs": [],
   "source": [
    "ordinalReg(df_survey_book_gcm, ['eigenvector'], 3)"
   ]
  },
  {
   "cell_type": "code",
   "execution_count": null,
   "metadata": {},
   "outputs": [],
   "source": [
    "ordinalReg(df_survey_book_gcm, ['pagerank'], 3)"
   ]
  },
  {
   "cell_type": "markdown",
   "metadata": {},
   "source": [
    "## Book authors"
   ]
  },
  {
   "cell_type": "code",
   "execution_count": 25,
   "metadata": {},
   "outputs": [
    {
     "name": "stdout",
     "output_type": "stream",
     "text": [
      "Dataframe merged with shape: (4498, 5)\n",
      "============================\n",
      "Rows with NaN values dropped: 125 from 143 => 87.41% \n",
      "Dataframe merged with shape: (18, 6)\n"
     ]
    }
   ],
   "source": [
    "# Book authors from the \"Type\": author UNION book dbo:author\n",
    "\n",
    "bookAut_result = catMerger(df_bookAut, df_ig_gcm)\n",
    "df_survey_bookAut = pd.read_csv(\"../data/survey_single_cat_files/sv_prep_uri/sv_authors_prep.csv\", sep=';')\n",
    "\n",
    "df_survey_bookAut_gcm = gcmSurfer(df_survey_bookAut, bookAut_result)"
   ]
  },
  {
   "cell_type": "code",
   "execution_count": 26,
   "metadata": {},
   "outputs": [
    {
     "name": "stdout",
     "output_type": "stream",
     "text": [
      "Ordinal Regression:  ['degree']\n",
      "-------------------------------------\n",
      "Optimization terminated successfully.\n",
      "         Current function value: 0.554098\n",
      "         Iterations: 9\n",
      "         Function evaluations: 11\n",
      "         Gradient evaluations: 11\n"
     ]
    },
    {
     "data": {
      "text/html": [
       "<table class=\"simpletable\">\n",
       "<caption>OrderedModel Results</caption>\n",
       "<tr>\n",
       "  <th>Dep. Variable:</th>           <td>camp</td>        <th>  Log-Likelihood:    </th> <td> -9.9738</td>\n",
       "</tr>\n",
       "<tr>\n",
       "  <th>Model:</th>               <td>OrderedModel</td>    <th>  AIC:               </th> <td>   25.95</td>\n",
       "</tr>\n",
       "<tr>\n",
       "  <th>Method:</th>           <td>Maximum Likelihood</td> <th>  BIC:               </th> <td>   28.62</td>\n",
       "</tr>\n",
       "<tr>\n",
       "  <th>Date:</th>              <td>Tue, 19 Jul 2022</td>  <th>                     </th>     <td> </td>   \n",
       "</tr>\n",
       "<tr>\n",
       "  <th>Time:</th>                  <td>00:27:10</td>      <th>                     </th>     <td> </td>   \n",
       "</tr>\n",
       "<tr>\n",
       "  <th>No. Observations:</th>       <td>    18</td>       <th>                     </th>     <td> </td>   \n",
       "</tr>\n",
       "<tr>\n",
       "  <th>Df Residuals:</th>           <td>    15</td>       <th>                     </th>     <td> </td>   \n",
       "</tr>\n",
       "<tr>\n",
       "  <th>Df Model:</th>               <td>     3</td>       <th>                     </th>     <td> </td>   \n",
       "</tr>\n",
       "</table>\n",
       "<table class=\"simpletable\">\n",
       "<tr>\n",
       "     <td></td>        <th>coef</th>     <th>std err</th>      <th>z</th>      <th>P>|z|</th>  <th>[0.025</th>    <th>0.975]</th>  \n",
       "</tr>\n",
       "<tr>\n",
       "  <th>degree</th>  <td>   -0.0414</td> <td>    0.133</td> <td>   -0.311</td> <td> 0.756</td> <td>   -0.302</td> <td>    0.219</td>\n",
       "</tr>\n",
       "<tr>\n",
       "  <th>1.0/2.0</th> <td>   -1.7104</td> <td>    0.619</td> <td>   -2.762</td> <td> 0.006</td> <td>   -2.924</td> <td>   -0.497</td>\n",
       "</tr>\n",
       "<tr>\n",
       "  <th>2.0/3.0</th> <td>   -0.4573</td> <td>    0.664</td> <td>   -0.689</td> <td> 0.491</td> <td>   -1.758</td> <td>    0.844</td>\n",
       "</tr>\n",
       "</table>"
      ],
      "text/plain": [
       "<class 'statsmodels.iolib.summary.Summary'>\n",
       "\"\"\"\n",
       "                             OrderedModel Results                             \n",
       "==============================================================================\n",
       "Dep. Variable:                   camp   Log-Likelihood:                -9.9738\n",
       "Model:                   OrderedModel   AIC:                             25.95\n",
       "Method:            Maximum Likelihood   BIC:                             28.62\n",
       "Date:                Tue, 19 Jul 2022                                         \n",
       "Time:                        00:27:10                                         \n",
       "No. Observations:                  18                                         \n",
       "Df Residuals:                      15                                         \n",
       "Df Model:                           3                                         \n",
       "==============================================================================\n",
       "                 coef    std err          z      P>|z|      [0.025      0.975]\n",
       "------------------------------------------------------------------------------\n",
       "degree        -0.0414      0.133     -0.311      0.756      -0.302       0.219\n",
       "1.0/2.0       -1.7104      0.619     -2.762      0.006      -2.924      -0.497\n",
       "2.0/3.0       -0.4573      0.664     -0.689      0.491      -1.758       0.844\n",
       "==============================================================================\n",
       "\"\"\""
      ]
     },
     "execution_count": 26,
     "metadata": {},
     "output_type": "execute_result"
    }
   ],
   "source": [
    "ordinalReg(df_survey_bookAut_gcm, ['degree'], 3)"
   ]
  },
  {
   "cell_type": "code",
   "execution_count": 27,
   "metadata": {},
   "outputs": [
    {
     "name": "stdout",
     "output_type": "stream",
     "text": [
      "Ordinal Regression:  ['eigenvector']\n",
      "-------------------------------------\n",
      "Optimization terminated successfully.\n",
      "         Current function value: 0.556619\n",
      "         Iterations: 18\n",
      "         Function evaluations: 22\n",
      "         Gradient evaluations: 22\n"
     ]
    },
    {
     "data": {
      "text/html": [
       "<table class=\"simpletable\">\n",
       "<caption>OrderedModel Results</caption>\n",
       "<tr>\n",
       "  <th>Dep. Variable:</th>           <td>camp</td>        <th>  Log-Likelihood:    </th> <td> -10.019</td>\n",
       "</tr>\n",
       "<tr>\n",
       "  <th>Model:</th>               <td>OrderedModel</td>    <th>  AIC:               </th> <td>   26.04</td>\n",
       "</tr>\n",
       "<tr>\n",
       "  <th>Method:</th>           <td>Maximum Likelihood</td> <th>  BIC:               </th> <td>   28.71</td>\n",
       "</tr>\n",
       "<tr>\n",
       "  <th>Date:</th>              <td>Tue, 19 Jul 2022</td>  <th>                     </th>     <td> </td>   \n",
       "</tr>\n",
       "<tr>\n",
       "  <th>Time:</th>                  <td>00:27:11</td>      <th>                     </th>     <td> </td>   \n",
       "</tr>\n",
       "<tr>\n",
       "  <th>No. Observations:</th>       <td>    18</td>       <th>                     </th>     <td> </td>   \n",
       "</tr>\n",
       "<tr>\n",
       "  <th>Df Residuals:</th>           <td>    15</td>       <th>                     </th>     <td> </td>   \n",
       "</tr>\n",
       "<tr>\n",
       "  <th>Df Model:</th>               <td>     3</td>       <th>                     </th>     <td> </td>   \n",
       "</tr>\n",
       "</table>\n",
       "<table class=\"simpletable\">\n",
       "<tr>\n",
       "       <td></td>          <th>coef</th>     <th>std err</th>      <th>z</th>      <th>P>|z|</th>  <th>[0.025</th>    <th>0.975]</th>  \n",
       "</tr>\n",
       "<tr>\n",
       "  <th>eigenvector</th> <td>   -2.4706</td> <td>   77.356</td> <td>   -0.032</td> <td> 0.975</td> <td> -154.086</td> <td>  149.145</td>\n",
       "</tr>\n",
       "<tr>\n",
       "  <th>1.0/2.0</th>     <td>   -1.3710</td> <td>    6.974</td> <td>   -0.197</td> <td> 0.844</td> <td>  -15.040</td> <td>   12.299</td>\n",
       "</tr>\n",
       "<tr>\n",
       "  <th>2.0/3.0</th>     <td>   -0.4683</td> <td>    0.663</td> <td>   -0.707</td> <td> 0.480</td> <td>   -1.767</td> <td>    0.830</td>\n",
       "</tr>\n",
       "</table>"
      ],
      "text/plain": [
       "<class 'statsmodels.iolib.summary.Summary'>\n",
       "\"\"\"\n",
       "                             OrderedModel Results                             \n",
       "==============================================================================\n",
       "Dep. Variable:                   camp   Log-Likelihood:                -10.019\n",
       "Model:                   OrderedModel   AIC:                             26.04\n",
       "Method:            Maximum Likelihood   BIC:                             28.71\n",
       "Date:                Tue, 19 Jul 2022                                         \n",
       "Time:                        00:27:11                                         \n",
       "No. Observations:                  18                                         \n",
       "Df Residuals:                      15                                         \n",
       "Df Model:                           3                                         \n",
       "===============================================================================\n",
       "                  coef    std err          z      P>|z|      [0.025      0.975]\n",
       "-------------------------------------------------------------------------------\n",
       "eigenvector    -2.4706     77.356     -0.032      0.975    -154.086     149.145\n",
       "1.0/2.0        -1.3710      6.974     -0.197      0.844     -15.040      12.299\n",
       "2.0/3.0        -0.4683      0.663     -0.707      0.480      -1.767       0.830\n",
       "===============================================================================\n",
       "\"\"\""
      ]
     },
     "execution_count": 27,
     "metadata": {},
     "output_type": "execute_result"
    }
   ],
   "source": [
    "ordinalReg(df_survey_bookAut_gcm, ['eigenvector'], 3)"
   ]
  },
  {
   "cell_type": "code",
   "execution_count": 28,
   "metadata": {},
   "outputs": [
    {
     "name": "stdout",
     "output_type": "stream",
     "text": [
      "Ordinal Regression:  ['pagerank']\n",
      "-------------------------------------\n",
      "Optimization terminated successfully.\n",
      "         Current function value: 0.547181\n",
      "         Iterations: 10\n",
      "         Function evaluations: 12\n",
      "         Gradient evaluations: 12\n"
     ]
    },
    {
     "data": {
      "text/html": [
       "<table class=\"simpletable\">\n",
       "<caption>OrderedModel Results</caption>\n",
       "<tr>\n",
       "  <th>Dep. Variable:</th>           <td>camp</td>        <th>  Log-Likelihood:    </th> <td> -9.8493</td>\n",
       "</tr>\n",
       "<tr>\n",
       "  <th>Model:</th>               <td>OrderedModel</td>    <th>  AIC:               </th> <td>   25.70</td>\n",
       "</tr>\n",
       "<tr>\n",
       "  <th>Method:</th>           <td>Maximum Likelihood</td> <th>  BIC:               </th> <td>   28.37</td>\n",
       "</tr>\n",
       "<tr>\n",
       "  <th>Date:</th>              <td>Tue, 19 Jul 2022</td>  <th>                     </th>     <td> </td>   \n",
       "</tr>\n",
       "<tr>\n",
       "  <th>Time:</th>                  <td>00:27:11</td>      <th>                     </th>     <td> </td>   \n",
       "</tr>\n",
       "<tr>\n",
       "  <th>No. Observations:</th>       <td>    18</td>       <th>                     </th>     <td> </td>   \n",
       "</tr>\n",
       "<tr>\n",
       "  <th>Df Residuals:</th>           <td>    15</td>       <th>                     </th>     <td> </td>   \n",
       "</tr>\n",
       "<tr>\n",
       "  <th>Df Model:</th>               <td>     3</td>       <th>                     </th>     <td> </td>   \n",
       "</tr>\n",
       "</table>\n",
       "<table class=\"simpletable\">\n",
       "<tr>\n",
       "      <td></td>        <th>coef</th>     <th>std err</th>      <th>z</th>      <th>P>|z|</th>  <th>[0.025</th>    <th>0.975]</th>  \n",
       "</tr>\n",
       "<tr>\n",
       "  <th>pagerank</th> <td>   -0.0890</td> <td>    0.148</td> <td>   -0.603</td> <td> 0.546</td> <td>   -0.378</td> <td>    0.200</td>\n",
       "</tr>\n",
       "<tr>\n",
       "  <th>1.0/2.0</th>  <td>   -1.8440</td> <td>    0.654</td> <td>   -2.821</td> <td> 0.005</td> <td>   -3.125</td> <td>   -0.563</td>\n",
       "</tr>\n",
       "<tr>\n",
       "  <th>2.0/3.0</th>  <td>   -0.4341</td> <td>    0.665</td> <td>   -0.653</td> <td> 0.514</td> <td>   -1.738</td> <td>    0.869</td>\n",
       "</tr>\n",
       "</table>"
      ],
      "text/plain": [
       "<class 'statsmodels.iolib.summary.Summary'>\n",
       "\"\"\"\n",
       "                             OrderedModel Results                             \n",
       "==============================================================================\n",
       "Dep. Variable:                   camp   Log-Likelihood:                -9.8493\n",
       "Model:                   OrderedModel   AIC:                             25.70\n",
       "Method:            Maximum Likelihood   BIC:                             28.37\n",
       "Date:                Tue, 19 Jul 2022                                         \n",
       "Time:                        00:27:11                                         \n",
       "No. Observations:                  18                                         \n",
       "Df Residuals:                      15                                         \n",
       "Df Model:                           3                                         \n",
       "==============================================================================\n",
       "                 coef    std err          z      P>|z|      [0.025      0.975]\n",
       "------------------------------------------------------------------------------\n",
       "pagerank      -0.0890      0.148     -0.603      0.546      -0.378       0.200\n",
       "1.0/2.0       -1.8440      0.654     -2.821      0.005      -3.125      -0.563\n",
       "2.0/3.0       -0.4341      0.665     -0.653      0.514      -1.738       0.869\n",
       "==============================================================================\n",
       "\"\"\""
      ]
     },
     "execution_count": 28,
     "metadata": {},
     "output_type": "execute_result"
    }
   ],
   "source": [
    "ordinalReg(df_survey_bookAut_gcm, ['pagerank'], 3)"
   ]
  },
  {
   "cell_type": "markdown",
   "metadata": {},
   "source": [
    "## Politician"
   ]
  },
  {
   "cell_type": "code",
   "execution_count": 29,
   "metadata": {},
   "outputs": [
    {
     "name": "stdout",
     "output_type": "stream",
     "text": [
      "Dataframe merged with shape: (10000, 5)\n",
      "============================\n",
      "Rows with NaN values dropped: 72 from 75 => 96.0% \n",
      "Dataframe merged with shape: (3, 6)\n"
     ]
    }
   ],
   "source": [
    "# Politicians from the \"Type\": Person/Politician\n",
    "\n",
    "pol_result = catMerger(df_pol, df_ig_gcm)\n",
    "df_survey_pol = pd.read_csv(\"../data/survey_single_cat_files/sv_prep_uri/sv_politicians_prep.csv\", sep=';')\n",
    "\n",
    "df_survey_pol_gcm = gcmSurfer(df_survey_pol, pol_result)"
   ]
  },
  {
   "cell_type": "code",
   "execution_count": 30,
   "metadata": {},
   "outputs": [
    {
     "name": "stdout",
     "output_type": "stream",
     "text": [
      "Ordinal Regression:  ['degree']\n",
      "-------------------------------------\n"
     ]
    },
    {
     "ename": "ValueError",
     "evalue": "shapes (3,1) and (0,) not aligned: 1 (dim 1) != 0 (dim 0)",
     "output_type": "error",
     "traceback": [
      "\u001b[0;31m---------------------------------------------------------------------------\u001b[0m",
      "\u001b[0;31mValueError\u001b[0m                                Traceback (most recent call last)",
      "\u001b[0;32m<ipython-input-30-4d3f5176b927>\u001b[0m in \u001b[0;36m<module>\u001b[0;34m\u001b[0m\n\u001b[0;32m----> 1\u001b[0;31m \u001b[0mordinalReg\u001b[0m\u001b[0;34m(\u001b[0m\u001b[0mdf_survey_pol_gcm\u001b[0m\u001b[0;34m,\u001b[0m \u001b[0;34m[\u001b[0m\u001b[0;34m'degree'\u001b[0m\u001b[0;34m]\u001b[0m\u001b[0;34m,\u001b[0m \u001b[0;36m3\u001b[0m\u001b[0;34m)\u001b[0m\u001b[0;34m\u001b[0m\u001b[0;34m\u001b[0m\u001b[0m\n\u001b[0m",
      "\u001b[0;32m<ipython-input-10-0b59c3c1a966>\u001b[0m in \u001b[0;36mordinalReg\u001b[0;34m(df_survey_gcm, list_gcm, num_splits)\u001b[0m\n\u001b[1;32m     13\u001b[0m     \u001b[0mprint\u001b[0m\u001b[0;34m(\u001b[0m\u001b[0;34m\"Ordinal Regression:  {}\"\u001b[0m\u001b[0;34m.\u001b[0m\u001b[0mformat\u001b[0m\u001b[0;34m(\u001b[0m\u001b[0mlist_gcm\u001b[0m\u001b[0;34m)\u001b[0m\u001b[0;34m)\u001b[0m\u001b[0;34m\u001b[0m\u001b[0;34m\u001b[0m\u001b[0m\n\u001b[1;32m     14\u001b[0m     \u001b[0mprint\u001b[0m\u001b[0;34m(\u001b[0m\u001b[0;34m'-------------------------------------'\u001b[0m\u001b[0;34m)\u001b[0m\u001b[0;34m\u001b[0m\u001b[0;34m\u001b[0m\u001b[0m\n\u001b[0;32m---> 15\u001b[0;31m     \u001b[0mres_prob\u001b[0m \u001b[0;34m=\u001b[0m \u001b[0mmod_prob\u001b[0m\u001b[0;34m.\u001b[0m\u001b[0mfit\u001b[0m\u001b[0;34m(\u001b[0m\u001b[0mmethod\u001b[0m\u001b[0;34m=\u001b[0m\u001b[0;34m'bfgs'\u001b[0m\u001b[0;34m)\u001b[0m\u001b[0;34m\u001b[0m\u001b[0;34m\u001b[0m\u001b[0m\n\u001b[0m\u001b[1;32m     16\u001b[0m \u001b[0;34m\u001b[0m\u001b[0m\n\u001b[1;32m     17\u001b[0m     \u001b[0;32mreturn\u001b[0m \u001b[0mres_prob\u001b[0m\u001b[0;34m.\u001b[0m\u001b[0msummary\u001b[0m\u001b[0;34m(\u001b[0m\u001b[0;34m)\u001b[0m\u001b[0;34m\u001b[0m\u001b[0;34m\u001b[0m\u001b[0m\n",
      "\u001b[0;32m~/opt/anaconda3/lib/python3.7/site-packages/statsmodels/miscmodels/ordinal_model.py\u001b[0m in \u001b[0;36mfit\u001b[0;34m(self, start_params, method, maxiter, full_output, disp, callback, retall, **kwargs)\u001b[0m\n\u001b[1;32m    589\u001b[0m                             \u001b[0mmethod\u001b[0m\u001b[0;34m=\u001b[0m\u001b[0mmethod\u001b[0m\u001b[0;34m,\u001b[0m \u001b[0mmaxiter\u001b[0m\u001b[0;34m=\u001b[0m\u001b[0mmaxiter\u001b[0m\u001b[0;34m,\u001b[0m\u001b[0;34m\u001b[0m\u001b[0;34m\u001b[0m\u001b[0m\n\u001b[1;32m    590\u001b[0m                             \u001b[0mfull_output\u001b[0m\u001b[0;34m=\u001b[0m\u001b[0mfull_output\u001b[0m\u001b[0;34m,\u001b[0m\u001b[0;34m\u001b[0m\u001b[0;34m\u001b[0m\u001b[0m\n\u001b[0;32m--> 591\u001b[0;31m                             disp=disp, callback=callback, **kwargs)\n\u001b[0m\u001b[1;32m    592\u001b[0m         \u001b[0;31m# use the proper result class\u001b[0m\u001b[0;34m\u001b[0m\u001b[0;34m\u001b[0m\u001b[0;34m\u001b[0m\u001b[0m\n\u001b[1;32m    593\u001b[0m         \u001b[0mordmlefit\u001b[0m \u001b[0;34m=\u001b[0m \u001b[0mOrderedResults\u001b[0m\u001b[0;34m(\u001b[0m\u001b[0mself\u001b[0m\u001b[0;34m,\u001b[0m \u001b[0mmlefit\u001b[0m\u001b[0;34m)\u001b[0m\u001b[0;34m\u001b[0m\u001b[0;34m\u001b[0m\u001b[0m\n",
      "\u001b[0;32m~/opt/anaconda3/lib/python3.7/site-packages/statsmodels/base/model.py\u001b[0m in \u001b[0;36mfit\u001b[0;34m(self, start_params, method, maxiter, full_output, disp, callback, retall, **kwargs)\u001b[0m\n\u001b[1;32m   1007\u001b[0m                             \u001b[0mmethod\u001b[0m\u001b[0;34m=\u001b[0m\u001b[0mmethod\u001b[0m\u001b[0;34m,\u001b[0m \u001b[0mmaxiter\u001b[0m\u001b[0;34m=\u001b[0m\u001b[0mmaxiter\u001b[0m\u001b[0;34m,\u001b[0m\u001b[0;34m\u001b[0m\u001b[0;34m\u001b[0m\u001b[0m\n\u001b[1;32m   1008\u001b[0m                             \u001b[0mfull_output\u001b[0m\u001b[0;34m=\u001b[0m\u001b[0mfull_output\u001b[0m\u001b[0;34m,\u001b[0m\u001b[0;34m\u001b[0m\u001b[0;34m\u001b[0m\u001b[0m\n\u001b[0;32m-> 1009\u001b[0;31m                             disp=disp, callback=callback, **kwargs)\n\u001b[0m\u001b[1;32m   1010\u001b[0m \u001b[0;34m\u001b[0m\u001b[0m\n\u001b[1;32m   1011\u001b[0m         results_class = getattr(self, 'results_class',\n",
      "\u001b[0;32m~/opt/anaconda3/lib/python3.7/site-packages/statsmodels/base/model.py\u001b[0m in \u001b[0;36mfit\u001b[0;34m(self, start_params, method, maxiter, full_output, disp, fargs, callback, retall, skip_hessian, **kwargs)\u001b[0m\n\u001b[1;32m    569\u001b[0m                                                        \u001b[0mcallback\u001b[0m\u001b[0;34m=\u001b[0m\u001b[0mcallback\u001b[0m\u001b[0;34m,\u001b[0m\u001b[0;34m\u001b[0m\u001b[0;34m\u001b[0m\u001b[0m\n\u001b[1;32m    570\u001b[0m                                                        \u001b[0mretall\u001b[0m\u001b[0;34m=\u001b[0m\u001b[0mretall\u001b[0m\u001b[0;34m,\u001b[0m\u001b[0;34m\u001b[0m\u001b[0;34m\u001b[0m\u001b[0m\n\u001b[0;32m--> 571\u001b[0;31m                                                        full_output=full_output)\n\u001b[0m\u001b[1;32m    572\u001b[0m         \u001b[0;31m# Restore cov_type, cov_kwds and use_t\u001b[0m\u001b[0;34m\u001b[0m\u001b[0;34m\u001b[0m\u001b[0;34m\u001b[0m\u001b[0m\n\u001b[1;32m    573\u001b[0m         \u001b[0moptim_settings\u001b[0m\u001b[0;34m.\u001b[0m\u001b[0mupdate\u001b[0m\u001b[0;34m(\u001b[0m\u001b[0mkwds\u001b[0m\u001b[0;34m)\u001b[0m\u001b[0;34m\u001b[0m\u001b[0;34m\u001b[0m\u001b[0m\n",
      "\u001b[0;32m~/opt/anaconda3/lib/python3.7/site-packages/statsmodels/base/optimizer.py\u001b[0m in \u001b[0;36m_fit\u001b[0;34m(self, objective, gradient, start_params, fargs, kwargs, hessian, method, maxiter, full_output, disp, callback, retall)\u001b[0m\n\u001b[1;32m    242\u001b[0m                              \u001b[0mdisp\u001b[0m\u001b[0;34m=\u001b[0m\u001b[0mdisp\u001b[0m\u001b[0;34m,\u001b[0m \u001b[0mmaxiter\u001b[0m\u001b[0;34m=\u001b[0m\u001b[0mmaxiter\u001b[0m\u001b[0;34m,\u001b[0m \u001b[0mcallback\u001b[0m\u001b[0;34m=\u001b[0m\u001b[0mcallback\u001b[0m\u001b[0;34m,\u001b[0m\u001b[0;34m\u001b[0m\u001b[0;34m\u001b[0m\u001b[0m\n\u001b[1;32m    243\u001b[0m                              \u001b[0mretall\u001b[0m\u001b[0;34m=\u001b[0m\u001b[0mretall\u001b[0m\u001b[0;34m,\u001b[0m \u001b[0mfull_output\u001b[0m\u001b[0;34m=\u001b[0m\u001b[0mfull_output\u001b[0m\u001b[0;34m,\u001b[0m\u001b[0;34m\u001b[0m\u001b[0;34m\u001b[0m\u001b[0m\n\u001b[0;32m--> 244\u001b[0;31m                              hess=hessian)\n\u001b[0m\u001b[1;32m    245\u001b[0m \u001b[0;34m\u001b[0m\u001b[0m\n\u001b[1;32m    246\u001b[0m         optim_settings = {'optimizer': method, 'start_params': start_params,\n",
      "\u001b[0;32m~/opt/anaconda3/lib/python3.7/site-packages/statsmodels/base/optimizer.py\u001b[0m in \u001b[0;36m_fit_bfgs\u001b[0;34m(f, score, start_params, fargs, kwargs, disp, maxiter, callback, retall, full_output, hess)\u001b[0m\n\u001b[1;32m    530\u001b[0m                                  \u001b[0mgtol\u001b[0m\u001b[0;34m=\u001b[0m\u001b[0mgtol\u001b[0m\u001b[0;34m,\u001b[0m \u001b[0mnorm\u001b[0m\u001b[0;34m=\u001b[0m\u001b[0mnorm\u001b[0m\u001b[0;34m,\u001b[0m \u001b[0mepsilon\u001b[0m\u001b[0;34m=\u001b[0m\u001b[0mepsilon\u001b[0m\u001b[0;34m,\u001b[0m\u001b[0;34m\u001b[0m\u001b[0;34m\u001b[0m\u001b[0m\n\u001b[1;32m    531\u001b[0m                                  \u001b[0mmaxiter\u001b[0m\u001b[0;34m=\u001b[0m\u001b[0mmaxiter\u001b[0m\u001b[0;34m,\u001b[0m \u001b[0mfull_output\u001b[0m\u001b[0;34m=\u001b[0m\u001b[0mfull_output\u001b[0m\u001b[0;34m,\u001b[0m\u001b[0;34m\u001b[0m\u001b[0;34m\u001b[0m\u001b[0m\n\u001b[0;32m--> 532\u001b[0;31m                                  disp=disp, retall=retall, callback=callback)\n\u001b[0m\u001b[1;32m    533\u001b[0m     \u001b[0;32mif\u001b[0m \u001b[0mfull_output\u001b[0m\u001b[0;34m:\u001b[0m\u001b[0;34m\u001b[0m\u001b[0;34m\u001b[0m\u001b[0m\n\u001b[1;32m    534\u001b[0m         \u001b[0;32mif\u001b[0m \u001b[0;32mnot\u001b[0m \u001b[0mretall\u001b[0m\u001b[0;34m:\u001b[0m\u001b[0;34m\u001b[0m\u001b[0;34m\u001b[0m\u001b[0m\n",
      "\u001b[0;32m~/opt/anaconda3/lib/python3.7/site-packages/scipy/optimize/optimize.py\u001b[0m in \u001b[0;36mfmin_bfgs\u001b[0;34m(f, x0, fprime, args, gtol, norm, epsilon, maxiter, full_output, disp, retall, callback)\u001b[0m\n\u001b[1;32m    950\u001b[0m             'return_all': retall}\n\u001b[1;32m    951\u001b[0m \u001b[0;34m\u001b[0m\u001b[0m\n\u001b[0;32m--> 952\u001b[0;31m     \u001b[0mres\u001b[0m \u001b[0;34m=\u001b[0m \u001b[0m_minimize_bfgs\u001b[0m\u001b[0;34m(\u001b[0m\u001b[0mf\u001b[0m\u001b[0;34m,\u001b[0m \u001b[0mx0\u001b[0m\u001b[0;34m,\u001b[0m \u001b[0margs\u001b[0m\u001b[0;34m,\u001b[0m \u001b[0mfprime\u001b[0m\u001b[0;34m,\u001b[0m \u001b[0mcallback\u001b[0m\u001b[0;34m=\u001b[0m\u001b[0mcallback\u001b[0m\u001b[0;34m,\u001b[0m \u001b[0;34m**\u001b[0m\u001b[0mopts\u001b[0m\u001b[0;34m)\u001b[0m\u001b[0;34m\u001b[0m\u001b[0;34m\u001b[0m\u001b[0m\n\u001b[0m\u001b[1;32m    953\u001b[0m \u001b[0;34m\u001b[0m\u001b[0m\n\u001b[1;32m    954\u001b[0m     \u001b[0;32mif\u001b[0m \u001b[0mfull_output\u001b[0m\u001b[0;34m:\u001b[0m\u001b[0;34m\u001b[0m\u001b[0;34m\u001b[0m\u001b[0m\n",
      "\u001b[0;32m~/opt/anaconda3/lib/python3.7/site-packages/scipy/optimize/optimize.py\u001b[0m in \u001b[0;36m_minimize_bfgs\u001b[0;34m(fun, x0, args, jac, callback, gtol, norm, eps, maxiter, disp, return_all, **unknown_options)\u001b[0m\n\u001b[1;32m   1001\u001b[0m     \u001b[0mfunc_calls\u001b[0m\u001b[0;34m,\u001b[0m \u001b[0mf\u001b[0m \u001b[0;34m=\u001b[0m \u001b[0mwrap_function\u001b[0m\u001b[0;34m(\u001b[0m\u001b[0mf\u001b[0m\u001b[0;34m,\u001b[0m \u001b[0margs\u001b[0m\u001b[0;34m)\u001b[0m\u001b[0;34m\u001b[0m\u001b[0;34m\u001b[0m\u001b[0m\n\u001b[1;32m   1002\u001b[0m \u001b[0;34m\u001b[0m\u001b[0m\n\u001b[0;32m-> 1003\u001b[0;31m     \u001b[0mold_fval\u001b[0m \u001b[0;34m=\u001b[0m \u001b[0mf\u001b[0m\u001b[0;34m(\u001b[0m\u001b[0mx0\u001b[0m\u001b[0;34m)\u001b[0m\u001b[0;34m\u001b[0m\u001b[0;34m\u001b[0m\u001b[0m\n\u001b[0m\u001b[1;32m   1004\u001b[0m \u001b[0;34m\u001b[0m\u001b[0m\n\u001b[1;32m   1005\u001b[0m     \u001b[0;32mif\u001b[0m \u001b[0mfprime\u001b[0m \u001b[0;32mis\u001b[0m \u001b[0;32mNone\u001b[0m\u001b[0;34m:\u001b[0m\u001b[0;34m\u001b[0m\u001b[0;34m\u001b[0m\u001b[0m\n",
      "\u001b[0;32m~/opt/anaconda3/lib/python3.7/site-packages/scipy/optimize/optimize.py\u001b[0m in \u001b[0;36mfunction_wrapper\u001b[0;34m(*wrapper_args)\u001b[0m\n\u001b[1;32m    325\u001b[0m     \u001b[0;32mdef\u001b[0m \u001b[0mfunction_wrapper\u001b[0m\u001b[0;34m(\u001b[0m\u001b[0;34m*\u001b[0m\u001b[0mwrapper_args\u001b[0m\u001b[0;34m)\u001b[0m\u001b[0;34m:\u001b[0m\u001b[0;34m\u001b[0m\u001b[0;34m\u001b[0m\u001b[0m\n\u001b[1;32m    326\u001b[0m         \u001b[0mncalls\u001b[0m\u001b[0;34m[\u001b[0m\u001b[0;36m0\u001b[0m\u001b[0;34m]\u001b[0m \u001b[0;34m+=\u001b[0m \u001b[0;36m1\u001b[0m\u001b[0;34m\u001b[0m\u001b[0;34m\u001b[0m\u001b[0m\n\u001b[0;32m--> 327\u001b[0;31m         \u001b[0;32mreturn\u001b[0m \u001b[0mfunction\u001b[0m\u001b[0;34m(\u001b[0m\u001b[0;34m*\u001b[0m\u001b[0;34m(\u001b[0m\u001b[0mwrapper_args\u001b[0m \u001b[0;34m+\u001b[0m \u001b[0margs\u001b[0m\u001b[0;34m)\u001b[0m\u001b[0;34m)\u001b[0m\u001b[0;34m\u001b[0m\u001b[0;34m\u001b[0m\u001b[0m\n\u001b[0m\u001b[1;32m    328\u001b[0m \u001b[0;34m\u001b[0m\u001b[0m\n\u001b[1;32m    329\u001b[0m     \u001b[0;32mreturn\u001b[0m \u001b[0mncalls\u001b[0m\u001b[0;34m,\u001b[0m \u001b[0mfunction_wrapper\u001b[0m\u001b[0;34m\u001b[0m\u001b[0;34m\u001b[0m\u001b[0m\n",
      "\u001b[0;32m~/opt/anaconda3/lib/python3.7/site-packages/statsmodels/base/model.py\u001b[0m in \u001b[0;36mf\u001b[0;34m(params, *args)\u001b[0m\n\u001b[1;32m    529\u001b[0m \u001b[0;34m\u001b[0m\u001b[0m\n\u001b[1;32m    530\u001b[0m         \u001b[0;32mdef\u001b[0m \u001b[0mf\u001b[0m\u001b[0;34m(\u001b[0m\u001b[0mparams\u001b[0m\u001b[0;34m,\u001b[0m \u001b[0;34m*\u001b[0m\u001b[0margs\u001b[0m\u001b[0;34m)\u001b[0m\u001b[0;34m:\u001b[0m\u001b[0;34m\u001b[0m\u001b[0;34m\u001b[0m\u001b[0m\n\u001b[0;32m--> 531\u001b[0;31m             \u001b[0;32mreturn\u001b[0m \u001b[0;34m-\u001b[0m\u001b[0mself\u001b[0m\u001b[0;34m.\u001b[0m\u001b[0mloglike\u001b[0m\u001b[0;34m(\u001b[0m\u001b[0mparams\u001b[0m\u001b[0;34m,\u001b[0m \u001b[0;34m*\u001b[0m\u001b[0margs\u001b[0m\u001b[0;34m)\u001b[0m \u001b[0;34m/\u001b[0m \u001b[0mnobs\u001b[0m\u001b[0;34m\u001b[0m\u001b[0;34m\u001b[0m\u001b[0m\n\u001b[0m\u001b[1;32m    532\u001b[0m \u001b[0;34m\u001b[0m\u001b[0m\n\u001b[1;32m    533\u001b[0m         \u001b[0;32mif\u001b[0m \u001b[0mmethod\u001b[0m \u001b[0;34m==\u001b[0m \u001b[0;34m'newton'\u001b[0m\u001b[0;34m:\u001b[0m\u001b[0;34m\u001b[0m\u001b[0;34m\u001b[0m\u001b[0m\n",
      "\u001b[0;32m~/opt/anaconda3/lib/python3.7/site-packages/statsmodels/miscmodels/ordinal_model.py\u001b[0m in \u001b[0;36mloglike\u001b[0;34m(self, params)\u001b[0m\n\u001b[1;32m    513\u001b[0m     \u001b[0;32mdef\u001b[0m \u001b[0mloglike\u001b[0m\u001b[0;34m(\u001b[0m\u001b[0mself\u001b[0m\u001b[0;34m,\u001b[0m \u001b[0mparams\u001b[0m\u001b[0;34m)\u001b[0m\u001b[0;34m:\u001b[0m\u001b[0;34m\u001b[0m\u001b[0;34m\u001b[0m\u001b[0m\n\u001b[1;32m    514\u001b[0m \u001b[0;34m\u001b[0m\u001b[0m\n\u001b[0;32m--> 515\u001b[0;31m         \u001b[0;32mreturn\u001b[0m \u001b[0mself\u001b[0m\u001b[0;34m.\u001b[0m\u001b[0mloglikeobs\u001b[0m\u001b[0;34m(\u001b[0m\u001b[0mparams\u001b[0m\u001b[0;34m)\u001b[0m\u001b[0;34m.\u001b[0m\u001b[0msum\u001b[0m\u001b[0;34m(\u001b[0m\u001b[0;34m)\u001b[0m\u001b[0;34m\u001b[0m\u001b[0;34m\u001b[0m\u001b[0m\n\u001b[0m\u001b[1;32m    516\u001b[0m \u001b[0;34m\u001b[0m\u001b[0m\n\u001b[1;32m    517\u001b[0m     \u001b[0;32mdef\u001b[0m \u001b[0mloglikeobs\u001b[0m\u001b[0;34m(\u001b[0m\u001b[0mself\u001b[0m\u001b[0;34m,\u001b[0m \u001b[0mparams\u001b[0m\u001b[0;34m)\u001b[0m\u001b[0;34m:\u001b[0m\u001b[0;34m\u001b[0m\u001b[0;34m\u001b[0m\u001b[0m\n",
      "\u001b[0;32m~/opt/anaconda3/lib/python3.7/site-packages/statsmodels/miscmodels/ordinal_model.py\u001b[0m in \u001b[0;36mloglikeobs\u001b[0;34m(self, params)\u001b[0m\n\u001b[1;32m    530\u001b[0m             \u001b[0mat\u001b[0m\u001b[0;31m \u001b[0m\u001b[0;31m`\u001b[0m\u001b[0;31m`\u001b[0m\u001b[0mparams\u001b[0m\u001b[0;31m`\u001b[0m\u001b[0;31m`\u001b[0m\u001b[0;34m.\u001b[0m\u001b[0;34m\u001b[0m\u001b[0;34m\u001b[0m\u001b[0m\n\u001b[1;32m    531\u001b[0m         \"\"\"\n\u001b[0;32m--> 532\u001b[0;31m         \u001b[0mlow\u001b[0m\u001b[0;34m,\u001b[0m \u001b[0mupp\u001b[0m \u001b[0;34m=\u001b[0m \u001b[0mself\u001b[0m\u001b[0;34m.\u001b[0m\u001b[0m_bounds\u001b[0m\u001b[0;34m(\u001b[0m\u001b[0mparams\u001b[0m\u001b[0;34m)\u001b[0m\u001b[0;34m\u001b[0m\u001b[0;34m\u001b[0m\u001b[0m\n\u001b[0m\u001b[1;32m    533\u001b[0m         \u001b[0mprob\u001b[0m \u001b[0;34m=\u001b[0m \u001b[0mself\u001b[0m\u001b[0;34m.\u001b[0m\u001b[0mprob\u001b[0m\u001b[0;34m(\u001b[0m\u001b[0mlow\u001b[0m\u001b[0;34m,\u001b[0m \u001b[0mupp\u001b[0m\u001b[0;34m)\u001b[0m\u001b[0;34m\u001b[0m\u001b[0;34m\u001b[0m\u001b[0m\n\u001b[1;32m    534\u001b[0m         \u001b[0;32mreturn\u001b[0m \u001b[0mnp\u001b[0m\u001b[0;34m.\u001b[0m\u001b[0mlog\u001b[0m\u001b[0;34m(\u001b[0m\u001b[0mprob\u001b[0m \u001b[0;34m+\u001b[0m \u001b[0;36m1e-20\u001b[0m\u001b[0;34m)\u001b[0m\u001b[0;34m\u001b[0m\u001b[0;34m\u001b[0m\u001b[0m\n",
      "\u001b[0;32m~/opt/anaconda3/lib/python3.7/site-packages/statsmodels/miscmodels/ordinal_model.py\u001b[0m in \u001b[0;36m_bounds\u001b[0;34m(self, params)\u001b[0m\n\u001b[1;32m    505\u001b[0m         \u001b[0mthresh_i_low\u001b[0m \u001b[0;34m=\u001b[0m \u001b[0mthresh\u001b[0m\u001b[0;34m[\u001b[0m\u001b[0mself\u001b[0m\u001b[0;34m.\u001b[0m\u001b[0mendog\u001b[0m\u001b[0;34m]\u001b[0m\u001b[0;34m\u001b[0m\u001b[0;34m\u001b[0m\u001b[0m\n\u001b[1;32m    506\u001b[0m         \u001b[0mthresh_i_upp\u001b[0m \u001b[0;34m=\u001b[0m \u001b[0mthresh\u001b[0m\u001b[0;34m[\u001b[0m\u001b[0mself\u001b[0m\u001b[0;34m.\u001b[0m\u001b[0mendog\u001b[0m \u001b[0;34m+\u001b[0m \u001b[0;36m1\u001b[0m\u001b[0;34m]\u001b[0m\u001b[0;34m\u001b[0m\u001b[0;34m\u001b[0m\u001b[0m\n\u001b[0;32m--> 507\u001b[0;31m         \u001b[0mxb\u001b[0m \u001b[0;34m=\u001b[0m \u001b[0mself\u001b[0m\u001b[0;34m.\u001b[0m\u001b[0m_linpred\u001b[0m\u001b[0;34m(\u001b[0m\u001b[0mparams\u001b[0m\u001b[0;34m)\u001b[0m\u001b[0;34m\u001b[0m\u001b[0;34m\u001b[0m\u001b[0m\n\u001b[0m\u001b[1;32m    508\u001b[0m         \u001b[0mlow\u001b[0m \u001b[0;34m=\u001b[0m \u001b[0mthresh_i_low\u001b[0m \u001b[0;34m-\u001b[0m \u001b[0mxb\u001b[0m\u001b[0;34m\u001b[0m\u001b[0;34m\u001b[0m\u001b[0m\n\u001b[1;32m    509\u001b[0m         \u001b[0mupp\u001b[0m \u001b[0;34m=\u001b[0m \u001b[0mthresh_i_upp\u001b[0m \u001b[0;34m-\u001b[0m \u001b[0mxb\u001b[0m\u001b[0;34m\u001b[0m\u001b[0;34m\u001b[0m\u001b[0m\n",
      "\u001b[0;32m~/opt/anaconda3/lib/python3.7/site-packages/statsmodels/miscmodels/ordinal_model.py\u001b[0m in \u001b[0;36m_linpred\u001b[0;34m(self, params, exog, offset)\u001b[0m\n\u001b[1;32m    464\u001b[0m \u001b[0;34m\u001b[0m\u001b[0m\n\u001b[1;32m    465\u001b[0m         \u001b[0;32mif\u001b[0m \u001b[0mexog\u001b[0m \u001b[0;32mis\u001b[0m \u001b[0;32mnot\u001b[0m \u001b[0;32mNone\u001b[0m\u001b[0;34m:\u001b[0m\u001b[0;34m\u001b[0m\u001b[0;34m\u001b[0m\u001b[0m\n\u001b[0;32m--> 466\u001b[0;31m             \u001b[0mlinpred\u001b[0m \u001b[0;34m=\u001b[0m \u001b[0mexog\u001b[0m\u001b[0;34m.\u001b[0m\u001b[0mdot\u001b[0m\u001b[0;34m(\u001b[0m\u001b[0mparams\u001b[0m\u001b[0;34m[\u001b[0m\u001b[0;34m:\u001b[0m\u001b[0;34m-\u001b[0m\u001b[0;34m(\u001b[0m\u001b[0mself\u001b[0m\u001b[0;34m.\u001b[0m\u001b[0mk_levels\u001b[0m \u001b[0;34m-\u001b[0m \u001b[0;36m1\u001b[0m\u001b[0;34m)\u001b[0m\u001b[0;34m]\u001b[0m\u001b[0;34m)\u001b[0m\u001b[0;34m\u001b[0m\u001b[0;34m\u001b[0m\u001b[0m\n\u001b[0m\u001b[1;32m    467\u001b[0m         \u001b[0;32melse\u001b[0m\u001b[0;34m:\u001b[0m  \u001b[0;31m# means self.exog is also None\u001b[0m\u001b[0;34m\u001b[0m\u001b[0;34m\u001b[0m\u001b[0m\n\u001b[1;32m    468\u001b[0m             \u001b[0mlinpred\u001b[0m \u001b[0;34m=\u001b[0m \u001b[0mnp\u001b[0m\u001b[0;34m.\u001b[0m\u001b[0mzeros\u001b[0m\u001b[0;34m(\u001b[0m\u001b[0mself\u001b[0m\u001b[0;34m.\u001b[0m\u001b[0mnobs\u001b[0m\u001b[0;34m)\u001b[0m\u001b[0;34m\u001b[0m\u001b[0;34m\u001b[0m\u001b[0m\n",
      "\u001b[0;31mValueError\u001b[0m: shapes (3,1) and (0,) not aligned: 1 (dim 1) != 0 (dim 0)"
     ]
    }
   ],
   "source": [
    "ordinalReg(df_survey_pol_gcm, ['degree'], 3)"
   ]
  },
  {
   "cell_type": "code",
   "execution_count": null,
   "metadata": {},
   "outputs": [],
   "source": [
    "ordinalReg(df_survey_pol_gcm, ['eigenvector'], 3)"
   ]
  },
  {
   "cell_type": "code",
   "execution_count": null,
   "metadata": {},
   "outputs": [],
   "source": [
    "ordinalReg(df_survey_pol_gcm, ['pagerank'], 3)"
   ]
  },
  {
   "cell_type": "markdown",
   "metadata": {},
   "source": [
    "### POTUS"
   ]
  },
  {
   "cell_type": "code",
   "execution_count": 31,
   "metadata": {},
   "outputs": [
    {
     "name": "stdout",
     "output_type": "stream",
     "text": [
      "Dataframe merged with shape: (48, 5)\n",
      "============================\n",
      "Rows with NaN values dropped: 0 from 19 => 0.0% \n",
      "Dataframe merged with shape: (19, 6)\n"
     ]
    }
   ],
   "source": [
    "# POTUS from the \"Category\": Presidents_of_the_United_States\n",
    "\n",
    "potus_result = catMerger(df_potus, df_ig_gcm)\n",
    "df_survey_potus = pd.read_csv(\"../data/survey_single_cat_files/sv_prep_uri/improved_uri/sv_potus_impr.csv\", sep=';')\n",
    "\n",
    "df_survey_potus_gcm = gcmSurfer(df_survey_potus, potus_result)"
   ]
  },
  {
   "cell_type": "code",
   "execution_count": 32,
   "metadata": {},
   "outputs": [
    {
     "name": "stdout",
     "output_type": "stream",
     "text": [
      "Ordinal Regression:  ['degree']\n",
      "-------------------------------------\n",
      "Optimization terminated successfully.\n",
      "         Current function value: 0.878801\n",
      "         Iterations: 9\n",
      "         Function evaluations: 10\n",
      "         Gradient evaluations: 10\n"
     ]
    },
    {
     "data": {
      "text/html": [
       "<table class=\"simpletable\">\n",
       "<caption>OrderedModel Results</caption>\n",
       "<tr>\n",
       "  <th>Dep. Variable:</th>           <td>camp</td>        <th>  Log-Likelihood:    </th> <td> -16.697</td>\n",
       "</tr>\n",
       "<tr>\n",
       "  <th>Model:</th>               <td>OrderedModel</td>    <th>  AIC:               </th> <td>   39.39</td>\n",
       "</tr>\n",
       "<tr>\n",
       "  <th>Method:</th>           <td>Maximum Likelihood</td> <th>  BIC:               </th> <td>   42.23</td>\n",
       "</tr>\n",
       "<tr>\n",
       "  <th>Date:</th>              <td>Tue, 19 Jul 2022</td>  <th>                     </th>     <td> </td>   \n",
       "</tr>\n",
       "<tr>\n",
       "  <th>Time:</th>                  <td>00:27:51</td>      <th>                     </th>     <td> </td>   \n",
       "</tr>\n",
       "<tr>\n",
       "  <th>No. Observations:</th>       <td>    19</td>       <th>                     </th>     <td> </td>   \n",
       "</tr>\n",
       "<tr>\n",
       "  <th>Df Residuals:</th>           <td>    16</td>       <th>                     </th>     <td> </td>   \n",
       "</tr>\n",
       "<tr>\n",
       "  <th>Df Model:</th>               <td>     3</td>       <th>                     </th>     <td> </td>   \n",
       "</tr>\n",
       "</table>\n",
       "<table class=\"simpletable\">\n",
       "<tr>\n",
       "     <td></td>        <th>coef</th>     <th>std err</th>      <th>z</th>      <th>P>|z|</th>  <th>[0.025</th>    <th>0.975]</th>  \n",
       "</tr>\n",
       "<tr>\n",
       "  <th>degree</th>  <td>   -0.7357</td> <td>    0.296</td> <td>   -2.485</td> <td> 0.013</td> <td>   -1.316</td> <td>   -0.155</td>\n",
       "</tr>\n",
       "<tr>\n",
       "  <th>1.0/2.0</th> <td>   -1.0442</td> <td>    0.391</td> <td>   -2.671</td> <td> 0.008</td> <td>   -1.810</td> <td>   -0.278</td>\n",
       "</tr>\n",
       "<tr>\n",
       "  <th>2.0/3.0</th> <td>    0.0740</td> <td>    0.353</td> <td>    0.209</td> <td> 0.834</td> <td>   -0.618</td> <td>    0.766</td>\n",
       "</tr>\n",
       "</table>"
      ],
      "text/plain": [
       "<class 'statsmodels.iolib.summary.Summary'>\n",
       "\"\"\"\n",
       "                             OrderedModel Results                             \n",
       "==============================================================================\n",
       "Dep. Variable:                   camp   Log-Likelihood:                -16.697\n",
       "Model:                   OrderedModel   AIC:                             39.39\n",
       "Method:            Maximum Likelihood   BIC:                             42.23\n",
       "Date:                Tue, 19 Jul 2022                                         \n",
       "Time:                        00:27:51                                         \n",
       "No. Observations:                  19                                         \n",
       "Df Residuals:                      16                                         \n",
       "Df Model:                           3                                         \n",
       "==============================================================================\n",
       "                 coef    std err          z      P>|z|      [0.025      0.975]\n",
       "------------------------------------------------------------------------------\n",
       "degree        -0.7357      0.296     -2.485      0.013      -1.316      -0.155\n",
       "1.0/2.0       -1.0442      0.391     -2.671      0.008      -1.810      -0.278\n",
       "2.0/3.0        0.0740      0.353      0.209      0.834      -0.618       0.766\n",
       "==============================================================================\n",
       "\"\"\""
      ]
     },
     "execution_count": 32,
     "metadata": {},
     "output_type": "execute_result"
    }
   ],
   "source": [
    "ordinalReg(df_survey_potus_gcm, ['degree'], 3)"
   ]
  },
  {
   "cell_type": "code",
   "execution_count": 33,
   "metadata": {},
   "outputs": [
    {
     "name": "stdout",
     "output_type": "stream",
     "text": [
      "Ordinal Regression:  ['eigenvector']\n",
      "-------------------------------------\n",
      "Optimization terminated successfully.\n",
      "         Current function value: 1.043551\n",
      "         Iterations: 8\n",
      "         Function evaluations: 9\n",
      "         Gradient evaluations: 9\n"
     ]
    },
    {
     "data": {
      "text/html": [
       "<table class=\"simpletable\">\n",
       "<caption>OrderedModel Results</caption>\n",
       "<tr>\n",
       "  <th>Dep. Variable:</th>           <td>camp</td>        <th>  Log-Likelihood:    </th> <td> -19.827</td>\n",
       "</tr>\n",
       "<tr>\n",
       "  <th>Model:</th>               <td>OrderedModel</td>    <th>  AIC:               </th> <td>   45.65</td>\n",
       "</tr>\n",
       "<tr>\n",
       "  <th>Method:</th>           <td>Maximum Likelihood</td> <th>  BIC:               </th> <td>   48.49</td>\n",
       "</tr>\n",
       "<tr>\n",
       "  <th>Date:</th>              <td>Tue, 19 Jul 2022</td>  <th>                     </th>     <td> </td>   \n",
       "</tr>\n",
       "<tr>\n",
       "  <th>Time:</th>                  <td>00:27:51</td>      <th>                     </th>     <td> </td>   \n",
       "</tr>\n",
       "<tr>\n",
       "  <th>No. Observations:</th>       <td>    19</td>       <th>                     </th>     <td> </td>   \n",
       "</tr>\n",
       "<tr>\n",
       "  <th>Df Residuals:</th>           <td>    16</td>       <th>                     </th>     <td> </td>   \n",
       "</tr>\n",
       "<tr>\n",
       "  <th>Df Model:</th>               <td>     3</td>       <th>                     </th>     <td> </td>   \n",
       "</tr>\n",
       "</table>\n",
       "<table class=\"simpletable\">\n",
       "<tr>\n",
       "       <td></td>          <th>coef</th>     <th>std err</th>      <th>z</th>      <th>P>|z|</th>  <th>[0.025</th>    <th>0.975]</th>  \n",
       "</tr>\n",
       "<tr>\n",
       "  <th>eigenvector</th> <td>    0.3597</td> <td>    0.323</td> <td>    1.113</td> <td> 0.266</td> <td>   -0.274</td> <td>    0.993</td>\n",
       "</tr>\n",
       "<tr>\n",
       "  <th>1.0/2.0</th>     <td>   -0.4462</td> <td>    0.307</td> <td>   -1.454</td> <td> 0.146</td> <td>   -1.048</td> <td>    0.155</td>\n",
       "</tr>\n",
       "<tr>\n",
       "  <th>2.0/3.0</th>     <td>   -0.1455</td> <td>    0.355</td> <td>   -0.409</td> <td> 0.682</td> <td>   -0.842</td> <td>    0.551</td>\n",
       "</tr>\n",
       "</table>"
      ],
      "text/plain": [
       "<class 'statsmodels.iolib.summary.Summary'>\n",
       "\"\"\"\n",
       "                             OrderedModel Results                             \n",
       "==============================================================================\n",
       "Dep. Variable:                   camp   Log-Likelihood:                -19.827\n",
       "Model:                   OrderedModel   AIC:                             45.65\n",
       "Method:            Maximum Likelihood   BIC:                             48.49\n",
       "Date:                Tue, 19 Jul 2022                                         \n",
       "Time:                        00:27:51                                         \n",
       "No. Observations:                  19                                         \n",
       "Df Residuals:                      16                                         \n",
       "Df Model:                           3                                         \n",
       "===============================================================================\n",
       "                  coef    std err          z      P>|z|      [0.025      0.975]\n",
       "-------------------------------------------------------------------------------\n",
       "eigenvector     0.3597      0.323      1.113      0.266      -0.274       0.993\n",
       "1.0/2.0        -0.4462      0.307     -1.454      0.146      -1.048       0.155\n",
       "2.0/3.0        -0.1455      0.355     -0.409      0.682      -0.842       0.551\n",
       "===============================================================================\n",
       "\"\"\""
      ]
     },
     "execution_count": 33,
     "metadata": {},
     "output_type": "execute_result"
    }
   ],
   "source": [
    "ordinalReg(df_survey_potus_gcm, ['eigenvector'], 3)"
   ]
  },
  {
   "cell_type": "code",
   "execution_count": 34,
   "metadata": {},
   "outputs": [
    {
     "name": "stdout",
     "output_type": "stream",
     "text": [
      "Ordinal Regression:  ['pagerank']\n",
      "-------------------------------------\n",
      "Optimization terminated successfully.\n",
      "         Current function value: 0.876059\n",
      "         Iterations: 9\n",
      "         Function evaluations: 10\n",
      "         Gradient evaluations: 10\n"
     ]
    },
    {
     "data": {
      "text/html": [
       "<table class=\"simpletable\">\n",
       "<caption>OrderedModel Results</caption>\n",
       "<tr>\n",
       "  <th>Dep. Variable:</th>           <td>camp</td>        <th>  Log-Likelihood:    </th> <td> -16.645</td>\n",
       "</tr>\n",
       "<tr>\n",
       "  <th>Model:</th>               <td>OrderedModel</td>    <th>  AIC:               </th> <td>   39.29</td>\n",
       "</tr>\n",
       "<tr>\n",
       "  <th>Method:</th>           <td>Maximum Likelihood</td> <th>  BIC:               </th> <td>   42.12</td>\n",
       "</tr>\n",
       "<tr>\n",
       "  <th>Date:</th>              <td>Tue, 19 Jul 2022</td>  <th>                     </th>     <td> </td>   \n",
       "</tr>\n",
       "<tr>\n",
       "  <th>Time:</th>                  <td>00:27:52</td>      <th>                     </th>     <td> </td>   \n",
       "</tr>\n",
       "<tr>\n",
       "  <th>No. Observations:</th>       <td>    19</td>       <th>                     </th>     <td> </td>   \n",
       "</tr>\n",
       "<tr>\n",
       "  <th>Df Residuals:</th>           <td>    16</td>       <th>                     </th>     <td> </td>   \n",
       "</tr>\n",
       "<tr>\n",
       "  <th>Df Model:</th>               <td>     3</td>       <th>                     </th>     <td> </td>   \n",
       "</tr>\n",
       "</table>\n",
       "<table class=\"simpletable\">\n",
       "<tr>\n",
       "      <td></td>        <th>coef</th>     <th>std err</th>      <th>z</th>      <th>P>|z|</th>  <th>[0.025</th>    <th>0.975]</th>  \n",
       "</tr>\n",
       "<tr>\n",
       "  <th>pagerank</th> <td>   -0.7389</td> <td>    0.297</td> <td>   -2.492</td> <td> 0.013</td> <td>   -1.320</td> <td>   -0.158</td>\n",
       "</tr>\n",
       "<tr>\n",
       "  <th>1.0/2.0</th>  <td>   -1.0416</td> <td>    0.390</td> <td>   -2.668</td> <td> 0.008</td> <td>   -1.807</td> <td>   -0.276</td>\n",
       "</tr>\n",
       "<tr>\n",
       "  <th>2.0/3.0</th>  <td>    0.0778</td> <td>    0.353</td> <td>    0.220</td> <td> 0.826</td> <td>   -0.615</td> <td>    0.770</td>\n",
       "</tr>\n",
       "</table>"
      ],
      "text/plain": [
       "<class 'statsmodels.iolib.summary.Summary'>\n",
       "\"\"\"\n",
       "                             OrderedModel Results                             \n",
       "==============================================================================\n",
       "Dep. Variable:                   camp   Log-Likelihood:                -16.645\n",
       "Model:                   OrderedModel   AIC:                             39.29\n",
       "Method:            Maximum Likelihood   BIC:                             42.12\n",
       "Date:                Tue, 19 Jul 2022                                         \n",
       "Time:                        00:27:52                                         \n",
       "No. Observations:                  19                                         \n",
       "Df Residuals:                      16                                         \n",
       "Df Model:                           3                                         \n",
       "==============================================================================\n",
       "                 coef    std err          z      P>|z|      [0.025      0.975]\n",
       "------------------------------------------------------------------------------\n",
       "pagerank      -0.7389      0.297     -2.492      0.013      -1.320      -0.158\n",
       "1.0/2.0       -1.0416      0.390     -2.668      0.008      -1.807      -0.276\n",
       "2.0/3.0        0.0778      0.353      0.220      0.826      -0.615       0.770\n",
       "==============================================================================\n",
       "\"\"\""
      ]
     },
     "execution_count": 34,
     "metadata": {},
     "output_type": "execute_result"
    }
   ],
   "source": [
    "ordinalReg(df_survey_potus_gcm, ['pagerank'], 3)"
   ]
  },
  {
   "cell_type": "markdown",
   "metadata": {},
   "source": [
    "## Cities"
   ]
  },
  {
   "cell_type": "code",
   "execution_count": 35,
   "metadata": {},
   "outputs": [
    {
     "name": "stdout",
     "output_type": "stream",
     "text": [
      "Dataframe merged with shape: (10000, 5)\n",
      "============================\n",
      "Rows with NaN values dropped: 82 from 90 => 91.11% \n",
      "Dataframe merged with shape: (8, 6)\n"
     ]
    }
   ],
   "source": [
    "# Cities from the \"Category\": \"dbo:City\"\n",
    "\n",
    "city_result = catMerger(df_city, df_ig_gcm)\n",
    "df_survey_city = pd.read_csv(\"../data/survey_single_cat_files/sv_prep_uri/improved_uri/sv_cities_impr.csv\", sep=';')\n",
    "\n",
    "df_city_survey_gcm = gcmSurfer(df_survey_city, city_result)"
   ]
  },
  {
   "cell_type": "code",
   "execution_count": 36,
   "metadata": {},
   "outputs": [
    {
     "name": "stdout",
     "output_type": "stream",
     "text": [
      "Ordinal Regression:  ['degree']\n",
      "-------------------------------------\n",
      "Optimization terminated successfully.\n",
      "         Current function value: 0.000000\n",
      "         Iterations: 21\n",
      "         Function evaluations: 24\n",
      "         Gradient evaluations: 24\n"
     ]
    },
    {
     "data": {
      "text/html": [
       "<table class=\"simpletable\">\n",
       "<caption>OrderedModel Results</caption>\n",
       "<tr>\n",
       "  <th>Dep. Variable:</th>           <td>camp</td>        <th>  Log-Likelihood:    </th> <td>-7.6738e-07</td>\n",
       "</tr>\n",
       "<tr>\n",
       "  <th>Model:</th>               <td>OrderedModel</td>    <th>  AIC:               </th>  <td>   4.000</td>  \n",
       "</tr>\n",
       "<tr>\n",
       "  <th>Method:</th>           <td>Maximum Likelihood</td> <th>  BIC:               </th>  <td>   4.159</td>  \n",
       "</tr>\n",
       "<tr>\n",
       "  <th>Date:</th>              <td>Tue, 19 Jul 2022</td>  <th>                     </th>      <td> </td>     \n",
       "</tr>\n",
       "<tr>\n",
       "  <th>Time:</th>                  <td>00:28:13</td>      <th>                     </th>      <td> </td>     \n",
       "</tr>\n",
       "<tr>\n",
       "  <th>No. Observations:</th>       <td>     8</td>       <th>                     </th>      <td> </td>     \n",
       "</tr>\n",
       "<tr>\n",
       "  <th>Df Residuals:</th>           <td>     6</td>       <th>                     </th>      <td> </td>     \n",
       "</tr>\n",
       "<tr>\n",
       "  <th>Df Model:</th>               <td>     2</td>       <th>                     </th>      <td> </td>     \n",
       "</tr>\n",
       "</table>\n",
       "<table class=\"simpletable\">\n",
       "<tr>\n",
       "     <td></td>        <th>coef</th>     <th>std err</th>      <th>z</th>      <th>P>|z|</th>  <th>[0.025</th>    <th>0.975]</th>  \n",
       "</tr>\n",
       "<tr>\n",
       "  <th>degree</th>  <td>   -0.2077</td> <td>   28.153</td> <td>   -0.007</td> <td> 0.994</td> <td>  -55.387</td> <td>   54.971</td>\n",
       "</tr>\n",
       "<tr>\n",
       "  <th>2.0/3.0</th> <td>   -7.9880</td> <td>  524.268</td> <td>   -0.015</td> <td> 0.988</td> <td>-1035.534</td> <td> 1019.558</td>\n",
       "</tr>\n",
       "</table>"
      ],
      "text/plain": [
       "<class 'statsmodels.iolib.summary.Summary'>\n",
       "\"\"\"\n",
       "                             OrderedModel Results                             \n",
       "==============================================================================\n",
       "Dep. Variable:                   camp   Log-Likelihood:            -7.6738e-07\n",
       "Model:                   OrderedModel   AIC:                             4.000\n",
       "Method:            Maximum Likelihood   BIC:                             4.159\n",
       "Date:                Tue, 19 Jul 2022                                         \n",
       "Time:                        00:28:13                                         \n",
       "No. Observations:                   8                                         \n",
       "Df Residuals:                       6                                         \n",
       "Df Model:                           2                                         \n",
       "==============================================================================\n",
       "                 coef    std err          z      P>|z|      [0.025      0.975]\n",
       "------------------------------------------------------------------------------\n",
       "degree        -0.2077     28.153     -0.007      0.994     -55.387      54.971\n",
       "2.0/3.0       -7.9880    524.268     -0.015      0.988   -1035.534    1019.558\n",
       "==============================================================================\n",
       "\"\"\""
      ]
     },
     "execution_count": 36,
     "metadata": {},
     "output_type": "execute_result"
    }
   ],
   "source": [
    "ordinalReg(df_city_survey_gcm, ['degree'], 3)"
   ]
  },
  {
   "cell_type": "code",
   "execution_count": 37,
   "metadata": {},
   "outputs": [
    {
     "name": "stdout",
     "output_type": "stream",
     "text": [
      "Ordinal Regression:  ['eigenvector']\n",
      "-------------------------------------\n",
      "Optimization terminated successfully.\n",
      "         Current function value: 0.349386\n",
      "         Iterations: 7\n",
      "         Function evaluations: 9\n",
      "         Gradient evaluations: 9\n"
     ]
    },
    {
     "data": {
      "text/html": [
       "<table class=\"simpletable\">\n",
       "<caption>OrderedModel Results</caption>\n",
       "<tr>\n",
       "  <th>Dep. Variable:</th>           <td>camp</td>        <th>  Log-Likelihood:    </th> <td> -2.7951</td>\n",
       "</tr>\n",
       "<tr>\n",
       "  <th>Model:</th>               <td>OrderedModel</td>    <th>  AIC:               </th> <td>   9.590</td>\n",
       "</tr>\n",
       "<tr>\n",
       "  <th>Method:</th>           <td>Maximum Likelihood</td> <th>  BIC:               </th> <td>   9.749</td>\n",
       "</tr>\n",
       "<tr>\n",
       "  <th>Date:</th>              <td>Tue, 19 Jul 2022</td>  <th>                     </th>     <td> </td>   \n",
       "</tr>\n",
       "<tr>\n",
       "  <th>Time:</th>                  <td>00:28:14</td>      <th>                     </th>     <td> </td>   \n",
       "</tr>\n",
       "<tr>\n",
       "  <th>No. Observations:</th>       <td>     8</td>       <th>                     </th>     <td> </td>   \n",
       "</tr>\n",
       "<tr>\n",
       "  <th>Df Residuals:</th>           <td>     6</td>       <th>                     </th>     <td> </td>   \n",
       "</tr>\n",
       "<tr>\n",
       "  <th>Df Model:</th>               <td>     2</td>       <th>                     </th>     <td> </td>   \n",
       "</tr>\n",
       "</table>\n",
       "<table class=\"simpletable\">\n",
       "<tr>\n",
       "       <td></td>          <th>coef</th>     <th>std err</th>      <th>z</th>      <th>P>|z|</th>  <th>[0.025</th>    <th>0.975]</th>  \n",
       "</tr>\n",
       "<tr>\n",
       "  <th>eigenvector</th> <td>   -0.0591</td> <td>    0.087</td> <td>   -0.680</td> <td> 0.497</td> <td>   -0.229</td> <td>    0.111</td>\n",
       "</tr>\n",
       "<tr>\n",
       "  <th>2.0/3.0</th>     <td>   -1.4985</td> <td>    0.836</td> <td>   -1.792</td> <td> 0.073</td> <td>   -3.137</td> <td>    0.140</td>\n",
       "</tr>\n",
       "</table>"
      ],
      "text/plain": [
       "<class 'statsmodels.iolib.summary.Summary'>\n",
       "\"\"\"\n",
       "                             OrderedModel Results                             \n",
       "==============================================================================\n",
       "Dep. Variable:                   camp   Log-Likelihood:                -2.7951\n",
       "Model:                   OrderedModel   AIC:                             9.590\n",
       "Method:            Maximum Likelihood   BIC:                             9.749\n",
       "Date:                Tue, 19 Jul 2022                                         \n",
       "Time:                        00:28:14                                         \n",
       "No. Observations:                   8                                         \n",
       "Df Residuals:                       6                                         \n",
       "Df Model:                           2                                         \n",
       "===============================================================================\n",
       "                  coef    std err          z      P>|z|      [0.025      0.975]\n",
       "-------------------------------------------------------------------------------\n",
       "eigenvector    -0.0591      0.087     -0.680      0.497      -0.229       0.111\n",
       "2.0/3.0        -1.4985      0.836     -1.792      0.073      -3.137       0.140\n",
       "===============================================================================\n",
       "\"\"\""
      ]
     },
     "execution_count": 37,
     "metadata": {},
     "output_type": "execute_result"
    }
   ],
   "source": [
    "ordinalReg(df_city_survey_gcm, ['eigenvector'], 3)"
   ]
  },
  {
   "cell_type": "code",
   "execution_count": 38,
   "metadata": {},
   "outputs": [
    {
     "name": "stdout",
     "output_type": "stream",
     "text": [
      "Ordinal Regression:  ['pagerank']\n",
      "-------------------------------------\n",
      "Optimization terminated successfully.\n",
      "         Current function value: 0.000000\n",
      "         Iterations: 21\n",
      "         Function evaluations: 24\n",
      "         Gradient evaluations: 24\n"
     ]
    },
    {
     "data": {
      "text/html": [
       "<table class=\"simpletable\">\n",
       "<caption>OrderedModel Results</caption>\n",
       "<tr>\n",
       "  <th>Dep. Variable:</th>           <td>camp</td>        <th>  Log-Likelihood:    </th> <td>-7.8105e-07</td>\n",
       "</tr>\n",
       "<tr>\n",
       "  <th>Model:</th>               <td>OrderedModel</td>    <th>  AIC:               </th>  <td>   4.000</td>  \n",
       "</tr>\n",
       "<tr>\n",
       "  <th>Method:</th>           <td>Maximum Likelihood</td> <th>  BIC:               </th>  <td>   4.159</td>  \n",
       "</tr>\n",
       "<tr>\n",
       "  <th>Date:</th>              <td>Tue, 19 Jul 2022</td>  <th>                     </th>      <td> </td>     \n",
       "</tr>\n",
       "<tr>\n",
       "  <th>Time:</th>                  <td>00:28:15</td>      <th>                     </th>      <td> </td>     \n",
       "</tr>\n",
       "<tr>\n",
       "  <th>No. Observations:</th>       <td>     8</td>       <th>                     </th>      <td> </td>     \n",
       "</tr>\n",
       "<tr>\n",
       "  <th>Df Residuals:</th>           <td>     6</td>       <th>                     </th>      <td> </td>     \n",
       "</tr>\n",
       "<tr>\n",
       "  <th>Df Model:</th>               <td>     2</td>       <th>                     </th>      <td> </td>     \n",
       "</tr>\n",
       "</table>\n",
       "<table class=\"simpletable\">\n",
       "<tr>\n",
       "      <td></td>        <th>coef</th>     <th>std err</th>      <th>z</th>      <th>P>|z|</th>  <th>[0.025</th>    <th>0.975]</th>  \n",
       "</tr>\n",
       "<tr>\n",
       "  <th>pagerank</th> <td>   -0.2012</td> <td>   29.717</td> <td>   -0.007</td> <td> 0.995</td> <td>  -58.446</td> <td>   58.044</td>\n",
       "</tr>\n",
       "<tr>\n",
       "  <th>2.0/3.0</th>  <td>   -8.0573</td> <td>  564.575</td> <td>   -0.014</td> <td> 0.989</td> <td>-1114.604</td> <td> 1098.489</td>\n",
       "</tr>\n",
       "</table>"
      ],
      "text/plain": [
       "<class 'statsmodels.iolib.summary.Summary'>\n",
       "\"\"\"\n",
       "                             OrderedModel Results                             \n",
       "==============================================================================\n",
       "Dep. Variable:                   camp   Log-Likelihood:            -7.8105e-07\n",
       "Model:                   OrderedModel   AIC:                             4.000\n",
       "Method:            Maximum Likelihood   BIC:                             4.159\n",
       "Date:                Tue, 19 Jul 2022                                         \n",
       "Time:                        00:28:15                                         \n",
       "No. Observations:                   8                                         \n",
       "Df Residuals:                       6                                         \n",
       "Df Model:                           2                                         \n",
       "==============================================================================\n",
       "                 coef    std err          z      P>|z|      [0.025      0.975]\n",
       "------------------------------------------------------------------------------\n",
       "pagerank      -0.2012     29.717     -0.007      0.995     -58.446      58.044\n",
       "2.0/3.0       -8.0573    564.575     -0.014      0.989   -1114.604    1098.489\n",
       "==============================================================================\n",
       "\"\"\""
      ]
     },
     "execution_count": 38,
     "metadata": {},
     "output_type": "execute_result"
    }
   ],
   "source": [
    "ordinalReg(df_city_survey_gcm, ['pagerank'], 3)"
   ]
  },
  {
   "cell_type": "markdown",
   "metadata": {},
   "source": [
    "## Lakes"
   ]
  },
  {
   "cell_type": "code",
   "execution_count": 39,
   "metadata": {},
   "outputs": [
    {
     "name": "stdout",
     "output_type": "stream",
     "text": [
      "Dataframe merged with shape: (10000, 5)\n",
      "============================\n",
      "Rows with NaN values dropped: 42 from 80 => 52.5% \n",
      "Dataframe merged with shape: (38, 6)\n"
     ]
    }
   ],
   "source": [
    "# Lakes from the \"Category\": \"dbo:Lake\"\n",
    "\n",
    "lake_result = catMerger(df_lake, df_ig_gcm)\n",
    "df_survey_lake = pd.read_csv(\"../data/survey_single_cat_files/sv_prep_uri/sv_lakes_prep.csv\", sep=';')\n",
    "\n",
    "df_lake_survey_gcm = gcmSurfer(df_survey_lake, lake_result)"
   ]
  },
  {
   "cell_type": "code",
   "execution_count": 40,
   "metadata": {},
   "outputs": [
    {
     "name": "stdout",
     "output_type": "stream",
     "text": [
      "Ordinal Regression:  ['degree']\n",
      "-------------------------------------\n",
      "Optimization terminated successfully.\n",
      "         Current function value: 0.937639\n",
      "         Iterations: 9\n",
      "         Function evaluations: 11\n",
      "         Gradient evaluations: 11\n"
     ]
    },
    {
     "data": {
      "text/html": [
       "<table class=\"simpletable\">\n",
       "<caption>OrderedModel Results</caption>\n",
       "<tr>\n",
       "  <th>Dep. Variable:</th>           <td>camp</td>        <th>  Log-Likelihood:    </th> <td> -35.630</td>\n",
       "</tr>\n",
       "<tr>\n",
       "  <th>Model:</th>               <td>OrderedModel</td>    <th>  AIC:               </th> <td>   77.26</td>\n",
       "</tr>\n",
       "<tr>\n",
       "  <th>Method:</th>           <td>Maximum Likelihood</td> <th>  BIC:               </th> <td>   82.17</td>\n",
       "</tr>\n",
       "<tr>\n",
       "  <th>Date:</th>              <td>Tue, 19 Jul 2022</td>  <th>                     </th>     <td> </td>   \n",
       "</tr>\n",
       "<tr>\n",
       "  <th>Time:</th>                  <td>00:28:29</td>      <th>                     </th>     <td> </td>   \n",
       "</tr>\n",
       "<tr>\n",
       "  <th>No. Observations:</th>       <td>    38</td>       <th>                     </th>     <td> </td>   \n",
       "</tr>\n",
       "<tr>\n",
       "  <th>Df Residuals:</th>           <td>    35</td>       <th>                     </th>     <td> </td>   \n",
       "</tr>\n",
       "<tr>\n",
       "  <th>Df Model:</th>               <td>     3</td>       <th>                     </th>     <td> </td>   \n",
       "</tr>\n",
       "</table>\n",
       "<table class=\"simpletable\">\n",
       "<tr>\n",
       "     <td></td>        <th>coef</th>     <th>std err</th>      <th>z</th>      <th>P>|z|</th>  <th>[0.025</th>    <th>0.975]</th>  \n",
       "</tr>\n",
       "<tr>\n",
       "  <th>degree</th>  <td>   -0.1194</td> <td>    0.056</td> <td>   -2.118</td> <td> 0.034</td> <td>   -0.230</td> <td>   -0.009</td>\n",
       "</tr>\n",
       "<tr>\n",
       "  <th>1.0/2.0</th> <td>   -1.1166</td> <td>    0.281</td> <td>   -3.967</td> <td> 0.000</td> <td>   -1.668</td> <td>   -0.565</td>\n",
       "</tr>\n",
       "<tr>\n",
       "  <th>2.0/3.0</th> <td>   -0.3059</td> <td>    0.299</td> <td>   -1.022</td> <td> 0.307</td> <td>   -0.892</td> <td>    0.281</td>\n",
       "</tr>\n",
       "</table>"
      ],
      "text/plain": [
       "<class 'statsmodels.iolib.summary.Summary'>\n",
       "\"\"\"\n",
       "                             OrderedModel Results                             \n",
       "==============================================================================\n",
       "Dep. Variable:                   camp   Log-Likelihood:                -35.630\n",
       "Model:                   OrderedModel   AIC:                             77.26\n",
       "Method:            Maximum Likelihood   BIC:                             82.17\n",
       "Date:                Tue, 19 Jul 2022                                         \n",
       "Time:                        00:28:29                                         \n",
       "No. Observations:                  38                                         \n",
       "Df Residuals:                      35                                         \n",
       "Df Model:                           3                                         \n",
       "==============================================================================\n",
       "                 coef    std err          z      P>|z|      [0.025      0.975]\n",
       "------------------------------------------------------------------------------\n",
       "degree        -0.1194      0.056     -2.118      0.034      -0.230      -0.009\n",
       "1.0/2.0       -1.1166      0.281     -3.967      0.000      -1.668      -0.565\n",
       "2.0/3.0       -0.3059      0.299     -1.022      0.307      -0.892       0.281\n",
       "==============================================================================\n",
       "\"\"\""
      ]
     },
     "execution_count": 40,
     "metadata": {},
     "output_type": "execute_result"
    }
   ],
   "source": [
    "ordinalReg(df_lake_survey_gcm, ['degree'], 3)"
   ]
  },
  {
   "cell_type": "code",
   "execution_count": 41,
   "metadata": {},
   "outputs": [
    {
     "name": "stdout",
     "output_type": "stream",
     "text": [
      "Ordinal Regression:  ['eigenvector']\n",
      "-------------------------------------\n",
      "Optimization terminated successfully.\n",
      "         Current function value: 0.962901\n",
      "         Iterations: 8\n",
      "         Function evaluations: 10\n",
      "         Gradient evaluations: 10\n"
     ]
    },
    {
     "data": {
      "text/html": [
       "<table class=\"simpletable\">\n",
       "<caption>OrderedModel Results</caption>\n",
       "<tr>\n",
       "  <th>Dep. Variable:</th>           <td>camp</td>        <th>  Log-Likelihood:    </th> <td> -36.590</td>\n",
       "</tr>\n",
       "<tr>\n",
       "  <th>Model:</th>               <td>OrderedModel</td>    <th>  AIC:               </th> <td>   79.18</td>\n",
       "</tr>\n",
       "<tr>\n",
       "  <th>Method:</th>           <td>Maximum Likelihood</td> <th>  BIC:               </th> <td>   84.09</td>\n",
       "</tr>\n",
       "<tr>\n",
       "  <th>Date:</th>              <td>Tue, 19 Jul 2022</td>  <th>                     </th>     <td> </td>   \n",
       "</tr>\n",
       "<tr>\n",
       "  <th>Time:</th>                  <td>00:28:29</td>      <th>                     </th>     <td> </td>   \n",
       "</tr>\n",
       "<tr>\n",
       "  <th>No. Observations:</th>       <td>    38</td>       <th>                     </th>     <td> </td>   \n",
       "</tr>\n",
       "<tr>\n",
       "  <th>Df Residuals:</th>           <td>    35</td>       <th>                     </th>     <td> </td>   \n",
       "</tr>\n",
       "<tr>\n",
       "  <th>Df Model:</th>               <td>     3</td>       <th>                     </th>     <td> </td>   \n",
       "</tr>\n",
       "</table>\n",
       "<table class=\"simpletable\">\n",
       "<tr>\n",
       "       <td></td>          <th>coef</th>     <th>std err</th>      <th>z</th>      <th>P>|z|</th>  <th>[0.025</th>    <th>0.975]</th>  \n",
       "</tr>\n",
       "<tr>\n",
       "  <th>eigenvector</th> <td>   -0.1993</td> <td>    0.125</td> <td>   -1.598</td> <td> 0.110</td> <td>   -0.444</td> <td>    0.045</td>\n",
       "</tr>\n",
       "<tr>\n",
       "  <th>1.0/2.0</th>     <td>   -1.0139</td> <td>    0.267</td> <td>   -3.793</td> <td> 0.000</td> <td>   -1.538</td> <td>   -0.490</td>\n",
       "</tr>\n",
       "<tr>\n",
       "  <th>2.0/3.0</th>     <td>   -0.3526</td> <td>    0.298</td> <td>   -1.182</td> <td> 0.237</td> <td>   -0.937</td> <td>    0.232</td>\n",
       "</tr>\n",
       "</table>"
      ],
      "text/plain": [
       "<class 'statsmodels.iolib.summary.Summary'>\n",
       "\"\"\"\n",
       "                             OrderedModel Results                             \n",
       "==============================================================================\n",
       "Dep. Variable:                   camp   Log-Likelihood:                -36.590\n",
       "Model:                   OrderedModel   AIC:                             79.18\n",
       "Method:            Maximum Likelihood   BIC:                             84.09\n",
       "Date:                Tue, 19 Jul 2022                                         \n",
       "Time:                        00:28:29                                         \n",
       "No. Observations:                  38                                         \n",
       "Df Residuals:                      35                                         \n",
       "Df Model:                           3                                         \n",
       "===============================================================================\n",
       "                  coef    std err          z      P>|z|      [0.025      0.975]\n",
       "-------------------------------------------------------------------------------\n",
       "eigenvector    -0.1993      0.125     -1.598      0.110      -0.444       0.045\n",
       "1.0/2.0        -1.0139      0.267     -3.793      0.000      -1.538      -0.490\n",
       "2.0/3.0        -0.3526      0.298     -1.182      0.237      -0.937       0.232\n",
       "===============================================================================\n",
       "\"\"\""
      ]
     },
     "execution_count": 41,
     "metadata": {},
     "output_type": "execute_result"
    }
   ],
   "source": [
    "ordinalReg(df_lake_survey_gcm, ['eigenvector'], 3)"
   ]
  },
  {
   "cell_type": "code",
   "execution_count": 42,
   "metadata": {},
   "outputs": [
    {
     "name": "stdout",
     "output_type": "stream",
     "text": [
      "Ordinal Regression:  ['pagerank']\n",
      "-------------------------------------\n",
      "Optimization terminated successfully.\n",
      "         Current function value: 0.946526\n",
      "         Iterations: 9\n",
      "         Function evaluations: 11\n",
      "         Gradient evaluations: 11\n"
     ]
    },
    {
     "data": {
      "text/html": [
       "<table class=\"simpletable\">\n",
       "<caption>OrderedModel Results</caption>\n",
       "<tr>\n",
       "  <th>Dep. Variable:</th>           <td>camp</td>        <th>  Log-Likelihood:    </th> <td> -35.968</td>\n",
       "</tr>\n",
       "<tr>\n",
       "  <th>Model:</th>               <td>OrderedModel</td>    <th>  AIC:               </th> <td>   77.94</td>\n",
       "</tr>\n",
       "<tr>\n",
       "  <th>Method:</th>           <td>Maximum Likelihood</td> <th>  BIC:               </th> <td>   82.85</td>\n",
       "</tr>\n",
       "<tr>\n",
       "  <th>Date:</th>              <td>Tue, 19 Jul 2022</td>  <th>                     </th>     <td> </td>   \n",
       "</tr>\n",
       "<tr>\n",
       "  <th>Time:</th>                  <td>00:28:29</td>      <th>                     </th>     <td> </td>   \n",
       "</tr>\n",
       "<tr>\n",
       "  <th>No. Observations:</th>       <td>    38</td>       <th>                     </th>     <td> </td>   \n",
       "</tr>\n",
       "<tr>\n",
       "  <th>Df Residuals:</th>           <td>    35</td>       <th>                     </th>     <td> </td>   \n",
       "</tr>\n",
       "<tr>\n",
       "  <th>Df Model:</th>               <td>     3</td>       <th>                     </th>     <td> </td>   \n",
       "</tr>\n",
       "</table>\n",
       "<table class=\"simpletable\">\n",
       "<tr>\n",
       "      <td></td>        <th>coef</th>     <th>std err</th>      <th>z</th>      <th>P>|z|</th>  <th>[0.025</th>    <th>0.975]</th>  \n",
       "</tr>\n",
       "<tr>\n",
       "  <th>pagerank</th> <td>   -0.0961</td> <td>    0.049</td> <td>   -1.954</td> <td> 0.051</td> <td>   -0.192</td> <td>    0.000</td>\n",
       "</tr>\n",
       "<tr>\n",
       "  <th>1.0/2.0</th>  <td>   -1.0763</td> <td>    0.276</td> <td>   -3.903</td> <td> 0.000</td> <td>   -1.617</td> <td>   -0.536</td>\n",
       "</tr>\n",
       "<tr>\n",
       "  <th>2.0/3.0</th>  <td>   -0.3194</td> <td>    0.299</td> <td>   -1.067</td> <td> 0.286</td> <td>   -0.906</td> <td>    0.267</td>\n",
       "</tr>\n",
       "</table>"
      ],
      "text/plain": [
       "<class 'statsmodels.iolib.summary.Summary'>\n",
       "\"\"\"\n",
       "                             OrderedModel Results                             \n",
       "==============================================================================\n",
       "Dep. Variable:                   camp   Log-Likelihood:                -35.968\n",
       "Model:                   OrderedModel   AIC:                             77.94\n",
       "Method:            Maximum Likelihood   BIC:                             82.85\n",
       "Date:                Tue, 19 Jul 2022                                         \n",
       "Time:                        00:28:29                                         \n",
       "No. Observations:                  38                                         \n",
       "Df Residuals:                      35                                         \n",
       "Df Model:                           3                                         \n",
       "==============================================================================\n",
       "                 coef    std err          z      P>|z|      [0.025      0.975]\n",
       "------------------------------------------------------------------------------\n",
       "pagerank      -0.0961      0.049     -1.954      0.051      -0.192       0.000\n",
       "1.0/2.0       -1.0763      0.276     -3.903      0.000      -1.617      -0.536\n",
       "2.0/3.0       -0.3194      0.299     -1.067      0.286      -0.906       0.267\n",
       "==============================================================================\n",
       "\"\"\""
      ]
     },
     "execution_count": 42,
     "metadata": {},
     "output_type": "execute_result"
    }
   ],
   "source": [
    "ordinalReg(df_lake_survey_gcm, ['pagerank'], 3)"
   ]
  },
  {
   "cell_type": "markdown",
   "metadata": {},
   "source": [
    "## Mountains"
   ]
  },
  {
   "cell_type": "code",
   "execution_count": 43,
   "metadata": {},
   "outputs": [
    {
     "name": "stdout",
     "output_type": "stream",
     "text": [
      "Dataframe merged with shape: (10000, 5)\n",
      "============================\n",
      "Rows with NaN values dropped: 28 from 56 => 50.0% \n",
      "Dataframe merged with shape: (28, 6)\n"
     ]
    }
   ],
   "source": [
    "# Mountains from the \"Category\": \"dbo:Mountain\"\n",
    "\n",
    "mountain_result = catMerger(df_mountain, df_ig_gcm)\n",
    "df_survey_mountain = pd.read_csv(\"../data/survey_single_cat_files/sv_prep_uri/sv_mountains_prep.csv\", sep=';')\n",
    "\n",
    "df_mountain_survey_gcm = gcmSurfer(df_survey_mountain, mountain_result)"
   ]
  },
  {
   "cell_type": "code",
   "execution_count": 44,
   "metadata": {},
   "outputs": [
    {
     "name": "stdout",
     "output_type": "stream",
     "text": [
      "Ordinal Regression:  ['degree']\n",
      "-------------------------------------\n",
      "Optimization terminated successfully.\n",
      "         Current function value: 0.973842\n",
      "         Iterations: 7\n",
      "         Function evaluations: 9\n",
      "         Gradient evaluations: 9\n"
     ]
    },
    {
     "data": {
      "text/html": [
       "<table class=\"simpletable\">\n",
       "<caption>OrderedModel Results</caption>\n",
       "<tr>\n",
       "  <th>Dep. Variable:</th>           <td>camp</td>        <th>  Log-Likelihood:    </th> <td> -27.268</td>\n",
       "</tr>\n",
       "<tr>\n",
       "  <th>Model:</th>               <td>OrderedModel</td>    <th>  AIC:               </th> <td>   60.54</td>\n",
       "</tr>\n",
       "<tr>\n",
       "  <th>Method:</th>           <td>Maximum Likelihood</td> <th>  BIC:               </th> <td>   64.53</td>\n",
       "</tr>\n",
       "<tr>\n",
       "  <th>Date:</th>              <td>Tue, 19 Jul 2022</td>  <th>                     </th>     <td> </td>   \n",
       "</tr>\n",
       "<tr>\n",
       "  <th>Time:</th>                  <td>00:28:39</td>      <th>                     </th>     <td> </td>   \n",
       "</tr>\n",
       "<tr>\n",
       "  <th>No. Observations:</th>       <td>    28</td>       <th>                     </th>     <td> </td>   \n",
       "</tr>\n",
       "<tr>\n",
       "  <th>Df Residuals:</th>           <td>    25</td>       <th>                     </th>     <td> </td>   \n",
       "</tr>\n",
       "<tr>\n",
       "  <th>Df Model:</th>               <td>     3</td>       <th>                     </th>     <td> </td>   \n",
       "</tr>\n",
       "</table>\n",
       "<table class=\"simpletable\">\n",
       "<tr>\n",
       "     <td></td>        <th>coef</th>     <th>std err</th>      <th>z</th>      <th>P>|z|</th>  <th>[0.025</th>    <th>0.975]</th>  \n",
       "</tr>\n",
       "<tr>\n",
       "  <th>degree</th>  <td>    0.0088</td> <td>    0.097</td> <td>    0.091</td> <td> 0.927</td> <td>   -0.181</td> <td>    0.199</td>\n",
       "</tr>\n",
       "<tr>\n",
       "  <th>1.0/2.0</th> <td>   -0.9102</td> <td>    0.300</td> <td>   -3.030</td> <td> 0.002</td> <td>   -1.499</td> <td>   -0.322</td>\n",
       "</tr>\n",
       "<tr>\n",
       "  <th>2.0/3.0</th> <td>   -0.2994</td> <td>    0.338</td> <td>   -0.887</td> <td> 0.375</td> <td>   -0.961</td> <td>    0.362</td>\n",
       "</tr>\n",
       "</table>"
      ],
      "text/plain": [
       "<class 'statsmodels.iolib.summary.Summary'>\n",
       "\"\"\"\n",
       "                             OrderedModel Results                             \n",
       "==============================================================================\n",
       "Dep. Variable:                   camp   Log-Likelihood:                -27.268\n",
       "Model:                   OrderedModel   AIC:                             60.54\n",
       "Method:            Maximum Likelihood   BIC:                             64.53\n",
       "Date:                Tue, 19 Jul 2022                                         \n",
       "Time:                        00:28:39                                         \n",
       "No. Observations:                  28                                         \n",
       "Df Residuals:                      25                                         \n",
       "Df Model:                           3                                         \n",
       "==============================================================================\n",
       "                 coef    std err          z      P>|z|      [0.025      0.975]\n",
       "------------------------------------------------------------------------------\n",
       "degree         0.0088      0.097      0.091      0.927      -0.181       0.199\n",
       "1.0/2.0       -0.9102      0.300     -3.030      0.002      -1.499      -0.322\n",
       "2.0/3.0       -0.2994      0.338     -0.887      0.375      -0.961       0.362\n",
       "==============================================================================\n",
       "\"\"\""
      ]
     },
     "execution_count": 44,
     "metadata": {},
     "output_type": "execute_result"
    }
   ],
   "source": [
    "ordinalReg(df_mountain_survey_gcm, ['degree'], 3)"
   ]
  },
  {
   "cell_type": "code",
   "execution_count": 45,
   "metadata": {},
   "outputs": [
    {
     "name": "stdout",
     "output_type": "stream",
     "text": [
      "Ordinal Regression:  ['eigenvector']\n",
      "-------------------------------------\n",
      "Optimization terminated successfully.\n",
      "         Current function value: 0.969020\n",
      "         Iterations: 7\n",
      "         Function evaluations: 8\n",
      "         Gradient evaluations: 8\n"
     ]
    },
    {
     "data": {
      "text/html": [
       "<table class=\"simpletable\">\n",
       "<caption>OrderedModel Results</caption>\n",
       "<tr>\n",
       "  <th>Dep. Variable:</th>           <td>camp</td>        <th>  Log-Likelihood:    </th> <td> -27.133</td>\n",
       "</tr>\n",
       "<tr>\n",
       "  <th>Model:</th>               <td>OrderedModel</td>    <th>  AIC:               </th> <td>   60.27</td>\n",
       "</tr>\n",
       "<tr>\n",
       "  <th>Method:</th>           <td>Maximum Likelihood</td> <th>  BIC:               </th> <td>   64.26</td>\n",
       "</tr>\n",
       "<tr>\n",
       "  <th>Date:</th>              <td>Tue, 19 Jul 2022</td>  <th>                     </th>     <td> </td>   \n",
       "</tr>\n",
       "<tr>\n",
       "  <th>Time:</th>                  <td>00:28:39</td>      <th>                     </th>     <td> </td>   \n",
       "</tr>\n",
       "<tr>\n",
       "  <th>No. Observations:</th>       <td>    28</td>       <th>                     </th>     <td> </td>   \n",
       "</tr>\n",
       "<tr>\n",
       "  <th>Df Residuals:</th>           <td>    25</td>       <th>                     </th>     <td> </td>   \n",
       "</tr>\n",
       "<tr>\n",
       "  <th>Df Model:</th>               <td>     3</td>       <th>                     </th>     <td> </td>   \n",
       "</tr>\n",
       "</table>\n",
       "<table class=\"simpletable\">\n",
       "<tr>\n",
       "       <td></td>          <th>coef</th>     <th>std err</th>      <th>z</th>      <th>P>|z|</th>  <th>[0.025</th>    <th>0.975]</th>  \n",
       "</tr>\n",
       "<tr>\n",
       "  <th>eigenvector</th> <td>    0.1377</td> <td>    0.262</td> <td>    0.525</td> <td> 0.599</td> <td>   -0.376</td> <td>    0.651</td>\n",
       "</tr>\n",
       "<tr>\n",
       "  <th>1.0/2.0</th>     <td>   -0.8948</td> <td>    0.283</td> <td>   -3.164</td> <td> 0.002</td> <td>   -1.449</td> <td>   -0.341</td>\n",
       "</tr>\n",
       "<tr>\n",
       "  <th>2.0/3.0</th>     <td>   -0.2898</td> <td>    0.338</td> <td>   -0.858</td> <td> 0.391</td> <td>   -0.952</td> <td>    0.373</td>\n",
       "</tr>\n",
       "</table>"
      ],
      "text/plain": [
       "<class 'statsmodels.iolib.summary.Summary'>\n",
       "\"\"\"\n",
       "                             OrderedModel Results                             \n",
       "==============================================================================\n",
       "Dep. Variable:                   camp   Log-Likelihood:                -27.133\n",
       "Model:                   OrderedModel   AIC:                             60.27\n",
       "Method:            Maximum Likelihood   BIC:                             64.26\n",
       "Date:                Tue, 19 Jul 2022                                         \n",
       "Time:                        00:28:39                                         \n",
       "No. Observations:                  28                                         \n",
       "Df Residuals:                      25                                         \n",
       "Df Model:                           3                                         \n",
       "===============================================================================\n",
       "                  coef    std err          z      P>|z|      [0.025      0.975]\n",
       "-------------------------------------------------------------------------------\n",
       "eigenvector     0.1377      0.262      0.525      0.599      -0.376       0.651\n",
       "1.0/2.0        -0.8948      0.283     -3.164      0.002      -1.449      -0.341\n",
       "2.0/3.0        -0.2898      0.338     -0.858      0.391      -0.952       0.373\n",
       "===============================================================================\n",
       "\"\"\""
      ]
     },
     "execution_count": 45,
     "metadata": {},
     "output_type": "execute_result"
    }
   ],
   "source": [
    "ordinalReg(df_mountain_survey_gcm, ['eigenvector'], 3)"
   ]
  },
  {
   "cell_type": "code",
   "execution_count": 46,
   "metadata": {},
   "outputs": [
    {
     "name": "stdout",
     "output_type": "stream",
     "text": [
      "Ordinal Regression:  ['pagerank']\n",
      "-------------------------------------\n",
      "Optimization terminated successfully.\n",
      "         Current function value: 0.973953\n",
      "         Iterations: 7\n",
      "         Function evaluations: 9\n",
      "         Gradient evaluations: 9\n"
     ]
    },
    {
     "data": {
      "text/html": [
       "<table class=\"simpletable\">\n",
       "<caption>OrderedModel Results</caption>\n",
       "<tr>\n",
       "  <th>Dep. Variable:</th>           <td>camp</td>        <th>  Log-Likelihood:    </th> <td> -27.271</td>\n",
       "</tr>\n",
       "<tr>\n",
       "  <th>Model:</th>               <td>OrderedModel</td>    <th>  AIC:               </th> <td>   60.54</td>\n",
       "</tr>\n",
       "<tr>\n",
       "  <th>Method:</th>           <td>Maximum Likelihood</td> <th>  BIC:               </th> <td>   64.54</td>\n",
       "</tr>\n",
       "<tr>\n",
       "  <th>Date:</th>              <td>Tue, 19 Jul 2022</td>  <th>                     </th>     <td> </td>   \n",
       "</tr>\n",
       "<tr>\n",
       "  <th>Time:</th>                  <td>00:28:39</td>      <th>                     </th>     <td> </td>   \n",
       "</tr>\n",
       "<tr>\n",
       "  <th>No. Observations:</th>       <td>    28</td>       <th>                     </th>     <td> </td>   \n",
       "</tr>\n",
       "<tr>\n",
       "  <th>Df Residuals:</th>           <td>    25</td>       <th>                     </th>     <td> </td>   \n",
       "</tr>\n",
       "<tr>\n",
       "  <th>Df Model:</th>               <td>     3</td>       <th>                     </th>     <td> </td>   \n",
       "</tr>\n",
       "</table>\n",
       "<table class=\"simpletable\">\n",
       "<tr>\n",
       "      <td></td>        <th>coef</th>     <th>std err</th>      <th>z</th>      <th>P>|z|</th>  <th>[0.025</th>    <th>0.975]</th>  \n",
       "</tr>\n",
       "<tr>\n",
       "  <th>pagerank</th> <td>    0.0043</td> <td>    0.092</td> <td>    0.046</td> <td> 0.963</td> <td>   -0.177</td> <td>    0.185</td>\n",
       "</tr>\n",
       "<tr>\n",
       "  <th>1.0/2.0</th>  <td>   -0.9153</td> <td>    0.302</td> <td>   -3.033</td> <td> 0.002</td> <td>   -1.507</td> <td>   -0.324</td>\n",
       "</tr>\n",
       "<tr>\n",
       "  <th>2.0/3.0</th>  <td>   -0.2998</td> <td>    0.338</td> <td>   -0.888</td> <td> 0.374</td> <td>   -0.961</td> <td>    0.362</td>\n",
       "</tr>\n",
       "</table>"
      ],
      "text/plain": [
       "<class 'statsmodels.iolib.summary.Summary'>\n",
       "\"\"\"\n",
       "                             OrderedModel Results                             \n",
       "==============================================================================\n",
       "Dep. Variable:                   camp   Log-Likelihood:                -27.271\n",
       "Model:                   OrderedModel   AIC:                             60.54\n",
       "Method:            Maximum Likelihood   BIC:                             64.54\n",
       "Date:                Tue, 19 Jul 2022                                         \n",
       "Time:                        00:28:39                                         \n",
       "No. Observations:                  28                                         \n",
       "Df Residuals:                      25                                         \n",
       "Df Model:                           3                                         \n",
       "==============================================================================\n",
       "                 coef    std err          z      P>|z|      [0.025      0.975]\n",
       "------------------------------------------------------------------------------\n",
       "pagerank       0.0043      0.092      0.046      0.963      -0.177       0.185\n",
       "1.0/2.0       -0.9153      0.302     -3.033      0.002      -1.507      -0.324\n",
       "2.0/3.0       -0.2998      0.338     -0.888      0.374      -0.961       0.362\n",
       "==============================================================================\n",
       "\"\"\""
      ]
     },
     "execution_count": 46,
     "metadata": {},
     "output_type": "execute_result"
    }
   ],
   "source": [
    "ordinalReg(df_mountain_survey_gcm, ['pagerank'], 3)"
   ]
  },
  {
   "cell_type": "markdown",
   "metadata": {},
   "source": [
    "### EU capital cities"
   ]
  },
  {
   "cell_type": "code",
   "execution_count": 47,
   "metadata": {},
   "outputs": [
    {
     "name": "stdout",
     "output_type": "stream",
     "text": [
      "Dataframe merged with shape: (52, 5)\n",
      "============================\n",
      "Rows with NaN values dropped: 4 from 28 => 14.29% \n",
      "Dataframe merged with shape: (24, 6)\n"
     ]
    }
   ],
   "source": [
    "euCap_result = catMerger(df_euCap, df_ig_gcm)\n",
    "df_survey_euCap = pd.read_csv(\"../data/survey_single_cat_files/sv_prep_uri/improved_uri/sv_european_capital_cities_impr.csv\", sep=';')\n",
    "\n",
    "df_euCap_survey_gcm = gcmSurfer(df_survey_euCap, euCap_result)"
   ]
  },
  {
   "cell_type": "code",
   "execution_count": 48,
   "metadata": {},
   "outputs": [
    {
     "name": "stdout",
     "output_type": "stream",
     "text": [
      "Ordinal Regression:  ['degree']\n",
      "-------------------------------------\n",
      "Optimization terminated successfully.\n",
      "         Current function value: 0.997739\n",
      "         Iterations: 10\n",
      "         Function evaluations: 11\n",
      "         Gradient evaluations: 11\n"
     ]
    },
    {
     "data": {
      "text/html": [
       "<table class=\"simpletable\">\n",
       "<caption>OrderedModel Results</caption>\n",
       "<tr>\n",
       "  <th>Dep. Variable:</th>           <td>camp</td>        <th>  Log-Likelihood:    </th> <td> -23.946</td>\n",
       "</tr>\n",
       "<tr>\n",
       "  <th>Model:</th>               <td>OrderedModel</td>    <th>  AIC:               </th> <td>   53.89</td>\n",
       "</tr>\n",
       "<tr>\n",
       "  <th>Method:</th>           <td>Maximum Likelihood</td> <th>  BIC:               </th> <td>   57.43</td>\n",
       "</tr>\n",
       "<tr>\n",
       "  <th>Date:</th>              <td>Tue, 19 Jul 2022</td>  <th>                     </th>     <td> </td>   \n",
       "</tr>\n",
       "<tr>\n",
       "  <th>Time:</th>                  <td>00:28:49</td>      <th>                     </th>     <td> </td>   \n",
       "</tr>\n",
       "<tr>\n",
       "  <th>No. Observations:</th>       <td>    24</td>       <th>                     </th>     <td> </td>   \n",
       "</tr>\n",
       "<tr>\n",
       "  <th>Df Residuals:</th>           <td>    21</td>       <th>                     </th>     <td> </td>   \n",
       "</tr>\n",
       "<tr>\n",
       "  <th>Df Model:</th>               <td>     3</td>       <th>                     </th>     <td> </td>   \n",
       "</tr>\n",
       "</table>\n",
       "<table class=\"simpletable\">\n",
       "<tr>\n",
       "     <td></td>        <th>coef</th>     <th>std err</th>      <th>z</th>      <th>P>|z|</th>  <th>[0.025</th>    <th>0.975]</th>  \n",
       "</tr>\n",
       "<tr>\n",
       "  <th>degree</th>  <td>   -0.6354</td> <td>    0.391</td> <td>   -1.625</td> <td> 0.104</td> <td>   -1.402</td> <td>    0.131</td>\n",
       "</tr>\n",
       "<tr>\n",
       "  <th>1.0/2.0</th> <td>   -0.7235</td> <td>    0.310</td> <td>   -2.333</td> <td> 0.020</td> <td>   -1.331</td> <td>   -0.116</td>\n",
       "</tr>\n",
       "<tr>\n",
       "  <th>2.0/3.0</th> <td>   -0.0367</td> <td>    0.305</td> <td>   -0.120</td> <td> 0.904</td> <td>   -0.634</td> <td>    0.561</td>\n",
       "</tr>\n",
       "</table>"
      ],
      "text/plain": [
       "<class 'statsmodels.iolib.summary.Summary'>\n",
       "\"\"\"\n",
       "                             OrderedModel Results                             \n",
       "==============================================================================\n",
       "Dep. Variable:                   camp   Log-Likelihood:                -23.946\n",
       "Model:                   OrderedModel   AIC:                             53.89\n",
       "Method:            Maximum Likelihood   BIC:                             57.43\n",
       "Date:                Tue, 19 Jul 2022                                         \n",
       "Time:                        00:28:49                                         \n",
       "No. Observations:                  24                                         \n",
       "Df Residuals:                      21                                         \n",
       "Df Model:                           3                                         \n",
       "==============================================================================\n",
       "                 coef    std err          z      P>|z|      [0.025      0.975]\n",
       "------------------------------------------------------------------------------\n",
       "degree        -0.6354      0.391     -1.625      0.104      -1.402       0.131\n",
       "1.0/2.0       -0.7235      0.310     -2.333      0.020      -1.331      -0.116\n",
       "2.0/3.0       -0.0367      0.305     -0.120      0.904      -0.634       0.561\n",
       "==============================================================================\n",
       "\"\"\""
      ]
     },
     "execution_count": 48,
     "metadata": {},
     "output_type": "execute_result"
    }
   ],
   "source": [
    "ordinalReg(df_euCap_survey_gcm, ['degree'], 3)"
   ]
  },
  {
   "cell_type": "code",
   "execution_count": 49,
   "metadata": {},
   "outputs": [
    {
     "name": "stdout",
     "output_type": "stream",
     "text": [
      "Ordinal Regression:  ['pagerank']\n",
      "-------------------------------------\n",
      "Optimization terminated successfully.\n",
      "         Current function value: 0.997401\n",
      "         Iterations: 10\n",
      "         Function evaluations: 11\n",
      "         Gradient evaluations: 11\n"
     ]
    },
    {
     "data": {
      "text/html": [
       "<table class=\"simpletable\">\n",
       "<caption>OrderedModel Results</caption>\n",
       "<tr>\n",
       "  <th>Dep. Variable:</th>           <td>camp</td>        <th>  Log-Likelihood:    </th> <td> -23.938</td>\n",
       "</tr>\n",
       "<tr>\n",
       "  <th>Model:</th>               <td>OrderedModel</td>    <th>  AIC:               </th> <td>   53.88</td>\n",
       "</tr>\n",
       "<tr>\n",
       "  <th>Method:</th>           <td>Maximum Likelihood</td> <th>  BIC:               </th> <td>   57.41</td>\n",
       "</tr>\n",
       "<tr>\n",
       "  <th>Date:</th>              <td>Tue, 19 Jul 2022</td>  <th>                     </th>     <td> </td>   \n",
       "</tr>\n",
       "<tr>\n",
       "  <th>Time:</th>                  <td>00:28:49</td>      <th>                     </th>     <td> </td>   \n",
       "</tr>\n",
       "<tr>\n",
       "  <th>No. Observations:</th>       <td>    24</td>       <th>                     </th>     <td> </td>   \n",
       "</tr>\n",
       "<tr>\n",
       "  <th>Df Residuals:</th>           <td>    21</td>       <th>                     </th>     <td> </td>   \n",
       "</tr>\n",
       "<tr>\n",
       "  <th>Df Model:</th>               <td>     3</td>       <th>                     </th>     <td> </td>   \n",
       "</tr>\n",
       "</table>\n",
       "<table class=\"simpletable\">\n",
       "<tr>\n",
       "      <td></td>        <th>coef</th>     <th>std err</th>      <th>z</th>      <th>P>|z|</th>  <th>[0.025</th>    <th>0.975]</th>  \n",
       "</tr>\n",
       "<tr>\n",
       "  <th>pagerank</th> <td>   -0.6299</td> <td>    0.384</td> <td>   -1.640</td> <td> 0.101</td> <td>   -1.383</td> <td>    0.123</td>\n",
       "</tr>\n",
       "<tr>\n",
       "  <th>1.0/2.0</th>  <td>   -0.7345</td> <td>    0.313</td> <td>   -2.350</td> <td> 0.019</td> <td>   -1.347</td> <td>   -0.122</td>\n",
       "</tr>\n",
       "<tr>\n",
       "  <th>2.0/3.0</th>  <td>   -0.0362</td> <td>    0.305</td> <td>   -0.119</td> <td> 0.905</td> <td>   -0.633</td> <td>    0.561</td>\n",
       "</tr>\n",
       "</table>"
      ],
      "text/plain": [
       "<class 'statsmodels.iolib.summary.Summary'>\n",
       "\"\"\"\n",
       "                             OrderedModel Results                             \n",
       "==============================================================================\n",
       "Dep. Variable:                   camp   Log-Likelihood:                -23.938\n",
       "Model:                   OrderedModel   AIC:                             53.88\n",
       "Method:            Maximum Likelihood   BIC:                             57.41\n",
       "Date:                Tue, 19 Jul 2022                                         \n",
       "Time:                        00:28:49                                         \n",
       "No. Observations:                  24                                         \n",
       "Df Residuals:                      21                                         \n",
       "Df Model:                           3                                         \n",
       "==============================================================================\n",
       "                 coef    std err          z      P>|z|      [0.025      0.975]\n",
       "------------------------------------------------------------------------------\n",
       "pagerank      -0.6299      0.384     -1.640      0.101      -1.383       0.123\n",
       "1.0/2.0       -0.7345      0.313     -2.350      0.019      -1.347      -0.122\n",
       "2.0/3.0       -0.0362      0.305     -0.119      0.905      -0.633       0.561\n",
       "==============================================================================\n",
       "\"\"\""
      ]
     },
     "execution_count": 49,
     "metadata": {},
     "output_type": "execute_result"
    }
   ],
   "source": [
    "ordinalReg(df_euCap_survey_gcm, ['pagerank'], 3)"
   ]
  },
  {
   "cell_type": "code",
   "execution_count": 50,
   "metadata": {},
   "outputs": [
    {
     "name": "stdout",
     "output_type": "stream",
     "text": [
      "Ordinal Regression:  ['eigenvector']\n",
      "-------------------------------------\n",
      "Optimization terminated successfully.\n",
      "         Current function value: 1.097723\n",
      "         Iterations: 7\n",
      "         Function evaluations: 8\n",
      "         Gradient evaluations: 8\n"
     ]
    },
    {
     "data": {
      "text/html": [
       "<table class=\"simpletable\">\n",
       "<caption>OrderedModel Results</caption>\n",
       "<tr>\n",
       "  <th>Dep. Variable:</th>           <td>camp</td>        <th>  Log-Likelihood:    </th> <td> -26.345</td>\n",
       "</tr>\n",
       "<tr>\n",
       "  <th>Model:</th>               <td>OrderedModel</td>    <th>  AIC:               </th> <td>   58.69</td>\n",
       "</tr>\n",
       "<tr>\n",
       "  <th>Method:</th>           <td>Maximum Likelihood</td> <th>  BIC:               </th> <td>   62.22</td>\n",
       "</tr>\n",
       "<tr>\n",
       "  <th>Date:</th>              <td>Tue, 19 Jul 2022</td>  <th>                     </th>     <td> </td>   \n",
       "</tr>\n",
       "<tr>\n",
       "  <th>Time:</th>                  <td>00:28:49</td>      <th>                     </th>     <td> </td>   \n",
       "</tr>\n",
       "<tr>\n",
       "  <th>No. Observations:</th>       <td>    24</td>       <th>                     </th>     <td> </td>   \n",
       "</tr>\n",
       "<tr>\n",
       "  <th>Df Residuals:</th>           <td>    21</td>       <th>                     </th>     <td> </td>   \n",
       "</tr>\n",
       "<tr>\n",
       "  <th>Df Model:</th>               <td>     3</td>       <th>                     </th>     <td> </td>   \n",
       "</tr>\n",
       "</table>\n",
       "<table class=\"simpletable\">\n",
       "<tr>\n",
       "       <td></td>          <th>coef</th>     <th>std err</th>      <th>z</th>      <th>P>|z|</th>  <th>[0.025</th>    <th>0.975]</th>  \n",
       "</tr>\n",
       "<tr>\n",
       "  <th>eigenvector</th> <td>    0.0525</td> <td>    0.254</td> <td>    0.207</td> <td> 0.836</td> <td>   -0.445</td> <td>    0.550</td>\n",
       "</tr>\n",
       "<tr>\n",
       "  <th>1.0/2.0</th>     <td>   -0.4045</td> <td>    0.294</td> <td>   -1.378</td> <td> 0.168</td> <td>   -0.980</td> <td>    0.171</td>\n",
       "</tr>\n",
       "<tr>\n",
       "  <th>2.0/3.0</th>     <td>   -0.1481</td> <td>    0.307</td> <td>   -0.482</td> <td> 0.630</td> <td>   -0.750</td> <td>    0.454</td>\n",
       "</tr>\n",
       "</table>"
      ],
      "text/plain": [
       "<class 'statsmodels.iolib.summary.Summary'>\n",
       "\"\"\"\n",
       "                             OrderedModel Results                             \n",
       "==============================================================================\n",
       "Dep. Variable:                   camp   Log-Likelihood:                -26.345\n",
       "Model:                   OrderedModel   AIC:                             58.69\n",
       "Method:            Maximum Likelihood   BIC:                             62.22\n",
       "Date:                Tue, 19 Jul 2022                                         \n",
       "Time:                        00:28:49                                         \n",
       "No. Observations:                  24                                         \n",
       "Df Residuals:                      21                                         \n",
       "Df Model:                           3                                         \n",
       "===============================================================================\n",
       "                  coef    std err          z      P>|z|      [0.025      0.975]\n",
       "-------------------------------------------------------------------------------\n",
       "eigenvector     0.0525      0.254      0.207      0.836      -0.445       0.550\n",
       "1.0/2.0        -0.4045      0.294     -1.378      0.168      -0.980       0.171\n",
       "2.0/3.0        -0.1481      0.307     -0.482      0.630      -0.750       0.454\n",
       "===============================================================================\n",
       "\"\"\""
      ]
     },
     "execution_count": 50,
     "metadata": {},
     "output_type": "execute_result"
    }
   ],
   "source": [
    "ordinalReg(df_euCap_survey_gcm, ['eigenvector'], 3)"
   ]
  },
  {
   "cell_type": "markdown",
   "metadata": {},
   "source": [
    "### European countries"
   ]
  },
  {
   "cell_type": "code",
   "execution_count": 51,
   "metadata": {},
   "outputs": [
    {
     "name": "stdout",
     "output_type": "stream",
     "text": [
      "Dataframe merged with shape: (51, 5)\n",
      "============================\n",
      "Rows with NaN values dropped: 0 from 29 => 0.0% \n",
      "Dataframe merged with shape: (29, 6)\n"
     ]
    }
   ],
   "source": [
    "euCou_result = catMerger(df_euCou, df_ig_gcm)\n",
    "df_survey_euCou = pd.read_csv(\"../data/survey_single_cat_files/sv_prep_uri/improved_uri/sv_european_countries_impr.csv\", sep=';')\n",
    "\n",
    "df_euCou_survey_gcm = gcmSurfer(df_survey_euCou, euCou_result)"
   ]
  },
  {
   "cell_type": "code",
   "execution_count": 52,
   "metadata": {},
   "outputs": [
    {
     "name": "stdout",
     "output_type": "stream",
     "text": [
      "Ordinal Regression:  ['degree']\n",
      "-------------------------------------\n",
      "Optimization terminated successfully.\n",
      "         Current function value: 0.524739\n",
      "         Iterations: 13\n",
      "         Function evaluations: 14\n",
      "         Gradient evaluations: 14\n"
     ]
    },
    {
     "data": {
      "text/html": [
       "<table class=\"simpletable\">\n",
       "<caption>OrderedModel Results</caption>\n",
       "<tr>\n",
       "  <th>Dep. Variable:</th>           <td>camp</td>        <th>  Log-Likelihood:    </th> <td> -15.217</td>\n",
       "</tr>\n",
       "<tr>\n",
       "  <th>Model:</th>               <td>OrderedModel</td>    <th>  AIC:               </th> <td>   36.43</td>\n",
       "</tr>\n",
       "<tr>\n",
       "  <th>Method:</th>           <td>Maximum Likelihood</td> <th>  BIC:               </th> <td>   40.54</td>\n",
       "</tr>\n",
       "<tr>\n",
       "  <th>Date:</th>              <td>Tue, 19 Jul 2022</td>  <th>                     </th>     <td> </td>   \n",
       "</tr>\n",
       "<tr>\n",
       "  <th>Time:</th>                  <td>00:28:59</td>      <th>                     </th>     <td> </td>   \n",
       "</tr>\n",
       "<tr>\n",
       "  <th>No. Observations:</th>       <td>    29</td>       <th>                     </th>     <td> </td>   \n",
       "</tr>\n",
       "<tr>\n",
       "  <th>Df Residuals:</th>           <td>    26</td>       <th>                     </th>     <td> </td>   \n",
       "</tr>\n",
       "<tr>\n",
       "  <th>Df Model:</th>               <td>     3</td>       <th>                     </th>     <td> </td>   \n",
       "</tr>\n",
       "</table>\n",
       "<table class=\"simpletable\">\n",
       "<tr>\n",
       "     <td></td>        <th>coef</th>     <th>std err</th>      <th>z</th>      <th>P>|z|</th>  <th>[0.025</th>    <th>0.975]</th>  \n",
       "</tr>\n",
       "<tr>\n",
       "  <th>degree</th>  <td>   -4.4186</td> <td>    1.303</td> <td>   -3.392</td> <td> 0.001</td> <td>   -6.972</td> <td>   -1.866</td>\n",
       "</tr>\n",
       "<tr>\n",
       "  <th>1.0/2.0</th> <td>   -0.5506</td> <td>    0.430</td> <td>   -1.282</td> <td> 0.200</td> <td>   -1.393</td> <td>    0.291</td>\n",
       "</tr>\n",
       "<tr>\n",
       "  <th>2.0/3.0</th> <td>    0.7615</td> <td>    0.292</td> <td>    2.607</td> <td> 0.009</td> <td>    0.189</td> <td>    1.334</td>\n",
       "</tr>\n",
       "</table>"
      ],
      "text/plain": [
       "<class 'statsmodels.iolib.summary.Summary'>\n",
       "\"\"\"\n",
       "                             OrderedModel Results                             \n",
       "==============================================================================\n",
       "Dep. Variable:                   camp   Log-Likelihood:                -15.217\n",
       "Model:                   OrderedModel   AIC:                             36.43\n",
       "Method:            Maximum Likelihood   BIC:                             40.54\n",
       "Date:                Tue, 19 Jul 2022                                         \n",
       "Time:                        00:28:59                                         \n",
       "No. Observations:                  29                                         \n",
       "Df Residuals:                      26                                         \n",
       "Df Model:                           3                                         \n",
       "==============================================================================\n",
       "                 coef    std err          z      P>|z|      [0.025      0.975]\n",
       "------------------------------------------------------------------------------\n",
       "degree        -4.4186      1.303     -3.392      0.001      -6.972      -1.866\n",
       "1.0/2.0       -0.5506      0.430     -1.282      0.200      -1.393       0.291\n",
       "2.0/3.0        0.7615      0.292      2.607      0.009       0.189       1.334\n",
       "==============================================================================\n",
       "\"\"\""
      ]
     },
     "execution_count": 52,
     "metadata": {},
     "output_type": "execute_result"
    }
   ],
   "source": [
    "ordinalReg(df_euCou_survey_gcm, ['degree'], 3)"
   ]
  },
  {
   "cell_type": "code",
   "execution_count": 53,
   "metadata": {},
   "outputs": [
    {
     "name": "stdout",
     "output_type": "stream",
     "text": [
      "Ordinal Regression:  ['eigenvector']\n",
      "-------------------------------------\n",
      "Optimization terminated successfully.\n",
      "         Current function value: 0.914592\n",
      "         Iterations: 8\n",
      "         Function evaluations: 9\n",
      "         Gradient evaluations: 9\n"
     ]
    },
    {
     "data": {
      "text/html": [
       "<table class=\"simpletable\">\n",
       "<caption>OrderedModel Results</caption>\n",
       "<tr>\n",
       "  <th>Dep. Variable:</th>           <td>camp</td>        <th>  Log-Likelihood:    </th> <td> -26.523</td>\n",
       "</tr>\n",
       "<tr>\n",
       "  <th>Model:</th>               <td>OrderedModel</td>    <th>  AIC:               </th> <td>   59.05</td>\n",
       "</tr>\n",
       "<tr>\n",
       "  <th>Method:</th>           <td>Maximum Likelihood</td> <th>  BIC:               </th> <td>   63.15</td>\n",
       "</tr>\n",
       "<tr>\n",
       "  <th>Date:</th>              <td>Tue, 19 Jul 2022</td>  <th>                     </th>     <td> </td>   \n",
       "</tr>\n",
       "<tr>\n",
       "  <th>Time:</th>                  <td>00:29:00</td>      <th>                     </th>     <td> </td>   \n",
       "</tr>\n",
       "<tr>\n",
       "  <th>No. Observations:</th>       <td>    29</td>       <th>                     </th>     <td> </td>   \n",
       "</tr>\n",
       "<tr>\n",
       "  <th>Df Residuals:</th>           <td>    26</td>       <th>                     </th>     <td> </td>   \n",
       "</tr>\n",
       "<tr>\n",
       "  <th>Df Model:</th>               <td>     3</td>       <th>                     </th>     <td> </td>   \n",
       "</tr>\n",
       "</table>\n",
       "<table class=\"simpletable\">\n",
       "<tr>\n",
       "       <td></td>          <th>coef</th>     <th>std err</th>      <th>z</th>      <th>P>|z|</th>  <th>[0.025</th>    <th>0.975]</th>  \n",
       "</tr>\n",
       "<tr>\n",
       "  <th>eigenvector</th> <td>   -0.8600</td> <td>    0.315</td> <td>   -2.733</td> <td> 0.006</td> <td>   -1.477</td> <td>   -0.243</td>\n",
       "</tr>\n",
       "<tr>\n",
       "  <th>1.0/2.0</th>     <td>   -0.7168</td> <td>    0.276</td> <td>   -2.599</td> <td> 0.009</td> <td>   -1.257</td> <td>   -0.176</td>\n",
       "</tr>\n",
       "<tr>\n",
       "  <th>2.0/3.0</th>     <td>    0.0989</td> <td>    0.270</td> <td>    0.367</td> <td> 0.714</td> <td>   -0.430</td> <td>    0.628</td>\n",
       "</tr>\n",
       "</table>"
      ],
      "text/plain": [
       "<class 'statsmodels.iolib.summary.Summary'>\n",
       "\"\"\"\n",
       "                             OrderedModel Results                             \n",
       "==============================================================================\n",
       "Dep. Variable:                   camp   Log-Likelihood:                -26.523\n",
       "Model:                   OrderedModel   AIC:                             59.05\n",
       "Method:            Maximum Likelihood   BIC:                             63.15\n",
       "Date:                Tue, 19 Jul 2022                                         \n",
       "Time:                        00:29:00                                         \n",
       "No. Observations:                  29                                         \n",
       "Df Residuals:                      26                                         \n",
       "Df Model:                           3                                         \n",
       "===============================================================================\n",
       "                  coef    std err          z      P>|z|      [0.025      0.975]\n",
       "-------------------------------------------------------------------------------\n",
       "eigenvector    -0.8600      0.315     -2.733      0.006      -1.477      -0.243\n",
       "1.0/2.0        -0.7168      0.276     -2.599      0.009      -1.257      -0.176\n",
       "2.0/3.0         0.0989      0.270      0.367      0.714      -0.430       0.628\n",
       "===============================================================================\n",
       "\"\"\""
      ]
     },
     "execution_count": 53,
     "metadata": {},
     "output_type": "execute_result"
    }
   ],
   "source": [
    "ordinalReg(df_euCou_survey_gcm, ['eigenvector'], 3)"
   ]
  },
  {
   "cell_type": "code",
   "execution_count": 54,
   "metadata": {},
   "outputs": [
    {
     "name": "stdout",
     "output_type": "stream",
     "text": [
      "Ordinal Regression:  ['pagerank']\n",
      "-------------------------------------\n",
      "Optimization terminated successfully.\n",
      "         Current function value: 0.510107\n",
      "         Iterations: 13\n",
      "         Function evaluations: 14\n",
      "         Gradient evaluations: 14\n"
     ]
    },
    {
     "data": {
      "text/html": [
       "<table class=\"simpletable\">\n",
       "<caption>OrderedModel Results</caption>\n",
       "<tr>\n",
       "  <th>Dep. Variable:</th>           <td>camp</td>        <th>  Log-Likelihood:    </th> <td> -14.793</td>\n",
       "</tr>\n",
       "<tr>\n",
       "  <th>Model:</th>               <td>OrderedModel</td>    <th>  AIC:               </th> <td>   35.59</td>\n",
       "</tr>\n",
       "<tr>\n",
       "  <th>Method:</th>           <td>Maximum Likelihood</td> <th>  BIC:               </th> <td>   39.69</td>\n",
       "</tr>\n",
       "<tr>\n",
       "  <th>Date:</th>              <td>Tue, 19 Jul 2022</td>  <th>                     </th>     <td> </td>   \n",
       "</tr>\n",
       "<tr>\n",
       "  <th>Time:</th>                  <td>00:29:00</td>      <th>                     </th>     <td> </td>   \n",
       "</tr>\n",
       "<tr>\n",
       "  <th>No. Observations:</th>       <td>    29</td>       <th>                     </th>     <td> </td>   \n",
       "</tr>\n",
       "<tr>\n",
       "  <th>Df Residuals:</th>           <td>    26</td>       <th>                     </th>     <td> </td>   \n",
       "</tr>\n",
       "<tr>\n",
       "  <th>Df Model:</th>               <td>     3</td>       <th>                     </th>     <td> </td>   \n",
       "</tr>\n",
       "</table>\n",
       "<table class=\"simpletable\">\n",
       "<tr>\n",
       "      <td></td>        <th>coef</th>     <th>std err</th>      <th>z</th>      <th>P>|z|</th>  <th>[0.025</th>    <th>0.975]</th>  \n",
       "</tr>\n",
       "<tr>\n",
       "  <th>pagerank</th> <td>   -4.6758</td> <td>    1.380</td> <td>   -3.387</td> <td> 0.001</td> <td>   -7.381</td> <td>   -1.970</td>\n",
       "</tr>\n",
       "<tr>\n",
       "  <th>1.0/2.0</th>  <td>   -0.5870</td> <td>    0.427</td> <td>   -1.374</td> <td> 0.169</td> <td>   -1.424</td> <td>    0.250</td>\n",
       "</tr>\n",
       "<tr>\n",
       "  <th>2.0/3.0</th>  <td>    0.7977</td> <td>    0.295</td> <td>    2.704</td> <td> 0.007</td> <td>    0.220</td> <td>    1.376</td>\n",
       "</tr>\n",
       "</table>"
      ],
      "text/plain": [
       "<class 'statsmodels.iolib.summary.Summary'>\n",
       "\"\"\"\n",
       "                             OrderedModel Results                             \n",
       "==============================================================================\n",
       "Dep. Variable:                   camp   Log-Likelihood:                -14.793\n",
       "Model:                   OrderedModel   AIC:                             35.59\n",
       "Method:            Maximum Likelihood   BIC:                             39.69\n",
       "Date:                Tue, 19 Jul 2022                                         \n",
       "Time:                        00:29:00                                         \n",
       "No. Observations:                  29                                         \n",
       "Df Residuals:                      26                                         \n",
       "Df Model:                           3                                         \n",
       "==============================================================================\n",
       "                 coef    std err          z      P>|z|      [0.025      0.975]\n",
       "------------------------------------------------------------------------------\n",
       "pagerank      -4.6758      1.380     -3.387      0.001      -7.381      -1.970\n",
       "1.0/2.0       -0.5870      0.427     -1.374      0.169      -1.424       0.250\n",
       "2.0/3.0        0.7977      0.295      2.704      0.007       0.220       1.376\n",
       "==============================================================================\n",
       "\"\"\""
      ]
     },
     "execution_count": 54,
     "metadata": {},
     "output_type": "execute_result"
    }
   ],
   "source": [
    "ordinalReg(df_euCou_survey_gcm, ['pagerank'], 3)"
   ]
  },
  {
   "cell_type": "markdown",
   "metadata": {},
   "source": [
    "## Asian countries"
   ]
  },
  {
   "cell_type": "code",
   "execution_count": 55,
   "metadata": {},
   "outputs": [
    {
     "name": "stdout",
     "output_type": "stream",
     "text": [
      "Dataframe merged with shape: (60, 5)\n",
      "============================\n",
      "Rows with NaN values dropped: 7 from 33 => 21.21% \n",
      "Dataframe merged with shape: (26, 6)\n"
     ]
    }
   ],
   "source": [
    "# Asian countries from the \"Category\": \"dbc:Countries_in_Asia\", \"dbc:East_Asian_countries\" and \"dbc:Central_Asian_countries\"\n",
    "\n",
    "\n",
    "asCou_result = catMerger(df_asCou, df_ig_gcm)\n",
    "df_survey_asCou = pd.read_csv(\"../data/survey_single_cat_files/sv_prep_uri/sv_asian_countries_prep.csv\", sep=';') # .csv needed no manual uri correction\n",
    "\n",
    "df_asCou_survey_gcm = gcmSurfer(df_survey_asCou, asCou_result)"
   ]
  },
  {
   "cell_type": "code",
   "execution_count": 56,
   "metadata": {},
   "outputs": [
    {
     "name": "stdout",
     "output_type": "stream",
     "text": [
      "Ordinal Regression:  ['degree']\n",
      "-------------------------------------\n",
      "Optimization terminated successfully.\n",
      "         Current function value: 1.086538\n",
      "         Iterations: 6\n",
      "         Function evaluations: 7\n",
      "         Gradient evaluations: 7\n"
     ]
    },
    {
     "data": {
      "text/html": [
       "<table class=\"simpletable\">\n",
       "<caption>OrderedModel Results</caption>\n",
       "<tr>\n",
       "  <th>Dep. Variable:</th>           <td>camp</td>        <th>  Log-Likelihood:    </th> <td> -28.250</td>\n",
       "</tr>\n",
       "<tr>\n",
       "  <th>Model:</th>               <td>OrderedModel</td>    <th>  AIC:               </th> <td>   62.50</td>\n",
       "</tr>\n",
       "<tr>\n",
       "  <th>Method:</th>           <td>Maximum Likelihood</td> <th>  BIC:               </th> <td>   66.27</td>\n",
       "</tr>\n",
       "<tr>\n",
       "  <th>Date:</th>              <td>Tue, 19 Jul 2022</td>  <th>                     </th>     <td> </td>   \n",
       "</tr>\n",
       "<tr>\n",
       "  <th>Time:</th>                  <td>00:29:08</td>      <th>                     </th>     <td> </td>   \n",
       "</tr>\n",
       "<tr>\n",
       "  <th>No. Observations:</th>       <td>    26</td>       <th>                     </th>     <td> </td>   \n",
       "</tr>\n",
       "<tr>\n",
       "  <th>Df Residuals:</th>           <td>    23</td>       <th>                     </th>     <td> </td>   \n",
       "</tr>\n",
       "<tr>\n",
       "  <th>Df Model:</th>               <td>     3</td>       <th>                     </th>     <td> </td>   \n",
       "</tr>\n",
       "</table>\n",
       "<table class=\"simpletable\">\n",
       "<tr>\n",
       "     <td></td>        <th>coef</th>     <th>std err</th>      <th>z</th>      <th>P>|z|</th>  <th>[0.025</th>    <th>0.975]</th>  \n",
       "</tr>\n",
       "<tr>\n",
       "  <th>degree</th>  <td>   -0.1010</td> <td>    0.177</td> <td>   -0.569</td> <td> 0.569</td> <td>   -0.449</td> <td>    0.247</td>\n",
       "</tr>\n",
       "<tr>\n",
       "  <th>1.0/2.0</th> <td>   -0.5460</td> <td>    0.269</td> <td>   -2.027</td> <td> 0.043</td> <td>   -1.074</td> <td>   -0.018</td>\n",
       "</tr>\n",
       "<tr>\n",
       "  <th>2.0/3.0</th> <td>   -0.2204</td> <td>    0.310</td> <td>   -0.711</td> <td> 0.477</td> <td>   -0.828</td> <td>    0.387</td>\n",
       "</tr>\n",
       "</table>"
      ],
      "text/plain": [
       "<class 'statsmodels.iolib.summary.Summary'>\n",
       "\"\"\"\n",
       "                             OrderedModel Results                             \n",
       "==============================================================================\n",
       "Dep. Variable:                   camp   Log-Likelihood:                -28.250\n",
       "Model:                   OrderedModel   AIC:                             62.50\n",
       "Method:            Maximum Likelihood   BIC:                             66.27\n",
       "Date:                Tue, 19 Jul 2022                                         \n",
       "Time:                        00:29:08                                         \n",
       "No. Observations:                  26                                         \n",
       "Df Residuals:                      23                                         \n",
       "Df Model:                           3                                         \n",
       "==============================================================================\n",
       "                 coef    std err          z      P>|z|      [0.025      0.975]\n",
       "------------------------------------------------------------------------------\n",
       "degree        -0.1010      0.177     -0.569      0.569      -0.449       0.247\n",
       "1.0/2.0       -0.5460      0.269     -2.027      0.043      -1.074      -0.018\n",
       "2.0/3.0       -0.2204      0.310     -0.711      0.477      -0.828       0.387\n",
       "==============================================================================\n",
       "\"\"\""
      ]
     },
     "execution_count": 56,
     "metadata": {},
     "output_type": "execute_result"
    }
   ],
   "source": [
    "ordinalReg(df_asCou_survey_gcm, ['degree'], 3)"
   ]
  },
  {
   "cell_type": "code",
   "execution_count": 57,
   "metadata": {},
   "outputs": [
    {
     "name": "stdout",
     "output_type": "stream",
     "text": [
      "Ordinal Regression:  ['eigenvector']\n",
      "-------------------------------------\n",
      "Optimization terminated successfully.\n",
      "         Current function value: 1.063999\n",
      "         Iterations: 7\n",
      "         Function evaluations: 8\n",
      "         Gradient evaluations: 8\n"
     ]
    },
    {
     "data": {
      "text/html": [
       "<table class=\"simpletable\">\n",
       "<caption>OrderedModel Results</caption>\n",
       "<tr>\n",
       "  <th>Dep. Variable:</th>           <td>camp</td>        <th>  Log-Likelihood:    </th> <td> -27.664</td>\n",
       "</tr>\n",
       "<tr>\n",
       "  <th>Model:</th>               <td>OrderedModel</td>    <th>  AIC:               </th> <td>   61.33</td>\n",
       "</tr>\n",
       "<tr>\n",
       "  <th>Method:</th>           <td>Maximum Likelihood</td> <th>  BIC:               </th> <td>   65.10</td>\n",
       "</tr>\n",
       "<tr>\n",
       "  <th>Date:</th>              <td>Tue, 19 Jul 2022</td>  <th>                     </th>     <td> </td>   \n",
       "</tr>\n",
       "<tr>\n",
       "  <th>Time:</th>                  <td>00:29:08</td>      <th>                     </th>     <td> </td>   \n",
       "</tr>\n",
       "<tr>\n",
       "  <th>No. Observations:</th>       <td>    26</td>       <th>                     </th>     <td> </td>   \n",
       "</tr>\n",
       "<tr>\n",
       "  <th>Df Residuals:</th>           <td>    23</td>       <th>                     </th>     <td> </td>   \n",
       "</tr>\n",
       "<tr>\n",
       "  <th>Df Model:</th>               <td>     3</td>       <th>                     </th>     <td> </td>   \n",
       "</tr>\n",
       "</table>\n",
       "<table class=\"simpletable\">\n",
       "<tr>\n",
       "       <td></td>          <th>coef</th>     <th>std err</th>      <th>z</th>      <th>P>|z|</th>  <th>[0.025</th>    <th>0.975]</th>  \n",
       "</tr>\n",
       "<tr>\n",
       "  <th>eigenvector</th> <td>   -0.2238</td> <td>    0.186</td> <td>   -1.202</td> <td> 0.229</td> <td>   -0.589</td> <td>    0.141</td>\n",
       "</tr>\n",
       "<tr>\n",
       "  <th>1.0/2.0</th>     <td>   -0.5895</td> <td>    0.271</td> <td>   -2.172</td> <td> 0.030</td> <td>   -1.121</td> <td>   -0.058</td>\n",
       "</tr>\n",
       "<tr>\n",
       "  <th>2.0/3.0</th>     <td>   -0.1905</td> <td>    0.310</td> <td>   -0.615</td> <td> 0.539</td> <td>   -0.798</td> <td>    0.417</td>\n",
       "</tr>\n",
       "</table>"
      ],
      "text/plain": [
       "<class 'statsmodels.iolib.summary.Summary'>\n",
       "\"\"\"\n",
       "                             OrderedModel Results                             \n",
       "==============================================================================\n",
       "Dep. Variable:                   camp   Log-Likelihood:                -27.664\n",
       "Model:                   OrderedModel   AIC:                             61.33\n",
       "Method:            Maximum Likelihood   BIC:                             65.10\n",
       "Date:                Tue, 19 Jul 2022                                         \n",
       "Time:                        00:29:08                                         \n",
       "No. Observations:                  26                                         \n",
       "Df Residuals:                      23                                         \n",
       "Df Model:                           3                                         \n",
       "===============================================================================\n",
       "                  coef    std err          z      P>|z|      [0.025      0.975]\n",
       "-------------------------------------------------------------------------------\n",
       "eigenvector    -0.2238      0.186     -1.202      0.229      -0.589       0.141\n",
       "1.0/2.0        -0.5895      0.271     -2.172      0.030      -1.121      -0.058\n",
       "2.0/3.0        -0.1905      0.310     -0.615      0.539      -0.798       0.417\n",
       "===============================================================================\n",
       "\"\"\""
      ]
     },
     "execution_count": 57,
     "metadata": {},
     "output_type": "execute_result"
    }
   ],
   "source": [
    "ordinalReg(df_asCou_survey_gcm, ['eigenvector'], 3)"
   ]
  },
  {
   "cell_type": "code",
   "execution_count": 58,
   "metadata": {},
   "outputs": [
    {
     "name": "stdout",
     "output_type": "stream",
     "text": [
      "Ordinal Regression:  ['pagerank']\n",
      "-------------------------------------\n",
      "Optimization terminated successfully.\n",
      "         Current function value: 1.076496\n",
      "         Iterations: 7\n",
      "         Function evaluations: 8\n",
      "         Gradient evaluations: 8\n"
     ]
    },
    {
     "data": {
      "text/html": [
       "<table class=\"simpletable\">\n",
       "<caption>OrderedModel Results</caption>\n",
       "<tr>\n",
       "  <th>Dep. Variable:</th>           <td>camp</td>        <th>  Log-Likelihood:    </th> <td> -27.989</td>\n",
       "</tr>\n",
       "<tr>\n",
       "  <th>Model:</th>               <td>OrderedModel</td>    <th>  AIC:               </th> <td>   61.98</td>\n",
       "</tr>\n",
       "<tr>\n",
       "  <th>Method:</th>           <td>Maximum Likelihood</td> <th>  BIC:               </th> <td>   65.75</td>\n",
       "</tr>\n",
       "<tr>\n",
       "  <th>Date:</th>              <td>Tue, 19 Jul 2022</td>  <th>                     </th>     <td> </td>   \n",
       "</tr>\n",
       "<tr>\n",
       "  <th>Time:</th>                  <td>00:29:09</td>      <th>                     </th>     <td> </td>   \n",
       "</tr>\n",
       "<tr>\n",
       "  <th>No. Observations:</th>       <td>    26</td>       <th>                     </th>     <td> </td>   \n",
       "</tr>\n",
       "<tr>\n",
       "  <th>Df Residuals:</th>           <td>    23</td>       <th>                     </th>     <td> </td>   \n",
       "</tr>\n",
       "<tr>\n",
       "  <th>Df Model:</th>               <td>     3</td>       <th>                     </th>     <td> </td>   \n",
       "</tr>\n",
       "</table>\n",
       "<table class=\"simpletable\">\n",
       "<tr>\n",
       "      <td></td>        <th>coef</th>     <th>std err</th>      <th>z</th>      <th>P>|z|</th>  <th>[0.025</th>    <th>0.975]</th>  \n",
       "</tr>\n",
       "<tr>\n",
       "  <th>pagerank</th> <td>   -0.1670</td> <td>    0.184</td> <td>   -0.905</td> <td> 0.365</td> <td>   -0.528</td> <td>    0.194</td>\n",
       "</tr>\n",
       "<tr>\n",
       "  <th>1.0/2.0</th>  <td>   -0.5808</td> <td>    0.273</td> <td>   -2.127</td> <td> 0.033</td> <td>   -1.116</td> <td>   -0.046</td>\n",
       "</tr>\n",
       "<tr>\n",
       "  <th>2.0/3.0</th>  <td>   -0.2077</td> <td>    0.310</td> <td>   -0.670</td> <td> 0.503</td> <td>   -0.815</td> <td>    0.400</td>\n",
       "</tr>\n",
       "</table>"
      ],
      "text/plain": [
       "<class 'statsmodels.iolib.summary.Summary'>\n",
       "\"\"\"\n",
       "                             OrderedModel Results                             \n",
       "==============================================================================\n",
       "Dep. Variable:                   camp   Log-Likelihood:                -27.989\n",
       "Model:                   OrderedModel   AIC:                             61.98\n",
       "Method:            Maximum Likelihood   BIC:                             65.75\n",
       "Date:                Tue, 19 Jul 2022                                         \n",
       "Time:                        00:29:09                                         \n",
       "No. Observations:                  26                                         \n",
       "Df Residuals:                      23                                         \n",
       "Df Model:                           3                                         \n",
       "==============================================================================\n",
       "                 coef    std err          z      P>|z|      [0.025      0.975]\n",
       "------------------------------------------------------------------------------\n",
       "pagerank      -0.1670      0.184     -0.905      0.365      -0.528       0.194\n",
       "1.0/2.0       -0.5808      0.273     -2.127      0.033      -1.116      -0.046\n",
       "2.0/3.0       -0.2077      0.310     -0.670      0.503      -0.815       0.400\n",
       "==============================================================================\n",
       "\"\"\""
      ]
     },
     "execution_count": 58,
     "metadata": {},
     "output_type": "execute_result"
    }
   ],
   "source": [
    "ordinalReg(df_asCou_survey_gcm, ['pagerank'], 3)"
   ]
  },
  {
   "cell_type": "markdown",
   "metadata": {},
   "source": [
    "## Continents"
   ]
  },
  {
   "cell_type": "code",
   "execution_count": 59,
   "metadata": {},
   "outputs": [
    {
     "name": "stdout",
     "output_type": "stream",
     "text": [
      "Dataframe merged with shape: (20, 5)\n",
      "============================\n",
      "Rows with NaN values dropped: 1 from 8 => 12.5% \n",
      "Dataframe merged with shape: (7, 6)\n"
     ]
    }
   ],
   "source": [
    "# Continents from the \"Category\": \"dbo:Continents\"\n",
    "\n",
    "continent_result = catMerger(df_continent, df_ig_gcm)\n",
    "df_survey_continent = pd.read_csv(\"../data/survey_single_cat_files/sv_prep_uri/improved_uri/sv_continents_impr.csv\", sep=';') # .csv needed no manual uri correction\n",
    "\n",
    "df_continent_survey_gcm = gcmSurfer(df_survey_continent, continent_result)"
   ]
  },
  {
   "cell_type": "code",
   "execution_count": 60,
   "metadata": {},
   "outputs": [
    {
     "name": "stdout",
     "output_type": "stream",
     "text": [
      "Ordinal Regression:  ['degree']\n",
      "-------------------------------------\n",
      "Optimization terminated successfully.\n",
      "         Current function value: 1.025213\n",
      "         Iterations: 8\n",
      "         Function evaluations: 9\n",
      "         Gradient evaluations: 9\n"
     ]
    },
    {
     "data": {
      "text/html": [
       "<table class=\"simpletable\">\n",
       "<caption>OrderedModel Results</caption>\n",
       "<tr>\n",
       "  <th>Dep. Variable:</th>           <td>camp</td>        <th>  Log-Likelihood:    </th> <td> -7.1765</td>\n",
       "</tr>\n",
       "<tr>\n",
       "  <th>Model:</th>               <td>OrderedModel</td>    <th>  AIC:               </th> <td>   20.35</td>\n",
       "</tr>\n",
       "<tr>\n",
       "  <th>Method:</th>           <td>Maximum Likelihood</td> <th>  BIC:               </th> <td>   20.19</td>\n",
       "</tr>\n",
       "<tr>\n",
       "  <th>Date:</th>              <td>Tue, 19 Jul 2022</td>  <th>                     </th>     <td> </td>   \n",
       "</tr>\n",
       "<tr>\n",
       "  <th>Time:</th>                  <td>00:29:17</td>      <th>                     </th>     <td> </td>   \n",
       "</tr>\n",
       "<tr>\n",
       "  <th>No. Observations:</th>       <td>     7</td>       <th>                     </th>     <td> </td>   \n",
       "</tr>\n",
       "<tr>\n",
       "  <th>Df Residuals:</th>           <td>     4</td>       <th>                     </th>     <td> </td>   \n",
       "</tr>\n",
       "<tr>\n",
       "  <th>Df Model:</th>               <td>     3</td>       <th>                     </th>     <td> </td>   \n",
       "</tr>\n",
       "</table>\n",
       "<table class=\"simpletable\">\n",
       "<tr>\n",
       "     <td></td>        <th>coef</th>     <th>std err</th>      <th>z</th>      <th>P>|z|</th>  <th>[0.025</th>    <th>0.975]</th>  \n",
       "</tr>\n",
       "<tr>\n",
       "  <th>degree</th>  <td>    0.3437</td> <td>    0.439</td> <td>    0.783</td> <td> 0.434</td> <td>   -0.517</td> <td>    1.204</td>\n",
       "</tr>\n",
       "<tr>\n",
       "  <th>1.0/2.0</th> <td>   -0.4831</td> <td>    0.516</td> <td>   -0.935</td> <td> 0.350</td> <td>   -1.495</td> <td>    0.529</td>\n",
       "</tr>\n",
       "<tr>\n",
       "  <th>2.0/3.0</th> <td>   -0.2370</td> <td>    0.621</td> <td>   -0.382</td> <td> 0.703</td> <td>   -1.454</td> <td>    0.980</td>\n",
       "</tr>\n",
       "</table>"
      ],
      "text/plain": [
       "<class 'statsmodels.iolib.summary.Summary'>\n",
       "\"\"\"\n",
       "                             OrderedModel Results                             \n",
       "==============================================================================\n",
       "Dep. Variable:                   camp   Log-Likelihood:                -7.1765\n",
       "Model:                   OrderedModel   AIC:                             20.35\n",
       "Method:            Maximum Likelihood   BIC:                             20.19\n",
       "Date:                Tue, 19 Jul 2022                                         \n",
       "Time:                        00:29:17                                         \n",
       "No. Observations:                   7                                         \n",
       "Df Residuals:                       4                                         \n",
       "Df Model:                           3                                         \n",
       "==============================================================================\n",
       "                 coef    std err          z      P>|z|      [0.025      0.975]\n",
       "------------------------------------------------------------------------------\n",
       "degree         0.3437      0.439      0.783      0.434      -0.517       1.204\n",
       "1.0/2.0       -0.4831      0.516     -0.935      0.350      -1.495       0.529\n",
       "2.0/3.0       -0.2370      0.621     -0.382      0.703      -1.454       0.980\n",
       "==============================================================================\n",
       "\"\"\""
      ]
     },
     "execution_count": 60,
     "metadata": {},
     "output_type": "execute_result"
    }
   ],
   "source": [
    "ordinalReg(df_continent_survey_gcm, ['degree'], 3)"
   ]
  },
  {
   "cell_type": "code",
   "execution_count": 61,
   "metadata": {},
   "outputs": [
    {
     "name": "stdout",
     "output_type": "stream",
     "text": [
      "Ordinal Regression:  ['eigenvector']\n",
      "-------------------------------------\n",
      "Optimization terminated successfully.\n",
      "         Current function value: 1.022176\n",
      "         Iterations: 8\n",
      "         Function evaluations: 9\n",
      "         Gradient evaluations: 9\n"
     ]
    },
    {
     "data": {
      "text/html": [
       "<table class=\"simpletable\">\n",
       "<caption>OrderedModel Results</caption>\n",
       "<tr>\n",
       "  <th>Dep. Variable:</th>           <td>camp</td>        <th>  Log-Likelihood:    </th> <td> -7.1552</td>\n",
       "</tr>\n",
       "<tr>\n",
       "  <th>Model:</th>               <td>OrderedModel</td>    <th>  AIC:               </th> <td>   20.31</td>\n",
       "</tr>\n",
       "<tr>\n",
       "  <th>Method:</th>           <td>Maximum Likelihood</td> <th>  BIC:               </th> <td>   20.15</td>\n",
       "</tr>\n",
       "<tr>\n",
       "  <th>Date:</th>              <td>Tue, 19 Jul 2022</td>  <th>                     </th>     <td> </td>   \n",
       "</tr>\n",
       "<tr>\n",
       "  <th>Time:</th>                  <td>00:29:17</td>      <th>                     </th>     <td> </td>   \n",
       "</tr>\n",
       "<tr>\n",
       "  <th>No. Observations:</th>       <td>     7</td>       <th>                     </th>     <td> </td>   \n",
       "</tr>\n",
       "<tr>\n",
       "  <th>Df Residuals:</th>           <td>     4</td>       <th>                     </th>     <td> </td>   \n",
       "</tr>\n",
       "<tr>\n",
       "  <th>Df Model:</th>               <td>     3</td>       <th>                     </th>     <td> </td>   \n",
       "</tr>\n",
       "</table>\n",
       "<table class=\"simpletable\">\n",
       "<tr>\n",
       "       <td></td>          <th>coef</th>     <th>std err</th>      <th>z</th>      <th>P>|z|</th>  <th>[0.025</th>    <th>0.975]</th>  \n",
       "</tr>\n",
       "<tr>\n",
       "  <th>eigenvector</th> <td>    0.3434</td> <td>    0.426</td> <td>    0.805</td> <td> 0.421</td> <td>   -0.492</td> <td>    1.179</td>\n",
       "</tr>\n",
       "<tr>\n",
       "  <th>1.0/2.0</th>     <td>   -0.5060</td> <td>    0.514</td> <td>   -0.983</td> <td> 0.325</td> <td>   -1.514</td> <td>    0.502</td>\n",
       "</tr>\n",
       "<tr>\n",
       "  <th>2.0/3.0</th>     <td>   -0.2320</td> <td>    0.621</td> <td>   -0.374</td> <td> 0.709</td> <td>   -1.449</td> <td>    0.985</td>\n",
       "</tr>\n",
       "</table>"
      ],
      "text/plain": [
       "<class 'statsmodels.iolib.summary.Summary'>\n",
       "\"\"\"\n",
       "                             OrderedModel Results                             \n",
       "==============================================================================\n",
       "Dep. Variable:                   camp   Log-Likelihood:                -7.1552\n",
       "Model:                   OrderedModel   AIC:                             20.31\n",
       "Method:            Maximum Likelihood   BIC:                             20.15\n",
       "Date:                Tue, 19 Jul 2022                                         \n",
       "Time:                        00:29:17                                         \n",
       "No. Observations:                   7                                         \n",
       "Df Residuals:                       4                                         \n",
       "Df Model:                           3                                         \n",
       "===============================================================================\n",
       "                  coef    std err          z      P>|z|      [0.025      0.975]\n",
       "-------------------------------------------------------------------------------\n",
       "eigenvector     0.3434      0.426      0.805      0.421      -0.492       1.179\n",
       "1.0/2.0        -0.5060      0.514     -0.983      0.325      -1.514       0.502\n",
       "2.0/3.0        -0.2320      0.621     -0.374      0.709      -1.449       0.985\n",
       "===============================================================================\n",
       "\"\"\""
      ]
     },
     "execution_count": 61,
     "metadata": {},
     "output_type": "execute_result"
    }
   ],
   "source": [
    "ordinalReg(df_continent_survey_gcm, ['eigenvector'], 3)"
   ]
  },
  {
   "cell_type": "code",
   "execution_count": 62,
   "metadata": {},
   "outputs": [
    {
     "name": "stdout",
     "output_type": "stream",
     "text": [
      "Ordinal Regression:  ['pagerank']\n",
      "-------------------------------------\n",
      "Optimization terminated successfully.\n",
      "         Current function value: 1.018234\n",
      "         Iterations: 8\n",
      "         Function evaluations: 9\n",
      "         Gradient evaluations: 9\n"
     ]
    },
    {
     "data": {
      "text/html": [
       "<table class=\"simpletable\">\n",
       "<caption>OrderedModel Results</caption>\n",
       "<tr>\n",
       "  <th>Dep. Variable:</th>           <td>camp</td>        <th>  Log-Likelihood:    </th> <td> -7.1276</td>\n",
       "</tr>\n",
       "<tr>\n",
       "  <th>Model:</th>               <td>OrderedModel</td>    <th>  AIC:               </th> <td>   20.26</td>\n",
       "</tr>\n",
       "<tr>\n",
       "  <th>Method:</th>           <td>Maximum Likelihood</td> <th>  BIC:               </th> <td>   20.09</td>\n",
       "</tr>\n",
       "<tr>\n",
       "  <th>Date:</th>              <td>Tue, 19 Jul 2022</td>  <th>                     </th>     <td> </td>   \n",
       "</tr>\n",
       "<tr>\n",
       "  <th>Time:</th>                  <td>00:29:17</td>      <th>                     </th>     <td> </td>   \n",
       "</tr>\n",
       "<tr>\n",
       "  <th>No. Observations:</th>       <td>     7</td>       <th>                     </th>     <td> </td>   \n",
       "</tr>\n",
       "<tr>\n",
       "  <th>Df Residuals:</th>           <td>     4</td>       <th>                     </th>     <td> </td>   \n",
       "</tr>\n",
       "<tr>\n",
       "  <th>Df Model:</th>               <td>     3</td>       <th>                     </th>     <td> </td>   \n",
       "</tr>\n",
       "</table>\n",
       "<table class=\"simpletable\">\n",
       "<tr>\n",
       "      <td></td>        <th>coef</th>     <th>std err</th>      <th>z</th>      <th>P>|z|</th>  <th>[0.025</th>    <th>0.975]</th>  \n",
       "</tr>\n",
       "<tr>\n",
       "  <th>pagerank</th> <td>    0.3686</td> <td>    0.452</td> <td>    0.816</td> <td> 0.414</td> <td>   -0.517</td> <td>    1.254</td>\n",
       "</tr>\n",
       "<tr>\n",
       "  <th>1.0/2.0</th>  <td>   -0.4900</td> <td>    0.516</td> <td>   -0.950</td> <td> 0.342</td> <td>   -1.501</td> <td>    0.521</td>\n",
       "</tr>\n",
       "<tr>\n",
       "  <th>2.0/3.0</th>  <td>   -0.2296</td> <td>    0.620</td> <td>   -0.370</td> <td> 0.711</td> <td>   -1.445</td> <td>    0.986</td>\n",
       "</tr>\n",
       "</table>"
      ],
      "text/plain": [
       "<class 'statsmodels.iolib.summary.Summary'>\n",
       "\"\"\"\n",
       "                             OrderedModel Results                             \n",
       "==============================================================================\n",
       "Dep. Variable:                   camp   Log-Likelihood:                -7.1276\n",
       "Model:                   OrderedModel   AIC:                             20.26\n",
       "Method:            Maximum Likelihood   BIC:                             20.09\n",
       "Date:                Tue, 19 Jul 2022                                         \n",
       "Time:                        00:29:17                                         \n",
       "No. Observations:                   7                                         \n",
       "Df Residuals:                       4                                         \n",
       "Df Model:                           3                                         \n",
       "==============================================================================\n",
       "                 coef    std err          z      P>|z|      [0.025      0.975]\n",
       "------------------------------------------------------------------------------\n",
       "pagerank       0.3686      0.452      0.816      0.414      -0.517       1.254\n",
       "1.0/2.0       -0.4900      0.516     -0.950      0.342      -1.501       0.521\n",
       "2.0/3.0       -0.2296      0.620     -0.370      0.711      -1.445       0.986\n",
       "==============================================================================\n",
       "\"\"\""
      ]
     },
     "execution_count": 62,
     "metadata": {},
     "output_type": "execute_result"
    }
   ],
   "source": [
    "ordinalReg(df_continent_survey_gcm, ['pagerank'], 3)"
   ]
  },
  {
   "cell_type": "markdown",
   "metadata": {},
   "source": [
    "## Birds"
   ]
  },
  {
   "cell_type": "code",
   "execution_count": 63,
   "metadata": {},
   "outputs": [
    {
     "name": "stdout",
     "output_type": "stream",
     "text": [
      "Dataframe merged with shape: (10000, 5)\n",
      "============================\n",
      "Rows with NaN values dropped: 27 from 50 => 54.0% \n",
      "Dataframe merged with shape: (23, 6)\n"
     ]
    }
   ],
   "source": [
    "# Birds from the \"Class\": \"dbr:Bird\"\n",
    "\n",
    "bird_result = catMerger(df_bird, df_ig_gcm)\n",
    "df_survey_bird = pd.read_csv(\"../data/survey_single_cat_files/sv_prep_uri/improved_uri/sv_birds_impr.csv\", sep=';') # .csv needed no manual uri correction\n",
    "\n",
    "df_birds_survey_gcm = gcmSurfer(df_survey_bird, bird_result)"
   ]
  },
  {
   "cell_type": "code",
   "execution_count": 64,
   "metadata": {},
   "outputs": [
    {
     "name": "stdout",
     "output_type": "stream",
     "text": [
      "Ordinal Regression:  ['degree']\n",
      "-------------------------------------\n",
      "Optimization terminated successfully.\n",
      "         Current function value: 0.698968\n",
      "         Iterations: 8\n",
      "         Function evaluations: 10\n",
      "         Gradient evaluations: 10\n"
     ]
    },
    {
     "data": {
      "text/html": [
       "<table class=\"simpletable\">\n",
       "<caption>OrderedModel Results</caption>\n",
       "<tr>\n",
       "  <th>Dep. Variable:</th>           <td>camp</td>        <th>  Log-Likelihood:    </th> <td> -16.076</td>\n",
       "</tr>\n",
       "<tr>\n",
       "  <th>Model:</th>               <td>OrderedModel</td>    <th>  AIC:               </th> <td>   38.15</td>\n",
       "</tr>\n",
       "<tr>\n",
       "  <th>Method:</th>           <td>Maximum Likelihood</td> <th>  BIC:               </th> <td>   41.56</td>\n",
       "</tr>\n",
       "<tr>\n",
       "  <th>Date:</th>              <td>Tue, 19 Jul 2022</td>  <th>                     </th>     <td> </td>   \n",
       "</tr>\n",
       "<tr>\n",
       "  <th>Time:</th>                  <td>00:30:33</td>      <th>                     </th>     <td> </td>   \n",
       "</tr>\n",
       "<tr>\n",
       "  <th>No. Observations:</th>       <td>    23</td>       <th>                     </th>     <td> </td>   \n",
       "</tr>\n",
       "<tr>\n",
       "  <th>Df Residuals:</th>           <td>    20</td>       <th>                     </th>     <td> </td>   \n",
       "</tr>\n",
       "<tr>\n",
       "  <th>Df Model:</th>               <td>     3</td>       <th>                     </th>     <td> </td>   \n",
       "</tr>\n",
       "</table>\n",
       "<table class=\"simpletable\">\n",
       "<tr>\n",
       "     <td></td>        <th>coef</th>     <th>std err</th>      <th>z</th>      <th>P>|z|</th>  <th>[0.025</th>    <th>0.975]</th>  \n",
       "</tr>\n",
       "<tr>\n",
       "  <th>degree</th>  <td>   -0.1867</td> <td>    0.137</td> <td>   -1.367</td> <td> 0.171</td> <td>   -0.454</td> <td>    0.081</td>\n",
       "</tr>\n",
       "<tr>\n",
       "  <th>1.0/2.0</th> <td>   -1.4993</td> <td>    0.399</td> <td>   -3.761</td> <td> 0.000</td> <td>   -2.281</td> <td>   -0.718</td>\n",
       "</tr>\n",
       "<tr>\n",
       "  <th>2.0/3.0</th> <td>   -0.2557</td> <td>    0.457</td> <td>   -0.560</td> <td> 0.576</td> <td>   -1.151</td> <td>    0.640</td>\n",
       "</tr>\n",
       "</table>"
      ],
      "text/plain": [
       "<class 'statsmodels.iolib.summary.Summary'>\n",
       "\"\"\"\n",
       "                             OrderedModel Results                             \n",
       "==============================================================================\n",
       "Dep. Variable:                   camp   Log-Likelihood:                -16.076\n",
       "Model:                   OrderedModel   AIC:                             38.15\n",
       "Method:            Maximum Likelihood   BIC:                             41.56\n",
       "Date:                Tue, 19 Jul 2022                                         \n",
       "Time:                        00:30:33                                         \n",
       "No. Observations:                  23                                         \n",
       "Df Residuals:                      20                                         \n",
       "Df Model:                           3                                         \n",
       "==============================================================================\n",
       "                 coef    std err          z      P>|z|      [0.025      0.975]\n",
       "------------------------------------------------------------------------------\n",
       "degree        -0.1867      0.137     -1.367      0.171      -0.454       0.081\n",
       "1.0/2.0       -1.4993      0.399     -3.761      0.000      -2.281      -0.718\n",
       "2.0/3.0       -0.2557      0.457     -0.560      0.576      -1.151       0.640\n",
       "==============================================================================\n",
       "\"\"\""
      ]
     },
     "execution_count": 64,
     "metadata": {},
     "output_type": "execute_result"
    }
   ],
   "source": [
    "ordinalReg(df_birds_survey_gcm, ['degree'], 3)"
   ]
  },
  {
   "cell_type": "code",
   "execution_count": 65,
   "metadata": {},
   "outputs": [
    {
     "name": "stdout",
     "output_type": "stream",
     "text": [
      "Ordinal Regression:  ['eigenvector']\n",
      "-------------------------------------\n",
      "Optimization terminated successfully.\n",
      "         Current function value: 0.626334\n",
      "         Iterations: 20\n",
      "         Function evaluations: 25\n",
      "         Gradient evaluations: 25\n"
     ]
    },
    {
     "data": {
      "text/html": [
       "<table class=\"simpletable\">\n",
       "<caption>OrderedModel Results</caption>\n",
       "<tr>\n",
       "  <th>Dep. Variable:</th>           <td>camp</td>        <th>  Log-Likelihood:    </th> <td> -14.406</td>\n",
       "</tr>\n",
       "<tr>\n",
       "  <th>Model:</th>               <td>OrderedModel</td>    <th>  AIC:               </th> <td>   34.81</td>\n",
       "</tr>\n",
       "<tr>\n",
       "  <th>Method:</th>           <td>Maximum Likelihood</td> <th>  BIC:               </th> <td>   38.22</td>\n",
       "</tr>\n",
       "<tr>\n",
       "  <th>Date:</th>              <td>Tue, 19 Jul 2022</td>  <th>                     </th>     <td> </td>   \n",
       "</tr>\n",
       "<tr>\n",
       "  <th>Time:</th>                  <td>00:30:34</td>      <th>                     </th>     <td> </td>   \n",
       "</tr>\n",
       "<tr>\n",
       "  <th>No. Observations:</th>       <td>    23</td>       <th>                     </th>     <td> </td>   \n",
       "</tr>\n",
       "<tr>\n",
       "  <th>Df Residuals:</th>           <td>    20</td>       <th>                     </th>     <td> </td>   \n",
       "</tr>\n",
       "<tr>\n",
       "  <th>Df Model:</th>               <td>     3</td>       <th>                     </th>     <td> </td>   \n",
       "</tr>\n",
       "</table>\n",
       "<table class=\"simpletable\">\n",
       "<tr>\n",
       "       <td></td>          <th>coef</th>     <th>std err</th>      <th>z</th>      <th>P>|z|</th>  <th>[0.025</th>    <th>0.975]</th>  \n",
       "</tr>\n",
       "<tr>\n",
       "  <th>eigenvector</th> <td>  153.1924</td> <td>  153.030</td> <td>    1.001</td> <td> 0.317</td> <td> -146.741</td> <td>  453.125</td>\n",
       "</tr>\n",
       "<tr>\n",
       "  <th>1.0/2.0</th>     <td>   -6.4446</td> <td>    4.830</td> <td>   -1.334</td> <td> 0.182</td> <td>  -15.911</td> <td>    3.022</td>\n",
       "</tr>\n",
       "<tr>\n",
       "  <th>2.0/3.0</th>     <td>   -0.0657</td> <td>    0.467</td> <td>   -0.141</td> <td> 0.888</td> <td>   -0.980</td> <td>    0.849</td>\n",
       "</tr>\n",
       "</table>"
      ],
      "text/plain": [
       "<class 'statsmodels.iolib.summary.Summary'>\n",
       "\"\"\"\n",
       "                             OrderedModel Results                             \n",
       "==============================================================================\n",
       "Dep. Variable:                   camp   Log-Likelihood:                -14.406\n",
       "Model:                   OrderedModel   AIC:                             34.81\n",
       "Method:            Maximum Likelihood   BIC:                             38.22\n",
       "Date:                Tue, 19 Jul 2022                                         \n",
       "Time:                        00:30:34                                         \n",
       "No. Observations:                  23                                         \n",
       "Df Residuals:                      20                                         \n",
       "Df Model:                           3                                         \n",
       "===============================================================================\n",
       "                  coef    std err          z      P>|z|      [0.025      0.975]\n",
       "-------------------------------------------------------------------------------\n",
       "eigenvector   153.1924    153.030      1.001      0.317    -146.741     453.125\n",
       "1.0/2.0        -6.4446      4.830     -1.334      0.182     -15.911       3.022\n",
       "2.0/3.0        -0.0657      0.467     -0.141      0.888      -0.980       0.849\n",
       "===============================================================================\n",
       "\"\"\""
      ]
     },
     "execution_count": 65,
     "metadata": {},
     "output_type": "execute_result"
    }
   ],
   "source": [
    "ordinalReg(df_birds_survey_gcm, ['eigenvector'], 3)"
   ]
  },
  {
   "cell_type": "code",
   "execution_count": 66,
   "metadata": {},
   "outputs": [
    {
     "name": "stdout",
     "output_type": "stream",
     "text": [
      "Ordinal Regression:  ['pagerank']\n",
      "-------------------------------------\n",
      "Optimization terminated successfully.\n",
      "         Current function value: 0.702905\n",
      "         Iterations: 8\n",
      "         Function evaluations: 10\n",
      "         Gradient evaluations: 10\n"
     ]
    },
    {
     "data": {
      "text/html": [
       "<table class=\"simpletable\">\n",
       "<caption>OrderedModel Results</caption>\n",
       "<tr>\n",
       "  <th>Dep. Variable:</th>           <td>camp</td>        <th>  Log-Likelihood:    </th> <td> -16.167</td>\n",
       "</tr>\n",
       "<tr>\n",
       "  <th>Model:</th>               <td>OrderedModel</td>    <th>  AIC:               </th> <td>   38.33</td>\n",
       "</tr>\n",
       "<tr>\n",
       "  <th>Method:</th>           <td>Maximum Likelihood</td> <th>  BIC:               </th> <td>   41.74</td>\n",
       "</tr>\n",
       "<tr>\n",
       "  <th>Date:</th>              <td>Tue, 19 Jul 2022</td>  <th>                     </th>     <td> </td>   \n",
       "</tr>\n",
       "<tr>\n",
       "  <th>Time:</th>                  <td>00:30:34</td>      <th>                     </th>     <td> </td>   \n",
       "</tr>\n",
       "<tr>\n",
       "  <th>No. Observations:</th>       <td>    23</td>       <th>                     </th>     <td> </td>   \n",
       "</tr>\n",
       "<tr>\n",
       "  <th>Df Residuals:</th>           <td>    20</td>       <th>                     </th>     <td> </td>   \n",
       "</tr>\n",
       "<tr>\n",
       "  <th>Df Model:</th>               <td>     3</td>       <th>                     </th>     <td> </td>   \n",
       "</tr>\n",
       "</table>\n",
       "<table class=\"simpletable\">\n",
       "<tr>\n",
       "      <td></td>        <th>coef</th>     <th>std err</th>      <th>z</th>      <th>P>|z|</th>  <th>[0.025</th>    <th>0.975]</th>  \n",
       "</tr>\n",
       "<tr>\n",
       "  <th>pagerank</th> <td>   -0.1829</td> <td>    0.141</td> <td>   -1.301</td> <td> 0.193</td> <td>   -0.458</td> <td>    0.093</td>\n",
       "</tr>\n",
       "<tr>\n",
       "  <th>1.0/2.0</th>  <td>   -1.5020</td> <td>    0.399</td> <td>   -3.763</td> <td> 0.000</td> <td>   -2.284</td> <td>   -0.720</td>\n",
       "</tr>\n",
       "<tr>\n",
       "  <th>2.0/3.0</th>  <td>   -0.2641</td> <td>    0.457</td> <td>   -0.578</td> <td> 0.563</td> <td>   -1.159</td> <td>    0.631</td>\n",
       "</tr>\n",
       "</table>"
      ],
      "text/plain": [
       "<class 'statsmodels.iolib.summary.Summary'>\n",
       "\"\"\"\n",
       "                             OrderedModel Results                             \n",
       "==============================================================================\n",
       "Dep. Variable:                   camp   Log-Likelihood:                -16.167\n",
       "Model:                   OrderedModel   AIC:                             38.33\n",
       "Method:            Maximum Likelihood   BIC:                             41.74\n",
       "Date:                Tue, 19 Jul 2022                                         \n",
       "Time:                        00:30:34                                         \n",
       "No. Observations:                  23                                         \n",
       "Df Residuals:                      20                                         \n",
       "Df Model:                           3                                         \n",
       "==============================================================================\n",
       "                 coef    std err          z      P>|z|      [0.025      0.975]\n",
       "------------------------------------------------------------------------------\n",
       "pagerank      -0.1829      0.141     -1.301      0.193      -0.458       0.093\n",
       "1.0/2.0       -1.5020      0.399     -3.763      0.000      -2.284      -0.720\n",
       "2.0/3.0       -0.2641      0.457     -0.578      0.563      -1.159       0.631\n",
       "==============================================================================\n",
       "\"\"\""
      ]
     },
     "execution_count": 66,
     "metadata": {},
     "output_type": "execute_result"
    }
   ],
   "source": [
    "ordinalReg(df_birds_survey_gcm, ['pagerank'], 3)"
   ]
  },
  {
   "cell_type": "markdown",
   "metadata": {},
   "source": [
    "## African animals"
   ]
  },
  {
   "cell_type": "code",
   "execution_count": 67,
   "metadata": {},
   "outputs": [
    {
     "name": "stdout",
     "output_type": "stream",
     "text": [
      "Dataframe merged with shape: (10000, 5)\n",
      "============================\n",
      "Rows with NaN values dropped: 22 from 29 => 75.86% \n",
      "Dataframe merged with shape: (7, 6)\n"
     ]
    }
   ],
   "source": [
    "# African animals from the \"Category\": \"dbc:Vertebrates_of_Africa\"\n",
    "\n",
    "afrAnimal_result = catMerger(df_africanAnimal, df_ig_gcm)\n",
    "df_survey_afrAnimal = pd.read_csv(\"../data/survey_single_cat_files/sv_prep_uri/sv_african_animals_prep.csv\", sep=';') # .csv needed no manual uri correction\n",
    "\n",
    "df_afrAnimal_survey_gcm = gcmSurfer(df_survey_afrAnimal, afrAnimal_result)"
   ]
  },
  {
   "cell_type": "code",
   "execution_count": 68,
   "metadata": {},
   "outputs": [
    {
     "name": "stdout",
     "output_type": "stream",
     "text": [
      "Ordinal Regression:  ['degree']\n",
      "-------------------------------------\n",
      "Optimization terminated successfully.\n",
      "         Current function value: 0.304787\n",
      "         Iterations: 8\n",
      "         Function evaluations: 10\n",
      "         Gradient evaluations: 10\n"
     ]
    },
    {
     "data": {
      "text/html": [
       "<table class=\"simpletable\">\n",
       "<caption>OrderedModel Results</caption>\n",
       "<tr>\n",
       "  <th>Dep. Variable:</th>           <td>camp</td>        <th>  Log-Likelihood:    </th> <td> -2.1335</td>\n",
       "</tr>\n",
       "<tr>\n",
       "  <th>Model:</th>               <td>OrderedModel</td>    <th>  AIC:               </th> <td>   8.267</td>\n",
       "</tr>\n",
       "<tr>\n",
       "  <th>Method:</th>           <td>Maximum Likelihood</td> <th>  BIC:               </th> <td>   8.159</td>\n",
       "</tr>\n",
       "<tr>\n",
       "  <th>Date:</th>              <td>Tue, 19 Jul 2022</td>  <th>                     </th>     <td> </td>   \n",
       "</tr>\n",
       "<tr>\n",
       "  <th>Time:</th>                  <td>00:30:46</td>      <th>                     </th>     <td> </td>   \n",
       "</tr>\n",
       "<tr>\n",
       "  <th>No. Observations:</th>       <td>     7</td>       <th>                     </th>     <td> </td>   \n",
       "</tr>\n",
       "<tr>\n",
       "  <th>Df Residuals:</th>           <td>     5</td>       <th>                     </th>     <td> </td>   \n",
       "</tr>\n",
       "<tr>\n",
       "  <th>Df Model:</th>               <td>     2</td>       <th>                     </th>     <td> </td>   \n",
       "</tr>\n",
       "</table>\n",
       "<table class=\"simpletable\">\n",
       "<tr>\n",
       "     <td></td>        <th>coef</th>     <th>std err</th>      <th>z</th>      <th>P>|z|</th>  <th>[0.025</th>    <th>0.975]</th>  \n",
       "</tr>\n",
       "<tr>\n",
       "  <th>degree</th>  <td>   -2.4432</td> <td>    2.262</td> <td>   -1.080</td> <td> 0.280</td> <td>   -6.877</td> <td>    1.991</td>\n",
       "</tr>\n",
       "<tr>\n",
       "  <th>2.0/3.0</th> <td>   -0.9591</td> <td>    0.705</td> <td>   -1.361</td> <td> 0.174</td> <td>   -2.340</td> <td>    0.422</td>\n",
       "</tr>\n",
       "</table>"
      ],
      "text/plain": [
       "<class 'statsmodels.iolib.summary.Summary'>\n",
       "\"\"\"\n",
       "                             OrderedModel Results                             \n",
       "==============================================================================\n",
       "Dep. Variable:                   camp   Log-Likelihood:                -2.1335\n",
       "Model:                   OrderedModel   AIC:                             8.267\n",
       "Method:            Maximum Likelihood   BIC:                             8.159\n",
       "Date:                Tue, 19 Jul 2022                                         \n",
       "Time:                        00:30:46                                         \n",
       "No. Observations:                   7                                         \n",
       "Df Residuals:                       5                                         \n",
       "Df Model:                           2                                         \n",
       "==============================================================================\n",
       "                 coef    std err          z      P>|z|      [0.025      0.975]\n",
       "------------------------------------------------------------------------------\n",
       "degree        -2.4432      2.262     -1.080      0.280      -6.877       1.991\n",
       "2.0/3.0       -0.9591      0.705     -1.361      0.174      -2.340       0.422\n",
       "==============================================================================\n",
       "\"\"\""
      ]
     },
     "execution_count": 68,
     "metadata": {},
     "output_type": "execute_result"
    }
   ],
   "source": [
    "ordinalReg(df_afrAnimal_survey_gcm, ['degree'], 3)"
   ]
  },
  {
   "cell_type": "code",
   "execution_count": 69,
   "metadata": {},
   "outputs": [
    {
     "name": "stdout",
     "output_type": "stream",
     "text": [
      "Ordinal Regression:  ['eigenvector']\n",
      "-------------------------------------\n",
      "Optimization terminated successfully.\n",
      "         Current function value: 0.386199\n",
      "         Iterations: 20\n",
      "         Function evaluations: 21\n",
      "         Gradient evaluations: 21\n"
     ]
    },
    {
     "data": {
      "text/html": [
       "<table class=\"simpletable\">\n",
       "<caption>OrderedModel Results</caption>\n",
       "<tr>\n",
       "  <th>Dep. Variable:</th>           <td>camp</td>        <th>  Log-Likelihood:    </th> <td> -2.7034</td>\n",
       "</tr>\n",
       "<tr>\n",
       "  <th>Model:</th>               <td>OrderedModel</td>    <th>  AIC:               </th> <td>   9.407</td>\n",
       "</tr>\n",
       "<tr>\n",
       "  <th>Method:</th>           <td>Maximum Likelihood</td> <th>  BIC:               </th> <td>   9.299</td>\n",
       "</tr>\n",
       "<tr>\n",
       "  <th>Date:</th>              <td>Tue, 19 Jul 2022</td>  <th>                     </th>     <td> </td>   \n",
       "</tr>\n",
       "<tr>\n",
       "  <th>Time:</th>                  <td>00:30:46</td>      <th>                     </th>     <td> </td>   \n",
       "</tr>\n",
       "<tr>\n",
       "  <th>No. Observations:</th>       <td>     7</td>       <th>                     </th>     <td> </td>   \n",
       "</tr>\n",
       "<tr>\n",
       "  <th>Df Residuals:</th>           <td>     5</td>       <th>                     </th>     <td> </td>   \n",
       "</tr>\n",
       "<tr>\n",
       "  <th>Df Model:</th>               <td>     2</td>       <th>                     </th>     <td> </td>   \n",
       "</tr>\n",
       "</table>\n",
       "<table class=\"simpletable\">\n",
       "<tr>\n",
       "       <td></td>          <th>coef</th>     <th>std err</th>      <th>z</th>      <th>P>|z|</th>  <th>[0.025</th>    <th>0.975]</th>  \n",
       "</tr>\n",
       "<tr>\n",
       "  <th>eigenvector</th> <td>   -2.1464</td> <td>   97.099</td> <td>   -0.022</td> <td> 0.982</td> <td> -192.457</td> <td>  188.164</td>\n",
       "</tr>\n",
       "<tr>\n",
       "  <th>2.0/3.0</th>     <td>   -3.3140</td> <td>  106.151</td> <td>   -0.031</td> <td> 0.975</td> <td> -211.366</td> <td>  204.738</td>\n",
       "</tr>\n",
       "</table>"
      ],
      "text/plain": [
       "<class 'statsmodels.iolib.summary.Summary'>\n",
       "\"\"\"\n",
       "                             OrderedModel Results                             \n",
       "==============================================================================\n",
       "Dep. Variable:                   camp   Log-Likelihood:                -2.7034\n",
       "Model:                   OrderedModel   AIC:                             9.407\n",
       "Method:            Maximum Likelihood   BIC:                             9.299\n",
       "Date:                Tue, 19 Jul 2022                                         \n",
       "Time:                        00:30:46                                         \n",
       "No. Observations:                   7                                         \n",
       "Df Residuals:                       5                                         \n",
       "Df Model:                           2                                         \n",
       "===============================================================================\n",
       "                  coef    std err          z      P>|z|      [0.025      0.975]\n",
       "-------------------------------------------------------------------------------\n",
       "eigenvector    -2.1464     97.099     -0.022      0.982    -192.457     188.164\n",
       "2.0/3.0        -3.3140    106.151     -0.031      0.975    -211.366     204.738\n",
       "===============================================================================\n",
       "\"\"\""
      ]
     },
     "execution_count": 69,
     "metadata": {},
     "output_type": "execute_result"
    }
   ],
   "source": [
    "ordinalReg(df_afrAnimal_survey_gcm, ['eigenvector'], 3)"
   ]
  },
  {
   "cell_type": "code",
   "execution_count": 70,
   "metadata": {},
   "outputs": [
    {
     "name": "stdout",
     "output_type": "stream",
     "text": [
      "Ordinal Regression:  ['pagerank']\n",
      "-------------------------------------\n",
      "Optimization terminated successfully.\n",
      "         Current function value: 0.000001\n",
      "         Iterations: 21\n",
      "         Function evaluations: 22\n",
      "         Gradient evaluations: 22\n"
     ]
    },
    {
     "data": {
      "text/html": [
       "<table class=\"simpletable\">\n",
       "<caption>OrderedModel Results</caption>\n",
       "<tr>\n",
       "  <th>Dep. Variable:</th>           <td>camp</td>        <th>  Log-Likelihood:    </th> <td>-8.5557e-06</td>\n",
       "</tr>\n",
       "<tr>\n",
       "  <th>Model:</th>               <td>OrderedModel</td>    <th>  AIC:               </th>  <td>   4.000</td>  \n",
       "</tr>\n",
       "<tr>\n",
       "  <th>Method:</th>           <td>Maximum Likelihood</td> <th>  BIC:               </th>  <td>   3.892</td>  \n",
       "</tr>\n",
       "<tr>\n",
       "  <th>Date:</th>              <td>Tue, 19 Jul 2022</td>  <th>                     </th>      <td> </td>     \n",
       "</tr>\n",
       "<tr>\n",
       "  <th>Time:</th>                  <td>00:30:46</td>      <th>                     </th>      <td> </td>     \n",
       "</tr>\n",
       "<tr>\n",
       "  <th>No. Observations:</th>       <td>     7</td>       <th>                     </th>      <td> </td>     \n",
       "</tr>\n",
       "<tr>\n",
       "  <th>Df Residuals:</th>           <td>     5</td>       <th>                     </th>      <td> </td>     \n",
       "</tr>\n",
       "<tr>\n",
       "  <th>Df Model:</th>               <td>     2</td>       <th>                     </th>      <td> </td>     \n",
       "</tr>\n",
       "</table>\n",
       "<table class=\"simpletable\">\n",
       "<tr>\n",
       "      <td></td>        <th>coef</th>     <th>std err</th>      <th>z</th>      <th>P>|z|</th>  <th>[0.025</th>    <th>0.975]</th>  \n",
       "</tr>\n",
       "<tr>\n",
       "  <th>pagerank</th> <td>  -30.1538</td> <td> 1332.985</td> <td>   -0.023</td> <td> 0.982</td> <td>-2642.757</td> <td> 2582.449</td>\n",
       "</tr>\n",
       "<tr>\n",
       "  <th>2.0/3.0</th>  <td>  -22.9916</td> <td> 1194.271</td> <td>   -0.019</td> <td> 0.985</td> <td>-2363.720</td> <td> 2317.737</td>\n",
       "</tr>\n",
       "</table>"
      ],
      "text/plain": [
       "<class 'statsmodels.iolib.summary.Summary'>\n",
       "\"\"\"\n",
       "                             OrderedModel Results                             \n",
       "==============================================================================\n",
       "Dep. Variable:                   camp   Log-Likelihood:            -8.5557e-06\n",
       "Model:                   OrderedModel   AIC:                             4.000\n",
       "Method:            Maximum Likelihood   BIC:                             3.892\n",
       "Date:                Tue, 19 Jul 2022                                         \n",
       "Time:                        00:30:46                                         \n",
       "No. Observations:                   7                                         \n",
       "Df Residuals:                       5                                         \n",
       "Df Model:                           2                                         \n",
       "==============================================================================\n",
       "                 coef    std err          z      P>|z|      [0.025      0.975]\n",
       "------------------------------------------------------------------------------\n",
       "pagerank     -30.1538   1332.985     -0.023      0.982   -2642.757    2582.449\n",
       "2.0/3.0      -22.9916   1194.271     -0.019      0.985   -2363.720    2317.737\n",
       "==============================================================================\n",
       "\"\"\""
      ]
     },
     "execution_count": 70,
     "metadata": {},
     "output_type": "execute_result"
    }
   ],
   "source": [
    "ordinalReg(df_afrAnimal_survey_gcm, ['pagerank'], 3)"
   ]
  },
  {
   "cell_type": "markdown",
   "metadata": {},
   "source": [
    "## Furniture"
   ]
  },
  {
   "cell_type": "code",
   "execution_count": 71,
   "metadata": {},
   "outputs": [
    {
     "name": "stdout",
     "output_type": "stream",
     "text": [
      "Dataframe merged with shape: (193, 5)\n",
      "============================\n",
      "Rows with NaN values dropped: 27 from 30 => 90.0% \n",
      "Dataframe merged with shape: (3, 6)\n"
     ]
    }
   ],
   "source": [
    "# Furniture from the \"Category\": \"dbc:Furniture\"\n",
    "\n",
    "furniture_result = catMerger(df_furniture, df_ig_gcm)\n",
    "df_survey_furniture = pd.read_csv(\"../data/survey_single_cat_files/sv_prep_uri/sv_furniture_prep.csv\", sep=';') # .csv needed no manual uri correction\n",
    "\n",
    "df_furniture_survey_gcm = gcmSurfer(df_survey_furniture, furniture_result)"
   ]
  },
  {
   "cell_type": "code",
   "execution_count": 72,
   "metadata": {},
   "outputs": [
    {
     "name": "stdout",
     "output_type": "stream",
     "text": [
      "Ordinal Regression:  ['degree']\n",
      "-------------------------------------\n"
     ]
    },
    {
     "ename": "ValueError",
     "evalue": "shapes (3,1) and (0,) not aligned: 1 (dim 1) != 0 (dim 0)",
     "output_type": "error",
     "traceback": [
      "\u001b[0;31m---------------------------------------------------------------------------\u001b[0m",
      "\u001b[0;31mValueError\u001b[0m                                Traceback (most recent call last)",
      "\u001b[0;32m<ipython-input-72-52a4d21eae21>\u001b[0m in \u001b[0;36m<module>\u001b[0;34m\u001b[0m\n\u001b[0;32m----> 1\u001b[0;31m \u001b[0mordinalReg\u001b[0m\u001b[0;34m(\u001b[0m\u001b[0mdf_furniture_survey_gcm\u001b[0m\u001b[0;34m,\u001b[0m \u001b[0;34m[\u001b[0m\u001b[0;34m'degree'\u001b[0m\u001b[0;34m]\u001b[0m\u001b[0;34m,\u001b[0m \u001b[0;36m3\u001b[0m\u001b[0;34m)\u001b[0m\u001b[0;34m\u001b[0m\u001b[0;34m\u001b[0m\u001b[0m\n\u001b[0m",
      "\u001b[0;32m<ipython-input-10-0b59c3c1a966>\u001b[0m in \u001b[0;36mordinalReg\u001b[0;34m(df_survey_gcm, list_gcm, num_splits)\u001b[0m\n\u001b[1;32m     13\u001b[0m     \u001b[0mprint\u001b[0m\u001b[0;34m(\u001b[0m\u001b[0;34m\"Ordinal Regression:  {}\"\u001b[0m\u001b[0;34m.\u001b[0m\u001b[0mformat\u001b[0m\u001b[0;34m(\u001b[0m\u001b[0mlist_gcm\u001b[0m\u001b[0;34m)\u001b[0m\u001b[0;34m)\u001b[0m\u001b[0;34m\u001b[0m\u001b[0;34m\u001b[0m\u001b[0m\n\u001b[1;32m     14\u001b[0m     \u001b[0mprint\u001b[0m\u001b[0;34m(\u001b[0m\u001b[0;34m'-------------------------------------'\u001b[0m\u001b[0;34m)\u001b[0m\u001b[0;34m\u001b[0m\u001b[0;34m\u001b[0m\u001b[0m\n\u001b[0;32m---> 15\u001b[0;31m     \u001b[0mres_prob\u001b[0m \u001b[0;34m=\u001b[0m \u001b[0mmod_prob\u001b[0m\u001b[0;34m.\u001b[0m\u001b[0mfit\u001b[0m\u001b[0;34m(\u001b[0m\u001b[0mmethod\u001b[0m\u001b[0;34m=\u001b[0m\u001b[0;34m'bfgs'\u001b[0m\u001b[0;34m)\u001b[0m\u001b[0;34m\u001b[0m\u001b[0;34m\u001b[0m\u001b[0m\n\u001b[0m\u001b[1;32m     16\u001b[0m \u001b[0;34m\u001b[0m\u001b[0m\n\u001b[1;32m     17\u001b[0m     \u001b[0;32mreturn\u001b[0m \u001b[0mres_prob\u001b[0m\u001b[0;34m.\u001b[0m\u001b[0msummary\u001b[0m\u001b[0;34m(\u001b[0m\u001b[0;34m)\u001b[0m\u001b[0;34m\u001b[0m\u001b[0;34m\u001b[0m\u001b[0m\n",
      "\u001b[0;32m~/opt/anaconda3/lib/python3.7/site-packages/statsmodels/miscmodels/ordinal_model.py\u001b[0m in \u001b[0;36mfit\u001b[0;34m(self, start_params, method, maxiter, full_output, disp, callback, retall, **kwargs)\u001b[0m\n\u001b[1;32m    589\u001b[0m                             \u001b[0mmethod\u001b[0m\u001b[0;34m=\u001b[0m\u001b[0mmethod\u001b[0m\u001b[0;34m,\u001b[0m \u001b[0mmaxiter\u001b[0m\u001b[0;34m=\u001b[0m\u001b[0mmaxiter\u001b[0m\u001b[0;34m,\u001b[0m\u001b[0;34m\u001b[0m\u001b[0;34m\u001b[0m\u001b[0m\n\u001b[1;32m    590\u001b[0m                             \u001b[0mfull_output\u001b[0m\u001b[0;34m=\u001b[0m\u001b[0mfull_output\u001b[0m\u001b[0;34m,\u001b[0m\u001b[0;34m\u001b[0m\u001b[0;34m\u001b[0m\u001b[0m\n\u001b[0;32m--> 591\u001b[0;31m                             disp=disp, callback=callback, **kwargs)\n\u001b[0m\u001b[1;32m    592\u001b[0m         \u001b[0;31m# use the proper result class\u001b[0m\u001b[0;34m\u001b[0m\u001b[0;34m\u001b[0m\u001b[0;34m\u001b[0m\u001b[0m\n\u001b[1;32m    593\u001b[0m         \u001b[0mordmlefit\u001b[0m \u001b[0;34m=\u001b[0m \u001b[0mOrderedResults\u001b[0m\u001b[0;34m(\u001b[0m\u001b[0mself\u001b[0m\u001b[0;34m,\u001b[0m \u001b[0mmlefit\u001b[0m\u001b[0;34m)\u001b[0m\u001b[0;34m\u001b[0m\u001b[0;34m\u001b[0m\u001b[0m\n",
      "\u001b[0;32m~/opt/anaconda3/lib/python3.7/site-packages/statsmodels/base/model.py\u001b[0m in \u001b[0;36mfit\u001b[0;34m(self, start_params, method, maxiter, full_output, disp, callback, retall, **kwargs)\u001b[0m\n\u001b[1;32m   1007\u001b[0m                             \u001b[0mmethod\u001b[0m\u001b[0;34m=\u001b[0m\u001b[0mmethod\u001b[0m\u001b[0;34m,\u001b[0m \u001b[0mmaxiter\u001b[0m\u001b[0;34m=\u001b[0m\u001b[0mmaxiter\u001b[0m\u001b[0;34m,\u001b[0m\u001b[0;34m\u001b[0m\u001b[0;34m\u001b[0m\u001b[0m\n\u001b[1;32m   1008\u001b[0m                             \u001b[0mfull_output\u001b[0m\u001b[0;34m=\u001b[0m\u001b[0mfull_output\u001b[0m\u001b[0;34m,\u001b[0m\u001b[0;34m\u001b[0m\u001b[0;34m\u001b[0m\u001b[0m\n\u001b[0;32m-> 1009\u001b[0;31m                             disp=disp, callback=callback, **kwargs)\n\u001b[0m\u001b[1;32m   1010\u001b[0m \u001b[0;34m\u001b[0m\u001b[0m\n\u001b[1;32m   1011\u001b[0m         results_class = getattr(self, 'results_class',\n",
      "\u001b[0;32m~/opt/anaconda3/lib/python3.7/site-packages/statsmodels/base/model.py\u001b[0m in \u001b[0;36mfit\u001b[0;34m(self, start_params, method, maxiter, full_output, disp, fargs, callback, retall, skip_hessian, **kwargs)\u001b[0m\n\u001b[1;32m    569\u001b[0m                                                        \u001b[0mcallback\u001b[0m\u001b[0;34m=\u001b[0m\u001b[0mcallback\u001b[0m\u001b[0;34m,\u001b[0m\u001b[0;34m\u001b[0m\u001b[0;34m\u001b[0m\u001b[0m\n\u001b[1;32m    570\u001b[0m                                                        \u001b[0mretall\u001b[0m\u001b[0;34m=\u001b[0m\u001b[0mretall\u001b[0m\u001b[0;34m,\u001b[0m\u001b[0;34m\u001b[0m\u001b[0;34m\u001b[0m\u001b[0m\n\u001b[0;32m--> 571\u001b[0;31m                                                        full_output=full_output)\n\u001b[0m\u001b[1;32m    572\u001b[0m         \u001b[0;31m# Restore cov_type, cov_kwds and use_t\u001b[0m\u001b[0;34m\u001b[0m\u001b[0;34m\u001b[0m\u001b[0;34m\u001b[0m\u001b[0m\n\u001b[1;32m    573\u001b[0m         \u001b[0moptim_settings\u001b[0m\u001b[0;34m.\u001b[0m\u001b[0mupdate\u001b[0m\u001b[0;34m(\u001b[0m\u001b[0mkwds\u001b[0m\u001b[0;34m)\u001b[0m\u001b[0;34m\u001b[0m\u001b[0;34m\u001b[0m\u001b[0m\n",
      "\u001b[0;32m~/opt/anaconda3/lib/python3.7/site-packages/statsmodels/base/optimizer.py\u001b[0m in \u001b[0;36m_fit\u001b[0;34m(self, objective, gradient, start_params, fargs, kwargs, hessian, method, maxiter, full_output, disp, callback, retall)\u001b[0m\n\u001b[1;32m    242\u001b[0m                              \u001b[0mdisp\u001b[0m\u001b[0;34m=\u001b[0m\u001b[0mdisp\u001b[0m\u001b[0;34m,\u001b[0m \u001b[0mmaxiter\u001b[0m\u001b[0;34m=\u001b[0m\u001b[0mmaxiter\u001b[0m\u001b[0;34m,\u001b[0m \u001b[0mcallback\u001b[0m\u001b[0;34m=\u001b[0m\u001b[0mcallback\u001b[0m\u001b[0;34m,\u001b[0m\u001b[0;34m\u001b[0m\u001b[0;34m\u001b[0m\u001b[0m\n\u001b[1;32m    243\u001b[0m                              \u001b[0mretall\u001b[0m\u001b[0;34m=\u001b[0m\u001b[0mretall\u001b[0m\u001b[0;34m,\u001b[0m \u001b[0mfull_output\u001b[0m\u001b[0;34m=\u001b[0m\u001b[0mfull_output\u001b[0m\u001b[0;34m,\u001b[0m\u001b[0;34m\u001b[0m\u001b[0;34m\u001b[0m\u001b[0m\n\u001b[0;32m--> 244\u001b[0;31m                              hess=hessian)\n\u001b[0m\u001b[1;32m    245\u001b[0m \u001b[0;34m\u001b[0m\u001b[0m\n\u001b[1;32m    246\u001b[0m         optim_settings = {'optimizer': method, 'start_params': start_params,\n",
      "\u001b[0;32m~/opt/anaconda3/lib/python3.7/site-packages/statsmodels/base/optimizer.py\u001b[0m in \u001b[0;36m_fit_bfgs\u001b[0;34m(f, score, start_params, fargs, kwargs, disp, maxiter, callback, retall, full_output, hess)\u001b[0m\n\u001b[1;32m    530\u001b[0m                                  \u001b[0mgtol\u001b[0m\u001b[0;34m=\u001b[0m\u001b[0mgtol\u001b[0m\u001b[0;34m,\u001b[0m \u001b[0mnorm\u001b[0m\u001b[0;34m=\u001b[0m\u001b[0mnorm\u001b[0m\u001b[0;34m,\u001b[0m \u001b[0mepsilon\u001b[0m\u001b[0;34m=\u001b[0m\u001b[0mepsilon\u001b[0m\u001b[0;34m,\u001b[0m\u001b[0;34m\u001b[0m\u001b[0;34m\u001b[0m\u001b[0m\n\u001b[1;32m    531\u001b[0m                                  \u001b[0mmaxiter\u001b[0m\u001b[0;34m=\u001b[0m\u001b[0mmaxiter\u001b[0m\u001b[0;34m,\u001b[0m \u001b[0mfull_output\u001b[0m\u001b[0;34m=\u001b[0m\u001b[0mfull_output\u001b[0m\u001b[0;34m,\u001b[0m\u001b[0;34m\u001b[0m\u001b[0;34m\u001b[0m\u001b[0m\n\u001b[0;32m--> 532\u001b[0;31m                                  disp=disp, retall=retall, callback=callback)\n\u001b[0m\u001b[1;32m    533\u001b[0m     \u001b[0;32mif\u001b[0m \u001b[0mfull_output\u001b[0m\u001b[0;34m:\u001b[0m\u001b[0;34m\u001b[0m\u001b[0;34m\u001b[0m\u001b[0m\n\u001b[1;32m    534\u001b[0m         \u001b[0;32mif\u001b[0m \u001b[0;32mnot\u001b[0m \u001b[0mretall\u001b[0m\u001b[0;34m:\u001b[0m\u001b[0;34m\u001b[0m\u001b[0;34m\u001b[0m\u001b[0m\n",
      "\u001b[0;32m~/opt/anaconda3/lib/python3.7/site-packages/scipy/optimize/optimize.py\u001b[0m in \u001b[0;36mfmin_bfgs\u001b[0;34m(f, x0, fprime, args, gtol, norm, epsilon, maxiter, full_output, disp, retall, callback)\u001b[0m\n\u001b[1;32m    950\u001b[0m             'return_all': retall}\n\u001b[1;32m    951\u001b[0m \u001b[0;34m\u001b[0m\u001b[0m\n\u001b[0;32m--> 952\u001b[0;31m     \u001b[0mres\u001b[0m \u001b[0;34m=\u001b[0m \u001b[0m_minimize_bfgs\u001b[0m\u001b[0;34m(\u001b[0m\u001b[0mf\u001b[0m\u001b[0;34m,\u001b[0m \u001b[0mx0\u001b[0m\u001b[0;34m,\u001b[0m \u001b[0margs\u001b[0m\u001b[0;34m,\u001b[0m \u001b[0mfprime\u001b[0m\u001b[0;34m,\u001b[0m \u001b[0mcallback\u001b[0m\u001b[0;34m=\u001b[0m\u001b[0mcallback\u001b[0m\u001b[0;34m,\u001b[0m \u001b[0;34m**\u001b[0m\u001b[0mopts\u001b[0m\u001b[0;34m)\u001b[0m\u001b[0;34m\u001b[0m\u001b[0;34m\u001b[0m\u001b[0m\n\u001b[0m\u001b[1;32m    953\u001b[0m \u001b[0;34m\u001b[0m\u001b[0m\n\u001b[1;32m    954\u001b[0m     \u001b[0;32mif\u001b[0m \u001b[0mfull_output\u001b[0m\u001b[0;34m:\u001b[0m\u001b[0;34m\u001b[0m\u001b[0;34m\u001b[0m\u001b[0m\n",
      "\u001b[0;32m~/opt/anaconda3/lib/python3.7/site-packages/scipy/optimize/optimize.py\u001b[0m in \u001b[0;36m_minimize_bfgs\u001b[0;34m(fun, x0, args, jac, callback, gtol, norm, eps, maxiter, disp, return_all, **unknown_options)\u001b[0m\n\u001b[1;32m   1001\u001b[0m     \u001b[0mfunc_calls\u001b[0m\u001b[0;34m,\u001b[0m \u001b[0mf\u001b[0m \u001b[0;34m=\u001b[0m \u001b[0mwrap_function\u001b[0m\u001b[0;34m(\u001b[0m\u001b[0mf\u001b[0m\u001b[0;34m,\u001b[0m \u001b[0margs\u001b[0m\u001b[0;34m)\u001b[0m\u001b[0;34m\u001b[0m\u001b[0;34m\u001b[0m\u001b[0m\n\u001b[1;32m   1002\u001b[0m \u001b[0;34m\u001b[0m\u001b[0m\n\u001b[0;32m-> 1003\u001b[0;31m     \u001b[0mold_fval\u001b[0m \u001b[0;34m=\u001b[0m \u001b[0mf\u001b[0m\u001b[0;34m(\u001b[0m\u001b[0mx0\u001b[0m\u001b[0;34m)\u001b[0m\u001b[0;34m\u001b[0m\u001b[0;34m\u001b[0m\u001b[0m\n\u001b[0m\u001b[1;32m   1004\u001b[0m \u001b[0;34m\u001b[0m\u001b[0m\n\u001b[1;32m   1005\u001b[0m     \u001b[0;32mif\u001b[0m \u001b[0mfprime\u001b[0m \u001b[0;32mis\u001b[0m \u001b[0;32mNone\u001b[0m\u001b[0;34m:\u001b[0m\u001b[0;34m\u001b[0m\u001b[0;34m\u001b[0m\u001b[0m\n",
      "\u001b[0;32m~/opt/anaconda3/lib/python3.7/site-packages/scipy/optimize/optimize.py\u001b[0m in \u001b[0;36mfunction_wrapper\u001b[0;34m(*wrapper_args)\u001b[0m\n\u001b[1;32m    325\u001b[0m     \u001b[0;32mdef\u001b[0m \u001b[0mfunction_wrapper\u001b[0m\u001b[0;34m(\u001b[0m\u001b[0;34m*\u001b[0m\u001b[0mwrapper_args\u001b[0m\u001b[0;34m)\u001b[0m\u001b[0;34m:\u001b[0m\u001b[0;34m\u001b[0m\u001b[0;34m\u001b[0m\u001b[0m\n\u001b[1;32m    326\u001b[0m         \u001b[0mncalls\u001b[0m\u001b[0;34m[\u001b[0m\u001b[0;36m0\u001b[0m\u001b[0;34m]\u001b[0m \u001b[0;34m+=\u001b[0m \u001b[0;36m1\u001b[0m\u001b[0;34m\u001b[0m\u001b[0;34m\u001b[0m\u001b[0m\n\u001b[0;32m--> 327\u001b[0;31m         \u001b[0;32mreturn\u001b[0m \u001b[0mfunction\u001b[0m\u001b[0;34m(\u001b[0m\u001b[0;34m*\u001b[0m\u001b[0;34m(\u001b[0m\u001b[0mwrapper_args\u001b[0m \u001b[0;34m+\u001b[0m \u001b[0margs\u001b[0m\u001b[0;34m)\u001b[0m\u001b[0;34m)\u001b[0m\u001b[0;34m\u001b[0m\u001b[0;34m\u001b[0m\u001b[0m\n\u001b[0m\u001b[1;32m    328\u001b[0m \u001b[0;34m\u001b[0m\u001b[0m\n\u001b[1;32m    329\u001b[0m     \u001b[0;32mreturn\u001b[0m \u001b[0mncalls\u001b[0m\u001b[0;34m,\u001b[0m \u001b[0mfunction_wrapper\u001b[0m\u001b[0;34m\u001b[0m\u001b[0;34m\u001b[0m\u001b[0m\n",
      "\u001b[0;32m~/opt/anaconda3/lib/python3.7/site-packages/statsmodels/base/model.py\u001b[0m in \u001b[0;36mf\u001b[0;34m(params, *args)\u001b[0m\n\u001b[1;32m    529\u001b[0m \u001b[0;34m\u001b[0m\u001b[0m\n\u001b[1;32m    530\u001b[0m         \u001b[0;32mdef\u001b[0m \u001b[0mf\u001b[0m\u001b[0;34m(\u001b[0m\u001b[0mparams\u001b[0m\u001b[0;34m,\u001b[0m \u001b[0;34m*\u001b[0m\u001b[0margs\u001b[0m\u001b[0;34m)\u001b[0m\u001b[0;34m:\u001b[0m\u001b[0;34m\u001b[0m\u001b[0;34m\u001b[0m\u001b[0m\n\u001b[0;32m--> 531\u001b[0;31m             \u001b[0;32mreturn\u001b[0m \u001b[0;34m-\u001b[0m\u001b[0mself\u001b[0m\u001b[0;34m.\u001b[0m\u001b[0mloglike\u001b[0m\u001b[0;34m(\u001b[0m\u001b[0mparams\u001b[0m\u001b[0;34m,\u001b[0m \u001b[0;34m*\u001b[0m\u001b[0margs\u001b[0m\u001b[0;34m)\u001b[0m \u001b[0;34m/\u001b[0m \u001b[0mnobs\u001b[0m\u001b[0;34m\u001b[0m\u001b[0;34m\u001b[0m\u001b[0m\n\u001b[0m\u001b[1;32m    532\u001b[0m \u001b[0;34m\u001b[0m\u001b[0m\n\u001b[1;32m    533\u001b[0m         \u001b[0;32mif\u001b[0m \u001b[0mmethod\u001b[0m \u001b[0;34m==\u001b[0m \u001b[0;34m'newton'\u001b[0m\u001b[0;34m:\u001b[0m\u001b[0;34m\u001b[0m\u001b[0;34m\u001b[0m\u001b[0m\n",
      "\u001b[0;32m~/opt/anaconda3/lib/python3.7/site-packages/statsmodels/miscmodels/ordinal_model.py\u001b[0m in \u001b[0;36mloglike\u001b[0;34m(self, params)\u001b[0m\n\u001b[1;32m    513\u001b[0m     \u001b[0;32mdef\u001b[0m \u001b[0mloglike\u001b[0m\u001b[0;34m(\u001b[0m\u001b[0mself\u001b[0m\u001b[0;34m,\u001b[0m \u001b[0mparams\u001b[0m\u001b[0;34m)\u001b[0m\u001b[0;34m:\u001b[0m\u001b[0;34m\u001b[0m\u001b[0;34m\u001b[0m\u001b[0m\n\u001b[1;32m    514\u001b[0m \u001b[0;34m\u001b[0m\u001b[0m\n\u001b[0;32m--> 515\u001b[0;31m         \u001b[0;32mreturn\u001b[0m \u001b[0mself\u001b[0m\u001b[0;34m.\u001b[0m\u001b[0mloglikeobs\u001b[0m\u001b[0;34m(\u001b[0m\u001b[0mparams\u001b[0m\u001b[0;34m)\u001b[0m\u001b[0;34m.\u001b[0m\u001b[0msum\u001b[0m\u001b[0;34m(\u001b[0m\u001b[0;34m)\u001b[0m\u001b[0;34m\u001b[0m\u001b[0;34m\u001b[0m\u001b[0m\n\u001b[0m\u001b[1;32m    516\u001b[0m \u001b[0;34m\u001b[0m\u001b[0m\n\u001b[1;32m    517\u001b[0m     \u001b[0;32mdef\u001b[0m \u001b[0mloglikeobs\u001b[0m\u001b[0;34m(\u001b[0m\u001b[0mself\u001b[0m\u001b[0;34m,\u001b[0m \u001b[0mparams\u001b[0m\u001b[0;34m)\u001b[0m\u001b[0;34m:\u001b[0m\u001b[0;34m\u001b[0m\u001b[0;34m\u001b[0m\u001b[0m\n",
      "\u001b[0;32m~/opt/anaconda3/lib/python3.7/site-packages/statsmodels/miscmodels/ordinal_model.py\u001b[0m in \u001b[0;36mloglikeobs\u001b[0;34m(self, params)\u001b[0m\n\u001b[1;32m    530\u001b[0m             \u001b[0mat\u001b[0m\u001b[0;31m \u001b[0m\u001b[0;31m`\u001b[0m\u001b[0;31m`\u001b[0m\u001b[0mparams\u001b[0m\u001b[0;31m`\u001b[0m\u001b[0;31m`\u001b[0m\u001b[0;34m.\u001b[0m\u001b[0;34m\u001b[0m\u001b[0;34m\u001b[0m\u001b[0m\n\u001b[1;32m    531\u001b[0m         \"\"\"\n\u001b[0;32m--> 532\u001b[0;31m         \u001b[0mlow\u001b[0m\u001b[0;34m,\u001b[0m \u001b[0mupp\u001b[0m \u001b[0;34m=\u001b[0m \u001b[0mself\u001b[0m\u001b[0;34m.\u001b[0m\u001b[0m_bounds\u001b[0m\u001b[0;34m(\u001b[0m\u001b[0mparams\u001b[0m\u001b[0;34m)\u001b[0m\u001b[0;34m\u001b[0m\u001b[0;34m\u001b[0m\u001b[0m\n\u001b[0m\u001b[1;32m    533\u001b[0m         \u001b[0mprob\u001b[0m \u001b[0;34m=\u001b[0m \u001b[0mself\u001b[0m\u001b[0;34m.\u001b[0m\u001b[0mprob\u001b[0m\u001b[0;34m(\u001b[0m\u001b[0mlow\u001b[0m\u001b[0;34m,\u001b[0m \u001b[0mupp\u001b[0m\u001b[0;34m)\u001b[0m\u001b[0;34m\u001b[0m\u001b[0;34m\u001b[0m\u001b[0m\n\u001b[1;32m    534\u001b[0m         \u001b[0;32mreturn\u001b[0m \u001b[0mnp\u001b[0m\u001b[0;34m.\u001b[0m\u001b[0mlog\u001b[0m\u001b[0;34m(\u001b[0m\u001b[0mprob\u001b[0m \u001b[0;34m+\u001b[0m \u001b[0;36m1e-20\u001b[0m\u001b[0;34m)\u001b[0m\u001b[0;34m\u001b[0m\u001b[0;34m\u001b[0m\u001b[0m\n",
      "\u001b[0;32m~/opt/anaconda3/lib/python3.7/site-packages/statsmodels/miscmodels/ordinal_model.py\u001b[0m in \u001b[0;36m_bounds\u001b[0;34m(self, params)\u001b[0m\n\u001b[1;32m    505\u001b[0m         \u001b[0mthresh_i_low\u001b[0m \u001b[0;34m=\u001b[0m \u001b[0mthresh\u001b[0m\u001b[0;34m[\u001b[0m\u001b[0mself\u001b[0m\u001b[0;34m.\u001b[0m\u001b[0mendog\u001b[0m\u001b[0;34m]\u001b[0m\u001b[0;34m\u001b[0m\u001b[0;34m\u001b[0m\u001b[0m\n\u001b[1;32m    506\u001b[0m         \u001b[0mthresh_i_upp\u001b[0m \u001b[0;34m=\u001b[0m \u001b[0mthresh\u001b[0m\u001b[0;34m[\u001b[0m\u001b[0mself\u001b[0m\u001b[0;34m.\u001b[0m\u001b[0mendog\u001b[0m \u001b[0;34m+\u001b[0m \u001b[0;36m1\u001b[0m\u001b[0;34m]\u001b[0m\u001b[0;34m\u001b[0m\u001b[0;34m\u001b[0m\u001b[0m\n\u001b[0;32m--> 507\u001b[0;31m         \u001b[0mxb\u001b[0m \u001b[0;34m=\u001b[0m \u001b[0mself\u001b[0m\u001b[0;34m.\u001b[0m\u001b[0m_linpred\u001b[0m\u001b[0;34m(\u001b[0m\u001b[0mparams\u001b[0m\u001b[0;34m)\u001b[0m\u001b[0;34m\u001b[0m\u001b[0;34m\u001b[0m\u001b[0m\n\u001b[0m\u001b[1;32m    508\u001b[0m         \u001b[0mlow\u001b[0m \u001b[0;34m=\u001b[0m \u001b[0mthresh_i_low\u001b[0m \u001b[0;34m-\u001b[0m \u001b[0mxb\u001b[0m\u001b[0;34m\u001b[0m\u001b[0;34m\u001b[0m\u001b[0m\n\u001b[1;32m    509\u001b[0m         \u001b[0mupp\u001b[0m \u001b[0;34m=\u001b[0m \u001b[0mthresh_i_upp\u001b[0m \u001b[0;34m-\u001b[0m \u001b[0mxb\u001b[0m\u001b[0;34m\u001b[0m\u001b[0;34m\u001b[0m\u001b[0m\n",
      "\u001b[0;32m~/opt/anaconda3/lib/python3.7/site-packages/statsmodels/miscmodels/ordinal_model.py\u001b[0m in \u001b[0;36m_linpred\u001b[0;34m(self, params, exog, offset)\u001b[0m\n\u001b[1;32m    464\u001b[0m \u001b[0;34m\u001b[0m\u001b[0m\n\u001b[1;32m    465\u001b[0m         \u001b[0;32mif\u001b[0m \u001b[0mexog\u001b[0m \u001b[0;32mis\u001b[0m \u001b[0;32mnot\u001b[0m \u001b[0;32mNone\u001b[0m\u001b[0;34m:\u001b[0m\u001b[0;34m\u001b[0m\u001b[0;34m\u001b[0m\u001b[0m\n\u001b[0;32m--> 466\u001b[0;31m             \u001b[0mlinpred\u001b[0m \u001b[0;34m=\u001b[0m \u001b[0mexog\u001b[0m\u001b[0;34m.\u001b[0m\u001b[0mdot\u001b[0m\u001b[0;34m(\u001b[0m\u001b[0mparams\u001b[0m\u001b[0;34m[\u001b[0m\u001b[0;34m:\u001b[0m\u001b[0;34m-\u001b[0m\u001b[0;34m(\u001b[0m\u001b[0mself\u001b[0m\u001b[0;34m.\u001b[0m\u001b[0mk_levels\u001b[0m \u001b[0;34m-\u001b[0m \u001b[0;36m1\u001b[0m\u001b[0;34m)\u001b[0m\u001b[0;34m]\u001b[0m\u001b[0;34m)\u001b[0m\u001b[0;34m\u001b[0m\u001b[0;34m\u001b[0m\u001b[0m\n\u001b[0m\u001b[1;32m    467\u001b[0m         \u001b[0;32melse\u001b[0m\u001b[0;34m:\u001b[0m  \u001b[0;31m# means self.exog is also None\u001b[0m\u001b[0;34m\u001b[0m\u001b[0;34m\u001b[0m\u001b[0m\n\u001b[1;32m    468\u001b[0m             \u001b[0mlinpred\u001b[0m \u001b[0;34m=\u001b[0m \u001b[0mnp\u001b[0m\u001b[0;34m.\u001b[0m\u001b[0mzeros\u001b[0m\u001b[0;34m(\u001b[0m\u001b[0mself\u001b[0m\u001b[0;34m.\u001b[0m\u001b[0mnobs\u001b[0m\u001b[0;34m)\u001b[0m\u001b[0;34m\u001b[0m\u001b[0;34m\u001b[0m\u001b[0m\n",
      "\u001b[0;31mValueError\u001b[0m: shapes (3,1) and (0,) not aligned: 1 (dim 1) != 0 (dim 0)"
     ]
    }
   ],
   "source": [
    "ordinalReg(df_furniture_survey_gcm, ['degree'], 3)"
   ]
  },
  {
   "cell_type": "code",
   "execution_count": null,
   "metadata": {},
   "outputs": [],
   "source": [
    "ordinalReg(df_furniture_survey_gcm, ['eigenvector'], 3)"
   ]
  },
  {
   "cell_type": "code",
   "execution_count": null,
   "metadata": {},
   "outputs": [],
   "source": [
    "ordinalReg(df_furniture_survey_gcm, ['pagerank'], 3)"
   ]
  },
  {
   "cell_type": "markdown",
   "metadata": {},
   "source": [
    "## Vegetables"
   ]
  },
  {
   "cell_type": "code",
   "execution_count": 73,
   "metadata": {},
   "outputs": [
    {
     "name": "stdout",
     "output_type": "stream",
     "text": [
      "Dataframe merged with shape: (3742, 5)\n",
      "============================\n",
      "Rows with NaN values dropped: 8 from 37 => 21.62% \n",
      "Dataframe merged with shape: (29, 6)\n"
     ]
    }
   ],
   "source": [
    "# Vegetables from the \"Category\": \"dbc:Vegetables\"\n",
    "\n",
    "vegetable_result = catMerger(df_vegetable, df_ig_gcm)\n",
    "df_survey_vegetable = pd.read_csv(\"../data/survey_single_cat_files/sv_prep_uri/improved_uri/sv_vegetables_impr.csv\", sep=';') # .csv needed no manual uri correction\n",
    "\n",
    "df_vegetable_survey_gcm = gcmSurfer(df_survey_vegetable, vegetable_result)"
   ]
  },
  {
   "cell_type": "code",
   "execution_count": 74,
   "metadata": {},
   "outputs": [
    {
     "name": "stdout",
     "output_type": "stream",
     "text": [
      "Ordinal Regression:  ['degree']\n",
      "-------------------------------------\n",
      "Optimization terminated successfully.\n",
      "         Current function value: 1.057914\n",
      "         Iterations: 8\n",
      "         Function evaluations: 10\n",
      "         Gradient evaluations: 10\n"
     ]
    },
    {
     "data": {
      "text/html": [
       "<table class=\"simpletable\">\n",
       "<caption>OrderedModel Results</caption>\n",
       "<tr>\n",
       "  <th>Dep. Variable:</th>           <td>camp</td>        <th>  Log-Likelihood:    </th> <td> -30.680</td>\n",
       "</tr>\n",
       "<tr>\n",
       "  <th>Model:</th>               <td>OrderedModel</td>    <th>  AIC:               </th> <td>   67.36</td>\n",
       "</tr>\n",
       "<tr>\n",
       "  <th>Method:</th>           <td>Maximum Likelihood</td> <th>  BIC:               </th> <td>   71.46</td>\n",
       "</tr>\n",
       "<tr>\n",
       "  <th>Date:</th>              <td>Tue, 19 Jul 2022</td>  <th>                     </th>     <td> </td>   \n",
       "</tr>\n",
       "<tr>\n",
       "  <th>Time:</th>                  <td>00:31:27</td>      <th>                     </th>     <td> </td>   \n",
       "</tr>\n",
       "<tr>\n",
       "  <th>No. Observations:</th>       <td>    29</td>       <th>                     </th>     <td> </td>   \n",
       "</tr>\n",
       "<tr>\n",
       "  <th>Df Residuals:</th>           <td>    26</td>       <th>                     </th>     <td> </td>   \n",
       "</tr>\n",
       "<tr>\n",
       "  <th>Df Model:</th>               <td>     3</td>       <th>                     </th>     <td> </td>   \n",
       "</tr>\n",
       "</table>\n",
       "<table class=\"simpletable\">\n",
       "<tr>\n",
       "     <td></td>        <th>coef</th>     <th>std err</th>      <th>z</th>      <th>P>|z|</th>  <th>[0.025</th>    <th>0.975]</th>  \n",
       "</tr>\n",
       "<tr>\n",
       "  <th>degree</th>  <td>   -0.0468</td> <td>    0.039</td> <td>   -1.208</td> <td> 0.227</td> <td>   -0.123</td> <td>    0.029</td>\n",
       "</tr>\n",
       "<tr>\n",
       "  <th>1.0/2.0</th> <td>   -0.6594</td> <td>    0.281</td> <td>   -2.348</td> <td> 0.019</td> <td>   -1.210</td> <td>   -0.109</td>\n",
       "</tr>\n",
       "<tr>\n",
       "  <th>2.0/3.0</th> <td>   -0.3034</td> <td>    0.314</td> <td>   -0.968</td> <td> 0.333</td> <td>   -0.918</td> <td>    0.311</td>\n",
       "</tr>\n",
       "</table>"
      ],
      "text/plain": [
       "<class 'statsmodels.iolib.summary.Summary'>\n",
       "\"\"\"\n",
       "                             OrderedModel Results                             \n",
       "==============================================================================\n",
       "Dep. Variable:                   camp   Log-Likelihood:                -30.680\n",
       "Model:                   OrderedModel   AIC:                             67.36\n",
       "Method:            Maximum Likelihood   BIC:                             71.46\n",
       "Date:                Tue, 19 Jul 2022                                         \n",
       "Time:                        00:31:27                                         \n",
       "No. Observations:                  29                                         \n",
       "Df Residuals:                      26                                         \n",
       "Df Model:                           3                                         \n",
       "==============================================================================\n",
       "                 coef    std err          z      P>|z|      [0.025      0.975]\n",
       "------------------------------------------------------------------------------\n",
       "degree        -0.0468      0.039     -1.208      0.227      -0.123       0.029\n",
       "1.0/2.0       -0.6594      0.281     -2.348      0.019      -1.210      -0.109\n",
       "2.0/3.0       -0.3034      0.314     -0.968      0.333      -0.918       0.311\n",
       "==============================================================================\n",
       "\"\"\""
      ]
     },
     "execution_count": 74,
     "metadata": {},
     "output_type": "execute_result"
    }
   ],
   "source": [
    "ordinalReg(df_vegetable_survey_gcm, ['degree'], 3)"
   ]
  },
  {
   "cell_type": "code",
   "execution_count": 75,
   "metadata": {},
   "outputs": [
    {
     "name": "stdout",
     "output_type": "stream",
     "text": [
      "Ordinal Regression:  ['eigenvector']\n",
      "-------------------------------------\n",
      "Optimization terminated successfully.\n",
      "         Current function value: 1.079849\n",
      "         Iterations: 8\n",
      "         Function evaluations: 10\n",
      "         Gradient evaluations: 10\n"
     ]
    },
    {
     "data": {
      "text/html": [
       "<table class=\"simpletable\">\n",
       "<caption>OrderedModel Results</caption>\n",
       "<tr>\n",
       "  <th>Dep. Variable:</th>           <td>camp</td>        <th>  Log-Likelihood:    </th> <td> -31.316</td>\n",
       "</tr>\n",
       "<tr>\n",
       "  <th>Model:</th>               <td>OrderedModel</td>    <th>  AIC:               </th> <td>   68.63</td>\n",
       "</tr>\n",
       "<tr>\n",
       "  <th>Method:</th>           <td>Maximum Likelihood</td> <th>  BIC:               </th> <td>   72.73</td>\n",
       "</tr>\n",
       "<tr>\n",
       "  <th>Date:</th>              <td>Tue, 19 Jul 2022</td>  <th>                     </th>     <td> </td>   \n",
       "</tr>\n",
       "<tr>\n",
       "  <th>Time:</th>                  <td>00:31:27</td>      <th>                     </th>     <td> </td>   \n",
       "</tr>\n",
       "<tr>\n",
       "  <th>No. Observations:</th>       <td>    29</td>       <th>                     </th>     <td> </td>   \n",
       "</tr>\n",
       "<tr>\n",
       "  <th>Df Residuals:</th>           <td>    26</td>       <th>                     </th>     <td> </td>   \n",
       "</tr>\n",
       "<tr>\n",
       "  <th>Df Model:</th>               <td>     3</td>       <th>                     </th>     <td> </td>   \n",
       "</tr>\n",
       "</table>\n",
       "<table class=\"simpletable\">\n",
       "<tr>\n",
       "       <td></td>          <th>coef</th>     <th>std err</th>      <th>z</th>      <th>P>|z|</th>  <th>[0.025</th>    <th>0.975]</th>  \n",
       "</tr>\n",
       "<tr>\n",
       "  <th>eigenvector</th> <td>   -0.3849</td> <td>    0.835</td> <td>   -0.461</td> <td> 0.645</td> <td>   -2.022</td> <td>    1.252</td>\n",
       "</tr>\n",
       "<tr>\n",
       "  <th>1.0/2.0</th>     <td>   -0.5661</td> <td>    0.288</td> <td>   -1.962</td> <td> 0.050</td> <td>   -1.131</td> <td>   -0.001</td>\n",
       "</tr>\n",
       "<tr>\n",
       "  <th>2.0/3.0</th>     <td>   -0.3342</td> <td>    0.314</td> <td>   -1.066</td> <td> 0.286</td> <td>   -0.949</td> <td>    0.280</td>\n",
       "</tr>\n",
       "</table>"
      ],
      "text/plain": [
       "<class 'statsmodels.iolib.summary.Summary'>\n",
       "\"\"\"\n",
       "                             OrderedModel Results                             \n",
       "==============================================================================\n",
       "Dep. Variable:                   camp   Log-Likelihood:                -31.316\n",
       "Model:                   OrderedModel   AIC:                             68.63\n",
       "Method:            Maximum Likelihood   BIC:                             72.73\n",
       "Date:                Tue, 19 Jul 2022                                         \n",
       "Time:                        00:31:27                                         \n",
       "No. Observations:                  29                                         \n",
       "Df Residuals:                      26                                         \n",
       "Df Model:                           3                                         \n",
       "===============================================================================\n",
       "                  coef    std err          z      P>|z|      [0.025      0.975]\n",
       "-------------------------------------------------------------------------------\n",
       "eigenvector    -0.3849      0.835     -0.461      0.645      -2.022       1.252\n",
       "1.0/2.0        -0.5661      0.288     -1.962      0.050      -1.131      -0.001\n",
       "2.0/3.0        -0.3342      0.314     -1.066      0.286      -0.949       0.280\n",
       "===============================================================================\n",
       "\"\"\""
      ]
     },
     "execution_count": 75,
     "metadata": {},
     "output_type": "execute_result"
    }
   ],
   "source": [
    "ordinalReg(df_vegetable_survey_gcm, ['eigenvector'], 3)"
   ]
  },
  {
   "cell_type": "code",
   "execution_count": 76,
   "metadata": {},
   "outputs": [
    {
     "name": "stdout",
     "output_type": "stream",
     "text": [
      "Ordinal Regression:  ['pagerank']\n",
      "-------------------------------------\n",
      "Optimization terminated successfully.\n",
      "         Current function value: 1.055869\n",
      "         Iterations: 8\n",
      "         Function evaluations: 10\n",
      "         Gradient evaluations: 10\n"
     ]
    },
    {
     "data": {
      "text/html": [
       "<table class=\"simpletable\">\n",
       "<caption>OrderedModel Results</caption>\n",
       "<tr>\n",
       "  <th>Dep. Variable:</th>           <td>camp</td>        <th>  Log-Likelihood:    </th> <td> -30.620</td>\n",
       "</tr>\n",
       "<tr>\n",
       "  <th>Model:</th>               <td>OrderedModel</td>    <th>  AIC:               </th> <td>   67.24</td>\n",
       "</tr>\n",
       "<tr>\n",
       "  <th>Method:</th>           <td>Maximum Likelihood</td> <th>  BIC:               </th> <td>   71.34</td>\n",
       "</tr>\n",
       "<tr>\n",
       "  <th>Date:</th>              <td>Tue, 19 Jul 2022</td>  <th>                     </th>     <td> </td>   \n",
       "</tr>\n",
       "<tr>\n",
       "  <th>Time:</th>                  <td>00:31:27</td>      <th>                     </th>     <td> </td>   \n",
       "</tr>\n",
       "<tr>\n",
       "  <th>No. Observations:</th>       <td>    29</td>       <th>                     </th>     <td> </td>   \n",
       "</tr>\n",
       "<tr>\n",
       "  <th>Df Residuals:</th>           <td>    26</td>       <th>                     </th>     <td> </td>   \n",
       "</tr>\n",
       "<tr>\n",
       "  <th>Df Model:</th>               <td>     3</td>       <th>                     </th>     <td> </td>   \n",
       "</tr>\n",
       "</table>\n",
       "<table class=\"simpletable\">\n",
       "<tr>\n",
       "      <td></td>        <th>coef</th>     <th>std err</th>      <th>z</th>      <th>P>|z|</th>  <th>[0.025</th>    <th>0.975]</th>  \n",
       "</tr>\n",
       "<tr>\n",
       "  <th>pagerank</th> <td>   -0.0498</td> <td>    0.040</td> <td>   -1.249</td> <td> 0.212</td> <td>   -0.128</td> <td>    0.028</td>\n",
       "</tr>\n",
       "<tr>\n",
       "  <th>1.0/2.0</th>  <td>   -0.6699</td> <td>    0.283</td> <td>   -2.371</td> <td> 0.018</td> <td>   -1.224</td> <td>   -0.116</td>\n",
       "</tr>\n",
       "<tr>\n",
       "  <th>2.0/3.0</th>  <td>   -0.3010</td> <td>    0.313</td> <td>   -0.960</td> <td> 0.337</td> <td>   -0.915</td> <td>    0.313</td>\n",
       "</tr>\n",
       "</table>"
      ],
      "text/plain": [
       "<class 'statsmodels.iolib.summary.Summary'>\n",
       "\"\"\"\n",
       "                             OrderedModel Results                             \n",
       "==============================================================================\n",
       "Dep. Variable:                   camp   Log-Likelihood:                -30.620\n",
       "Model:                   OrderedModel   AIC:                             67.24\n",
       "Method:            Maximum Likelihood   BIC:                             71.34\n",
       "Date:                Tue, 19 Jul 2022                                         \n",
       "Time:                        00:31:27                                         \n",
       "No. Observations:                  29                                         \n",
       "Df Residuals:                      26                                         \n",
       "Df Model:                           3                                         \n",
       "==============================================================================\n",
       "                 coef    std err          z      P>|z|      [0.025      0.975]\n",
       "------------------------------------------------------------------------------\n",
       "pagerank      -0.0498      0.040     -1.249      0.212      -0.128       0.028\n",
       "1.0/2.0       -0.6699      0.283     -2.371      0.018      -1.224      -0.116\n",
       "2.0/3.0       -0.3010      0.313     -0.960      0.337      -0.915       0.313\n",
       "==============================================================================\n",
       "\"\"\""
      ]
     },
     "execution_count": 76,
     "metadata": {},
     "output_type": "execute_result"
    }
   ],
   "source": [
    "ordinalReg(df_vegetable_survey_gcm, ['pagerank'], 3)"
   ]
  },
  {
   "cell_type": "markdown",
   "metadata": {},
   "source": [
    "## Fast Food"
   ]
  },
  {
   "cell_type": "code",
   "execution_count": 77,
   "metadata": {},
   "outputs": [
    {
     "name": "stdout",
     "output_type": "stream",
     "text": [
      "Dataframe merged with shape: (4693, 5)\n",
      "============================\n",
      "Rows with NaN values dropped: 17 from 31 => 54.84% \n",
      "Dataframe merged with shape: (14, 6)\n"
     ]
    }
   ],
   "source": [
    "# Types of fast food from the \"Category\": \"dbc:Fast_food\" \n",
    "\n",
    "fastfood_result = catMerger(df_fastFood, df_ig_gcm)\n",
    "df_survey_fastfood = pd.read_csv(\"../data/survey_single_cat_files/sv_prep_uri/sv_fast_food_prep.csv\", sep=';') # .csv needed no manual uri correction\n",
    "\n",
    "df_fastfood_survey_gcm = gcmSurfer(df_survey_fastfood, fastfood_result)"
   ]
  },
  {
   "cell_type": "code",
   "execution_count": 78,
   "metadata": {},
   "outputs": [
    {
     "name": "stdout",
     "output_type": "stream",
     "text": [
      "Ordinal Regression:  ['degree']\n",
      "-------------------------------------\n",
      "Optimization terminated successfully.\n",
      "         Current function value: 0.599954\n",
      "         Iterations: 13\n",
      "         Function evaluations: 15\n",
      "         Gradient evaluations: 15\n"
     ]
    },
    {
     "data": {
      "text/html": [
       "<table class=\"simpletable\">\n",
       "<caption>OrderedModel Results</caption>\n",
       "<tr>\n",
       "  <th>Dep. Variable:</th>           <td>camp</td>        <th>  Log-Likelihood:    </th> <td> -8.3994</td>\n",
       "</tr>\n",
       "<tr>\n",
       "  <th>Model:</th>               <td>OrderedModel</td>    <th>  AIC:               </th> <td>   22.80</td>\n",
       "</tr>\n",
       "<tr>\n",
       "  <th>Method:</th>           <td>Maximum Likelihood</td> <th>  BIC:               </th> <td>   24.72</td>\n",
       "</tr>\n",
       "<tr>\n",
       "  <th>Date:</th>              <td>Tue, 19 Jul 2022</td>  <th>                     </th>     <td> </td>   \n",
       "</tr>\n",
       "<tr>\n",
       "  <th>Time:</th>                  <td>00:31:59</td>      <th>                     </th>     <td> </td>   \n",
       "</tr>\n",
       "<tr>\n",
       "  <th>No. Observations:</th>       <td>    14</td>       <th>                     </th>     <td> </td>   \n",
       "</tr>\n",
       "<tr>\n",
       "  <th>Df Residuals:</th>           <td>    11</td>       <th>                     </th>     <td> </td>   \n",
       "</tr>\n",
       "<tr>\n",
       "  <th>Df Model:</th>               <td>     3</td>       <th>                     </th>     <td> </td>   \n",
       "</tr>\n",
       "</table>\n",
       "<table class=\"simpletable\">\n",
       "<tr>\n",
       "     <td></td>        <th>coef</th>     <th>std err</th>      <th>z</th>      <th>P>|z|</th>  <th>[0.025</th>    <th>0.975]</th>  \n",
       "</tr>\n",
       "<tr>\n",
       "  <th>degree</th>  <td>   -0.3951</td> <td>    0.275</td> <td>   -1.439</td> <td> 0.150</td> <td>   -0.933</td> <td>    0.143</td>\n",
       "</tr>\n",
       "<tr>\n",
       "  <th>1.0/2.0</th> <td>   -1.8930</td> <td>    0.643</td> <td>   -2.945</td> <td> 0.003</td> <td>   -3.153</td> <td>   -0.633</td>\n",
       "</tr>\n",
       "<tr>\n",
       "  <th>2.0/3.0</th> <td>   -0.3371</td> <td>    0.641</td> <td>   -0.526</td> <td> 0.599</td> <td>   -1.593</td> <td>    0.919</td>\n",
       "</tr>\n",
       "</table>"
      ],
      "text/plain": [
       "<class 'statsmodels.iolib.summary.Summary'>\n",
       "\"\"\"\n",
       "                             OrderedModel Results                             \n",
       "==============================================================================\n",
       "Dep. Variable:                   camp   Log-Likelihood:                -8.3994\n",
       "Model:                   OrderedModel   AIC:                             22.80\n",
       "Method:            Maximum Likelihood   BIC:                             24.72\n",
       "Date:                Tue, 19 Jul 2022                                         \n",
       "Time:                        00:31:59                                         \n",
       "No. Observations:                  14                                         \n",
       "Df Residuals:                      11                                         \n",
       "Df Model:                           3                                         \n",
       "==============================================================================\n",
       "                 coef    std err          z      P>|z|      [0.025      0.975]\n",
       "------------------------------------------------------------------------------\n",
       "degree        -0.3951      0.275     -1.439      0.150      -0.933       0.143\n",
       "1.0/2.0       -1.8930      0.643     -2.945      0.003      -3.153      -0.633\n",
       "2.0/3.0       -0.3371      0.641     -0.526      0.599      -1.593       0.919\n",
       "==============================================================================\n",
       "\"\"\""
      ]
     },
     "execution_count": 78,
     "metadata": {},
     "output_type": "execute_result"
    }
   ],
   "source": [
    "ordinalReg(df_fastfood_survey_gcm, ['degree'], 3)"
   ]
  },
  {
   "cell_type": "code",
   "execution_count": 79,
   "metadata": {},
   "outputs": [
    {
     "name": "stdout",
     "output_type": "stream",
     "text": [
      "Ordinal Regression:  ['eigenvector']\n",
      "-------------------------------------\n",
      "Optimization terminated successfully.\n",
      "         Current function value: 0.735557\n",
      "         Iterations: 29\n",
      "         Function evaluations: 30\n",
      "         Gradient evaluations: 30\n"
     ]
    },
    {
     "data": {
      "text/html": [
       "<table class=\"simpletable\">\n",
       "<caption>OrderedModel Results</caption>\n",
       "<tr>\n",
       "  <th>Dep. Variable:</th>           <td>camp</td>        <th>  Log-Likelihood:    </th> <td> -10.298</td>\n",
       "</tr>\n",
       "<tr>\n",
       "  <th>Model:</th>               <td>OrderedModel</td>    <th>  AIC:               </th> <td>   26.60</td>\n",
       "</tr>\n",
       "<tr>\n",
       "  <th>Method:</th>           <td>Maximum Likelihood</td> <th>  BIC:               </th> <td>   28.51</td>\n",
       "</tr>\n",
       "<tr>\n",
       "  <th>Date:</th>              <td>Tue, 19 Jul 2022</td>  <th>                     </th>     <td> </td>   \n",
       "</tr>\n",
       "<tr>\n",
       "  <th>Time:</th>                  <td>00:31:59</td>      <th>                     </th>     <td> </td>   \n",
       "</tr>\n",
       "<tr>\n",
       "  <th>No. Observations:</th>       <td>    14</td>       <th>                     </th>     <td> </td>   \n",
       "</tr>\n",
       "<tr>\n",
       "  <th>Df Residuals:</th>           <td>    11</td>       <th>                     </th>     <td> </td>   \n",
       "</tr>\n",
       "<tr>\n",
       "  <th>Df Model:</th>               <td>     3</td>       <th>                     </th>     <td> </td>   \n",
       "</tr>\n",
       "</table>\n",
       "<table class=\"simpletable\">\n",
       "<tr>\n",
       "       <td></td>          <th>coef</th>     <th>std err</th>      <th>z</th>      <th>P>|z|</th>  <th>[0.025</th>    <th>0.975]</th>  \n",
       "</tr>\n",
       "<tr>\n",
       "  <th>eigenvector</th> <td> -153.0447</td> <td>  124.335</td> <td>   -1.231</td> <td> 0.218</td> <td> -396.738</td> <td>   90.648</td>\n",
       "</tr>\n",
       "<tr>\n",
       "  <th>1.0/2.0</th>     <td>   74.6928</td> <td>   61.569</td> <td>    1.213</td> <td> 0.225</td> <td>  -45.980</td> <td>  195.366</td>\n",
       "</tr>\n",
       "<tr>\n",
       "  <th>2.0/3.0</th>     <td>   -0.5573</td> <td>    0.657</td> <td>   -0.849</td> <td> 0.396</td> <td>   -1.844</td> <td>    0.730</td>\n",
       "</tr>\n",
       "</table>"
      ],
      "text/plain": [
       "<class 'statsmodels.iolib.summary.Summary'>\n",
       "\"\"\"\n",
       "                             OrderedModel Results                             \n",
       "==============================================================================\n",
       "Dep. Variable:                   camp   Log-Likelihood:                -10.298\n",
       "Model:                   OrderedModel   AIC:                             26.60\n",
       "Method:            Maximum Likelihood   BIC:                             28.51\n",
       "Date:                Tue, 19 Jul 2022                                         \n",
       "Time:                        00:31:59                                         \n",
       "No. Observations:                  14                                         \n",
       "Df Residuals:                      11                                         \n",
       "Df Model:                           3                                         \n",
       "===============================================================================\n",
       "                  coef    std err          z      P>|z|      [0.025      0.975]\n",
       "-------------------------------------------------------------------------------\n",
       "eigenvector  -153.0447    124.335     -1.231      0.218    -396.738      90.648\n",
       "1.0/2.0        74.6928     61.569      1.213      0.225     -45.980     195.366\n",
       "2.0/3.0        -0.5573      0.657     -0.849      0.396      -1.844       0.730\n",
       "===============================================================================\n",
       "\"\"\""
      ]
     },
     "execution_count": 79,
     "metadata": {},
     "output_type": "execute_result"
    }
   ],
   "source": [
    "ordinalReg(df_fastfood_survey_gcm, ['eigenvector'], 3)"
   ]
  },
  {
   "cell_type": "code",
   "execution_count": 80,
   "metadata": {},
   "outputs": [
    {
     "name": "stdout",
     "output_type": "stream",
     "text": [
      "Ordinal Regression:  ['pagerank']\n",
      "-------------------------------------\n",
      "Optimization terminated successfully.\n",
      "         Current function value: 0.598329\n",
      "         Iterations: 13\n",
      "         Function evaluations: 15\n",
      "         Gradient evaluations: 15\n"
     ]
    },
    {
     "data": {
      "text/html": [
       "<table class=\"simpletable\">\n",
       "<caption>OrderedModel Results</caption>\n",
       "<tr>\n",
       "  <th>Dep. Variable:</th>           <td>camp</td>        <th>  Log-Likelihood:    </th> <td> -8.3766</td>\n",
       "</tr>\n",
       "<tr>\n",
       "  <th>Model:</th>               <td>OrderedModel</td>    <th>  AIC:               </th> <td>   22.75</td>\n",
       "</tr>\n",
       "<tr>\n",
       "  <th>Method:</th>           <td>Maximum Likelihood</td> <th>  BIC:               </th> <td>   24.67</td>\n",
       "</tr>\n",
       "<tr>\n",
       "  <th>Date:</th>              <td>Tue, 19 Jul 2022</td>  <th>                     </th>     <td> </td>   \n",
       "</tr>\n",
       "<tr>\n",
       "  <th>Time:</th>                  <td>00:31:59</td>      <th>                     </th>     <td> </td>   \n",
       "</tr>\n",
       "<tr>\n",
       "  <th>No. Observations:</th>       <td>    14</td>       <th>                     </th>     <td> </td>   \n",
       "</tr>\n",
       "<tr>\n",
       "  <th>Df Residuals:</th>           <td>    11</td>       <th>                     </th>     <td> </td>   \n",
       "</tr>\n",
       "<tr>\n",
       "  <th>Df Model:</th>               <td>     3</td>       <th>                     </th>     <td> </td>   \n",
       "</tr>\n",
       "</table>\n",
       "<table class=\"simpletable\">\n",
       "<tr>\n",
       "      <td></td>        <th>coef</th>     <th>std err</th>      <th>z</th>      <th>P>|z|</th>  <th>[0.025</th>    <th>0.975]</th>  \n",
       "</tr>\n",
       "<tr>\n",
       "  <th>pagerank</th> <td>   -0.3561</td> <td>    0.268</td> <td>   -1.331</td> <td> 0.183</td> <td>   -0.881</td> <td>    0.168</td>\n",
       "</tr>\n",
       "<tr>\n",
       "  <th>1.0/2.0</th>  <td>   -1.8717</td> <td>    0.643</td> <td>   -2.910</td> <td> 0.004</td> <td>   -3.132</td> <td>   -0.611</td>\n",
       "</tr>\n",
       "<tr>\n",
       "  <th>2.0/3.0</th>  <td>   -0.3353</td> <td>    0.641</td> <td>   -0.524</td> <td> 0.601</td> <td>   -1.591</td> <td>    0.920</td>\n",
       "</tr>\n",
       "</table>"
      ],
      "text/plain": [
       "<class 'statsmodels.iolib.summary.Summary'>\n",
       "\"\"\"\n",
       "                             OrderedModel Results                             \n",
       "==============================================================================\n",
       "Dep. Variable:                   camp   Log-Likelihood:                -8.3766\n",
       "Model:                   OrderedModel   AIC:                             22.75\n",
       "Method:            Maximum Likelihood   BIC:                             24.67\n",
       "Date:                Tue, 19 Jul 2022                                         \n",
       "Time:                        00:31:59                                         \n",
       "No. Observations:                  14                                         \n",
       "Df Residuals:                      11                                         \n",
       "Df Model:                           3                                         \n",
       "==============================================================================\n",
       "                 coef    std err          z      P>|z|      [0.025      0.975]\n",
       "------------------------------------------------------------------------------\n",
       "pagerank      -0.3561      0.268     -1.331      0.183      -0.881       0.168\n",
       "1.0/2.0       -1.8717      0.643     -2.910      0.004      -3.132      -0.611\n",
       "2.0/3.0       -0.3353      0.641     -0.524      0.601      -1.591       0.920\n",
       "==============================================================================\n",
       "\"\"\""
      ]
     },
     "execution_count": 80,
     "metadata": {},
     "output_type": "execute_result"
    }
   ],
   "source": [
    "ordinalReg(df_fastfood_survey_gcm, ['pagerank'], 3)"
   ]
  },
  {
   "cell_type": "markdown",
   "metadata": {},
   "source": [
    "## European landmarks/sights"
   ]
  },
  {
   "cell_type": "code",
   "execution_count": 81,
   "metadata": {},
   "outputs": [
    {
     "name": "stdout",
     "output_type": "stream",
     "text": [
      "Dataframe merged with shape: (1403, 5)\n",
      "============================\n",
      "Rows with NaN values dropped: 59 from 65 => 90.77% \n",
      "Dataframe merged with shape: (6, 6)\n"
     ]
    }
   ],
   "source": [
    "# European Landmark/Sight from multiple \"Category\": \"dbc:Landmarks_in_x\" with x being a country from europe\n",
    "\n",
    "euSight_result = catMerger(df_euSight, df_ig_gcm)\n",
    "df_survey_euSight = pd.read_csv(\"../data/survey_single_cat_files/sv_prep_uri/sv_european_landmarks_prep.csv\", sep=';') # .csv needed no manual uri correction\n",
    "\n",
    "df_euSight_survey_gcm = gcmSurfer(df_survey_euSight, euSight_result)"
   ]
  },
  {
   "cell_type": "code",
   "execution_count": 82,
   "metadata": {},
   "outputs": [
    {
     "name": "stdout",
     "output_type": "stream",
     "text": [
      "Ordinal Regression:  ['degree']\n",
      "-------------------------------------\n",
      "Optimization terminated successfully.\n",
      "         Current function value: 0.439605\n",
      "         Iterations: 13\n",
      "         Function evaluations: 17\n",
      "         Gradient evaluations: 17\n"
     ]
    },
    {
     "data": {
      "text/html": [
       "<table class=\"simpletable\">\n",
       "<caption>OrderedModel Results</caption>\n",
       "<tr>\n",
       "  <th>Dep. Variable:</th>           <td>camp</td>        <th>  Log-Likelihood:    </th> <td> -2.6376</td>\n",
       "</tr>\n",
       "<tr>\n",
       "  <th>Model:</th>               <td>OrderedModel</td>    <th>  AIC:               </th> <td>   9.275</td>\n",
       "</tr>\n",
       "<tr>\n",
       "  <th>Method:</th>           <td>Maximum Likelihood</td> <th>  BIC:               </th> <td>   8.859</td>\n",
       "</tr>\n",
       "<tr>\n",
       "  <th>Date:</th>              <td>Tue, 19 Jul 2022</td>  <th>                     </th>     <td> </td>   \n",
       "</tr>\n",
       "<tr>\n",
       "  <th>Time:</th>                  <td>00:32:50</td>      <th>                     </th>     <td> </td>   \n",
       "</tr>\n",
       "<tr>\n",
       "  <th>No. Observations:</th>       <td>     6</td>       <th>                     </th>     <td> </td>   \n",
       "</tr>\n",
       "<tr>\n",
       "  <th>Df Residuals:</th>           <td>     4</td>       <th>                     </th>     <td> </td>   \n",
       "</tr>\n",
       "<tr>\n",
       "  <th>Df Model:</th>               <td>     2</td>       <th>                     </th>     <td> </td>   \n",
       "</tr>\n",
       "</table>\n",
       "<table class=\"simpletable\">\n",
       "<tr>\n",
       "     <td></td>        <th>coef</th>     <th>std err</th>      <th>z</th>      <th>P>|z|</th>  <th>[0.025</th>    <th>0.975]</th>  \n",
       "</tr>\n",
       "<tr>\n",
       "  <th>degree</th>  <td>   17.0423</td> <td>   50.023</td> <td>    0.341</td> <td> 0.733</td> <td>  -81.002</td> <td>  115.086</td>\n",
       "</tr>\n",
       "<tr>\n",
       "  <th>1.0/3.0</th> <td>   -2.2632</td> <td>    3.919</td> <td>   -0.578</td> <td> 0.564</td> <td>   -9.944</td> <td>    5.418</td>\n",
       "</tr>\n",
       "</table>"
      ],
      "text/plain": [
       "<class 'statsmodels.iolib.summary.Summary'>\n",
       "\"\"\"\n",
       "                             OrderedModel Results                             \n",
       "==============================================================================\n",
       "Dep. Variable:                   camp   Log-Likelihood:                -2.6376\n",
       "Model:                   OrderedModel   AIC:                             9.275\n",
       "Method:            Maximum Likelihood   BIC:                             8.859\n",
       "Date:                Tue, 19 Jul 2022                                         \n",
       "Time:                        00:32:50                                         \n",
       "No. Observations:                   6                                         \n",
       "Df Residuals:                       4                                         \n",
       "Df Model:                           2                                         \n",
       "==============================================================================\n",
       "                 coef    std err          z      P>|z|      [0.025      0.975]\n",
       "------------------------------------------------------------------------------\n",
       "degree        17.0423     50.023      0.341      0.733     -81.002     115.086\n",
       "1.0/3.0       -2.2632      3.919     -0.578      0.564      -9.944       5.418\n",
       "==============================================================================\n",
       "\"\"\""
      ]
     },
     "execution_count": 82,
     "metadata": {},
     "output_type": "execute_result"
    }
   ],
   "source": [
    "ordinalReg(df_euSight_survey_gcm, ['degree'], 3)"
   ]
  },
  {
   "cell_type": "code",
   "execution_count": 83,
   "metadata": {},
   "outputs": [
    {
     "name": "stdout",
     "output_type": "stream",
     "text": [
      "Ordinal Regression:  ['eigenvector']\n",
      "-------------------------------------\n",
      "Optimization terminated successfully.\n",
      "         Current function value: 0.000002\n",
      "         Iterations: 33\n",
      "         Function evaluations: 38\n",
      "         Gradient evaluations: 38\n"
     ]
    },
    {
     "data": {
      "text/html": [
       "<table class=\"simpletable\">\n",
       "<caption>OrderedModel Results</caption>\n",
       "<tr>\n",
       "  <th>Dep. Variable:</th>           <td>camp</td>        <th>  Log-Likelihood:    </th> <td>-1.4772e-05</td>\n",
       "</tr>\n",
       "<tr>\n",
       "  <th>Model:</th>               <td>OrderedModel</td>    <th>  AIC:               </th>  <td>   4.000</td>  \n",
       "</tr>\n",
       "<tr>\n",
       "  <th>Method:</th>           <td>Maximum Likelihood</td> <th>  BIC:               </th>  <td>   3.584</td>  \n",
       "</tr>\n",
       "<tr>\n",
       "  <th>Date:</th>              <td>Tue, 19 Jul 2022</td>  <th>                     </th>      <td> </td>     \n",
       "</tr>\n",
       "<tr>\n",
       "  <th>Time:</th>                  <td>00:32:50</td>      <th>                     </th>      <td> </td>     \n",
       "</tr>\n",
       "<tr>\n",
       "  <th>No. Observations:</th>       <td>     6</td>       <th>                     </th>      <td> </td>     \n",
       "</tr>\n",
       "<tr>\n",
       "  <th>Df Residuals:</th>           <td>     4</td>       <th>                     </th>      <td> </td>     \n",
       "</tr>\n",
       "<tr>\n",
       "  <th>Df Model:</th>               <td>     2</td>       <th>                     </th>      <td> </td>     \n",
       "</tr>\n",
       "</table>\n",
       "<table class=\"simpletable\">\n",
       "<tr>\n",
       "       <td></td>          <th>coef</th>     <th>std err</th>      <th>z</th>      <th>P>|z|</th>  <th>[0.025</th>    <th>0.975]</th>  \n",
       "</tr>\n",
       "<tr>\n",
       "  <th>eigenvector</th> <td> 2.521e+04</td> <td> 3.48e+05</td> <td>    0.073</td> <td> 0.942</td> <td>-6.56e+05</td> <td> 7.07e+05</td>\n",
       "</tr>\n",
       "<tr>\n",
       "  <th>1.0/3.0</th>     <td> -883.9430</td> <td> 1.22e+04</td> <td>   -0.073</td> <td> 0.942</td> <td>-2.47e+04</td> <td>  2.3e+04</td>\n",
       "</tr>\n",
       "</table>"
      ],
      "text/plain": [
       "<class 'statsmodels.iolib.summary.Summary'>\n",
       "\"\"\"\n",
       "                             OrderedModel Results                             \n",
       "==============================================================================\n",
       "Dep. Variable:                   camp   Log-Likelihood:            -1.4772e-05\n",
       "Model:                   OrderedModel   AIC:                             4.000\n",
       "Method:            Maximum Likelihood   BIC:                             3.584\n",
       "Date:                Tue, 19 Jul 2022                                         \n",
       "Time:                        00:32:50                                         \n",
       "No. Observations:                   6                                         \n",
       "Df Residuals:                       4                                         \n",
       "Df Model:                           2                                         \n",
       "===============================================================================\n",
       "                  coef    std err          z      P>|z|      [0.025      0.975]\n",
       "-------------------------------------------------------------------------------\n",
       "eigenvector  2.521e+04   3.48e+05      0.073      0.942   -6.56e+05    7.07e+05\n",
       "1.0/3.0      -883.9430   1.22e+04     -0.073      0.942   -2.47e+04     2.3e+04\n",
       "===============================================================================\n",
       "\"\"\""
      ]
     },
     "execution_count": 83,
     "metadata": {},
     "output_type": "execute_result"
    }
   ],
   "source": [
    "ordinalReg(df_euSight_survey_gcm, ['eigenvector'], 3)"
   ]
  },
  {
   "cell_type": "code",
   "execution_count": 84,
   "metadata": {},
   "outputs": [
    {
     "name": "stdout",
     "output_type": "stream",
     "text": [
      "Ordinal Regression:  ['pagerank']\n",
      "-------------------------------------\n",
      "Optimization terminated successfully.\n",
      "         Current function value: 0.442597\n",
      "         Iterations: 14\n",
      "         Function evaluations: 18\n",
      "         Gradient evaluations: 18\n"
     ]
    },
    {
     "data": {
      "text/html": [
       "<table class=\"simpletable\">\n",
       "<caption>OrderedModel Results</caption>\n",
       "<tr>\n",
       "  <th>Dep. Variable:</th>           <td>camp</td>        <th>  Log-Likelihood:    </th> <td> -2.6556</td>\n",
       "</tr>\n",
       "<tr>\n",
       "  <th>Model:</th>               <td>OrderedModel</td>    <th>  AIC:               </th> <td>   9.311</td>\n",
       "</tr>\n",
       "<tr>\n",
       "  <th>Method:</th>           <td>Maximum Likelihood</td> <th>  BIC:               </th> <td>   8.895</td>\n",
       "</tr>\n",
       "<tr>\n",
       "  <th>Date:</th>              <td>Tue, 19 Jul 2022</td>  <th>                     </th>     <td> </td>   \n",
       "</tr>\n",
       "<tr>\n",
       "  <th>Time:</th>                  <td>00:32:50</td>      <th>                     </th>     <td> </td>   \n",
       "</tr>\n",
       "<tr>\n",
       "  <th>No. Observations:</th>       <td>     6</td>       <th>                     </th>     <td> </td>   \n",
       "</tr>\n",
       "<tr>\n",
       "  <th>Df Residuals:</th>           <td>     4</td>       <th>                     </th>     <td> </td>   \n",
       "</tr>\n",
       "<tr>\n",
       "  <th>Df Model:</th>               <td>     2</td>       <th>                     </th>     <td> </td>   \n",
       "</tr>\n",
       "</table>\n",
       "<table class=\"simpletable\">\n",
       "<tr>\n",
       "      <td></td>        <th>coef</th>     <th>std err</th>      <th>z</th>      <th>P>|z|</th>  <th>[0.025</th>    <th>0.975]</th>  \n",
       "</tr>\n",
       "<tr>\n",
       "  <th>pagerank</th> <td>   17.5595</td> <td>   58.822</td> <td>    0.299</td> <td> 0.765</td> <td>  -97.729</td> <td>  132.848</td>\n",
       "</tr>\n",
       "<tr>\n",
       "  <th>1.0/3.0</th>  <td>   -2.2865</td> <td>    4.512</td> <td>   -0.507</td> <td> 0.612</td> <td>  -11.130</td> <td>    6.557</td>\n",
       "</tr>\n",
       "</table>"
      ],
      "text/plain": [
       "<class 'statsmodels.iolib.summary.Summary'>\n",
       "\"\"\"\n",
       "                             OrderedModel Results                             \n",
       "==============================================================================\n",
       "Dep. Variable:                   camp   Log-Likelihood:                -2.6556\n",
       "Model:                   OrderedModel   AIC:                             9.311\n",
       "Method:            Maximum Likelihood   BIC:                             8.895\n",
       "Date:                Tue, 19 Jul 2022                                         \n",
       "Time:                        00:32:50                                         \n",
       "No. Observations:                   6                                         \n",
       "Df Residuals:                       4                                         \n",
       "Df Model:                           2                                         \n",
       "==============================================================================\n",
       "                 coef    std err          z      P>|z|      [0.025      0.975]\n",
       "------------------------------------------------------------------------------\n",
       "pagerank      17.5595     58.822      0.299      0.765     -97.729     132.848\n",
       "1.0/3.0       -2.2865      4.512     -0.507      0.612     -11.130       6.557\n",
       "==============================================================================\n",
       "\"\"\""
      ]
     },
     "execution_count": 84,
     "metadata": {},
     "output_type": "execute_result"
    }
   ],
   "source": [
    "ordinalReg(df_euSight_survey_gcm, ['pagerank'], 3)"
   ]
  },
  {
   "cell_type": "markdown",
   "metadata": {},
   "source": [
    "## DAX companies"
   ]
  },
  {
   "cell_type": "code",
   "execution_count": 85,
   "metadata": {},
   "outputs": [
    {
     "name": "stdout",
     "output_type": "stream",
     "text": [
      "Dataframe merged with shape: (28, 5)\n",
      "============================\n",
      "Rows with NaN values dropped: 37 from 53 => 69.81% \n",
      "Dataframe merged with shape: (16, 6)\n"
     ]
    }
   ],
   "source": [
    "# DAX company from the \"Type\": \"dbo:Company\" and \"dbp:tradedAs\" -> \"dbr:DAX\"\n",
    "\n",
    "daxCo_result = catMerger(df_daxCo, df_ig_gcm)\n",
    "df_daxCo = pd.read_csv(\"../data/survey_single_cat_files/sv_prep_uri/improved_uri/sv_dax_companies_impr.csv\", sep=';')\n",
    "\n",
    "df_daxCo_survey_gcm = gcmSurfer(df_daxCo, daxCo_result)"
   ]
  },
  {
   "cell_type": "code",
   "execution_count": 90,
   "metadata": {},
   "outputs": [
    {
     "data": {
      "text/html": [
       "<div>\n",
       "<style scoped>\n",
       "    .dataframe tbody tr th:only-of-type {\n",
       "        vertical-align: middle;\n",
       "    }\n",
       "\n",
       "    .dataframe tbody tr th {\n",
       "        vertical-align: top;\n",
       "    }\n",
       "\n",
       "    .dataframe thead th {\n",
       "        text-align: right;\n",
       "    }\n",
       "</style>\n",
       "<table border=\"1\" class=\"dataframe\">\n",
       "  <thead>\n",
       "    <tr style=\"text-align: right;\">\n",
       "      <th></th>\n",
       "      <th>resource</th>\n",
       "      <th>amount</th>\n",
       "      <th>name</th>\n",
       "      <th>degree</th>\n",
       "      <th>eigenvector</th>\n",
       "      <th>pagerank</th>\n",
       "    </tr>\n",
       "  </thead>\n",
       "  <tbody>\n",
       "    <tr>\n",
       "      <th>3</th>\n",
       "      <td>http://dbpedia.org/resource/BMW</td>\n",
       "      <td>0.086505</td>\n",
       "      <td>BMW</td>\n",
       "      <td>5.117164</td>\n",
       "      <td>-0.283287</td>\n",
       "      <td>5.134173</td>\n",
       "    </tr>\n",
       "    <tr>\n",
       "      <th>5</th>\n",
       "      <td>http://dbpedia.org/resource/Adidas</td>\n",
       "      <td>0.055363</td>\n",
       "      <td>Adidas</td>\n",
       "      <td>-0.180726</td>\n",
       "      <td>-0.295650</td>\n",
       "      <td>-0.181030</td>\n",
       "    </tr>\n",
       "    <tr>\n",
       "      <th>8</th>\n",
       "      <td>http://dbpedia.org/resource/Allianz</td>\n",
       "      <td>0.041522</td>\n",
       "      <td>Allianz</td>\n",
       "      <td>-0.097575</td>\n",
       "      <td>-0.306410</td>\n",
       "      <td>-0.106651</td>\n",
       "    </tr>\n",
       "    <tr>\n",
       "      <th>9</th>\n",
       "      <td>http://dbpedia.org/resource/Deutsche_Bank</td>\n",
       "      <td>0.027682</td>\n",
       "      <td>Deutsche Bank</td>\n",
       "      <td>-0.050060</td>\n",
       "      <td>-0.178412</td>\n",
       "      <td>-0.062260</td>\n",
       "    </tr>\n",
       "    <tr>\n",
       "      <th>10</th>\n",
       "      <td>http://dbpedia.org/resource/Bayer</td>\n",
       "      <td>0.020761</td>\n",
       "      <td>Bayer</td>\n",
       "      <td>-0.038181</td>\n",
       "      <td>4.131678</td>\n",
       "      <td>-0.064125</td>\n",
       "    </tr>\n",
       "    <tr>\n",
       "      <th>11</th>\n",
       "      <td>http://dbpedia.org/resource/HeidelbergCement</td>\n",
       "      <td>0.017301</td>\n",
       "      <td>HeidelbergCement</td>\n",
       "      <td>-0.240119</td>\n",
       "      <td>-0.247379</td>\n",
       "      <td>-0.246723</td>\n",
       "    </tr>\n",
       "    <tr>\n",
       "      <th>13</th>\n",
       "      <td>http://dbpedia.org/resource/Henkel</td>\n",
       "      <td>0.013841</td>\n",
       "      <td>Henkel</td>\n",
       "      <td>-0.240119</td>\n",
       "      <td>-0.313843</td>\n",
       "      <td>-0.211885</td>\n",
       "    </tr>\n",
       "    <tr>\n",
       "      <th>20</th>\n",
       "      <td>http://dbpedia.org/resource/Deutsche_Post</td>\n",
       "      <td>0.010381</td>\n",
       "      <td>Deutsche Post</td>\n",
       "      <td>-0.168847</td>\n",
       "      <td>-0.309295</td>\n",
       "      <td>-0.190119</td>\n",
       "    </tr>\n",
       "    <tr>\n",
       "      <th>21</th>\n",
       "      <td>http://dbpedia.org/resource/Fresenius_(company)</td>\n",
       "      <td>0.010381</td>\n",
       "      <td>Fresenius (company)</td>\n",
       "      <td>-0.287634</td>\n",
       "      <td>-0.312987</td>\n",
       "      <td>-0.257096</td>\n",
       "    </tr>\n",
       "    <tr>\n",
       "      <th>23</th>\n",
       "      <td>http://dbpedia.org/resource/Deutsche_Telekom</td>\n",
       "      <td>0.006920</td>\n",
       "      <td>Deutsche Telekom</td>\n",
       "      <td>-0.002545</td>\n",
       "      <td>-0.307816</td>\n",
       "      <td>-0.062574</td>\n",
       "    </tr>\n",
       "    <tr>\n",
       "      <th>27</th>\n",
       "      <td>http://dbpedia.org/resource/Delivery_Hero</td>\n",
       "      <td>0.006920</td>\n",
       "      <td>Delivery Hero</td>\n",
       "      <td>-0.275755</td>\n",
       "      <td>-0.237763</td>\n",
       "      <td>-0.282292</td>\n",
       "    </tr>\n",
       "    <tr>\n",
       "      <th>28</th>\n",
       "      <td>http://dbpedia.org/resource/Zalando</td>\n",
       "      <td>0.006920</td>\n",
       "      <td>Zalando</td>\n",
       "      <td>-0.358906</td>\n",
       "      <td>-0.238400</td>\n",
       "      <td>-0.356942</td>\n",
       "    </tr>\n",
       "    <tr>\n",
       "      <th>29</th>\n",
       "      <td>http://dbpedia.org/resource/E.ON</td>\n",
       "      <td>0.003460</td>\n",
       "      <td>E.ON</td>\n",
       "      <td>-0.085696</td>\n",
       "      <td>-0.320030</td>\n",
       "      <td>-0.077647</td>\n",
       "    </tr>\n",
       "    <tr>\n",
       "      <th>37</th>\n",
       "      <td>http://dbpedia.org/resource/Deutsche_Wohnen</td>\n",
       "      <td>0.003460</td>\n",
       "      <td>Deutsche Wohnen</td>\n",
       "      <td>-0.382663</td>\n",
       "      <td>-0.320300</td>\n",
       "      <td>-0.366113</td>\n",
       "    </tr>\n",
       "    <tr>\n",
       "      <th>51</th>\n",
       "      <td>http://dbpedia.org/resource/Infineon_Technologies</td>\n",
       "      <td>0.003460</td>\n",
       "      <td>Infineon Technologies</td>\n",
       "      <td>-0.263876</td>\n",
       "      <td>-0.312307</td>\n",
       "      <td>-0.265430</td>\n",
       "    </tr>\n",
       "    <tr>\n",
       "      <th>52</th>\n",
       "      <td>http://dbpedia.org/resource/Covestro</td>\n",
       "      <td>0.003460</td>\n",
       "      <td>Covestro</td>\n",
       "      <td>-0.370784</td>\n",
       "      <td>-0.252488</td>\n",
       "      <td>-0.355470</td>\n",
       "    </tr>\n",
       "  </tbody>\n",
       "</table>\n",
       "</div>"
      ],
      "text/plain": [
       "                                             resource    amount  \\\n",
       "3                     http://dbpedia.org/resource/BMW  0.086505   \n",
       "5                  http://dbpedia.org/resource/Adidas  0.055363   \n",
       "8                 http://dbpedia.org/resource/Allianz  0.041522   \n",
       "9           http://dbpedia.org/resource/Deutsche_Bank  0.027682   \n",
       "10                  http://dbpedia.org/resource/Bayer  0.020761   \n",
       "11       http://dbpedia.org/resource/HeidelbergCement  0.017301   \n",
       "13                 http://dbpedia.org/resource/Henkel  0.013841   \n",
       "20          http://dbpedia.org/resource/Deutsche_Post  0.010381   \n",
       "21    http://dbpedia.org/resource/Fresenius_(company)  0.010381   \n",
       "23       http://dbpedia.org/resource/Deutsche_Telekom  0.006920   \n",
       "27          http://dbpedia.org/resource/Delivery_Hero  0.006920   \n",
       "28                http://dbpedia.org/resource/Zalando  0.006920   \n",
       "29                   http://dbpedia.org/resource/E.ON  0.003460   \n",
       "37        http://dbpedia.org/resource/Deutsche_Wohnen  0.003460   \n",
       "51  http://dbpedia.org/resource/Infineon_Technologies  0.003460   \n",
       "52               http://dbpedia.org/resource/Covestro  0.003460   \n",
       "\n",
       "                     name    degree  eigenvector  pagerank  \n",
       "3                     BMW  5.117164    -0.283287  5.134173  \n",
       "5                  Adidas -0.180726    -0.295650 -0.181030  \n",
       "8                 Allianz -0.097575    -0.306410 -0.106651  \n",
       "9           Deutsche Bank -0.050060    -0.178412 -0.062260  \n",
       "10                  Bayer -0.038181     4.131678 -0.064125  \n",
       "11       HeidelbergCement -0.240119    -0.247379 -0.246723  \n",
       "13                 Henkel -0.240119    -0.313843 -0.211885  \n",
       "20          Deutsche Post -0.168847    -0.309295 -0.190119  \n",
       "21    Fresenius (company) -0.287634    -0.312987 -0.257096  \n",
       "23       Deutsche Telekom -0.002545    -0.307816 -0.062574  \n",
       "27          Delivery Hero -0.275755    -0.237763 -0.282292  \n",
       "28                Zalando -0.358906    -0.238400 -0.356942  \n",
       "29                   E.ON -0.085696    -0.320030 -0.077647  \n",
       "37        Deutsche Wohnen -0.382663    -0.320300 -0.366113  \n",
       "51  Infineon Technologies -0.263876    -0.312307 -0.265430  \n",
       "52               Covestro -0.370784    -0.252488 -0.355470  "
      ]
     },
     "execution_count": 90,
     "metadata": {},
     "output_type": "execute_result"
    }
   ],
   "source": [
    "df_daxCo_survey_gcm"
   ]
  },
  {
   "cell_type": "code",
   "execution_count": 86,
   "metadata": {},
   "outputs": [
    {
     "name": "stdout",
     "output_type": "stream",
     "text": [
      "Ordinal Regression:  ['degree']\n",
      "-------------------------------------\n",
      "Optimization terminated successfully.\n",
      "         Current function value: 0.389428\n",
      "         Iterations: 21\n",
      "         Function evaluations: 24\n",
      "         Gradient evaluations: 24\n"
     ]
    },
    {
     "data": {
      "text/html": [
       "<table class=\"simpletable\">\n",
       "<caption>OrderedModel Results</caption>\n",
       "<tr>\n",
       "  <th>Dep. Variable:</th>           <td>camp</td>        <th>  Log-Likelihood:    </th> <td> -6.2309</td>\n",
       "</tr>\n",
       "<tr>\n",
       "  <th>Model:</th>               <td>OrderedModel</td>    <th>  AIC:               </th> <td>   18.46</td>\n",
       "</tr>\n",
       "<tr>\n",
       "  <th>Method:</th>           <td>Maximum Likelihood</td> <th>  BIC:               </th> <td>   20.78</td>\n",
       "</tr>\n",
       "<tr>\n",
       "  <th>Date:</th>              <td>Tue, 19 Jul 2022</td>  <th>                     </th>     <td> </td>   \n",
       "</tr>\n",
       "<tr>\n",
       "  <th>Time:</th>                  <td>00:36:29</td>      <th>                     </th>     <td> </td>   \n",
       "</tr>\n",
       "<tr>\n",
       "  <th>No. Observations:</th>       <td>    16</td>       <th>                     </th>     <td> </td>   \n",
       "</tr>\n",
       "<tr>\n",
       "  <th>Df Residuals:</th>           <td>    13</td>       <th>                     </th>     <td> </td>   \n",
       "</tr>\n",
       "<tr>\n",
       "  <th>Df Model:</th>               <td>     3</td>       <th>                     </th>     <td> </td>   \n",
       "</tr>\n",
       "</table>\n",
       "<table class=\"simpletable\">\n",
       "<tr>\n",
       "     <td></td>        <th>coef</th>     <th>std err</th>      <th>z</th>      <th>P>|z|</th>  <th>[0.025</th>    <th>0.975]</th>  \n",
       "</tr>\n",
       "<tr>\n",
       "  <th>degree</th>  <td>   -5.6066</td> <td>    3.888</td> <td>   -1.442</td> <td> 0.149</td> <td>  -13.227</td> <td>    2.014</td>\n",
       "</tr>\n",
       "<tr>\n",
       "  <th>1.0/2.0</th> <td>   -6.0446</td> <td>  853.068</td> <td>   -0.007</td> <td> 0.994</td> <td>-1678.026</td> <td> 1665.937</td>\n",
       "</tr>\n",
       "<tr>\n",
       "  <th>2.0/3.0</th> <td>    1.8138</td> <td>  139.076</td> <td>    0.013</td> <td> 0.990</td> <td> -270.769</td> <td>  274.397</td>\n",
       "</tr>\n",
       "</table>"
      ],
      "text/plain": [
       "<class 'statsmodels.iolib.summary.Summary'>\n",
       "\"\"\"\n",
       "                             OrderedModel Results                             \n",
       "==============================================================================\n",
       "Dep. Variable:                   camp   Log-Likelihood:                -6.2309\n",
       "Model:                   OrderedModel   AIC:                             18.46\n",
       "Method:            Maximum Likelihood   BIC:                             20.78\n",
       "Date:                Tue, 19 Jul 2022                                         \n",
       "Time:                        00:36:29                                         \n",
       "No. Observations:                  16                                         \n",
       "Df Residuals:                      13                                         \n",
       "Df Model:                           3                                         \n",
       "==============================================================================\n",
       "                 coef    std err          z      P>|z|      [0.025      0.975]\n",
       "------------------------------------------------------------------------------\n",
       "degree        -5.6066      3.888     -1.442      0.149     -13.227       2.014\n",
       "1.0/2.0       -6.0446    853.068     -0.007      0.994   -1678.026    1665.937\n",
       "2.0/3.0        1.8138    139.076      0.013      0.990    -270.769     274.397\n",
       "==============================================================================\n",
       "\"\"\""
      ]
     },
     "execution_count": 86,
     "metadata": {},
     "output_type": "execute_result"
    }
   ],
   "source": [
    "ordinalReg(df_daxCo_survey_gcm, ['degree'], 3)"
   ]
  },
  {
   "cell_type": "code",
   "execution_count": 87,
   "metadata": {},
   "outputs": [
    {
     "name": "stdout",
     "output_type": "stream",
     "text": [
      "Ordinal Regression:  ['eigenvector']\n",
      "-------------------------------------\n",
      "Optimization terminated successfully.\n",
      "         Current function value: 0.687230\n",
      "         Iterations: 11\n",
      "         Function evaluations: 12\n",
      "         Gradient evaluations: 12\n"
     ]
    },
    {
     "data": {
      "text/html": [
       "<table class=\"simpletable\">\n",
       "<caption>OrderedModel Results</caption>\n",
       "<tr>\n",
       "  <th>Dep. Variable:</th>           <td>camp</td>        <th>  Log-Likelihood:    </th> <td> -10.996</td>\n",
       "</tr>\n",
       "<tr>\n",
       "  <th>Model:</th>               <td>OrderedModel</td>    <th>  AIC:               </th> <td>   27.99</td>\n",
       "</tr>\n",
       "<tr>\n",
       "  <th>Method:</th>           <td>Maximum Likelihood</td> <th>  BIC:               </th> <td>   30.31</td>\n",
       "</tr>\n",
       "<tr>\n",
       "  <th>Date:</th>              <td>Tue, 19 Jul 2022</td>  <th>                     </th>     <td> </td>   \n",
       "</tr>\n",
       "<tr>\n",
       "  <th>Time:</th>                  <td>00:36:29</td>      <th>                     </th>     <td> </td>   \n",
       "</tr>\n",
       "<tr>\n",
       "  <th>No. Observations:</th>       <td>    16</td>       <th>                     </th>     <td> </td>   \n",
       "</tr>\n",
       "<tr>\n",
       "  <th>Df Residuals:</th>           <td>    13</td>       <th>                     </th>     <td> </td>   \n",
       "</tr>\n",
       "<tr>\n",
       "  <th>Df Model:</th>               <td>     3</td>       <th>                     </th>     <td> </td>   \n",
       "</tr>\n",
       "</table>\n",
       "<table class=\"simpletable\">\n",
       "<tr>\n",
       "       <td></td>          <th>coef</th>     <th>std err</th>      <th>z</th>      <th>P>|z|</th>  <th>[0.025</th>    <th>0.975]</th>  \n",
       "</tr>\n",
       "<tr>\n",
       "  <th>eigenvector</th> <td>    0.4007</td> <td>    0.958</td> <td>    0.418</td> <td> 0.676</td> <td>   -1.477</td> <td>    2.279</td>\n",
       "</tr>\n",
       "<tr>\n",
       "  <th>1.0/2.0</th>     <td>   -1.6137</td> <td>    0.555</td> <td>   -2.905</td> <td> 0.004</td> <td>   -2.702</td> <td>   -0.525</td>\n",
       "</tr>\n",
       "<tr>\n",
       "  <th>2.0/3.0</th>     <td>   -0.1325</td> <td>    0.529</td> <td>   -0.250</td> <td> 0.802</td> <td>   -1.169</td> <td>    0.904</td>\n",
       "</tr>\n",
       "</table>"
      ],
      "text/plain": [
       "<class 'statsmodels.iolib.summary.Summary'>\n",
       "\"\"\"\n",
       "                             OrderedModel Results                             \n",
       "==============================================================================\n",
       "Dep. Variable:                   camp   Log-Likelihood:                -10.996\n",
       "Model:                   OrderedModel   AIC:                             27.99\n",
       "Method:            Maximum Likelihood   BIC:                             30.31\n",
       "Date:                Tue, 19 Jul 2022                                         \n",
       "Time:                        00:36:29                                         \n",
       "No. Observations:                  16                                         \n",
       "Df Residuals:                      13                                         \n",
       "Df Model:                           3                                         \n",
       "===============================================================================\n",
       "                  coef    std err          z      P>|z|      [0.025      0.975]\n",
       "-------------------------------------------------------------------------------\n",
       "eigenvector     0.4007      0.958      0.418      0.676      -1.477       2.279\n",
       "1.0/2.0        -1.6137      0.555     -2.905      0.004      -2.702      -0.525\n",
       "2.0/3.0        -0.1325      0.529     -0.250      0.802      -1.169       0.904\n",
       "===============================================================================\n",
       "\"\"\""
      ]
     },
     "execution_count": 87,
     "metadata": {},
     "output_type": "execute_result"
    }
   ],
   "source": [
    "ordinalReg(df_daxCo_survey_gcm, ['eigenvector'], 3)"
   ]
  },
  {
   "cell_type": "code",
   "execution_count": 88,
   "metadata": {},
   "outputs": [
    {
     "name": "stdout",
     "output_type": "stream",
     "text": [
      "Ordinal Regression:  ['pagerank']\n",
      "-------------------------------------\n",
      "Optimization terminated successfully.\n",
      "         Current function value: 0.373883\n",
      "         Iterations: 23\n",
      "         Function evaluations: 28\n",
      "         Gradient evaluations: 28\n"
     ]
    },
    {
     "data": {
      "text/html": [
       "<table class=\"simpletable\">\n",
       "<caption>OrderedModel Results</caption>\n",
       "<tr>\n",
       "  <th>Dep. Variable:</th>           <td>camp</td>        <th>  Log-Likelihood:    </th> <td> -5.9821</td>\n",
       "</tr>\n",
       "<tr>\n",
       "  <th>Model:</th>               <td>OrderedModel</td>    <th>  AIC:               </th> <td>   17.96</td>\n",
       "</tr>\n",
       "<tr>\n",
       "  <th>Method:</th>           <td>Maximum Likelihood</td> <th>  BIC:               </th> <td>   20.28</td>\n",
       "</tr>\n",
       "<tr>\n",
       "  <th>Date:</th>              <td>Tue, 19 Jul 2022</td>  <th>                     </th>     <td> </td>   \n",
       "</tr>\n",
       "<tr>\n",
       "  <th>Time:</th>                  <td>00:36:30</td>      <th>                     </th>     <td> </td>   \n",
       "</tr>\n",
       "<tr>\n",
       "  <th>No. Observations:</th>       <td>    16</td>       <th>                     </th>     <td> </td>   \n",
       "</tr>\n",
       "<tr>\n",
       "  <th>Df Residuals:</th>           <td>    13</td>       <th>                     </th>     <td> </td>   \n",
       "</tr>\n",
       "<tr>\n",
       "  <th>Df Model:</th>               <td>     3</td>       <th>                     </th>     <td> </td>   \n",
       "</tr>\n",
       "</table>\n",
       "<table class=\"simpletable\">\n",
       "<tr>\n",
       "      <td></td>        <th>coef</th>     <th>std err</th>      <th>z</th>      <th>P>|z|</th>  <th>[0.025</th>    <th>0.975]</th>  \n",
       "</tr>\n",
       "<tr>\n",
       "  <th>pagerank</th> <td>   -7.2948</td> <td>    4.857</td> <td>   -1.502</td> <td> 0.133</td> <td>  -16.815</td> <td>    2.225</td>\n",
       "</tr>\n",
       "<tr>\n",
       "  <th>1.0/2.0</th>  <td>   -7.3111</td> <td>  694.237</td> <td>   -0.011</td> <td> 0.992</td> <td>-1367.991</td> <td> 1353.368</td>\n",
       "</tr>\n",
       "<tr>\n",
       "  <th>2.0/3.0</th>  <td>    2.0418</td> <td>   90.113</td> <td>    0.023</td> <td> 0.982</td> <td> -174.576</td> <td>  178.660</td>\n",
       "</tr>\n",
       "</table>"
      ],
      "text/plain": [
       "<class 'statsmodels.iolib.summary.Summary'>\n",
       "\"\"\"\n",
       "                             OrderedModel Results                             \n",
       "==============================================================================\n",
       "Dep. Variable:                   camp   Log-Likelihood:                -5.9821\n",
       "Model:                   OrderedModel   AIC:                             17.96\n",
       "Method:            Maximum Likelihood   BIC:                             20.28\n",
       "Date:                Tue, 19 Jul 2022                                         \n",
       "Time:                        00:36:30                                         \n",
       "No. Observations:                  16                                         \n",
       "Df Residuals:                      13                                         \n",
       "Df Model:                           3                                         \n",
       "==============================================================================\n",
       "                 coef    std err          z      P>|z|      [0.025      0.975]\n",
       "------------------------------------------------------------------------------\n",
       "pagerank      -7.2948      4.857     -1.502      0.133     -16.815       2.225\n",
       "1.0/2.0       -7.3111    694.237     -0.011      0.992   -1367.991    1353.368\n",
       "2.0/3.0        2.0418     90.113      0.023      0.982    -174.576     178.660\n",
       "==============================================================================\n",
       "\"\"\""
      ]
     },
     "execution_count": 88,
     "metadata": {},
     "output_type": "execute_result"
    }
   ],
   "source": [
    "ordinalReg(df_daxCo_survey_gcm, ['pagerank'], 3)"
   ]
  },
  {
   "cell_type": "markdown",
   "metadata": {},
   "source": [
    "## US companies"
   ]
  },
  {
   "cell_type": "code",
   "execution_count": 93,
   "metadata": {},
   "outputs": [
    {
     "name": "stdout",
     "output_type": "stream",
     "text": [
      "Dataframe merged with shape: (1079, 5)\n",
      "============================\n",
      "Rows with NaN values dropped: 76 from 76 => 100.0% \n",
      "Dataframe merged with shape: (0, 6)\n"
     ]
    }
   ],
   "source": [
    "# US company from \"Category\": Lists_of_companies_of_the_United_States\n",
    "\n",
    "usCo_result = catMerger(df_usCo, df_ig_gcm)\n",
    "df_survey_usCo = pd.read_csv(\"../data/survey_single_cat_files/sv_prep_uri/improved_uri/sv_us_companies_impr.csv\", sep=';', encoding=\"ISO-8859-1\") # .csv needed no manual uri correction\n",
    "\n",
    "df_usCo_survey_gcm = gcmSurfer(df_survey_usCo, usCo_result)"
   ]
  },
  {
   "cell_type": "code",
   "execution_count": 94,
   "metadata": {},
   "outputs": [
    {
     "ename": "KeyError",
     "evalue": "'camp'",
     "output_type": "error",
     "traceback": [
      "\u001b[0;31m---------------------------------------------------------------------------\u001b[0m",
      "\u001b[0;31mKeyError\u001b[0m                                  Traceback (most recent call last)",
      "\u001b[0;32m~/opt/anaconda3/lib/python3.7/site-packages/pandas/core/indexes/base.py\u001b[0m in \u001b[0;36mget_loc\u001b[0;34m(self, key, method, tolerance)\u001b[0m\n\u001b[1;32m   3360\u001b[0m             \u001b[0;32mtry\u001b[0m\u001b[0;34m:\u001b[0m\u001b[0;34m\u001b[0m\u001b[0;34m\u001b[0m\u001b[0m\n\u001b[0;32m-> 3361\u001b[0;31m                 \u001b[0;32mreturn\u001b[0m \u001b[0mself\u001b[0m\u001b[0;34m.\u001b[0m\u001b[0m_engine\u001b[0m\u001b[0;34m.\u001b[0m\u001b[0mget_loc\u001b[0m\u001b[0;34m(\u001b[0m\u001b[0mcasted_key\u001b[0m\u001b[0;34m)\u001b[0m\u001b[0;34m\u001b[0m\u001b[0;34m\u001b[0m\u001b[0m\n\u001b[0m\u001b[1;32m   3362\u001b[0m             \u001b[0;32mexcept\u001b[0m \u001b[0mKeyError\u001b[0m \u001b[0;32mas\u001b[0m \u001b[0merr\u001b[0m\u001b[0;34m:\u001b[0m\u001b[0;34m\u001b[0m\u001b[0;34m\u001b[0m\u001b[0m\n",
      "\u001b[0;32m~/opt/anaconda3/lib/python3.7/site-packages/pandas/_libs/index.pyx\u001b[0m in \u001b[0;36mpandas._libs.index.IndexEngine.get_loc\u001b[0;34m()\u001b[0m\n",
      "\u001b[0;32m~/opt/anaconda3/lib/python3.7/site-packages/pandas/_libs/index.pyx\u001b[0m in \u001b[0;36mpandas._libs.index.IndexEngine.get_loc\u001b[0;34m()\u001b[0m\n",
      "\u001b[0;32mpandas/_libs/hashtable_class_helper.pxi\u001b[0m in \u001b[0;36mpandas._libs.hashtable.PyObjectHashTable.get_item\u001b[0;34m()\u001b[0m\n",
      "\u001b[0;32mpandas/_libs/hashtable_class_helper.pxi\u001b[0m in \u001b[0;36mpandas._libs.hashtable.PyObjectHashTable.get_item\u001b[0;34m()\u001b[0m\n",
      "\u001b[0;31mKeyError\u001b[0m: 'camp'",
      "\nThe above exception was the direct cause of the following exception:\n",
      "\u001b[0;31mKeyError\u001b[0m                                  Traceback (most recent call last)",
      "\u001b[0;32m<ipython-input-94-e4235848978b>\u001b[0m in \u001b[0;36m<module>\u001b[0;34m\u001b[0m\n\u001b[0;32m----> 1\u001b[0;31m \u001b[0mordinalReg\u001b[0m\u001b[0;34m(\u001b[0m\u001b[0mdf_usCo_survey_gcm\u001b[0m\u001b[0;34m,\u001b[0m \u001b[0;34m[\u001b[0m\u001b[0;34m'degree'\u001b[0m\u001b[0;34m]\u001b[0m\u001b[0;34m,\u001b[0m \u001b[0;36m3\u001b[0m\u001b[0;34m)\u001b[0m\u001b[0;34m\u001b[0m\u001b[0;34m\u001b[0m\u001b[0m\n\u001b[0m",
      "\u001b[0;32m<ipython-input-10-0b59c3c1a966>\u001b[0m in \u001b[0;36mordinalReg\u001b[0;34m(df_survey_gcm, list_gcm, num_splits)\u001b[0m\n\u001b[1;32m      5\u001b[0m     \u001b[0mcamped_df\u001b[0m \u001b[0;34m=\u001b[0m \u001b[0mcamper\u001b[0m\u001b[0;34m(\u001b[0m\u001b[0mhelper_df\u001b[0m\u001b[0;34m,\u001b[0m \u001b[0mnum_splits\u001b[0m\u001b[0;34m)\u001b[0m\u001b[0;34m\u001b[0m\u001b[0;34m\u001b[0m\u001b[0m\n\u001b[1;32m      6\u001b[0m \u001b[0;34m\u001b[0m\u001b[0m\n\u001b[0;32m----> 7\u001b[0;31m     mod_prob = OrderedModel(camped_df['camp'],\n\u001b[0m\u001b[1;32m      8\u001b[0m                             \u001b[0;31m#df_euCap_or[['degree', 'eigenvector', 'pagerank']],\u001b[0m\u001b[0;34m\u001b[0m\u001b[0;34m\u001b[0m\u001b[0;34m\u001b[0m\u001b[0m\n\u001b[1;32m      9\u001b[0m                             \u001b[0mcamped_df\u001b[0m\u001b[0;34m[\u001b[0m\u001b[0mlist_gcm\u001b[0m\u001b[0;34m]\u001b[0m\u001b[0;34m,\u001b[0m\u001b[0;34m\u001b[0m\u001b[0;34m\u001b[0m\u001b[0m\n",
      "\u001b[0;32m~/opt/anaconda3/lib/python3.7/site-packages/pandas/core/frame.py\u001b[0m in \u001b[0;36m__getitem__\u001b[0;34m(self, key)\u001b[0m\n\u001b[1;32m   3456\u001b[0m             \u001b[0;32mif\u001b[0m \u001b[0mself\u001b[0m\u001b[0;34m.\u001b[0m\u001b[0mcolumns\u001b[0m\u001b[0;34m.\u001b[0m\u001b[0mnlevels\u001b[0m \u001b[0;34m>\u001b[0m \u001b[0;36m1\u001b[0m\u001b[0;34m:\u001b[0m\u001b[0;34m\u001b[0m\u001b[0;34m\u001b[0m\u001b[0m\n\u001b[1;32m   3457\u001b[0m                 \u001b[0;32mreturn\u001b[0m \u001b[0mself\u001b[0m\u001b[0;34m.\u001b[0m\u001b[0m_getitem_multilevel\u001b[0m\u001b[0;34m(\u001b[0m\u001b[0mkey\u001b[0m\u001b[0;34m)\u001b[0m\u001b[0;34m\u001b[0m\u001b[0;34m\u001b[0m\u001b[0m\n\u001b[0;32m-> 3458\u001b[0;31m             \u001b[0mindexer\u001b[0m \u001b[0;34m=\u001b[0m \u001b[0mself\u001b[0m\u001b[0;34m.\u001b[0m\u001b[0mcolumns\u001b[0m\u001b[0;34m.\u001b[0m\u001b[0mget_loc\u001b[0m\u001b[0;34m(\u001b[0m\u001b[0mkey\u001b[0m\u001b[0;34m)\u001b[0m\u001b[0;34m\u001b[0m\u001b[0;34m\u001b[0m\u001b[0m\n\u001b[0m\u001b[1;32m   3459\u001b[0m             \u001b[0;32mif\u001b[0m \u001b[0mis_integer\u001b[0m\u001b[0;34m(\u001b[0m\u001b[0mindexer\u001b[0m\u001b[0;34m)\u001b[0m\u001b[0;34m:\u001b[0m\u001b[0;34m\u001b[0m\u001b[0;34m\u001b[0m\u001b[0m\n\u001b[1;32m   3460\u001b[0m                 \u001b[0mindexer\u001b[0m \u001b[0;34m=\u001b[0m \u001b[0;34m[\u001b[0m\u001b[0mindexer\u001b[0m\u001b[0;34m]\u001b[0m\u001b[0;34m\u001b[0m\u001b[0;34m\u001b[0m\u001b[0m\n",
      "\u001b[0;32m~/opt/anaconda3/lib/python3.7/site-packages/pandas/core/indexes/base.py\u001b[0m in \u001b[0;36mget_loc\u001b[0;34m(self, key, method, tolerance)\u001b[0m\n\u001b[1;32m   3361\u001b[0m                 \u001b[0;32mreturn\u001b[0m \u001b[0mself\u001b[0m\u001b[0;34m.\u001b[0m\u001b[0m_engine\u001b[0m\u001b[0;34m.\u001b[0m\u001b[0mget_loc\u001b[0m\u001b[0;34m(\u001b[0m\u001b[0mcasted_key\u001b[0m\u001b[0;34m)\u001b[0m\u001b[0;34m\u001b[0m\u001b[0;34m\u001b[0m\u001b[0m\n\u001b[1;32m   3362\u001b[0m             \u001b[0;32mexcept\u001b[0m \u001b[0mKeyError\u001b[0m \u001b[0;32mas\u001b[0m \u001b[0merr\u001b[0m\u001b[0;34m:\u001b[0m\u001b[0;34m\u001b[0m\u001b[0;34m\u001b[0m\u001b[0m\n\u001b[0;32m-> 3363\u001b[0;31m                 \u001b[0;32mraise\u001b[0m \u001b[0mKeyError\u001b[0m\u001b[0;34m(\u001b[0m\u001b[0mkey\u001b[0m\u001b[0;34m)\u001b[0m \u001b[0;32mfrom\u001b[0m \u001b[0merr\u001b[0m\u001b[0;34m\u001b[0m\u001b[0;34m\u001b[0m\u001b[0m\n\u001b[0m\u001b[1;32m   3364\u001b[0m \u001b[0;34m\u001b[0m\u001b[0m\n\u001b[1;32m   3365\u001b[0m         \u001b[0;32mif\u001b[0m \u001b[0mis_scalar\u001b[0m\u001b[0;34m(\u001b[0m\u001b[0mkey\u001b[0m\u001b[0;34m)\u001b[0m \u001b[0;32mand\u001b[0m \u001b[0misna\u001b[0m\u001b[0;34m(\u001b[0m\u001b[0mkey\u001b[0m\u001b[0;34m)\u001b[0m \u001b[0;32mand\u001b[0m \u001b[0;32mnot\u001b[0m \u001b[0mself\u001b[0m\u001b[0;34m.\u001b[0m\u001b[0mhasnans\u001b[0m\u001b[0;34m:\u001b[0m\u001b[0;34m\u001b[0m\u001b[0;34m\u001b[0m\u001b[0m\n",
      "\u001b[0;31mKeyError\u001b[0m: 'camp'"
     ]
    }
   ],
   "source": [
    "ordinalReg(df_usCo_survey_gcm, ['degree'], 3)"
   ]
  },
  {
   "cell_type": "code",
   "execution_count": null,
   "metadata": {},
   "outputs": [],
   "source": [
    "ordinalReg(df_usCo_survey_gcm, ['eigenvector'], 3)"
   ]
  },
  {
   "cell_type": "code",
   "execution_count": null,
   "metadata": {},
   "outputs": [],
   "source": [
    "ordinalReg(df_usCo_survey_gcm, ['pagerank'], 3)"
   ]
  },
  {
   "cell_type": "markdown",
   "metadata": {},
   "source": [
    "## US technology companies"
   ]
  },
  {
   "cell_type": "code",
   "execution_count": 95,
   "metadata": {},
   "outputs": [
    {
     "name": "stdout",
     "output_type": "stream",
     "text": [
      "Dataframe merged with shape: (10000, 5)\n",
      "============================\n",
      "Rows with NaN values dropped: 31 from 34 => 91.18% \n",
      "Dataframe merged with shape: (3, 6)\n"
     ]
    }
   ],
   "source": [
    "# US tech company from the \"Category\": \"dbc:Technology_companies_of_the_United_States\"\n",
    "\n",
    "usTech_result = catMerger(df_usTechCo, df_ig_gcm)\n",
    "df_survey_usTech = pd.read_csv(\"../data/survey_single_cat_files/sv_prep_uri/improved_uri/sv_us_tech_companies_impr.csv\", sep=';') # .csv needed no manual uri correction\n",
    "\n",
    "df_usTech_survey_gcm = gcmSurfer(df_survey_usTech, usTech_result)"
   ]
  },
  {
   "cell_type": "code",
   "execution_count": 96,
   "metadata": {},
   "outputs": [
    {
     "name": "stdout",
     "output_type": "stream",
     "text": [
      "Ordinal Regression:  ['degree']\n",
      "-------------------------------------\n"
     ]
    },
    {
     "ename": "ValueError",
     "evalue": "shapes (3,1) and (0,) not aligned: 1 (dim 1) != 0 (dim 0)",
     "output_type": "error",
     "traceback": [
      "\u001b[0;31m---------------------------------------------------------------------------\u001b[0m",
      "\u001b[0;31mValueError\u001b[0m                                Traceback (most recent call last)",
      "\u001b[0;32m<ipython-input-96-bf69c6781907>\u001b[0m in \u001b[0;36m<module>\u001b[0;34m\u001b[0m\n\u001b[0;32m----> 1\u001b[0;31m \u001b[0mordinalReg\u001b[0m\u001b[0;34m(\u001b[0m\u001b[0mdf_usTech_survey_gcm\u001b[0m\u001b[0;34m,\u001b[0m \u001b[0;34m[\u001b[0m\u001b[0;34m'degree'\u001b[0m\u001b[0;34m]\u001b[0m\u001b[0;34m,\u001b[0m \u001b[0;36m3\u001b[0m\u001b[0;34m)\u001b[0m\u001b[0;34m\u001b[0m\u001b[0;34m\u001b[0m\u001b[0m\n\u001b[0m",
      "\u001b[0;32m<ipython-input-10-0b59c3c1a966>\u001b[0m in \u001b[0;36mordinalReg\u001b[0;34m(df_survey_gcm, list_gcm, num_splits)\u001b[0m\n\u001b[1;32m     13\u001b[0m     \u001b[0mprint\u001b[0m\u001b[0;34m(\u001b[0m\u001b[0;34m\"Ordinal Regression:  {}\"\u001b[0m\u001b[0;34m.\u001b[0m\u001b[0mformat\u001b[0m\u001b[0;34m(\u001b[0m\u001b[0mlist_gcm\u001b[0m\u001b[0;34m)\u001b[0m\u001b[0;34m)\u001b[0m\u001b[0;34m\u001b[0m\u001b[0;34m\u001b[0m\u001b[0m\n\u001b[1;32m     14\u001b[0m     \u001b[0mprint\u001b[0m\u001b[0;34m(\u001b[0m\u001b[0;34m'-------------------------------------'\u001b[0m\u001b[0;34m)\u001b[0m\u001b[0;34m\u001b[0m\u001b[0;34m\u001b[0m\u001b[0m\n\u001b[0;32m---> 15\u001b[0;31m     \u001b[0mres_prob\u001b[0m \u001b[0;34m=\u001b[0m \u001b[0mmod_prob\u001b[0m\u001b[0;34m.\u001b[0m\u001b[0mfit\u001b[0m\u001b[0;34m(\u001b[0m\u001b[0mmethod\u001b[0m\u001b[0;34m=\u001b[0m\u001b[0;34m'bfgs'\u001b[0m\u001b[0;34m)\u001b[0m\u001b[0;34m\u001b[0m\u001b[0;34m\u001b[0m\u001b[0m\n\u001b[0m\u001b[1;32m     16\u001b[0m \u001b[0;34m\u001b[0m\u001b[0m\n\u001b[1;32m     17\u001b[0m     \u001b[0;32mreturn\u001b[0m \u001b[0mres_prob\u001b[0m\u001b[0;34m.\u001b[0m\u001b[0msummary\u001b[0m\u001b[0;34m(\u001b[0m\u001b[0;34m)\u001b[0m\u001b[0;34m\u001b[0m\u001b[0;34m\u001b[0m\u001b[0m\n",
      "\u001b[0;32m~/opt/anaconda3/lib/python3.7/site-packages/statsmodels/miscmodels/ordinal_model.py\u001b[0m in \u001b[0;36mfit\u001b[0;34m(self, start_params, method, maxiter, full_output, disp, callback, retall, **kwargs)\u001b[0m\n\u001b[1;32m    589\u001b[0m                             \u001b[0mmethod\u001b[0m\u001b[0;34m=\u001b[0m\u001b[0mmethod\u001b[0m\u001b[0;34m,\u001b[0m \u001b[0mmaxiter\u001b[0m\u001b[0;34m=\u001b[0m\u001b[0mmaxiter\u001b[0m\u001b[0;34m,\u001b[0m\u001b[0;34m\u001b[0m\u001b[0;34m\u001b[0m\u001b[0m\n\u001b[1;32m    590\u001b[0m                             \u001b[0mfull_output\u001b[0m\u001b[0;34m=\u001b[0m\u001b[0mfull_output\u001b[0m\u001b[0;34m,\u001b[0m\u001b[0;34m\u001b[0m\u001b[0;34m\u001b[0m\u001b[0m\n\u001b[0;32m--> 591\u001b[0;31m                             disp=disp, callback=callback, **kwargs)\n\u001b[0m\u001b[1;32m    592\u001b[0m         \u001b[0;31m# use the proper result class\u001b[0m\u001b[0;34m\u001b[0m\u001b[0;34m\u001b[0m\u001b[0;34m\u001b[0m\u001b[0m\n\u001b[1;32m    593\u001b[0m         \u001b[0mordmlefit\u001b[0m \u001b[0;34m=\u001b[0m \u001b[0mOrderedResults\u001b[0m\u001b[0;34m(\u001b[0m\u001b[0mself\u001b[0m\u001b[0;34m,\u001b[0m \u001b[0mmlefit\u001b[0m\u001b[0;34m)\u001b[0m\u001b[0;34m\u001b[0m\u001b[0;34m\u001b[0m\u001b[0m\n",
      "\u001b[0;32m~/opt/anaconda3/lib/python3.7/site-packages/statsmodels/base/model.py\u001b[0m in \u001b[0;36mfit\u001b[0;34m(self, start_params, method, maxiter, full_output, disp, callback, retall, **kwargs)\u001b[0m\n\u001b[1;32m   1007\u001b[0m                             \u001b[0mmethod\u001b[0m\u001b[0;34m=\u001b[0m\u001b[0mmethod\u001b[0m\u001b[0;34m,\u001b[0m \u001b[0mmaxiter\u001b[0m\u001b[0;34m=\u001b[0m\u001b[0mmaxiter\u001b[0m\u001b[0;34m,\u001b[0m\u001b[0;34m\u001b[0m\u001b[0;34m\u001b[0m\u001b[0m\n\u001b[1;32m   1008\u001b[0m                             \u001b[0mfull_output\u001b[0m\u001b[0;34m=\u001b[0m\u001b[0mfull_output\u001b[0m\u001b[0;34m,\u001b[0m\u001b[0;34m\u001b[0m\u001b[0;34m\u001b[0m\u001b[0m\n\u001b[0;32m-> 1009\u001b[0;31m                             disp=disp, callback=callback, **kwargs)\n\u001b[0m\u001b[1;32m   1010\u001b[0m \u001b[0;34m\u001b[0m\u001b[0m\n\u001b[1;32m   1011\u001b[0m         results_class = getattr(self, 'results_class',\n",
      "\u001b[0;32m~/opt/anaconda3/lib/python3.7/site-packages/statsmodels/base/model.py\u001b[0m in \u001b[0;36mfit\u001b[0;34m(self, start_params, method, maxiter, full_output, disp, fargs, callback, retall, skip_hessian, **kwargs)\u001b[0m\n\u001b[1;32m    569\u001b[0m                                                        \u001b[0mcallback\u001b[0m\u001b[0;34m=\u001b[0m\u001b[0mcallback\u001b[0m\u001b[0;34m,\u001b[0m\u001b[0;34m\u001b[0m\u001b[0;34m\u001b[0m\u001b[0m\n\u001b[1;32m    570\u001b[0m                                                        \u001b[0mretall\u001b[0m\u001b[0;34m=\u001b[0m\u001b[0mretall\u001b[0m\u001b[0;34m,\u001b[0m\u001b[0;34m\u001b[0m\u001b[0;34m\u001b[0m\u001b[0m\n\u001b[0;32m--> 571\u001b[0;31m                                                        full_output=full_output)\n\u001b[0m\u001b[1;32m    572\u001b[0m         \u001b[0;31m# Restore cov_type, cov_kwds and use_t\u001b[0m\u001b[0;34m\u001b[0m\u001b[0;34m\u001b[0m\u001b[0;34m\u001b[0m\u001b[0m\n\u001b[1;32m    573\u001b[0m         \u001b[0moptim_settings\u001b[0m\u001b[0;34m.\u001b[0m\u001b[0mupdate\u001b[0m\u001b[0;34m(\u001b[0m\u001b[0mkwds\u001b[0m\u001b[0;34m)\u001b[0m\u001b[0;34m\u001b[0m\u001b[0;34m\u001b[0m\u001b[0m\n",
      "\u001b[0;32m~/opt/anaconda3/lib/python3.7/site-packages/statsmodels/base/optimizer.py\u001b[0m in \u001b[0;36m_fit\u001b[0;34m(self, objective, gradient, start_params, fargs, kwargs, hessian, method, maxiter, full_output, disp, callback, retall)\u001b[0m\n\u001b[1;32m    242\u001b[0m                              \u001b[0mdisp\u001b[0m\u001b[0;34m=\u001b[0m\u001b[0mdisp\u001b[0m\u001b[0;34m,\u001b[0m \u001b[0mmaxiter\u001b[0m\u001b[0;34m=\u001b[0m\u001b[0mmaxiter\u001b[0m\u001b[0;34m,\u001b[0m \u001b[0mcallback\u001b[0m\u001b[0;34m=\u001b[0m\u001b[0mcallback\u001b[0m\u001b[0;34m,\u001b[0m\u001b[0;34m\u001b[0m\u001b[0;34m\u001b[0m\u001b[0m\n\u001b[1;32m    243\u001b[0m                              \u001b[0mretall\u001b[0m\u001b[0;34m=\u001b[0m\u001b[0mretall\u001b[0m\u001b[0;34m,\u001b[0m \u001b[0mfull_output\u001b[0m\u001b[0;34m=\u001b[0m\u001b[0mfull_output\u001b[0m\u001b[0;34m,\u001b[0m\u001b[0;34m\u001b[0m\u001b[0;34m\u001b[0m\u001b[0m\n\u001b[0;32m--> 244\u001b[0;31m                              hess=hessian)\n\u001b[0m\u001b[1;32m    245\u001b[0m \u001b[0;34m\u001b[0m\u001b[0m\n\u001b[1;32m    246\u001b[0m         optim_settings = {'optimizer': method, 'start_params': start_params,\n",
      "\u001b[0;32m~/opt/anaconda3/lib/python3.7/site-packages/statsmodels/base/optimizer.py\u001b[0m in \u001b[0;36m_fit_bfgs\u001b[0;34m(f, score, start_params, fargs, kwargs, disp, maxiter, callback, retall, full_output, hess)\u001b[0m\n\u001b[1;32m    530\u001b[0m                                  \u001b[0mgtol\u001b[0m\u001b[0;34m=\u001b[0m\u001b[0mgtol\u001b[0m\u001b[0;34m,\u001b[0m \u001b[0mnorm\u001b[0m\u001b[0;34m=\u001b[0m\u001b[0mnorm\u001b[0m\u001b[0;34m,\u001b[0m \u001b[0mepsilon\u001b[0m\u001b[0;34m=\u001b[0m\u001b[0mepsilon\u001b[0m\u001b[0;34m,\u001b[0m\u001b[0;34m\u001b[0m\u001b[0;34m\u001b[0m\u001b[0m\n\u001b[1;32m    531\u001b[0m                                  \u001b[0mmaxiter\u001b[0m\u001b[0;34m=\u001b[0m\u001b[0mmaxiter\u001b[0m\u001b[0;34m,\u001b[0m \u001b[0mfull_output\u001b[0m\u001b[0;34m=\u001b[0m\u001b[0mfull_output\u001b[0m\u001b[0;34m,\u001b[0m\u001b[0;34m\u001b[0m\u001b[0;34m\u001b[0m\u001b[0m\n\u001b[0;32m--> 532\u001b[0;31m                                  disp=disp, retall=retall, callback=callback)\n\u001b[0m\u001b[1;32m    533\u001b[0m     \u001b[0;32mif\u001b[0m \u001b[0mfull_output\u001b[0m\u001b[0;34m:\u001b[0m\u001b[0;34m\u001b[0m\u001b[0;34m\u001b[0m\u001b[0m\n\u001b[1;32m    534\u001b[0m         \u001b[0;32mif\u001b[0m \u001b[0;32mnot\u001b[0m \u001b[0mretall\u001b[0m\u001b[0;34m:\u001b[0m\u001b[0;34m\u001b[0m\u001b[0;34m\u001b[0m\u001b[0m\n",
      "\u001b[0;32m~/opt/anaconda3/lib/python3.7/site-packages/scipy/optimize/optimize.py\u001b[0m in \u001b[0;36mfmin_bfgs\u001b[0;34m(f, x0, fprime, args, gtol, norm, epsilon, maxiter, full_output, disp, retall, callback)\u001b[0m\n\u001b[1;32m    950\u001b[0m             'return_all': retall}\n\u001b[1;32m    951\u001b[0m \u001b[0;34m\u001b[0m\u001b[0m\n\u001b[0;32m--> 952\u001b[0;31m     \u001b[0mres\u001b[0m \u001b[0;34m=\u001b[0m \u001b[0m_minimize_bfgs\u001b[0m\u001b[0;34m(\u001b[0m\u001b[0mf\u001b[0m\u001b[0;34m,\u001b[0m \u001b[0mx0\u001b[0m\u001b[0;34m,\u001b[0m \u001b[0margs\u001b[0m\u001b[0;34m,\u001b[0m \u001b[0mfprime\u001b[0m\u001b[0;34m,\u001b[0m \u001b[0mcallback\u001b[0m\u001b[0;34m=\u001b[0m\u001b[0mcallback\u001b[0m\u001b[0;34m,\u001b[0m \u001b[0;34m**\u001b[0m\u001b[0mopts\u001b[0m\u001b[0;34m)\u001b[0m\u001b[0;34m\u001b[0m\u001b[0;34m\u001b[0m\u001b[0m\n\u001b[0m\u001b[1;32m    953\u001b[0m \u001b[0;34m\u001b[0m\u001b[0m\n\u001b[1;32m    954\u001b[0m     \u001b[0;32mif\u001b[0m \u001b[0mfull_output\u001b[0m\u001b[0;34m:\u001b[0m\u001b[0;34m\u001b[0m\u001b[0;34m\u001b[0m\u001b[0m\n",
      "\u001b[0;32m~/opt/anaconda3/lib/python3.7/site-packages/scipy/optimize/optimize.py\u001b[0m in \u001b[0;36m_minimize_bfgs\u001b[0;34m(fun, x0, args, jac, callback, gtol, norm, eps, maxiter, disp, return_all, **unknown_options)\u001b[0m\n\u001b[1;32m   1001\u001b[0m     \u001b[0mfunc_calls\u001b[0m\u001b[0;34m,\u001b[0m \u001b[0mf\u001b[0m \u001b[0;34m=\u001b[0m \u001b[0mwrap_function\u001b[0m\u001b[0;34m(\u001b[0m\u001b[0mf\u001b[0m\u001b[0;34m,\u001b[0m \u001b[0margs\u001b[0m\u001b[0;34m)\u001b[0m\u001b[0;34m\u001b[0m\u001b[0;34m\u001b[0m\u001b[0m\n\u001b[1;32m   1002\u001b[0m \u001b[0;34m\u001b[0m\u001b[0m\n\u001b[0;32m-> 1003\u001b[0;31m     \u001b[0mold_fval\u001b[0m \u001b[0;34m=\u001b[0m \u001b[0mf\u001b[0m\u001b[0;34m(\u001b[0m\u001b[0mx0\u001b[0m\u001b[0;34m)\u001b[0m\u001b[0;34m\u001b[0m\u001b[0;34m\u001b[0m\u001b[0m\n\u001b[0m\u001b[1;32m   1004\u001b[0m \u001b[0;34m\u001b[0m\u001b[0m\n\u001b[1;32m   1005\u001b[0m     \u001b[0;32mif\u001b[0m \u001b[0mfprime\u001b[0m \u001b[0;32mis\u001b[0m \u001b[0;32mNone\u001b[0m\u001b[0;34m:\u001b[0m\u001b[0;34m\u001b[0m\u001b[0;34m\u001b[0m\u001b[0m\n",
      "\u001b[0;32m~/opt/anaconda3/lib/python3.7/site-packages/scipy/optimize/optimize.py\u001b[0m in \u001b[0;36mfunction_wrapper\u001b[0;34m(*wrapper_args)\u001b[0m\n\u001b[1;32m    325\u001b[0m     \u001b[0;32mdef\u001b[0m \u001b[0mfunction_wrapper\u001b[0m\u001b[0;34m(\u001b[0m\u001b[0;34m*\u001b[0m\u001b[0mwrapper_args\u001b[0m\u001b[0;34m)\u001b[0m\u001b[0;34m:\u001b[0m\u001b[0;34m\u001b[0m\u001b[0;34m\u001b[0m\u001b[0m\n\u001b[1;32m    326\u001b[0m         \u001b[0mncalls\u001b[0m\u001b[0;34m[\u001b[0m\u001b[0;36m0\u001b[0m\u001b[0;34m]\u001b[0m \u001b[0;34m+=\u001b[0m \u001b[0;36m1\u001b[0m\u001b[0;34m\u001b[0m\u001b[0;34m\u001b[0m\u001b[0m\n\u001b[0;32m--> 327\u001b[0;31m         \u001b[0;32mreturn\u001b[0m \u001b[0mfunction\u001b[0m\u001b[0;34m(\u001b[0m\u001b[0;34m*\u001b[0m\u001b[0;34m(\u001b[0m\u001b[0mwrapper_args\u001b[0m \u001b[0;34m+\u001b[0m \u001b[0margs\u001b[0m\u001b[0;34m)\u001b[0m\u001b[0;34m)\u001b[0m\u001b[0;34m\u001b[0m\u001b[0;34m\u001b[0m\u001b[0m\n\u001b[0m\u001b[1;32m    328\u001b[0m \u001b[0;34m\u001b[0m\u001b[0m\n\u001b[1;32m    329\u001b[0m     \u001b[0;32mreturn\u001b[0m \u001b[0mncalls\u001b[0m\u001b[0;34m,\u001b[0m \u001b[0mfunction_wrapper\u001b[0m\u001b[0;34m\u001b[0m\u001b[0;34m\u001b[0m\u001b[0m\n",
      "\u001b[0;32m~/opt/anaconda3/lib/python3.7/site-packages/statsmodels/base/model.py\u001b[0m in \u001b[0;36mf\u001b[0;34m(params, *args)\u001b[0m\n\u001b[1;32m    529\u001b[0m \u001b[0;34m\u001b[0m\u001b[0m\n\u001b[1;32m    530\u001b[0m         \u001b[0;32mdef\u001b[0m \u001b[0mf\u001b[0m\u001b[0;34m(\u001b[0m\u001b[0mparams\u001b[0m\u001b[0;34m,\u001b[0m \u001b[0;34m*\u001b[0m\u001b[0margs\u001b[0m\u001b[0;34m)\u001b[0m\u001b[0;34m:\u001b[0m\u001b[0;34m\u001b[0m\u001b[0;34m\u001b[0m\u001b[0m\n\u001b[0;32m--> 531\u001b[0;31m             \u001b[0;32mreturn\u001b[0m \u001b[0;34m-\u001b[0m\u001b[0mself\u001b[0m\u001b[0;34m.\u001b[0m\u001b[0mloglike\u001b[0m\u001b[0;34m(\u001b[0m\u001b[0mparams\u001b[0m\u001b[0;34m,\u001b[0m \u001b[0;34m*\u001b[0m\u001b[0margs\u001b[0m\u001b[0;34m)\u001b[0m \u001b[0;34m/\u001b[0m \u001b[0mnobs\u001b[0m\u001b[0;34m\u001b[0m\u001b[0;34m\u001b[0m\u001b[0m\n\u001b[0m\u001b[1;32m    532\u001b[0m \u001b[0;34m\u001b[0m\u001b[0m\n\u001b[1;32m    533\u001b[0m         \u001b[0;32mif\u001b[0m \u001b[0mmethod\u001b[0m \u001b[0;34m==\u001b[0m \u001b[0;34m'newton'\u001b[0m\u001b[0;34m:\u001b[0m\u001b[0;34m\u001b[0m\u001b[0;34m\u001b[0m\u001b[0m\n",
      "\u001b[0;32m~/opt/anaconda3/lib/python3.7/site-packages/statsmodels/miscmodels/ordinal_model.py\u001b[0m in \u001b[0;36mloglike\u001b[0;34m(self, params)\u001b[0m\n\u001b[1;32m    513\u001b[0m     \u001b[0;32mdef\u001b[0m \u001b[0mloglike\u001b[0m\u001b[0;34m(\u001b[0m\u001b[0mself\u001b[0m\u001b[0;34m,\u001b[0m \u001b[0mparams\u001b[0m\u001b[0;34m)\u001b[0m\u001b[0;34m:\u001b[0m\u001b[0;34m\u001b[0m\u001b[0;34m\u001b[0m\u001b[0m\n\u001b[1;32m    514\u001b[0m \u001b[0;34m\u001b[0m\u001b[0m\n\u001b[0;32m--> 515\u001b[0;31m         \u001b[0;32mreturn\u001b[0m \u001b[0mself\u001b[0m\u001b[0;34m.\u001b[0m\u001b[0mloglikeobs\u001b[0m\u001b[0;34m(\u001b[0m\u001b[0mparams\u001b[0m\u001b[0;34m)\u001b[0m\u001b[0;34m.\u001b[0m\u001b[0msum\u001b[0m\u001b[0;34m(\u001b[0m\u001b[0;34m)\u001b[0m\u001b[0;34m\u001b[0m\u001b[0;34m\u001b[0m\u001b[0m\n\u001b[0m\u001b[1;32m    516\u001b[0m \u001b[0;34m\u001b[0m\u001b[0m\n\u001b[1;32m    517\u001b[0m     \u001b[0;32mdef\u001b[0m \u001b[0mloglikeobs\u001b[0m\u001b[0;34m(\u001b[0m\u001b[0mself\u001b[0m\u001b[0;34m,\u001b[0m \u001b[0mparams\u001b[0m\u001b[0;34m)\u001b[0m\u001b[0;34m:\u001b[0m\u001b[0;34m\u001b[0m\u001b[0;34m\u001b[0m\u001b[0m\n",
      "\u001b[0;32m~/opt/anaconda3/lib/python3.7/site-packages/statsmodels/miscmodels/ordinal_model.py\u001b[0m in \u001b[0;36mloglikeobs\u001b[0;34m(self, params)\u001b[0m\n\u001b[1;32m    530\u001b[0m             \u001b[0mat\u001b[0m\u001b[0;31m \u001b[0m\u001b[0;31m`\u001b[0m\u001b[0;31m`\u001b[0m\u001b[0mparams\u001b[0m\u001b[0;31m`\u001b[0m\u001b[0;31m`\u001b[0m\u001b[0;34m.\u001b[0m\u001b[0;34m\u001b[0m\u001b[0;34m\u001b[0m\u001b[0m\n\u001b[1;32m    531\u001b[0m         \"\"\"\n\u001b[0;32m--> 532\u001b[0;31m         \u001b[0mlow\u001b[0m\u001b[0;34m,\u001b[0m \u001b[0mupp\u001b[0m \u001b[0;34m=\u001b[0m \u001b[0mself\u001b[0m\u001b[0;34m.\u001b[0m\u001b[0m_bounds\u001b[0m\u001b[0;34m(\u001b[0m\u001b[0mparams\u001b[0m\u001b[0;34m)\u001b[0m\u001b[0;34m\u001b[0m\u001b[0;34m\u001b[0m\u001b[0m\n\u001b[0m\u001b[1;32m    533\u001b[0m         \u001b[0mprob\u001b[0m \u001b[0;34m=\u001b[0m \u001b[0mself\u001b[0m\u001b[0;34m.\u001b[0m\u001b[0mprob\u001b[0m\u001b[0;34m(\u001b[0m\u001b[0mlow\u001b[0m\u001b[0;34m,\u001b[0m \u001b[0mupp\u001b[0m\u001b[0;34m)\u001b[0m\u001b[0;34m\u001b[0m\u001b[0;34m\u001b[0m\u001b[0m\n\u001b[1;32m    534\u001b[0m         \u001b[0;32mreturn\u001b[0m \u001b[0mnp\u001b[0m\u001b[0;34m.\u001b[0m\u001b[0mlog\u001b[0m\u001b[0;34m(\u001b[0m\u001b[0mprob\u001b[0m \u001b[0;34m+\u001b[0m \u001b[0;36m1e-20\u001b[0m\u001b[0;34m)\u001b[0m\u001b[0;34m\u001b[0m\u001b[0;34m\u001b[0m\u001b[0m\n",
      "\u001b[0;32m~/opt/anaconda3/lib/python3.7/site-packages/statsmodels/miscmodels/ordinal_model.py\u001b[0m in \u001b[0;36m_bounds\u001b[0;34m(self, params)\u001b[0m\n\u001b[1;32m    505\u001b[0m         \u001b[0mthresh_i_low\u001b[0m \u001b[0;34m=\u001b[0m \u001b[0mthresh\u001b[0m\u001b[0;34m[\u001b[0m\u001b[0mself\u001b[0m\u001b[0;34m.\u001b[0m\u001b[0mendog\u001b[0m\u001b[0;34m]\u001b[0m\u001b[0;34m\u001b[0m\u001b[0;34m\u001b[0m\u001b[0m\n\u001b[1;32m    506\u001b[0m         \u001b[0mthresh_i_upp\u001b[0m \u001b[0;34m=\u001b[0m \u001b[0mthresh\u001b[0m\u001b[0;34m[\u001b[0m\u001b[0mself\u001b[0m\u001b[0;34m.\u001b[0m\u001b[0mendog\u001b[0m \u001b[0;34m+\u001b[0m \u001b[0;36m1\u001b[0m\u001b[0;34m]\u001b[0m\u001b[0;34m\u001b[0m\u001b[0;34m\u001b[0m\u001b[0m\n\u001b[0;32m--> 507\u001b[0;31m         \u001b[0mxb\u001b[0m \u001b[0;34m=\u001b[0m \u001b[0mself\u001b[0m\u001b[0;34m.\u001b[0m\u001b[0m_linpred\u001b[0m\u001b[0;34m(\u001b[0m\u001b[0mparams\u001b[0m\u001b[0;34m)\u001b[0m\u001b[0;34m\u001b[0m\u001b[0;34m\u001b[0m\u001b[0m\n\u001b[0m\u001b[1;32m    508\u001b[0m         \u001b[0mlow\u001b[0m \u001b[0;34m=\u001b[0m \u001b[0mthresh_i_low\u001b[0m \u001b[0;34m-\u001b[0m \u001b[0mxb\u001b[0m\u001b[0;34m\u001b[0m\u001b[0;34m\u001b[0m\u001b[0m\n\u001b[1;32m    509\u001b[0m         \u001b[0mupp\u001b[0m \u001b[0;34m=\u001b[0m \u001b[0mthresh_i_upp\u001b[0m \u001b[0;34m-\u001b[0m \u001b[0mxb\u001b[0m\u001b[0;34m\u001b[0m\u001b[0;34m\u001b[0m\u001b[0m\n",
      "\u001b[0;32m~/opt/anaconda3/lib/python3.7/site-packages/statsmodels/miscmodels/ordinal_model.py\u001b[0m in \u001b[0;36m_linpred\u001b[0;34m(self, params, exog, offset)\u001b[0m\n\u001b[1;32m    464\u001b[0m \u001b[0;34m\u001b[0m\u001b[0m\n\u001b[1;32m    465\u001b[0m         \u001b[0;32mif\u001b[0m \u001b[0mexog\u001b[0m \u001b[0;32mis\u001b[0m \u001b[0;32mnot\u001b[0m \u001b[0;32mNone\u001b[0m\u001b[0;34m:\u001b[0m\u001b[0;34m\u001b[0m\u001b[0;34m\u001b[0m\u001b[0m\n\u001b[0;32m--> 466\u001b[0;31m             \u001b[0mlinpred\u001b[0m \u001b[0;34m=\u001b[0m \u001b[0mexog\u001b[0m\u001b[0;34m.\u001b[0m\u001b[0mdot\u001b[0m\u001b[0;34m(\u001b[0m\u001b[0mparams\u001b[0m\u001b[0;34m[\u001b[0m\u001b[0;34m:\u001b[0m\u001b[0;34m-\u001b[0m\u001b[0;34m(\u001b[0m\u001b[0mself\u001b[0m\u001b[0;34m.\u001b[0m\u001b[0mk_levels\u001b[0m \u001b[0;34m-\u001b[0m \u001b[0;36m1\u001b[0m\u001b[0;34m)\u001b[0m\u001b[0;34m]\u001b[0m\u001b[0;34m)\u001b[0m\u001b[0;34m\u001b[0m\u001b[0;34m\u001b[0m\u001b[0m\n\u001b[0m\u001b[1;32m    467\u001b[0m         \u001b[0;32melse\u001b[0m\u001b[0;34m:\u001b[0m  \u001b[0;31m# means self.exog is also None\u001b[0m\u001b[0;34m\u001b[0m\u001b[0;34m\u001b[0m\u001b[0m\n\u001b[1;32m    468\u001b[0m             \u001b[0mlinpred\u001b[0m \u001b[0;34m=\u001b[0m \u001b[0mnp\u001b[0m\u001b[0;34m.\u001b[0m\u001b[0mzeros\u001b[0m\u001b[0;34m(\u001b[0m\u001b[0mself\u001b[0m\u001b[0;34m.\u001b[0m\u001b[0mnobs\u001b[0m\u001b[0;34m)\u001b[0m\u001b[0;34m\u001b[0m\u001b[0;34m\u001b[0m\u001b[0m\n",
      "\u001b[0;31mValueError\u001b[0m: shapes (3,1) and (0,) not aligned: 1 (dim 1) != 0 (dim 0)"
     ]
    }
   ],
   "source": [
    "ordinalReg(df_usTech_survey_gcm, ['degree'], 3)"
   ]
  },
  {
   "cell_type": "code",
   "execution_count": null,
   "metadata": {},
   "outputs": [],
   "source": [
    "ordinalReg(df_usTech_survey_gcm, ['eigenvector'], 3)"
   ]
  },
  {
   "cell_type": "code",
   "execution_count": null,
   "metadata": {},
   "outputs": [],
   "source": [
    "ordinalReg(df_usTech_survey_gcm, ['pagerank'], 3)"
   ]
  }
 ],
 "metadata": {
  "kernelspec": {
   "display_name": "Python 3",
   "language": "python",
   "name": "python3"
  },
  "language_info": {
   "codemirror_mode": {
    "name": "ipython",
    "version": 3
   },
   "file_extension": ".py",
   "mimetype": "text/x-python",
   "name": "python",
   "nbconvert_exporter": "python",
   "pygments_lexer": "ipython3",
   "version": "3.7.6"
  }
 },
 "nbformat": 4,
 "nbformat_minor": 4
}
