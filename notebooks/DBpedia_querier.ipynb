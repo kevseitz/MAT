{
 "cells": [
  {
   "cell_type": "code",
   "execution_count": 1,
   "metadata": {
    "scrolled": false
   },
   "outputs": [
    {
     "name": "stdout",
     "output_type": "stream",
     "text": [
      "Python 3.7.6\n",
      "Pandas 1.3.4\n"
     ]
    }
   ],
   "source": [
    "# Querying DBpedia for the SPARQL queries\n",
    "# DBpedia endpoint http://dbpedia.org/sparql / # https://dbpedia.org/snorql/\n",
    "\n",
    "\n",
    "# importing packages\n",
    "import pandas as pd\n",
    "from SPARQLWrapper import SPARQLWrapper, JSON\n",
    "#import lxml\n",
    "\n",
    "!python --version\n",
    "print(\"Pandas \" + pd.__version__)"
   ]
  },
  {
   "cell_type": "code",
   "execution_count": 3,
   "metadata": {},
   "outputs": [],
   "source": [
    "def get_music_genre():\n",
    "    sparql = SPARQLWrapper(\"http://dbpedia.org/sparql\") # SPARQL endpoint\n",
    "    sparql.setReturnFormat(JSON)\n",
    "    sparql.setQuery('''\n",
    "        SELECT ?mGenre \n",
    "        WHERE {\n",
    "                ?mGenre a dbo:MusicGenre .\n",
    "        }\n",
    "    ''')  # insert query as a literal string\n",
    "    \n",
    "    return sparql.query().convert()"
   ]
  },
  {
   "cell_type": "code",
   "execution_count": 4,
   "metadata": {},
   "outputs": [
    {
     "ename": "AttributeError",
     "evalue": "'dict' object has no attribute 'to_csv'",
     "output_type": "error",
     "traceback": [
      "\u001b[0;31m---------------------------------------------------------------------------\u001b[0m",
      "\u001b[0;31mAttributeError\u001b[0m                            Traceback (most recent call last)",
      "\u001b[0;32m<ipython-input-4-814d9bdbfada>\u001b[0m in \u001b[0;36m<module>\u001b[0;34m\u001b[0m\n\u001b[0;32m----> 1\u001b[0;31m \u001b[0mget_music_genre\u001b[0m\u001b[0;34m(\u001b[0m\u001b[0;34m)\u001b[0m\u001b[0;34m.\u001b[0m\u001b[0mto_csv\u001b[0m\u001b[0;34m(\u001b[0m\u001b[0;34m)\u001b[0m\u001b[0;34m\u001b[0m\u001b[0;34m\u001b[0m\u001b[0m\n\u001b[0m",
      "\u001b[0;31mAttributeError\u001b[0m: 'dict' object has no attribute 'to_csv'"
     ]
    }
   ],
   "source": [
    "get_music_genre().to_csv()"
   ]
  },
  {
   "cell_type": "code",
   "execution_count": 37,
   "metadata": {},
   "outputs": [
    {
     "name": "stdout",
     "output_type": "stream",
     "text": [
      "{'head': {'link': [], 'vars': ['obj']}, 'results': {'distinct': False, 'ordered': True, 'bindings': [{'obj': {'type': 'literal', 'xml:lang': 'en', 'value': 'Barack Obama'}}, {'obj': {'type': 'literal', 'xml:lang': 'ar', 'value': 'باراك أوباما'}}, {'obj': {'type': 'literal', 'xml:lang': 'ca', 'value': 'Barack Obama'}}, {'obj': {'type': 'literal', 'xml:lang': 'cs', 'value': 'Barack Obama'}}, {'obj': {'type': 'literal', 'xml:lang': 'de', 'value': 'Barack Obama'}}, {'obj': {'type': 'literal', 'xml:lang': 'el', 'value': 'Μπαράκ Ομπάμα'}}, {'obj': {'type': 'literal', 'xml:lang': 'eo', 'value': 'Barack Obama'}}, {'obj': {'type': 'literal', 'xml:lang': 'es', 'value': 'Barack Obama'}}, {'obj': {'type': 'literal', 'xml:lang': 'eu', 'value': 'Barack Obama'}}, {'obj': {'type': 'literal', 'xml:lang': 'ga', 'value': 'Barack Obama'}}, {'obj': {'type': 'literal', 'xml:lang': 'in', 'value': 'Barack Obama'}}, {'obj': {'type': 'literal', 'xml:lang': 'fr', 'value': 'Barack Obama'}}, {'obj': {'type': 'literal', 'xml:lang': 'it', 'value': 'Barack Obama'}}, {'obj': {'type': 'literal', 'xml:lang': 'ja', 'value': 'バラク・オバマ'}}, {'obj': {'type': 'literal', 'xml:lang': 'ko', 'value': '버락 오바마'}}, {'obj': {'type': 'literal', 'xml:lang': 'nl', 'value': 'Barack Obama'}}, {'obj': {'type': 'literal', 'xml:lang': 'pl', 'value': 'Barack Obama'}}, {'obj': {'type': 'literal', 'xml:lang': 'ru', 'value': 'Обама, Барак'}}, {'obj': {'type': 'literal', 'xml:lang': 'pt', 'value': 'Barack Obama'}}, {'obj': {'type': 'literal', 'xml:lang': 'sv', 'value': 'Barack Obama'}}, {'obj': {'type': 'literal', 'xml:lang': 'uk', 'value': 'Барак Обама'}}, {'obj': {'type': 'literal', 'xml:lang': 'zh', 'value': '贝拉克·奥巴马'}}]}}\n"
     ]
    }
   ],
   "source": [
    " \n",
    "sparql = SPARQLWrapper(\"http://dbpedia.org/sparql\") # SPARQL endpoint\n",
    "sparql.setReturnFormat(JSON)\n",
    "sparql.setQuery('''\n",
    "    SELECT ?obj WHERE {\n",
    "        dbr:Barack_Obama rdfs:label ?obj .\n",
    "    }\n",
    "    ''')  # insert query as a literal string\n",
    "    \n",
    "qres = sparql.query().convert()\n",
    "print (qres)"
   ]
  },
  {
   "cell_type": "code",
   "execution_count": 38,
   "metadata": {},
   "outputs": [
    {
     "name": "stdout",
     "output_type": "stream",
     "text": [
      "Lang en\tValue: Barack Obama\n",
      "Lang ar\tValue: باراك أوباما\n",
      "Lang ca\tValue: Barack Obama\n",
      "Lang cs\tValue: Barack Obama\n",
      "Lang de\tValue: Barack Obama\n",
      "Lang el\tValue: Μπαράκ Ομπάμα\n",
      "Lang eo\tValue: Barack Obama\n",
      "Lang es\tValue: Barack Obama\n",
      "Lang eu\tValue: Barack Obama\n",
      "Lang ga\tValue: Barack Obama\n",
      "Lang in\tValue: Barack Obama\n",
      "Lang fr\tValue: Barack Obama\n",
      "Lang it\tValue: Barack Obama\n",
      "Lang ja\tValue: バラク・オバマ\n",
      "Lang ko\tValue: 버락 오바마\n",
      "Lang nl\tValue: Barack Obama\n",
      "Lang pl\tValue: Barack Obama\n",
      "Lang ru\tValue: Обама, Барак\n",
      "Lang pt\tValue: Barack Obama\n",
      "Lang sv\tValue: Barack Obama\n",
      "Lang uk\tValue: Барак Обама\n",
      "Lang zh\tValue: 贝拉克·奥巴马\n"
     ]
    }
   ],
   "source": [
    "for result in qres['results']['bindings']:\n",
    "    lang, value = result['obj']['xml:lang'], result['obj']['value']\n",
    "    print(f'Lang {lang}\\tValue: {value}')\n",
    "#    if lang == 'en':\n",
    "#        print(value)"
   ]
  },
  {
   "cell_type": "code",
   "execution_count": null,
   "metadata": {},
   "outputs": [],
   "source": []
  }
 ],
 "metadata": {
  "kernelspec": {
   "display_name": "Python 3",
   "language": "python",
   "name": "python3"
  },
  "language_info": {
   "codemirror_mode": {
    "name": "ipython",
    "version": 3
   },
   "file_extension": ".py",
   "mimetype": "text/x-python",
   "name": "python",
   "nbconvert_exporter": "python",
   "pygments_lexer": "ipython3",
   "version": "3.7.6"
  }
 },
 "nbformat": 4,
 "nbformat_minor": 4
}
