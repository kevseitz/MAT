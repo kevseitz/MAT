{
 "cells": [
  {
   "cell_type": "markdown",
   "metadata": {},
   "source": [
    "# Linear regression"
   ]
  },
  {
   "cell_type": "code",
   "execution_count": 1,
   "metadata": {},
   "outputs": [
    {
     "name": "stdout",
     "output_type": "stream",
     "text": [
      "------------\n",
      "Python 3.7.6\n",
      "Pandas 1.3.4\n",
      "Numpy 1.18.1\n",
      "------------\n",
      "All packages loaded and ready to roll :-)\n"
     ]
    }
   ],
   "source": [
    "# Importing packages\n",
    "import pandas as pd\n",
    "#from SPARQLWrapper import SPARQLWrapper, JSON, N3\n",
    "#import lxml\n",
    "import numpy as np\n",
    "import matplotlib.pyplot as plt\n",
    "import seaborn as sns\n",
    "#import networkx as nx\n",
    "#from networkx import Graph as NXGraph\n",
    "#from rdflib import Graph as RDFGraph\n",
    "#from rdflib.extras.external_graph_libs import rdflib_to_networkx_graph\n",
    "#import statistics\n",
    "#import collections\n",
    "from scipy import stats\n",
    "from scipy.stats import kstest\n",
    "# https://www.statology.org/normality-test-python/\n",
    "\n",
    "#from urllib import parse\n",
    "from sklearn import linear_model\n",
    "#from sklearn.preprocessing import StandardScaler\n",
    "from sklearn import preprocessing\n",
    "import statsmodels.api as sm\n",
    "from statsmodels.miscmodels.ordinal_model import OrderedModel\n",
    "\n",
    "import mlnotify \n",
    "# https://github.com/aporia-ai/mlnotify\n",
    "# Use %%notify at beginning of cell\n",
    "\n",
    "import os.path, time\n",
    "# Use %%time at beginning of cell\n",
    "\n",
    "print('------------')\n",
    "!python --version\n",
    "print(\"Pandas \" + pd.__version__)\n",
    "print(\"Numpy \" + np.__version__)\n",
    "#print(\"Seaborn \" + sns.__version__)\n",
    "#print(\"Networkx \" + nx.__version__)\n",
    "print('------------')\n",
    "print(\"All packages loaded and ready to roll :-)\")"
   ]
  },
  {
   "cell_type": "code",
   "execution_count": 2,
   "metadata": {},
   "outputs": [
    {
     "data": {
      "text/html": [
       "<div>\n",
       "<style scoped>\n",
       "    .dataframe tbody tr th:only-of-type {\n",
       "        vertical-align: middle;\n",
       "    }\n",
       "\n",
       "    .dataframe tbody tr th {\n",
       "        vertical-align: top;\n",
       "    }\n",
       "\n",
       "    .dataframe thead th {\n",
       "        text-align: right;\n",
       "    }\n",
       "</style>\n",
       "<table border=\"1\" class=\"dataframe\">\n",
       "  <thead>\n",
       "    <tr style=\"text-align: right;\">\n",
       "      <th></th>\n",
       "      <th>resource</th>\n",
       "      <th>degree</th>\n",
       "      <th>eigenvector</th>\n",
       "      <th>pagerank</th>\n",
       "    </tr>\n",
       "  </thead>\n",
       "  <tbody>\n",
       "    <tr>\n",
       "      <th>0</th>\n",
       "      <td>http://dbpedia.org/resource/Billy_Coggins__Car...</td>\n",
       "      <td>3</td>\n",
       "      <td>7.845722e-04</td>\n",
       "      <td>5.936257e-08</td>\n",
       "    </tr>\n",
       "    <tr>\n",
       "      <th>1</th>\n",
       "      <td>http://dbpedia.org/ontology/CareerStation</td>\n",
       "      <td>1624880</td>\n",
       "      <td>1.000000e+00</td>\n",
       "      <td>2.791082e-02</td>\n",
       "    </tr>\n",
       "    <tr>\n",
       "      <th>2</th>\n",
       "      <td>http://dbpedia.org/resource/News_Patrol__A2Z_N...</td>\n",
       "      <td>9</td>\n",
       "      <td>7.198654e-11</td>\n",
       "      <td>1.150764e-07</td>\n",
       "    </tr>\n",
       "    <tr>\n",
       "      <th>3</th>\n",
       "      <td>http://dbpedia.org/resource/ZOE_Broadcasting_N...</td>\n",
       "      <td>20</td>\n",
       "      <td>9.183437e-10</td>\n",
       "      <td>2.792414e-07</td>\n",
       "    </tr>\n",
       "    <tr>\n",
       "      <th>4</th>\n",
       "      <td>http://dbpedia.org/resource/Yu_Yongfu</td>\n",
       "      <td>6</td>\n",
       "      <td>2.790954e-09</td>\n",
       "      <td>1.047756e-07</td>\n",
       "    </tr>\n",
       "  </tbody>\n",
       "</table>\n",
       "</div>"
      ],
      "text/plain": [
       "                                            resource   degree   eigenvector  \\\n",
       "0  http://dbpedia.org/resource/Billy_Coggins__Car...        3  7.845722e-04   \n",
       "1          http://dbpedia.org/ontology/CareerStation  1624880  1.000000e+00   \n",
       "2  http://dbpedia.org/resource/News_Patrol__A2Z_N...        9  7.198654e-11   \n",
       "3  http://dbpedia.org/resource/ZOE_Broadcasting_N...       20  9.183437e-10   \n",
       "4              http://dbpedia.org/resource/Yu_Yongfu        6  2.790954e-09   \n",
       "\n",
       "       pagerank  \n",
       "0  5.936257e-08  \n",
       "1  2.791082e-02  \n",
       "2  1.150764e-07  \n",
       "3  2.792414e-07  \n",
       "4  1.047756e-07  "
      ]
     },
     "execution_count": 2,
     "metadata": {},
     "output_type": "execute_result"
    }
   ],
   "source": [
    "# Load GCM data\n",
    "\n",
    "# NetworkX\n",
    "#df_gcm = pd.read_csv('../data/gcm_computed.nosync/nx-gcm.csv')\n",
    "\n",
    "# iGraph\n",
    "df_ig_gcm = pd.read_csv('../data/gcm_computed.nosync/ig-gcm.csv')\n",
    "\n",
    "df_ig_gcm.head()"
   ]
  },
  {
   "cell_type": "code",
   "execution_count": 3,
   "metadata": {},
   "outputs": [
    {
     "name": "stdout",
     "output_type": "stream",
     "text": [
      "Data types:\n",
      "resource        object\n",
      "degree           int64\n",
      "eigenvector    float64\n",
      "pagerank       float64\n",
      "dtype: object\n",
      "----------------------\n",
      "Memory usage:\n",
      "Index                128\n",
      "resource       964958363\n",
      "degree          65946664\n",
      "eigenvector     65946664\n",
      "pagerank        65946664\n",
      "dtype: int64\n",
      "------------------------\n",
      "Dataframe shape is (8243333, 4)\n"
     ]
    }
   ],
   "source": [
    "print(\"Data types:\")\n",
    "print(df_ig_gcm.dtypes)\n",
    "print('----------------------')\n",
    "print(\"Memory usage:\")\n",
    "print(df_ig_gcm.memory_usage(deep=True))\n",
    "print('------------------------')\n",
    "print(\"Dataframe shape is {}\".format(df_ig_gcm.shape))"
   ]
  },
  {
   "cell_type": "code",
   "execution_count": 4,
   "metadata": {},
   "outputs": [
    {
     "name": "stdout",
     "output_type": "stream",
     "text": [
      "Correlation coefficient for ev-dg:  [[1.         0.60861409]\n",
      " [0.60861409 1.        ]]\n",
      "Correlation coefficient for pr-dg:  [[1.         0.95806588]\n",
      " [0.95806588 1.        ]]\n",
      "Correlation coefficient for pr-ev:  [[1.         0.52535622]\n",
      " [0.52535622 1.        ]]\n"
     ]
    }
   ],
   "source": [
    "# Compute the Correlation coefficient between the GCMs:\n",
    "\n",
    "print(\"Correlation coefficient for ev-dg: \", np.corrcoef(df_ig_gcm.eigenvector, df_ig_gcm.degree))\n",
    "print(\"Correlation coefficient for pr-dg: \", np.corrcoef(df_ig_gcm.pagerank, df_ig_gcm.degree))\n",
    "print(\"Correlation coefficient for pr-ev: \", np.corrcoef(df_ig_gcm.pagerank, df_ig_gcm.eigenvector))"
   ]
  },
  {
   "cell_type": "code",
   "execution_count": 27,
   "metadata": {},
   "outputs": [],
   "source": [
    "df_ig_gcm_scal = scaler(df_ig_gcm)"
   ]
  },
  {
   "cell_type": "code",
   "execution_count": 5,
   "metadata": {},
   "outputs": [
    {
     "data": {
      "text/plain": [
       "<AxesSubplot:xlabel='degree', ylabel='Density'>"
      ]
     },
     "execution_count": 5,
     "metadata": {},
     "output_type": "execute_result"
    },
    {
     "data": {
      "image/png": "[encoded data removed]",
      "text/plain": [
       "<Figure size 432x288 with 1 Axes>"
      ]
     },
     "metadata": {
      "needs_background": "light"
     },
     "output_type": "display_data"
    }
   ],
   "source": [
    "sns.kdeplot(df_ig_gcm.degree)"
   ]
  },
  {
   "cell_type": "code",
   "execution_count": 4,
   "metadata": {},
   "outputs": [
    {
     "data": {
      "text/plain": [
       "<AxesSubplot:xlabel='eigenvector', ylabel='Density'>"
      ]
     },
     "execution_count": 4,
     "metadata": {},
     "output_type": "execute_result"
    },
    {
     "data": {
      "image/png": "[encoded data removed]",
      "text/plain": [
       "<Figure size 432x288 with 1 Axes>"
      ]
     },
     "metadata": {
      "needs_background": "light"
     },
     "output_type": "display_data"
    }
   ],
   "source": [
    "sns.kdeplot(df_ig_gcm.eigenvector)"
   ]
  },
  {
   "cell_type": "code",
   "execution_count": 6,
   "metadata": {},
   "outputs": [
    {
     "data": {
      "text/plain": [
       "<AxesSubplot:xlabel='pagerank', ylabel='Density'>"
      ]
     },
     "execution_count": 6,
     "metadata": {},
     "output_type": "execute_result"
    },
    {
     "data": {
      "image/png": "[encoded data removed]",
      "text/plain": [
       "<Figure size 432x288 with 1 Axes>"
      ]
     },
     "metadata": {
      "needs_background": "light"
     },
     "output_type": "display_data"
    }
   ],
   "source": [
    "sns.kdeplot(df_ig_gcm.pagerank)"
   ]
  },
  {
   "cell_type": "code",
   "execution_count": 28,
   "metadata": {},
   "outputs": [
    {
     "data": {
      "text/plain": [
       "<AxesSubplot:xlabel='degree', ylabel='Density'>"
      ]
     },
     "execution_count": 28,
     "metadata": {},
     "output_type": "execute_result"
    },
    {
     "data": {
      "image/png": "[encoded data removed]",
      "text/plain": [
       "<Figure size 432x288 with 1 Axes>"
      ]
     },
     "metadata": {
      "needs_background": "light"
     },
     "output_type": "display_data"
    }
   ],
   "source": [
    "sns.kdeplot(df_ig_gcm_scal.degree)"
   ]
  },
  {
   "cell_type": "code",
   "execution_count": 29,
   "metadata": {},
   "outputs": [
    {
     "data": {
      "text/plain": [
       "<AxesSubplot:xlabel='eigenvector', ylabel='Density'>"
      ]
     },
     "execution_count": 29,
     "metadata": {},
     "output_type": "execute_result"
    },
    {
     "data": {
      "image/png": "[encoded data removed]",
      "text/plain": [
       "<Figure size 432x288 with 1 Axes>"
      ]
     },
     "metadata": {
      "needs_background": "light"
     },
     "output_type": "display_data"
    }
   ],
   "source": [
    "sns.kdeplot(df_ig_gcm_scal.eigenvector)\n",
    "sns.kdeplot(df_ig_gcm_scal.pagerank)"
   ]
  },
  {
   "cell_type": "code",
   "execution_count": 5,
   "metadata": {},
   "outputs": [],
   "source": [
    "# Load pre-queried (via queried web-interface) DBpedia categories\n",
    "# https://dbpedia.org/sparql/\n",
    "\n",
    "# 90s films from the aggregated Categories: 1990_films, 1991_films, 1992_films, ...\n",
    "df_film90 = pd.read_csv(\"../data/sparql_cat_queries/sparql_90film.csv\")\n",
    "df_film90.rename(columns={\"film90\": \"resource\"}, inplace=True) #rename column to match PageRank dataframe\n",
    "\n",
    "# actors from the \"Occupation\": \"Actor\"@en\n",
    "df_actor = pd.read_csv(\"../data/sparql_cat_queries/sparql_actor.csv\")\n",
    "df_actor.rename(columns={\"actor\": \"resource\"}, inplace=True)\n",
    "\n",
    "# Music Genre from the \"Type\": \"dbo:MusicGenre\"\n",
    "df_musicGenre = pd.read_csv(\"../data/sparql_cat_queries/sparql_musicGenre.csv\")\n",
    "df_musicGenre.rename(columns={\"mGenre\": \"resource\"}, inplace=True)\n",
    "\n",
    "# Books from the \"Type\":\"dbo:book\"\n",
    "df_book = pd.read_csv(\"../data/sparql_cat_queries/sparql_book.csv\")\n",
    "df_book.rename(columns={\"book\": \"resource\"}, inplace=True)\n",
    "\n",
    "# Book authors from the \"Type\": author UNION book dbo:author\n",
    "df_bookAut = pd.read_csv(\"../data/sparql_cat_queries/sparql_bookAuthor.csv\")\n",
    "df_bookAut.rename(columns={\"author\": \"resource\"}, inplace=True)\n",
    "\n",
    "# Politicians from the \"Type\": Person/Politician\n",
    "df_pol = pd.read_csv(\"../data/sparql_cat_queries/sparql_politician.csv\")\n",
    "df_pol.rename(columns={\"pol\": \"resource\"}, inplace=True)\n",
    "\n",
    "# POTUS from the \"Category\": Presidents_of_the_United_States\n",
    "df_potus = pd.read_csv(\"../data/sparql_cat_queries/sparql_potus.csv\")\n",
    "df_potus.rename(columns={\"potus\": \"resource\"}, inplace=True)\n",
    "\n",
    "# Cities from the \"Category\": \"dbo:City\"\n",
    "df_city = pd.read_csv(\"../data/sparql_cat_queries/sparql_city.csv\")\n",
    "df_city.rename(columns={\"city\": \"resource\"}, inplace=True)\n",
    "\n",
    "# Lakes from the \"Category\": \"dbo:Lake\"\n",
    "df_lake = pd.read_csv(\"../data/sparql_cat_queries/sparql_lake.csv\")\n",
    "df_lake.rename(columns={\"lake\": \"resource\"}, inplace=True)\n",
    "\n",
    "# Mountains from the \"Category\": \"dbo:Mountain\"\n",
    "df_mountain = pd.read_csv(\"../data/sparql_cat_queries/sparql_mountain.csv\")\n",
    "df_mountain.rename(columns={\"mount\": \"resource\"}, inplace=True)\n",
    "\n",
    "# EU capitals from the \"Category\": Capitals_in_Europe\n",
    "df_euCap = pd.read_csv(\"../data/sparql_cat_queries/sparql_euCap.csv\")\n",
    "df_euCap.rename(columns={\"euCap\": \"resource\"}, inplace=True)\n",
    "\n",
    "# EU countries from the \"Category\": Countries_in_Europe\n",
    "df_euCou = pd.read_csv(\"../data/sparql_cat_queries/sparql_euCountry.csv\")\n",
    "df_euCou.rename(columns={\"euCountry\": \"resource\"}, inplace=True)\n",
    "\n",
    "# Asian countries from the \"Category\": \"dbc:Countries_in_Asia\", \"dbc:East_Asian_countries\" and \"dbc:Central_Asian_countries\"\n",
    "df_asCou = pd.read_csv(\"../data/sparql_cat_queries/sparql_asCountry.csv\")\n",
    "df_asCou.rename(columns={\"asCountry\": \"resource\"}, inplace=True)\n",
    "\n",
    "# Continents from the \"Category\": \"dbo:Continents\"\n",
    "df_continent = pd.read_csv(\"../data/sparql_cat_queries/sparql_continent.csv\")\n",
    "df_continent.rename(columns={\"conti\": \"resource\"}, inplace=True)\n",
    "\n",
    "# Birds from the \"Class\": \"dbr:Bird\"\n",
    "df_bird = pd.read_csv(\"../data/sparql_cat_queries/sparql_bird.csv\")\n",
    "df_bird.rename(columns={\"bird\": \"resource\"}, inplace=True)\n",
    "\n",
    "# African animals from the \"Category\": \"dbc:Vertebrates_of_Africa\"\n",
    "df_africanAnimal = pd.read_csv(\"../data/sparql_cat_queries/sparql_africanAnimal.csv\")\n",
    "df_africanAnimal.rename(columns={\"afrAnimal\": \"resource\"}, inplace=True)\n",
    "\n",
    "# Furniture from the \"Category\": \"dbc:Furniture\"\n",
    "df_furniture = pd.read_csv(\"../data/sparql_cat_queries/sparql_furniture.csv\")\n",
    "df_furniture.rename(columns={\"fur\": \"resource\"}, inplace=True)\n",
    "\n",
    "# Furniture from the \"Category\": \"dbc:Vegetables\"\n",
    "df_vegetable = pd.read_csv(\"../data/sparql_cat_queries/sparql_vegetable.csv\")\n",
    "df_vegetable.rename(columns={\"veg\": \"resource\"}, inplace=True)\n",
    "\n",
    "# Types of fast food from the \"Category\": \"dbc:Fast_food\"\n",
    "df_fastFood = pd.read_csv(\"../data/sparql_cat_queries/sparql_fastfood.csv\")\n",
    "df_fastFood.rename(columns={\"fastFood\": \"resource\"}, inplace=True)\n",
    "\n",
    "# European Landmark/Sight from multiple \"Category\": \"dbc:Landmarks_in_x\" with x being a country from europe\n",
    "df_euSight = pd.read_csv(\"../data/sparql_cat_queries/sparql_euLandmark.csv\")\n",
    "df_euSight.rename(columns={\"euroSight\": \"resource\"}, inplace=True)\n",
    "\n",
    "# DAX company from the \"Type\": \"dbo:Company\" and \"dbp:tradedAs\" -> \"dbr:DAX\"\n",
    "df_daxCo = pd.read_csv(\"../data/sparql_cat_queries/sparql_daxCompany.csv\")\n",
    "df_daxCo.rename(columns={\"DAXco\": \"resource\"}, inplace=True)\n",
    "\n",
    "# US company from ?\n",
    "df_usCo = pd.read_csv(\"../data/sparql_cat_queries/sparql_usCompany.csv\")\n",
    "df_usCo.rename(columns={\"usCo\": \"resource\"}, inplace=True)\n",
    "\n",
    "# US tech company from the \"Category\": \"dbc:Technology_companies_of_the_United_States\"\n",
    "df_usTechCo = pd.read_csv(\"../data/sparql_cat_queries/sparql_usTechCompany.csv\")\n",
    "df_usTechCo.rename(columns={\"usTech\": \"resource\"}, inplace=True)"
   ]
  },
  {
   "cell_type": "code",
   "execution_count": 6,
   "metadata": {},
   "outputs": [],
   "source": [
    "# Function for standardized scaling and normalisation of GCM values\n",
    "# https://scikit-learn.org/stable/modules/generated/sklearn.preprocessing.StandardScaler.html\n",
    "\n",
    "def scaler(data_frame):\n",
    "    helper_df = data_frame.copy()\n",
    "    to_scale = preprocessing.StandardScaler()\n",
    "\n",
    "    helper_df[['degree', 'eigenvector', 'pagerank']] = to_scale.fit_transform(helper_df[['degree', 'eigenvector', 'pagerank']])\n",
    "    return helper_df\n",
    "\n",
    "#df_ig_gcm = scaler(df_ig_gcm)"
   ]
  },
  {
   "cell_type": "code",
   "execution_count": 7,
   "metadata": {},
   "outputs": [],
   "source": [
    "# Function for merging the sparql category with GCM data\n",
    "\n",
    "# Merge the queried category df to the GCM metrics based on <resource> with a left outer join\n",
    "# (Keep every row in the category dataframe -> missing values get NaN)\n",
    "\n",
    "def catMergerNorm(sparql_data, gcm_data):\n",
    "    df_sparql = sparql_data.copy()\n",
    "    df_gcm = gcm_data.copy()\n",
    "    helper_df = pd.merge(df_sparql,\n",
    "                 #df_gcm[['resource','degree','pagerank']],\n",
    "                 df_gcm[['resource','degree', 'eigenvector', 'pagerank']],\n",
    "                 on='resource', \n",
    "                 how='left')\n",
    "    \n",
    "    # scale and normalize the gcm metrics (same as scaler function)\n",
    "    to_scale = preprocessing.StandardScaler()\n",
    "    helper_df[['degree', 'eigenvector', 'pagerank']] = to_scale.fit_transform(helper_df[['degree', 'eigenvector', 'pagerank']])\n",
    "    \n",
    "    print(\"Dataframe merged with shape: {}\".format(helper_df.shape))\n",
    "    print('============================')\n",
    "\n",
    "    #print(helper_df.shape[0] - helper_df.dropna().shape[0]) #return amount of rows containing NaN values\n",
    "    \n",
    "    return helper_df\n",
    "\n",
    "def catMerger(sparql_data, gcm_data):\n",
    "    df_sparql = sparql_data.copy()\n",
    "    df_gcm = gcm_data.copy()\n",
    "    helper_df = pd.merge(df_sparql,\n",
    "                 #df_gcm[['resource','degree','pagerank']],\n",
    "                 df_gcm[['resource','degree', 'eigenvector', 'pagerank']],\n",
    "                 on='resource', \n",
    "                 how='left')\n",
    "    \n",
    "    # scale and normalize the gcm metrics (same as scaler function)\n",
    "    #to_scale = preprocessing.StandardScaler()\n",
    "    #helper_df[['degree', 'eigenvector', 'pagerank']] = to_scale.fit_transform(helper_df[['degree', 'eigenvector', 'pagerank']])\n",
    "    \n",
    "    print(\"Dataframe merged with shape: {}\".format(helper_df.shape))\n",
    "    print('============================')\n",
    "\n",
    "    #print(helper_df.shape[0] - helper_df.dropna().shape[0]) #return amount of rows containing NaN values\n",
    "    \n",
    "    return helper_df"
   ]
  },
  {
   "cell_type": "code",
   "execution_count": 8,
   "metadata": {},
   "outputs": [],
   "source": [
    "# Function for merging the survey category data with the gcm category data\n",
    "\n",
    "# Merge the survey category df to the GCM metrics per category based on <resource> with a left outer join\n",
    "# (Keep every row in the category dataframe -> missing values get NaN)\n",
    "\n",
    "def prepSurGCMLinReg(survey_data, cat_gcm_data):\n",
    "    df_survey = survey_data.copy()\n",
    "    df_cat_gcm = cat_gcm_data.copy()\n",
    "    df_survey.rename(columns={\"uri\": \"resource\"}, inplace=True) #rename column to match GCM dataframe\n",
    "        \n",
    "    # Count how often an answer was given in the survey and save into new dataframe\n",
    "    survey_count = df_survey['resource'].value_counts() #normalize values\n",
    "    df_survey_counted = pd.DataFrame({'resource':survey_count.index, 'amount':survey_count.values})\n",
    "\n",
    "    df_survey_gcm = pd.merge(df_survey_counted,\n",
    "                df_cat_gcm[['resource','name', 'degree','eigenvector','pagerank']],\n",
    "                #df_cat_gcm[['resource', 'degree','eigenvector','pagerank']],\n",
    "                on='resource', \n",
    "                how='left')\n",
    "    \n",
    "    # Drop rows that were not matched with the category\n",
    "    nan_rows = df_survey_gcm.shape[0] - df_survey_gcm.dropna().shape[0]    \n",
    "    print(\"Rows with NaN values dropped: {}\".format(nan_rows) + \" from {}\".format(df_survey_gcm.shape[0]) + \" => {}% \".format(round((nan_rows/df_survey_gcm.shape[0])*100, 2))) #return amount of rows containing NaN values\n",
    "    df_survey_gcm = df_survey_gcm.dropna()\n",
    "    \n",
    "    # Count how often an answer was given in the survey and save into new dataframe\n",
    "    #df_survey_gcm['survey_mentions'] = df_survey_gcm['resource'].value_counts(normalize=True) #normalize values\n",
    "    #df_survey_counted = pd.DataFrame({'resource':survey_count.index, 'amount':survey_count.values})\n",
    "    \n",
    "    # scale and normalize the survey data (same as scaler function)\n",
    "    #to_scale = StandardScaler()\n",
    "    #min_max_scaler = preprocessing.MinMaxScaler()\n",
    "    #df_survey_gcm[['amount']] = min_max_scaler.fit_transform(df_survey_gcm[['amount']])\n",
    "    df_survey_gcm['amount_rank'] = df_survey_gcm['amount']/np.sum(df_survey_gcm['amount'])\n",
    "\n",
    "    \n",
    "    print(\"Dataframe merged with shape: {}\".format(df_survey_gcm.shape))\n",
    "    \n",
    "    return df_survey_gcm"
   ]
  },
  {
   "cell_type": "code",
   "execution_count": 52,
   "metadata": {},
   "outputs": [
    {
     "name": "stdout",
     "output_type": "stream",
     "text": [
      "Rows with NaN values dropped: 4 from 28 => 14.29% \n",
      "Dataframe merged with shape: (24, 7)\n"
     ]
    }
   ],
   "source": [
    "df_survey_euCap = pd.read_csv(\"../data/survey_single_cat_files/sv_prep_uri/improved_uri/sv_european_capital_cities_impr.csv\", sep=';')\n",
    "\n",
    "euCap_linReg = prepSurGCMLinReg(df_survey_euCap, euCap_result)"
   ]
  },
  {
   "cell_type": "code",
   "execution_count": 53,
   "metadata": {},
   "outputs": [
    {
     "data": {
      "text/html": [
       "<div>\n",
       "<style scoped>\n",
       "    .dataframe tbody tr th:only-of-type {\n",
       "        vertical-align: middle;\n",
       "    }\n",
       "\n",
       "    .dataframe tbody tr th {\n",
       "        vertical-align: top;\n",
       "    }\n",
       "\n",
       "    .dataframe thead th {\n",
       "        text-align: right;\n",
       "    }\n",
       "</style>\n",
       "<table border=\"1\" class=\"dataframe\">\n",
       "  <thead>\n",
       "    <tr style=\"text-align: right;\">\n",
       "      <th></th>\n",
       "      <th>resource</th>\n",
       "      <th>amount</th>\n",
       "      <th>name</th>\n",
       "      <th>degree</th>\n",
       "      <th>eigenvector</th>\n",
       "      <th>pagerank</th>\n",
       "      <th>amount_rank</th>\n",
       "    </tr>\n",
       "  </thead>\n",
       "  <tbody>\n",
       "    <tr>\n",
       "      <th>0</th>\n",
       "      <td>http://dbpedia.org/resource/Berlin</td>\n",
       "      <td>84</td>\n",
       "      <td>Berlin</td>\n",
       "      <td>4977.0</td>\n",
       "      <td>1.786075e-06</td>\n",
       "      <td>0.000073</td>\n",
       "      <td>0.261682</td>\n",
       "    </tr>\n",
       "    <tr>\n",
       "      <th>1</th>\n",
       "      <td>http://dbpedia.org/resource/Paris</td>\n",
       "      <td>74</td>\n",
       "      <td>Paris</td>\n",
       "      <td>9957.0</td>\n",
       "      <td>3.123455e-06</td>\n",
       "      <td>0.000148</td>\n",
       "      <td>0.230530</td>\n",
       "    </tr>\n",
       "    <tr>\n",
       "      <th>2</th>\n",
       "      <td>http://dbpedia.org/resource/London</td>\n",
       "      <td>45</td>\n",
       "      <td>London</td>\n",
       "      <td>22498.0</td>\n",
       "      <td>6.628251e-06</td>\n",
       "      <td>0.000319</td>\n",
       "      <td>0.140187</td>\n",
       "    </tr>\n",
       "    <tr>\n",
       "      <th>3</th>\n",
       "      <td>http://dbpedia.org/resource/Rome</td>\n",
       "      <td>29</td>\n",
       "      <td>Rome</td>\n",
       "      <td>6172.0</td>\n",
       "      <td>3.261810e-06</td>\n",
       "      <td>0.000089</td>\n",
       "      <td>0.090343</td>\n",
       "    </tr>\n",
       "    <tr>\n",
       "      <th>4</th>\n",
       "      <td>http://dbpedia.org/resource/Madrid</td>\n",
       "      <td>19</td>\n",
       "      <td>Madrid</td>\n",
       "      <td>4499.0</td>\n",
       "      <td>4.226674e-06</td>\n",
       "      <td>0.000067</td>\n",
       "      <td>0.059190</td>\n",
       "    </tr>\n",
       "    <tr>\n",
       "      <th>5</th>\n",
       "      <td>http://dbpedia.org/resource/Vienna</td>\n",
       "      <td>9</td>\n",
       "      <td>Vienna</td>\n",
       "      <td>3802.0</td>\n",
       "      <td>2.584578e-06</td>\n",
       "      <td>0.000056</td>\n",
       "      <td>0.028037</td>\n",
       "    </tr>\n",
       "    <tr>\n",
       "      <th>6</th>\n",
       "      <td>http://dbpedia.org/resource/City_of_Brussels</td>\n",
       "      <td>8</td>\n",
       "      <td>City of Brussels</td>\n",
       "      <td>149.0</td>\n",
       "      <td>5.574829e-08</td>\n",
       "      <td>0.000002</td>\n",
       "      <td>0.024922</td>\n",
       "    </tr>\n",
       "    <tr>\n",
       "      <th>7</th>\n",
       "      <td>http://dbpedia.org/resource/Warsaw</td>\n",
       "      <td>7</td>\n",
       "      <td>Warsaw</td>\n",
       "      <td>3049.0</td>\n",
       "      <td>8.104254e-07</td>\n",
       "      <td>0.000046</td>\n",
       "      <td>0.021807</td>\n",
       "    </tr>\n",
       "    <tr>\n",
       "      <th>8</th>\n",
       "      <td>http://dbpedia.org/resource/Copenhagen</td>\n",
       "      <td>7</td>\n",
       "      <td>Copenhagen</td>\n",
       "      <td>3436.0</td>\n",
       "      <td>2.173175e-06</td>\n",
       "      <td>0.000054</td>\n",
       "      <td>0.021807</td>\n",
       "    </tr>\n",
       "    <tr>\n",
       "      <th>9</th>\n",
       "      <td>http://dbpedia.org/resource/Helsinki</td>\n",
       "      <td>5</td>\n",
       "      <td>Helsinki</td>\n",
       "      <td>2314.0</td>\n",
       "      <td>1.054630e-06</td>\n",
       "      <td>0.000034</td>\n",
       "      <td>0.015576</td>\n",
       "    </tr>\n",
       "    <tr>\n",
       "      <th>10</th>\n",
       "      <td>http://dbpedia.org/resource/Amsterdam</td>\n",
       "      <td>5</td>\n",
       "      <td>Amsterdam</td>\n",
       "      <td>3111.0</td>\n",
       "      <td>3.265532e-06</td>\n",
       "      <td>0.000047</td>\n",
       "      <td>0.015576</td>\n",
       "    </tr>\n",
       "    <tr>\n",
       "      <th>11</th>\n",
       "      <td>http://dbpedia.org/resource/Lisbon</td>\n",
       "      <td>4</td>\n",
       "      <td>Lisbon</td>\n",
       "      <td>2080.0</td>\n",
       "      <td>3.551831e-06</td>\n",
       "      <td>0.000031</td>\n",
       "      <td>0.012461</td>\n",
       "    </tr>\n",
       "    <tr>\n",
       "      <th>12</th>\n",
       "      <td>http://dbpedia.org/resource/Kyiv</td>\n",
       "      <td>4</td>\n",
       "      <td>Kyiv</td>\n",
       "      <td>2104.0</td>\n",
       "      <td>3.287372e-06</td>\n",
       "      <td>0.000031</td>\n",
       "      <td>0.012461</td>\n",
       "    </tr>\n",
       "    <tr>\n",
       "      <th>13</th>\n",
       "      <td>http://dbpedia.org/resource/Reykjavík</td>\n",
       "      <td>3</td>\n",
       "      <td>Reykjavík</td>\n",
       "      <td>823.0</td>\n",
       "      <td>1.539470e-06</td>\n",
       "      <td>0.000013</td>\n",
       "      <td>0.009346</td>\n",
       "    </tr>\n",
       "    <tr>\n",
       "      <th>14</th>\n",
       "      <td>http://dbpedia.org/resource/Dublin</td>\n",
       "      <td>3</td>\n",
       "      <td>Dublin</td>\n",
       "      <td>5111.0</td>\n",
       "      <td>4.798316e-06</td>\n",
       "      <td>0.000075</td>\n",
       "      <td>0.009346</td>\n",
       "    </tr>\n",
       "    <tr>\n",
       "      <th>15</th>\n",
       "      <td>http://dbpedia.org/resource/Stockholm</td>\n",
       "      <td>3</td>\n",
       "      <td>Stockholm</td>\n",
       "      <td>4282.0</td>\n",
       "      <td>2.312365e-06</td>\n",
       "      <td>0.000064</td>\n",
       "      <td>0.009346</td>\n",
       "    </tr>\n",
       "    <tr>\n",
       "      <th>16</th>\n",
       "      <td>http://dbpedia.org/resource/Moscow</td>\n",
       "      <td>2</td>\n",
       "      <td>Moscow</td>\n",
       "      <td>7289.0</td>\n",
       "      <td>5.793710e-06</td>\n",
       "      <td>0.000102</td>\n",
       "      <td>0.006231</td>\n",
       "    </tr>\n",
       "    <tr>\n",
       "      <th>17</th>\n",
       "      <td>http://dbpedia.org/resource/Oslo</td>\n",
       "      <td>2</td>\n",
       "      <td>Oslo</td>\n",
       "      <td>3227.0</td>\n",
       "      <td>1.293818e-06</td>\n",
       "      <td>0.000050</td>\n",
       "      <td>0.006231</td>\n",
       "    </tr>\n",
       "    <tr>\n",
       "      <th>18</th>\n",
       "      <td>http://dbpedia.org/resource/Sofia</td>\n",
       "      <td>2</td>\n",
       "      <td>Sofia</td>\n",
       "      <td>1667.0</td>\n",
       "      <td>2.778680e-06</td>\n",
       "      <td>0.000024</td>\n",
       "      <td>0.006231</td>\n",
       "    </tr>\n",
       "    <tr>\n",
       "      <th>19</th>\n",
       "      <td>http://dbpedia.org/resource/Valletta</td>\n",
       "      <td>2</td>\n",
       "      <td>Valletta</td>\n",
       "      <td>253.0</td>\n",
       "      <td>9.867601e-08</td>\n",
       "      <td>0.000004</td>\n",
       "      <td>0.006231</td>\n",
       "    </tr>\n",
       "    <tr>\n",
       "      <th>20</th>\n",
       "      <td>http://dbpedia.org/resource/Athens</td>\n",
       "      <td>1</td>\n",
       "      <td>Athens</td>\n",
       "      <td>2347.0</td>\n",
       "      <td>3.315695e-06</td>\n",
       "      <td>0.000035</td>\n",
       "      <td>0.003115</td>\n",
       "    </tr>\n",
       "    <tr>\n",
       "      <th>22</th>\n",
       "      <td>http://dbpedia.org/resource/Prague</td>\n",
       "      <td>1</td>\n",
       "      <td>Prague</td>\n",
       "      <td>2752.0</td>\n",
       "      <td>2.382143e-06</td>\n",
       "      <td>0.000041</td>\n",
       "      <td>0.003115</td>\n",
       "    </tr>\n",
       "    <tr>\n",
       "      <th>23</th>\n",
       "      <td>http://dbpedia.org/resource/Budapest</td>\n",
       "      <td>1</td>\n",
       "      <td>Budapest</td>\n",
       "      <td>4113.0</td>\n",
       "      <td>4.645401e-06</td>\n",
       "      <td>0.000064</td>\n",
       "      <td>0.003115</td>\n",
       "    </tr>\n",
       "    <tr>\n",
       "      <th>24</th>\n",
       "      <td>http://dbpedia.org/resource/Minsk</td>\n",
       "      <td>1</td>\n",
       "      <td>Minsk</td>\n",
       "      <td>1228.0</td>\n",
       "      <td>3.472563e-06</td>\n",
       "      <td>0.000018</td>\n",
       "      <td>0.003115</td>\n",
       "    </tr>\n",
       "  </tbody>\n",
       "</table>\n",
       "</div>"
      ],
      "text/plain": [
       "                                        resource  amount              name  \\\n",
       "0             http://dbpedia.org/resource/Berlin      84            Berlin   \n",
       "1              http://dbpedia.org/resource/Paris      74             Paris   \n",
       "2             http://dbpedia.org/resource/London      45            London   \n",
       "3               http://dbpedia.org/resource/Rome      29              Rome   \n",
       "4             http://dbpedia.org/resource/Madrid      19            Madrid   \n",
       "5             http://dbpedia.org/resource/Vienna       9            Vienna   \n",
       "6   http://dbpedia.org/resource/City_of_Brussels       8  City of Brussels   \n",
       "7             http://dbpedia.org/resource/Warsaw       7            Warsaw   \n",
       "8         http://dbpedia.org/resource/Copenhagen       7        Copenhagen   \n",
       "9           http://dbpedia.org/resource/Helsinki       5          Helsinki   \n",
       "10         http://dbpedia.org/resource/Amsterdam       5         Amsterdam   \n",
       "11            http://dbpedia.org/resource/Lisbon       4            Lisbon   \n",
       "12              http://dbpedia.org/resource/Kyiv       4              Kyiv   \n",
       "13         http://dbpedia.org/resource/Reykjavík       3         Reykjavík   \n",
       "14            http://dbpedia.org/resource/Dublin       3            Dublin   \n",
       "15         http://dbpedia.org/resource/Stockholm       3         Stockholm   \n",
       "16            http://dbpedia.org/resource/Moscow       2            Moscow   \n",
       "17              http://dbpedia.org/resource/Oslo       2              Oslo   \n",
       "18             http://dbpedia.org/resource/Sofia       2             Sofia   \n",
       "19          http://dbpedia.org/resource/Valletta       2          Valletta   \n",
       "20            http://dbpedia.org/resource/Athens       1            Athens   \n",
       "22            http://dbpedia.org/resource/Prague       1            Prague   \n",
       "23          http://dbpedia.org/resource/Budapest       1          Budapest   \n",
       "24             http://dbpedia.org/resource/Minsk       1             Minsk   \n",
       "\n",
       "     degree   eigenvector  pagerank  amount_rank  \n",
       "0    4977.0  1.786075e-06  0.000073     0.261682  \n",
       "1    9957.0  3.123455e-06  0.000148     0.230530  \n",
       "2   22498.0  6.628251e-06  0.000319     0.140187  \n",
       "3    6172.0  3.261810e-06  0.000089     0.090343  \n",
       "4    4499.0  4.226674e-06  0.000067     0.059190  \n",
       "5    3802.0  2.584578e-06  0.000056     0.028037  \n",
       "6     149.0  5.574829e-08  0.000002     0.024922  \n",
       "7    3049.0  8.104254e-07  0.000046     0.021807  \n",
       "8    3436.0  2.173175e-06  0.000054     0.021807  \n",
       "9    2314.0  1.054630e-06  0.000034     0.015576  \n",
       "10   3111.0  3.265532e-06  0.000047     0.015576  \n",
       "11   2080.0  3.551831e-06  0.000031     0.012461  \n",
       "12   2104.0  3.287372e-06  0.000031     0.012461  \n",
       "13    823.0  1.539470e-06  0.000013     0.009346  \n",
       "14   5111.0  4.798316e-06  0.000075     0.009346  \n",
       "15   4282.0  2.312365e-06  0.000064     0.009346  \n",
       "16   7289.0  5.793710e-06  0.000102     0.006231  \n",
       "17   3227.0  1.293818e-06  0.000050     0.006231  \n",
       "18   1667.0  2.778680e-06  0.000024     0.006231  \n",
       "19    253.0  9.867601e-08  0.000004     0.006231  \n",
       "20   2347.0  3.315695e-06  0.000035     0.003115  \n",
       "22   2752.0  2.382143e-06  0.000041     0.003115  \n",
       "23   4113.0  4.645401e-06  0.000064     0.003115  \n",
       "24   1228.0  3.472563e-06  0.000018     0.003115  "
      ]
     },
     "execution_count": 53,
     "metadata": {},
     "output_type": "execute_result"
    }
   ],
   "source": [
    "euCap_linReg"
   ]
  },
  {
   "cell_type": "code",
   "execution_count": 51,
   "metadata": {},
   "outputs": [
    {
     "name": "stdout",
     "output_type": "stream",
     "text": [
      "Dataframe merged with shape: (52, 5)\n",
      "============================\n"
     ]
    },
    {
     "data": {
      "text/html": [
       "<div>\n",
       "<style scoped>\n",
       "    .dataframe tbody tr th:only-of-type {\n",
       "        vertical-align: middle;\n",
       "    }\n",
       "\n",
       "    .dataframe tbody tr th {\n",
       "        vertical-align: top;\n",
       "    }\n",
       "\n",
       "    .dataframe thead th {\n",
       "        text-align: right;\n",
       "    }\n",
       "</style>\n",
       "<table border=\"1\" class=\"dataframe\">\n",
       "  <thead>\n",
       "    <tr style=\"text-align: right;\">\n",
       "      <th></th>\n",
       "      <th>resource</th>\n",
       "      <th>name</th>\n",
       "      <th>degree</th>\n",
       "      <th>eigenvector</th>\n",
       "      <th>pagerank</th>\n",
       "    </tr>\n",
       "  </thead>\n",
       "  <tbody>\n",
       "    <tr>\n",
       "      <th>0</th>\n",
       "      <td>http://dbpedia.org/resource/European_Capital_o...</td>\n",
       "      <td>European Capital of Culture</td>\n",
       "      <td>1</td>\n",
       "      <td>1.081292e-08</td>\n",
       "      <td>4.602403e-08</td>\n",
       "    </tr>\n",
       "    <tr>\n",
       "      <th>1</th>\n",
       "      <td>http://dbpedia.org/resource/Podgorica</td>\n",
       "      <td>Podgorica</td>\n",
       "      <td>495</td>\n",
       "      <td>1.932748e-06</td>\n",
       "      <td>7.008188e-06</td>\n",
       "    </tr>\n",
       "    <tr>\n",
       "      <th>2</th>\n",
       "      <td>http://dbpedia.org/resource/City_of_San_Marino</td>\n",
       "      <td>City of San Marino</td>\n",
       "      <td>94</td>\n",
       "      <td>9.803589e-08</td>\n",
       "      <td>1.340477e-06</td>\n",
       "    </tr>\n",
       "    <tr>\n",
       "      <th>3</th>\n",
       "      <td>http://dbpedia.org/resource/Gibraltar</td>\n",
       "      <td>Gibraltar</td>\n",
       "      <td>553</td>\n",
       "      <td>5.106415e-07</td>\n",
       "      <td>8.827645e-06</td>\n",
       "    </tr>\n",
       "    <tr>\n",
       "      <th>4</th>\n",
       "      <td>http://dbpedia.org/resource/European_Youth_Cap...</td>\n",
       "      <td>European Youth Capital</td>\n",
       "      <td>2</td>\n",
       "      <td>1.629899e-11</td>\n",
       "      <td>5.269388e-08</td>\n",
       "    </tr>\n",
       "  </tbody>\n",
       "</table>\n",
       "</div>"
      ],
      "text/plain": [
       "                                            resource  \\\n",
       "0  http://dbpedia.org/resource/European_Capital_o...   \n",
       "1              http://dbpedia.org/resource/Podgorica   \n",
       "2     http://dbpedia.org/resource/City_of_San_Marino   \n",
       "3              http://dbpedia.org/resource/Gibraltar   \n",
       "4  http://dbpedia.org/resource/European_Youth_Cap...   \n",
       "\n",
       "                          name  degree   eigenvector      pagerank  \n",
       "0  European Capital of Culture       1  1.081292e-08  4.602403e-08  \n",
       "1                    Podgorica     495  1.932748e-06  7.008188e-06  \n",
       "2           City of San Marino      94  9.803589e-08  1.340477e-06  \n",
       "3                    Gibraltar     553  5.106415e-07  8.827645e-06  \n",
       "4       European Youth Capital       2  1.629899e-11  5.269388e-08  "
      ]
     },
     "execution_count": 51,
     "metadata": {},
     "output_type": "execute_result"
    }
   ],
   "source": [
    "euCap_result = catMerger(df_euCap, df_ig_gcm)\n",
    "\n",
    "euCap_result.head()"
   ]
  },
  {
   "cell_type": "code",
   "execution_count": 80,
   "metadata": {
    "scrolled": true
   },
   "outputs": [
    {
     "data": {
      "text/plain": [
       "<AxesSubplot:xlabel='degree', ylabel='Density'>"
      ]
     },
     "execution_count": 80,
     "metadata": {},
     "output_type": "execute_result"
    },
    {
     "data": {
      "image/png": "[encoded data removed]",
      "text/plain": [
       "<Figure size 432x288 with 1 Axes>"
      ]
     },
     "metadata": {
      "needs_background": "light"
     },
     "output_type": "display_data"
    }
   ],
   "source": [
    "# Plot the kernel density estimate (KDE)\n",
    "# -> method for visualizing the distribution of observations in a dataset, analagous to a histogram.\n",
    "# KDE represents the data using a continuous probability density curve in one or more dimensions.\n",
    "# https://seaborn.pydata.org/generated/seaborn.kdeplot.html\n",
    "\n",
    "sns.kdeplot(euCap_result.degree)"
   ]
  },
  {
   "cell_type": "code",
   "execution_count": 21,
   "metadata": {},
   "outputs": [
    {
     "data": {
      "text/plain": [
       "<AxesSubplot:xlabel='eigenvector', ylabel='Density'>"
      ]
     },
     "execution_count": 21,
     "metadata": {},
     "output_type": "execute_result"
    },
    {
     "data": {
      "image/png": "[encoded data removed]",
      "text/plain": [
       "<Figure size 432x288 with 1 Axes>"
      ]
     },
     "metadata": {
      "needs_background": "light"
     },
     "output_type": "display_data"
    }
   ],
   "source": [
    "sns.kdeplot(euCap_result.eigenvector)\n",
    "\n",
    "#plt.ylabel('Distribution of survey mentions', fontsize=14,fontweight='bold', labelpad=15)\n",
    "#plt.xlabel('European countries', fontsize=14,fontweight='bold', labelpad=15)\n",
    "#plt.tick_params(labelsize=14)\n",
    "\n",
    "#plt.savefig(\"../plots/plots_euCou/survey_eu_countries_cut.png\", bbox_inches=\"tight\")\n",
    "#plt.show()"
   ]
  },
  {
   "cell_type": "code",
   "execution_count": 78,
   "metadata": {
    "scrolled": true
   },
   "outputs": [
    {
     "data": {
      "text/plain": [
       "<AxesSubplot:xlabel='pagerank', ylabel='Density'>"
      ]
     },
     "execution_count": 78,
     "metadata": {},
     "output_type": "execute_result"
    },
    {
     "data": {
      "image/png": "[encoded data removed]",
      "text/plain": [
       "<Figure size 432x288 with 1 Axes>"
      ]
     },
     "metadata": {
      "needs_background": "light"
     },
     "output_type": "display_data"
    }
   ],
   "source": [
    "sns.kdeplot(euCap_result.pagerank)"
   ]
  },
  {
   "cell_type": "code",
   "execution_count": 12,
   "metadata": {},
   "outputs": [
    {
     "name": "stdout",
     "output_type": "stream",
     "text": [
      "Dataframe merged with shape: (52, 5)\n",
      "============================\n"
     ]
    },
    {
     "data": {
      "text/html": [
       "<div>\n",
       "<style scoped>\n",
       "    .dataframe tbody tr th:only-of-type {\n",
       "        vertical-align: middle;\n",
       "    }\n",
       "\n",
       "    .dataframe tbody tr th {\n",
       "        vertical-align: top;\n",
       "    }\n",
       "\n",
       "    .dataframe thead th {\n",
       "        text-align: right;\n",
       "    }\n",
       "</style>\n",
       "<table border=\"1\" class=\"dataframe\">\n",
       "  <thead>\n",
       "    <tr style=\"text-align: right;\">\n",
       "      <th></th>\n",
       "      <th>resource</th>\n",
       "      <th>name</th>\n",
       "      <th>degree</th>\n",
       "      <th>eigenvector</th>\n",
       "      <th>pagerank</th>\n",
       "    </tr>\n",
       "  </thead>\n",
       "  <tbody>\n",
       "    <tr>\n",
       "      <th>0</th>\n",
       "      <td>http://dbpedia.org/resource/European_Capital_o...</td>\n",
       "      <td>European Capital of Culture</td>\n",
       "      <td>-0.676715</td>\n",
       "      <td>-1.107239</td>\n",
       "      <td>-0.691501</td>\n",
       "    </tr>\n",
       "    <tr>\n",
       "      <th>1</th>\n",
       "      <td>http://dbpedia.org/resource/Podgorica</td>\n",
       "      <td>Podgorica</td>\n",
       "      <td>-0.535232</td>\n",
       "      <td>-0.008673</td>\n",
       "      <td>-0.552313</td>\n",
       "    </tr>\n",
       "    <tr>\n",
       "      <th>2</th>\n",
       "      <td>http://dbpedia.org/resource/City_of_San_Marino</td>\n",
       "      <td>City of San Marino</td>\n",
       "      <td>-0.650080</td>\n",
       "      <td>-1.057383</td>\n",
       "      <td>-0.665622</td>\n",
       "    </tr>\n",
       "    <tr>\n",
       "      <th>3</th>\n",
       "      <td>http://dbpedia.org/resource/Gibraltar</td>\n",
       "      <td>Gibraltar</td>\n",
       "      <td>-0.518621</td>\n",
       "      <td>-0.821540</td>\n",
       "      <td>-0.515938</td>\n",
       "    </tr>\n",
       "    <tr>\n",
       "      <th>4</th>\n",
       "      <td>http://dbpedia.org/resource/European_Youth_Cap...</td>\n",
       "      <td>European Youth Capital</td>\n",
       "      <td>-0.676429</td>\n",
       "      <td>-1.113411</td>\n",
       "      <td>-0.691367</td>\n",
       "    </tr>\n",
       "  </tbody>\n",
       "</table>\n",
       "</div>"
      ],
      "text/plain": [
       "                                            resource  \\\n",
       "0  http://dbpedia.org/resource/European_Capital_o...   \n",
       "1              http://dbpedia.org/resource/Podgorica   \n",
       "2     http://dbpedia.org/resource/City_of_San_Marino   \n",
       "3              http://dbpedia.org/resource/Gibraltar   \n",
       "4  http://dbpedia.org/resource/European_Youth_Cap...   \n",
       "\n",
       "                          name    degree  eigenvector  pagerank  \n",
       "0  European Capital of Culture -0.676715    -1.107239 -0.691501  \n",
       "1                    Podgorica -0.535232    -0.008673 -0.552313  \n",
       "2           City of San Marino -0.650080    -1.057383 -0.665622  \n",
       "3                    Gibraltar -0.518621    -0.821540 -0.515938  \n",
       "4       European Youth Capital -0.676429    -1.113411 -0.691367  "
      ]
     },
     "execution_count": 12,
     "metadata": {},
     "output_type": "execute_result"
    }
   ],
   "source": [
    "euCap_resultNorm = catMergerNorm(df_euCap, df_ig_gcm)\n",
    "\n",
    "euCap_resultNorm.head()"
   ]
  },
  {
   "cell_type": "code",
   "execution_count": 18,
   "metadata": {},
   "outputs": [
    {
     "data": {
      "text/plain": [
       "<AxesSubplot:xlabel='degree', ylabel='Density'>"
      ]
     },
     "execution_count": 18,
     "metadata": {},
     "output_type": "execute_result"
    },
    {
     "data": {
      "image/png": "[encoded data removed]",
      "text/plain": [
       "<Figure size 432x288 with 1 Axes>"
      ]
     },
     "metadata": {
      "needs_background": "light"
     },
     "output_type": "display_data"
    }
   ],
   "source": [
    "sns.kdeplot(euCap_resultNorm.degree)"
   ]
  },
  {
   "cell_type": "code",
   "execution_count": 26,
   "metadata": {},
   "outputs": [
    {
     "data": {
      "text/plain": [
       "<AxesSubplot:xlabel='degree', ylabel='Density'>"
      ]
     },
     "execution_count": 26,
     "metadata": {},
     "output_type": "execute_result"
    },
    {
     "data": {
      "image/png": "[encoded data removed]",
      "text/plain": [
       "<Figure size 432x288 with 1 Axes>"
      ]
     },
     "metadata": {
      "needs_background": "light"
     },
     "output_type": "display_data"
    }
   ],
   "source": [
    "sns.kdeplot(euCap_resultNorm.degree)\n",
    "sns.kdeplot(euCap_resultNorm.eigenvector)\n",
    "sns.kdeplot(euCap_resultNorm.pagerank)"
   ]
  },
  {
   "cell_type": "code",
   "execution_count": 23,
   "metadata": {},
   "outputs": [
    {
     "data": {
      "text/plain": [
       "<AxesSubplot:xlabel='pagerank', ylabel='Density'>"
      ]
     },
     "execution_count": 23,
     "metadata": {},
     "output_type": "execute_result"
    },
    {
     "data": {
      "image/png": "[encoded data removed]",
      "text/plain": [
       "<Figure size 432x288 with 1 Axes>"
      ]
     },
     "metadata": {
      "needs_background": "light"
     },
     "output_type": "display_data"
    }
   ],
   "source": [
    "sns.kdeplot(euCap_resultNorm.pagerank)"
   ]
  },
  {
   "cell_type": "code",
   "execution_count": 38,
   "metadata": {},
   "outputs": [
    {
     "name": "stdout",
     "output_type": "stream",
     "text": [
      "Rows with NaN values dropped: 4 from 28 => 14.29% \n",
      "Dataframe merged with shape: (24, 7)\n"
     ]
    }
   ],
   "source": [
    "df_survey_euCap = pd.read_csv(\"../data/survey_single_cat_files/sv_prep_uri/improved_uri/sv_european_capital_cities_impr.csv\", sep=';')\n",
    "\n",
    "df_euCap_survey_gcm = prepSurGCMLinReg(df_survey_euCap, euCap_result)"
   ]
  },
  {
   "cell_type": "code",
   "execution_count": 39,
   "metadata": {},
   "outputs": [
    {
     "data": {
      "text/html": [
       "<div>\n",
       "<style scoped>\n",
       "    .dataframe tbody tr th:only-of-type {\n",
       "        vertical-align: middle;\n",
       "    }\n",
       "\n",
       "    .dataframe tbody tr th {\n",
       "        vertical-align: top;\n",
       "    }\n",
       "\n",
       "    .dataframe thead th {\n",
       "        text-align: right;\n",
       "    }\n",
       "</style>\n",
       "<table border=\"1\" class=\"dataframe\">\n",
       "  <thead>\n",
       "    <tr style=\"text-align: right;\">\n",
       "      <th></th>\n",
       "      <th>resource</th>\n",
       "      <th>amount</th>\n",
       "      <th>name</th>\n",
       "      <th>degree</th>\n",
       "      <th>eigenvector</th>\n",
       "      <th>pagerank</th>\n",
       "      <th>amount_rank</th>\n",
       "    </tr>\n",
       "  </thead>\n",
       "  <tbody>\n",
       "    <tr>\n",
       "      <th>0</th>\n",
       "      <td>http://dbpedia.org/resource/Berlin</td>\n",
       "      <td>84</td>\n",
       "      <td>Berlin</td>\n",
       "      <td>0.748426</td>\n",
       "      <td>-0.092511</td>\n",
       "      <td>0.773027</td>\n",
       "      <td>0.261682</td>\n",
       "    </tr>\n",
       "    <tr>\n",
       "      <th>1</th>\n",
       "      <td>http://dbpedia.org/resource/Paris</td>\n",
       "      <td>74</td>\n",
       "      <td>Paris</td>\n",
       "      <td>2.174713</td>\n",
       "      <td>0.671928</td>\n",
       "      <td>2.264122</td>\n",
       "      <td>0.230530</td>\n",
       "    </tr>\n",
       "    <tr>\n",
       "      <th>2</th>\n",
       "      <td>http://dbpedia.org/resource/London</td>\n",
       "      <td>45</td>\n",
       "      <td>London</td>\n",
       "      <td>5.766493</td>\n",
       "      <td>2.675248</td>\n",
       "      <td>5.688451</td>\n",
       "      <td>0.140187</td>\n",
       "    </tr>\n",
       "    <tr>\n",
       "      <th>3</th>\n",
       "      <td>http://dbpedia.org/resource/Rome</td>\n",
       "      <td>29</td>\n",
       "      <td>Rome</td>\n",
       "      <td>1.090678</td>\n",
       "      <td>0.751011</td>\n",
       "      <td>1.083243</td>\n",
       "      <td>0.090343</td>\n",
       "    </tr>\n",
       "    <tr>\n",
       "      <th>4</th>\n",
       "      <td>http://dbpedia.org/resource/Madrid</td>\n",
       "      <td>19</td>\n",
       "      <td>Madrid</td>\n",
       "      <td>0.611525</td>\n",
       "      <td>1.302521</td>\n",
       "      <td>0.638277</td>\n",
       "      <td>0.059190</td>\n",
       "    </tr>\n",
       "    <tr>\n",
       "      <th>5</th>\n",
       "      <td>http://dbpedia.org/resource/Vienna</td>\n",
       "      <td>9</td>\n",
       "      <td>Vienna</td>\n",
       "      <td>0.411903</td>\n",
       "      <td>0.363909</td>\n",
       "      <td>0.427952</td>\n",
       "      <td>0.028037</td>\n",
       "    </tr>\n",
       "    <tr>\n",
       "      <th>6</th>\n",
       "      <td>http://dbpedia.org/resource/City_of_Brussels</td>\n",
       "      <td>8</td>\n",
       "      <td>City of Brussels</td>\n",
       "      <td>-0.634328</td>\n",
       "      <td>-1.081555</td>\n",
       "      <td>-0.647325</td>\n",
       "      <td>0.024922</td>\n",
       "    </tr>\n",
       "    <tr>\n",
       "      <th>7</th>\n",
       "      <td>http://dbpedia.org/resource/Warsaw</td>\n",
       "      <td>7</td>\n",
       "      <td>Warsaw</td>\n",
       "      <td>0.196241</td>\n",
       "      <td>-0.650186</td>\n",
       "      <td>0.219633</td>\n",
       "      <td>0.021807</td>\n",
       "    </tr>\n",
       "    <tr>\n",
       "      <th>8</th>\n",
       "      <td>http://dbpedia.org/resource/Copenhagen</td>\n",
       "      <td>7</td>\n",
       "      <td>Copenhagen</td>\n",
       "      <td>0.307079</td>\n",
       "      <td>0.128754</td>\n",
       "      <td>0.397003</td>\n",
       "      <td>0.021807</td>\n",
       "    </tr>\n",
       "    <tr>\n",
       "      <th>9</th>\n",
       "      <td>http://dbpedia.org/resource/Helsinki</td>\n",
       "      <td>5</td>\n",
       "      <td>Helsinki</td>\n",
       "      <td>-0.014265</td>\n",
       "      <td>-0.510600</td>\n",
       "      <td>-0.003596</td>\n",
       "      <td>0.015576</td>\n",
       "    </tr>\n",
       "    <tr>\n",
       "      <th>10</th>\n",
       "      <td>http://dbpedia.org/resource/Amsterdam</td>\n",
       "      <td>5</td>\n",
       "      <td>Amsterdam</td>\n",
       "      <td>0.213998</td>\n",
       "      <td>0.753138</td>\n",
       "      <td>0.251644</td>\n",
       "      <td>0.015576</td>\n",
       "    </tr>\n",
       "    <tr>\n",
       "      <th>11</th>\n",
       "      <td>http://dbpedia.org/resource/Lisbon</td>\n",
       "      <td>4</td>\n",
       "      <td>Lisbon</td>\n",
       "      <td>-0.081283</td>\n",
       "      <td>0.916785</td>\n",
       "      <td>-0.064883</td>\n",
       "      <td>0.012461</td>\n",
       "    </tr>\n",
       "    <tr>\n",
       "      <th>12</th>\n",
       "      <td>http://dbpedia.org/resource/Kyiv</td>\n",
       "      <td>4</td>\n",
       "      <td>Kyiv</td>\n",
       "      <td>-0.074410</td>\n",
       "      <td>0.765622</td>\n",
       "      <td>-0.078921</td>\n",
       "      <td>0.012461</td>\n",
       "    </tr>\n",
       "    <tr>\n",
       "      <th>13</th>\n",
       "      <td>http://dbpedia.org/resource/Reykjavík</td>\n",
       "      <td>3</td>\n",
       "      <td>Reykjavík</td>\n",
       "      <td>-0.441292</td>\n",
       "      <td>-0.233468</td>\n",
       "      <td>-0.440864</td>\n",
       "      <td>0.009346</td>\n",
       "    </tr>\n",
       "    <tr>\n",
       "      <th>14</th>\n",
       "      <td>http://dbpedia.org/resource/Dublin</td>\n",
       "      <td>3</td>\n",
       "      <td>Dublin</td>\n",
       "      <td>0.786804</td>\n",
       "      <td>1.629269</td>\n",
       "      <td>0.799474</td>\n",
       "      <td>0.009346</td>\n",
       "    </tr>\n",
       "    <tr>\n",
       "      <th>15</th>\n",
       "      <td>http://dbpedia.org/resource/Stockholm</td>\n",
       "      <td>3</td>\n",
       "      <td>Stockholm</td>\n",
       "      <td>0.549376</td>\n",
       "      <td>0.208314</td>\n",
       "      <td>0.583615</td>\n",
       "      <td>0.009346</td>\n",
       "    </tr>\n",
       "    <tr>\n",
       "      <th>16</th>\n",
       "      <td>http://dbpedia.org/resource/Moscow</td>\n",
       "      <td>2</td>\n",
       "      <td>Moscow</td>\n",
       "      <td>1.410590</td>\n",
       "      <td>2.198230</td>\n",
       "      <td>1.356614</td>\n",
       "      <td>0.006231</td>\n",
       "    </tr>\n",
       "    <tr>\n",
       "      <th>17</th>\n",
       "      <td>http://dbpedia.org/resource/Oslo</td>\n",
       "      <td>2</td>\n",
       "      <td>Oslo</td>\n",
       "      <td>0.247221</td>\n",
       "      <td>-0.373882</td>\n",
       "      <td>0.307634</td>\n",
       "      <td>0.006231</td>\n",
       "    </tr>\n",
       "    <tr>\n",
       "      <th>18</th>\n",
       "      <td>http://dbpedia.org/resource/Sofia</td>\n",
       "      <td>2</td>\n",
       "      <td>Sofia</td>\n",
       "      <td>-0.199568</td>\n",
       "      <td>0.474857</td>\n",
       "      <td>-0.203178</td>\n",
       "      <td>0.006231</td>\n",
       "    </tr>\n",
       "    <tr>\n",
       "      <th>19</th>\n",
       "      <td>http://dbpedia.org/resource/Valletta</td>\n",
       "      <td>2</td>\n",
       "      <td>Valletta</td>\n",
       "      <td>-0.604542</td>\n",
       "      <td>-1.057017</td>\n",
       "      <td>-0.617674</td>\n",
       "      <td>0.006231</td>\n",
       "    </tr>\n",
       "    <tr>\n",
       "      <th>20</th>\n",
       "      <td>http://dbpedia.org/resource/Athens</td>\n",
       "      <td>1</td>\n",
       "      <td>Athens</td>\n",
       "      <td>-0.004814</td>\n",
       "      <td>0.781811</td>\n",
       "      <td>0.004643</td>\n",
       "      <td>0.003115</td>\n",
       "    </tr>\n",
       "    <tr>\n",
       "      <th>22</th>\n",
       "      <td>http://dbpedia.org/resource/Prague</td>\n",
       "      <td>1</td>\n",
       "      <td>Prague</td>\n",
       "      <td>0.111179</td>\n",
       "      <td>0.248199</td>\n",
       "      <td>0.129101</td>\n",
       "      <td>0.003115</td>\n",
       "    </tr>\n",
       "    <tr>\n",
       "      <th>23</th>\n",
       "      <td>http://dbpedia.org/resource/Budapest</td>\n",
       "      <td>1</td>\n",
       "      <td>Budapest</td>\n",
       "      <td>0.500974</td>\n",
       "      <td>1.541863</td>\n",
       "      <td>0.592214</td>\n",
       "      <td>0.003115</td>\n",
       "    </tr>\n",
       "    <tr>\n",
       "      <th>24</th>\n",
       "      <td>http://dbpedia.org/resource/Minsk</td>\n",
       "      <td>1</td>\n",
       "      <td>Minsk</td>\n",
       "      <td>-0.325299</td>\n",
       "      <td>0.871476</td>\n",
       "      <td>-0.328735</td>\n",
       "      <td>0.003115</td>\n",
       "    </tr>\n",
       "  </tbody>\n",
       "</table>\n",
       "</div>"
      ],
      "text/plain": [
       "                                        resource  amount              name  \\\n",
       "0             http://dbpedia.org/resource/Berlin      84            Berlin   \n",
       "1              http://dbpedia.org/resource/Paris      74             Paris   \n",
       "2             http://dbpedia.org/resource/London      45            London   \n",
       "3               http://dbpedia.org/resource/Rome      29              Rome   \n",
       "4             http://dbpedia.org/resource/Madrid      19            Madrid   \n",
       "5             http://dbpedia.org/resource/Vienna       9            Vienna   \n",
       "6   http://dbpedia.org/resource/City_of_Brussels       8  City of Brussels   \n",
       "7             http://dbpedia.org/resource/Warsaw       7            Warsaw   \n",
       "8         http://dbpedia.org/resource/Copenhagen       7        Copenhagen   \n",
       "9           http://dbpedia.org/resource/Helsinki       5          Helsinki   \n",
       "10         http://dbpedia.org/resource/Amsterdam       5         Amsterdam   \n",
       "11            http://dbpedia.org/resource/Lisbon       4            Lisbon   \n",
       "12              http://dbpedia.org/resource/Kyiv       4              Kyiv   \n",
       "13         http://dbpedia.org/resource/Reykjavík       3         Reykjavík   \n",
       "14            http://dbpedia.org/resource/Dublin       3            Dublin   \n",
       "15         http://dbpedia.org/resource/Stockholm       3         Stockholm   \n",
       "16            http://dbpedia.org/resource/Moscow       2            Moscow   \n",
       "17              http://dbpedia.org/resource/Oslo       2              Oslo   \n",
       "18             http://dbpedia.org/resource/Sofia       2             Sofia   \n",
       "19          http://dbpedia.org/resource/Valletta       2          Valletta   \n",
       "20            http://dbpedia.org/resource/Athens       1            Athens   \n",
       "22            http://dbpedia.org/resource/Prague       1            Prague   \n",
       "23          http://dbpedia.org/resource/Budapest       1          Budapest   \n",
       "24             http://dbpedia.org/resource/Minsk       1             Minsk   \n",
       "\n",
       "      degree  eigenvector  pagerank  amount_rank  \n",
       "0   0.748426    -0.092511  0.773027     0.261682  \n",
       "1   2.174713     0.671928  2.264122     0.230530  \n",
       "2   5.766493     2.675248  5.688451     0.140187  \n",
       "3   1.090678     0.751011  1.083243     0.090343  \n",
       "4   0.611525     1.302521  0.638277     0.059190  \n",
       "5   0.411903     0.363909  0.427952     0.028037  \n",
       "6  -0.634328    -1.081555 -0.647325     0.024922  \n",
       "7   0.196241    -0.650186  0.219633     0.021807  \n",
       "8   0.307079     0.128754  0.397003     0.021807  \n",
       "9  -0.014265    -0.510600 -0.003596     0.015576  \n",
       "10  0.213998     0.753138  0.251644     0.015576  \n",
       "11 -0.081283     0.916785 -0.064883     0.012461  \n",
       "12 -0.074410     0.765622 -0.078921     0.012461  \n",
       "13 -0.441292    -0.233468 -0.440864     0.009346  \n",
       "14  0.786804     1.629269  0.799474     0.009346  \n",
       "15  0.549376     0.208314  0.583615     0.009346  \n",
       "16  1.410590     2.198230  1.356614     0.006231  \n",
       "17  0.247221    -0.373882  0.307634     0.006231  \n",
       "18 -0.199568     0.474857 -0.203178     0.006231  \n",
       "19 -0.604542    -1.057017 -0.617674     0.006231  \n",
       "20 -0.004814     0.781811  0.004643     0.003115  \n",
       "22  0.111179     0.248199  0.129101     0.003115  \n",
       "23  0.500974     1.541863  0.592214     0.003115  \n",
       "24 -0.325299     0.871476 -0.328735     0.003115  "
      ]
     },
     "execution_count": 39,
     "metadata": {},
     "output_type": "execute_result"
    }
   ],
   "source": [
    "df_euCap_survey_gcm"
   ]
  },
  {
   "cell_type": "code",
   "execution_count": 72,
   "metadata": {},
   "outputs": [
    {
     "data": {
      "text/plain": [
       "array([[1.        , 0.99954861],\n",
       "       [0.99954861, 1.        ]])"
      ]
     },
     "execution_count": 72,
     "metadata": {},
     "output_type": "execute_result"
    }
   ],
   "source": [
    "np.corrcoef(df_euCap_survey_gcm.pagerank, df_euCap_survey_gcm.degree)"
   ]
  },
  {
   "cell_type": "code",
   "execution_count": 71,
   "metadata": {},
   "outputs": [
    {
     "name": "stdout",
     "output_type": "stream",
     "text": [
      "                            OLS Regression Results                            \n",
      "==============================================================================\n",
      "Dep. Variable:            amount_rank   R-squared:                       0.301\n",
      "Model:                            OLS   Adj. R-squared:                  0.269\n",
      "Method:                 Least Squares   F-statistic:                     9.477\n",
      "Date:                Tue, 19 Jul 2022   Prob (F-statistic):            0.00550\n",
      "Time:                        11:41:06   Log-Likelihood:                 34.347\n",
      "No. Observations:                  24   AIC:                            -64.69\n",
      "Df Residuals:                      22   BIC:                            -62.34\n",
      "Df Model:                           1                                         \n",
      "Covariance Type:            nonrobust                                         \n",
      "==============================================================================\n",
      "                 coef    std err          t      P>|t|      [0.025      0.975]\n",
      "------------------------------------------------------------------------------\n",
      "pagerank       0.0304      0.010      3.078      0.005       0.010       0.051\n",
      "const          0.0250      0.013      1.858      0.077      -0.003       0.053\n",
      "==============================================================================\n",
      "Omnibus:                       30.923   Durbin-Watson:                   0.745\n",
      "Prob(Omnibus):                  0.000   Jarque-Bera (JB):               62.366\n",
      "Skew:                           2.505   Prob(JB):                     2.87e-14\n",
      "Kurtosis:                       9.104   Cond. No.                         1.70\n",
      "==============================================================================\n",
      "\n",
      "Notes:\n",
      "[1] Standard Errors assume that the covariance matrix of the errors is correctly specified.\n",
      "                            OLS Regression Results                            \n",
      "==============================================================================\n",
      "Dep. Variable:            amount_rank   R-squared:                       0.301\n",
      "Model:                            OLS   Adj. R-squared:                  0.269\n",
      "Method:                 Least Squares   F-statistic:                     15.00\n",
      "Date:                Tue, 19 Jul 2022   Prob (F-statistic):           0.000822\n",
      "Time:                        11:41:06   Log-Likelihood:                 34.347\n",
      "No. Observations:                  24   AIC:                            -64.69\n",
      "Df Residuals:                      22   BIC:                            -62.34\n",
      "Df Model:                           1                                         \n",
      "Covariance Type:                  HAC                                         \n",
      "==============================================================================\n",
      "                 coef    std err          t      P>|t|      [0.025      0.975]\n",
      "------------------------------------------------------------------------------\n",
      "pagerank       0.0304      0.008      3.873      0.001       0.014       0.047\n",
      "const          0.0250      0.012      2.157      0.042       0.001       0.049\n",
      "==============================================================================\n",
      "Omnibus:                       30.923   Durbin-Watson:                   0.745\n",
      "Prob(Omnibus):                  0.000   Jarque-Bera (JB):               62.366\n",
      "Skew:                           2.505   Prob(JB):                     2.87e-14\n",
      "Kurtosis:                       9.104   Cond. No.                         1.70\n",
      "==============================================================================\n",
      "\n",
      "Notes:\n",
      "[1] Standard Errors are heteroscedasticity and autocorrelation robust (HAC) using 1 lags and without small sample correction\n",
      "CPU times: user 26.2 ms, sys: 3.59 ms, total: 29.8 ms\n",
      "Wall time: 31.6 ms\n"
     ]
    }
   ],
   "source": [
    "%%time\n",
    "\n",
    "#import statsmodels.api as sm\n",
    "\n",
    "X = pd.DataFrame({\"pagerank\": df_euCap_survey_gcm.pagerank, \"degree\": df_euCap_survey_gcm.degree})\n",
    "X = pd.DataFrame({\"pagerank\": df_euCap_survey_gcm.pagerank})\n",
    "\n",
    "X = sm.add_constant(X, prepend=False)\n",
    "Y = df_euCap_survey_gcm.amount_rank\n",
    "\n",
    "# Fit and summarize OLS model\n",
    "mod = sm.OLS(endog = Y, exog = X)\n",
    "\n",
    "res = mod.fit()\n",
    "robustreg = res.get_robustcov_results(cov_type='HAC',maxlags=1)\n",
    "\n",
    "print(res.summary())\n",
    "print(robustreg.summary())"
   ]
  },
  {
   "cell_type": "code",
   "execution_count": 61,
   "metadata": {},
   "outputs": [
    {
     "data": {
      "text/html": [
       "<div>\n",
       "<style scoped>\n",
       "    .dataframe tbody tr th:only-of-type {\n",
       "        vertical-align: middle;\n",
       "    }\n",
       "\n",
       "    .dataframe tbody tr th {\n",
       "        vertical-align: top;\n",
       "    }\n",
       "\n",
       "    .dataframe thead th {\n",
       "        text-align: right;\n",
       "    }\n",
       "</style>\n",
       "<table border=\"1\" class=\"dataframe\">\n",
       "  <thead>\n",
       "    <tr style=\"text-align: right;\">\n",
       "      <th></th>\n",
       "      <th>pagerank</th>\n",
       "      <th>degree</th>\n",
       "    </tr>\n",
       "  </thead>\n",
       "  <tbody>\n",
       "    <tr>\n",
       "      <th>0</th>\n",
       "      <td>0.773027</td>\n",
       "      <td>0.748426</td>\n",
       "    </tr>\n",
       "    <tr>\n",
       "      <th>1</th>\n",
       "      <td>2.264122</td>\n",
       "      <td>2.174713</td>\n",
       "    </tr>\n",
       "    <tr>\n",
       "      <th>2</th>\n",
       "      <td>5.688451</td>\n",
       "      <td>5.766493</td>\n",
       "    </tr>\n",
       "    <tr>\n",
       "      <th>3</th>\n",
       "      <td>1.083243</td>\n",
       "      <td>1.090678</td>\n",
       "    </tr>\n",
       "    <tr>\n",
       "      <th>4</th>\n",
       "      <td>0.638277</td>\n",
       "      <td>0.611525</td>\n",
       "    </tr>\n",
       "    <tr>\n",
       "      <th>5</th>\n",
       "      <td>0.427952</td>\n",
       "      <td>0.411903</td>\n",
       "    </tr>\n",
       "    <tr>\n",
       "      <th>6</th>\n",
       "      <td>-0.647325</td>\n",
       "      <td>-0.634328</td>\n",
       "    </tr>\n",
       "    <tr>\n",
       "      <th>7</th>\n",
       "      <td>0.219633</td>\n",
       "      <td>0.196241</td>\n",
       "    </tr>\n",
       "    <tr>\n",
       "      <th>8</th>\n",
       "      <td>0.397003</td>\n",
       "      <td>0.307079</td>\n",
       "    </tr>\n",
       "    <tr>\n",
       "      <th>9</th>\n",
       "      <td>-0.003596</td>\n",
       "      <td>-0.014265</td>\n",
       "    </tr>\n",
       "    <tr>\n",
       "      <th>10</th>\n",
       "      <td>0.251644</td>\n",
       "      <td>0.213998</td>\n",
       "    </tr>\n",
       "    <tr>\n",
       "      <th>11</th>\n",
       "      <td>-0.064883</td>\n",
       "      <td>-0.081283</td>\n",
       "    </tr>\n",
       "    <tr>\n",
       "      <th>12</th>\n",
       "      <td>-0.078921</td>\n",
       "      <td>-0.074410</td>\n",
       "    </tr>\n",
       "    <tr>\n",
       "      <th>13</th>\n",
       "      <td>-0.440864</td>\n",
       "      <td>-0.441292</td>\n",
       "    </tr>\n",
       "    <tr>\n",
       "      <th>14</th>\n",
       "      <td>0.799474</td>\n",
       "      <td>0.786804</td>\n",
       "    </tr>\n",
       "    <tr>\n",
       "      <th>15</th>\n",
       "      <td>0.583615</td>\n",
       "      <td>0.549376</td>\n",
       "    </tr>\n",
       "    <tr>\n",
       "      <th>16</th>\n",
       "      <td>1.356614</td>\n",
       "      <td>1.410590</td>\n",
       "    </tr>\n",
       "    <tr>\n",
       "      <th>17</th>\n",
       "      <td>0.307634</td>\n",
       "      <td>0.247221</td>\n",
       "    </tr>\n",
       "    <tr>\n",
       "      <th>18</th>\n",
       "      <td>-0.203178</td>\n",
       "      <td>-0.199568</td>\n",
       "    </tr>\n",
       "    <tr>\n",
       "      <th>19</th>\n",
       "      <td>-0.617674</td>\n",
       "      <td>-0.604542</td>\n",
       "    </tr>\n",
       "    <tr>\n",
       "      <th>20</th>\n",
       "      <td>0.004643</td>\n",
       "      <td>-0.004814</td>\n",
       "    </tr>\n",
       "    <tr>\n",
       "      <th>22</th>\n",
       "      <td>0.129101</td>\n",
       "      <td>0.111179</td>\n",
       "    </tr>\n",
       "    <tr>\n",
       "      <th>23</th>\n",
       "      <td>0.592214</td>\n",
       "      <td>0.500974</td>\n",
       "    </tr>\n",
       "    <tr>\n",
       "      <th>24</th>\n",
       "      <td>-0.328735</td>\n",
       "      <td>-0.325299</td>\n",
       "    </tr>\n",
       "  </tbody>\n",
       "</table>\n",
       "</div>"
      ],
      "text/plain": [
       "    pagerank    degree\n",
       "0   0.773027  0.748426\n",
       "1   2.264122  2.174713\n",
       "2   5.688451  5.766493\n",
       "3   1.083243  1.090678\n",
       "4   0.638277  0.611525\n",
       "5   0.427952  0.411903\n",
       "6  -0.647325 -0.634328\n",
       "7   0.219633  0.196241\n",
       "8   0.397003  0.307079\n",
       "9  -0.003596 -0.014265\n",
       "10  0.251644  0.213998\n",
       "11 -0.064883 -0.081283\n",
       "12 -0.078921 -0.074410\n",
       "13 -0.440864 -0.441292\n",
       "14  0.799474  0.786804\n",
       "15  0.583615  0.549376\n",
       "16  1.356614  1.410590\n",
       "17  0.307634  0.247221\n",
       "18 -0.203178 -0.199568\n",
       "19 -0.617674 -0.604542\n",
       "20  0.004643 -0.004814\n",
       "22  0.129101  0.111179\n",
       "23  0.592214  0.500974\n",
       "24 -0.328735 -0.325299"
      ]
     },
     "execution_count": 61,
     "metadata": {},
     "output_type": "execute_result"
    }
   ],
   "source": [
    "pd.DataFrame({\"pagerank\": df_euCap_survey_gcm.pagerank, \"degree\": df_euCap_survey_gcm.degree})"
   ]
  },
  {
   "cell_type": "code",
   "execution_count": 31,
   "metadata": {},
   "outputs": [
    {
     "name": "stdout",
     "output_type": "stream",
     "text": [
      "Dataframe merged with shape: (10000, 5)\n",
      "============================\n"
     ]
    },
    {
     "data": {
      "text/html": [
       "<div>\n",
       "<style scoped>\n",
       "    .dataframe tbody tr th:only-of-type {\n",
       "        vertical-align: middle;\n",
       "    }\n",
       "\n",
       "    .dataframe tbody tr th {\n",
       "        vertical-align: top;\n",
       "    }\n",
       "\n",
       "    .dataframe thead th {\n",
       "        text-align: right;\n",
       "    }\n",
       "</style>\n",
       "<table border=\"1\" class=\"dataframe\">\n",
       "  <thead>\n",
       "    <tr style=\"text-align: right;\">\n",
       "      <th></th>\n",
       "      <th>resource</th>\n",
       "      <th>name</th>\n",
       "      <th>degree</th>\n",
       "      <th>eigenvector</th>\n",
       "      <th>pagerank</th>\n",
       "    </tr>\n",
       "  </thead>\n",
       "  <tbody>\n",
       "    <tr>\n",
       "      <th>0</th>\n",
       "      <td>http://dbpedia.org/resource/5_Men_and_a_Limo</td>\n",
       "      <td>5 Men and a Limo</td>\n",
       "      <td>-0.369462</td>\n",
       "      <td>-0.374394</td>\n",
       "      <td>0.239638</td>\n",
       "    </tr>\n",
       "    <tr>\n",
       "      <th>1</th>\n",
       "      <td>http://dbpedia.org/resource/A_Flintstones_Chri...</td>\n",
       "      <td>A Flintstones Christmas Carol</td>\n",
       "      <td>2.769618</td>\n",
       "      <td>-0.370300</td>\n",
       "      <td>1.546479</td>\n",
       "    </tr>\n",
       "    <tr>\n",
       "      <th>2</th>\n",
       "      <td>http://dbpedia.org/resource/A_Friend_to_Die_For</td>\n",
       "      <td>A Friend to Die For</td>\n",
       "      <td>0.676898</td>\n",
       "      <td>-0.367879</td>\n",
       "      <td>0.670706</td>\n",
       "    </tr>\n",
       "    <tr>\n",
       "      <th>3</th>\n",
       "      <td>http://dbpedia.org/resource/A_Streetcar_Named_...</td>\n",
       "      <td>A Streetcar Named Desire (1995 film)</td>\n",
       "      <td>0.467626</td>\n",
       "      <td>-0.374741</td>\n",
       "      <td>-0.001015</td>\n",
       "    </tr>\n",
       "    <tr>\n",
       "      <th>4</th>\n",
       "      <td>http://dbpedia.org/resource/Absolute_Giganten</td>\n",
       "      <td>Absolute Giganten</td>\n",
       "      <td>-0.578734</td>\n",
       "      <td>-0.368776</td>\n",
       "      <td>-0.591926</td>\n",
       "    </tr>\n",
       "  </tbody>\n",
       "</table>\n",
       "</div>"
      ],
      "text/plain": [
       "                                            resource  \\\n",
       "0       http://dbpedia.org/resource/5_Men_and_a_Limo   \n",
       "1  http://dbpedia.org/resource/A_Flintstones_Chri...   \n",
       "2    http://dbpedia.org/resource/A_Friend_to_Die_For   \n",
       "3  http://dbpedia.org/resource/A_Streetcar_Named_...   \n",
       "4      http://dbpedia.org/resource/Absolute_Giganten   \n",
       "\n",
       "                                   name    degree  eigenvector  pagerank  \n",
       "0                      5 Men and a Limo -0.369462    -0.374394  0.239638  \n",
       "1         A Flintstones Christmas Carol  2.769618    -0.370300  1.546479  \n",
       "2                   A Friend to Die For  0.676898    -0.367879  0.670706  \n",
       "3  A Streetcar Named Desire (1995 film)  0.467626    -0.374741 -0.001015  \n",
       "4                     Absolute Giganten -0.578734    -0.368776 -0.591926  "
      ]
     },
     "execution_count": 31,
     "metadata": {},
     "output_type": "execute_result"
    }
   ],
   "source": [
    "film90_resultNorm = catMergerNorm(df_film90, df_ig_gcm)\n",
    "\n",
    "film90_resultNorm.head()"
   ]
  },
  {
   "cell_type": "code",
   "execution_count": 62,
   "metadata": {},
   "outputs": [
    {
     "data": {
      "text/plain": [
       "Text(0.5, 1.0, 'KDE plot for 90s films')"
      ]
     },
     "execution_count": 62,
     "metadata": {},
     "output_type": "execute_result"
    },
    {
     "data": {
      "image/png": "[encoded data removed]",
      "text/plain": [
       "<Figure size 432x288 with 1 Axes>"
      ]
     },
     "metadata": {
      "needs_background": "light"
     },
     "output_type": "display_data"
    }
   ],
   "source": [
    "sns.kdeplot(film90_resultNorm.degree, bw_adjust=.5, fill=True)\n",
    "sns.kdeplot(film90_resultNorm.eigenvector, bw_adjust=.5, fill=True)\n",
    "sns.kdeplot(film90_resultNorm.pagerank, bw_adjust=.5, fill=True)\n",
    "plt.xlabel(\"Film 90\", size=15)\n",
    "plt.legend(title='GCMs', loc='upper right', labels=['degree', 'eigenvector', 'pagerank'])\n",
    "#plt.xticks(rotation=90)\n",
    "#plt.ylabel(\"Mentions in Survey\", size=15)\n",
    "plt.title(\"KDE plot for 90s films\", size=18)\n",
    "#plt.savefig(\"../plots/plots_potus/potus_barplot_SV_asc.png\", bbox_inches=\"tight\")"
   ]
  },
  {
   "cell_type": "code",
   "execution_count": 57,
   "metadata": {},
   "outputs": [],
   "source": [
    "# https://seaborn.pydata.org/generated/seaborn.kdeplot.html\n",
    "\n",
    "def kdeplots(data_frame, plot_name):\n",
    "    df_plots = data_frame.copy()\n",
    "    df_name = plot_name\n",
    "    sns.kdeplot(df_plots.degree, bw_adjust=.25)\n",
    "    sns.kdeplot(df_plots.eigenvector, bw_adjust=.25)\n",
    "    sns.kdeplot(df_plots.pagerank, bw_adjust=.25)\n",
    "    plt.legend(title='GCMs', loc='upper right', labels=['degree', 'eigenvector', 'pagerank'])\n",
    "    plt.title(\"KDE plot for {}\".format(df_name), size=18)"
   ]
  },
  {
   "cell_type": "code",
   "execution_count": 58,
   "metadata": {},
   "outputs": [
    {
     "name": "stdout",
     "output_type": "stream",
     "text": [
      "Dataframe merged with shape: (20, 5)\n",
      "============================\n"
     ]
    },
    {
     "data": {
      "image/png": "[encoded data removed]",
      "text/plain": [
       "<Figure size 432x288 with 1 Axes>"
      ]
     },
     "metadata": {
      "needs_background": "light"
     },
     "output_type": "display_data"
    }
   ],
   "source": [
    "continents_resultNorm = catMergerNorm(df_continent, df_ig_gcm)\n",
    "\n",
    "kdeplots(continents_resultNorm, 'Continents')"
   ]
  },
  {
   "cell_type": "code",
   "execution_count": 61,
   "metadata": {},
   "outputs": [
    {
     "name": "stdout",
     "output_type": "stream",
     "text": [
      "Dataframe merged with shape: (10000, 5)\n",
      "============================\n"
     ]
    },
    {
     "data": {
      "image/png": "[encoded data removed]",
      "text/plain": [
       "<Figure size 432x288 with 1 Axes>"
      ]
     },
     "metadata": {
      "needs_background": "light"
     },
     "output_type": "display_data"
    }
   ],
   "source": [
    "birds_resultNorm = catMergerNorm(df_bird, df_ig_gcm)\n",
    "\n",
    "kdeplots(birds_resultNorm, 'Birds')"
   ]
  },
  {
   "cell_type": "code",
   "execution_count": 60,
   "metadata": {},
   "outputs": [
    {
     "name": "stdout",
     "output_type": "stream",
     "text": [
      "Dataframe merged with shape: (48, 5)\n",
      "============================\n"
     ]
    },
    {
     "data": {
      "image/png": "[encoded data removed]",
      "text/plain": [
       "<Figure size 432x288 with 1 Axes>"
      ]
     },
     "metadata": {
      "needs_background": "light"
     },
     "output_type": "display_data"
    }
   ],
   "source": [
    "potus_resultNorm = catMergerNorm(df_potus, df_ig_gcm)\n",
    "\n",
    "kdeplots(potus_resultNorm, 'Potus')"
   ]
  },
  {
   "cell_type": "code",
   "execution_count": 59,
   "metadata": {},
   "outputs": [
    {
     "name": "stdout",
     "output_type": "stream",
     "text": [
      "Dataframe merged with shape: (60, 5)\n",
      "============================\n"
     ]
    },
    {
     "data": {
      "image/png": "[encoded data removed]",
      "text/plain": [
       "<Figure size 432x288 with 1 Axes>"
      ]
     },
     "metadata": {
      "needs_background": "light"
     },
     "output_type": "display_data"
    }
   ],
   "source": [
    "asCou_resultNorm = catMergerNorm(df_asCou, df_ig_gcm)\n",
    "\n",
    "kdeplots(asCou_resultNorm, 'Asian countries')"
   ]
  }
 ],
 "metadata": {
  "kernelspec": {
   "display_name": "Python 3",
   "language": "python",
   "name": "python3"
  },
  "language_info": {
   "codemirror_mode": {
    "name": "ipython",
    "version": 3
   },
   "file_extension": ".py",
   "mimetype": "text/x-python",
   "name": "python",
   "nbconvert_exporter": "python",
   "pygments_lexer": "ipython3",
   "version": "3.7.6"
  }
 },
 "nbformat": 4,
 "nbformat_minor": 4
}
