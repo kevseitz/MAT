{
 "cells": [
  {
   "cell_type": "markdown",
   "metadata": {},
   "source": [
    "# Ordinal Regression"
   ]
  },
  {
   "cell_type": "code",
   "execution_count": 1,
   "metadata": {},
   "outputs": [
    {
     "name": "stdout",
     "output_type": "stream",
     "text": [
      "------------\n",
      "Python 3.7.6\n",
      "Pandas 1.3.4\n",
      "Numpy 1.18.1\n",
      "------------\n",
      "All packages loaded and ready to roll :-)\n"
     ]
    }
   ],
   "source": [
    "# Importing packages\n",
    "import pandas as pd\n",
    "#from SPARQLWrapper import SPARQLWrapper, JSON, N3\n",
    "#import lxml\n",
    "import numpy as np\n",
    "import matplotlib.pyplot as plt\n",
    "#import seaborn as sns\n",
    "#import networkx as nx\n",
    "#from networkx import Graph as NXGraph\n",
    "#from rdflib import Graph as RDFGraph\n",
    "#from rdflib.extras.external_graph_libs import rdflib_to_networkx_graph\n",
    "#import statistics\n",
    "#import collections\n",
    "from scipy import stats\n",
    "from scipy.stats import kstest\n",
    "# https://www.statology.org/normality-test-python/\n",
    "\n",
    "#from urllib import parse\n",
    "from sklearn import linear_model\n",
    "#from sklearn.preprocessing import StandardScaler\n",
    "from sklearn import preprocessing\n",
    "import statsmodels.api as sm\n",
    "from statsmodels.miscmodels.ordinal_model import OrderedModel\n",
    "\n",
    "import mlnotify \n",
    "# https://github.com/aporia-ai/mlnotify\n",
    "# Use %%notify at beginning of cell\n",
    "\n",
    "import os.path, time\n",
    "# Use %%time at beginning of cell\n",
    "\n",
    "print('------------')\n",
    "!python --version\n",
    "print(\"Pandas \" + pd.__version__)\n",
    "print(\"Numpy \" + np.__version__)\n",
    "#print(\"Seaborn \" + sns.__version__)\n",
    "#print(\"Networkx \" + nx.__version__)\n",
    "print('------------')\n",
    "print(\"All packages loaded and ready to roll :-)\")"
   ]
  },
  {
   "cell_type": "code",
   "execution_count": 4,
   "metadata": {},
   "outputs": [
    {
     "data": {
      "text/html": [
       "<div>\n",
       "<style scoped>\n",
       "    .dataframe tbody tr th:only-of-type {\n",
       "        vertical-align: middle;\n",
       "    }\n",
       "\n",
       "    .dataframe tbody tr th {\n",
       "        vertical-align: top;\n",
       "    }\n",
       "\n",
       "    .dataframe thead th {\n",
       "        text-align: right;\n",
       "    }\n",
       "</style>\n",
       "<table border=\"1\" class=\"dataframe\">\n",
       "  <thead>\n",
       "    <tr style=\"text-align: right;\">\n",
       "      <th></th>\n",
       "      <th>resource</th>\n",
       "      <th>degree</th>\n",
       "      <th>eigenvector</th>\n",
       "      <th>pagerank</th>\n",
       "    </tr>\n",
       "  </thead>\n",
       "  <tbody>\n",
       "    <tr>\n",
       "      <th>0</th>\n",
       "      <td>http://dbpedia.org/resource/Billy_Coggins__Car...</td>\n",
       "      <td>3</td>\n",
       "      <td>7.845722e-04</td>\n",
       "      <td>5.936257e-08</td>\n",
       "    </tr>\n",
       "    <tr>\n",
       "      <th>1</th>\n",
       "      <td>http://dbpedia.org/ontology/CareerStation</td>\n",
       "      <td>1624880</td>\n",
       "      <td>1.000000e+00</td>\n",
       "      <td>2.791082e-02</td>\n",
       "    </tr>\n",
       "    <tr>\n",
       "      <th>2</th>\n",
       "      <td>http://dbpedia.org/resource/News_Patrol__A2Z_N...</td>\n",
       "      <td>9</td>\n",
       "      <td>7.198654e-11</td>\n",
       "      <td>1.150764e-07</td>\n",
       "    </tr>\n",
       "    <tr>\n",
       "      <th>3</th>\n",
       "      <td>http://dbpedia.org/resource/ZOE_Broadcasting_N...</td>\n",
       "      <td>20</td>\n",
       "      <td>9.183437e-10</td>\n",
       "      <td>2.792414e-07</td>\n",
       "    </tr>\n",
       "    <tr>\n",
       "      <th>4</th>\n",
       "      <td>http://dbpedia.org/resource/Yu_Yongfu</td>\n",
       "      <td>6</td>\n",
       "      <td>2.790954e-09</td>\n",
       "      <td>1.047756e-07</td>\n",
       "    </tr>\n",
       "  </tbody>\n",
       "</table>\n",
       "</div>"
      ],
      "text/plain": [
       "                                            resource   degree   eigenvector  \\\n",
       "0  http://dbpedia.org/resource/Billy_Coggins__Car...        3  7.845722e-04   \n",
       "1          http://dbpedia.org/ontology/CareerStation  1624880  1.000000e+00   \n",
       "2  http://dbpedia.org/resource/News_Patrol__A2Z_N...        9  7.198654e-11   \n",
       "3  http://dbpedia.org/resource/ZOE_Broadcasting_N...       20  9.183437e-10   \n",
       "4              http://dbpedia.org/resource/Yu_Yongfu        6  2.790954e-09   \n",
       "\n",
       "       pagerank  \n",
       "0  5.936257e-08  \n",
       "1  2.791082e-02  \n",
       "2  1.150764e-07  \n",
       "3  2.792414e-07  \n",
       "4  1.047756e-07  "
      ]
     },
     "execution_count": 4,
     "metadata": {},
     "output_type": "execute_result"
    }
   ],
   "source": [
    "# Load GCM data\n",
    "\n",
    "# NetworkX\n",
    "#df_gcm = pd.read_csv('../data/gcm_computed.nosync/nx-gcm.csv')\n",
    "\n",
    "# iGraph\n",
    "df_ig_gcm = pd.read_csv('../data/gcm_computed/ig-gcm.csv')\n",
    "\n",
    "df_ig_gcm.head()"
   ]
  },
  {
   "cell_type": "code",
   "execution_count": 5,
   "metadata": {},
   "outputs": [
    {
     "name": "stdout",
     "output_type": "stream",
     "text": [
      "Data types:\n",
      "resource        object\n",
      "degree           int64\n",
      "eigenvector    float64\n",
      "pagerank       float64\n",
      "dtype: object\n",
      "----------------------\n",
      "Memory usage:\n",
      "Index                128\n",
      "resource       964958363\n",
      "degree          65946664\n",
      "eigenvector     65946664\n",
      "pagerank        65946664\n",
      "dtype: int64\n",
      "------------------------\n",
      "Dataframe shape is (8243333, 4)\n"
     ]
    }
   ],
   "source": [
    "print(\"Data types:\")\n",
    "print(df_ig_gcm.dtypes)\n",
    "print('----------------------')\n",
    "print(\"Memory usage:\")\n",
    "print(df_ig_gcm.memory_usage(deep=True))\n",
    "print('------------------------')\n",
    "print(\"Dataframe shape is {}\".format(df_ig_gcm.shape))"
   ]
  },
  {
   "cell_type": "code",
   "execution_count": 6,
   "metadata": {},
   "outputs": [],
   "source": [
    "# Load pre-queried (via queried web-interface) DBpedia categories\n",
    "# https://dbpedia.org/sparql/\n",
    "\n",
    "# 90s films from the aggregated Categories: 1990_films, 1991_films, 1992_films, ...\n",
    "df_film90 = pd.read_csv(\"../data/sparql_cat_queries/sparql_90film.csv\")\n",
    "df_film90.rename(columns={\"film90\": \"resource\"}, inplace=True) #rename column to match PageRank dataframe\n",
    "\n",
    "# actors from the \"Occupation\": \"Actor\"@en\n",
    "df_actor = pd.read_csv(\"../data/sparql_cat_queries/sparql_actor.csv\")\n",
    "df_actor.rename(columns={\"actor\": \"resource\"}, inplace=True)\n",
    "\n",
    "# Music Genre from the \"Type\": \"dbo:MusicGenre\"\n",
    "df_musicGenre = pd.read_csv(\"../data/sparql_cat_queries/sparql_musicGenre.csv\")\n",
    "df_musicGenre.rename(columns={\"mGenre\": \"resource\"}, inplace=True)\n",
    "\n",
    "# Books from the \"Type\":\"dbo:book\"\n",
    "df_book = pd.read_csv(\"../data/sparql_cat_queries/sparql_book.csv\")\n",
    "df_book.rename(columns={\"book\": \"resource\"}, inplace=True)\n",
    "\n",
    "# Book authors from the \"Type\": author UNION book dbo:author\n",
    "df_bookAut = pd.read_csv(\"../data/sparql_cat_queries/sparql_bookAuthor.csv\")\n",
    "df_bookAut.rename(columns={\"author\": \"resource\"}, inplace=True)\n",
    "\n",
    "# Politicians from the \"Type\": Person/Politician\n",
    "df_pol = pd.read_csv(\"../data/sparql_cat_queries/sparql_politician.csv\")\n",
    "df_pol.rename(columns={\"pol\": \"resource\"}, inplace=True)\n",
    "\n",
    "# POTUS from the \"Category\": Presidents_of_the_United_States\n",
    "df_potus = pd.read_csv(\"../data/sparql_cat_queries/sparql_potus.csv\")\n",
    "df_potus.rename(columns={\"potus\": \"resource\"}, inplace=True)\n",
    "\n",
    "# Cities from the \"Category\": \"dbo:City\"\n",
    "df_city = pd.read_csv(\"../data/sparql_cat_queries/sparql_city.csv\")\n",
    "df_city.rename(columns={\"city\": \"resource\"}, inplace=True)\n",
    "\n",
    "# Lakes from the \"Category\": \"dbo:Lake\"\n",
    "df_lake = pd.read_csv(\"../data/sparql_cat_queries/sparql_lake.csv\")\n",
    "df_lake.rename(columns={\"lake\": \"resource\"}, inplace=True)\n",
    "\n",
    "# Mountains from the \"Category\": \"dbo:Mountain\"\n",
    "df_mountain = pd.read_csv(\"../data/sparql_cat_queries/sparql_mountain.csv\")\n",
    "df_mountain.rename(columns={\"mount\": \"resource\"}, inplace=True)\n",
    "\n",
    "# EU capitals from the \"Category\": Capitals_in_Europe\n",
    "df_euCap = pd.read_csv(\"../data/sparql_cat_queries/sparql_euCap.csv\")\n",
    "df_euCap.rename(columns={\"euCap\": \"resource\"}, inplace=True)\n",
    "\n",
    "# EU countries from the \"Category\": Countries_in_Europe\n",
    "df_euCou = pd.read_csv(\"../data/sparql_cat_queries/sparql_euCountry.csv\")\n",
    "df_euCou.rename(columns={\"euCountry\": \"resource\"}, inplace=True)\n",
    "\n",
    "# Asian countries from the \"Category\": \"dbc:Countries_in_Asia\", \"dbc:East_Asian_countries\" and \"dbc:Central_Asian_countries\"\n",
    "df_asCou = pd.read_csv(\"../data/sparql_cat_queries/sparql_asCountry.csv\")\n",
    "df_asCou.rename(columns={\"asCountry\": \"resource\"}, inplace=True)\n",
    "\n",
    "# Continents from the \"Category\": \"dbo:Continents\"\n",
    "df_continent = pd.read_csv(\"../data/sparql_cat_queries/sparql_continent.csv\")\n",
    "df_continent.rename(columns={\"conti\": \"resource\"}, inplace=True)\n",
    "\n",
    "# Birds from the \"Class\": \"dbr:Bird\"\n",
    "df_bird = pd.read_csv(\"../data/sparql_cat_queries/sparql_bird.csv\")\n",
    "df_bird.rename(columns={\"bird\": \"resource\"}, inplace=True)\n",
    "\n",
    "# African animals from the \"Category\": \"dbc:Vertebrates_of_Africa\"\n",
    "df_africanAnimal = pd.read_csv(\"../data/sparql_cat_queries/sparql_africanAnimal.csv\")\n",
    "df_africanAnimal.rename(columns={\"afrAnimal\": \"resource\"}, inplace=True)\n",
    "\n",
    "# Furniture from the \"Category\": \"dbc:Furniture\"\n",
    "df_furniture = pd.read_csv(\"../data/sparql_cat_queries/sparql_furniture.csv\")\n",
    "df_furniture.rename(columns={\"fur\": \"resource\"}, inplace=True)\n",
    "\n",
    "# Furniture from the \"Category\": \"dbc:Vegetables\"\n",
    "df_vegetable = pd.read_csv(\"../data/sparql_cat_queries/sparql_vegetable.csv\")\n",
    "df_vegetable.rename(columns={\"veg\": \"resource\"}, inplace=True)\n",
    "\n",
    "# Types of fast food from the \"Category\": \"dbc:Fast_food\"\n",
    "df_fastFood = pd.read_csv(\"../data/sparql_cat_queries/sparql_fastfood.csv\")\n",
    "df_fastFood.rename(columns={\"fastFood\": \"resource\"}, inplace=True)\n",
    "\n",
    "# European Landmark/Sight from multiple \"Category\": \"dbc:Landmarks_in_x\" with x being a country from europe\n",
    "df_euSight = pd.read_csv(\"../data/sparql_cat_queries/sparql_euLandmark.csv\")\n",
    "df_euSight.rename(columns={\"euroSight\": \"resource\"}, inplace=True)\n",
    "\n",
    "# DAX company from the \"Type\": \"dbo:Company\" and \"dbp:tradedAs\" -> \"dbr:DAX\"\n",
    "df_daxCo = pd.read_csv(\"../data/sparql_cat_queries/sparql_daxCompany.csv\")\n",
    "df_daxCo.rename(columns={\"DAXco\": \"resource\"}, inplace=True)\n",
    "\n",
    "# US company from ?\n",
    "df_usCo = pd.read_csv(\"../data/sparql_cat_queries/sparql_usCompany.csv\")\n",
    "df_usCo.rename(columns={\"usCo\": \"resource\"}, inplace=True)\n",
    "\n",
    "# US tech company from the \"Category\": \"dbc:Technology_companies_of_the_United_States\"\n",
    "df_usTechCo = pd.read_csv(\"../data/sparql_cat_queries/sparql_usTechCompany.csv\")\n",
    "df_usTechCo.rename(columns={\"usTech\": \"resource\"}, inplace=True)"
   ]
  },
  {
   "cell_type": "code",
   "execution_count": 7,
   "metadata": {},
   "outputs": [],
   "source": [
    "# Function for standardized scaling and normalisation of GCM values\n",
    "# https://scikit-learn.org/stable/modules/generated/sklearn.preprocessing.StandardScaler.html\n",
    "\n",
    "def scaler(data_frame):\n",
    "    helper_df = data_frame.copy()\n",
    "    to_scale = StandardScaler()\n",
    "\n",
    "    helper_df[['degree', 'eigenvector', 'pagerank']] = to_scale.fit_transform(helper_df[['degree', 'eigenvector', 'pagerank']])\n",
    "    return helper_df\n",
    "\n",
    "#df_ig_gcm = scaler(df_ig_gcm)"
   ]
  },
  {
   "cell_type": "code",
   "execution_count": 8,
   "metadata": {},
   "outputs": [],
   "source": [
    "# Function for merging the sparql category with GCM data\n",
    "\n",
    "# Merge the queried category df to the GCM metrics based on <resource> with a left outer join\n",
    "  # (Keep every row in the category dataframe -> missing values get NaN)\n",
    "  # Then, normalize GCM metrics\n",
    "\n",
    "def catMerger(sparql_data, gcm_data):\n",
    "    df_sparql = sparql_data.copy()\n",
    "    df_gcm = gcm_data.copy()\n",
    "    helper_df = pd.merge(df_sparql,\n",
    "                #df_gcm[['resource','degree','pagerank']],\n",
    "                df_gcm[['resource','degree', 'eigenvector', 'pagerank']],\n",
    "                on='resource', \n",
    "                how='left')\n",
    "    \n",
    "    # scale and normalize the gcm metrics (same as scaler function)\n",
    "    to_scale = preprocessing.StandardScaler()\n",
    "    helper_df[['degree', 'eigenvector', 'pagerank']] = to_scale.fit_transform(helper_df[['degree', 'eigenvector', 'pagerank']])\n",
    "    \n",
    "    print(\"Dataframe merged with shape: {}\".format(helper_df.shape))\n",
    "    print('============================')\n",
    "\n",
    "    #print(helper_df.shape[0] - helper_df.dropna().shape[0]) #return amount of rows containing NaN values\n",
    "    \n",
    "    return helper_df"
   ]
  },
  {
   "cell_type": "code",
   "execution_count": 9,
   "metadata": {},
   "outputs": [],
   "source": [
    "# ALTERNATIVE function for merging the survey category data with the gcm category data\n",
    "\n",
    "# Merge the survey category df to the GCM metrics per category based on <resource> with a left outer join\n",
    "  # (Keep every row in the category dataframe -> missing values get NaN)\n",
    "\n",
    "def ALTgcmSurfer(survey_data, cat_gcm_data):\n",
    "    df_survey = survey_data.copy()\n",
    "    df_cat_gcm = cat_gcm_data.copy()\n",
    "    df_survey.rename(columns={\"uri\": \"resource\"}, inplace=True) #rename column to match GCM data frame\n",
    "    \n",
    "    # Count how often an answer was given in the survey and save into new data frame\n",
    "    survey_count = df_survey['resource'].value_counts(normalize=True) #normalize values\n",
    "    df_survey_counted = pd.DataFrame({'resource':survey_count.index, 'amount':survey_count.values})\n",
    "\n",
    "    df_survey_gcm = pd.merge(df_survey_counted,\n",
    "                    df_cat_gcm[['resource','name', 'degree','eigenvector','pagerank']],\n",
    "                    #df_cat_gcm[['resource', 'degree','eigenvector','pagerank']],\n",
    "                    on='resource', \n",
    "                    how='left')\n",
    "    \n",
    "    nan_rows = df_survey_gcm.shape[0] - df_survey_gcm.dropna().shape[0]\n",
    "    \n",
    "    print(\"Rows with NaN values dropped: {}\".format(nan_rows) + \" from {}\".format(df_survey_gcm.shape[0]) + \" => {}% \".format(round((nan_rows/df_survey_gcm.shape[0])*100, 2))) #return amount of rows containing NaN values\n",
    "    df_survey_gcm = df_survey_gcm.dropna()\n",
    "    print(\"Dataframe merged with shape: {}\".format(df_survey_gcm.shape))\n",
    "    \n",
    "    return df_survey_gcm"
   ]
  },
  {
   "cell_type": "code",
   "execution_count": 10,
   "metadata": {},
   "outputs": [],
   "source": [
    "# Function for merging the survey category data with the gcm category data\n",
    "\n",
    "# Merge the survey category df to the GCM metrics per category based on <resource> with a left outer join\n",
    "  # (Keep every row in the category dataframe -> missing values get NaN)\n",
    "  # Drop NaN rows, then -> normalize survey results\n",
    "\n",
    "def gcmSurfer(survey_data, cat_gcm_data):\n",
    "    df_survey = survey_data.copy()\n",
    "    df_cat_gcm = cat_gcm_data.copy()\n",
    "    df_survey.rename(columns={\"uri\": \"resource\"}, inplace=True) #rename column to match GCM data frame\n",
    "        \n",
    "    # Count how often an answer was given in the survey and save into new data frame\n",
    "    survey_count = df_survey['resource'].value_counts() #normalize values\n",
    "    df_survey_counted = pd.DataFrame({'resource':survey_count.index, 'amount':survey_count.values})\n",
    "\n",
    "    df_survey_gcm = pd.merge(df_survey_counted,\n",
    "                    df_cat_gcm[['resource','name', 'degree','eigenvector','pagerank']],\n",
    "                    #df_cat_gcm[['resource', 'degree','eigenvector','pagerank']],\n",
    "                    on='resource', \n",
    "                    how='left')\n",
    "    \n",
    "    # Drop rows that were not matched with the category\n",
    "    nan_rows = df_survey_gcm.shape[0] - df_survey_gcm.dropna().shape[0]    \n",
    "    print(\"Rows with NaN values dropped: {}\".format(nan_rows) + \" from {}\".format(df_survey_gcm.shape[0]) + \" => {}% \".format(round((nan_rows/df_survey_gcm.shape[0])*100, 2))) #return amount of rows containing NaN values\n",
    "    df_survey_gcm = df_survey_gcm.dropna()\n",
    "    \n",
    "    # Count how often an answer was given in the survey and save into new data frame\n",
    "    #df_survey_gcm['survey_mentions'] = df_survey_gcm['resource'].value_counts(normalize=True) #normalize values\n",
    "    #df_survey_counted = pd.DataFrame({'resource':survey_count.index, 'amount':survey_count.values})\n",
    "    \n",
    "    # scale and normalize the survey data\n",
    "    min_max_scaler = preprocessing.MinMaxScaler()\n",
    "    df_survey_gcm[['amount']] = min_max_scaler.fit_transform(df_survey_gcm[['amount']])\n",
    "    \n",
    "    print(\"Dataframe merged with shape: {}\".format(df_survey_gcm.shape))\n",
    "    return df_survey_gcm"
   ]
  },
  {
   "cell_type": "code",
   "execution_count": 11,
   "metadata": {},
   "outputs": [],
   "source": [
    "# Function for creating \"Camps\" inside a category that is later used for ordinal regression\n",
    "\n",
    "# Takes two parameter: dataframe, num_splits\n",
    "  # dataframe = input data frame containing URI, amount (survey mentions), GCMs (degree, eigenvector, pagerank)\n",
    "  # num_splits = number for the camp size, e.g. 3 => three camps with 1 = top 33%; 2 = mid 33%; 3 = low 33%\n",
    "\n",
    "def camper(data_frame, num_splits):\n",
    "    helper_df = data_frame.copy()\n",
    "    split_v = [int(len(helper_df.index)/num_splits * i) for i in np.arange(num_splits)]\n",
    "    \n",
    "    for i in helper_df.index:\n",
    "        split_smaller = [split <= i for split in split_v]\n",
    "        camp = np.sum(split_smaller)\n",
    "        \n",
    "        #return dataframe\n",
    "        helper_df.at[i,'camp'] = camp       \n",
    "    return helper_df"
   ]
  },
  {
   "cell_type": "code",
   "execution_count": 12,
   "metadata": {},
   "outputs": [],
   "source": [
    "# Function for ordinal regression\n",
    "  # df_survey_gcm = input data frame \n",
    "  # list_gcm = give a list with the variables that should be used for ordinal regression\n",
    "    # examples: ['degree', 'eigenvector', 'pagerank'] or ['eigenvector', 'pagerank'] or ['pagerank']\n",
    "    \n",
    "    \n",
    "def ordinalReg(df_survey_gcm, list_gcm, num_splits):\n",
    "    helper_df = df_survey_gcm.copy()\n",
    "    camped_df = camper(helper_df, num_splits) #calls camper function to create column with camps\n",
    "\n",
    "    mod_prob = OrderedModel(camped_df['camp'],\n",
    "                            camped_df[list_gcm],\n",
    "                            distr='probit')\n",
    "    \n",
    "    print(\"Ordinal Regression:  {}\".format(list_gcm))\n",
    "    print('-------------------------------------')\n",
    "    res_prob = mod_prob.fit(method='bfgs')\n",
    "    return res_prob.summary()"
   ]
  },
  {
   "cell_type": "markdown",
   "metadata": {},
   "source": [
    "## Music genres"
   ]
  },
  {
   "cell_type": "code",
   "execution_count": 13,
   "metadata": {},
   "outputs": [
    {
     "name": "stdout",
     "output_type": "stream",
     "text": [
      "Dataframe merged with shape: (10000, 5)\n",
      "============================\n",
      "Rows with NaN values dropped: 9 from 42 => 21.43% \n",
      "Dataframe merged with shape: (33, 6)\n"
     ]
    }
   ],
   "source": [
    "# Music Genre from the \"Type\": \"dbo:MusicGenre\"\n",
    "\n",
    "mGenre_result = catMerger(df_musicGenre, df_ig_gcm)\n",
    "df_survey_mGenre = pd.read_csv(\"../data/survey_single_cat_files/sv_prep_uri/sv_music_genres_prep.csv\", sep=';')\n",
    "\n",
    "df_survey_mGenre_gcm = gcmSurfer(df_survey_mGenre, mGenre_result)"
   ]
  },
  {
   "cell_type": "code",
   "execution_count": 14,
   "metadata": {},
   "outputs": [
    {
     "name": "stdout",
     "output_type": "stream",
     "text": [
      "Rows with NaN values dropped: 5 from 38 => 13.16% \n",
      "Dataframe merged with shape: (33, 6)\n"
     ]
    }
   ],
   "source": [
    "df_survey_mGenre_impr = pd.read_csv(\"../data/survey_single_cat_files/sv_prep_uri/improved_uri/sv_music_genres_impr.csv\", sep=';')\n",
    "\n",
    "df_survey_mGenre_gcm_impr = gcmSurfer(df_survey_mGenre_impr, mGenre_result)"
   ]
  },
  {
   "cell_type": "code",
   "execution_count": 62,
   "metadata": {},
   "outputs": [
    {
     "name": "stdout",
     "output_type": "stream",
     "text": [
      "Ordinal Regression:  ['degree']\n",
      "-------------------------------------\n",
      "Optimization terminated successfully.\n",
      "         Current function value: 0.935415\n",
      "         Iterations: 10\n",
      "         Function evaluations: 12\n",
      "         Gradient evaluations: 12\n"
     ]
    },
    {
     "data": {
      "text/html": [
       "<table class=\"simpletable\">\n",
       "<caption>OrderedModel Results</caption>\n",
       "<tr>\n",
       "  <th>Dep. Variable:</th>           <td>camp</td>        <th>  Log-Likelihood:    </th> <td> -30.869</td>\n",
       "</tr>\n",
       "<tr>\n",
       "  <th>Model:</th>               <td>OrderedModel</td>    <th>  AIC:               </th> <td>   67.74</td>\n",
       "</tr>\n",
       "<tr>\n",
       "  <th>Method:</th>           <td>Maximum Likelihood</td> <th>  BIC:               </th> <td>   72.23</td>\n",
       "</tr>\n",
       "<tr>\n",
       "  <th>Date:</th>              <td>Tue, 26 Jul 2022</td>  <th>                     </th>     <td> </td>   \n",
       "</tr>\n",
       "<tr>\n",
       "  <th>Time:</th>                  <td>14:23:10</td>      <th>                     </th>     <td> </td>   \n",
       "</tr>\n",
       "<tr>\n",
       "  <th>No. Observations:</th>       <td>    33</td>       <th>                     </th>     <td> </td>   \n",
       "</tr>\n",
       "<tr>\n",
       "  <th>Df Residuals:</th>           <td>    30</td>       <th>                     </th>     <td> </td>   \n",
       "</tr>\n",
       "<tr>\n",
       "  <th>Df Model:</th>               <td>     3</td>       <th>                     </th>     <td> </td>   \n",
       "</tr>\n",
       "</table>\n",
       "<table class=\"simpletable\">\n",
       "<tr>\n",
       "     <td></td>        <th>coef</th>     <th>std err</th>      <th>z</th>      <th>P>|z|</th>  <th>[0.025</th>    <th>0.975]</th>  \n",
       "</tr>\n",
       "<tr>\n",
       "  <th>degree</th>  <td>   -0.1023</td> <td>    0.035</td> <td>   -2.922</td> <td> 0.003</td> <td>   -0.171</td> <td>   -0.034</td>\n",
       "</tr>\n",
       "<tr>\n",
       "  <th>1.0/2.0</th> <td>   -1.1505</td> <td>    0.340</td> <td>   -3.381</td> <td> 0.001</td> <td>   -1.817</td> <td>   -0.484</td>\n",
       "</tr>\n",
       "<tr>\n",
       "  <th>2.0/3.0</th> <td>   -0.0240</td> <td>    0.278</td> <td>   -0.086</td> <td> 0.931</td> <td>   -0.570</td> <td>    0.522</td>\n",
       "</tr>\n",
       "</table>"
      ],
      "text/plain": [
       "<class 'statsmodels.iolib.summary.Summary'>\n",
       "\"\"\"\n",
       "                             OrderedModel Results                             \n",
       "==============================================================================\n",
       "Dep. Variable:                   camp   Log-Likelihood:                -30.869\n",
       "Model:                   OrderedModel   AIC:                             67.74\n",
       "Method:            Maximum Likelihood   BIC:                             72.23\n",
       "Date:                Tue, 26 Jul 2022                                         \n",
       "Time:                        14:23:10                                         \n",
       "No. Observations:                  33                                         \n",
       "Df Residuals:                      30                                         \n",
       "Df Model:                           3                                         \n",
       "==============================================================================\n",
       "                 coef    std err          z      P>|z|      [0.025      0.975]\n",
       "------------------------------------------------------------------------------\n",
       "degree        -0.1023      0.035     -2.922      0.003      -0.171      -0.034\n",
       "1.0/2.0       -1.1505      0.340     -3.381      0.001      -1.817      -0.484\n",
       "2.0/3.0       -0.0240      0.278     -0.086      0.931      -0.570       0.522\n",
       "==============================================================================\n",
       "\"\"\""
      ]
     },
     "execution_count": 62,
     "metadata": {},
     "output_type": "execute_result"
    }
   ],
   "source": [
    "ordinalReg(df_survey_mGenre_gcm_impr, ['degree'], 3)"
   ]
  },
  {
   "cell_type": "code",
   "execution_count": 16,
   "metadata": {},
   "outputs": [
    {
     "name": "stdout",
     "output_type": "stream",
     "text": [
      "Ordinal Regression:  ['eigenvector', 'pagerank']\n",
      "-------------------------------------\n",
      "Optimization terminated successfully.\n",
      "         Current function value: 0.461062\n",
      "         Iterations: 25\n",
      "         Function evaluations: 28\n",
      "         Gradient evaluations: 28\n"
     ]
    },
    {
     "data": {
      "text/html": [
       "<table class=\"simpletable\">\n",
       "<caption>OrderedModel Results</caption>\n",
       "<tr>\n",
       "  <th>Dep. Variable:</th>           <td>camp</td>        <th>  Log-Likelihood:    </th> <td> -15.215</td>\n",
       "</tr>\n",
       "<tr>\n",
       "  <th>Model:</th>               <td>OrderedModel</td>    <th>  AIC:               </th> <td>   36.43</td>\n",
       "</tr>\n",
       "<tr>\n",
       "  <th>Method:</th>           <td>Maximum Likelihood</td> <th>  BIC:               </th> <td>   40.92</td>\n",
       "</tr>\n",
       "<tr>\n",
       "  <th>Date:</th>              <td>Fri, 29 Jul 2022</td>  <th>                     </th>     <td> </td>   \n",
       "</tr>\n",
       "<tr>\n",
       "  <th>Time:</th>                  <td>16:33:15</td>      <th>                     </th>     <td> </td>   \n",
       "</tr>\n",
       "<tr>\n",
       "  <th>No. Observations:</th>       <td>    33</td>       <th>                     </th>     <td> </td>   \n",
       "</tr>\n",
       "<tr>\n",
       "  <th>Df Residuals:</th>           <td>    30</td>       <th>                     </th>     <td> </td>   \n",
       "</tr>\n",
       "<tr>\n",
       "  <th>Df Model:</th>               <td>     3</td>       <th>                     </th>     <td> </td>   \n",
       "</tr>\n",
       "</table>\n",
       "<table class=\"simpletable\">\n",
       "<tr>\n",
       "       <td></td>          <th>coef</th>     <th>std err</th>      <th>z</th>      <th>P>|z|</th>  <th>[0.025</th>    <th>0.975]</th>  \n",
       "</tr>\n",
       "<tr>\n",
       "  <th>eigenvector</th> <td>  -17.7574</td> <td>   19.045</td> <td>   -0.932</td> <td> 0.351</td> <td>  -55.086</td> <td>   19.571</td>\n",
       "</tr>\n",
       "<tr>\n",
       "  <th>pagerank</th>    <td>   -0.1840</td> <td>    0.080</td> <td>   -2.309</td> <td> 0.021</td> <td>   -0.340</td> <td>   -0.028</td>\n",
       "</tr>\n",
       "<tr>\n",
       "  <th>1.0/2.0</th>     <td>   -0.5754</td> <td>    0.620</td> <td>   -0.927</td> <td> 0.354</td> <td>   -1.791</td> <td>    0.641</td>\n",
       "</tr>\n",
       "</table>"
      ],
      "text/plain": [
       "<class 'statsmodels.iolib.summary.Summary'>\n",
       "\"\"\"\n",
       "                             OrderedModel Results                             \n",
       "==============================================================================\n",
       "Dep. Variable:                   camp   Log-Likelihood:                -15.215\n",
       "Model:                   OrderedModel   AIC:                             36.43\n",
       "Method:            Maximum Likelihood   BIC:                             40.92\n",
       "Date:                Fri, 29 Jul 2022                                         \n",
       "Time:                        16:33:15                                         \n",
       "No. Observations:                  33                                         \n",
       "Df Residuals:                      30                                         \n",
       "Df Model:                           3                                         \n",
       "===============================================================================\n",
       "                  coef    std err          z      P>|z|      [0.025      0.975]\n",
       "-------------------------------------------------------------------------------\n",
       "eigenvector   -17.7574     19.045     -0.932      0.351     -55.086      19.571\n",
       "pagerank       -0.1840      0.080     -2.309      0.021      -0.340      -0.028\n",
       "1.0/2.0        -0.5754      0.620     -0.927      0.354      -1.791       0.641\n",
       "===============================================================================\n",
       "\"\"\""
      ]
     },
     "execution_count": 16,
     "metadata": {},
     "output_type": "execute_result"
    }
   ],
   "source": [
    "ordinalReg(df_survey_mGenre_gcm_impr, ['eigenvector', 'pagerank'], 2)"
   ]
  },
  {
   "cell_type": "code",
   "execution_count": 19,
   "metadata": {},
   "outputs": [
    {
     "name": "stdout",
     "output_type": "stream",
     "text": [
      "Ordinal Regression:  ['pagerank']\n",
      "-------------------------------------\n",
      "Optimization terminated successfully.\n",
      "         Current function value: 0.935621\n",
      "         Iterations: 10\n",
      "         Function evaluations: 12\n",
      "         Gradient evaluations: 12\n"
     ]
    },
    {
     "data": {
      "text/html": [
       "<table class=\"simpletable\">\n",
       "<caption>OrderedModel Results</caption>\n",
       "<tr>\n",
       "  <th>Dep. Variable:</th>           <td>camp</td>        <th>  Log-Likelihood:    </th> <td> -30.875</td>\n",
       "</tr>\n",
       "<tr>\n",
       "  <th>Model:</th>               <td>OrderedModel</td>    <th>  AIC:               </th> <td>   67.75</td>\n",
       "</tr>\n",
       "<tr>\n",
       "  <th>Method:</th>           <td>Maximum Likelihood</td> <th>  BIC:               </th> <td>   72.24</td>\n",
       "</tr>\n",
       "<tr>\n",
       "  <th>Date:</th>              <td>Fri, 29 Jul 2022</td>  <th>                     </th>     <td> </td>   \n",
       "</tr>\n",
       "<tr>\n",
       "  <th>Time:</th>                  <td>16:33:42</td>      <th>                     </th>     <td> </td>   \n",
       "</tr>\n",
       "<tr>\n",
       "  <th>No. Observations:</th>       <td>    33</td>       <th>                     </th>     <td> </td>   \n",
       "</tr>\n",
       "<tr>\n",
       "  <th>Df Residuals:</th>           <td>    30</td>       <th>                     </th>     <td> </td>   \n",
       "</tr>\n",
       "<tr>\n",
       "  <th>Df Model:</th>               <td>     3</td>       <th>                     </th>     <td> </td>   \n",
       "</tr>\n",
       "</table>\n",
       "<table class=\"simpletable\">\n",
       "<tr>\n",
       "      <td></td>        <th>coef</th>     <th>std err</th>      <th>z</th>      <th>P>|z|</th>  <th>[0.025</th>    <th>0.975]</th>  \n",
       "</tr>\n",
       "<tr>\n",
       "  <th>pagerank</th> <td>   -0.1043</td> <td>    0.036</td> <td>   -2.921</td> <td> 0.003</td> <td>   -0.174</td> <td>   -0.034</td>\n",
       "</tr>\n",
       "<tr>\n",
       "  <th>1.0/2.0</th>  <td>   -1.1416</td> <td>    0.339</td> <td>   -3.372</td> <td> 0.001</td> <td>   -1.805</td> <td>   -0.478</td>\n",
       "</tr>\n",
       "<tr>\n",
       "  <th>2.0/3.0</th>  <td>   -0.0228</td> <td>    0.279</td> <td>   -0.082</td> <td> 0.935</td> <td>   -0.569</td> <td>    0.523</td>\n",
       "</tr>\n",
       "</table>"
      ],
      "text/plain": [
       "<class 'statsmodels.iolib.summary.Summary'>\n",
       "\"\"\"\n",
       "                             OrderedModel Results                             \n",
       "==============================================================================\n",
       "Dep. Variable:                   camp   Log-Likelihood:                -30.875\n",
       "Model:                   OrderedModel   AIC:                             67.75\n",
       "Method:            Maximum Likelihood   BIC:                             72.24\n",
       "Date:                Fri, 29 Jul 2022                                         \n",
       "Time:                        16:33:42                                         \n",
       "No. Observations:                  33                                         \n",
       "Df Residuals:                      30                                         \n",
       "Df Model:                           3                                         \n",
       "==============================================================================\n",
       "                 coef    std err          z      P>|z|      [0.025      0.975]\n",
       "------------------------------------------------------------------------------\n",
       "pagerank      -0.1043      0.036     -2.921      0.003      -0.174      -0.034\n",
       "1.0/2.0       -1.1416      0.339     -3.372      0.001      -1.805      -0.478\n",
       "2.0/3.0       -0.0228      0.279     -0.082      0.935      -0.569       0.523\n",
       "==============================================================================\n",
       "\"\"\""
      ]
     },
     "execution_count": 19,
     "metadata": {},
     "output_type": "execute_result"
    }
   ],
   "source": [
    "ordinalReg(df_survey_mGenre_gcm_impr, ['pagerank'], 3)"
   ]
  },
  {
   "cell_type": "markdown",
   "metadata": {},
   "source": [
    "### POTUS"
   ]
  },
  {
   "cell_type": "code",
   "execution_count": 20,
   "metadata": {},
   "outputs": [
    {
     "name": "stdout",
     "output_type": "stream",
     "text": [
      "Dataframe merged with shape: (48, 5)\n",
      "============================\n",
      "Rows with NaN values dropped: 12 from 27 => 44.44% \n",
      "Dataframe merged with shape: (15, 6)\n"
     ]
    }
   ],
   "source": [
    "# POTUS from the \"Category\": Presidents_of_the_United_States\n",
    "\n",
    "potus_result = catMerger(df_potus, df_ig_gcm)\n",
    "df_survey_potus = pd.read_csv(\"../data/survey_single_cat_files/sv_prep_uri/sv_potus_prep.csv\", sep=';')\n",
    "\n",
    "df_survey_potus_gcm = gcmSurfer(df_survey_potus, potus_result)"
   ]
  },
  {
   "cell_type": "code",
   "execution_count": 21,
   "metadata": {},
   "outputs": [
    {
     "name": "stdout",
     "output_type": "stream",
     "text": [
      "Dataframe merged with shape: (48, 5)\n",
      "============================\n",
      "Rows with NaN values dropped: 0 from 19 => 0.0% \n",
      "Dataframe merged with shape: (19, 6)\n"
     ]
    }
   ],
   "source": [
    "# POTUS from the \"Category\": Presidents_of_the_United_States\n",
    "\n",
    "potus_result = catMerger(df_potus, df_ig_gcm)\n",
    "df_survey_potus_impr = pd.read_csv(\"../data/survey_single_cat_files/sv_prep_uri/improved_uri/sv_potus_impr.csv\", sep=';')\n",
    "\n",
    "df_survey_potus_gcm_impr = gcmSurfer(df_survey_potus_impr, potus_result)"
   ]
  },
  {
   "cell_type": "code",
   "execution_count": 22,
   "metadata": {},
   "outputs": [
    {
     "name": "stdout",
     "output_type": "stream",
     "text": [
      "Ordinal Regression:  ['degree']\n",
      "-------------------------------------\n",
      "Optimization terminated successfully.\n",
      "         Current function value: 0.878801\n",
      "         Iterations: 9\n",
      "         Function evaluations: 10\n",
      "         Gradient evaluations: 10\n"
     ]
    },
    {
     "data": {
      "text/html": [
       "<table class=\"simpletable\">\n",
       "<caption>OrderedModel Results</caption>\n",
       "<tr>\n",
       "  <th>Dep. Variable:</th>           <td>camp</td>        <th>  Log-Likelihood:    </th> <td> -16.697</td>\n",
       "</tr>\n",
       "<tr>\n",
       "  <th>Model:</th>               <td>OrderedModel</td>    <th>  AIC:               </th> <td>   39.39</td>\n",
       "</tr>\n",
       "<tr>\n",
       "  <th>Method:</th>           <td>Maximum Likelihood</td> <th>  BIC:               </th> <td>   42.23</td>\n",
       "</tr>\n",
       "<tr>\n",
       "  <th>Date:</th>              <td>Fri, 29 Jul 2022</td>  <th>                     </th>     <td> </td>   \n",
       "</tr>\n",
       "<tr>\n",
       "  <th>Time:</th>                  <td>16:34:25</td>      <th>                     </th>     <td> </td>   \n",
       "</tr>\n",
       "<tr>\n",
       "  <th>No. Observations:</th>       <td>    19</td>       <th>                     </th>     <td> </td>   \n",
       "</tr>\n",
       "<tr>\n",
       "  <th>Df Residuals:</th>           <td>    16</td>       <th>                     </th>     <td> </td>   \n",
       "</tr>\n",
       "<tr>\n",
       "  <th>Df Model:</th>               <td>     3</td>       <th>                     </th>     <td> </td>   \n",
       "</tr>\n",
       "</table>\n",
       "<table class=\"simpletable\">\n",
       "<tr>\n",
       "     <td></td>        <th>coef</th>     <th>std err</th>      <th>z</th>      <th>P>|z|</th>  <th>[0.025</th>    <th>0.975]</th>  \n",
       "</tr>\n",
       "<tr>\n",
       "  <th>degree</th>  <td>   -0.7357</td> <td>    0.296</td> <td>   -2.485</td> <td> 0.013</td> <td>   -1.316</td> <td>   -0.155</td>\n",
       "</tr>\n",
       "<tr>\n",
       "  <th>1.0/2.0</th> <td>   -1.0442</td> <td>    0.391</td> <td>   -2.671</td> <td> 0.008</td> <td>   -1.810</td> <td>   -0.278</td>\n",
       "</tr>\n",
       "<tr>\n",
       "  <th>2.0/3.0</th> <td>    0.0740</td> <td>    0.353</td> <td>    0.209</td> <td> 0.834</td> <td>   -0.618</td> <td>    0.766</td>\n",
       "</tr>\n",
       "</table>"
      ],
      "text/plain": [
       "<class 'statsmodels.iolib.summary.Summary'>\n",
       "\"\"\"\n",
       "                             OrderedModel Results                             \n",
       "==============================================================================\n",
       "Dep. Variable:                   camp   Log-Likelihood:                -16.697\n",
       "Model:                   OrderedModel   AIC:                             39.39\n",
       "Method:            Maximum Likelihood   BIC:                             42.23\n",
       "Date:                Fri, 29 Jul 2022                                         \n",
       "Time:                        16:34:25                                         \n",
       "No. Observations:                  19                                         \n",
       "Df Residuals:                      16                                         \n",
       "Df Model:                           3                                         \n",
       "==============================================================================\n",
       "                 coef    std err          z      P>|z|      [0.025      0.975]\n",
       "------------------------------------------------------------------------------\n",
       "degree        -0.7357      0.296     -2.485      0.013      -1.316      -0.155\n",
       "1.0/2.0       -1.0442      0.391     -2.671      0.008      -1.810      -0.278\n",
       "2.0/3.0        0.0740      0.353      0.209      0.834      -0.618       0.766\n",
       "==============================================================================\n",
       "\"\"\""
      ]
     },
     "execution_count": 22,
     "metadata": {},
     "output_type": "execute_result"
    }
   ],
   "source": [
    "ordinalReg(df_survey_potus_gcm_impr, ['degree'], 3)"
   ]
  },
  {
   "cell_type": "code",
   "execution_count": 23,
   "metadata": {},
   "outputs": [
    {
     "name": "stdout",
     "output_type": "stream",
     "text": [
      "Ordinal Regression:  ['eigenvector']\n",
      "-------------------------------------\n",
      "Optimization terminated successfully.\n",
      "         Current function value: 1.043551\n",
      "         Iterations: 8\n",
      "         Function evaluations: 9\n",
      "         Gradient evaluations: 9\n"
     ]
    },
    {
     "data": {
      "text/html": [
       "<table class=\"simpletable\">\n",
       "<caption>OrderedModel Results</caption>\n",
       "<tr>\n",
       "  <th>Dep. Variable:</th>           <td>camp</td>        <th>  Log-Likelihood:    </th> <td> -19.827</td>\n",
       "</tr>\n",
       "<tr>\n",
       "  <th>Model:</th>               <td>OrderedModel</td>    <th>  AIC:               </th> <td>   45.65</td>\n",
       "</tr>\n",
       "<tr>\n",
       "  <th>Method:</th>           <td>Maximum Likelihood</td> <th>  BIC:               </th> <td>   48.49</td>\n",
       "</tr>\n",
       "<tr>\n",
       "  <th>Date:</th>              <td>Fri, 29 Jul 2022</td>  <th>                     </th>     <td> </td>   \n",
       "</tr>\n",
       "<tr>\n",
       "  <th>Time:</th>                  <td>16:34:26</td>      <th>                     </th>     <td> </td>   \n",
       "</tr>\n",
       "<tr>\n",
       "  <th>No. Observations:</th>       <td>    19</td>       <th>                     </th>     <td> </td>   \n",
       "</tr>\n",
       "<tr>\n",
       "  <th>Df Residuals:</th>           <td>    16</td>       <th>                     </th>     <td> </td>   \n",
       "</tr>\n",
       "<tr>\n",
       "  <th>Df Model:</th>               <td>     3</td>       <th>                     </th>     <td> </td>   \n",
       "</tr>\n",
       "</table>\n",
       "<table class=\"simpletable\">\n",
       "<tr>\n",
       "       <td></td>          <th>coef</th>     <th>std err</th>      <th>z</th>      <th>P>|z|</th>  <th>[0.025</th>    <th>0.975]</th>  \n",
       "</tr>\n",
       "<tr>\n",
       "  <th>eigenvector</th> <td>    0.3597</td> <td>    0.323</td> <td>    1.113</td> <td> 0.266</td> <td>   -0.274</td> <td>    0.993</td>\n",
       "</tr>\n",
       "<tr>\n",
       "  <th>1.0/2.0</th>     <td>   -0.4462</td> <td>    0.307</td> <td>   -1.454</td> <td> 0.146</td> <td>   -1.048</td> <td>    0.155</td>\n",
       "</tr>\n",
       "<tr>\n",
       "  <th>2.0/3.0</th>     <td>   -0.1455</td> <td>    0.355</td> <td>   -0.409</td> <td> 0.682</td> <td>   -0.842</td> <td>    0.551</td>\n",
       "</tr>\n",
       "</table>"
      ],
      "text/plain": [
       "<class 'statsmodels.iolib.summary.Summary'>\n",
       "\"\"\"\n",
       "                             OrderedModel Results                             \n",
       "==============================================================================\n",
       "Dep. Variable:                   camp   Log-Likelihood:                -19.827\n",
       "Model:                   OrderedModel   AIC:                             45.65\n",
       "Method:            Maximum Likelihood   BIC:                             48.49\n",
       "Date:                Fri, 29 Jul 2022                                         \n",
       "Time:                        16:34:26                                         \n",
       "No. Observations:                  19                                         \n",
       "Df Residuals:                      16                                         \n",
       "Df Model:                           3                                         \n",
       "===============================================================================\n",
       "                  coef    std err          z      P>|z|      [0.025      0.975]\n",
       "-------------------------------------------------------------------------------\n",
       "eigenvector     0.3597      0.323      1.113      0.266      -0.274       0.993\n",
       "1.0/2.0        -0.4462      0.307     -1.454      0.146      -1.048       0.155\n",
       "2.0/3.0        -0.1455      0.355     -0.409      0.682      -0.842       0.551\n",
       "===============================================================================\n",
       "\"\"\""
      ]
     },
     "execution_count": 23,
     "metadata": {},
     "output_type": "execute_result"
    }
   ],
   "source": [
    "ordinalReg(df_survey_potus_gcm_impr, ['eigenvector'], 3)"
   ]
  },
  {
   "cell_type": "code",
   "execution_count": 26,
   "metadata": {},
   "outputs": [
    {
     "name": "stdout",
     "output_type": "stream",
     "text": [
      "Ordinal Regression:  ['pagerank']\n",
      "-------------------------------------\n",
      "Optimization terminated successfully.\n",
      "         Current function value: 0.876059\n",
      "         Iterations: 9\n",
      "         Function evaluations: 10\n",
      "         Gradient evaluations: 10\n"
     ]
    },
    {
     "data": {
      "text/html": [
       "<table class=\"simpletable\">\n",
       "<caption>OrderedModel Results</caption>\n",
       "<tr>\n",
       "  <th>Dep. Variable:</th>           <td>camp</td>        <th>  Log-Likelihood:    </th> <td> -16.645</td>\n",
       "</tr>\n",
       "<tr>\n",
       "  <th>Model:</th>               <td>OrderedModel</td>    <th>  AIC:               </th> <td>   39.29</td>\n",
       "</tr>\n",
       "<tr>\n",
       "  <th>Method:</th>           <td>Maximum Likelihood</td> <th>  BIC:               </th> <td>   42.12</td>\n",
       "</tr>\n",
       "<tr>\n",
       "  <th>Date:</th>              <td>Fri, 29 Jul 2022</td>  <th>                     </th>     <td> </td>   \n",
       "</tr>\n",
       "<tr>\n",
       "  <th>Time:</th>                  <td>16:34:42</td>      <th>                     </th>     <td> </td>   \n",
       "</tr>\n",
       "<tr>\n",
       "  <th>No. Observations:</th>       <td>    19</td>       <th>                     </th>     <td> </td>   \n",
       "</tr>\n",
       "<tr>\n",
       "  <th>Df Residuals:</th>           <td>    16</td>       <th>                     </th>     <td> </td>   \n",
       "</tr>\n",
       "<tr>\n",
       "  <th>Df Model:</th>               <td>     3</td>       <th>                     </th>     <td> </td>   \n",
       "</tr>\n",
       "</table>\n",
       "<table class=\"simpletable\">\n",
       "<tr>\n",
       "      <td></td>        <th>coef</th>     <th>std err</th>      <th>z</th>      <th>P>|z|</th>  <th>[0.025</th>    <th>0.975]</th>  \n",
       "</tr>\n",
       "<tr>\n",
       "  <th>pagerank</th> <td>   -0.7389</td> <td>    0.297</td> <td>   -2.492</td> <td> 0.013</td> <td>   -1.320</td> <td>   -0.158</td>\n",
       "</tr>\n",
       "<tr>\n",
       "  <th>1.0/2.0</th>  <td>   -1.0416</td> <td>    0.390</td> <td>   -2.668</td> <td> 0.008</td> <td>   -1.807</td> <td>   -0.276</td>\n",
       "</tr>\n",
       "<tr>\n",
       "  <th>2.0/3.0</th>  <td>    0.0778</td> <td>    0.353</td> <td>    0.220</td> <td> 0.826</td> <td>   -0.615</td> <td>    0.770</td>\n",
       "</tr>\n",
       "</table>"
      ],
      "text/plain": [
       "<class 'statsmodels.iolib.summary.Summary'>\n",
       "\"\"\"\n",
       "                             OrderedModel Results                             \n",
       "==============================================================================\n",
       "Dep. Variable:                   camp   Log-Likelihood:                -16.645\n",
       "Model:                   OrderedModel   AIC:                             39.29\n",
       "Method:            Maximum Likelihood   BIC:                             42.12\n",
       "Date:                Fri, 29 Jul 2022                                         \n",
       "Time:                        16:34:42                                         \n",
       "No. Observations:                  19                                         \n",
       "Df Residuals:                      16                                         \n",
       "Df Model:                           3                                         \n",
       "==============================================================================\n",
       "                 coef    std err          z      P>|z|      [0.025      0.975]\n",
       "------------------------------------------------------------------------------\n",
       "pagerank      -0.7389      0.297     -2.492      0.013      -1.320      -0.158\n",
       "1.0/2.0       -1.0416      0.390     -2.668      0.008      -1.807      -0.276\n",
       "2.0/3.0        0.0778      0.353      0.220      0.826      -0.615       0.770\n",
       "==============================================================================\n",
       "\"\"\""
      ]
     },
     "execution_count": 26,
     "metadata": {},
     "output_type": "execute_result"
    }
   ],
   "source": [
    "ordinalReg(df_survey_potus_gcm_impr, ['pagerank'], 3)"
   ]
  },
  {
   "cell_type": "markdown",
   "metadata": {},
   "source": [
    "## Cities"
   ]
  },
  {
   "cell_type": "code",
   "execution_count": null,
   "metadata": {},
   "outputs": [],
   "source": [
    "# Cities from the \"Category\": \"dbo:City\"\n",
    "\n",
    "city_result = catMerger(df_city, df_ig_gcm)\n",
    "df_survey_city = pd.read_csv(\"../data/survey_single_cat_files/sv_prep_uri/sv_cities_prep.csv\", sep=';')\n",
    "\n",
    "df_city_survey_gcm = gcmSurfer(df_survey_city, city_result)"
   ]
  },
  {
   "cell_type": "code",
   "execution_count": null,
   "metadata": {},
   "outputs": [],
   "source": [
    "df_survey_city_impr = pd.read_csv(\"../data/survey_single_cat_files/sv_prep_uri/improved_uri/sv_cities_impr.csv\", sep=';')\n",
    "\n",
    "df_city_survey_gcm_impr = gcmSurfer(df_survey_city_impr, city_result)"
   ]
  },
  {
   "cell_type": "code",
   "execution_count": null,
   "metadata": {},
   "outputs": [],
   "source": [
    "ordinalReg(df_city_survey_gcm, ['degree'], 3)"
   ]
  },
  {
   "cell_type": "code",
   "execution_count": null,
   "metadata": {},
   "outputs": [],
   "source": [
    "ordinalReg(df_city_survey_gcm, ['eigenvector'], 3)"
   ]
  },
  {
   "cell_type": "markdown",
   "metadata": {},
   "source": [
    "## Lakes"
   ]
  },
  {
   "cell_type": "code",
   "execution_count": 23,
   "metadata": {},
   "outputs": [
    {
     "name": "stdout",
     "output_type": "stream",
     "text": [
      "Dataframe merged with shape: (10000, 5)\n",
      "============================\n",
      "Rows with NaN values dropped: 42 from 80 => 52.5% \n",
      "Dataframe merged with shape: (38, 6)\n"
     ]
    }
   ],
   "source": [
    "# Lakes from the \"Category\": \"dbo:Lake\"\n",
    "\n",
    "lake_result = catMerger(df_lake, df_ig_gcm)\n",
    "df_survey_lake = pd.read_csv(\"../data/survey_single_cat_files/sv_prep_uri/sv_lakes_prep.csv\", sep=';')\n",
    "\n",
    "df_lake_survey_gcm = gcmSurfer(df_survey_lake, lake_result)"
   ]
  },
  {
   "cell_type": "code",
   "execution_count": 30,
   "metadata": {},
   "outputs": [
    {
     "name": "stdout",
     "output_type": "stream",
     "text": [
      "Rows with NaN values dropped: 20 from 70 => 28.57% \n",
      "Dataframe merged with shape: (50, 6)\n"
     ]
    }
   ],
   "source": [
    "df_survey_lake_impr = pd.read_csv(\"../data/survey_single_cat_files/sv_prep_uri/improved_uri/sv_lakes_impr.csv\", sep=';')\n",
    "\n",
    "df_lake_survey_gcm_impr = gcmSurfer(df_survey_lake_impr, lake_result)"
   ]
  },
  {
   "cell_type": "code",
   "execution_count": 67,
   "metadata": {},
   "outputs": [
    {
     "name": "stdout",
     "output_type": "stream",
     "text": [
      "Ordinal Regression:  ['degree']\n",
      "-------------------------------------\n",
      "Optimization terminated successfully.\n",
      "         Current function value: 1.039805\n",
      "         Iterations: 9\n",
      "         Function evaluations: 11\n",
      "         Gradient evaluations: 11\n"
     ]
    },
    {
     "data": {
      "text/html": [
       "<table class=\"simpletable\">\n",
       "<caption>OrderedModel Results</caption>\n",
       "<tr>\n",
       "  <th>Dep. Variable:</th>           <td>camp</td>        <th>  Log-Likelihood:    </th> <td> -51.990</td>\n",
       "</tr>\n",
       "<tr>\n",
       "  <th>Model:</th>               <td>OrderedModel</td>    <th>  AIC:               </th> <td>   110.0</td>\n",
       "</tr>\n",
       "<tr>\n",
       "  <th>Method:</th>           <td>Maximum Likelihood</td> <th>  BIC:               </th> <td>   115.7</td>\n",
       "</tr>\n",
       "<tr>\n",
       "  <th>Date:</th>              <td>Tue, 26 Jul 2022</td>  <th>                     </th>     <td> </td>   \n",
       "</tr>\n",
       "<tr>\n",
       "  <th>Time:</th>                  <td>14:23:35</td>      <th>                     </th>     <td> </td>   \n",
       "</tr>\n",
       "<tr>\n",
       "  <th>No. Observations:</th>       <td>    50</td>       <th>                     </th>     <td> </td>   \n",
       "</tr>\n",
       "<tr>\n",
       "  <th>Df Residuals:</th>           <td>    47</td>       <th>                     </th>     <td> </td>   \n",
       "</tr>\n",
       "<tr>\n",
       "  <th>Df Model:</th>               <td>     3</td>       <th>                     </th>     <td> </td>   \n",
       "</tr>\n",
       "</table>\n",
       "<table class=\"simpletable\">\n",
       "<tr>\n",
       "     <td></td>        <th>coef</th>     <th>std err</th>      <th>z</th>      <th>P>|z|</th>  <th>[0.025</th>    <th>0.975]</th>  \n",
       "</tr>\n",
       "<tr>\n",
       "  <th>degree</th>  <td>   -0.0770</td> <td>    0.053</td> <td>   -1.454</td> <td> 0.146</td> <td>   -0.181</td> <td>    0.027</td>\n",
       "</tr>\n",
       "<tr>\n",
       "  <th>1.0/2.0</th> <td>   -0.6697</td> <td>    0.214</td> <td>   -3.136</td> <td> 0.002</td> <td>   -1.088</td> <td>   -0.251</td>\n",
       "</tr>\n",
       "<tr>\n",
       "  <th>2.0/3.0</th> <td>   -0.4388</td> <td>    0.259</td> <td>   -1.691</td> <td> 0.091</td> <td>   -0.947</td> <td>    0.070</td>\n",
       "</tr>\n",
       "</table>"
      ],
      "text/plain": [
       "<class 'statsmodels.iolib.summary.Summary'>\n",
       "\"\"\"\n",
       "                             OrderedModel Results                             \n",
       "==============================================================================\n",
       "Dep. Variable:                   camp   Log-Likelihood:                -51.990\n",
       "Model:                   OrderedModel   AIC:                             110.0\n",
       "Method:            Maximum Likelihood   BIC:                             115.7\n",
       "Date:                Tue, 26 Jul 2022                                         \n",
       "Time:                        14:23:35                                         \n",
       "No. Observations:                  50                                         \n",
       "Df Residuals:                      47                                         \n",
       "Df Model:                           3                                         \n",
       "==============================================================================\n",
       "                 coef    std err          z      P>|z|      [0.025      0.975]\n",
       "------------------------------------------------------------------------------\n",
       "degree        -0.0770      0.053     -1.454      0.146      -0.181       0.027\n",
       "1.0/2.0       -0.6697      0.214     -3.136      0.002      -1.088      -0.251\n",
       "2.0/3.0       -0.4388      0.259     -1.691      0.091      -0.947       0.070\n",
       "==============================================================================\n",
       "\"\"\""
      ]
     },
     "execution_count": 67,
     "metadata": {},
     "output_type": "execute_result"
    }
   ],
   "source": [
    "ordinalReg(df_lake_survey_gcm_impr, ['degree'], 3)"
   ]
  },
  {
   "cell_type": "code",
   "execution_count": null,
   "metadata": {},
   "outputs": [],
   "source": [
    "ordinalReg(df_city_survey_gcm, ['pagerank'], 3)"
   ]
  },
  {
   "cell_type": "code",
   "execution_count": 68,
   "metadata": {},
   "outputs": [
    {
     "name": "stdout",
     "output_type": "stream",
     "text": [
      "Ordinal Regression:  ['eigenvector']\n",
      "-------------------------------------\n",
      "Optimization terminated successfully.\n",
      "         Current function value: 1.045514\n",
      "         Iterations: 9\n",
      "         Function evaluations: 10\n",
      "         Gradient evaluations: 10\n"
     ]
    },
    {
     "data": {
      "text/html": [
       "<table class=\"simpletable\">\n",
       "<caption>OrderedModel Results</caption>\n",
       "<tr>\n",
       "  <th>Dep. Variable:</th>           <td>camp</td>        <th>  Log-Likelihood:    </th> <td> -52.276</td>\n",
       "</tr>\n",
       "<tr>\n",
       "  <th>Model:</th>               <td>OrderedModel</td>    <th>  AIC:               </th> <td>   110.6</td>\n",
       "</tr>\n",
       "<tr>\n",
       "  <th>Method:</th>           <td>Maximum Likelihood</td> <th>  BIC:               </th> <td>   116.3</td>\n",
       "</tr>\n",
       "<tr>\n",
       "  <th>Date:</th>              <td>Tue, 26 Jul 2022</td>  <th>                     </th>     <td> </td>   \n",
       "</tr>\n",
       "<tr>\n",
       "  <th>Time:</th>                  <td>14:23:38</td>      <th>                     </th>     <td> </td>   \n",
       "</tr>\n",
       "<tr>\n",
       "  <th>No. Observations:</th>       <td>    50</td>       <th>                     </th>     <td> </td>   \n",
       "</tr>\n",
       "<tr>\n",
       "  <th>Df Residuals:</th>           <td>    47</td>       <th>                     </th>     <td> </td>   \n",
       "</tr>\n",
       "<tr>\n",
       "  <th>Df Model:</th>               <td>     3</td>       <th>                     </th>     <td> </td>   \n",
       "</tr>\n",
       "</table>\n",
       "<table class=\"simpletable\">\n",
       "<tr>\n",
       "       <td></td>          <th>coef</th>     <th>std err</th>      <th>z</th>      <th>P>|z|</th>  <th>[0.025</th>    <th>0.975]</th>  \n",
       "</tr>\n",
       "<tr>\n",
       "  <th>eigenvector</th> <td>   -0.1432</td> <td>    0.116</td> <td>   -1.234</td> <td> 0.217</td> <td>   -0.371</td> <td>    0.084</td>\n",
       "</tr>\n",
       "<tr>\n",
       "  <th>1.0/2.0</th>     <td>   -0.6322</td> <td>    0.207</td> <td>   -3.055</td> <td> 0.002</td> <td>   -1.038</td> <td>   -0.227</td>\n",
       "</tr>\n",
       "<tr>\n",
       "  <th>2.0/3.0</th>     <td>   -0.4485</td> <td>    0.259</td> <td>   -1.729</td> <td> 0.084</td> <td>   -0.957</td> <td>    0.060</td>\n",
       "</tr>\n",
       "</table>"
      ],
      "text/plain": [
       "<class 'statsmodels.iolib.summary.Summary'>\n",
       "\"\"\"\n",
       "                             OrderedModel Results                             \n",
       "==============================================================================\n",
       "Dep. Variable:                   camp   Log-Likelihood:                -52.276\n",
       "Model:                   OrderedModel   AIC:                             110.6\n",
       "Method:            Maximum Likelihood   BIC:                             116.3\n",
       "Date:                Tue, 26 Jul 2022                                         \n",
       "Time:                        14:23:38                                         \n",
       "No. Observations:                  50                                         \n",
       "Df Residuals:                      47                                         \n",
       "Df Model:                           3                                         \n",
       "===============================================================================\n",
       "                  coef    std err          z      P>|z|      [0.025      0.975]\n",
       "-------------------------------------------------------------------------------\n",
       "eigenvector    -0.1432      0.116     -1.234      0.217      -0.371       0.084\n",
       "1.0/2.0        -0.6322      0.207     -3.055      0.002      -1.038      -0.227\n",
       "2.0/3.0        -0.4485      0.259     -1.729      0.084      -0.957       0.060\n",
       "===============================================================================\n",
       "\"\"\""
      ]
     },
     "execution_count": 68,
     "metadata": {},
     "output_type": "execute_result"
    }
   ],
   "source": [
    "ordinalReg(df_lake_survey_gcm_impr, ['eigenvector'], 3)"
   ]
  },
  {
   "cell_type": "code",
   "execution_count": 69,
   "metadata": {},
   "outputs": [
    {
     "name": "stdout",
     "output_type": "stream",
     "text": [
      "Ordinal Regression:  ['pagerank']\n",
      "-------------------------------------\n",
      "Optimization terminated successfully.\n",
      "         Current function value: 1.043757\n",
      "         Iterations: 9\n",
      "         Function evaluations: 11\n",
      "         Gradient evaluations: 11\n"
     ]
    },
    {
     "data": {
      "text/html": [
       "<table class=\"simpletable\">\n",
       "<caption>OrderedModel Results</caption>\n",
       "<tr>\n",
       "  <th>Dep. Variable:</th>           <td>camp</td>        <th>  Log-Likelihood:    </th> <td> -52.188</td>\n",
       "</tr>\n",
       "<tr>\n",
       "  <th>Model:</th>               <td>OrderedModel</td>    <th>  AIC:               </th> <td>   110.4</td>\n",
       "</tr>\n",
       "<tr>\n",
       "  <th>Method:</th>           <td>Maximum Likelihood</td> <th>  BIC:               </th> <td>   116.1</td>\n",
       "</tr>\n",
       "<tr>\n",
       "  <th>Date:</th>              <td>Tue, 26 Jul 2022</td>  <th>                     </th>     <td> </td>   \n",
       "</tr>\n",
       "<tr>\n",
       "  <th>Time:</th>                  <td>14:23:42</td>      <th>                     </th>     <td> </td>   \n",
       "</tr>\n",
       "<tr>\n",
       "  <th>No. Observations:</th>       <td>    50</td>       <th>                     </th>     <td> </td>   \n",
       "</tr>\n",
       "<tr>\n",
       "  <th>Df Residuals:</th>           <td>    47</td>       <th>                     </th>     <td> </td>   \n",
       "</tr>\n",
       "<tr>\n",
       "  <th>Df Model:</th>               <td>     3</td>       <th>                     </th>     <td> </td>   \n",
       "</tr>\n",
       "</table>\n",
       "<table class=\"simpletable\">\n",
       "<tr>\n",
       "      <td></td>        <th>coef</th>     <th>std err</th>      <th>z</th>      <th>P>|z|</th>  <th>[0.025</th>    <th>0.975]</th>  \n",
       "</tr>\n",
       "<tr>\n",
       "  <th>pagerank</th> <td>   -0.0610</td> <td>    0.047</td> <td>   -1.310</td> <td> 0.190</td> <td>   -0.152</td> <td>    0.030</td>\n",
       "</tr>\n",
       "<tr>\n",
       "  <th>1.0/2.0</th>  <td>   -0.6497</td> <td>    0.211</td> <td>   -3.077</td> <td> 0.002</td> <td>   -1.064</td> <td>   -0.236</td>\n",
       "</tr>\n",
       "<tr>\n",
       "  <th>2.0/3.0</th>  <td>   -0.4447</td> <td>    0.259</td> <td>   -1.714</td> <td> 0.087</td> <td>   -0.953</td> <td>    0.064</td>\n",
       "</tr>\n",
       "</table>"
      ],
      "text/plain": [
       "<class 'statsmodels.iolib.summary.Summary'>\n",
       "\"\"\"\n",
       "                             OrderedModel Results                             \n",
       "==============================================================================\n",
       "Dep. Variable:                   camp   Log-Likelihood:                -52.188\n",
       "Model:                   OrderedModel   AIC:                             110.4\n",
       "Method:            Maximum Likelihood   BIC:                             116.1\n",
       "Date:                Tue, 26 Jul 2022                                         \n",
       "Time:                        14:23:42                                         \n",
       "No. Observations:                  50                                         \n",
       "Df Residuals:                      47                                         \n",
       "Df Model:                           3                                         \n",
       "==============================================================================\n",
       "                 coef    std err          z      P>|z|      [0.025      0.975]\n",
       "------------------------------------------------------------------------------\n",
       "pagerank      -0.0610      0.047     -1.310      0.190      -0.152       0.030\n",
       "1.0/2.0       -0.6497      0.211     -3.077      0.002      -1.064      -0.236\n",
       "2.0/3.0       -0.4447      0.259     -1.714      0.087      -0.953       0.064\n",
       "==============================================================================\n",
       "\"\"\""
      ]
     },
     "execution_count": 69,
     "metadata": {},
     "output_type": "execute_result"
    }
   ],
   "source": [
    "ordinalReg(df_lake_survey_gcm_impr, ['pagerank'], 3)"
   ]
  },
  {
   "cell_type": "markdown",
   "metadata": {},
   "source": [
    "## Mountains"
   ]
  },
  {
   "cell_type": "code",
   "execution_count": 34,
   "metadata": {},
   "outputs": [
    {
     "name": "stdout",
     "output_type": "stream",
     "text": [
      "Dataframe merged with shape: (10000, 5)\n",
      "============================\n",
      "Rows with NaN values dropped: 28 from 56 => 50.0% \n",
      "Dataframe merged with shape: (28, 6)\n"
     ]
    }
   ],
   "source": [
    "# Mountains from the \"Category\": \"dbo:Mountain\"\n",
    "\n",
    "mountain_result = catMerger(df_mountain, df_ig_gcm)\n",
    "df_survey_mountain = pd.read_csv(\"../data/survey_single_cat_files/sv_prep_uri/sv_mountains_prep.csv\", sep=';')\n",
    "\n",
    "df_mountain_survey_gcm = gcmSurfer(df_survey_mountain, mountain_result)"
   ]
  },
  {
   "cell_type": "code",
   "execution_count": 35,
   "metadata": {},
   "outputs": [
    {
     "name": "stdout",
     "output_type": "stream",
     "text": [
      "Rows with NaN values dropped: 17 from 52 => 32.69% \n",
      "Dataframe merged with shape: (35, 6)\n"
     ]
    }
   ],
   "source": [
    "df_survey_mountain_impr = pd.read_csv(\"../data/survey_single_cat_files/sv_prep_uri/improved_uri/sv_mountains_impr.csv\", sep=';')\n",
    "\n",
    "df_mountain_survey_gcm_impr = gcmSurfer(df_survey_mountain_impr, mountain_result)"
   ]
  },
  {
   "cell_type": "code",
   "execution_count": 70,
   "metadata": {},
   "outputs": [
    {
     "name": "stdout",
     "output_type": "stream",
     "text": [
      "Ordinal Regression:  ['degree']\n",
      "-------------------------------------\n",
      "Optimization terminated successfully.\n",
      "         Current function value: 1.059722\n",
      "         Iterations: 8\n",
      "         Function evaluations: 10\n",
      "         Gradient evaluations: 10\n"
     ]
    },
    {
     "data": {
      "text/html": [
       "<table class=\"simpletable\">\n",
       "<caption>OrderedModel Results</caption>\n",
       "<tr>\n",
       "  <th>Dep. Variable:</th>           <td>camp</td>        <th>  Log-Likelihood:    </th> <td> -37.090</td>\n",
       "</tr>\n",
       "<tr>\n",
       "  <th>Model:</th>               <td>OrderedModel</td>    <th>  AIC:               </th> <td>   80.18</td>\n",
       "</tr>\n",
       "<tr>\n",
       "  <th>Method:</th>           <td>Maximum Likelihood</td> <th>  BIC:               </th> <td>   84.85</td>\n",
       "</tr>\n",
       "<tr>\n",
       "  <th>Date:</th>              <td>Tue, 26 Jul 2022</td>  <th>                     </th>     <td> </td>   \n",
       "</tr>\n",
       "<tr>\n",
       "  <th>Time:</th>                  <td>14:23:51</td>      <th>                     </th>     <td> </td>   \n",
       "</tr>\n",
       "<tr>\n",
       "  <th>No. Observations:</th>       <td>    35</td>       <th>                     </th>     <td> </td>   \n",
       "</tr>\n",
       "<tr>\n",
       "  <th>Df Residuals:</th>           <td>    32</td>       <th>                     </th>     <td> </td>   \n",
       "</tr>\n",
       "<tr>\n",
       "  <th>Df Model:</th>               <td>     3</td>       <th>                     </th>     <td> </td>   \n",
       "</tr>\n",
       "</table>\n",
       "<table class=\"simpletable\">\n",
       "<tr>\n",
       "     <td></td>        <th>coef</th>     <th>std err</th>      <th>z</th>      <th>P>|z|</th>  <th>[0.025</th>    <th>0.975]</th>  \n",
       "</tr>\n",
       "<tr>\n",
       "  <th>degree</th>  <td>   -0.0910</td> <td>    0.085</td> <td>   -1.068</td> <td> 0.286</td> <td>   -0.258</td> <td>    0.076</td>\n",
       "</tr>\n",
       "<tr>\n",
       "  <th>1.0/2.0</th> <td>   -0.6002</td> <td>    0.248</td> <td>   -2.423</td> <td> 0.015</td> <td>   -1.086</td> <td>   -0.115</td>\n",
       "</tr>\n",
       "<tr>\n",
       "  <th>2.0/3.0</th> <td>   -0.3863</td> <td>    0.298</td> <td>   -1.298</td> <td> 0.194</td> <td>   -0.970</td> <td>    0.197</td>\n",
       "</tr>\n",
       "</table>"
      ],
      "text/plain": [
       "<class 'statsmodels.iolib.summary.Summary'>\n",
       "\"\"\"\n",
       "                             OrderedModel Results                             \n",
       "==============================================================================\n",
       "Dep. Variable:                   camp   Log-Likelihood:                -37.090\n",
       "Model:                   OrderedModel   AIC:                             80.18\n",
       "Method:            Maximum Likelihood   BIC:                             84.85\n",
       "Date:                Tue, 26 Jul 2022                                         \n",
       "Time:                        14:23:51                                         \n",
       "No. Observations:                  35                                         \n",
       "Df Residuals:                      32                                         \n",
       "Df Model:                           3                                         \n",
       "==============================================================================\n",
       "                 coef    std err          z      P>|z|      [0.025      0.975]\n",
       "------------------------------------------------------------------------------\n",
       "degree        -0.0910      0.085     -1.068      0.286      -0.258       0.076\n",
       "1.0/2.0       -0.6002      0.248     -2.423      0.015      -1.086      -0.115\n",
       "2.0/3.0       -0.3863      0.298     -1.298      0.194      -0.970       0.197\n",
       "==============================================================================\n",
       "\"\"\""
      ]
     },
     "execution_count": 70,
     "metadata": {},
     "output_type": "execute_result"
    }
   ],
   "source": [
    "ordinalReg(df_mountain_survey_gcm_impr, ['degree'], 3)"
   ]
  },
  {
   "cell_type": "code",
   "execution_count": 71,
   "metadata": {},
   "outputs": [
    {
     "name": "stdout",
     "output_type": "stream",
     "text": [
      "Ordinal Regression:  ['eigenvector']\n",
      "-------------------------------------\n",
      "Optimization terminated successfully.\n",
      "         Current function value: 1.072129\n",
      "         Iterations: 7\n",
      "         Function evaluations: 8\n",
      "         Gradient evaluations: 8\n"
     ]
    },
    {
     "data": {
      "text/html": [
       "<table class=\"simpletable\">\n",
       "<caption>OrderedModel Results</caption>\n",
       "<tr>\n",
       "  <th>Dep. Variable:</th>           <td>camp</td>        <th>  Log-Likelihood:    </th> <td> -37.525</td>\n",
       "</tr>\n",
       "<tr>\n",
       "  <th>Model:</th>               <td>OrderedModel</td>    <th>  AIC:               </th> <td>   81.05</td>\n",
       "</tr>\n",
       "<tr>\n",
       "  <th>Method:</th>           <td>Maximum Likelihood</td> <th>  BIC:               </th> <td>   85.72</td>\n",
       "</tr>\n",
       "<tr>\n",
       "  <th>Date:</th>              <td>Tue, 26 Jul 2022</td>  <th>                     </th>     <td> </td>   \n",
       "</tr>\n",
       "<tr>\n",
       "  <th>Time:</th>                  <td>14:23:55</td>      <th>                     </th>     <td> </td>   \n",
       "</tr>\n",
       "<tr>\n",
       "  <th>No. Observations:</th>       <td>    35</td>       <th>                     </th>     <td> </td>   \n",
       "</tr>\n",
       "<tr>\n",
       "  <th>Df Residuals:</th>           <td>    32</td>       <th>                     </th>     <td> </td>   \n",
       "</tr>\n",
       "<tr>\n",
       "  <th>Df Model:</th>               <td>     3</td>       <th>                     </th>     <td> </td>   \n",
       "</tr>\n",
       "</table>\n",
       "<table class=\"simpletable\">\n",
       "<tr>\n",
       "       <td></td>          <th>coef</th>     <th>std err</th>      <th>z</th>      <th>P>|z|</th>  <th>[0.025</th>    <th>0.975]</th>  \n",
       "</tr>\n",
       "<tr>\n",
       "  <th>eigenvector</th> <td>   -0.1245</td> <td>    0.236</td> <td>   -0.527</td> <td> 0.598</td> <td>   -0.587</td> <td>    0.339</td>\n",
       "</tr>\n",
       "<tr>\n",
       "  <th>1.0/2.0</th>     <td>   -0.5163</td> <td>    0.230</td> <td>   -2.247</td> <td> 0.025</td> <td>   -0.967</td> <td>   -0.066</td>\n",
       "</tr>\n",
       "<tr>\n",
       "  <th>2.0/3.0</th>     <td>   -0.4046</td> <td>    0.298</td> <td>   -1.359</td> <td> 0.174</td> <td>   -0.988</td> <td>    0.179</td>\n",
       "</tr>\n",
       "</table>"
      ],
      "text/plain": [
       "<class 'statsmodels.iolib.summary.Summary'>\n",
       "\"\"\"\n",
       "                             OrderedModel Results                             \n",
       "==============================================================================\n",
       "Dep. Variable:                   camp   Log-Likelihood:                -37.525\n",
       "Model:                   OrderedModel   AIC:                             81.05\n",
       "Method:            Maximum Likelihood   BIC:                             85.72\n",
       "Date:                Tue, 26 Jul 2022                                         \n",
       "Time:                        14:23:55                                         \n",
       "No. Observations:                  35                                         \n",
       "Df Residuals:                      32                                         \n",
       "Df Model:                           3                                         \n",
       "===============================================================================\n",
       "                  coef    std err          z      P>|z|      [0.025      0.975]\n",
       "-------------------------------------------------------------------------------\n",
       "eigenvector    -0.1245      0.236     -0.527      0.598      -0.587       0.339\n",
       "1.0/2.0        -0.5163      0.230     -2.247      0.025      -0.967      -0.066\n",
       "2.0/3.0        -0.4046      0.298     -1.359      0.174      -0.988       0.179\n",
       "===============================================================================\n",
       "\"\"\""
      ]
     },
     "execution_count": 71,
     "metadata": {},
     "output_type": "execute_result"
    }
   ],
   "source": [
    "ordinalReg(df_mountain_survey_gcm_impr, ['eigenvector'], 3)"
   ]
  },
  {
   "cell_type": "code",
   "execution_count": 72,
   "metadata": {},
   "outputs": [
    {
     "name": "stdout",
     "output_type": "stream",
     "text": [
      "Ordinal Regression:  ['pagerank']\n",
      "-------------------------------------\n",
      "Optimization terminated successfully.\n",
      "         Current function value: 1.057636\n",
      "         Iterations: 8\n",
      "         Function evaluations: 10\n",
      "         Gradient evaluations: 10\n"
     ]
    },
    {
     "data": {
      "text/html": [
       "<table class=\"simpletable\">\n",
       "<caption>OrderedModel Results</caption>\n",
       "<tr>\n",
       "  <th>Dep. Variable:</th>           <td>camp</td>        <th>  Log-Likelihood:    </th> <td> -37.017</td>\n",
       "</tr>\n",
       "<tr>\n",
       "  <th>Model:</th>               <td>OrderedModel</td>    <th>  AIC:               </th> <td>   80.03</td>\n",
       "</tr>\n",
       "<tr>\n",
       "  <th>Method:</th>           <td>Maximum Likelihood</td> <th>  BIC:               </th> <td>   84.70</td>\n",
       "</tr>\n",
       "<tr>\n",
       "  <th>Date:</th>              <td>Tue, 26 Jul 2022</td>  <th>                     </th>     <td> </td>   \n",
       "</tr>\n",
       "<tr>\n",
       "  <th>Time:</th>                  <td>14:23:59</td>      <th>                     </th>     <td> </td>   \n",
       "</tr>\n",
       "<tr>\n",
       "  <th>No. Observations:</th>       <td>    35</td>       <th>                     </th>     <td> </td>   \n",
       "</tr>\n",
       "<tr>\n",
       "  <th>Df Residuals:</th>           <td>    32</td>       <th>                     </th>     <td> </td>   \n",
       "</tr>\n",
       "<tr>\n",
       "  <th>Df Model:</th>               <td>     3</td>       <th>                     </th>     <td> </td>   \n",
       "</tr>\n",
       "</table>\n",
       "<table class=\"simpletable\">\n",
       "<tr>\n",
       "      <td></td>        <th>coef</th>     <th>std err</th>      <th>z</th>      <th>P>|z|</th>  <th>[0.025</th>    <th>0.975]</th>  \n",
       "</tr>\n",
       "<tr>\n",
       "  <th>pagerank</th> <td>   -0.0924</td> <td>    0.082</td> <td>   -1.133</td> <td> 0.257</td> <td>   -0.252</td> <td>    0.067</td>\n",
       "</tr>\n",
       "<tr>\n",
       "  <th>1.0/2.0</th>  <td>   -0.6111</td> <td>    0.249</td> <td>   -2.451</td> <td> 0.014</td> <td>   -1.100</td> <td>   -0.122</td>\n",
       "</tr>\n",
       "<tr>\n",
       "  <th>2.0/3.0</th>  <td>   -0.3832</td> <td>    0.298</td> <td>   -1.287</td> <td> 0.198</td> <td>   -0.967</td> <td>    0.200</td>\n",
       "</tr>\n",
       "</table>"
      ],
      "text/plain": [
       "<class 'statsmodels.iolib.summary.Summary'>\n",
       "\"\"\"\n",
       "                             OrderedModel Results                             \n",
       "==============================================================================\n",
       "Dep. Variable:                   camp   Log-Likelihood:                -37.017\n",
       "Model:                   OrderedModel   AIC:                             80.03\n",
       "Method:            Maximum Likelihood   BIC:                             84.70\n",
       "Date:                Tue, 26 Jul 2022                                         \n",
       "Time:                        14:23:59                                         \n",
       "No. Observations:                  35                                         \n",
       "Df Residuals:                      32                                         \n",
       "Df Model:                           3                                         \n",
       "==============================================================================\n",
       "                 coef    std err          z      P>|z|      [0.025      0.975]\n",
       "------------------------------------------------------------------------------\n",
       "pagerank      -0.0924      0.082     -1.133      0.257      -0.252       0.067\n",
       "1.0/2.0       -0.6111      0.249     -2.451      0.014      -1.100      -0.122\n",
       "2.0/3.0       -0.3832      0.298     -1.287      0.198      -0.967       0.200\n",
       "==============================================================================\n",
       "\"\"\""
      ]
     },
     "execution_count": 72,
     "metadata": {},
     "output_type": "execute_result"
    }
   ],
   "source": [
    "ordinalReg(df_mountain_survey_gcm_impr, ['pagerank'], 3)"
   ]
  },
  {
   "cell_type": "markdown",
   "metadata": {},
   "source": [
    "## EU capital cities"
   ]
  },
  {
   "cell_type": "code",
   "execution_count": 39,
   "metadata": {},
   "outputs": [
    {
     "name": "stdout",
     "output_type": "stream",
     "text": [
      "Dataframe merged with shape: (52, 5)\n",
      "============================\n",
      "Rows with NaN values dropped: 7 from 29 => 24.14% \n",
      "Dataframe merged with shape: (22, 6)\n"
     ]
    }
   ],
   "source": [
    "euCap_result = catMerger(df_euCap, df_ig_gcm)\n",
    "df_survey_euCap = pd.read_csv(\"../data/survey_single_cat_files/sv_prep_uri/sv_european_capital_cities_prep.csv\", sep=';')\n",
    "\n",
    "df_euCap_survey_gcm = gcmSurfer(df_survey_euCap, euCap_result)"
   ]
  },
  {
   "cell_type": "code",
   "execution_count": 40,
   "metadata": {},
   "outputs": [
    {
     "name": "stdout",
     "output_type": "stream",
     "text": [
      "Rows with NaN values dropped: 4 from 28 => 14.29% \n",
      "Dataframe merged with shape: (24, 6)\n"
     ]
    }
   ],
   "source": [
    "df_survey_euCap_impr = pd.read_csv(\"../data/survey_single_cat_files/sv_prep_uri/improved_uri/sv_european_capital_cities_impr.csv\", sep=';')\n",
    "\n",
    "df_euCap_survey_gcm_impr = gcmSurfer(df_survey_euCap_impr, euCap_result)"
   ]
  },
  {
   "cell_type": "code",
   "execution_count": 73,
   "metadata": {},
   "outputs": [
    {
     "name": "stdout",
     "output_type": "stream",
     "text": [
      "Ordinal Regression:  ['degree']\n",
      "-------------------------------------\n",
      "Optimization terminated successfully.\n",
      "         Current function value: 0.997739\n",
      "         Iterations: 10\n",
      "         Function evaluations: 11\n",
      "         Gradient evaluations: 11\n"
     ]
    },
    {
     "data": {
      "text/html": [
       "<table class=\"simpletable\">\n",
       "<caption>OrderedModel Results</caption>\n",
       "<tr>\n",
       "  <th>Dep. Variable:</th>           <td>camp</td>        <th>  Log-Likelihood:    </th> <td> -23.946</td>\n",
       "</tr>\n",
       "<tr>\n",
       "  <th>Model:</th>               <td>OrderedModel</td>    <th>  AIC:               </th> <td>   53.89</td>\n",
       "</tr>\n",
       "<tr>\n",
       "  <th>Method:</th>           <td>Maximum Likelihood</td> <th>  BIC:               </th> <td>   57.43</td>\n",
       "</tr>\n",
       "<tr>\n",
       "  <th>Date:</th>              <td>Tue, 26 Jul 2022</td>  <th>                     </th>     <td> </td>   \n",
       "</tr>\n",
       "<tr>\n",
       "  <th>Time:</th>                  <td>14:24:05</td>      <th>                     </th>     <td> </td>   \n",
       "</tr>\n",
       "<tr>\n",
       "  <th>No. Observations:</th>       <td>    24</td>       <th>                     </th>     <td> </td>   \n",
       "</tr>\n",
       "<tr>\n",
       "  <th>Df Residuals:</th>           <td>    21</td>       <th>                     </th>     <td> </td>   \n",
       "</tr>\n",
       "<tr>\n",
       "  <th>Df Model:</th>               <td>     3</td>       <th>                     </th>     <td> </td>   \n",
       "</tr>\n",
       "</table>\n",
       "<table class=\"simpletable\">\n",
       "<tr>\n",
       "     <td></td>        <th>coef</th>     <th>std err</th>      <th>z</th>      <th>P>|z|</th>  <th>[0.025</th>    <th>0.975]</th>  \n",
       "</tr>\n",
       "<tr>\n",
       "  <th>degree</th>  <td>   -0.6354</td> <td>    0.391</td> <td>   -1.625</td> <td> 0.104</td> <td>   -1.402</td> <td>    0.131</td>\n",
       "</tr>\n",
       "<tr>\n",
       "  <th>1.0/2.0</th> <td>   -0.7235</td> <td>    0.310</td> <td>   -2.333</td> <td> 0.020</td> <td>   -1.331</td> <td>   -0.116</td>\n",
       "</tr>\n",
       "<tr>\n",
       "  <th>2.0/3.0</th> <td>   -0.0367</td> <td>    0.305</td> <td>   -0.120</td> <td> 0.904</td> <td>   -0.634</td> <td>    0.561</td>\n",
       "</tr>\n",
       "</table>"
      ],
      "text/plain": [
       "<class 'statsmodels.iolib.summary.Summary'>\n",
       "\"\"\"\n",
       "                             OrderedModel Results                             \n",
       "==============================================================================\n",
       "Dep. Variable:                   camp   Log-Likelihood:                -23.946\n",
       "Model:                   OrderedModel   AIC:                             53.89\n",
       "Method:            Maximum Likelihood   BIC:                             57.43\n",
       "Date:                Tue, 26 Jul 2022                                         \n",
       "Time:                        14:24:05                                         \n",
       "No. Observations:                  24                                         \n",
       "Df Residuals:                      21                                         \n",
       "Df Model:                           3                                         \n",
       "==============================================================================\n",
       "                 coef    std err          z      P>|z|      [0.025      0.975]\n",
       "------------------------------------------------------------------------------\n",
       "degree        -0.6354      0.391     -1.625      0.104      -1.402       0.131\n",
       "1.0/2.0       -0.7235      0.310     -2.333      0.020      -1.331      -0.116\n",
       "2.0/3.0       -0.0367      0.305     -0.120      0.904      -0.634       0.561\n",
       "==============================================================================\n",
       "\"\"\""
      ]
     },
     "execution_count": 73,
     "metadata": {},
     "output_type": "execute_result"
    }
   ],
   "source": [
    "ordinalReg(df_euCap_survey_gcm_impr, ['degree'], 3)"
   ]
  },
  {
   "cell_type": "code",
   "execution_count": 74,
   "metadata": {},
   "outputs": [
    {
     "name": "stdout",
     "output_type": "stream",
     "text": [
      "Ordinal Regression:  ['pagerank']\n",
      "-------------------------------------\n",
      "Optimization terminated successfully.\n",
      "         Current function value: 0.997401\n",
      "         Iterations: 10\n",
      "         Function evaluations: 11\n",
      "         Gradient evaluations: 11\n"
     ]
    },
    {
     "data": {
      "text/html": [
       "<table class=\"simpletable\">\n",
       "<caption>OrderedModel Results</caption>\n",
       "<tr>\n",
       "  <th>Dep. Variable:</th>           <td>camp</td>        <th>  Log-Likelihood:    </th> <td> -23.938</td>\n",
       "</tr>\n",
       "<tr>\n",
       "  <th>Model:</th>               <td>OrderedModel</td>    <th>  AIC:               </th> <td>   53.88</td>\n",
       "</tr>\n",
       "<tr>\n",
       "  <th>Method:</th>           <td>Maximum Likelihood</td> <th>  BIC:               </th> <td>   57.41</td>\n",
       "</tr>\n",
       "<tr>\n",
       "  <th>Date:</th>              <td>Tue, 26 Jul 2022</td>  <th>                     </th>     <td> </td>   \n",
       "</tr>\n",
       "<tr>\n",
       "  <th>Time:</th>                  <td>14:24:09</td>      <th>                     </th>     <td> </td>   \n",
       "</tr>\n",
       "<tr>\n",
       "  <th>No. Observations:</th>       <td>    24</td>       <th>                     </th>     <td> </td>   \n",
       "</tr>\n",
       "<tr>\n",
       "  <th>Df Residuals:</th>           <td>    21</td>       <th>                     </th>     <td> </td>   \n",
       "</tr>\n",
       "<tr>\n",
       "  <th>Df Model:</th>               <td>     3</td>       <th>                     </th>     <td> </td>   \n",
       "</tr>\n",
       "</table>\n",
       "<table class=\"simpletable\">\n",
       "<tr>\n",
       "      <td></td>        <th>coef</th>     <th>std err</th>      <th>z</th>      <th>P>|z|</th>  <th>[0.025</th>    <th>0.975]</th>  \n",
       "</tr>\n",
       "<tr>\n",
       "  <th>pagerank</th> <td>   -0.6299</td> <td>    0.384</td> <td>   -1.640</td> <td> 0.101</td> <td>   -1.383</td> <td>    0.123</td>\n",
       "</tr>\n",
       "<tr>\n",
       "  <th>1.0/2.0</th>  <td>   -0.7345</td> <td>    0.313</td> <td>   -2.350</td> <td> 0.019</td> <td>   -1.347</td> <td>   -0.122</td>\n",
       "</tr>\n",
       "<tr>\n",
       "  <th>2.0/3.0</th>  <td>   -0.0362</td> <td>    0.305</td> <td>   -0.119</td> <td> 0.905</td> <td>   -0.633</td> <td>    0.561</td>\n",
       "</tr>\n",
       "</table>"
      ],
      "text/plain": [
       "<class 'statsmodels.iolib.summary.Summary'>\n",
       "\"\"\"\n",
       "                             OrderedModel Results                             \n",
       "==============================================================================\n",
       "Dep. Variable:                   camp   Log-Likelihood:                -23.938\n",
       "Model:                   OrderedModel   AIC:                             53.88\n",
       "Method:            Maximum Likelihood   BIC:                             57.41\n",
       "Date:                Tue, 26 Jul 2022                                         \n",
       "Time:                        14:24:09                                         \n",
       "No. Observations:                  24                                         \n",
       "Df Residuals:                      21                                         \n",
       "Df Model:                           3                                         \n",
       "==============================================================================\n",
       "                 coef    std err          z      P>|z|      [0.025      0.975]\n",
       "------------------------------------------------------------------------------\n",
       "pagerank      -0.6299      0.384     -1.640      0.101      -1.383       0.123\n",
       "1.0/2.0       -0.7345      0.313     -2.350      0.019      -1.347      -0.122\n",
       "2.0/3.0       -0.0362      0.305     -0.119      0.905      -0.633       0.561\n",
       "==============================================================================\n",
       "\"\"\""
      ]
     },
     "execution_count": 74,
     "metadata": {},
     "output_type": "execute_result"
    }
   ],
   "source": [
    "ordinalReg(df_euCap_survey_gcm_impr, ['pagerank'], 3)"
   ]
  },
  {
   "cell_type": "code",
   "execution_count": 75,
   "metadata": {},
   "outputs": [
    {
     "name": "stdout",
     "output_type": "stream",
     "text": [
      "Ordinal Regression:  ['eigenvector']\n",
      "-------------------------------------\n",
      "Optimization terminated successfully.\n",
      "         Current function value: 1.097723\n",
      "         Iterations: 7\n",
      "         Function evaluations: 8\n",
      "         Gradient evaluations: 8\n"
     ]
    },
    {
     "data": {
      "text/html": [
       "<table class=\"simpletable\">\n",
       "<caption>OrderedModel Results</caption>\n",
       "<tr>\n",
       "  <th>Dep. Variable:</th>           <td>camp</td>        <th>  Log-Likelihood:    </th> <td> -26.345</td>\n",
       "</tr>\n",
       "<tr>\n",
       "  <th>Model:</th>               <td>OrderedModel</td>    <th>  AIC:               </th> <td>   58.69</td>\n",
       "</tr>\n",
       "<tr>\n",
       "  <th>Method:</th>           <td>Maximum Likelihood</td> <th>  BIC:               </th> <td>   62.22</td>\n",
       "</tr>\n",
       "<tr>\n",
       "  <th>Date:</th>              <td>Tue, 26 Jul 2022</td>  <th>                     </th>     <td> </td>   \n",
       "</tr>\n",
       "<tr>\n",
       "  <th>Time:</th>                  <td>14:24:12</td>      <th>                     </th>     <td> </td>   \n",
       "</tr>\n",
       "<tr>\n",
       "  <th>No. Observations:</th>       <td>    24</td>       <th>                     </th>     <td> </td>   \n",
       "</tr>\n",
       "<tr>\n",
       "  <th>Df Residuals:</th>           <td>    21</td>       <th>                     </th>     <td> </td>   \n",
       "</tr>\n",
       "<tr>\n",
       "  <th>Df Model:</th>               <td>     3</td>       <th>                     </th>     <td> </td>   \n",
       "</tr>\n",
       "</table>\n",
       "<table class=\"simpletable\">\n",
       "<tr>\n",
       "       <td></td>          <th>coef</th>     <th>std err</th>      <th>z</th>      <th>P>|z|</th>  <th>[0.025</th>    <th>0.975]</th>  \n",
       "</tr>\n",
       "<tr>\n",
       "  <th>eigenvector</th> <td>    0.0525</td> <td>    0.254</td> <td>    0.207</td> <td> 0.836</td> <td>   -0.445</td> <td>    0.550</td>\n",
       "</tr>\n",
       "<tr>\n",
       "  <th>1.0/2.0</th>     <td>   -0.4045</td> <td>    0.294</td> <td>   -1.378</td> <td> 0.168</td> <td>   -0.980</td> <td>    0.171</td>\n",
       "</tr>\n",
       "<tr>\n",
       "  <th>2.0/3.0</th>     <td>   -0.1481</td> <td>    0.307</td> <td>   -0.482</td> <td> 0.630</td> <td>   -0.750</td> <td>    0.454</td>\n",
       "</tr>\n",
       "</table>"
      ],
      "text/plain": [
       "<class 'statsmodels.iolib.summary.Summary'>\n",
       "\"\"\"\n",
       "                             OrderedModel Results                             \n",
       "==============================================================================\n",
       "Dep. Variable:                   camp   Log-Likelihood:                -26.345\n",
       "Model:                   OrderedModel   AIC:                             58.69\n",
       "Method:            Maximum Likelihood   BIC:                             62.22\n",
       "Date:                Tue, 26 Jul 2022                                         \n",
       "Time:                        14:24:12                                         \n",
       "No. Observations:                  24                                         \n",
       "Df Residuals:                      21                                         \n",
       "Df Model:                           3                                         \n",
       "===============================================================================\n",
       "                  coef    std err          z      P>|z|      [0.025      0.975]\n",
       "-------------------------------------------------------------------------------\n",
       "eigenvector     0.0525      0.254      0.207      0.836      -0.445       0.550\n",
       "1.0/2.0        -0.4045      0.294     -1.378      0.168      -0.980       0.171\n",
       "2.0/3.0        -0.1481      0.307     -0.482      0.630      -0.750       0.454\n",
       "===============================================================================\n",
       "\"\"\""
      ]
     },
     "execution_count": 75,
     "metadata": {},
     "output_type": "execute_result"
    }
   ],
   "source": [
    "ordinalReg(df_euCap_survey_gcm_impr, ['eigenvector'], 3)"
   ]
  },
  {
   "cell_type": "markdown",
   "metadata": {},
   "source": [
    "## European countries"
   ]
  },
  {
   "cell_type": "code",
   "execution_count": 44,
   "metadata": {},
   "outputs": [
    {
     "name": "stdout",
     "output_type": "stream",
     "text": [
      "Dataframe merged with shape: (51, 5)\n",
      "============================\n",
      "Rows with NaN values dropped: 1 from 29 => 3.45% \n",
      "Dataframe merged with shape: (28, 6)\n"
     ]
    }
   ],
   "source": [
    "euCou_result = catMerger(df_euCou, df_ig_gcm)\n",
    "df_survey_euCou = pd.read_csv(\"../data/survey_single_cat_files/sv_prep_uri/sv_european_countries_prep.csv\", sep=';')\n",
    "\n",
    "df_euCou_survey_gcm = gcmSurfer(df_survey_euCou, euCou_result)"
   ]
  },
  {
   "cell_type": "code",
   "execution_count": 45,
   "metadata": {},
   "outputs": [
    {
     "name": "stdout",
     "output_type": "stream",
     "text": [
      "Rows with NaN values dropped: 0 from 29 => 0.0% \n",
      "Dataframe merged with shape: (29, 6)\n"
     ]
    }
   ],
   "source": [
    "df_survey_euCou_impr = pd.read_csv(\"../data/survey_single_cat_files/sv_prep_uri/improved_uri/sv_european_countries_impr.csv\", sep=';')\n",
    "\n",
    "df_euCou_survey_gcm_impr = gcmSurfer(df_survey_euCou_impr, euCou_result)"
   ]
  },
  {
   "cell_type": "code",
   "execution_count": 76,
   "metadata": {},
   "outputs": [
    {
     "name": "stdout",
     "output_type": "stream",
     "text": [
      "Ordinal Regression:  ['degree']\n",
      "-------------------------------------\n",
      "Optimization terminated successfully.\n",
      "         Current function value: 0.524739\n",
      "         Iterations: 13\n",
      "         Function evaluations: 14\n",
      "         Gradient evaluations: 14\n"
     ]
    },
    {
     "data": {
      "text/html": [
       "<table class=\"simpletable\">\n",
       "<caption>OrderedModel Results</caption>\n",
       "<tr>\n",
       "  <th>Dep. Variable:</th>           <td>camp</td>        <th>  Log-Likelihood:    </th> <td> -15.217</td>\n",
       "</tr>\n",
       "<tr>\n",
       "  <th>Model:</th>               <td>OrderedModel</td>    <th>  AIC:               </th> <td>   36.43</td>\n",
       "</tr>\n",
       "<tr>\n",
       "  <th>Method:</th>           <td>Maximum Likelihood</td> <th>  BIC:               </th> <td>   40.54</td>\n",
       "</tr>\n",
       "<tr>\n",
       "  <th>Date:</th>              <td>Tue, 26 Jul 2022</td>  <th>                     </th>     <td> </td>   \n",
       "</tr>\n",
       "<tr>\n",
       "  <th>Time:</th>                  <td>14:24:20</td>      <th>                     </th>     <td> </td>   \n",
       "</tr>\n",
       "<tr>\n",
       "  <th>No. Observations:</th>       <td>    29</td>       <th>                     </th>     <td> </td>   \n",
       "</tr>\n",
       "<tr>\n",
       "  <th>Df Residuals:</th>           <td>    26</td>       <th>                     </th>     <td> </td>   \n",
       "</tr>\n",
       "<tr>\n",
       "  <th>Df Model:</th>               <td>     3</td>       <th>                     </th>     <td> </td>   \n",
       "</tr>\n",
       "</table>\n",
       "<table class=\"simpletable\">\n",
       "<tr>\n",
       "     <td></td>        <th>coef</th>     <th>std err</th>      <th>z</th>      <th>P>|z|</th>  <th>[0.025</th>    <th>0.975]</th>  \n",
       "</tr>\n",
       "<tr>\n",
       "  <th>degree</th>  <td>   -4.4186</td> <td>    1.303</td> <td>   -3.392</td> <td> 0.001</td> <td>   -6.972</td> <td>   -1.866</td>\n",
       "</tr>\n",
       "<tr>\n",
       "  <th>1.0/2.0</th> <td>   -0.5506</td> <td>    0.430</td> <td>   -1.282</td> <td> 0.200</td> <td>   -1.393</td> <td>    0.291</td>\n",
       "</tr>\n",
       "<tr>\n",
       "  <th>2.0/3.0</th> <td>    0.7615</td> <td>    0.292</td> <td>    2.607</td> <td> 0.009</td> <td>    0.189</td> <td>    1.334</td>\n",
       "</tr>\n",
       "</table>"
      ],
      "text/plain": [
       "<class 'statsmodels.iolib.summary.Summary'>\n",
       "\"\"\"\n",
       "                             OrderedModel Results                             \n",
       "==============================================================================\n",
       "Dep. Variable:                   camp   Log-Likelihood:                -15.217\n",
       "Model:                   OrderedModel   AIC:                             36.43\n",
       "Method:            Maximum Likelihood   BIC:                             40.54\n",
       "Date:                Tue, 26 Jul 2022                                         \n",
       "Time:                        14:24:20                                         \n",
       "No. Observations:                  29                                         \n",
       "Df Residuals:                      26                                         \n",
       "Df Model:                           3                                         \n",
       "==============================================================================\n",
       "                 coef    std err          z      P>|z|      [0.025      0.975]\n",
       "------------------------------------------------------------------------------\n",
       "degree        -4.4186      1.303     -3.392      0.001      -6.972      -1.866\n",
       "1.0/2.0       -0.5506      0.430     -1.282      0.200      -1.393       0.291\n",
       "2.0/3.0        0.7615      0.292      2.607      0.009       0.189       1.334\n",
       "==============================================================================\n",
       "\"\"\""
      ]
     },
     "execution_count": 76,
     "metadata": {},
     "output_type": "execute_result"
    }
   ],
   "source": [
    "ordinalReg(df_euCou_survey_gcm_impr, ['degree'], 3)"
   ]
  },
  {
   "cell_type": "code",
   "execution_count": 77,
   "metadata": {},
   "outputs": [
    {
     "name": "stdout",
     "output_type": "stream",
     "text": [
      "Ordinal Regression:  ['eigenvector']\n",
      "-------------------------------------\n",
      "Optimization terminated successfully.\n",
      "         Current function value: 0.914592\n",
      "         Iterations: 8\n",
      "         Function evaluations: 9\n",
      "         Gradient evaluations: 9\n"
     ]
    },
    {
     "data": {
      "text/html": [
       "<table class=\"simpletable\">\n",
       "<caption>OrderedModel Results</caption>\n",
       "<tr>\n",
       "  <th>Dep. Variable:</th>           <td>camp</td>        <th>  Log-Likelihood:    </th> <td> -26.523</td>\n",
       "</tr>\n",
       "<tr>\n",
       "  <th>Model:</th>               <td>OrderedModel</td>    <th>  AIC:               </th> <td>   59.05</td>\n",
       "</tr>\n",
       "<tr>\n",
       "  <th>Method:</th>           <td>Maximum Likelihood</td> <th>  BIC:               </th> <td>   63.15</td>\n",
       "</tr>\n",
       "<tr>\n",
       "  <th>Date:</th>              <td>Tue, 26 Jul 2022</td>  <th>                     </th>     <td> </td>   \n",
       "</tr>\n",
       "<tr>\n",
       "  <th>Time:</th>                  <td>14:24:23</td>      <th>                     </th>     <td> </td>   \n",
       "</tr>\n",
       "<tr>\n",
       "  <th>No. Observations:</th>       <td>    29</td>       <th>                     </th>     <td> </td>   \n",
       "</tr>\n",
       "<tr>\n",
       "  <th>Df Residuals:</th>           <td>    26</td>       <th>                     </th>     <td> </td>   \n",
       "</tr>\n",
       "<tr>\n",
       "  <th>Df Model:</th>               <td>     3</td>       <th>                     </th>     <td> </td>   \n",
       "</tr>\n",
       "</table>\n",
       "<table class=\"simpletable\">\n",
       "<tr>\n",
       "       <td></td>          <th>coef</th>     <th>std err</th>      <th>z</th>      <th>P>|z|</th>  <th>[0.025</th>    <th>0.975]</th>  \n",
       "</tr>\n",
       "<tr>\n",
       "  <th>eigenvector</th> <td>   -0.8600</td> <td>    0.315</td> <td>   -2.733</td> <td> 0.006</td> <td>   -1.477</td> <td>   -0.243</td>\n",
       "</tr>\n",
       "<tr>\n",
       "  <th>1.0/2.0</th>     <td>   -0.7168</td> <td>    0.276</td> <td>   -2.599</td> <td> 0.009</td> <td>   -1.257</td> <td>   -0.176</td>\n",
       "</tr>\n",
       "<tr>\n",
       "  <th>2.0/3.0</th>     <td>    0.0989</td> <td>    0.270</td> <td>    0.367</td> <td> 0.714</td> <td>   -0.430</td> <td>    0.628</td>\n",
       "</tr>\n",
       "</table>"
      ],
      "text/plain": [
       "<class 'statsmodels.iolib.summary.Summary'>\n",
       "\"\"\"\n",
       "                             OrderedModel Results                             \n",
       "==============================================================================\n",
       "Dep. Variable:                   camp   Log-Likelihood:                -26.523\n",
       "Model:                   OrderedModel   AIC:                             59.05\n",
       "Method:            Maximum Likelihood   BIC:                             63.15\n",
       "Date:                Tue, 26 Jul 2022                                         \n",
       "Time:                        14:24:23                                         \n",
       "No. Observations:                  29                                         \n",
       "Df Residuals:                      26                                         \n",
       "Df Model:                           3                                         \n",
       "===============================================================================\n",
       "                  coef    std err          z      P>|z|      [0.025      0.975]\n",
       "-------------------------------------------------------------------------------\n",
       "eigenvector    -0.8600      0.315     -2.733      0.006      -1.477      -0.243\n",
       "1.0/2.0        -0.7168      0.276     -2.599      0.009      -1.257      -0.176\n",
       "2.0/3.0         0.0989      0.270      0.367      0.714      -0.430       0.628\n",
       "===============================================================================\n",
       "\"\"\""
      ]
     },
     "execution_count": 77,
     "metadata": {},
     "output_type": "execute_result"
    }
   ],
   "source": [
    "ordinalReg(df_euCou_survey_gcm_impr, ['eigenvector'], 3)"
   ]
  },
  {
   "cell_type": "code",
   "execution_count": 78,
   "metadata": {},
   "outputs": [
    {
     "name": "stdout",
     "output_type": "stream",
     "text": [
      "Ordinal Regression:  ['pagerank']\n",
      "-------------------------------------\n",
      "Optimization terminated successfully.\n",
      "         Current function value: 0.510107\n",
      "         Iterations: 13\n",
      "         Function evaluations: 14\n",
      "         Gradient evaluations: 14\n"
     ]
    },
    {
     "data": {
      "text/html": [
       "<table class=\"simpletable\">\n",
       "<caption>OrderedModel Results</caption>\n",
       "<tr>\n",
       "  <th>Dep. Variable:</th>           <td>camp</td>        <th>  Log-Likelihood:    </th> <td> -14.793</td>\n",
       "</tr>\n",
       "<tr>\n",
       "  <th>Model:</th>               <td>OrderedModel</td>    <th>  AIC:               </th> <td>   35.59</td>\n",
       "</tr>\n",
       "<tr>\n",
       "  <th>Method:</th>           <td>Maximum Likelihood</td> <th>  BIC:               </th> <td>   39.69</td>\n",
       "</tr>\n",
       "<tr>\n",
       "  <th>Date:</th>              <td>Tue, 26 Jul 2022</td>  <th>                     </th>     <td> </td>   \n",
       "</tr>\n",
       "<tr>\n",
       "  <th>Time:</th>                  <td>14:24:26</td>      <th>                     </th>     <td> </td>   \n",
       "</tr>\n",
       "<tr>\n",
       "  <th>No. Observations:</th>       <td>    29</td>       <th>                     </th>     <td> </td>   \n",
       "</tr>\n",
       "<tr>\n",
       "  <th>Df Residuals:</th>           <td>    26</td>       <th>                     </th>     <td> </td>   \n",
       "</tr>\n",
       "<tr>\n",
       "  <th>Df Model:</th>               <td>     3</td>       <th>                     </th>     <td> </td>   \n",
       "</tr>\n",
       "</table>\n",
       "<table class=\"simpletable\">\n",
       "<tr>\n",
       "      <td></td>        <th>coef</th>     <th>std err</th>      <th>z</th>      <th>P>|z|</th>  <th>[0.025</th>    <th>0.975]</th>  \n",
       "</tr>\n",
       "<tr>\n",
       "  <th>pagerank</th> <td>   -4.6758</td> <td>    1.380</td> <td>   -3.387</td> <td> 0.001</td> <td>   -7.381</td> <td>   -1.970</td>\n",
       "</tr>\n",
       "<tr>\n",
       "  <th>1.0/2.0</th>  <td>   -0.5870</td> <td>    0.427</td> <td>   -1.374</td> <td> 0.169</td> <td>   -1.424</td> <td>    0.250</td>\n",
       "</tr>\n",
       "<tr>\n",
       "  <th>2.0/3.0</th>  <td>    0.7977</td> <td>    0.295</td> <td>    2.704</td> <td> 0.007</td> <td>    0.220</td> <td>    1.376</td>\n",
       "</tr>\n",
       "</table>"
      ],
      "text/plain": [
       "<class 'statsmodels.iolib.summary.Summary'>\n",
       "\"\"\"\n",
       "                             OrderedModel Results                             \n",
       "==============================================================================\n",
       "Dep. Variable:                   camp   Log-Likelihood:                -14.793\n",
       "Model:                   OrderedModel   AIC:                             35.59\n",
       "Method:            Maximum Likelihood   BIC:                             39.69\n",
       "Date:                Tue, 26 Jul 2022                                         \n",
       "Time:                        14:24:26                                         \n",
       "No. Observations:                  29                                         \n",
       "Df Residuals:                      26                                         \n",
       "Df Model:                           3                                         \n",
       "==============================================================================\n",
       "                 coef    std err          z      P>|z|      [0.025      0.975]\n",
       "------------------------------------------------------------------------------\n",
       "pagerank      -4.6758      1.380     -3.387      0.001      -7.381      -1.970\n",
       "1.0/2.0       -0.5870      0.427     -1.374      0.169      -1.424       0.250\n",
       "2.0/3.0        0.7977      0.295      2.704      0.007       0.220       1.376\n",
       "==============================================================================\n",
       "\"\"\""
      ]
     },
     "execution_count": 78,
     "metadata": {},
     "output_type": "execute_result"
    }
   ],
   "source": [
    "ordinalReg(df_euCou_survey_gcm_impr, ['pagerank'], 3)"
   ]
  },
  {
   "cell_type": "markdown",
   "metadata": {},
   "source": [
    "## Asian countries"
   ]
  },
  {
   "cell_type": "code",
   "execution_count": 49,
   "metadata": {},
   "outputs": [
    {
     "name": "stdout",
     "output_type": "stream",
     "text": [
      "Dataframe merged with shape: (60, 5)\n",
      "============================\n",
      "Rows with NaN values dropped: 7 from 33 => 21.21% \n",
      "Dataframe merged with shape: (26, 6)\n"
     ]
    }
   ],
   "source": [
    "# Asian countries from the \"Category\": \"dbc:Countries_in_Asia\", \"dbc:East_Asian_countries\" and \"dbc:Central_Asian_countries\"\n",
    "\n",
    "asCou_result = catMerger(df_asCou, df_ig_gcm)\n",
    "df_survey_asCou = pd.read_csv(\"../data/survey_single_cat_files/sv_prep_uri/sv_asian_countries_prep.csv\", sep=';') # .csv needed no manual uri correction\n",
    "\n",
    "df_asCou_survey_gcm = gcmSurfer(df_survey_asCou, asCou_result)"
   ]
  },
  {
   "cell_type": "code",
   "execution_count": 50,
   "metadata": {},
   "outputs": [
    {
     "name": "stdout",
     "output_type": "stream",
     "text": [
      "Rows with NaN values dropped: 7 from 33 => 21.21% \n",
      "Dataframe merged with shape: (26, 6)\n"
     ]
    }
   ],
   "source": [
    "df_survey_asCou_impr = pd.read_csv(\"../data/survey_single_cat_files/sv_prep_uri/improved_uri/sv_asian_countries_impr.csv\", sep=';') # .csv needed no manual uri correction\n",
    "\n",
    "df_asCou_survey_gcm_impr = gcmSurfer(df_survey_asCou_impr, asCou_result)"
   ]
  },
  {
   "cell_type": "code",
   "execution_count": 57,
   "metadata": {},
   "outputs": [
    {
     "name": "stdout",
     "output_type": "stream",
     "text": [
      "Ordinal Regression:  ['degree']\n",
      "-------------------------------------\n",
      "Optimization terminated successfully.\n",
      "         Current function value: 1.086538\n",
      "         Iterations: 6\n",
      "         Function evaluations: 7\n",
      "         Gradient evaluations: 7\n"
     ]
    },
    {
     "data": {
      "text/html": [
       "<table class=\"simpletable\">\n",
       "<caption>OrderedModel Results</caption>\n",
       "<tr>\n",
       "  <th>Dep. Variable:</th>           <td>camp</td>        <th>  Log-Likelihood:    </th> <td> -28.250</td>\n",
       "</tr>\n",
       "<tr>\n",
       "  <th>Model:</th>               <td>OrderedModel</td>    <th>  AIC:               </th> <td>   62.50</td>\n",
       "</tr>\n",
       "<tr>\n",
       "  <th>Method:</th>           <td>Maximum Likelihood</td> <th>  BIC:               </th> <td>   66.27</td>\n",
       "</tr>\n",
       "<tr>\n",
       "  <th>Date:</th>              <td>Tue, 26 Jul 2022</td>  <th>                     </th>     <td> </td>   \n",
       "</tr>\n",
       "<tr>\n",
       "  <th>Time:</th>                  <td>14:21:50</td>      <th>                     </th>     <td> </td>   \n",
       "</tr>\n",
       "<tr>\n",
       "  <th>No. Observations:</th>       <td>    26</td>       <th>                     </th>     <td> </td>   \n",
       "</tr>\n",
       "<tr>\n",
       "  <th>Df Residuals:</th>           <td>    23</td>       <th>                     </th>     <td> </td>   \n",
       "</tr>\n",
       "<tr>\n",
       "  <th>Df Model:</th>               <td>     3</td>       <th>                     </th>     <td> </td>   \n",
       "</tr>\n",
       "</table>\n",
       "<table class=\"simpletable\">\n",
       "<tr>\n",
       "     <td></td>        <th>coef</th>     <th>std err</th>      <th>z</th>      <th>P>|z|</th>  <th>[0.025</th>    <th>0.975]</th>  \n",
       "</tr>\n",
       "<tr>\n",
       "  <th>degree</th>  <td>   -0.1010</td> <td>    0.177</td> <td>   -0.569</td> <td> 0.569</td> <td>   -0.449</td> <td>    0.247</td>\n",
       "</tr>\n",
       "<tr>\n",
       "  <th>1.0/2.0</th> <td>   -0.5460</td> <td>    0.269</td> <td>   -2.027</td> <td> 0.043</td> <td>   -1.074</td> <td>   -0.018</td>\n",
       "</tr>\n",
       "<tr>\n",
       "  <th>2.0/3.0</th> <td>   -0.2204</td> <td>    0.310</td> <td>   -0.711</td> <td> 0.477</td> <td>   -0.828</td> <td>    0.387</td>\n",
       "</tr>\n",
       "</table>"
      ],
      "text/plain": [
       "<class 'statsmodels.iolib.summary.Summary'>\n",
       "\"\"\"\n",
       "                             OrderedModel Results                             \n",
       "==============================================================================\n",
       "Dep. Variable:                   camp   Log-Likelihood:                -28.250\n",
       "Model:                   OrderedModel   AIC:                             62.50\n",
       "Method:            Maximum Likelihood   BIC:                             66.27\n",
       "Date:                Tue, 26 Jul 2022                                         \n",
       "Time:                        14:21:50                                         \n",
       "No. Observations:                  26                                         \n",
       "Df Residuals:                      23                                         \n",
       "Df Model:                           3                                         \n",
       "==============================================================================\n",
       "                 coef    std err          z      P>|z|      [0.025      0.975]\n",
       "------------------------------------------------------------------------------\n",
       "degree        -0.1010      0.177     -0.569      0.569      -0.449       0.247\n",
       "1.0/2.0       -0.5460      0.269     -2.027      0.043      -1.074      -0.018\n",
       "2.0/3.0       -0.2204      0.310     -0.711      0.477      -0.828       0.387\n",
       "==============================================================================\n",
       "\"\"\""
      ]
     },
     "execution_count": 57,
     "metadata": {},
     "output_type": "execute_result"
    }
   ],
   "source": [
    "ordinalReg(df_asCou_survey_gcm_impr, ['degree'], 3)"
   ]
  },
  {
   "cell_type": "code",
   "execution_count": 79,
   "metadata": {},
   "outputs": [
    {
     "name": "stdout",
     "output_type": "stream",
     "text": [
      "Ordinal Regression:  ['eigenvector']\n",
      "-------------------------------------\n",
      "Optimization terminated successfully.\n",
      "         Current function value: 1.063999\n",
      "         Iterations: 7\n",
      "         Function evaluations: 8\n",
      "         Gradient evaluations: 8\n"
     ]
    },
    {
     "data": {
      "text/html": [
       "<table class=\"simpletable\">\n",
       "<caption>OrderedModel Results</caption>\n",
       "<tr>\n",
       "  <th>Dep. Variable:</th>           <td>camp</td>        <th>  Log-Likelihood:    </th> <td> -27.664</td>\n",
       "</tr>\n",
       "<tr>\n",
       "  <th>Model:</th>               <td>OrderedModel</td>    <th>  AIC:               </th> <td>   61.33</td>\n",
       "</tr>\n",
       "<tr>\n",
       "  <th>Method:</th>           <td>Maximum Likelihood</td> <th>  BIC:               </th> <td>   65.10</td>\n",
       "</tr>\n",
       "<tr>\n",
       "  <th>Date:</th>              <td>Tue, 26 Jul 2022</td>  <th>                     </th>     <td> </td>   \n",
       "</tr>\n",
       "<tr>\n",
       "  <th>Time:</th>                  <td>14:24:33</td>      <th>                     </th>     <td> </td>   \n",
       "</tr>\n",
       "<tr>\n",
       "  <th>No. Observations:</th>       <td>    26</td>       <th>                     </th>     <td> </td>   \n",
       "</tr>\n",
       "<tr>\n",
       "  <th>Df Residuals:</th>           <td>    23</td>       <th>                     </th>     <td> </td>   \n",
       "</tr>\n",
       "<tr>\n",
       "  <th>Df Model:</th>               <td>     3</td>       <th>                     </th>     <td> </td>   \n",
       "</tr>\n",
       "</table>\n",
       "<table class=\"simpletable\">\n",
       "<tr>\n",
       "       <td></td>          <th>coef</th>     <th>std err</th>      <th>z</th>      <th>P>|z|</th>  <th>[0.025</th>    <th>0.975]</th>  \n",
       "</tr>\n",
       "<tr>\n",
       "  <th>eigenvector</th> <td>   -0.2238</td> <td>    0.186</td> <td>   -1.202</td> <td> 0.229</td> <td>   -0.589</td> <td>    0.141</td>\n",
       "</tr>\n",
       "<tr>\n",
       "  <th>1.0/2.0</th>     <td>   -0.5895</td> <td>    0.271</td> <td>   -2.172</td> <td> 0.030</td> <td>   -1.121</td> <td>   -0.058</td>\n",
       "</tr>\n",
       "<tr>\n",
       "  <th>2.0/3.0</th>     <td>   -0.1905</td> <td>    0.310</td> <td>   -0.615</td> <td> 0.539</td> <td>   -0.798</td> <td>    0.417</td>\n",
       "</tr>\n",
       "</table>"
      ],
      "text/plain": [
       "<class 'statsmodels.iolib.summary.Summary'>\n",
       "\"\"\"\n",
       "                             OrderedModel Results                             \n",
       "==============================================================================\n",
       "Dep. Variable:                   camp   Log-Likelihood:                -27.664\n",
       "Model:                   OrderedModel   AIC:                             61.33\n",
       "Method:            Maximum Likelihood   BIC:                             65.10\n",
       "Date:                Tue, 26 Jul 2022                                         \n",
       "Time:                        14:24:33                                         \n",
       "No. Observations:                  26                                         \n",
       "Df Residuals:                      23                                         \n",
       "Df Model:                           3                                         \n",
       "===============================================================================\n",
       "                  coef    std err          z      P>|z|      [0.025      0.975]\n",
       "-------------------------------------------------------------------------------\n",
       "eigenvector    -0.2238      0.186     -1.202      0.229      -0.589       0.141\n",
       "1.0/2.0        -0.5895      0.271     -2.172      0.030      -1.121      -0.058\n",
       "2.0/3.0        -0.1905      0.310     -0.615      0.539      -0.798       0.417\n",
       "===============================================================================\n",
       "\"\"\""
      ]
     },
     "execution_count": 79,
     "metadata": {},
     "output_type": "execute_result"
    }
   ],
   "source": [
    "ordinalReg(df_asCou_survey_gcm_impr, ['eigenvector'], 3)"
   ]
  },
  {
   "cell_type": "code",
   "execution_count": 80,
   "metadata": {},
   "outputs": [
    {
     "name": "stdout",
     "output_type": "stream",
     "text": [
      "Ordinal Regression:  ['pagerank']\n",
      "-------------------------------------\n",
      "Optimization terminated successfully.\n",
      "         Current function value: 1.076496\n",
      "         Iterations: 7\n",
      "         Function evaluations: 8\n",
      "         Gradient evaluations: 8\n"
     ]
    },
    {
     "data": {
      "text/html": [
       "<table class=\"simpletable\">\n",
       "<caption>OrderedModel Results</caption>\n",
       "<tr>\n",
       "  <th>Dep. Variable:</th>           <td>camp</td>        <th>  Log-Likelihood:    </th> <td> -27.989</td>\n",
       "</tr>\n",
       "<tr>\n",
       "  <th>Model:</th>               <td>OrderedModel</td>    <th>  AIC:               </th> <td>   61.98</td>\n",
       "</tr>\n",
       "<tr>\n",
       "  <th>Method:</th>           <td>Maximum Likelihood</td> <th>  BIC:               </th> <td>   65.75</td>\n",
       "</tr>\n",
       "<tr>\n",
       "  <th>Date:</th>              <td>Tue, 26 Jul 2022</td>  <th>                     </th>     <td> </td>   \n",
       "</tr>\n",
       "<tr>\n",
       "  <th>Time:</th>                  <td>14:24:36</td>      <th>                     </th>     <td> </td>   \n",
       "</tr>\n",
       "<tr>\n",
       "  <th>No. Observations:</th>       <td>    26</td>       <th>                     </th>     <td> </td>   \n",
       "</tr>\n",
       "<tr>\n",
       "  <th>Df Residuals:</th>           <td>    23</td>       <th>                     </th>     <td> </td>   \n",
       "</tr>\n",
       "<tr>\n",
       "  <th>Df Model:</th>               <td>     3</td>       <th>                     </th>     <td> </td>   \n",
       "</tr>\n",
       "</table>\n",
       "<table class=\"simpletable\">\n",
       "<tr>\n",
       "      <td></td>        <th>coef</th>     <th>std err</th>      <th>z</th>      <th>P>|z|</th>  <th>[0.025</th>    <th>0.975]</th>  \n",
       "</tr>\n",
       "<tr>\n",
       "  <th>pagerank</th> <td>   -0.1670</td> <td>    0.184</td> <td>   -0.905</td> <td> 0.365</td> <td>   -0.528</td> <td>    0.194</td>\n",
       "</tr>\n",
       "<tr>\n",
       "  <th>1.0/2.0</th>  <td>   -0.5808</td> <td>    0.273</td> <td>   -2.127</td> <td> 0.033</td> <td>   -1.116</td> <td>   -0.046</td>\n",
       "</tr>\n",
       "<tr>\n",
       "  <th>2.0/3.0</th>  <td>   -0.2077</td> <td>    0.310</td> <td>   -0.670</td> <td> 0.503</td> <td>   -0.815</td> <td>    0.400</td>\n",
       "</tr>\n",
       "</table>"
      ],
      "text/plain": [
       "<class 'statsmodels.iolib.summary.Summary'>\n",
       "\"\"\"\n",
       "                             OrderedModel Results                             \n",
       "==============================================================================\n",
       "Dep. Variable:                   camp   Log-Likelihood:                -27.989\n",
       "Model:                   OrderedModel   AIC:                             61.98\n",
       "Method:            Maximum Likelihood   BIC:                             65.75\n",
       "Date:                Tue, 26 Jul 2022                                         \n",
       "Time:                        14:24:36                                         \n",
       "No. Observations:                  26                                         \n",
       "Df Residuals:                      23                                         \n",
       "Df Model:                           3                                         \n",
       "==============================================================================\n",
       "                 coef    std err          z      P>|z|      [0.025      0.975]\n",
       "------------------------------------------------------------------------------\n",
       "pagerank      -0.1670      0.184     -0.905      0.365      -0.528       0.194\n",
       "1.0/2.0       -0.5808      0.273     -2.127      0.033      -1.116      -0.046\n",
       "2.0/3.0       -0.2077      0.310     -0.670      0.503      -0.815       0.400\n",
       "==============================================================================\n",
       "\"\"\""
      ]
     },
     "execution_count": 80,
     "metadata": {},
     "output_type": "execute_result"
    }
   ],
   "source": [
    "ordinalReg(df_asCou_survey_gcm_impr, ['pagerank'], 3)"
   ]
  },
  {
   "cell_type": "markdown",
   "metadata": {},
   "source": [
    "## Continents"
   ]
  },
  {
   "cell_type": "code",
   "execution_count": 54,
   "metadata": {},
   "outputs": [
    {
     "name": "stdout",
     "output_type": "stream",
     "text": [
      "Dataframe merged with shape: (20, 5)\n",
      "============================\n",
      "Rows with NaN values dropped: 7 from 10 => 70.0% \n",
      "Dataframe merged with shape: (3, 6)\n"
     ]
    }
   ],
   "source": [
    "# Continents from the \"Category\": \"dbo:Continents\"\n",
    "\n",
    "continent_result = catMerger(df_continent, df_ig_gcm)\n",
    "df_survey_continent = pd.read_csv(\"../data/survey_single_cat_files/sv_prep_uri/sv_continents_prep.csv\", sep=';')\n",
    "\n",
    "df_continent_survey_gcm = gcmSurfer(df_survey_continent, continent_result)"
   ]
  },
  {
   "cell_type": "code",
   "execution_count": 55,
   "metadata": {},
   "outputs": [
    {
     "name": "stdout",
     "output_type": "stream",
     "text": [
      "Rows with NaN values dropped: 1 from 8 => 12.5% \n",
      "Dataframe merged with shape: (7, 6)\n"
     ]
    }
   ],
   "source": [
    "df_survey_continent_impr = pd.read_csv(\"../data/survey_single_cat_files/sv_prep_uri/improved_uri/sv_continents_impr.csv\", sep=';') # .csv needed no manual uri correction\n",
    "\n",
    "df_continent_survey_gcm_impr = gcmSurfer(df_survey_continent_impr, continent_result)"
   ]
  },
  {
   "cell_type": "code",
   "execution_count": 81,
   "metadata": {},
   "outputs": [
    {
     "name": "stdout",
     "output_type": "stream",
     "text": [
      "Ordinal Regression:  ['degree']\n",
      "-------------------------------------\n",
      "Optimization terminated successfully.\n",
      "         Current function value: 1.025213\n",
      "         Iterations: 8\n",
      "         Function evaluations: 9\n",
      "         Gradient evaluations: 9\n"
     ]
    },
    {
     "data": {
      "text/html": [
       "<table class=\"simpletable\">\n",
       "<caption>OrderedModel Results</caption>\n",
       "<tr>\n",
       "  <th>Dep. Variable:</th>           <td>camp</td>        <th>  Log-Likelihood:    </th> <td> -7.1765</td>\n",
       "</tr>\n",
       "<tr>\n",
       "  <th>Model:</th>               <td>OrderedModel</td>    <th>  AIC:               </th> <td>   20.35</td>\n",
       "</tr>\n",
       "<tr>\n",
       "  <th>Method:</th>           <td>Maximum Likelihood</td> <th>  BIC:               </th> <td>   20.19</td>\n",
       "</tr>\n",
       "<tr>\n",
       "  <th>Date:</th>              <td>Tue, 26 Jul 2022</td>  <th>                     </th>     <td> </td>   \n",
       "</tr>\n",
       "<tr>\n",
       "  <th>Time:</th>                  <td>14:24:46</td>      <th>                     </th>     <td> </td>   \n",
       "</tr>\n",
       "<tr>\n",
       "  <th>No. Observations:</th>       <td>     7</td>       <th>                     </th>     <td> </td>   \n",
       "</tr>\n",
       "<tr>\n",
       "  <th>Df Residuals:</th>           <td>     4</td>       <th>                     </th>     <td> </td>   \n",
       "</tr>\n",
       "<tr>\n",
       "  <th>Df Model:</th>               <td>     3</td>       <th>                     </th>     <td> </td>   \n",
       "</tr>\n",
       "</table>\n",
       "<table class=\"simpletable\">\n",
       "<tr>\n",
       "     <td></td>        <th>coef</th>     <th>std err</th>      <th>z</th>      <th>P>|z|</th>  <th>[0.025</th>    <th>0.975]</th>  \n",
       "</tr>\n",
       "<tr>\n",
       "  <th>degree</th>  <td>    0.3437</td> <td>    0.439</td> <td>    0.783</td> <td> 0.434</td> <td>   -0.517</td> <td>    1.204</td>\n",
       "</tr>\n",
       "<tr>\n",
       "  <th>1.0/2.0</th> <td>   -0.4831</td> <td>    0.516</td> <td>   -0.935</td> <td> 0.350</td> <td>   -1.495</td> <td>    0.529</td>\n",
       "</tr>\n",
       "<tr>\n",
       "  <th>2.0/3.0</th> <td>   -0.2370</td> <td>    0.621</td> <td>   -0.382</td> <td> 0.703</td> <td>   -1.454</td> <td>    0.980</td>\n",
       "</tr>\n",
       "</table>"
      ],
      "text/plain": [
       "<class 'statsmodels.iolib.summary.Summary'>\n",
       "\"\"\"\n",
       "                             OrderedModel Results                             \n",
       "==============================================================================\n",
       "Dep. Variable:                   camp   Log-Likelihood:                -7.1765\n",
       "Model:                   OrderedModel   AIC:                             20.35\n",
       "Method:            Maximum Likelihood   BIC:                             20.19\n",
       "Date:                Tue, 26 Jul 2022                                         \n",
       "Time:                        14:24:46                                         \n",
       "No. Observations:                   7                                         \n",
       "Df Residuals:                       4                                         \n",
       "Df Model:                           3                                         \n",
       "==============================================================================\n",
       "                 coef    std err          z      P>|z|      [0.025      0.975]\n",
       "------------------------------------------------------------------------------\n",
       "degree         0.3437      0.439      0.783      0.434      -0.517       1.204\n",
       "1.0/2.0       -0.4831      0.516     -0.935      0.350      -1.495       0.529\n",
       "2.0/3.0       -0.2370      0.621     -0.382      0.703      -1.454       0.980\n",
       "==============================================================================\n",
       "\"\"\""
      ]
     },
     "execution_count": 81,
     "metadata": {},
     "output_type": "execute_result"
    }
   ],
   "source": [
    "ordinalReg(df_continent_survey_gcm_impr, ['degree'], 3)"
   ]
  },
  {
   "cell_type": "code",
   "execution_count": 82,
   "metadata": {},
   "outputs": [
    {
     "name": "stdout",
     "output_type": "stream",
     "text": [
      "Ordinal Regression:  ['eigenvector']\n",
      "-------------------------------------\n",
      "Optimization terminated successfully.\n",
      "         Current function value: 1.022176\n",
      "         Iterations: 8\n",
      "         Function evaluations: 9\n",
      "         Gradient evaluations: 9\n"
     ]
    },
    {
     "data": {
      "text/html": [
       "<table class=\"simpletable\">\n",
       "<caption>OrderedModel Results</caption>\n",
       "<tr>\n",
       "  <th>Dep. Variable:</th>           <td>camp</td>        <th>  Log-Likelihood:    </th> <td> -7.1552</td>\n",
       "</tr>\n",
       "<tr>\n",
       "  <th>Model:</th>               <td>OrderedModel</td>    <th>  AIC:               </th> <td>   20.31</td>\n",
       "</tr>\n",
       "<tr>\n",
       "  <th>Method:</th>           <td>Maximum Likelihood</td> <th>  BIC:               </th> <td>   20.15</td>\n",
       "</tr>\n",
       "<tr>\n",
       "  <th>Date:</th>              <td>Tue, 26 Jul 2022</td>  <th>                     </th>     <td> </td>   \n",
       "</tr>\n",
       "<tr>\n",
       "  <th>Time:</th>                  <td>14:24:54</td>      <th>                     </th>     <td> </td>   \n",
       "</tr>\n",
       "<tr>\n",
       "  <th>No. Observations:</th>       <td>     7</td>       <th>                     </th>     <td> </td>   \n",
       "</tr>\n",
       "<tr>\n",
       "  <th>Df Residuals:</th>           <td>     4</td>       <th>                     </th>     <td> </td>   \n",
       "</tr>\n",
       "<tr>\n",
       "  <th>Df Model:</th>               <td>     3</td>       <th>                     </th>     <td> </td>   \n",
       "</tr>\n",
       "</table>\n",
       "<table class=\"simpletable\">\n",
       "<tr>\n",
       "       <td></td>          <th>coef</th>     <th>std err</th>      <th>z</th>      <th>P>|z|</th>  <th>[0.025</th>    <th>0.975]</th>  \n",
       "</tr>\n",
       "<tr>\n",
       "  <th>eigenvector</th> <td>    0.3434</td> <td>    0.426</td> <td>    0.805</td> <td> 0.421</td> <td>   -0.492</td> <td>    1.179</td>\n",
       "</tr>\n",
       "<tr>\n",
       "  <th>1.0/2.0</th>     <td>   -0.5060</td> <td>    0.514</td> <td>   -0.983</td> <td> 0.325</td> <td>   -1.514</td> <td>    0.502</td>\n",
       "</tr>\n",
       "<tr>\n",
       "  <th>2.0/3.0</th>     <td>   -0.2320</td> <td>    0.621</td> <td>   -0.374</td> <td> 0.709</td> <td>   -1.449</td> <td>    0.985</td>\n",
       "</tr>\n",
       "</table>"
      ],
      "text/plain": [
       "<class 'statsmodels.iolib.summary.Summary'>\n",
       "\"\"\"\n",
       "                             OrderedModel Results                             \n",
       "==============================================================================\n",
       "Dep. Variable:                   camp   Log-Likelihood:                -7.1552\n",
       "Model:                   OrderedModel   AIC:                             20.31\n",
       "Method:            Maximum Likelihood   BIC:                             20.15\n",
       "Date:                Tue, 26 Jul 2022                                         \n",
       "Time:                        14:24:54                                         \n",
       "No. Observations:                   7                                         \n",
       "Df Residuals:                       4                                         \n",
       "Df Model:                           3                                         \n",
       "===============================================================================\n",
       "                  coef    std err          z      P>|z|      [0.025      0.975]\n",
       "-------------------------------------------------------------------------------\n",
       "eigenvector     0.3434      0.426      0.805      0.421      -0.492       1.179\n",
       "1.0/2.0        -0.5060      0.514     -0.983      0.325      -1.514       0.502\n",
       "2.0/3.0        -0.2320      0.621     -0.374      0.709      -1.449       0.985\n",
       "===============================================================================\n",
       "\"\"\""
      ]
     },
     "execution_count": 82,
     "metadata": {},
     "output_type": "execute_result"
    }
   ],
   "source": [
    "ordinalReg(df_continent_survey_gcm_impr, ['eigenvector'], 3)"
   ]
  },
  {
   "cell_type": "code",
   "execution_count": 83,
   "metadata": {},
   "outputs": [
    {
     "name": "stdout",
     "output_type": "stream",
     "text": [
      "Ordinal Regression:  ['pagerank']\n",
      "-------------------------------------\n",
      "Optimization terminated successfully.\n",
      "         Current function value: 1.018234\n",
      "         Iterations: 8\n",
      "         Function evaluations: 9\n",
      "         Gradient evaluations: 9\n"
     ]
    },
    {
     "data": {
      "text/html": [
       "<table class=\"simpletable\">\n",
       "<caption>OrderedModel Results</caption>\n",
       "<tr>\n",
       "  <th>Dep. Variable:</th>           <td>camp</td>        <th>  Log-Likelihood:    </th> <td> -7.1276</td>\n",
       "</tr>\n",
       "<tr>\n",
       "  <th>Model:</th>               <td>OrderedModel</td>    <th>  AIC:               </th> <td>   20.26</td>\n",
       "</tr>\n",
       "<tr>\n",
       "  <th>Method:</th>           <td>Maximum Likelihood</td> <th>  BIC:               </th> <td>   20.09</td>\n",
       "</tr>\n",
       "<tr>\n",
       "  <th>Date:</th>              <td>Tue, 26 Jul 2022</td>  <th>                     </th>     <td> </td>   \n",
       "</tr>\n",
       "<tr>\n",
       "  <th>Time:</th>                  <td>14:24:54</td>      <th>                     </th>     <td> </td>   \n",
       "</tr>\n",
       "<tr>\n",
       "  <th>No. Observations:</th>       <td>     7</td>       <th>                     </th>     <td> </td>   \n",
       "</tr>\n",
       "<tr>\n",
       "  <th>Df Residuals:</th>           <td>     4</td>       <th>                     </th>     <td> </td>   \n",
       "</tr>\n",
       "<tr>\n",
       "  <th>Df Model:</th>               <td>     3</td>       <th>                     </th>     <td> </td>   \n",
       "</tr>\n",
       "</table>\n",
       "<table class=\"simpletable\">\n",
       "<tr>\n",
       "      <td></td>        <th>coef</th>     <th>std err</th>      <th>z</th>      <th>P>|z|</th>  <th>[0.025</th>    <th>0.975]</th>  \n",
       "</tr>\n",
       "<tr>\n",
       "  <th>pagerank</th> <td>    0.3686</td> <td>    0.452</td> <td>    0.816</td> <td> 0.414</td> <td>   -0.517</td> <td>    1.254</td>\n",
       "</tr>\n",
       "<tr>\n",
       "  <th>1.0/2.0</th>  <td>   -0.4900</td> <td>    0.516</td> <td>   -0.950</td> <td> 0.342</td> <td>   -1.501</td> <td>    0.521</td>\n",
       "</tr>\n",
       "<tr>\n",
       "  <th>2.0/3.0</th>  <td>   -0.2296</td> <td>    0.620</td> <td>   -0.370</td> <td> 0.711</td> <td>   -1.445</td> <td>    0.986</td>\n",
       "</tr>\n",
       "</table>"
      ],
      "text/plain": [
       "<class 'statsmodels.iolib.summary.Summary'>\n",
       "\"\"\"\n",
       "                             OrderedModel Results                             \n",
       "==============================================================================\n",
       "Dep. Variable:                   camp   Log-Likelihood:                -7.1276\n",
       "Model:                   OrderedModel   AIC:                             20.26\n",
       "Method:            Maximum Likelihood   BIC:                             20.09\n",
       "Date:                Tue, 26 Jul 2022                                         \n",
       "Time:                        14:24:54                                         \n",
       "No. Observations:                   7                                         \n",
       "Df Residuals:                       4                                         \n",
       "Df Model:                           3                                         \n",
       "==============================================================================\n",
       "                 coef    std err          z      P>|z|      [0.025      0.975]\n",
       "------------------------------------------------------------------------------\n",
       "pagerank       0.3686      0.452      0.816      0.414      -0.517       1.254\n",
       "1.0/2.0       -0.4900      0.516     -0.950      0.342      -1.501       0.521\n",
       "2.0/3.0       -0.2296      0.620     -0.370      0.711      -1.445       0.986\n",
       "==============================================================================\n",
       "\"\"\""
      ]
     },
     "execution_count": 83,
     "metadata": {},
     "output_type": "execute_result"
    }
   ],
   "source": [
    "ordinalReg(df_continent_survey_gcm_impr, ['pagerank'], 3)"
   ]
  },
  {
   "cell_type": "markdown",
   "metadata": {},
   "source": [
    "## Birds"
   ]
  },
  {
   "cell_type": "code",
   "execution_count": 86,
   "metadata": {},
   "outputs": [
    {
     "name": "stdout",
     "output_type": "stream",
     "text": [
      "Dataframe merged with shape: (10000, 5)\n",
      "============================\n",
      "Rows with NaN values dropped: 52 from 61 => 85.25% \n",
      "Dataframe merged with shape: (9, 6)\n"
     ]
    }
   ],
   "source": [
    "# Birds from the \"Class\": \"dbr:Bird\"\n",
    "\n",
    "bird_result = catMerger(df_bird, df_ig_gcm)\n",
    "df_survey_bird = pd.read_csv(\"../data/survey_single_cat_files/sv_prep_uri/sv_birds_prep.csv\", sep=';')\n",
    "\n",
    "df_birds_survey_gcm = gcmSurfer(df_survey_bird, bird_result)"
   ]
  },
  {
   "cell_type": "code",
   "execution_count": 87,
   "metadata": {},
   "outputs": [
    {
     "name": "stdout",
     "output_type": "stream",
     "text": [
      "Rows with NaN values dropped: 27 from 50 => 54.0% \n",
      "Dataframe merged with shape: (23, 6)\n"
     ]
    }
   ],
   "source": [
    "df_survey_bird_impr = pd.read_csv(\"../data/survey_single_cat_files/sv_prep_uri/improved_uri/sv_birds_impr.csv\", sep=';')\n",
    "\n",
    "df_birds_survey_gcm_impr = gcmSurfer(df_survey_bird_impr, bird_result)"
   ]
  },
  {
   "cell_type": "code",
   "execution_count": 88,
   "metadata": {},
   "outputs": [
    {
     "name": "stdout",
     "output_type": "stream",
     "text": [
      "Ordinal Regression:  ['degree']\n",
      "-------------------------------------\n",
      "Optimization terminated successfully.\n",
      "         Current function value: 0.698968\n",
      "         Iterations: 8\n",
      "         Function evaluations: 10\n",
      "         Gradient evaluations: 10\n"
     ]
    },
    {
     "data": {
      "text/html": [
       "<table class=\"simpletable\">\n",
       "<caption>OrderedModel Results</caption>\n",
       "<tr>\n",
       "  <th>Dep. Variable:</th>           <td>camp</td>        <th>  Log-Likelihood:    </th> <td> -16.076</td>\n",
       "</tr>\n",
       "<tr>\n",
       "  <th>Model:</th>               <td>OrderedModel</td>    <th>  AIC:               </th> <td>   38.15</td>\n",
       "</tr>\n",
       "<tr>\n",
       "  <th>Method:</th>           <td>Maximum Likelihood</td> <th>  BIC:               </th> <td>   41.56</td>\n",
       "</tr>\n",
       "<tr>\n",
       "  <th>Date:</th>              <td>Tue, 26 Jul 2022</td>  <th>                     </th>     <td> </td>   \n",
       "</tr>\n",
       "<tr>\n",
       "  <th>Time:</th>                  <td>14:25:25</td>      <th>                     </th>     <td> </td>   \n",
       "</tr>\n",
       "<tr>\n",
       "  <th>No. Observations:</th>       <td>    23</td>       <th>                     </th>     <td> </td>   \n",
       "</tr>\n",
       "<tr>\n",
       "  <th>Df Residuals:</th>           <td>    20</td>       <th>                     </th>     <td> </td>   \n",
       "</tr>\n",
       "<tr>\n",
       "  <th>Df Model:</th>               <td>     3</td>       <th>                     </th>     <td> </td>   \n",
       "</tr>\n",
       "</table>\n",
       "<table class=\"simpletable\">\n",
       "<tr>\n",
       "     <td></td>        <th>coef</th>     <th>std err</th>      <th>z</th>      <th>P>|z|</th>  <th>[0.025</th>    <th>0.975]</th>  \n",
       "</tr>\n",
       "<tr>\n",
       "  <th>degree</th>  <td>   -0.1867</td> <td>    0.137</td> <td>   -1.367</td> <td> 0.171</td> <td>   -0.454</td> <td>    0.081</td>\n",
       "</tr>\n",
       "<tr>\n",
       "  <th>1.0/2.0</th> <td>   -1.4993</td> <td>    0.399</td> <td>   -3.761</td> <td> 0.000</td> <td>   -2.281</td> <td>   -0.718</td>\n",
       "</tr>\n",
       "<tr>\n",
       "  <th>2.0/3.0</th> <td>   -0.2557</td> <td>    0.457</td> <td>   -0.560</td> <td> 0.576</td> <td>   -1.151</td> <td>    0.640</td>\n",
       "</tr>\n",
       "</table>"
      ],
      "text/plain": [
       "<class 'statsmodels.iolib.summary.Summary'>\n",
       "\"\"\"\n",
       "                             OrderedModel Results                             \n",
       "==============================================================================\n",
       "Dep. Variable:                   camp   Log-Likelihood:                -16.076\n",
       "Model:                   OrderedModel   AIC:                             38.15\n",
       "Method:            Maximum Likelihood   BIC:                             41.56\n",
       "Date:                Tue, 26 Jul 2022                                         \n",
       "Time:                        14:25:25                                         \n",
       "No. Observations:                  23                                         \n",
       "Df Residuals:                      20                                         \n",
       "Df Model:                           3                                         \n",
       "==============================================================================\n",
       "                 coef    std err          z      P>|z|      [0.025      0.975]\n",
       "------------------------------------------------------------------------------\n",
       "degree        -0.1867      0.137     -1.367      0.171      -0.454       0.081\n",
       "1.0/2.0       -1.4993      0.399     -3.761      0.000      -2.281      -0.718\n",
       "2.0/3.0       -0.2557      0.457     -0.560      0.576      -1.151       0.640\n",
       "==============================================================================\n",
       "\"\"\""
      ]
     },
     "execution_count": 88,
     "metadata": {},
     "output_type": "execute_result"
    }
   ],
   "source": [
    "ordinalReg(df_birds_survey_gcm_impr, ['degree'], 3)"
   ]
  },
  {
   "cell_type": "code",
   "execution_count": 89,
   "metadata": {},
   "outputs": [
    {
     "name": "stdout",
     "output_type": "stream",
     "text": [
      "Ordinal Regression:  ['eigenvector']\n",
      "-------------------------------------\n",
      "Optimization terminated successfully.\n",
      "         Current function value: 0.626334\n",
      "         Iterations: 20\n",
      "         Function evaluations: 25\n",
      "         Gradient evaluations: 25\n"
     ]
    },
    {
     "data": {
      "text/html": [
       "<table class=\"simpletable\">\n",
       "<caption>OrderedModel Results</caption>\n",
       "<tr>\n",
       "  <th>Dep. Variable:</th>           <td>camp</td>        <th>  Log-Likelihood:    </th> <td> -14.406</td>\n",
       "</tr>\n",
       "<tr>\n",
       "  <th>Model:</th>               <td>OrderedModel</td>    <th>  AIC:               </th> <td>   34.81</td>\n",
       "</tr>\n",
       "<tr>\n",
       "  <th>Method:</th>           <td>Maximum Likelihood</td> <th>  BIC:               </th> <td>   38.22</td>\n",
       "</tr>\n",
       "<tr>\n",
       "  <th>Date:</th>              <td>Tue, 26 Jul 2022</td>  <th>                     </th>     <td> </td>   \n",
       "</tr>\n",
       "<tr>\n",
       "  <th>Time:</th>                  <td>14:25:25</td>      <th>                     </th>     <td> </td>   \n",
       "</tr>\n",
       "<tr>\n",
       "  <th>No. Observations:</th>       <td>    23</td>       <th>                     </th>     <td> </td>   \n",
       "</tr>\n",
       "<tr>\n",
       "  <th>Df Residuals:</th>           <td>    20</td>       <th>                     </th>     <td> </td>   \n",
       "</tr>\n",
       "<tr>\n",
       "  <th>Df Model:</th>               <td>     3</td>       <th>                     </th>     <td> </td>   \n",
       "</tr>\n",
       "</table>\n",
       "<table class=\"simpletable\">\n",
       "<tr>\n",
       "       <td></td>          <th>coef</th>     <th>std err</th>      <th>z</th>      <th>P>|z|</th>  <th>[0.025</th>    <th>0.975]</th>  \n",
       "</tr>\n",
       "<tr>\n",
       "  <th>eigenvector</th> <td>  153.1924</td> <td>  153.030</td> <td>    1.001</td> <td> 0.317</td> <td> -146.741</td> <td>  453.125</td>\n",
       "</tr>\n",
       "<tr>\n",
       "  <th>1.0/2.0</th>     <td>   -6.4446</td> <td>    4.830</td> <td>   -1.334</td> <td> 0.182</td> <td>  -15.911</td> <td>    3.022</td>\n",
       "</tr>\n",
       "<tr>\n",
       "  <th>2.0/3.0</th>     <td>   -0.0657</td> <td>    0.467</td> <td>   -0.141</td> <td> 0.888</td> <td>   -0.980</td> <td>    0.849</td>\n",
       "</tr>\n",
       "</table>"
      ],
      "text/plain": [
       "<class 'statsmodels.iolib.summary.Summary'>\n",
       "\"\"\"\n",
       "                             OrderedModel Results                             \n",
       "==============================================================================\n",
       "Dep. Variable:                   camp   Log-Likelihood:                -14.406\n",
       "Model:                   OrderedModel   AIC:                             34.81\n",
       "Method:            Maximum Likelihood   BIC:                             38.22\n",
       "Date:                Tue, 26 Jul 2022                                         \n",
       "Time:                        14:25:25                                         \n",
       "No. Observations:                  23                                         \n",
       "Df Residuals:                      20                                         \n",
       "Df Model:                           3                                         \n",
       "===============================================================================\n",
       "                  coef    std err          z      P>|z|      [0.025      0.975]\n",
       "-------------------------------------------------------------------------------\n",
       "eigenvector   153.1924    153.030      1.001      0.317    -146.741     453.125\n",
       "1.0/2.0        -6.4446      4.830     -1.334      0.182     -15.911       3.022\n",
       "2.0/3.0        -0.0657      0.467     -0.141      0.888      -0.980       0.849\n",
       "===============================================================================\n",
       "\"\"\""
      ]
     },
     "execution_count": 89,
     "metadata": {},
     "output_type": "execute_result"
    }
   ],
   "source": [
    "ordinalReg(df_birds_survey_gcm_impr, ['eigenvector'], 3)"
   ]
  },
  {
   "cell_type": "code",
   "execution_count": 90,
   "metadata": {},
   "outputs": [
    {
     "name": "stdout",
     "output_type": "stream",
     "text": [
      "Ordinal Regression:  ['pagerank']\n",
      "-------------------------------------\n",
      "Optimization terminated successfully.\n",
      "         Current function value: 0.702905\n",
      "         Iterations: 8\n",
      "         Function evaluations: 10\n",
      "         Gradient evaluations: 10\n"
     ]
    },
    {
     "data": {
      "text/html": [
       "<table class=\"simpletable\">\n",
       "<caption>OrderedModel Results</caption>\n",
       "<tr>\n",
       "  <th>Dep. Variable:</th>           <td>camp</td>        <th>  Log-Likelihood:    </th> <td> -16.167</td>\n",
       "</tr>\n",
       "<tr>\n",
       "  <th>Model:</th>               <td>OrderedModel</td>    <th>  AIC:               </th> <td>   38.33</td>\n",
       "</tr>\n",
       "<tr>\n",
       "  <th>Method:</th>           <td>Maximum Likelihood</td> <th>  BIC:               </th> <td>   41.74</td>\n",
       "</tr>\n",
       "<tr>\n",
       "  <th>Date:</th>              <td>Tue, 26 Jul 2022</td>  <th>                     </th>     <td> </td>   \n",
       "</tr>\n",
       "<tr>\n",
       "  <th>Time:</th>                  <td>14:25:25</td>      <th>                     </th>     <td> </td>   \n",
       "</tr>\n",
       "<tr>\n",
       "  <th>No. Observations:</th>       <td>    23</td>       <th>                     </th>     <td> </td>   \n",
       "</tr>\n",
       "<tr>\n",
       "  <th>Df Residuals:</th>           <td>    20</td>       <th>                     </th>     <td> </td>   \n",
       "</tr>\n",
       "<tr>\n",
       "  <th>Df Model:</th>               <td>     3</td>       <th>                     </th>     <td> </td>   \n",
       "</tr>\n",
       "</table>\n",
       "<table class=\"simpletable\">\n",
       "<tr>\n",
       "      <td></td>        <th>coef</th>     <th>std err</th>      <th>z</th>      <th>P>|z|</th>  <th>[0.025</th>    <th>0.975]</th>  \n",
       "</tr>\n",
       "<tr>\n",
       "  <th>pagerank</th> <td>   -0.1829</td> <td>    0.141</td> <td>   -1.301</td> <td> 0.193</td> <td>   -0.458</td> <td>    0.093</td>\n",
       "</tr>\n",
       "<tr>\n",
       "  <th>1.0/2.0</th>  <td>   -1.5020</td> <td>    0.399</td> <td>   -3.763</td> <td> 0.000</td> <td>   -2.284</td> <td>   -0.720</td>\n",
       "</tr>\n",
       "<tr>\n",
       "  <th>2.0/3.0</th>  <td>   -0.2641</td> <td>    0.457</td> <td>   -0.578</td> <td> 0.563</td> <td>   -1.159</td> <td>    0.631</td>\n",
       "</tr>\n",
       "</table>"
      ],
      "text/plain": [
       "<class 'statsmodels.iolib.summary.Summary'>\n",
       "\"\"\"\n",
       "                             OrderedModel Results                             \n",
       "==============================================================================\n",
       "Dep. Variable:                   camp   Log-Likelihood:                -16.167\n",
       "Model:                   OrderedModel   AIC:                             38.33\n",
       "Method:            Maximum Likelihood   BIC:                             41.74\n",
       "Date:                Tue, 26 Jul 2022                                         \n",
       "Time:                        14:25:25                                         \n",
       "No. Observations:                  23                                         \n",
       "Df Residuals:                      20                                         \n",
       "Df Model:                           3                                         \n",
       "==============================================================================\n",
       "                 coef    std err          z      P>|z|      [0.025      0.975]\n",
       "------------------------------------------------------------------------------\n",
       "pagerank      -0.1829      0.141     -1.301      0.193      -0.458       0.093\n",
       "1.0/2.0       -1.5020      0.399     -3.763      0.000      -2.284      -0.720\n",
       "2.0/3.0       -0.2641      0.457     -0.578      0.563      -1.159       0.631\n",
       "==============================================================================\n",
       "\"\"\""
      ]
     },
     "execution_count": 90,
     "metadata": {},
     "output_type": "execute_result"
    }
   ],
   "source": [
    "ordinalReg(df_birds_survey_gcm_impr, ['pagerank'], 3)"
   ]
  },
  {
   "cell_type": "markdown",
   "metadata": {},
   "source": [
    "## African animals"
   ]
  },
  {
   "cell_type": "code",
   "execution_count": 91,
   "metadata": {},
   "outputs": [
    {
     "name": "stdout",
     "output_type": "stream",
     "text": [
      "Dataframe merged with shape: (10000, 5)\n",
      "============================\n",
      "Rows with NaN values dropped: 22 from 29 => 75.86% \n",
      "Dataframe merged with shape: (7, 6)\n"
     ]
    }
   ],
   "source": [
    "# African animals from the \"Category\": \"dbc:Vertebrates_of_Africa\"\n",
    "\n",
    "afrAnimal_result = catMerger(df_africanAnimal, df_ig_gcm)\n",
    "df_survey_afrAnimal = pd.read_csv(\"../data/survey_single_cat_files/sv_prep_uri/sv_african_animals_prep.csv\", sep=';')\n",
    "\n",
    "df_afrAnimal_survey_gcm = gcmSurfer(df_survey_afrAnimal, afrAnimal_result)"
   ]
  },
  {
   "cell_type": "code",
   "execution_count": 92,
   "metadata": {},
   "outputs": [
    {
     "name": "stdout",
     "output_type": "stream",
     "text": [
      "Rows with NaN values dropped: 11 from 25 => 44.0% \n",
      "Dataframe merged with shape: (14, 6)\n"
     ]
    }
   ],
   "source": [
    "df_survey_afrAnimal_impr = pd.read_csv(\"../data/survey_single_cat_files/sv_prep_uri/improved_uri/sv_african_animals_impr.csv\", sep=';')\n",
    "\n",
    "df_afrAnimal_survey_gcm_impr = gcmSurfer(df_survey_afrAnimal_impr, afrAnimal_result)"
   ]
  },
  {
   "cell_type": "code",
   "execution_count": 93,
   "metadata": {},
   "outputs": [
    {
     "name": "stdout",
     "output_type": "stream",
     "text": [
      "Ordinal Regression:  ['degree']\n",
      "-------------------------------------\n",
      "Optimization terminated successfully.\n",
      "         Current function value: 0.838457\n",
      "         Iterations: 10\n",
      "         Function evaluations: 11\n",
      "         Gradient evaluations: 11\n"
     ]
    },
    {
     "data": {
      "text/html": [
       "<table class=\"simpletable\">\n",
       "<caption>OrderedModel Results</caption>\n",
       "<tr>\n",
       "  <th>Dep. Variable:</th>           <td>camp</td>        <th>  Log-Likelihood:    </th> <td> -11.738</td>\n",
       "</tr>\n",
       "<tr>\n",
       "  <th>Model:</th>               <td>OrderedModel</td>    <th>  AIC:               </th> <td>   29.48</td>\n",
       "</tr>\n",
       "<tr>\n",
       "  <th>Method:</th>           <td>Maximum Likelihood</td> <th>  BIC:               </th> <td>   31.39</td>\n",
       "</tr>\n",
       "<tr>\n",
       "  <th>Date:</th>              <td>Tue, 26 Jul 2022</td>  <th>                     </th>     <td> </td>   \n",
       "</tr>\n",
       "<tr>\n",
       "  <th>Time:</th>                  <td>14:25:36</td>      <th>                     </th>     <td> </td>   \n",
       "</tr>\n",
       "<tr>\n",
       "  <th>No. Observations:</th>       <td>    14</td>       <th>                     </th>     <td> </td>   \n",
       "</tr>\n",
       "<tr>\n",
       "  <th>Df Residuals:</th>           <td>    11</td>       <th>                     </th>     <td> </td>   \n",
       "</tr>\n",
       "<tr>\n",
       "  <th>Df Model:</th>               <td>     3</td>       <th>                     </th>     <td> </td>   \n",
       "</tr>\n",
       "</table>\n",
       "<table class=\"simpletable\">\n",
       "<tr>\n",
       "     <td></td>        <th>coef</th>     <th>std err</th>      <th>z</th>      <th>P>|z|</th>  <th>[0.025</th>    <th>0.975]</th>  \n",
       "</tr>\n",
       "<tr>\n",
       "  <th>degree</th>  <td>   -0.8070</td> <td>    0.470</td> <td>   -1.718</td> <td> 0.086</td> <td>   -1.728</td> <td>    0.114</td>\n",
       "</tr>\n",
       "<tr>\n",
       "  <th>1.0/2.0</th> <td>   -0.6815</td> <td>    0.390</td> <td>   -1.748</td> <td> 0.080</td> <td>   -1.446</td> <td>    0.083</td>\n",
       "</tr>\n",
       "<tr>\n",
       "  <th>2.0/3.0</th> <td>   -0.7587</td> <td>    0.657</td> <td>   -1.154</td> <td> 0.248</td> <td>   -2.047</td> <td>    0.529</td>\n",
       "</tr>\n",
       "</table>"
      ],
      "text/plain": [
       "<class 'statsmodels.iolib.summary.Summary'>\n",
       "\"\"\"\n",
       "                             OrderedModel Results                             \n",
       "==============================================================================\n",
       "Dep. Variable:                   camp   Log-Likelihood:                -11.738\n",
       "Model:                   OrderedModel   AIC:                             29.48\n",
       "Method:            Maximum Likelihood   BIC:                             31.39\n",
       "Date:                Tue, 26 Jul 2022                                         \n",
       "Time:                        14:25:36                                         \n",
       "No. Observations:                  14                                         \n",
       "Df Residuals:                      11                                         \n",
       "Df Model:                           3                                         \n",
       "==============================================================================\n",
       "                 coef    std err          z      P>|z|      [0.025      0.975]\n",
       "------------------------------------------------------------------------------\n",
       "degree        -0.8070      0.470     -1.718      0.086      -1.728       0.114\n",
       "1.0/2.0       -0.6815      0.390     -1.748      0.080      -1.446       0.083\n",
       "2.0/3.0       -0.7587      0.657     -1.154      0.248      -2.047       0.529\n",
       "==============================================================================\n",
       "\"\"\""
      ]
     },
     "execution_count": 93,
     "metadata": {},
     "output_type": "execute_result"
    }
   ],
   "source": [
    "ordinalReg(df_afrAnimal_survey_gcm_impr, ['degree'], 3)"
   ]
  },
  {
   "cell_type": "code",
   "execution_count": 94,
   "metadata": {},
   "outputs": [
    {
     "name": "stdout",
     "output_type": "stream",
     "text": [
      "Ordinal Regression:  ['eigenvector']\n",
      "-------------------------------------\n",
      "Optimization terminated successfully.\n",
      "         Current function value: 0.811853\n",
      "         Iterations: 24\n",
      "         Function evaluations: 26\n",
      "         Gradient evaluations: 26\n"
     ]
    },
    {
     "data": {
      "text/html": [
       "<table class=\"simpletable\">\n",
       "<caption>OrderedModel Results</caption>\n",
       "<tr>\n",
       "  <th>Dep. Variable:</th>           <td>camp</td>        <th>  Log-Likelihood:    </th> <td> -11.366</td>\n",
       "</tr>\n",
       "<tr>\n",
       "  <th>Model:</th>               <td>OrderedModel</td>    <th>  AIC:               </th> <td>   28.73</td>\n",
       "</tr>\n",
       "<tr>\n",
       "  <th>Method:</th>           <td>Maximum Likelihood</td> <th>  BIC:               </th> <td>   30.65</td>\n",
       "</tr>\n",
       "<tr>\n",
       "  <th>Date:</th>              <td>Tue, 26 Jul 2022</td>  <th>                     </th>     <td> </td>   \n",
       "</tr>\n",
       "<tr>\n",
       "  <th>Time:</th>                  <td>14:25:37</td>      <th>                     </th>     <td> </td>   \n",
       "</tr>\n",
       "<tr>\n",
       "  <th>No. Observations:</th>       <td>    14</td>       <th>                     </th>     <td> </td>   \n",
       "</tr>\n",
       "<tr>\n",
       "  <th>Df Residuals:</th>           <td>    11</td>       <th>                     </th>     <td> </td>   \n",
       "</tr>\n",
       "<tr>\n",
       "  <th>Df Model:</th>               <td>     3</td>       <th>                     </th>     <td> </td>   \n",
       "</tr>\n",
       "</table>\n",
       "<table class=\"simpletable\">\n",
       "<tr>\n",
       "       <td></td>          <th>coef</th>     <th>std err</th>      <th>z</th>      <th>P>|z|</th>  <th>[0.025</th>    <th>0.975]</th>  \n",
       "</tr>\n",
       "<tr>\n",
       "  <th>eigenvector</th> <td>  -99.1852</td> <td>   91.219</td> <td>   -1.087</td> <td> 0.277</td> <td> -277.971</td> <td>   79.600</td>\n",
       "</tr>\n",
       "<tr>\n",
       "  <th>1.0/2.0</th>     <td> -109.3762</td> <td>   99.896</td> <td>   -1.095</td> <td> 0.274</td> <td> -305.169</td> <td>   86.417</td>\n",
       "</tr>\n",
       "<tr>\n",
       "  <th>2.0/3.0</th>     <td>   -0.7280</td> <td>    0.655</td> <td>   -1.112</td> <td> 0.266</td> <td>   -2.011</td> <td>    0.555</td>\n",
       "</tr>\n",
       "</table>"
      ],
      "text/plain": [
       "<class 'statsmodels.iolib.summary.Summary'>\n",
       "\"\"\"\n",
       "                             OrderedModel Results                             \n",
       "==============================================================================\n",
       "Dep. Variable:                   camp   Log-Likelihood:                -11.366\n",
       "Model:                   OrderedModel   AIC:                             28.73\n",
       "Method:            Maximum Likelihood   BIC:                             30.65\n",
       "Date:                Tue, 26 Jul 2022                                         \n",
       "Time:                        14:25:37                                         \n",
       "No. Observations:                  14                                         \n",
       "Df Residuals:                      11                                         \n",
       "Df Model:                           3                                         \n",
       "===============================================================================\n",
       "                  coef    std err          z      P>|z|      [0.025      0.975]\n",
       "-------------------------------------------------------------------------------\n",
       "eigenvector   -99.1852     91.219     -1.087      0.277    -277.971      79.600\n",
       "1.0/2.0      -109.3762     99.896     -1.095      0.274    -305.169      86.417\n",
       "2.0/3.0        -0.7280      0.655     -1.112      0.266      -2.011       0.555\n",
       "===============================================================================\n",
       "\"\"\""
      ]
     },
     "execution_count": 94,
     "metadata": {},
     "output_type": "execute_result"
    }
   ],
   "source": [
    "ordinalReg(df_afrAnimal_survey_gcm_impr, ['eigenvector'], 3)"
   ]
  },
  {
   "cell_type": "code",
   "execution_count": 95,
   "metadata": {},
   "outputs": [
    {
     "name": "stdout",
     "output_type": "stream",
     "text": [
      "Ordinal Regression:  ['pagerank']\n",
      "-------------------------------------\n",
      "Optimization terminated successfully.\n",
      "         Current function value: 0.831932\n",
      "         Iterations: 9\n",
      "         Function evaluations: 10\n",
      "         Gradient evaluations: 10\n"
     ]
    },
    {
     "data": {
      "text/html": [
       "<table class=\"simpletable\">\n",
       "<caption>OrderedModel Results</caption>\n",
       "<tr>\n",
       "  <th>Dep. Variable:</th>           <td>camp</td>        <th>  Log-Likelihood:    </th> <td> -11.647</td>\n",
       "</tr>\n",
       "<tr>\n",
       "  <th>Model:</th>               <td>OrderedModel</td>    <th>  AIC:               </th> <td>   29.29</td>\n",
       "</tr>\n",
       "<tr>\n",
       "  <th>Method:</th>           <td>Maximum Likelihood</td> <th>  BIC:               </th> <td>   31.21</td>\n",
       "</tr>\n",
       "<tr>\n",
       "  <th>Date:</th>              <td>Tue, 26 Jul 2022</td>  <th>                     </th>     <td> </td>   \n",
       "</tr>\n",
       "<tr>\n",
       "  <th>Time:</th>                  <td>14:25:37</td>      <th>                     </th>     <td> </td>   \n",
       "</tr>\n",
       "<tr>\n",
       "  <th>No. Observations:</th>       <td>    14</td>       <th>                     </th>     <td> </td>   \n",
       "</tr>\n",
       "<tr>\n",
       "  <th>Df Residuals:</th>           <td>    11</td>       <th>                     </th>     <td> </td>   \n",
       "</tr>\n",
       "<tr>\n",
       "  <th>Df Model:</th>               <td>     3</td>       <th>                     </th>     <td> </td>   \n",
       "</tr>\n",
       "</table>\n",
       "<table class=\"simpletable\">\n",
       "<tr>\n",
       "      <td></td>        <th>coef</th>     <th>std err</th>      <th>z</th>      <th>P>|z|</th>  <th>[0.025</th>    <th>0.975]</th>  \n",
       "</tr>\n",
       "<tr>\n",
       "  <th>pagerank</th> <td>   -0.5715</td> <td>    0.326</td> <td>   -1.755</td> <td> 0.079</td> <td>   -1.210</td> <td>    0.067</td>\n",
       "</tr>\n",
       "<tr>\n",
       "  <th>1.0/2.0</th>  <td>   -0.8741</td> <td>    0.419</td> <td>   -2.085</td> <td> 0.037</td> <td>   -1.696</td> <td>   -0.053</td>\n",
       "</tr>\n",
       "<tr>\n",
       "  <th>2.0/3.0</th>  <td>   -0.7455</td> <td>    0.657</td> <td>   -1.134</td> <td> 0.257</td> <td>   -2.034</td> <td>    0.543</td>\n",
       "</tr>\n",
       "</table>"
      ],
      "text/plain": [
       "<class 'statsmodels.iolib.summary.Summary'>\n",
       "\"\"\"\n",
       "                             OrderedModel Results                             \n",
       "==============================================================================\n",
       "Dep. Variable:                   camp   Log-Likelihood:                -11.647\n",
       "Model:                   OrderedModel   AIC:                             29.29\n",
       "Method:            Maximum Likelihood   BIC:                             31.21\n",
       "Date:                Tue, 26 Jul 2022                                         \n",
       "Time:                        14:25:37                                         \n",
       "No. Observations:                  14                                         \n",
       "Df Residuals:                      11                                         \n",
       "Df Model:                           3                                         \n",
       "==============================================================================\n",
       "                 coef    std err          z      P>|z|      [0.025      0.975]\n",
       "------------------------------------------------------------------------------\n",
       "pagerank      -0.5715      0.326     -1.755      0.079      -1.210       0.067\n",
       "1.0/2.0       -0.8741      0.419     -2.085      0.037      -1.696      -0.053\n",
       "2.0/3.0       -0.7455      0.657     -1.134      0.257      -2.034       0.543\n",
       "==============================================================================\n",
       "\"\"\""
      ]
     },
     "execution_count": 95,
     "metadata": {},
     "output_type": "execute_result"
    }
   ],
   "source": [
    "ordinalReg(df_afrAnimal_survey_gcm_impr, ['pagerank'], 3)"
   ]
  },
  {
   "cell_type": "markdown",
   "metadata": {},
   "source": [
    "## Furniture"
   ]
  },
  {
   "cell_type": "code",
   "execution_count": null,
   "metadata": {},
   "outputs": [],
   "source": [
    "# Furniture from the \"Category\": \"dbc:Furniture\"\n",
    "\n",
    "furniture_result = catMerger(df_furniture, df_ig_gcm)\n",
    "df_survey_furniture = pd.read_csv(\"../data/survey_single_cat_files/sv_prep_uri/sv_furniture_prep.csv\", sep=';') # .csv needed no manual uri correction\n",
    "\n",
    "df_furniture_survey_gcm = gcmSurfer(df_survey_furniture, furniture_result)"
   ]
  },
  {
   "cell_type": "code",
   "execution_count": null,
   "metadata": {},
   "outputs": [],
   "source": [
    "df_survey_furniture_impr = pd.read_csv(\"../data/survey_single_cat_files/sv_prep_uri/improved_uri/sv_furniture_impr.csv\", sep=';')\n",
    "\n",
    "df_furniture_survey_gcm_impr = gcmSurfer(df_survey_furniture_impr, furniture_result)"
   ]
  },
  {
   "cell_type": "code",
   "execution_count": null,
   "metadata": {},
   "outputs": [],
   "source": [
    "ordinalReg(df_vegetable_survey_gcm_impr, ['degree'], 3)"
   ]
  },
  {
   "cell_type": "code",
   "execution_count": null,
   "metadata": {},
   "outputs": [],
   "source": [
    "ordinalReg(df_vegetable_survey_gcm_impr, ['eigenvector'], 3)"
   ]
  },
  {
   "cell_type": "code",
   "execution_count": null,
   "metadata": {},
   "outputs": [],
   "source": [
    "ordinalReg(df_vegetable_survey_gcm_impr, ['pagerank'], 3)"
   ]
  },
  {
   "cell_type": "markdown",
   "metadata": {},
   "source": [
    "## Vegetables"
   ]
  },
  {
   "cell_type": "code",
   "execution_count": 96,
   "metadata": {},
   "outputs": [
    {
     "name": "stdout",
     "output_type": "stream",
     "text": [
      "Dataframe merged with shape: (3742, 5)\n",
      "============================\n",
      "Rows with NaN values dropped: 17 from 42 => 40.48% \n",
      "Dataframe merged with shape: (25, 6)\n"
     ]
    }
   ],
   "source": [
    "# Vegetables from the \"Category\": \"dbc:Vegetables\"\n",
    "\n",
    "vegetable_result = catMerger(df_vegetable, df_ig_gcm)\n",
    "df_survey_vegetable = pd.read_csv(\"../data/survey_single_cat_files/sv_prep_uri/sv_vegetables_prep.csv\", sep=';') # .csv needed no manual uri correction\n",
    "\n",
    "df_vegetable_survey_gcm = gcmSurfer(df_survey_vegetable, vegetable_result)"
   ]
  },
  {
   "cell_type": "code",
   "execution_count": 97,
   "metadata": {},
   "outputs": [
    {
     "name": "stdout",
     "output_type": "stream",
     "text": [
      "Rows with NaN values dropped: 8 from 37 => 21.62% \n",
      "Dataframe merged with shape: (29, 6)\n"
     ]
    }
   ],
   "source": [
    "df_survey_vegetable_impr = pd.read_csv(\"../data/survey_single_cat_files/sv_prep_uri/improved_uri/sv_vegetables_impr.csv\", sep=';') # .csv needed no manual uri correction\n",
    "\n",
    "df_vegetable_survey_gcm_impr = gcmSurfer(df_survey_vegetable_impr, vegetable_result)"
   ]
  },
  {
   "cell_type": "code",
   "execution_count": 98,
   "metadata": {},
   "outputs": [
    {
     "name": "stdout",
     "output_type": "stream",
     "text": [
      "Ordinal Regression:  ['degree']\n",
      "-------------------------------------\n",
      "Optimization terminated successfully.\n",
      "         Current function value: 1.057914\n",
      "         Iterations: 8\n",
      "         Function evaluations: 10\n",
      "         Gradient evaluations: 10\n"
     ]
    },
    {
     "data": {
      "text/html": [
       "<table class=\"simpletable\">\n",
       "<caption>OrderedModel Results</caption>\n",
       "<tr>\n",
       "  <th>Dep. Variable:</th>           <td>camp</td>        <th>  Log-Likelihood:    </th> <td> -30.680</td>\n",
       "</tr>\n",
       "<tr>\n",
       "  <th>Model:</th>               <td>OrderedModel</td>    <th>  AIC:               </th> <td>   67.36</td>\n",
       "</tr>\n",
       "<tr>\n",
       "  <th>Method:</th>           <td>Maximum Likelihood</td> <th>  BIC:               </th> <td>   71.46</td>\n",
       "</tr>\n",
       "<tr>\n",
       "  <th>Date:</th>              <td>Tue, 26 Jul 2022</td>  <th>                     </th>     <td> </td>   \n",
       "</tr>\n",
       "<tr>\n",
       "  <th>Time:</th>                  <td>14:26:19</td>      <th>                     </th>     <td> </td>   \n",
       "</tr>\n",
       "<tr>\n",
       "  <th>No. Observations:</th>       <td>    29</td>       <th>                     </th>     <td> </td>   \n",
       "</tr>\n",
       "<tr>\n",
       "  <th>Df Residuals:</th>           <td>    26</td>       <th>                     </th>     <td> </td>   \n",
       "</tr>\n",
       "<tr>\n",
       "  <th>Df Model:</th>               <td>     3</td>       <th>                     </th>     <td> </td>   \n",
       "</tr>\n",
       "</table>\n",
       "<table class=\"simpletable\">\n",
       "<tr>\n",
       "     <td></td>        <th>coef</th>     <th>std err</th>      <th>z</th>      <th>P>|z|</th>  <th>[0.025</th>    <th>0.975]</th>  \n",
       "</tr>\n",
       "<tr>\n",
       "  <th>degree</th>  <td>   -0.0468</td> <td>    0.039</td> <td>   -1.208</td> <td> 0.227</td> <td>   -0.123</td> <td>    0.029</td>\n",
       "</tr>\n",
       "<tr>\n",
       "  <th>1.0/2.0</th> <td>   -0.6594</td> <td>    0.281</td> <td>   -2.348</td> <td> 0.019</td> <td>   -1.210</td> <td>   -0.109</td>\n",
       "</tr>\n",
       "<tr>\n",
       "  <th>2.0/3.0</th> <td>   -0.3034</td> <td>    0.314</td> <td>   -0.968</td> <td> 0.333</td> <td>   -0.918</td> <td>    0.311</td>\n",
       "</tr>\n",
       "</table>"
      ],
      "text/plain": [
       "<class 'statsmodels.iolib.summary.Summary'>\n",
       "\"\"\"\n",
       "                             OrderedModel Results                             \n",
       "==============================================================================\n",
       "Dep. Variable:                   camp   Log-Likelihood:                -30.680\n",
       "Model:                   OrderedModel   AIC:                             67.36\n",
       "Method:            Maximum Likelihood   BIC:                             71.46\n",
       "Date:                Tue, 26 Jul 2022                                         \n",
       "Time:                        14:26:19                                         \n",
       "No. Observations:                  29                                         \n",
       "Df Residuals:                      26                                         \n",
       "Df Model:                           3                                         \n",
       "==============================================================================\n",
       "                 coef    std err          z      P>|z|      [0.025      0.975]\n",
       "------------------------------------------------------------------------------\n",
       "degree        -0.0468      0.039     -1.208      0.227      -0.123       0.029\n",
       "1.0/2.0       -0.6594      0.281     -2.348      0.019      -1.210      -0.109\n",
       "2.0/3.0       -0.3034      0.314     -0.968      0.333      -0.918       0.311\n",
       "==============================================================================\n",
       "\"\"\""
      ]
     },
     "execution_count": 98,
     "metadata": {},
     "output_type": "execute_result"
    }
   ],
   "source": [
    "ordinalReg(df_vegetable_survey_gcm_impr, ['degree'], 3)"
   ]
  },
  {
   "cell_type": "code",
   "execution_count": 99,
   "metadata": {},
   "outputs": [
    {
     "name": "stdout",
     "output_type": "stream",
     "text": [
      "Ordinal Regression:  ['eigenvector']\n",
      "-------------------------------------\n",
      "Optimization terminated successfully.\n",
      "         Current function value: 1.079849\n",
      "         Iterations: 8\n",
      "         Function evaluations: 10\n",
      "         Gradient evaluations: 10\n"
     ]
    },
    {
     "data": {
      "text/html": [
       "<table class=\"simpletable\">\n",
       "<caption>OrderedModel Results</caption>\n",
       "<tr>\n",
       "  <th>Dep. Variable:</th>           <td>camp</td>        <th>  Log-Likelihood:    </th> <td> -31.316</td>\n",
       "</tr>\n",
       "<tr>\n",
       "  <th>Model:</th>               <td>OrderedModel</td>    <th>  AIC:               </th> <td>   68.63</td>\n",
       "</tr>\n",
       "<tr>\n",
       "  <th>Method:</th>           <td>Maximum Likelihood</td> <th>  BIC:               </th> <td>   72.73</td>\n",
       "</tr>\n",
       "<tr>\n",
       "  <th>Date:</th>              <td>Tue, 26 Jul 2022</td>  <th>                     </th>     <td> </td>   \n",
       "</tr>\n",
       "<tr>\n",
       "  <th>Time:</th>                  <td>14:26:19</td>      <th>                     </th>     <td> </td>   \n",
       "</tr>\n",
       "<tr>\n",
       "  <th>No. Observations:</th>       <td>    29</td>       <th>                     </th>     <td> </td>   \n",
       "</tr>\n",
       "<tr>\n",
       "  <th>Df Residuals:</th>           <td>    26</td>       <th>                     </th>     <td> </td>   \n",
       "</tr>\n",
       "<tr>\n",
       "  <th>Df Model:</th>               <td>     3</td>       <th>                     </th>     <td> </td>   \n",
       "</tr>\n",
       "</table>\n",
       "<table class=\"simpletable\">\n",
       "<tr>\n",
       "       <td></td>          <th>coef</th>     <th>std err</th>      <th>z</th>      <th>P>|z|</th>  <th>[0.025</th>    <th>0.975]</th>  \n",
       "</tr>\n",
       "<tr>\n",
       "  <th>eigenvector</th> <td>   -0.3849</td> <td>    0.835</td> <td>   -0.461</td> <td> 0.645</td> <td>   -2.022</td> <td>    1.252</td>\n",
       "</tr>\n",
       "<tr>\n",
       "  <th>1.0/2.0</th>     <td>   -0.5661</td> <td>    0.288</td> <td>   -1.962</td> <td> 0.050</td> <td>   -1.131</td> <td>   -0.001</td>\n",
       "</tr>\n",
       "<tr>\n",
       "  <th>2.0/3.0</th>     <td>   -0.3342</td> <td>    0.314</td> <td>   -1.066</td> <td> 0.286</td> <td>   -0.949</td> <td>    0.280</td>\n",
       "</tr>\n",
       "</table>"
      ],
      "text/plain": [
       "<class 'statsmodels.iolib.summary.Summary'>\n",
       "\"\"\"\n",
       "                             OrderedModel Results                             \n",
       "==============================================================================\n",
       "Dep. Variable:                   camp   Log-Likelihood:                -31.316\n",
       "Model:                   OrderedModel   AIC:                             68.63\n",
       "Method:            Maximum Likelihood   BIC:                             72.73\n",
       "Date:                Tue, 26 Jul 2022                                         \n",
       "Time:                        14:26:19                                         \n",
       "No. Observations:                  29                                         \n",
       "Df Residuals:                      26                                         \n",
       "Df Model:                           3                                         \n",
       "===============================================================================\n",
       "                  coef    std err          z      P>|z|      [0.025      0.975]\n",
       "-------------------------------------------------------------------------------\n",
       "eigenvector    -0.3849      0.835     -0.461      0.645      -2.022       1.252\n",
       "1.0/2.0        -0.5661      0.288     -1.962      0.050      -1.131      -0.001\n",
       "2.0/3.0        -0.3342      0.314     -1.066      0.286      -0.949       0.280\n",
       "===============================================================================\n",
       "\"\"\""
      ]
     },
     "execution_count": 99,
     "metadata": {},
     "output_type": "execute_result"
    }
   ],
   "source": [
    "ordinalReg(df_vegetable_survey_gcm_impr, ['eigenvector'], 3)"
   ]
  },
  {
   "cell_type": "code",
   "execution_count": 100,
   "metadata": {},
   "outputs": [
    {
     "name": "stdout",
     "output_type": "stream",
     "text": [
      "Ordinal Regression:  ['pagerank']\n",
      "-------------------------------------\n",
      "Optimization terminated successfully.\n",
      "         Current function value: 1.055869\n",
      "         Iterations: 8\n",
      "         Function evaluations: 10\n",
      "         Gradient evaluations: 10\n"
     ]
    },
    {
     "data": {
      "text/html": [
       "<table class=\"simpletable\">\n",
       "<caption>OrderedModel Results</caption>\n",
       "<tr>\n",
       "  <th>Dep. Variable:</th>           <td>camp</td>        <th>  Log-Likelihood:    </th> <td> -30.620</td>\n",
       "</tr>\n",
       "<tr>\n",
       "  <th>Model:</th>               <td>OrderedModel</td>    <th>  AIC:               </th> <td>   67.24</td>\n",
       "</tr>\n",
       "<tr>\n",
       "  <th>Method:</th>           <td>Maximum Likelihood</td> <th>  BIC:               </th> <td>   71.34</td>\n",
       "</tr>\n",
       "<tr>\n",
       "  <th>Date:</th>              <td>Tue, 26 Jul 2022</td>  <th>                     </th>     <td> </td>   \n",
       "</tr>\n",
       "<tr>\n",
       "  <th>Time:</th>                  <td>14:26:19</td>      <th>                     </th>     <td> </td>   \n",
       "</tr>\n",
       "<tr>\n",
       "  <th>No. Observations:</th>       <td>    29</td>       <th>                     </th>     <td> </td>   \n",
       "</tr>\n",
       "<tr>\n",
       "  <th>Df Residuals:</th>           <td>    26</td>       <th>                     </th>     <td> </td>   \n",
       "</tr>\n",
       "<tr>\n",
       "  <th>Df Model:</th>               <td>     3</td>       <th>                     </th>     <td> </td>   \n",
       "</tr>\n",
       "</table>\n",
       "<table class=\"simpletable\">\n",
       "<tr>\n",
       "      <td></td>        <th>coef</th>     <th>std err</th>      <th>z</th>      <th>P>|z|</th>  <th>[0.025</th>    <th>0.975]</th>  \n",
       "</tr>\n",
       "<tr>\n",
       "  <th>pagerank</th> <td>   -0.0498</td> <td>    0.040</td> <td>   -1.249</td> <td> 0.212</td> <td>   -0.128</td> <td>    0.028</td>\n",
       "</tr>\n",
       "<tr>\n",
       "  <th>1.0/2.0</th>  <td>   -0.6699</td> <td>    0.283</td> <td>   -2.371</td> <td> 0.018</td> <td>   -1.224</td> <td>   -0.116</td>\n",
       "</tr>\n",
       "<tr>\n",
       "  <th>2.0/3.0</th>  <td>   -0.3010</td> <td>    0.313</td> <td>   -0.960</td> <td> 0.337</td> <td>   -0.915</td> <td>    0.313</td>\n",
       "</tr>\n",
       "</table>"
      ],
      "text/plain": [
       "<class 'statsmodels.iolib.summary.Summary'>\n",
       "\"\"\"\n",
       "                             OrderedModel Results                             \n",
       "==============================================================================\n",
       "Dep. Variable:                   camp   Log-Likelihood:                -30.620\n",
       "Model:                   OrderedModel   AIC:                             67.24\n",
       "Method:            Maximum Likelihood   BIC:                             71.34\n",
       "Date:                Tue, 26 Jul 2022                                         \n",
       "Time:                        14:26:19                                         \n",
       "No. Observations:                  29                                         \n",
       "Df Residuals:                      26                                         \n",
       "Df Model:                           3                                         \n",
       "==============================================================================\n",
       "                 coef    std err          z      P>|z|      [0.025      0.975]\n",
       "------------------------------------------------------------------------------\n",
       "pagerank      -0.0498      0.040     -1.249      0.212      -0.128       0.028\n",
       "1.0/2.0       -0.6699      0.283     -2.371      0.018      -1.224      -0.116\n",
       "2.0/3.0       -0.3010      0.313     -0.960      0.337      -0.915       0.313\n",
       "==============================================================================\n",
       "\"\"\""
      ]
     },
     "execution_count": 100,
     "metadata": {},
     "output_type": "execute_result"
    }
   ],
   "source": [
    "ordinalReg(df_vegetable_survey_gcm_impr, ['pagerank'], 3)"
   ]
  },
  {
   "cell_type": "markdown",
   "metadata": {},
   "source": [
    "## Fast Food"
   ]
  },
  {
   "cell_type": "code",
   "execution_count": 101,
   "metadata": {},
   "outputs": [
    {
     "name": "stdout",
     "output_type": "stream",
     "text": [
      "Dataframe merged with shape: (4693, 5)\n",
      "============================\n",
      "Rows with NaN values dropped: 17 from 31 => 54.84% \n",
      "Dataframe merged with shape: (14, 6)\n"
     ]
    }
   ],
   "source": [
    "# Types of fast food from the \"Category\": \"dbc:Fast_food\" \n",
    "\n",
    "fastfood_result = catMerger(df_fastFood, df_ig_gcm)\n",
    "df_survey_fastfood = pd.read_csv(\"../data/survey_single_cat_files/sv_prep_uri/sv_fast_food_prep.csv\", sep=';')\n",
    "\n",
    "df_fastfood_survey_gcm = gcmSurfer(df_survey_fastfood, fastfood_result)"
   ]
  },
  {
   "cell_type": "code",
   "execution_count": 102,
   "metadata": {},
   "outputs": [
    {
     "name": "stdout",
     "output_type": "stream",
     "text": [
      "Rows with NaN values dropped: 9 from 27 => 33.33% \n",
      "Dataframe merged with shape: (18, 6)\n"
     ]
    }
   ],
   "source": [
    "df_survey_fastfood_impr = pd.read_csv(\"../data/survey_single_cat_files/sv_prep_uri/improved_uri/sv_fast_food_impr.csv\", sep=';')\n",
    "\n",
    "df_fastfood_survey_gcm_impr = gcmSurfer(df_survey_fastfood_impr, fastfood_result)"
   ]
  },
  {
   "cell_type": "code",
   "execution_count": 103,
   "metadata": {},
   "outputs": [
    {
     "name": "stdout",
     "output_type": "stream",
     "text": [
      "Ordinal Regression:  ['degree']\n",
      "-------------------------------------\n",
      "Optimization terminated successfully.\n",
      "         Current function value: 0.583724\n",
      "         Iterations: 14\n",
      "         Function evaluations: 16\n",
      "         Gradient evaluations: 16\n"
     ]
    },
    {
     "data": {
      "text/html": [
       "<table class=\"simpletable\">\n",
       "<caption>OrderedModel Results</caption>\n",
       "<tr>\n",
       "  <th>Dep. Variable:</th>           <td>camp</td>        <th>  Log-Likelihood:    </th> <td> -10.507</td>\n",
       "</tr>\n",
       "<tr>\n",
       "  <th>Model:</th>               <td>OrderedModel</td>    <th>  AIC:               </th> <td>   27.01</td>\n",
       "</tr>\n",
       "<tr>\n",
       "  <th>Method:</th>           <td>Maximum Likelihood</td> <th>  BIC:               </th> <td>   29.69</td>\n",
       "</tr>\n",
       "<tr>\n",
       "  <th>Date:</th>              <td>Tue, 26 Jul 2022</td>  <th>                     </th>     <td> </td>   \n",
       "</tr>\n",
       "<tr>\n",
       "  <th>Time:</th>                  <td>14:26:32</td>      <th>                     </th>     <td> </td>   \n",
       "</tr>\n",
       "<tr>\n",
       "  <th>No. Observations:</th>       <td>    18</td>       <th>                     </th>     <td> </td>   \n",
       "</tr>\n",
       "<tr>\n",
       "  <th>Df Residuals:</th>           <td>    15</td>       <th>                     </th>     <td> </td>   \n",
       "</tr>\n",
       "<tr>\n",
       "  <th>Df Model:</th>               <td>     3</td>       <th>                     </th>     <td> </td>   \n",
       "</tr>\n",
       "</table>\n",
       "<table class=\"simpletable\">\n",
       "<tr>\n",
       "     <td></td>        <th>coef</th>     <th>std err</th>      <th>z</th>      <th>P>|z|</th>  <th>[0.025</th>    <th>0.975]</th>  \n",
       "</tr>\n",
       "<tr>\n",
       "  <th>degree</th>  <td>   -0.4547</td> <td>    0.240</td> <td>   -1.893</td> <td> 0.058</td> <td>   -0.926</td> <td>    0.016</td>\n",
       "</tr>\n",
       "<tr>\n",
       "  <th>1.0/2.0</th> <td>   -1.5054</td> <td>    0.523</td> <td>   -2.878</td> <td> 0.004</td> <td>   -2.530</td> <td>   -0.480</td>\n",
       "</tr>\n",
       "<tr>\n",
       "  <th>2.0/3.0</th> <td>   -0.5895</td> <td>    0.655</td> <td>   -0.899</td> <td> 0.368</td> <td>   -1.874</td> <td>    0.695</td>\n",
       "</tr>\n",
       "</table>"
      ],
      "text/plain": [
       "<class 'statsmodels.iolib.summary.Summary'>\n",
       "\"\"\"\n",
       "                             OrderedModel Results                             \n",
       "==============================================================================\n",
       "Dep. Variable:                   camp   Log-Likelihood:                -10.507\n",
       "Model:                   OrderedModel   AIC:                             27.01\n",
       "Method:            Maximum Likelihood   BIC:                             29.69\n",
       "Date:                Tue, 26 Jul 2022                                         \n",
       "Time:                        14:26:32                                         \n",
       "No. Observations:                  18                                         \n",
       "Df Residuals:                      15                                         \n",
       "Df Model:                           3                                         \n",
       "==============================================================================\n",
       "                 coef    std err          z      P>|z|      [0.025      0.975]\n",
       "------------------------------------------------------------------------------\n",
       "degree        -0.4547      0.240     -1.893      0.058      -0.926       0.016\n",
       "1.0/2.0       -1.5054      0.523     -2.878      0.004      -2.530      -0.480\n",
       "2.0/3.0       -0.5895      0.655     -0.899      0.368      -1.874       0.695\n",
       "==============================================================================\n",
       "\"\"\""
      ]
     },
     "execution_count": 103,
     "metadata": {},
     "output_type": "execute_result"
    }
   ],
   "source": [
    "ordinalReg(df_fastfood_survey_gcm_impr, ['degree'], 3)"
   ]
  },
  {
   "cell_type": "code",
   "execution_count": 104,
   "metadata": {},
   "outputs": [
    {
     "name": "stdout",
     "output_type": "stream",
     "text": [
      "Ordinal Regression:  ['eigenvector']\n",
      "-------------------------------------\n",
      "Optimization terminated successfully.\n",
      "         Current function value: 0.874093\n",
      "         Iterations: 30\n",
      "         Function evaluations: 31\n",
      "         Gradient evaluations: 31\n"
     ]
    },
    {
     "data": {
      "text/html": [
       "<table class=\"simpletable\">\n",
       "<caption>OrderedModel Results</caption>\n",
       "<tr>\n",
       "  <th>Dep. Variable:</th>           <td>camp</td>        <th>  Log-Likelihood:    </th> <td> -15.734</td>\n",
       "</tr>\n",
       "<tr>\n",
       "  <th>Model:</th>               <td>OrderedModel</td>    <th>  AIC:               </th> <td>   37.47</td>\n",
       "</tr>\n",
       "<tr>\n",
       "  <th>Method:</th>           <td>Maximum Likelihood</td> <th>  BIC:               </th> <td>   40.14</td>\n",
       "</tr>\n",
       "<tr>\n",
       "  <th>Date:</th>              <td>Tue, 26 Jul 2022</td>  <th>                     </th>     <td> </td>   \n",
       "</tr>\n",
       "<tr>\n",
       "  <th>Time:</th>                  <td>14:26:32</td>      <th>                     </th>     <td> </td>   \n",
       "</tr>\n",
       "<tr>\n",
       "  <th>No. Observations:</th>       <td>    18</td>       <th>                     </th>     <td> </td>   \n",
       "</tr>\n",
       "<tr>\n",
       "  <th>Df Residuals:</th>           <td>    15</td>       <th>                     </th>     <td> </td>   \n",
       "</tr>\n",
       "<tr>\n",
       "  <th>Df Model:</th>               <td>     3</td>       <th>                     </th>     <td> </td>   \n",
       "</tr>\n",
       "</table>\n",
       "<table class=\"simpletable\">\n",
       "<tr>\n",
       "       <td></td>          <th>coef</th>     <th>std err</th>      <th>z</th>      <th>P>|z|</th>  <th>[0.025</th>    <th>0.975]</th>  \n",
       "</tr>\n",
       "<tr>\n",
       "  <th>eigenvector</th> <td> -176.9676</td> <td>  130.372</td> <td>   -1.357</td> <td> 0.175</td> <td> -432.493</td> <td>   78.558</td>\n",
       "</tr>\n",
       "<tr>\n",
       "  <th>1.0/2.0</th>     <td>   87.1902</td> <td>   64.577</td> <td>    1.350</td> <td> 0.177</td> <td>  -39.378</td> <td>  213.758</td>\n",
       "</tr>\n",
       "<tr>\n",
       "  <th>2.0/3.0</th>     <td>   -1.1415</td> <td>    0.668</td> <td>   -1.710</td> <td> 0.087</td> <td>   -2.450</td> <td>    0.167</td>\n",
       "</tr>\n",
       "</table>"
      ],
      "text/plain": [
       "<class 'statsmodels.iolib.summary.Summary'>\n",
       "\"\"\"\n",
       "                             OrderedModel Results                             \n",
       "==============================================================================\n",
       "Dep. Variable:                   camp   Log-Likelihood:                -15.734\n",
       "Model:                   OrderedModel   AIC:                             37.47\n",
       "Method:            Maximum Likelihood   BIC:                             40.14\n",
       "Date:                Tue, 26 Jul 2022                                         \n",
       "Time:                        14:26:32                                         \n",
       "No. Observations:                  18                                         \n",
       "Df Residuals:                      15                                         \n",
       "Df Model:                           3                                         \n",
       "===============================================================================\n",
       "                  coef    std err          z      P>|z|      [0.025      0.975]\n",
       "-------------------------------------------------------------------------------\n",
       "eigenvector  -176.9676    130.372     -1.357      0.175    -432.493      78.558\n",
       "1.0/2.0        87.1902     64.577      1.350      0.177     -39.378     213.758\n",
       "2.0/3.0        -1.1415      0.668     -1.710      0.087      -2.450       0.167\n",
       "===============================================================================\n",
       "\"\"\""
      ]
     },
     "execution_count": 104,
     "metadata": {},
     "output_type": "execute_result"
    }
   ],
   "source": [
    "ordinalReg(df_fastfood_survey_gcm_impr, ['eigenvector'], 3)"
   ]
  },
  {
   "cell_type": "code",
   "execution_count": 105,
   "metadata": {},
   "outputs": [
    {
     "name": "stdout",
     "output_type": "stream",
     "text": [
      "Ordinal Regression:  ['pagerank']\n",
      "-------------------------------------\n",
      "Optimization terminated successfully.\n",
      "         Current function value: 0.585697\n",
      "         Iterations: 14\n",
      "         Function evaluations: 16\n",
      "         Gradient evaluations: 16\n"
     ]
    },
    {
     "data": {
      "text/html": [
       "<table class=\"simpletable\">\n",
       "<caption>OrderedModel Results</caption>\n",
       "<tr>\n",
       "  <th>Dep. Variable:</th>           <td>camp</td>        <th>  Log-Likelihood:    </th> <td> -10.543</td>\n",
       "</tr>\n",
       "<tr>\n",
       "  <th>Model:</th>               <td>OrderedModel</td>    <th>  AIC:               </th> <td>   27.09</td>\n",
       "</tr>\n",
       "<tr>\n",
       "  <th>Method:</th>           <td>Maximum Likelihood</td> <th>  BIC:               </th> <td>   29.76</td>\n",
       "</tr>\n",
       "<tr>\n",
       "  <th>Date:</th>              <td>Tue, 26 Jul 2022</td>  <th>                     </th>     <td> </td>   \n",
       "</tr>\n",
       "<tr>\n",
       "  <th>Time:</th>                  <td>14:26:32</td>      <th>                     </th>     <td> </td>   \n",
       "</tr>\n",
       "<tr>\n",
       "  <th>No. Observations:</th>       <td>    18</td>       <th>                     </th>     <td> </td>   \n",
       "</tr>\n",
       "<tr>\n",
       "  <th>Df Residuals:</th>           <td>    15</td>       <th>                     </th>     <td> </td>   \n",
       "</tr>\n",
       "<tr>\n",
       "  <th>Df Model:</th>               <td>     3</td>       <th>                     </th>     <td> </td>   \n",
       "</tr>\n",
       "</table>\n",
       "<table class=\"simpletable\">\n",
       "<tr>\n",
       "      <td></td>        <th>coef</th>     <th>std err</th>      <th>z</th>      <th>P>|z|</th>  <th>[0.025</th>    <th>0.975]</th>  \n",
       "</tr>\n",
       "<tr>\n",
       "  <th>pagerank</th> <td>   -0.4209</td> <td>    0.215</td> <td>   -1.959</td> <td> 0.050</td> <td>   -0.842</td> <td>    0.000</td>\n",
       "</tr>\n",
       "<tr>\n",
       "  <th>1.0/2.0</th>  <td>   -1.4863</td> <td>    0.516</td> <td>   -2.879</td> <td> 0.004</td> <td>   -2.498</td> <td>   -0.474</td>\n",
       "</tr>\n",
       "<tr>\n",
       "  <th>2.0/3.0</th>  <td>   -0.5943</td> <td>    0.655</td> <td>   -0.907</td> <td> 0.365</td> <td>   -1.879</td> <td>    0.690</td>\n",
       "</tr>\n",
       "</table>"
      ],
      "text/plain": [
       "<class 'statsmodels.iolib.summary.Summary'>\n",
       "\"\"\"\n",
       "                             OrderedModel Results                             \n",
       "==============================================================================\n",
       "Dep. Variable:                   camp   Log-Likelihood:                -10.543\n",
       "Model:                   OrderedModel   AIC:                             27.09\n",
       "Method:            Maximum Likelihood   BIC:                             29.76\n",
       "Date:                Tue, 26 Jul 2022                                         \n",
       "Time:                        14:26:32                                         \n",
       "No. Observations:                  18                                         \n",
       "Df Residuals:                      15                                         \n",
       "Df Model:                           3                                         \n",
       "==============================================================================\n",
       "                 coef    std err          z      P>|z|      [0.025      0.975]\n",
       "------------------------------------------------------------------------------\n",
       "pagerank      -0.4209      0.215     -1.959      0.050      -0.842       0.000\n",
       "1.0/2.0       -1.4863      0.516     -2.879      0.004      -2.498      -0.474\n",
       "2.0/3.0       -0.5943      0.655     -0.907      0.365      -1.879       0.690\n",
       "==============================================================================\n",
       "\"\"\""
      ]
     },
     "execution_count": 105,
     "metadata": {},
     "output_type": "execute_result"
    }
   ],
   "source": [
    "ordinalReg(df_fastfood_survey_gcm_impr, ['pagerank'], 3)"
   ]
  },
  {
   "cell_type": "markdown",
   "metadata": {},
   "source": [
    "## European landmarks/sights"
   ]
  },
  {
   "cell_type": "code",
   "execution_count": 106,
   "metadata": {},
   "outputs": [
    {
     "name": "stdout",
     "output_type": "stream",
     "text": [
      "Dataframe merged with shape: (1403, 5)\n",
      "============================\n",
      "Rows with NaN values dropped: 59 from 65 => 90.77% \n",
      "Dataframe merged with shape: (6, 6)\n"
     ]
    }
   ],
   "source": [
    "# European Landmark/Sight from multiple \"Category\": \"dbc:Landmarks_in_x\" with x being a country from europe\n",
    "\n",
    "euSight_result = catMerger(df_euSight, df_ig_gcm)\n",
    "df_survey_euSight = pd.read_csv(\"../data/survey_single_cat_files/sv_prep_uri/sv_european_landmarks_prep.csv\", sep=';')\n",
    "\n",
    "df_euSight_survey_gcm = gcmSurfer(df_survey_euSight, euSight_result)"
   ]
  },
  {
   "cell_type": "code",
   "execution_count": null,
   "metadata": {},
   "outputs": [],
   "source": [
    "df_survey_euSight_impr = pd.read_csv(\"../data/survey_single_cat_files/sv_prep_uri/improved_uri/sv_european_landmarks_impr.csv\", sep=';')\n",
    "\n",
    "df_euSight_survey_gcm_impr = gcmSurfer(df_survey_euSight_impr, euSight_result)"
   ]
  },
  {
   "cell_type": "code",
   "execution_count": null,
   "metadata": {},
   "outputs": [],
   "source": [
    "ordinalReg(df_euSight_survey_gcm, ['degree'], 3)"
   ]
  },
  {
   "cell_type": "code",
   "execution_count": null,
   "metadata": {},
   "outputs": [],
   "source": [
    "ordinalReg(df_euSight_survey_gcm, ['eigenvector'], 3)"
   ]
  },
  {
   "cell_type": "code",
   "execution_count": null,
   "metadata": {},
   "outputs": [],
   "source": [
    "ordinalReg(df_euSight_survey_gcm, ['pagerank'], 3)"
   ]
  },
  {
   "cell_type": "markdown",
   "metadata": {},
   "source": [
    "## DAX companies"
   ]
  },
  {
   "cell_type": "code",
   "execution_count": null,
   "metadata": {},
   "outputs": [],
   "source": [
    "# DAX company from the \"Type\": \"dbo:Company\" and \"dbp:tradedAs\" -> \"dbr:DAX\"\n",
    "\n",
    "daxCo_result = catMerger(df_daxCo, df_ig_gcm)\n",
    "df_daxCo = pd.read_csv(\"../data/survey_single_cat_files/sv_prep_uri/sv_dax_companies_prep.csv\", sep=';')\n",
    "\n",
    "df_daxCo_survey_gcm = gcmSurfer(df_daxCo, daxCo_result)"
   ]
  },
  {
   "cell_type": "code",
   "execution_count": null,
   "metadata": {},
   "outputs": [],
   "source": [
    "df_daxCo_impr = pd.read_csv(\"../data/survey_single_cat_files/sv_prep_uri/improved_uri/sv_dax_companies_impr.csv\", sep=';')\n",
    "\n",
    "df_daxCo_survey_gcm_impr = gcmSurfer(df_daxCo_impr, daxCo_result)"
   ]
  },
  {
   "cell_type": "code",
   "execution_count": null,
   "metadata": {},
   "outputs": [],
   "source": [
    "df_daxCo_survey_gcm"
   ]
  },
  {
   "cell_type": "code",
   "execution_count": null,
   "metadata": {},
   "outputs": [],
   "source": [
    "ordinalReg(df_daxCo_survey_gcm, ['degree'], 3)"
   ]
  },
  {
   "cell_type": "code",
   "execution_count": null,
   "metadata": {},
   "outputs": [],
   "source": [
    "ordinalReg(df_daxCo_survey_gcm, ['eigenvector'], 3)"
   ]
  },
  {
   "cell_type": "code",
   "execution_count": null,
   "metadata": {},
   "outputs": [],
   "source": [
    "ordinalReg(df_daxCo_survey_gcm, ['pagerank'], 3)"
   ]
  },
  {
   "cell_type": "markdown",
   "metadata": {},
   "source": [
    "## US companies"
   ]
  },
  {
   "cell_type": "code",
   "execution_count": null,
   "metadata": {},
   "outputs": [],
   "source": [
    "# US company from \"Category\": Lists_of_companies_of_the_United_States\n",
    "\n",
    "usCo_result = catMerger(df_usCo, df_ig_gcm)\n",
    "df_survey_usCo = pd.read_csv(\"../data/survey_single_cat_files/sv_prep_uri/sv_us_companies_prep.csv\", sep=';', encoding=\"ISO-8859-1\")\n",
    "\n",
    "df_usCo_survey_gcm = gcmSurfer(df_survey_usCo, usCo_result)"
   ]
  },
  {
   "cell_type": "code",
   "execution_count": null,
   "metadata": {},
   "outputs": [],
   "source": [
    "usCo_result = catMerger(df_usCo, df_ig_gcm)\n",
    "df_survey_usCo_impr = pd.read_csv(\"../data/survey_single_cat_files/sv_prep_uri/improved_uri/sv_us_companies_impr.csv\", sep=';', encoding=\"ISO-8859-1\") # .csv needed no manual uri correction\n",
    "\n",
    "df_usCo_survey_gcm_impr = gcmSurfer(df_survey_usCo_impr, usCo_result)"
   ]
  },
  {
   "cell_type": "code",
   "execution_count": null,
   "metadata": {},
   "outputs": [],
   "source": [
    "ordinalReg(df_usCo_survey_gcm, ['degree'], 3)"
   ]
  },
  {
   "cell_type": "code",
   "execution_count": null,
   "metadata": {},
   "outputs": [],
   "source": [
    "ordinalReg(df_usCo_survey_gcm, ['eigenvector'], 3)"
   ]
  },
  {
   "cell_type": "code",
   "execution_count": null,
   "metadata": {},
   "outputs": [],
   "source": [
    "ordinalReg(df_usCo_survey_gcm, ['pagerank'], 3)"
   ]
  },
  {
   "cell_type": "markdown",
   "metadata": {},
   "source": [
    "## US technology companies"
   ]
  },
  {
   "cell_type": "code",
   "execution_count": null,
   "metadata": {},
   "outputs": [],
   "source": [
    "# US tech company from the \"Category\": \"dbc:Technology_companies_of_the_United_States\"\n",
    "\n",
    "usTech_result = catMerger(df_usTechCo, df_ig_gcm)\n",
    "df_survey_usTech = pd.read_csv(\"../data/survey_single_cat_files/sv_prep_uri/sv_us_tech_companies_prep.csv\", sep=';') # .csv needed no manual uri correction\n",
    "\n",
    "df_usTech_survey_gcm = gcmSurfer(df_survey_usTech, usTech_result)"
   ]
  },
  {
   "cell_type": "code",
   "execution_count": null,
   "metadata": {},
   "outputs": [],
   "source": [
    "df_survey_usTech_impr = pd.read_csv(\"../data/survey_single_cat_files/sv_prep_uri/improved_uri/sv_us_tech_companies_impr.csv\", sep=';') # .csv needed no manual uri correction\n",
    "\n",
    "df_usTech_survey_gcm_impr = gcmSurfer(df_survey_usTech_impr, usTech_result)"
   ]
  },
  {
   "cell_type": "code",
   "execution_count": null,
   "metadata": {},
   "outputs": [],
   "source": [
    "ordinalReg(df_usTech_survey_gcm, ['degree'], 3)"
   ]
  },
  {
   "cell_type": "code",
   "execution_count": null,
   "metadata": {},
   "outputs": [],
   "source": [
    "ordinalReg(df_usTech_survey_gcm, ['eigenvector'], 3)"
   ]
  },
  {
   "cell_type": "code",
   "execution_count": null,
   "metadata": {},
   "outputs": [],
   "source": [
    "ordinalReg(df_usTech_survey_gcm, ['pagerank'], 3)"
   ]
  }
 ],
 "metadata": {
  "kernelspec": {
   "display_name": "Python 3",
   "language": "python",
   "name": "python3"
  },
  "language_info": {
   "codemirror_mode": {
    "name": "ipython",
    "version": 3
   },
   "file_extension": ".py",
   "mimetype": "text/x-python",
   "name": "python",
   "nbconvert_exporter": "python",
   "pygments_lexer": "ipython3",
   "version": "3.7.6"
  }
 },
 "nbformat": 4,
 "nbformat_minor": 4
}
